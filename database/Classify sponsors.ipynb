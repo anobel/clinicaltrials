{
 "metadata": {
  "name": "",
  "signature": "sha256:2e862d7e6ec47d1c71172b8b83ca9b4c9611fd757b31e8b9c143fff23926bd93"
 },
 "nbformat": 3,
 "nbformat_minor": 0,
 "worksheets": [
  {
   "cells": [
    {
     "cell_type": "markdown",
     "metadata": {},
     "source": [
      "#### Load necessary packages and extensions"
     ]
    },
    {
     "cell_type": "code",
     "collapsed": false,
     "input": [
      "%load_ext sql"
     ],
     "language": "python",
     "metadata": {},
     "outputs": []
    },
    {
     "cell_type": "markdown",
     "metadata": {},
     "source": [
      "#### Get data from database"
     ]
    },
    {
     "cell_type": "code",
     "collapsed": false,
     "input": [
      "# sql connection parameters come from connect.py\n",
      "have_connect = !ls connect.py 2>/dev/null\n",
      "if len(have_connect) == 0:\n",
      "    !mv ../connect.py .\n",
      "from connect import *\n",
      "\n",
      "get_ipython().magic('sql mysql://' + mysqlusername + ':' + mysqlpassword + '@' + mysqlserver + ':3306/' + mysqldbname)\n",
      "conditions = %sql select nct_id, mesh_term from condition_browse "
     ],
     "language": "python",
     "metadata": {},
     "outputs": []
    },
    {
     "cell_type": "markdown",
     "metadata": {},
     "source": [
      "#### Update academic institutions list according to university-affiliated hopitals from Wikipedia"
     ]
    },
    {
     "cell_type": "code",
     "collapsed": false,
     "input": [
      "f = open('hospital_list.txt','r')\n",
      "hospitals = list([r.strip() for r in f.readlines()])\n",
      "sponsors = %sql select distinct agency, agency_class from sponsors"
     ],
     "language": "python",
     "metadata": {},
     "outputs": []
    },
    {
     "cell_type": "code",
     "collapsed": false,
     "input": [
      "academics = [a for a, ac in list(sponsors) \n",
      "               if (max([w in a.lower() for w in ['university','college','school','cancer center']]) or \n",
      "                   max([a.lower() in h.lower() for h in hospitals])) and len(a) >= 10]"
     ],
     "language": "python",
     "metadata": {},
     "outputs": []
    },
    {
     "cell_type": "code",
     "collapsed": false,
     "input": [
      "for a in academics:\n",
      "    %sql update sponsors_univ set agency_class = 'Academic' where agency = :a"
     ],
     "language": "python",
     "metadata": {},
     "outputs": []
    },
    {
     "cell_type": "code",
     "collapsed": false,
     "input": [],
     "language": "python",
     "metadata": {},
     "outputs": []
    }
   ],
   "metadata": {}
  }
 ]
}