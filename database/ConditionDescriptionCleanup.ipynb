{
 "metadata": {
  "name": "",
  "signature": "sha256:4aeebf1b69880bfcb8572cceda773026909ab7ee4ecb36250762e7c2efc56527"
 },
 "nbformat": 3,
 "nbformat_minor": 0,
 "worksheets": [
  {
   "cells": [
    {
     "cell_type": "code",
     "collapsed": false,
     "input": [
      "import cPickle as pickle, requests, codecs, time\n",
      "from bs4 import BeautifulSoup\n",
      "from bs4.element import Tag\n",
      "\n",
      "from sqlalchemy import create_engine\n",
      "from connect import mysqlusername, mysqlpassword, mysqlserver, mysqldbname\n",
      "from collections import defaultdict\n",
      "\n",
      "#from sqlalchemy.orm import sessionmaker\n",
      "#from db_models import Base, ClinicalStudy, Facilities, Sponsors\n",
      "\n",
      "from sqlalchemy.sql import func, select, and_, or_, not_, desc, bindparam\n",
      "from db_tables import metadata, ConditionDescription"
     ],
     "language": "python",
     "metadata": {},
     "outputs": []
    },
    {
     "cell_type": "code",
     "collapsed": false,
     "input": [
      "mysqlserver = 'localhost'\n",
      "engine = create_engine('mysql://%s:%s@%s/%s' % (mysqlusername, mysqlpassword, mysqlserver, mysqldbname))\n",
      "conn = engine.connect()\n",
      "metadata.create_all(engine)"
     ],
     "language": "python",
     "metadata": {},
     "outputs": []
    },
    {
     "cell_type": "code",
     "collapsed": false,
     "input": [
      "need_desc = conn.execute(ConditionDescription.select().where(ConditionDescription.c.description == '')).fetchall()"
     ],
     "language": "python",
     "metadata": {},
     "outputs": []
    },
    {
     "cell_type": "code",
     "collapsed": false,
     "input": [
      "to_get = {t[1]: t[0] for t in need_desc}"
     ],
     "language": "python",
     "metadata": {},
     "outputs": []
    },
    {
     "cell_type": "code",
     "collapsed": false,
     "input": [
      "enc = 'http://encyclopedia.thefreedictionary.com/%s'\n",
      "dic = 'http://medical-dictionary.thefreedictionary.com/%s'\n",
      "nlm = 'http://wsearch.nlm.nih.gov/ws/query?db=healthTopics&term=%s'\n",
      "wiki_rev = 'http://en.wikipedia.org/w/api.php?format=xml&action=query&titles=%s&prop=revisions&rvprop=content'\n",
      "wiki_ext = 'http://en.wikipedia.org/w/api.php?format=xml&action=query&prop=extracts&exintro=&titles=%s'"
     ],
     "language": "python",
     "metadata": {},
     "outputs": []
    },
    {
     "cell_type": "code",
     "collapsed": false,
     "input": [
      "descriptions = {}\n",
      "not_found = []\n",
      "do_over = []"
     ],
     "language": "python",
     "metadata": {},
     "outputs": []
    },
    {
     "cell_type": "code",
     "collapsed": false,
     "input": [
      "to_do = to_get.keys()\n",
      "print len(to_do)"
     ],
     "language": "python",
     "metadata": {},
     "outputs": []
    },
    {
     "cell_type": "code",
     "collapsed": false,
     "input": [
      "for i in range(len(to_do)): \n",
      "    \n",
      "    term = to_do[i]\n",
      "    \n",
      "    if term not in descriptions and term not in not_found:\n",
      "        \n",
      "        r = requests.get(nlm % term)\n",
      "        if r.status_code == 429:\n",
      "            sleep(310)\n",
      "            r = requests.get(nlm % term)\n",
      "        soup = BeautifulSoup(r.text)\n",
      "        \n",
      "        if int(soup.nlmsearchresult.count.contents[0]) > 0:\n",
      "            summary = BeautifulSoup(soup.list.document.find('content', {'name': 'FullSummary'}).contents[0])\n",
      "            descriptions[term] = (summary,'NLM')\n",
      "            time.sleep(1)\n",
      "        else:\n",
      "            not_found.append(term)\n",
      "    \n",
      "    if i % 10 == 0: print '**************** %d ****************' % i"
     ],
     "language": "python",
     "metadata": {},
     "outputs": []
    },
    {
     "cell_type": "code",
     "collapsed": false,
     "input": [
      "print len(descriptions)\n",
      "print len(not_found)\n",
      "print len(to_do) - len(not_found)"
     ],
     "language": "python",
     "metadata": {},
     "outputs": []
    },
    {
     "cell_type": "code",
     "collapsed": false,
     "input": [
      "to_do = not_found[:]\n",
      "not_found = []"
     ],
     "language": "python",
     "metadata": {},
     "outputs": []
    },
    {
     "cell_type": "code",
     "collapsed": false,
     "input": [
      "for i in range(len(to_do)):\n",
      "    \n",
      "    term = to_do[i]\n",
      "    \n",
      "    if term not in descriptions and term not in not_found:\n",
      "        \n",
      "        r = requests.get(wiki_rev % term)\n",
      "        soup = BeautifulSoup(r.text)\n",
      "        \n",
      "        if soup.page.revisions:\n",
      "            for rev in soup.page.revisions:\n",
      "                txt = rev.contents[0]\n",
      "                if '#REDIRECT' in txt:\n",
      "                    term = txt[12:txt.index(']]')]\n",
      "            \n",
      "            r = requests.get(wiki_ext % term)\n",
      "            soup = BeautifulSoup(r.text)\n",
      "            \n",
      "            if soup.page.find('extract'):\n",
      "                descriptions[to_do[i]] = (soup.page.find('extract').get_text().replace('\\n',''),'WIKIPEDIA')\n",
      "                time.sleep(2)\n",
      "                continue\n",
      "        \n",
      "        not_found.append(to_do[i])\n",
      "    \n",
      "    if i % 10 == 0: print '**************** %d ****************' % i"
     ],
     "language": "python",
     "metadata": {},
     "outputs": []
    },
    {
     "cell_type": "code",
     "collapsed": false,
     "input": [
      "# redirects = {}\n",
      "# for i in range(len(to_do)):\n",
      "    \n",
      "#     term = to_do[i]\n",
      "    \n",
      "#     if term not in descriptions and term not in not_found:\n",
      "        \n",
      "#         r = requests.get(wiki_rev % term)\n",
      "#         soup = BeautifulSoup(r.text)\n",
      "        \n",
      "#         if soup.page.revisions:\n",
      "#             for rev in soup.page.revisions:\n",
      "#                 txt = rev.contents[0]\n",
      "#                 if '#REDIRECT' in txt:\n",
      "#                     term = txt[12:txt.index(']]')]\n",
      "#                     redirects[term] = to_do[i]\n",
      "        \n",
      "#     if i % 10 == 0: print '**************** %d ****************' % i"
     ],
     "language": "python",
     "metadata": {},
     "outputs": []
    },
    {
     "cell_type": "code",
     "collapsed": false,
     "input": [
      "#pickle.dump(descriptions,open('../data/condition_description_extra.pkl','wb'))\n",
      "pickle.dump(new_wiki,open('../data/condition_description_wikionly.pkl','wb'))"
     ],
     "language": "python",
     "metadata": {},
     "outputs": []
    },
    {
     "cell_type": "code",
     "collapsed": false,
     "input": [
      "from IPython.display import HTML, Javascript, display\n",
      "import random\n",
      "for c in random.sample(descriptions,100):\n",
      "    print c\n",
      "    print display(HTML(unicode(descriptions[c][0])))\n",
      "    print \n",
      "    print"
     ],
     "language": "python",
     "metadata": {},
     "outputs": []
    },
    {
     "cell_type": "markdown",
     "metadata": {},
     "source": [
      "### Update database"
     ]
    },
    {
     "cell_type": "code",
     "collapsed": false,
     "input": [
      "desc_ext = pickle.load(open('../data/condition_description_extra.pkl','rb'))\n",
      "desc_wiki = pickle.load(open('../data/condition_description_wikionly.pkl','rb'))"
     ],
     "language": "python",
     "metadata": {},
     "outputs": []
    },
    {
     "cell_type": "code",
     "collapsed": false,
     "input": [
      "print len(desc_ext)\n",
      "print len(desc_wiki)\n",
      "print len(set(desc_ext) | set(desc_wiki))"
     ],
     "language": "python",
     "metadata": {},
     "outputs": []
    },
    {
     "cell_type": "code",
     "collapsed": false,
     "input": [
      "stmt = ConditionDescription.update().\\\n",
      "            where(ConditionDescription.c.mesh_term == bindparam('m')).\\\n",
      "            values(description=bindparam('descrip'))"
     ],
     "language": "python",
     "metadata": {},
     "outputs": []
    },
    {
     "cell_type": "code",
     "collapsed": false,
     "input": [
      "to_up = [{'m': d,\n",
      "          'descrip': '%s<p>Source: Wikipedia</p>' % desc_wiki[d][0].replace('<p></p>','')}\n",
      "         for d in desc_wiki]"
     ],
     "language": "python",
     "metadata": {},
     "outputs": []
    },
    {
     "cell_type": "code",
     "collapsed": false,
     "input": [
      "conn.execute(stmt, to_up)"
     ],
     "language": "python",
     "metadata": {},
     "outputs": []
    },
    {
     "cell_type": "code",
     "collapsed": false,
     "input": [
      "stmt = ConditionDescription.update().\\\n",
      "            where(ConditionDescription.c.mesh_term == bindparam('m')).\\\n",
      "            values(description=bindparam('descrip'))"
     ],
     "language": "python",
     "metadata": {},
     "outputs": []
    },
    {
     "cell_type": "code",
     "collapsed": false,
     "input": [
      "to_up = [{'m': d,\n",
      "          'descrip': unicode(desc_ext[d][0]).replace('<p></p>','')}\n",
      "         for d in desc_ext\n",
      "         if d not in desc_wiki and desc_ext[d][1] == 'NLM']"
     ],
     "language": "python",
     "metadata": {},
     "outputs": []
    },
    {
     "cell_type": "code",
     "collapsed": false,
     "input": [
      "conn.execute(stmt, to_up)"
     ],
     "language": "python",
     "metadata": {},
     "outputs": []
    },
    {
     "cell_type": "code",
     "collapsed": false,
     "input": [
      "conn.close()"
     ],
     "language": "python",
     "metadata": {},
     "outputs": []
    },
    {
     "cell_type": "code",
     "collapsed": false,
     "input": [],
     "language": "python",
     "metadata": {},
     "outputs": []
    },
    {
     "cell_type": "code",
     "collapsed": false,
     "input": [],
     "language": "python",
     "metadata": {},
     "outputs": []
    },
    {
     "cell_type": "code",
     "collapsed": false,
     "input": [],
     "language": "python",
     "metadata": {},
     "outputs": []
    },
    {
     "cell_type": "code",
     "collapsed": false,
     "input": [],
     "language": "python",
     "metadata": {},
     "outputs": []
    },
    {
     "cell_type": "markdown",
     "metadata": {},
     "source": [
      "### Free Dictionary and Encyclopedia"
     ]
    },
    {
     "cell_type": "code",
     "collapsed": false,
     "input": [
      "for i in range(len(to_do)): \n",
      "    \n",
      "    term = to_do[i]\n",
      "    \n",
      "    if term not in descriptions and term not in not_found:\n",
      "        \n",
      "        r = requests.get(enc % term)\n",
      "        soup = BeautifulSoup(r.text)\n",
      "        if soup.find(id=\"mainTxt\"):\n",
      "            count_tags = 0\n",
      "            out_str = ''\n",
      "\n",
      "            for l in list(soup.find(id=\"mainTxt\").children):\n",
      "\n",
      "                if type(l) is Tag: \n",
      "                    if l.name == 'table':\n",
      "                        if count_tags == 0:\n",
      "                            pass\n",
      "                        else:\n",
      "                            break\n",
      "                    elif l.name == 'h2':\n",
      "                        break\n",
      "                    elif l.name == 'p':\n",
      "                        if l.sup: \n",
      "                            sup = l.sup.extract()\n",
      "                        this_str = l.get_text().strip()\n",
      "                        if this_str: \n",
      "                            out_str += '<p>%s</p>' % this_str\n",
      "                    elif l.name == 'ul':\n",
      "                        out_str += '<ul>'\n",
      "                        for li in l.findAll('li'):\n",
      "                            if li.sup: \n",
      "                                sup = li.sup.extract()\n",
      "                            this_str = li.get_text().strip()\n",
      "                            if this_str: \n",
      "                                out_str += '<li>%s</li>' % this_str\n",
      "                        out_str += '</ul>'\n",
      "\n",
      "                    count_tags += 1\n",
      "\n",
      "            descriptions[term] = (out_str,'ENCYCLOPEDIA')\n",
      "            time.sleep(1)\n",
      "\n",
      "        else:\n",
      "            r = requests.get(dic % term)\n",
      "            soup = BeautifulSoup(r.text)\n",
      "            if soup.find(\"div\", {'class': \"pseg\"}):\n",
      "                out_str = ''\n",
      "                defn = soup.find(\"div\", {'class': \"pseg\"}).find(\"div\").get_text().strip()\n",
      "                out_str += '<p>%s</p>' % defn\n",
      "                descriptions[term] = (out_str,'DICTIONARY')\n",
      "                time.sleep(1)\n",
      "            elif r.status_code == 200:\n",
      "                print 'COULD NOT FIND %s' % term\n",
      "                not_found.append(term)\n",
      "            elif r.status_code == 403:\n",
      "                print 'STOPPING FOR NOW'\n",
      "                break\n",
      "            else:\n",
      "                print 'ERROR CODE: %d' % r.status_code\n",
      "                do_over.append(term)\n",
      "                time.sleep(10)\n",
      "    \n",
      "    if i % 10 == 0: print '**************** %d ****************' % i"
     ],
     "language": "python",
     "metadata": {},
     "outputs": []
    },
    {
     "cell_type": "code",
     "collapsed": false,
     "input": [
      "len(descriptions)"
     ],
     "language": "python",
     "metadata": {},
     "outputs": []
    },
    {
     "cell_type": "code",
     "collapsed": false,
     "input": [
      "descriptions.items()"
     ],
     "language": "python",
     "metadata": {},
     "outputs": []
    },
    {
     "cell_type": "code",
     "collapsed": false,
     "input": [],
     "language": "python",
     "metadata": {},
     "outputs": []
    }
   ],
   "metadata": {}
  }
 ]
}