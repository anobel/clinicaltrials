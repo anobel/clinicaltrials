{
 "metadata": {
  "name": "",
  "signature": "sha256:9fad2d2f0781ebff9f001512945d0ce9ee84138271982025d852e08f37b7e977"
 },
 "nbformat": 3,
 "nbformat_minor": 0,
 "worksheets": [
  {
   "cells": [
    {
     "cell_type": "code",
     "collapsed": false,
     "input": [
      "from sqlalchemy import create_engine\n",
      "from connect import mysqlusername, mysqlpassword, mysqlserver, mysqldbname"
     ],
     "language": "python",
     "metadata": {},
     "outputs": [],
     "prompt_number": 1
    },
    {
     "cell_type": "code",
     "collapsed": false,
     "input": [
      "# mysqlserver = 'localhost'\n",
      "conn = create_engine('mysql://%s:%s@%s/%s' % (mysqlusername, mysqlpassword, mysqlserver, mysqldbname))"
     ],
     "language": "python",
     "metadata": {},
     "outputs": [],
     "prompt_number": 2
    },
    {
     "cell_type": "code",
     "collapsed": false,
     "input": [
      "result = conn.execute('''\n",
      "select \n",
      "    a.table_name, \n",
      "    a.column_name, \n",
      "    data_type, \n",
      "    character_maximum_length,\n",
      "    column_key, \n",
      "    referenced_table_name, \n",
      "    referenced_column_name\n",
      "from information_schema.columns a \n",
      "    join information_schema.tables b using (table_schema,table_name)\n",
      "    left join information_schema.key_column_usage c \n",
      "using (table_schema,table_name,column_name)\n",
      "where a.table_schema='clinicaltrials' and b.table_type != 'VIEW'\n",
      "order by a.table_name, a.ordinal_position\n",
      "''')\n",
      "info = list(result)"
     ],
     "language": "python",
     "metadata": {},
     "outputs": [],
     "prompt_number": 3
    },
    {
     "cell_type": "code",
     "collapsed": false,
     "input": [
      "type_trans = {'bigint': 'BigInteger',\n",
      "              'date': 'Date',\n",
      "              'decimal': 'Float',\n",
      "              'double': 'Float',\n",
      "              'int': 'Integer',\n",
      "              'text': 'Text',\n",
      "              'varchar': 'String'\n",
      "              }"
     ],
     "language": "python",
     "metadata": {},
     "outputs": [],
     "prompt_number": 4
    },
    {
     "cell_type": "code",
     "collapsed": false,
     "input": [
      "cur_tab = ''\n",
      "cols = []\n",
      "\n",
      "f = open('db_models.py','w')\n",
      "\n",
      "f.write('from sqlalchemy import Column, BigInteger, Date, Float, Integer, Text, String, ForeignKey\\n')\n",
      "f.write('from sqlalchemy.ext.declarative import declarative_base\\n')\n",
      "f.write('\\n')\n",
      "f.write('Base = declarative_base()\\n')\n",
      "f.write('\\n')\n",
      "\n",
      "for i in range(len(info)):\n",
      "    \n",
      "    tab, col, typ, charlen, colkey, reftab, refcol = info[i]\n",
      "    \n",
      "    if tab != cur_tab:\n",
      "        cur_tab = tab\n",
      "        cols = []\n",
      "        f.write('class %s(Base):\\n' % tab.replace('_',' ').title().replace(' ',''))\n",
      "        f.write(\"    __tablename__ = '%s'\\n\" % tab)\n",
      "        f.write('    \\n')\n",
      "    \n",
      "    colname = col.lower()\n",
      "    cols.append(colname)\n",
      "    \n",
      "    coltype = type_trans[typ]\n",
      "    if coltype == 'String': coltype += '(%d)' % charlen\n",
      "    \n",
      "    keystr = ')'\n",
      "    if colkey == 'PRI':\n",
      "        keystr = ', primary_key = True)'\n",
      "    elif reftab:\n",
      "        keystr = \", ForeignKey('%s.%s'))\" % (reftab, refcol.lower())\n",
      "    f.write('    %s = Column(%s%s\\n' % (colname, coltype, keystr))\n",
      "    \n",
      "    if i == len(info) - 1 or tab != info[i+1][0]:\n",
      "        f.write('    \\n')\n",
      "        f.write('    def __init__(self, %s):\\n' % ', '.join(cols))\n",
      "        for c in cols:\n",
      "            f.write('        self.%s = %s\\n' % (c,c))\n",
      "        f.write('\\n')\n",
      "\n",
      "f.close()"
     ],
     "language": "python",
     "metadata": {},
     "outputs": [],
     "prompt_number": 5
    },
    {
     "cell_type": "code",
     "collapsed": false,
     "input": [],
     "language": "python",
     "metadata": {},
     "outputs": []
    }
   ],
   "metadata": {}
  }
 ]
}