{
 "metadata": {
  "name": "",
  "signature": "sha256:fc9b52ed789fc03657f13ca84bc6031e7bc73b2e2487e4b9357c4fa9c844bc13"
 },
 "nbformat": 3,
 "nbformat_minor": 0,
 "worksheets": [
  {
   "cells": [
    {
     "cell_type": "code",
     "collapsed": false,
     "input": [
      "from sqlalchemy import create_engine\n",
      "from connect import mysqlusername, mysqlpassword, mysqlserver, mysqldbname"
     ],
     "language": "python",
     "metadata": {},
     "outputs": [],
     "prompt_number": 12
    },
    {
     "cell_type": "code",
     "collapsed": false,
     "input": [
      "mysqlserver = 'localhost'\n",
      "mysqldbname = 'clinicaltrials2'\n",
      "conn = create_engine('mysql://%s:%s@%s/%s' % (mysqlusername, mysqlpassword, mysqlserver, mysqldbname))"
     ],
     "language": "python",
     "metadata": {},
     "outputs": [],
     "prompt_number": 14
    },
    {
     "cell_type": "code",
     "collapsed": false,
     "input": [
      "result = conn.execute('''\n",
      "select \n",
      "    a.table_name, \n",
      "    a.column_name, \n",
      "    data_type, \n",
      "    character_maximum_length,\n",
      "    column_key, \n",
      "    referenced_table_name, \n",
      "    referenced_column_name\n",
      "from information_schema.columns a \n",
      "    join information_schema.tables b using (table_schema,table_name)\n",
      "    left join information_schema.key_column_usage c \n",
      "using (table_schema,table_name,column_name)\n",
      "where a.table_schema='clinicaltrials2' and b.table_type != 'VIEW'\n",
      "order by a.table_name, a.ordinal_position\n",
      "''')\n",
      "info = list(result)"
     ],
     "language": "python",
     "metadata": {},
     "outputs": [],
     "prompt_number": 15
    },
    {
     "cell_type": "code",
     "collapsed": false,
     "input": [
      "type_trans = {'bigint': 'BigInteger',\n",
      "              'date': 'Date',\n",
      "              'decimal': 'Float',\n",
      "              'double': 'Float',\n",
      "              'float': 'Float',\n",
      "              'int': 'Integer',\n",
      "              'text': 'Text',\n",
      "              'varchar': 'String',\n",
      "              'tinyint': 'Integer',\n",
      "              'char': 'String',\n",
      "              'datetime': 'DateTime'\n",
      "              }"
     ],
     "language": "python",
     "metadata": {},
     "outputs": [],
     "prompt_number": 16
    },
    {
     "cell_type": "code",
     "collapsed": false,
     "input": [
      "cur_tab = ''\n",
      "cols = []\n",
      "\n",
      "f = open('db_tables2.py','w')\n",
      "\n",
      "f.write('from sqlalchemy import MetaData, Table, Column, BigInteger, Date, Float, Integer, Text, String, DateTime, ForeignKey\\n')\n",
      "f.write('\\n')\n",
      "f.write('metadata = MetaData()\\n')\n",
      "f.write('\\n')\n",
      "\n",
      "for i in range(len(info)):\n",
      "    \n",
      "    tab, col, typ, charlen, colkey, reftab, refcol = info[i]\n",
      "    \n",
      "    if tab != cur_tab:\n",
      "        cur_tab = tab\n",
      "        f.write(\"%s = Table('%s', metadata,\\n\" % (tab.replace('_',' ').title().replace(' ',''), tab))\n",
      "    \n",
      "    colname = col.lower()\n",
      "    coltype = type_trans[typ]\n",
      "    \n",
      "    keystr = ')'\n",
      "    if colkey == 'PRI':\n",
      "        keystr = ', primary_key = True)'\n",
      "    elif reftab:\n",
      "        keystr = \", ForeignKey('%s.%s'))\" % (reftab, refcol.lower())\n",
      "    f.write(\"    Column('%s', %s%s,\\n\" % (colname, coltype, keystr))\n",
      "    \n",
      "    if i == len(info) - 1 or tab != info[i+1][0]:\n",
      "        f.write(')\\n')\n",
      "        f.write('\\n')\n",
      "\n",
      "f.close()"
     ],
     "language": "python",
     "metadata": {},
     "outputs": [],
     "prompt_number": 17
    },
    {
     "cell_type": "code",
     "collapsed": false,
     "input": [],
     "language": "python",
     "metadata": {},
     "outputs": []
    }
   ],
   "metadata": {}
  }
 ]
}