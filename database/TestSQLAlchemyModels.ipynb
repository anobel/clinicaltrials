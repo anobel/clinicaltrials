{
 "metadata": {
  "name": "",
  "signature": "sha256:25bac806f1615cfb7e36b4a2d3636e3875ce295b721879efd50f1248ec9890b9"
 },
 "nbformat": 3,
 "nbformat_minor": 0,
 "worksheets": [
  {
   "cells": [
    {
     "cell_type": "code",
     "collapsed": false,
     "input": [
      "from sqlalchemy import create_engine\n",
      "from connect import mysqlusername, mysqlpassword, mysqlserver, mysqldbname\n",
      "\n",
      "#from sqlalchemy.orm import sessionmaker\n",
      "#from db_models import Base, ClinicalStudy, Facilities, Sponsors\n",
      "\n",
      "from sqlalchemy.sql import func, select, and_, or_, not_, desc\n",
      "from db_tables import metadata, InstitutionDescription, InstitutionLookup, ConditionDescription, ConditionLookup, InstitutionSponsors, InstitutionFacilities"
     ],
     "language": "python",
     "metadata": {},
     "outputs": [],
     "prompt_number": 1
    },
    {
     "cell_type": "code",
     "collapsed": false,
     "input": [
      "mysqlserver = 'localhost'\n",
      "engine = create_engine('mysql://%s:%s@%s/%s' % (mysqlusername, mysqlpassword, mysqlserver, mysqldbname))\n",
      "conn = engine.connect()\n",
      "metadata.create_all(engine)\n",
      "\n",
      "# Session = sessionmaker(bind=engine)\n",
      "# session = Session()"
     ],
     "language": "python",
     "metadata": {},
     "outputs": [],
     "prompt_number": 2
    },
    {
     "cell_type": "code",
     "collapsed": false,
     "input": [
      "facilities = conn.execute(InstitutionFacilities.\\\n",
      "                            select().\\\n",
      "                            where(InstitutionFacilities.c.institution_id == 96264).\\\n",
      "                            order_by(desc('trial_count'))).\\\n",
      "                        fetchall()\n"
     ],
     "language": "python",
     "metadata": {},
     "outputs": [],
     "prompt_number": 3
    },
    {
     "cell_type": "code",
     "collapsed": false,
     "input": [
      "facilities"
     ],
     "language": "python",
     "metadata": {},
     "outputs": [
      {
       "metadata": {},
       "output_type": "pyout",
       "prompt_number": 4,
       "text": [
        "[(96264L, 'Instituto de Medicina Tropical Alexander von Humboldt, Universidad Peruana Cayetano Heredia', 'Lima', '', '', 'Peru', 1L),\n",
        " (96264L, 'Center for Global Health (Universidad Peruana Cayetano Heredia)', 'Tumbes', '', '', 'Peru', 1L)]"
       ]
      }
     ],
     "prompt_number": 4
    },
    {
     "cell_type": "code",
     "collapsed": false,
     "input": [
      "sponsors = conn.execute(select([InstitutionSponsors.c.sponsor_name,\n",
      "                                            func.count(InstitutionLookup.c.nct_id).label('trial_count')]).\\\n",
      "                                                select_from(InstitutionLookup.join(InstitutionSponsors,\n",
      "                                                    InstitutionLookup.c.institution_id == InstitutionSponsors.c.institution_id)).\\\n",
      "                                                where(InstitutionLookup.c.institution_id == 96264).\\\n",
      "                                                group_by(InstitutionSponsors.c.sponsor_name).\\\n",
      "                                                order_by(desc('trial_count'))).\\\n",
      "                                        fetchall()"
     ],
     "language": "python",
     "metadata": {},
     "outputs": [],
     "prompt_number": 5
    },
    {
     "cell_type": "code",
     "collapsed": true,
     "input": [
      "facilities = conn.execute(select([InstitutionFacilities.c.facility_name,\n",
      "                                                  InstitutionFacilities.c.city,\n",
      "                                                  InstitutionFacilities.c.state,\n",
      "                                                  InstitutionFacilities.c.zip,\n",
      "                                                  InstitutionFacilities.c.country,\n",
      "                                                     func.count(InstitutionLookup.c.nct_id).label('trial_count')]).\\\n",
      "                                                        select_from(InstitutionLookup.join(InstitutionFacilities,\n",
      "                                                            and_(InstitutionLookup.c.institution_id == InstitutionFacilities.c.institution_id,\n",
      "                                                                 InstitutionLookup.c.institution_id == 96264))).\\\n",
      "                                                        group_by(InstitutionFacilities.c.facility_name,\n",
      "                                                                  InstitutionFacilities.c.city,\n",
      "                                                                  InstitutionFacilities.c.state,\n",
      "                                                                  InstitutionFacilities.c.zip,\n",
      "                                                                  InstitutionFacilities.c.country).\\\n",
      "                                                        order_by(desc('trial_count'))).\\\n",
      "                                        fetchall()"
     ],
     "language": "python",
     "metadata": {},
     "outputs": [],
     "prompt_number": 8
    },
    {
     "cell_type": "code",
     "collapsed": false,
     "input": [
      "facilities"
     ],
     "language": "python",
     "metadata": {},
     "outputs": [
      {
       "metadata": {},
       "output_type": "pyout",
       "prompt_number": 9,
       "text": [
        "[('Instituto de Medicina Tropical Alexander von Humboldt, Universidad Peruana Cayetano Heredia', 'Lima', '', '', 'Peru', 21L),\n",
        " ('Center for Global Health (Universidad Peruana Cayetano Heredia)', 'Tumbes', '', '', 'Peru', 21L)]"
       ]
      }
     ],
     "prompt_number": 9
    },
    {
     "cell_type": "code",
     "collapsed": false,
     "input": [
      "conn.execute(InstitutionDescription.select().where(InstitutionDescription.c.institution_id == 75059)).fetchone()"
     ],
     "language": "python",
     "metadata": {},
     "outputs": [
      {
       "metadata": {},
       "output_type": "pyout",
       "prompt_number": 7,
       "text": [
        "(75059L, 'University of Hawaii', 'GOLD', 'Honolulu, Hawaii', 'http://upload.wikimedia.org/wikipedia/en/thumb/b/b8/UniversityHawaiiSeal.jpg/200px-UniversityHawaiiSeal.jpg', None, 21.2658776, -157.8218198)"
       ]
      }
     ],
     "prompt_number": 7
    },
    {
     "cell_type": "code",
     "collapsed": false,
     "input": [
      "s = select([ConditionDescription.c.mesh_term, \n",
      "            func.count(InstitutionLookup.c.nct_id).label('cond_count')]).\\\n",
      "                select_from(InstitutionLookup.join(ConditionLookup,\n",
      "                                                   and_(InstitutionLookup.c.institution_id == 38577,\n",
      "                                                        InstitutionLookup.c.nct_id == ConditionLookup.c.nct_id)).\\\n",
      "                                              join(ConditionDescription)).\\\n",
      "                group_by(ConditionDescription.c.mesh_term).\\\n",
      "                order_by(desc('cond_count')).\\\n",
      "                limit(20)"
     ],
     "language": "python",
     "metadata": {},
     "outputs": [],
     "prompt_number": 14
    },
    {
     "cell_type": "code",
     "collapsed": false,
     "input": [
      "conn.execute(s).fetchall()"
     ],
     "language": "python",
     "metadata": {},
     "outputs": [
      {
       "metadata": {},
       "output_type": "pyout",
       "prompt_number": 15,
       "text": [
        "[('Schizophrenia', 95L),\n",
        " ('Anemia', 63L),\n",
        " ('Iron poor blood', 56L),\n",
        " ('Neoplasms', 45L),\n",
        " ('Diabetes Mellitus', 43L),\n",
        " ('Diabetes Mellitus, Type 2', 41L),\n",
        " ('Affective Disorders, Psychotic', 36L),\n",
        " ('Psychotic Disorders', 33L),\n",
        " ('Osteoarthritis', 33L),\n",
        " ('Carcinoma', 30L),\n",
        " ('Tumor', 29L),\n",
        " ('Cancer in Children', 29L),\n",
        " ('Cancer', 29L),\n",
        " ('Malignancy', 29L),\n",
        " ('Cancer--Living with Cancer', 29L),\n",
        " ('DM', 28L),\n",
        " ('Diabetes in Children and Teens', 28L),\n",
        " ('Diabetes', 28L),\n",
        " ('Psychoses', 26L),\n",
        " ('Epilepsy', 26L)]"
       ]
      }
     ],
     "prompt_number": 15
    },
    {
     "cell_type": "code",
     "collapsed": false,
     "input": [
      "s = select([InstitutionLookup.c.institution_id, \n",
      "            func.count(InstitutionLookup.c.nct_id)]).\\\n",
      "                where(InstitutionLookup.c.institution_id == 75059).\\\n",
      "                group_by(InstitutionLookup.c.institution_id)"
     ],
     "language": "python",
     "metadata": {},
     "outputs": [],
     "prompt_number": 24
    },
    {
     "cell_type": "code",
     "collapsed": false,
     "input": [
      "conn.execute(s).fetchone()"
     ],
     "language": "python",
     "metadata": {},
     "outputs": [
      {
       "metadata": {},
       "output_type": "pyout",
       "prompt_number": 25,
       "text": [
        "(75059L, 204L)"
       ]
      }
     ],
     "prompt_number": 25
    },
    {
     "cell_type": "code",
     "collapsed": false,
     "input": [],
     "language": "python",
     "metadata": {},
     "outputs": []
    },
    {
     "cell_type": "code",
     "collapsed": false,
     "input": [
      "obj = session.query(Facilities).filter(Facilities.facility_name.like('%Stanford%')).all()"
     ],
     "language": "python",
     "metadata": {},
     "outputs": [],
     "prompt_number": 9
    },
    {
     "cell_type": "code",
     "collapsed": false,
     "input": [
      "obj[10].nct_id"
     ],
     "language": "python",
     "metadata": {},
     "outputs": [
      {
       "metadata": {},
       "output_type": "pyout",
       "prompt_number": 12,
       "text": [
        "'NCT01358734'"
       ]
      }
     ],
     "prompt_number": 12
    },
    {
     "cell_type": "code",
     "collapsed": false,
     "input": [
      "len(obj)"
     ],
     "language": "python",
     "metadata": {},
     "outputs": [
      {
       "metadata": {},
       "output_type": "pyout",
       "prompt_number": 14,
       "text": [
        "2364"
       ]
      }
     ],
     "prompt_number": 14
    },
    {
     "cell_type": "code",
     "collapsed": false,
     "input": [
      "import cPickle as pickle"
     ],
     "language": "python",
     "metadata": {},
     "outputs": [],
     "prompt_number": 17
    },
    {
     "cell_type": "code",
     "collapsed": false,
     "input": [
      "inst_json = pickle.load(open('../data/institution_json.pkl','rb'))"
     ],
     "language": "python",
     "metadata": {},
     "outputs": [],
     "prompt_number": 18
    },
    {
     "cell_type": "code",
     "collapsed": false,
     "input": [
      "inst_json[150]['inst_cond_top']"
     ],
     "language": "python",
     "metadata": {},
     "outputs": [
      {
       "metadata": {},
       "output_type": "pyout",
       "prompt_number": 22,
       "text": [
        "[{'cond_id': 2881, 'cond_name': u'Stomach Neoplasms', 'trial_count': 29},\n",
        " {'cond_id': 751, 'cond_name': u'Coronary Artery Disease', 'trial_count': 27},\n",
        " {'cond_id': 1277, 'cond_name': u'Coronary Disease', 'trial_count': 25},\n",
        " {'cond_id': 3483, 'cond_name': u'Myocardial Ischemia', 'trial_count': 25},\n",
        " {'cond_id': 1718, 'cond_name': u'Lung Neoplasms', 'trial_count': 13},\n",
        " {'cond_id': 728, 'cond_name': u'Hypertension', 'trial_count': 13},\n",
        " {'cond_id': 124, 'cond_name': u'Hepatitis', 'trial_count': 12},\n",
        " {'cond_id': 3276, 'cond_name': u'Hepatitis, Chronic', 'trial_count': 12},\n",
        " {'cond_id': 2908, 'cond_name': u'Hepatitis A', 'trial_count': 12},\n",
        " {'cond_id': 1905, 'cond_name': u'Acute Kidney Injury', 'trial_count': 11},\n",
        " {'cond_id': 1709, 'cond_name': u'Wounds and Injuries', 'trial_count': 11},\n",
        " {'cond_id': 1532, 'cond_name': u'Hepatitis B, Chronic', 'trial_count': 11},\n",
        " {'cond_id': 2844, 'cond_name': u'Glaucoma', 'trial_count': 11},\n",
        " {'cond_id': 2909, 'cond_name': u'Hepatitis B', 'trial_count': 11},\n",
        " {'cond_id': 438, 'cond_name': u'Carcinoma', 'trial_count': 10},\n",
        " {'cond_id': 1055, 'cond_name': u'Thyroid Neoplasms', 'trial_count': 10},\n",
        " {'cond_id': 3809, 'cond_name': u'Infarction', 'trial_count': 9},\n",
        " {'cond_id': 2954, 'cond_name': u'Myocardial Infarction', 'trial_count': 9},\n",
        " {'cond_id': 137,\n",
        "  'cond_name': u'Postoperative Nausea and Vomiting',\n",
        "  'trial_count': 9},\n",
        " {'cond_id': 369, 'cond_name': u'Vomiting', 'trial_count': 8}]"
       ]
      }
     ],
     "prompt_number": 22
    },
    {
     "cell_type": "code",
     "collapsed": false,
     "input": [],
     "language": "python",
     "metadata": {},
     "outputs": []
    }
   ],
   "metadata": {}
  }
 ]
}