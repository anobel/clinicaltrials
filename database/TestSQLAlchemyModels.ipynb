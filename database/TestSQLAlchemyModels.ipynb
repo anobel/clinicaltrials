{
 "metadata": {
  "name": "",
  "signature": "sha256:7b17d06ee6533de5aecb47756816ce46b29265f6845464909d474e6c8256b7ec"
 },
 "nbformat": 3,
 "nbformat_minor": 0,
 "worksheets": [
  {
   "cells": [
    {
     "cell_type": "code",
     "collapsed": false,
     "input": [
      "from sqlalchemy import create_engine\n",
      "from connect import mysqlusername, mysqlpassword, mysqlserver, mysqldbname\n",
      "from collections import defaultdict\n",
      "\n",
      "#from sqlalchemy.orm import sessionmaker\n",
      "#from db_models import Base, ClinicalStudy, Facilities, Sponsors\n",
      "\n",
      "from sqlalchemy.sql import func, select, and_, or_, not_, desc\n",
      "from db_tables import metadata, InstitutionDescription, InstitutionLookup, ConditionDescription, ConditionLookup, InstitutionSponsors, InstitutionFacilities\n",
      "from db_tables import RatingsCriteriaStars, InstitutionRatings, TrialSummary, Interventions, Conditions, ConditionSynonym,\\\n",
      "    ClinicalStudy, TrialPublications, Users, CriteriaText, CriteriaTagged, CriteriaConcept, CriteriaConceptLookup, \\\n",
      "    ConceptTerms"
     ],
     "language": "python",
     "metadata": {},
     "outputs": [],
     "prompt_number": 2
    },
    {
     "cell_type": "code",
     "collapsed": false,
     "input": [
      "mysqlserver = 'localhost'\n",
      "engine = create_engine('mysql://%s:%s@%s/%s?charset=utf8' % (mysqlusername, mysqlpassword, mysqlserver, mysqldbname))\n",
      "conn = engine.connect()\n",
      "metadata.create_all(engine)\n",
      "\n",
      "# Session = sessionmaker(bind=engine)\n",
      "# session = Session()"
     ],
     "language": "python",
     "metadata": {},
     "outputs": [],
     "prompt_number": 3
    },
    {
     "cell_type": "code",
     "collapsed": false,
     "input": [
      "rand_select = 145\n",
      "r = conn.execute(select([CriteriaTagged.c.tagged_text]).where(CriteriaTagged.c.random_select == rand_select)).fetchall()"
     ],
     "language": "python",
     "metadata": {},
     "outputs": [],
     "prompt_number": 13
    },
    {
     "cell_type": "code",
     "collapsed": false,
     "input": [
      "data = [eval(s.tagged_text) for s in r]"
     ],
     "language": "python",
     "metadata": {},
     "outputs": [],
     "prompt_number": 19
    },
    {
     "cell_type": "code",
     "collapsed": false,
     "input": [
      "data[:5]"
     ],
     "language": "python",
     "metadata": {},
     "outputs": [
      {
       "metadata": {},
       "output_type": "pyout",
       "prompt_number": 20,
       "text": [
        "[[[['Exclusion', 'NNP', 'Exclusion'],\n",
        "   ['Criteria', 'NNP', 'Criteria'],\n",
        "   [':', ':', ':']]],\n",
        " [[['19', 'CD', '19'], ['.', '.', '.']],\n",
        "  [['Hypersensitivity', 'NN', 'hypersensitivity'],\n",
        "   ['and/or', 'CC', 'and/or'],\n",
        "   ['contraindication', 'NN', 'contraindication'],\n",
        "   ['to', 'TO', 'to'],\n",
        "   ['any', 'DT', 'any'],\n",
        "   ['one', 'CD', 'one'],\n",
        "   ['of', 'IN', 'of'],\n",
        "   ['the', 'DT', 'the'],\n",
        "   ['Investigational', 'NNP', 'Investigational'],\n",
        "   ['Medicinal', 'NNP', 'Medicinal'],\n",
        "   ['Products', 'NNPS', 'Products'],\n",
        "   ['-LRB-', '-LRB-', '-lrb-'],\n",
        "   ['IMP', 'NN', 'imp'],\n",
        "   ['-RRB-', '-RRB-', '-rrb-'],\n",
        "   [',', ',', ','],\n",
        "   ['acyclovir', 'NN', 'acyclovir'],\n",
        "   ['or', 'CC', 'or'],\n",
        "   ['similar', 'JJ', 'similar'],\n",
        "   ['anti-viral', 'JJ', 'anti-viral'],\n",
        "   ['drug', 'NN', 'drug'],\n",
        "   ['.', '.', '.']]],\n",
        " [[['Patients', 'NNS', 'patient'],\n",
        "   ['with', 'IN', 'with'],\n",
        "   ['frontotemporal', 'JJ', 'frontotemporal'],\n",
        "   ['dementia', 'NN', 'dementia']]],\n",
        " [[['Have', 'VBP', 'have'],\n",
        "   ['a', 'DT', 'a'],\n",
        "   ['known', 'JJ', 'known'],\n",
        "   ['allergy', 'NN', 'allergy'],\n",
        "   ['or', 'CC', 'or'],\n",
        "   ['hypersensitivity', 'NN', 'hypersensitivity'],\n",
        "   ['to', 'TO', 'to'],\n",
        "   ['exenatide', 'VB', 'exenatide'],\n",
        "   ['BID', 'NNP', 'BID'],\n",
        "   [',', ',', ','],\n",
        "   ['exenatide', 'NN', 'exenatide'],\n",
        "   ['QW', 'NN', 'qw'],\n",
        "   [',', ',', ','],\n",
        "   ['or', 'CC', 'or'],\n",
        "   ['excipients', 'NNS', 'excipient'],\n",
        "   ['contained', 'VBN', 'contain'],\n",
        "   ['in', 'IN', 'in'],\n",
        "   ['these', 'DT', 'these'],\n",
        "   ['agents', 'NNS', 'agent'],\n",
        "   ['.', '.', '.']]],\n",
        " [[['male', 'NN', 'male'], ['or', 'CC', 'or'], ['female', 'NN', 'female']]]]"
       ]
      }
     ],
     "prompt_number": 20
    },
    {
     "cell_type": "code",
     "collapsed": false,
     "input": [
      "r[:5]"
     ],
     "language": "python",
     "metadata": {},
     "outputs": [
      {
       "metadata": {},
       "output_type": "pyout",
       "prompt_number": 17,
       "text": [
        "[(u'[[[\"Exclusion\",\"NNP\",\"Exclusion\"],[\"Criteria\",\"NNP\",\"Criteria\"],[\":\",\":\",\":\"]]]',),\n",
        " (u'[[[\"19\",\"CD\",\"19\"],[\".\",\".\",\".\"]],[[\"Hypersensitivity\",\"NN\",\"hypersensitivity\"],[\"and/or\",\"CC\",\"and/or\"],[\"contraindication\",\"NN\",\"contraindication\"],[\"to\",\"TO\",\"to\"],[\"any\",\"DT\",\"any\"],[\"one\",\"CD\",\"one\"],[\"of\",\"IN\",\"of\"],[\"the\",\"DT\",\"the\"],[\"Investigational\",\"NNP\",\"Investigational\"],[\"Medicinal\",\"NNP\",\"Medicinal\"],[\"Products\",\"NNPS\",\"Products\"],[\"-LRB-\",\"-LRB-\",\"-lrb-\"],[\"IMP\",\"NN\",\"imp\"],[\"-RRB-\",\"-RRB-\",\"-rrb-\"],[\",\",\",\",\",\"],[\"acyclovir\",\"NN\",\"acyclovir\"],[\"or\",\"CC\",\"or\"],[\"similar\",\"JJ\",\"similar\"],[\"anti-viral\",\"JJ\",\"anti-viral\"],[\"drug\",\"NN\",\"drug\"],[\".\",\".\",\".\"]]]',),\n",
        " (u'[[[\"Patients\",\"NNS\",\"patient\"],[\"with\",\"IN\",\"with\"],[\"frontotemporal\",\"JJ\",\"frontotemporal\"],[\"dementia\",\"NN\",\"dementia\"]]]',),\n",
        " (u'[[[\"Have\",\"VBP\",\"have\"],[\"a\",\"DT\",\"a\"],[\"known\",\"JJ\",\"known\"],[\"allergy\",\"NN\",\"allergy\"],[\"or\",\"CC\",\"or\"],[\"hypersensitivity\",\"NN\",\"hypersensitivity\"],[\"to\",\"TO\",\"to\"],[\"exenatide\",\"VB\",\"exenatide\"],[\"BID\",\"NNP\",\"BID\"],[\",\",\",\",\",\"],[\"exenatide\",\"NN\",\"exenatide\"],[\"QW\",\"NN\",\"qw\"],[\",\",\",\",\",\"],[\"or\",\"CC\",\"or\"],[\"excipients\",\"NNS\",\"excipient\"],[\"contained\",\"VBN\",\"contain\"],[\"in\",\"IN\",\"in\"],[\"these\",\"DT\",\"these\"],[\"agents\",\"NNS\",\"agent\"],[\".\",\".\",\".\"]]]',),\n",
        " (u'[[[\"male\",\"NN\",\"male\"],[\"or\",\"CC\",\"or\"],[\"female\",\"NN\",\"female\"]]]',)]"
       ]
      }
     ],
     "prompt_number": 17
    },
    {
     "cell_type": "code",
     "collapsed": false,
     "input": [
      "for i, b in enumerate(a):\n",
      "    print i, ' '.join(w[0].decode('unicode_escape') for s in eval(b[3]) for w in s)"
     ],
     "language": "python",
     "metadata": {},
     "outputs": [
      {
       "output_type": "stream",
       "stream": "stdout",
       "text": [
        "0 Key Inclusion Criteria :\n",
        "1 Histopathologic confirmation of one of the following CD20 + B-cell non-Hodgkin 's lymphomas . Tissue diagnostic procedures must be performed within 6 months of study entry and with biopsy material available for review :\n",
        "2 follicular lymphoma -LRB- grade 1 or 2 -RRB-\n",
        "3 immunoplasmacytoma/immunocytoma -LRB- Waldenstrom 's macroglobulinemia -RRB-\n",
        "4 splenic marginal zone B-cell lymphoma\n",
        "5 extra-nodal marginal zone lymphoma of mucosa associated lymphoid tumor -LRB- MALT -RRB- type\n",
        "6 nodal marginal zone B-cell lymphoma\n",
        "7 mantle cell lymphoma\n",
        "8 Meets one of the following need-for-treatment criteria -LRB- with the exception of mantle cell lymphoma for which treatment is indicated -RRB- :\n",
        "9 presence of at least one of the following B-symptoms :\n",
        "10 fever -LRB- > 38\u00baC -RRB- of unclear etiology\n",
        "11 night sweats\n",
        "12 weight loss of greater than 10 % within the prior 6 months\n",
        "13 large tumor mass -LRB- bulky disease -RRB-\n",
        "14 presence of lymphoma-related complications , including narrowing of ureters or bile ducts , tumor-related compression of a vital organ , lymphoma induced pain , cytopenias related to lymphoma/leukemia , splenomegaly , pleural effusions , or ascites\n",
        "15 hyperviscosity syndrome due to monoclonal gammopathy\n",
        "16 CD20 positive B cells in lymph node biopsy or other lymphoma pathology specimen .\n",
        "17 `` No prior treatment . Patients on '' `` watch and wait '' '' may enter the study if a recent biopsy -LRB- obtained within the last 6 months -RRB- is available . ''\n",
        "18 Adequate hematologic function -LRB- unless abnormalities related to lymphoma infiltration of the bone marrow or hypersplenism due to lymphoma -RRB- as follows :\n",
        "19 hemoglobin of > = 10.0 g/dl\n",
        "20 absolute neutrophil count -LRB- ANC -RRB- > = 1.5 x 10 9th power/L\n",
        "21 platelet count > = 100 x 10 9th power/L\n",
        "22 Bidimensionally measurable disease -LRB- field not previously radiated -RRB- .\n",
        "23 Able to provide written informed consent .\n",
        "24 ECOG performance status < = 2 .\n",
        "25 Estimated life expectancy > = 6 months .\n",
        "26 Serum creatinine of < = 2.0 mg/dL or creatinine clearance > = 50 mL/min .\n",
        "27 ALT and AST \u2264 2.5 x ULN , and alkaline phosphatase and total bilirubin within normal limits .\n",
        "28 Left ventricular ejection fraction -LRB- LVEF -RRB- > = 50 % by multiple gated acquisition scan -LRB- MUGA -RRB- or cardiac echocardiogram -LRB- ECHO -RRB- , prior for any patient to be treated with R-CHOP .\n",
        "29 A medically accepted method of contraception to be used by women of childbearing potential -LRB- not surgically sterile or at least 12 months naturally postmenopausal -RRB- .\n",
        "30 Men capable of producing offspring and not surgically sterile must practice abstinence or use a barrier method of birth control .\n",
        "31 Key Exclusion Criteria :\n",
        "32 Chronic lymphocytic leukemia , small lymphocytic lymphoma -LRB- SLL -RRB- , or grade 3 follicular lymphoma .\n",
        "33 Transformed disease . Bone marrow blasts are permitted , however , transformed disease indicating leukemic involvement is not permitted .\n",
        "34 Central nervous system -LRB- CNS -RRB- lymphomatous involvement or leptomeningeal lymphoma .\n",
        "35 Prior radiation for NHL , except for a single course of locally delimited radiation therapy with a radiation field not exceeding 2 adjacent lymph node regions .\n",
        "36 Active malignancy , other than NHL , within the past 3 years except for localized prostate cancer treated with hormone therapy , cervical carcinoma in situ , breast cancer in situ , or non-melanoma skin cancer following definitive treatment .\n",
        "37 New York Heart Association -LRB- NYHA -RRB- Class III or IV heart failure , arrhythmias or unstable angina , electrocardiographic evidence of active ischemia or active conduction system abnormalities , or myocardial infarction within the last 6 months . -LRB- Prior to study entry , ECG abnormalities at screening must be documented by the investigator as not medically relevant -RRB- .\n",
        "38 Known human immunodeficiency virus -LRB- HIV -RRB- positivity .\n",
        "39 Active hepatitis B or hepatitis C infection -LRB- Hepatitis B surface antigen testing required -RRB- .\n",
        "40 Women who are pregnant or lactating .\n",
        "41 Corticosteroids for treatment of lymphoma within 28 days of study entry . Chronically administered low-dose corticosteroids -LRB- e.g. , prednisone \u2264 20 mg/day -RRB- for indications other than lymphoma or lymphoma-related complications are permitted .\n",
        "42 Any serious uncontrolled , medical or psychological disorder that would impair the ability of the patient to receive therapy .\n",
        "43 Any condition which places the patient at unacceptable risk or confounds the ability of the investigators to interpret study data .\n",
        "44 Any other investigational agent within 28 days of study entry .\n",
        "45 Known hypersensitivity to bendamustine , mannitol , or other study-related drugs .\n",
        "46 The patient has Ann Arbor stage I disease .\n",
        "47 The patient has a history of congenital long QT syndrome .\n",
        "48 The patient has a history of cardiac disease with significant potential for QT prolongation .\n",
        "49 The patient has screening electrocardiography -LRB- ECG -RRB- on day 1 of cycle 1 with QTCF interval greater than 450 ms that is confirmed by a second ECG . If the QTCF interval is greater than 450 ms on both ECGs , the ECGs will be sent to ERT , the Central ECG Reader vendor , for an overread -LRB- with 24-hour turn around time -RRB- and ERT will make a final decision on enrollment .\n",
        "50 The patient has serum potassium or magnesium less than the lower limit of normal .\n"
       ]
      }
     ],
     "prompt_number": 44
    },
    {
     "cell_type": "code",
     "collapsed": false,
     "input": [],
     "language": "python",
     "metadata": {},
     "outputs": []
    },
    {
     "cell_type": "code",
     "collapsed": false,
     "input": [],
     "language": "python",
     "metadata": {},
     "outputs": []
    },
    {
     "cell_type": "code",
     "collapsed": false,
     "input": [],
     "language": "python",
     "metadata": {},
     "outputs": []
    },
    {
     "cell_type": "code",
     "collapsed": false,
     "input": [
      "def construct_address(city,state,zipcode,country):\n",
      "    if city:\n",
      "        if country == 'United States':\n",
      "            return '%s, %s %s<br/>%s' % (city, state, zipcode, country)\n",
      "        else:\n",
      "            return '%s, %s' % (city, country)\n",
      "    else:\n",
      "        return 'No location information provided' \n",
      "\n",
      "# construct star rating from number\n",
      "def gen_stars(s):\n",
      "    ''' s is a number between 1 and 5 '''\n",
      "    if s > 5:\n",
      "        s = 5\n",
      "    elif s < 1:\n",
      "        s = 1\n",
      "\n",
      "    rating_str = \"<span class='rating'><i class='fa fa-star'></i>\"\n",
      "    ok = [1] * (int(s * 2) - 2)\n",
      "    ok.extend([0] * (8 - len(ok)))\n",
      "    for i in range(0,7,2):\n",
      "        if sum(ok[i:i+2]) == 2:\n",
      "            rating_str += \"<i class='fa fa-star'></i>\"\n",
      "        elif sum(ok[i:i+2]) == 1:\n",
      "            rating_str += \"<i class='fa fa-star-half-o'></i>\"\n",
      "        else:\n",
      "            rating_str += \"<i class='fa fa-star-o'></i>\"\n",
      "\n",
      "    return rating_str + \"</span>\"\n",
      "\n",
      "# calculate overall rating\n",
      "def calc_overall(r_array):\n",
      "    ''' r_array is a list or tuple of category ratings, in the order:\n",
      "            date, mesh, sites, description, criteria\n",
      "    '''\n",
      "    r_wgt_avg = (r_array[0] * 0.10) + \\\n",
      "                (r_array[1] * 0.25) + \\\n",
      "                (r_array[2] * 0.25) + \\\n",
      "                (r_array[3] * 0.25) + \\\n",
      "                (r_array[4] * 0.15)\n",
      "    return 1 + (round((r_wgt_avg) * 2 - 2) / 2.0)\n",
      "\n",
      "# turn a query result with multiple rows per key into a lookup dictionary\n",
      "def dictify(qresult):\n",
      "    ''' qresult is a list of 2-tuples '''\n",
      "    output = defaultdict(set)\n",
      "    for k, v in qresult:\n",
      "        output[k].add(v)\n",
      "    return output\n",
      "\n",
      "# create a comma-separated list of words\n",
      "def add_commas(strlist, conj='and'):\n",
      "    ''' strlist is a list of strings to be concatenated with comma\n",
      "        conj is the final conjunction, defaults to 'and'\n",
      "    '''\n",
      "    if 'Other' in strlist:\n",
      "        strlist.remove('Other') \n",
      "        strlist.append('Other')\n",
      "    if len(strlist) <= 1:\n",
      "        return ''.join(strlist)\n",
      "    elif len(strlist) == 2:\n",
      "        return '%s %s %s' % (strlist[0], conj, strlist[1])\n",
      "    else:\n",
      "        return '%s, %s %s' % (', '.join(strlist[:-1]), conj, strlist[-1])\n",
      "\n",
      "# create a layman's terms string that describes the trial\n",
      "def layman_desc(phase, status, inv_dict, stype):\n",
      "    missing_data = []\n",
      "\n",
      "    if phase != 'N/A':\n",
      "        lay_str = \"This is a <span style='font-weight: bold'>%s</span> trial\" % phase\n",
      "    else:\n",
      "        lay_str = \"This is a trial\"\n",
      "        missing_data.append('phase')\n",
      "    lay_str += \" that is <span style='font-weight: bold'>%s</span>.\" % status\n",
      "\n",
      "    inv_str = add_commas(inv_dict, 'and/or')\n",
      "    if inv_str:\n",
      "        if stype.lower() != 'n/a':\n",
      "            stype = \" <span style='font-weight: bold'>%s</span>\" % stype\n",
      "        else:\n",
      "            stype = ''\n",
      "            missing_data.append('study type')\n",
      "        lay_str += \" It is an%s assessment of a(n) <span style='font-weight: bold'>%s</span> treatment.\" % (stype, inv_str.lower())\n",
      "    else:\n",
      "        missing_data.append('intervention(s)')\n",
      "\n",
      "    if missing_data:\n",
      "        lay_str += \" (No information was provided about the %s of the trial.)\" % add_commas(missing_data, 'or')\n",
      "\n",
      "    return lay_str\n",
      "\n"
     ],
     "language": "python",
     "metadata": {},
     "outputs": [],
     "prompt_number": 3
    },
    {
     "cell_type": "code",
     "collapsed": false,
     "input": [
      "inst_id = 68233\n",
      "inst_data = conn.execute(InstitutionDescription.\\\n",
      "                            select().\\\n",
      "                            where(InstitutionDescription.c.institution_id == inst_id)).\\\n",
      "                        fetchone()\n",
      "\n",
      "sponsors = conn.execute(InstitutionSponsors.\\\n",
      "                            select().\\\n",
      "                            where(InstitutionSponsors.c.institution_id == inst_id).\\\n",
      "                            order_by(desc('trial_count'))).\\\n",
      "                        fetchall()\n",
      "facilities = conn.execute(InstitutionFacilities.\\\n",
      "                            select().\\\n",
      "                            where(InstitutionFacilities.c.institution_id == inst_id).\\\n",
      "                            order_by(desc('trial_count'))).\\\n",
      "                        fetchall()\n",
      "\n",
      "sponsor_list = [{'name': t[1], 'cnt': t[2]} for t in sponsors]\n",
      "facility_list = [{'name': t[1],\n",
      "                  'cnt': t[6],\n",
      "                  'address': construct_address(t[2],t[3],t[4],t[5])}\n",
      "                  for t in facilities[:50]]\n",
      "if len(facilities) > 50:\n",
      "    facility_list += [{'name': '...and %d more' % (len(facilities) - 50),\n",
      "                       'cnt': sum([t[6] for t in facilities[50:]]),\n",
      "                       'address': ''}]\n",
      "\n",
      "rating_info = conn.execute(InstitutionRatings.select().where(InstitutionRatings.c.institution_id == inst_id)).fetchone()\n",
      "rating_obj = {'dates': gen_stars(float(rating_info[1])),\n",
      "              'mesh': gen_stars(float(rating_info[2])),\n",
      "              'sites': gen_stars(float(rating_info[3])),\n",
      "              'desc': gen_stars(float(rating_info[4])),\n",
      "              'crit': gen_stars(float(rating_info[5])),\n",
      "              'overall': gen_stars(4.0)}\n"
     ],
     "language": "python",
     "metadata": {},
     "outputs": [],
     "prompt_number": 7
    },
    {
     "cell_type": "code",
     "collapsed": false,
     "input": [
      "rating_obj"
     ],
     "language": "python",
     "metadata": {},
     "outputs": [
      {
       "metadata": {},
       "output_type": "pyout",
       "prompt_number": 11,
       "text": [
        "{'crit': \"<span class='rating'><i class='fa fa-star'></i><i class='fa fa-star'></i><i class='fa fa-star'></i><i class='fa fa-star'></i><i class='fa fa-star-half-o'></i></span>\",\n",
        " 'dates': \"<span class='rating'><i class='fa fa-star'></i><i class='fa fa-star'></i><i class='fa fa-star'></i><i class='fa fa-star'></i><i class='fa fa-star'></i></span>\",\n",
        " 'desc': \"<span class='rating'><i class='fa fa-star'></i><i class='fa fa-star'></i><i class='fa fa-star'></i><i class='fa fa-star-o'></i><i class='fa fa-star-o'></i></span>\",\n",
        " 'mesh': \"<span class='rating'><i class='fa fa-star'></i><i class='fa fa-star'></i><i class='fa fa-star'></i><i class='fa fa-star-o'></i><i class='fa fa-star-o'></i></span>\",\n",
        " 'overall': \"<span class='rating'><i class='fa fa-star'></i><i class='fa fa-star'></i><i class='fa fa-star'></i><i class='fa fa-star'></i><i class='fa fa-star-o'></i></span>\",\n",
        " 'sites': \"<span class='rating'><i class='fa fa-star'></i><i class='fa fa-star'></i><i class='fa fa-star'></i><i class='fa fa-star-o'></i><i class='fa fa-star-o'></i></span>\"}"
       ]
      }
     ],
     "prompt_number": 11
    },
    {
     "cell_type": "code",
     "collapsed": false,
     "input": [
      "params = {}\n",
      "params['id'] = '115854'\n",
      "trials = conn.execute(select([TrialSummary]).\\\n",
      "                        select_from(TrialSummary.join(InstitutionLookup,\n",
      "                            and_(InstitutionLookup.c.nct_id == TrialSummary.c.nct_id,\n",
      "                                 InstitutionLookup.c.institution_id == int(params['id'])))).\\\n",
      "                        limit(50)).\\\n",
      "                    fetchall()\n",
      "\n",
      "inv = conn.execute(select([Interventions.c.nct_id, Interventions.c.intervention_type]).\\\n",
      "                        select_from(Interventions.join(InstitutionLookup,\n",
      "                            and_(InstitutionLookup.c.nct_id == Interventions.c.nct_id,\n",
      "                                 InstitutionLookup.c.institution_id == int(params['id']))))).\\\n",
      "                    fetchall()\n",
      "inv_dict = dictify(inv)\n",
      "\n",
      "# compile JSON object\n",
      "out_obj = []\n",
      "for nct_id, title, status, phase, stype in trials:\n",
      "    out_obj.append({'nct_id': nct_id,\n",
      "                    'trial_title': title,\n",
      "                    'lay_str': layman_desc(phase, status, list(inv_dict[nct_id]) if nct_id in inv_dict else '', stype)\n",
      "                    })\n",
      "\n"
     ],
     "language": "python",
     "metadata": {},
     "outputs": [],
     "prompt_number": 55
    },
    {
     "cell_type": "code",
     "collapsed": false,
     "input": [],
     "language": "python",
     "metadata": {},
     "outputs": []
    },
    {
     "cell_type": "code",
     "collapsed": false,
     "input": [
      "cond_id=3121\n",
      "cond_data = conn.execute(ConditionDescription.\\\n",
      "                            select().\\\n",
      "                            where(ConditionDescription.c.condition_id == cond_id)).\\\n",
      "                        fetchone()\n",
      "\n",
      "cond_syn = conn.execute(select([ConditionDescription.c.mesh_term]).\\\n",
      "                            select_from(ConditionSynonym.join(ConditionDescription,\n",
      "                                and_(ConditionDescription.c.condition_id == ConditionSynonym.c.synonym_id,\n",
      "                                     ConditionSynonym.c.condition_id == cond_id)))).\\\n",
      "                        fetchall()\n",
      "\n",
      "top_inst = conn.execute(select([InstitutionDescription.c.institution_id,\n",
      "                                InstitutionDescription.c.name,\n",
      "                                InstitutionDescription.c.image_url,\n",
      "                                InstitutionDescription.c.location,\n",
      "                                func.count(ConditionLookup.c.nct_id).label('cnt')]).\\\n",
      "                            select_from(InstitutionDescription.join(InstitutionLookup.join(ConditionLookup,\n",
      "                                    and_(ConditionLookup.c.condition_id == cond_id,\n",
      "                                         ConditionLookup.c.source == 'CTGOV',\n",
      "                                         ConditionLookup.c.syn_flag == 0,\n",
      "                                         ConditionLookup.c.nct_id == InstitutionLookup.c.nct_id)),\n",
      "                                    InstitutionLookup.c.institution_id == InstitutionDescription.c.institution_id)).\\\n",
      "                            group_by(InstitutionDescription.c.institution_id,\n",
      "                                     InstitutionDescription.c.name,\n",
      "                                     InstitutionDescription.c.image_url,\n",
      "                                     InstitutionDescription.c.location).\\\n",
      "                            order_by(desc('cnt')).\\\n",
      "                            limit(5)).\\\n",
      "                        fetchall()\n",
      "\n",
      "inst_rating = conn.execute(InstitutionRatings.select().\\\n",
      "                    where(or_(InstitutionRatings.c.institution_id == t[0] for t in top_inst))).\\\n",
      "                fetchall()\n",
      "rating_dict = {t[0]: gen_stars(calc_overall([float(f) for f in t[1:6]])) for t in inst_rating}\n",
      "\n",
      "inst_obj = [{'inst_id': t[0],\n",
      "             'inst_name': t[1],\n",
      "             'inst_img': t[2],\n",
      "             'inst_loc': t[3],\n",
      "             'inst_stars': rating_dict[t[0]]}\n",
      "             for t in top_inst]\n"
     ],
     "language": "python",
     "metadata": {},
     "outputs": [],
     "prompt_number": 39
    },
    {
     "cell_type": "code",
     "collapsed": false,
     "input": [
      "nct_id = 'NCT01457924'\n",
      "summary_data = conn.execute(select([ClinicalStudy.c.brief_title,\n",
      "                                    ClinicalStudy.c.brief_summary,\n",
      "                                    ClinicalStudy.c.detailed_description,\n",
      "                                    ClinicalStudy.c.overall_status,\n",
      "                                    ClinicalStudy.c.phase,\n",
      "                                    ClinicalStudy.c.study_type,\n",
      "                                    ClinicalStudy.c.criteria,\n",
      "                                    ClinicalStudy.c.gender,\n",
      "                                    ClinicalStudy.c.minimum_age,\n",
      "                                    ClinicalStudy.c.maximum_age,\n",
      "                                    ClinicalStudy.c.healthy_volunteers,\n",
      "                                    ClinicalStudy.c.lastchanged_date]).\n",
      "                            select_from(ClinicalStudy).\\\n",
      "                            where(ClinicalStudy.c.nct_id == nct_id)).\\\n",
      "                        fetchone()\n",
      "\n",
      "inv = conn.execute(select([Interventions.c.nct_id, Interventions.c.intervention_type]).\\\n",
      "                        select_from(Interventions).\\\n",
      "                        where(Interventions.c.nct_id == nct_id)).\\\n",
      "                    fetchall()\n",
      "\n",
      "inv_dict = dictify(inv)\n",
      "\n",
      "cond = conn.execute(select([ConditionDescription.c.condition_id,\n",
      "                            ConditionDescription.c.mesh_term]).\\\n",
      "                            select_from(ConditionDescription.join(ConditionLookup,\n",
      "                                and_(ConditionLookup.c.nct_id == nct_id,\n",
      "                                    ConditionLookup.c.source == 'CTGOV',\n",
      "                                    ConditionLookup.c.syn_flag == 0,\n",
      "                                    ConditionLookup.c.condition_id == ConditionDescription.c.condition_id)))).\\\n",
      "                    fetchall()\n",
      "\n",
      "cond_suggest = conn.execute(select([ConditionDescription.c.condition_id,\n",
      "                                    ConditionDescription.c.mesh_term]).\\\n",
      "                            select_from(ConditionDescription.join(ConditionLookup,\n",
      "                                and_(ConditionLookup.c.nct_id == nct_id,\n",
      "                                    ConditionLookup.c.source != 'CTGOV',\n",
      "                                    ConditionLookup.c.syn_flag == 0,\n",
      "                                    ConditionLookup.c.condition_id == ConditionDescription.c.condition_id)))).\\\n",
      "                    fetchall()\n"
     ],
     "language": "python",
     "metadata": {},
     "outputs": [],
     "prompt_number": 4
    },
    {
     "cell_type": "code",
     "collapsed": false,
     "input": [
      "cond_suggest"
     ],
     "language": "python",
     "metadata": {},
     "outputs": [
      {
       "metadata": {},
       "output_type": "pyout",
       "prompt_number": 5,
       "text": [
        "[(987L, 'Lymphoma'), (304L, 'Neoplasm Recurrence, Local')]"
       ]
      }
     ],
     "prompt_number": 5
    },
    {
     "cell_type": "code",
     "collapsed": false,
     "input": [
      "[{'id': c[0],\n",
      "                                                              'name': c[1]}\n",
      "                                                              for c in set(tuple(t) for t in cond_suggest)]"
     ],
     "language": "python",
     "metadata": {},
     "outputs": [
      {
       "metadata": {},
       "output_type": "pyout",
       "prompt_number": 6,
       "text": [
        "[{'id': 304L, 'name': 'Neoplasm Recurrence, Local'},\n",
        " {'id': 987L, 'name': 'Lymphoma'}]"
       ]
      }
     ],
     "prompt_number": 6
    },
    {
     "cell_type": "code",
     "collapsed": false,
     "input": [],
     "language": "python",
     "metadata": {},
     "outputs": []
    },
    {
     "cell_type": "code",
     "collapsed": false,
     "input": [
      "a = '#REDIRECT [[Brenner tumour]]'"
     ],
     "language": "python",
     "metadata": {},
     "outputs": [],
     "prompt_number": 1
    },
    {
     "cell_type": "code",
     "collapsed": false,
     "input": [
      "a[12:a.index(']]')]"
     ],
     "language": "python",
     "metadata": {},
     "outputs": [
      {
       "metadata": {},
       "output_type": "pyout",
       "prompt_number": 5,
       "text": [
        "'Brenner tumour'"
       ]
      }
     ],
     "prompt_number": 5
    },
    {
     "cell_type": "code",
     "collapsed": false,
     "input": [
      "a[13:]"
     ],
     "language": "python",
     "metadata": {},
     "outputs": [
      {
       "metadata": {},
       "output_type": "pyout",
       "prompt_number": 3,
       "text": [
        "'renner tumour]]'"
       ]
      }
     ],
     "prompt_number": 3
    },
    {
     "cell_type": "code",
     "collapsed": false,
     "input": [],
     "language": "python",
     "metadata": {},
     "outputs": []
    }
   ],
   "metadata": {}
  }
 ]
}