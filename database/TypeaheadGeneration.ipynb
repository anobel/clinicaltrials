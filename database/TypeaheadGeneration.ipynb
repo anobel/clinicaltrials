{
 "metadata": {
  "name": "",
  "signature": "sha256:42f9b9fd26d143e95a1f24ba6023d90906269273cce7f0e4ea301a0902cdc73f"
 },
 "nbformat": 3,
 "nbformat_minor": 0,
 "worksheets": [
  {
   "cells": [
    {
     "cell_type": "code",
     "collapsed": false,
     "input": [
      "import cPickle as pickle, codecs, requests, json, random, re, datetime\n",
      "from collections import Counter, defaultdict\n",
      "\n",
      "\n",
      "# SQLAlchemy setup\n",
      "from sqlalchemy import create_engine\n",
      "from sqlalchemy.sql import func, select\n",
      "from connect import mysqlusername, mysqlpassword, mysqlserver, mysqldbname\n",
      "from db_tables import metadata, InstitutionDescription, ConditionDescription"
     ],
     "language": "python",
     "metadata": {},
     "outputs": [],
     "prompt_number": 1
    },
    {
     "cell_type": "markdown",
     "metadata": {},
     "source": [
      "### Get condition and institution ranking"
     ]
    },
    {
     "cell_type": "code",
     "collapsed": false,
     "input": [
      "mysqlserver = 'localhost'\n",
      "engine = create_engine('mysql://%s:%s@%s/%s' % (mysqlusername, mysqlpassword, mysqlserver, mysqldbname), pool_recycle=3600)\n",
      "conn = engine.connect()\n",
      "metadata.create_all(engine)"
     ],
     "language": "python",
     "metadata": {},
     "outputs": [],
     "prompt_number": 2
    },
    {
     "cell_type": "code",
     "collapsed": false,
     "input": [
      "cond_rank = conn.execute('''\n",
      "                        SELECT d.condition_id,\n",
      "                          mesh_term,\n",
      "                          count(*) total\n",
      "                        FROM condition_description d\n",
      "                          JOIN condition_lookup c\n",
      "                          USING (condition_id)\n",
      "                        WHERE source = 'CTGOV'\n",
      "                        GROUP BY 1, 2\n",
      "                        ''').fetchall()\n",
      "\n",
      "inst_rank = conn.execute('''\n",
      "                        SELECT inst.institution_id,\n",
      "                          inst.name,\n",
      "                          count(*) total\n",
      "                        FROM institution_description inst\n",
      "                          JOIN institution_lookup look\n",
      "                          USING (institution_id)\n",
      "                        WHERE source = 'GOLD'\n",
      "                        GROUP BY 1, 2\n",
      "                        ''').fetchall()"
     ],
     "language": "python",
     "metadata": {},
     "outputs": [],
     "prompt_number": 3
    },
    {
     "cell_type": "markdown",
     "metadata": {},
     "source": [
      "### Typeahead objects"
     ]
    },
    {
     "cell_type": "code",
     "collapsed": false,
     "input": [
      "conditions = [{'value': str(i), 'text': c, 'type': 'cond'}\n",
      "              for i, c, cnt in sorted(cond_rank, key=lambda x: x[2], reverse=True)]\n",
      "institutions = [{'value': str(i), 'text': c, 'type': 'inst'}\n",
      "                for i, c, cnt in sorted(inst_rank, key=lambda x: x[2], reverse=True)]"
     ],
     "language": "python",
     "metadata": {},
     "outputs": [],
     "prompt_number": 7
    },
    {
     "cell_type": "code",
     "collapsed": false,
     "input": [
      "with open('../data/conditions.json','wb') as fp:\n",
      "    json.dump(conditions, fp)\n",
      "with open('../data/institutions.json','wb') as fp:\n",
      "    json.dump(institutions, fp)"
     ],
     "language": "python",
     "metadata": {},
     "outputs": [],
     "prompt_number": 8
    },
    {
     "cell_type": "markdown",
     "metadata": {},
     "source": [
      "### Institution map object"
     ]
    },
    {
     "cell_type": "code",
     "collapsed": false,
     "input": [
      "inst_loc = conn.execute('''\n",
      "                        SELECT latitude,\n",
      "                          longitude,\n",
      "                          name,\n",
      "                          institution_id\n",
      "                        FROM institution_description\n",
      "                        WHERE latitude between -90 and 90\n",
      "                          AND longitude between -180 and 180\n",
      "                        ''').fetchall()"
     ],
     "language": "python",
     "metadata": {},
     "outputs": [],
     "prompt_number": 6
    },
    {
     "cell_type": "code",
     "collapsed": false,
     "input": [
      "locations = [list(j) for j in inst_loc]"
     ],
     "language": "python",
     "metadata": {},
     "outputs": [],
     "prompt_number": 7
    },
    {
     "cell_type": "code",
     "collapsed": false,
     "input": [
      "with open('../data/locations.json','wb') as fp:\n",
      "    json.dump(locations, fp)"
     ],
     "language": "python",
     "metadata": {},
     "outputs": [],
     "prompt_number": 9
    },
    {
     "cell_type": "code",
     "collapsed": false,
     "input": [
      "conn.close()"
     ],
     "language": "python",
     "metadata": {},
     "outputs": [],
     "prompt_number": 6
    },
    {
     "cell_type": "code",
     "collapsed": false,
     "input": [],
     "language": "python",
     "metadata": {},
     "outputs": []
    }
   ],
   "metadata": {}
  }
 ]
}