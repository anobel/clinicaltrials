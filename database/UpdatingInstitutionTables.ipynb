{
 "metadata": {
  "name": "",
  "signature": "sha256:abfa55361d464271d668571a01e449288821c51b0b24f35d07c6311b30b010ad"
 },
 "nbformat": 3,
 "nbformat_minor": 0,
 "worksheets": [
  {
   "cells": [
    {
     "cell_type": "code",
     "collapsed": false,
     "input": [
      "import cPickle as pickle, codecs, requests, json, random, re, datetime\n",
      "from string import punctuation\n",
      "from bs4 import BeautifulSoup\n",
      "from collections import Counter, defaultdict\n",
      "\n",
      "\n",
      "# SQLAlchemy setup\n",
      "from sqlalchemy import create_engine\n",
      "from sqlalchemy.sql import func, select\n",
      "from connect import mysqlusername, mysqlpassword, mysqlserver, mysqldbname\n",
      "from db_tables import metadata, InstitutionDescription, InstitutionLookup, InstitutionSponsors, InstitutionFacilities"
     ],
     "language": "python",
     "metadata": {},
     "outputs": [],
     "prompt_number": 1
    },
    {
     "cell_type": "markdown",
     "metadata": {},
     "source": [
      "Initialize procedures and variables"
     ]
    },
    {
     "cell_type": "code",
     "collapsed": false,
     "input": [
      "# procedure to lowercase and remove all punctuation from a string\n",
      "def standardize(s):\n",
      "    tokens = s.split()\n",
      "    if tokens[-1][0] == \"(\":\n",
      "        s = ' '.join(tokens[:-1])\n",
      "    return re.sub('  +',' ',''.join(c for c in s.replace('/',' ').replace('-',' ') if c not in punctuation).lower())\n",
      "\n",
      "# list of meaningless facility/site names\n",
      "bad_names = [r'investigat[a-z]+ site',\n",
      "             r'research site',\n",
      "             r'recruiting site',\n",
      "             r'^private (practice|clinic)$',\n",
      "             r'research facility',\n",
      "             r'local (institut|investigat)',\n",
      "             r'study site',\n",
      "             r'clinical site',\n",
      "             r'call cent[re]+',\n",
      "             r'site ref',\n",
      "             r'site[ :]+#?[0-9]+',\n",
      "             r'^#?[0-9\\.]+$',\n",
      "             r'for additional information',\n",
      "             r'call for information',\n",
      "             r'the study is ',\n",
      "             r'[0-9\\-]{10,}',\n",
      "             r'administrative office',\n",
      "             r'^research (center|centre|fac|site|stie|unit|med)',\n",
      "             r'^site ',\n",
      "             r'^hospital$',\n",
      "             r'^test facility',\n",
      "             r'^practice$'\n",
      "             ]\n",
      "\n",
      "# list of valid institution names that appear inside other valid institution names\n",
      "ok_dupes = ['helsinki university',\n",
      "            \"queen s university\", \n",
      "            \"drexel university\", \n",
      "            \"new york university\", \n",
      "            \"uppsala university\",\n",
      "            'aids clinical trials group', \n",
      "            'mcgill university', \n",
      "            'university of connecticut', \n",
      "            'cornell university',\n",
      "            'institute of child health', \n",
      "            'university of texas', \n",
      "            'university college, london', \n",
      "            'university of south carolina',\n",
      "            'university of ottawa', \n",
      "            'indiana university',\n",
      "            'medical research council',\n",
      "            'institute of child health',\n",
      "            'state university of new york',\n",
      "            'university of california',\n",
      "            'university hospital',\n",
      "            'hospital']"
     ],
     "language": "python",
     "metadata": {},
     "outputs": [],
     "prompt_number": 2
    },
    {
     "cell_type": "markdown",
     "metadata": {},
     "source": [
      "### Load institution data"
     ]
    },
    {
     "cell_type": "markdown",
     "metadata": {},
     "source": [
      "Sponsors"
     ]
    },
    {
     "cell_type": "code",
     "collapsed": false,
     "input": [
      "sponsors = defaultdict(list)\n",
      "sponsor_ids = defaultdict(list)\n",
      "sponsors_sp = defaultdict(set)\n",
      "for row in codecs.open('../data/sponsors.txt','r','utf-8').readlines():\n",
      "    sponsor_id, nct_id, sponsor_type, sponsor_name, funding_type = row.strip().split('|')\n",
      "    \n",
      "    # add trial to sponsor dictionary\n",
      "    sponsors[sponsor_name].append(nct_id)\n",
      "    \n",
      "    # add sponsor id to sponsor_dictionary\n",
      "    sponsor_ids[sponsor_name].append(int(sponsor_id))\n",
      "    \n",
      "    # add name to standardized lookup dictionary\n",
      "    sponsors_sp[standardize(sponsor_name)].add(sponsor_name)\n",
      "\n",
      "sponsors_s = {s: Counter(sponsors_sp[s]) for s in sponsors_sp}\n",
      "del sponsors_sp"
     ],
     "language": "python",
     "metadata": {},
     "outputs": [],
     "prompt_number": 3
    },
    {
     "cell_type": "markdown",
     "metadata": {},
     "source": [
      "Sponsors matched to Freebase"
     ]
    },
    {
     "cell_type": "code",
     "collapsed": false,
     "input": [
      "# see institutions/Sponsor_* and institutions/Institution_* for the origin of this dictionary\n",
      "sponsors_good = pickle.load(open('../data/facility_match_good.pkl','rb'))\n",
      "sponsors_good_s = {standardize(s): s for s in sponsors_good.keys()}"
     ],
     "language": "python",
     "metadata": {},
     "outputs": [],
     "prompt_number": 4
    },
    {
     "cell_type": "markdown",
     "metadata": {},
     "source": [
      "Facilities"
     ]
    },
    {
     "cell_type": "code",
     "collapsed": false,
     "input": [
      "all_facs = {}\n",
      "all_facs_trials = {}\n",
      "all_facs_r = defaultdict(list)\n",
      "fac_names = defaultdict(list)\n",
      "for row in codecs.open('../data/facilities.txt','r','utf-8').readlines():\n",
      "    \n",
      "    fac_id, nct_id, status, fac_name, city, state, zipcode, country = row.strip().split(\"|\")\n",
      "    id_tup = (fac_name, city, state, zipcode, country)\n",
      "    \n",
      "    all_facs[int(fac_id)] = id_tup\n",
      "    all_facs_trials[int(fac_id)] = nct_id\n",
      "    all_facs_r[id_tup].append(int(fac_id))\n",
      "    if len(fac_name) > 0 and len(standardize(fac_name)) > 0:\n",
      "        fac_names[standardize(fac_name)].append(int(fac_id))\n",
      "\n",
      "fac_names_s = {s: Counter(all_facs[f][0] for f in fac_names[s]) for s in fac_names}"
     ],
     "language": "python",
     "metadata": {},
     "outputs": [],
     "prompt_number": 5
    },
    {
     "cell_type": "code",
     "collapsed": false,
     "input": [
      "# get deduplicated facilities\n",
      "# see institutions/Facility_* for the origin of this file\n",
      "facs = pickle.load(open('../data/facility_clusters.pkl','rb'))"
     ],
     "language": "python",
     "metadata": {},
     "outputs": [],
     "prompt_number": 6
    },
    {
     "cell_type": "code",
     "collapsed": false,
     "input": [
      "# get most frequent facility name for deduped facility clusters\n",
      "facs_mode = facs.groupby(['cluster','facility_name']).facility_id.count().reset_index()\n",
      "facs_mode['len_fac'] = facs_mode.facility_name.apply(lambda x: len(x))\n",
      "clus_name = facs_mode.sort(['cluster', 0, 'len_fac'], ascending=[1,0,1]).drop_duplicates(['cluster'])[['cluster','facility_name']].set_index('cluster')"
     ],
     "language": "python",
     "metadata": {},
     "outputs": [],
     "prompt_number": 7
    },
    {
     "cell_type": "code",
     "collapsed": false,
     "input": [
      "# create lookup of cluster to facility id\n",
      "clus_lookup = facs[['cluster','facility_id']].set_index('cluster')\n",
      "clus_names = defaultdict(set)\n",
      "for c in clus_name[clus_name.facility_name.apply(lambda x: standardize(x) in sponsors_good_s)].index:\n",
      "    c_name = standardize(clus_name.loc[c].values[0])\n",
      "    # fix University of Texas issue\n",
      "    if c_name == 'university of texas at austin': c_name = 'university of texas'\n",
      "    for f in clus_lookup.loc[c].values:\n",
      "        clus_names[c_name].add(f[0])"
     ],
     "language": "python",
     "metadata": {},
     "outputs": [],
     "prompt_number": 8
    },
    {
     "cell_type": "markdown",
     "metadata": {},
     "source": [
      "### Summarize institution data"
     ]
    },
    {
     "cell_type": "markdown",
     "metadata": {},
     "source": [
      "Add the canonical institutions (ie those that have been matched to Freebase)"
     ]
    },
    {
     "cell_type": "code",
     "collapsed": false,
     "input": [
      "# get lookup of (good) sponsor names that appear in other (good) sponsor names\n",
      "dupes = {i: [j for j in sponsors_good_s if re.search(r'\\b%s\\b' % i, j) and i != j]\n",
      "         for i in sponsors_good_s\n",
      "         if i not in ok_dupes and\n",
      "         len([j for j in sponsors_good_s if re.search(r'\\b%s\\b' % i, j) and i != j]) > 0}\n",
      "dupes['university of texas'] = ['university of texas at austin']\n",
      "dupes_r = {i for k, v in dupes.items() for i in v}\n",
      "\n",
      "ok_dupes_lookup = {i: [j for j in sponsors_good_s if re.search(r'\\b%s\\b' % i, j) and i != j]\n",
      "                   for i in sponsors_good_s\n",
      "                   if i in ok_dupes and\n",
      "                   len([j for j in sponsors_good_s if re.search(r'\\b%s\\b' % i, j) and i != j]) > 0}"
     ],
     "language": "python",
     "metadata": {},
     "outputs": [],
     "prompt_number": 9
    },
    {
     "cell_type": "code",
     "collapsed": false,
     "input": [
      "print datetime.datetime.now()\n",
      "print\n",
      "\n",
      "inst_dict = {}\n",
      "fac_inst = defaultdict(set)\n",
      "found_in_fac = defaultdict(set)\n",
      "\n",
      "# add all sponsors that have been matched to Freebase metadata\n",
      "for s in sponsors_good_s.keys():\n",
      "    \n",
      "    if s not in dupes_r:\n",
      "\n",
      "        # actual key\n",
      "        sk = sponsors_good_s[s]\n",
      "\n",
      "        # generating institution object\n",
      "        inst_dict[s] = {'name': sk,\n",
      "                        'cert': 'gold',\n",
      "                        'loc': sponsors_good[sk]['geo']['loc'] or '',\n",
      "                        'img': sponsors_good[sk]['image'] or '',\n",
      "                        'desc': sponsors_good[sk]['summary'] or '',\n",
      "                        'lat': sponsors_good[sk]['geo']['lat'] if 'lat' in sponsors_good[sk]['geo'] else 999.0,\n",
      "                        'lng': sponsors_good[sk]['geo']['lng'] if 'lng' in sponsors_good[sk]['geo'] else 999.0,\n",
      "                        'sponsors': set(sponsors_s[s].keys())}\n",
      "\n",
      "        if s in clus_names: \n",
      "            inst_dict[s]['facs'] = clus_names[s]\n",
      "            for f in clus_names[s]:\n",
      "                fac_inst[f].add(s)\n",
      "        else:\n",
      "            inst_dict[s]['facs'] = set()\n",
      "        \n",
      "        if s in dupes:\n",
      "            for d in dupes[s]:\n",
      "                inst_dict[s]['sponsors'] |= set(sponsors_s[d].keys())\n",
      "                if d in clus_names:\n",
      "                    inst_dict[s]['facs'] |= clus_names[d]\n",
      "                for f in clus_names[d]:\n",
      "                    fac_inst[f].add(s)\n",
      "\n",
      "        # fill in facilities that include the certified sponsor name\n",
      "        if s not in ['3m','rand','university of texas']:\n",
      "            r = re.compile(r'\\b%s\\b' % s)\n",
      "            poss_fac = [f for f in fac_names if s in f and s != f]\n",
      "            for f in poss_fac:\n",
      "                if r.search(f) and \\\n",
      "                   (s not in ok_dupes or s not in ok_dupes_lookup \\\n",
      "                                      or not max([True if re.search(r'\\b%s\\b' % d, f) else False \n",
      "                                                  for d in ok_dupes_lookup[s]])) and \\\n",
      "                   (s != 'abbott' or not max([True if d in f else False \n",
      "                                              for d in ['northwest','minneap',' md']])):\n",
      "                    found_in_fac[s].add(f)\n",
      "                    for fid in fac_names[f]:\n",
      "                        inst_dict[s]['facs'].add(fid)\n",
      "                        fac_inst[fid].add(s)\n",
      "\n",
      "print datetime.datetime.now()\n",
      "print"
     ],
     "language": "python",
     "metadata": {},
     "outputs": [
      {
       "output_type": "stream",
       "stream": "stdout",
       "text": [
        "2015-03-28 22:45:52.407849\n",
        "\n",
        "2015-03-28 22:48:53.500391"
       ]
      },
      {
       "output_type": "stream",
       "stream": "stdout",
       "text": [
        "\n",
        "\n"
       ]
      }
     ],
     "prompt_number": 10
    },
    {
     "cell_type": "code",
     "collapsed": false,
     "input": [
      "print len([f for i in inst_dict.values() for f in i['facs']])\n",
      "print len(set([f for i in inst_dict.values() for f in i['facs']]))\n",
      "print len(fac_inst)\n",
      "print len(inst_dict)"
     ],
     "language": "python",
     "metadata": {},
     "outputs": [
      {
       "output_type": "stream",
       "stream": "stdout",
       "text": [
        "296169\n",
        "294487"
       ]
      },
      {
       "output_type": "stream",
       "stream": "stdout",
       "text": [
        "\n",
        "294487\n",
        "1075\n"
       ]
      }
     ],
     "prompt_number": 11
    },
    {
     "cell_type": "markdown",
     "metadata": {},
     "source": [
      "Add other sponsors who haven't been match to Freebase"
     ]
    },
    {
     "cell_type": "code",
     "collapsed": false,
     "input": [
      "# add other sponsors who haven't been matched to Freebase\n",
      "print datetime.datetime.now()\n",
      "print\n",
      "\n",
      "multi_match = defaultdict(set)\n",
      "s_in_i = defaultdict(set)\n",
      "i_in_s = defaultdict(set)\n",
      "\n",
      "inst_re = {i: re.compile(r'\\b%s\\b' % i) for i in inst_dict}\n",
      "\n",
      "done_sponsors = {standardize(s) for i in inst_dict for s in inst_dict[i]['sponsors']}\n",
      "\n",
      "for s in sponsors_s.keys():\n",
      "    \n",
      "    if s not in done_sponsors and len(s.replace(' ','')) > 1:\n",
      "        \n",
      "        # flag to add new institution from sponsor name\n",
      "        add_anyway = True\n",
      "        \n",
      "        # check to see if any current institution name is a subset of this institution\n",
      "        poss_inst_match = [i for i in inst_re if inst_re[i].search(s)]\n",
      "        for cur_inst in poss_inst_match:\n",
      "            if cur_inst not in ok_dupes:\n",
      "                add_anyway = False\n",
      "                i_in_s[cur_inst].add(s)\n",
      "                inst_dict[cur_inst]['sponsors'] |= set(sponsors_s[s].keys())\n",
      "        \n",
      "        # check to see in any facilities are part of an existing institution, and if so, add them to that\n",
      "        if s in fac_names and add_anyway:\n",
      "            \n",
      "            these_facs = set(fac_names[s])\n",
      "            these_inst = list(set(i for f in these_facs if f in fac_inst for i in fac_inst[f]))\n",
      "            for cur_inst in these_inst:\n",
      "                \n",
      "                add_anyway = False\n",
      "                inst_in_spon = cur_inst in s\n",
      "                inst_in_dupe = cur_inst in ok_dupes\n",
      "                spon_in_inst = s in cur_inst\n",
      "                spon_in_dupe = s in ok_dupes\n",
      "                \n",
      "                if (inst_in_spon and not inst_in_dupe) or (spon_in_inst and not spon_in_dupe):\n",
      "                    if inst_in_spon:\n",
      "                        i_in_s[cur_inst].add(s)\n",
      "                    if spon_in_inst:\n",
      "                        s_in_i[cur_inst].add(s)\n",
      "                    inst_dict[cur_inst]['facs'] |= these_facs\n",
      "                    inst_dict[cur_inst]['sponsors'] |= set(sponsors_s[s].keys())\n",
      "                    for f in these_facs:\n",
      "                        fac_inst[f].add(cur_inst)\n",
      "\n",
      "                else:\n",
      "                    add_anyway = True\n",
      "                    multi_match[s].add(cur_inst)\n",
      "        \n",
      "        # otherwise just add the sponsor and any matching facilities\n",
      "        if add_anyway:\n",
      "            \n",
      "            inst_dict[s] = {'name': sponsors_s[s].most_common(1)[0][0],\n",
      "                            'cert': 'sponsor',\n",
      "                            'loc': '',\n",
      "                            'img': '',\n",
      "                            'desc': '',\n",
      "                            'lat': 999.0,\n",
      "                            'lng': 999.0,\n",
      "                            'sponsors': set(sponsors_s[s].keys())}\n",
      "\n",
      "            if s in fac_names:\n",
      "                inst_dict[s]['facs'] = set(fac_names[s])\n",
      "                for f in fac_names[s]:\n",
      "                    fac_inst[f].add(s)\n",
      "            else:\n",
      "                inst_dict[s]['facs'] = set()\n",
      "\n",
      "print datetime.datetime.now()\n",
      "print"
     ],
     "language": "python",
     "metadata": {},
     "outputs": [
      {
       "output_type": "stream",
       "stream": "stdout",
       "text": [
        "2015-03-28 22:48:53.852996\n",
        "\n",
        "2015-03-28 22:49:22.353656"
       ]
      },
      {
       "output_type": "stream",
       "stream": "stdout",
       "text": [
        "\n",
        "\n"
       ]
      }
     ],
     "prompt_number": 12
    },
    {
     "cell_type": "code",
     "collapsed": false,
     "input": [
      "print len([f for i in inst_dict.values() for f in i['facs']])\n",
      "print len(set([f for i in inst_dict.values() for f in i['facs']]))\n",
      "print len(fac_inst)\n",
      "print len(inst_dict)"
     ],
     "language": "python",
     "metadata": {},
     "outputs": [
      {
       "output_type": "stream",
       "stream": "stdout",
       "text": [
        "355343\n",
        "352933"
       ]
      },
      {
       "output_type": "stream",
       "stream": "stdout",
       "text": [
        "\n",
        "352933\n",
        "29021\n"
       ]
      }
     ],
     "prompt_number": 13
    },
    {
     "cell_type": "code",
     "collapsed": false,
     "input": [
      "# # resetting to just the canonical institutions\n",
      "# for i in inst_dict.keys():\n",
      "#     if not inst_dict[i]['cert']: del inst_dict[i]\n",
      "\n",
      "# inst_set = set(inst_dict.keys())\n",
      "# for f in fac_inst.keys():\n",
      "#     fac_inst[f] &= inst_set"
     ],
     "language": "python",
     "metadata": {},
     "outputs": [],
     "prompt_number": 14
    },
    {
     "cell_type": "markdown",
     "metadata": {},
     "source": [
      "Fill in facilities that don't have meaningless names"
     ]
    },
    {
     "cell_type": "code",
     "collapsed": false,
     "input": [
      "# filling in facilities where some id's weren't picked up by the other matches\n",
      "to_fill = defaultdict(set)\n",
      "for s in fac_names:\n",
      "    if s not in multi_match and s not in inst_dict:\n",
      "        these_facs = set(fac_names[s])\n",
      "        these_inst = list(set(i for f in these_facs if f in fac_inst for i in fac_inst[f]))\n",
      "        if len(these_inst) >= 1:\n",
      "            for cur_inst in these_inst:\n",
      "                if (cur_inst in s and cur_inst not in ok_dupes) or (s in cur_inst and s not in ok_dupes):\n",
      "                    inst_dict[cur_inst]['facs'] |= these_facs\n",
      "                    for f in these_facs:\n",
      "                        fac_inst[f].add(cur_inst)\n",
      "                else:\n",
      "                    to_fill[s] |= set(fac_names[s])\n",
      "        elif min([not re.search(b,s) for b in bad_names]):\n",
      "            to_fill[s] |= set(fac_names[s])"
     ],
     "language": "python",
     "metadata": {},
     "outputs": [],
     "prompt_number": 15
    },
    {
     "cell_type": "code",
     "collapsed": false,
     "input": [
      "sorted([(t, len(to_fill[t])) for t in to_fill], key=lambda x: x[1], reverse=True)[:10]"
     ],
     "language": "python",
     "metadata": {},
     "outputs": [
      {
       "metadata": {},
       "output_type": "pyout",
       "prompt_number": 16,
       "text": [
        "[(u'university of minnesota', 550),\n",
        " (u'cincinnati childrens hospital medical center', 533),\n",
        " (u'cleveland clinic foundation', 523),\n",
        " (u'cleveland clinic', 507),\n",
        " (u'princess margaret hospital', 441),\n",
        " (u'ccop wichita', 422),\n",
        " (u'cleveland clinic taussig cancer center', 416),\n",
        " (u'duke comprehensive cancer center', 383),\n",
        " (u'oregon health science university', 374),\n",
        " (u'institut gustave roussy', 369)]"
       ]
      }
     ],
     "prompt_number": 16
    },
    {
     "cell_type": "code",
     "collapsed": false,
     "input": [
      "for f in to_fill:\n",
      "    inst_dict[f] = {'name': fac_names_s[f].most_common(1)[0][0],\n",
      "                    'cert': 'facility',\n",
      "                    'loc': '',\n",
      "                    'img': '',\n",
      "                    'desc': '',\n",
      "                    'lat': 999.0,\n",
      "                    'lng': 999.0,\n",
      "                    'sponsors': set(),\n",
      "                    'facs': to_fill[f]}"
     ],
     "language": "python",
     "metadata": {},
     "outputs": [],
     "prompt_number": 17
    },
    {
     "cell_type": "code",
     "collapsed": false,
     "input": [
      "print len([f for i in inst_dict.values() for f in i['facs']])\n",
      "print len(set([f for i in inst_dict.values() for f in i['facs']]))\n",
      "print len(fac_inst)\n",
      "print len(inst_dict)"
     ],
     "language": "python",
     "metadata": {},
     "outputs": [
      {
       "output_type": "stream",
       "stream": "stdout",
       "text": [
        "838423\n",
        "823549"
       ]
      },
      {
       "output_type": "stream",
       "stream": "stdout",
       "text": [
        "\n",
        "353668\n",
        "182839\n"
       ]
      }
     ],
     "prompt_number": 18
    },
    {
     "cell_type": "markdown",
     "metadata": {},
     "source": [
      "### Create master institution lookup dictionary"
     ]
    },
    {
     "cell_type": "code",
     "collapsed": false,
     "input": [
      "inst_trials = {i: set(f for s in inst_dict[i]['sponsors'] for f in sponsors[s]) | \\\n",
      "                  set(all_facs_trials[f] for f in inst_dict[i]['facs'])\n",
      "               for i in inst_dict}"
     ],
     "language": "python",
     "metadata": {},
     "outputs": [],
     "prompt_number": 19
    },
    {
     "cell_type": "code",
     "collapsed": false,
     "input": [
      "# and create institution id lookup\n",
      "inst_ids = {i: e for e, i in enumerate(inst_dict.keys())}"
     ],
     "language": "python",
     "metadata": {},
     "outputs": [],
     "prompt_number": 20
    },
    {
     "cell_type": "markdown",
     "metadata": {},
     "source": [
      "### Set up MySQL"
     ]
    },
    {
     "cell_type": "code",
     "collapsed": false,
     "input": [
      "# mysqlserver = 'localhost'\n",
      "engine = create_engine('mysql://%s:%s@%s/%s' % (mysqlusername, mysqlpassword, mysqlserver, mysqldbname))\n",
      "conn = engine.connect()\n",
      "metadata.create_all(engine)"
     ],
     "language": "python",
     "metadata": {},
     "outputs": [],
     "prompt_number": 30
    },
    {
     "cell_type": "markdown",
     "metadata": {},
     "source": [
      "Insert data"
     ]
    },
    {
     "cell_type": "code",
     "collapsed": false,
     "input": [
      "for k in range(0,len(inst_dict),10000):\n",
      "    print k\n",
      "    conn.execute(InstitutionDescription.insert(), [{'institution_id': inst_ids[i],\n",
      "                                                    'name': inst_dict[i]['name'],\n",
      "                                                    'source': inst_dict[i]['cert'].upper(),\n",
      "                                                    'location': inst_dict[i]['loc'],\n",
      "                                                    'image_url': inst_dict[i]['img'],\n",
      "                                                    'description': inst_dict[i]['desc'],\n",
      "                                                    'latitude': inst_dict[i]['lat'],\n",
      "                                                    'longitude': inst_dict[i]['lng']}\n",
      "                                                   for i in inst_dict.keys()[k:k+10000]])"
     ],
     "language": "python",
     "metadata": {},
     "outputs": [
      {
       "output_type": "stream",
       "stream": "stdout",
       "text": [
        "0\n",
        "10000"
       ]
      },
      {
       "output_type": "stream",
       "stream": "stdout",
       "text": [
        "\n",
        "20000"
       ]
      },
      {
       "output_type": "stream",
       "stream": "stdout",
       "text": [
        "\n",
        "30000"
       ]
      },
      {
       "output_type": "stream",
       "stream": "stdout",
       "text": [
        "\n",
        "40000"
       ]
      },
      {
       "output_type": "stream",
       "stream": "stdout",
       "text": [
        "\n",
        "50000"
       ]
      },
      {
       "output_type": "stream",
       "stream": "stdout",
       "text": [
        "\n",
        "60000"
       ]
      },
      {
       "output_type": "stream",
       "stream": "stdout",
       "text": [
        "\n",
        "70000"
       ]
      },
      {
       "output_type": "stream",
       "stream": "stdout",
       "text": [
        "\n",
        "80000"
       ]
      },
      {
       "output_type": "stream",
       "stream": "stdout",
       "text": [
        "\n",
        "90000"
       ]
      },
      {
       "output_type": "stream",
       "stream": "stdout",
       "text": [
        "\n",
        "100000"
       ]
      },
      {
       "output_type": "stream",
       "stream": "stdout",
       "text": [
        "\n",
        "110000"
       ]
      },
      {
       "output_type": "stream",
       "stream": "stdout",
       "text": [
        "\n",
        "120000"
       ]
      },
      {
       "output_type": "stream",
       "stream": "stdout",
       "text": [
        "\n",
        "130000"
       ]
      },
      {
       "output_type": "stream",
       "stream": "stdout",
       "text": [
        "\n",
        "140000"
       ]
      },
      {
       "output_type": "stream",
       "stream": "stdout",
       "text": [
        "\n",
        "150000"
       ]
      },
      {
       "output_type": "stream",
       "stream": "stdout",
       "text": [
        "\n",
        "160000"
       ]
      },
      {
       "output_type": "stream",
       "stream": "stdout",
       "text": [
        "\n",
        "170000"
       ]
      },
      {
       "output_type": "stream",
       "stream": "stdout",
       "text": [
        "\n",
        "180000"
       ]
      },
      {
       "output_type": "stream",
       "stream": "stdout",
       "text": [
        "\n"
       ]
      }
     ],
     "prompt_number": 31
    },
    {
     "cell_type": "code",
     "collapsed": false,
     "input": [
      "for k in range(0,len(inst_dict),10000):\n",
      "    print k\n",
      "    conn.execute(InstitutionSponsors.insert(), [{'institution_id': inst_ids[i],\n",
      "                                                 'sponsor_name': s}\n",
      "                                                for i in inst_dict.keys()[k:k+10000]\n",
      "                                                for s in inst_dict[i]['sponsors']])"
     ],
     "language": "python",
     "metadata": {},
     "outputs": [
      {
       "output_type": "stream",
       "stream": "stdout",
       "text": [
        "0\n",
        "10000"
       ]
      },
      {
       "output_type": "stream",
       "stream": "stdout",
       "text": [
        "\n",
        "20000"
       ]
      },
      {
       "output_type": "stream",
       "stream": "stdout",
       "text": [
        "\n",
        "30000"
       ]
      },
      {
       "output_type": "stream",
       "stream": "stdout",
       "text": [
        "\n",
        "40000"
       ]
      },
      {
       "output_type": "stream",
       "stream": "stdout",
       "text": [
        "\n",
        "50000"
       ]
      },
      {
       "output_type": "stream",
       "stream": "stdout",
       "text": [
        "\n",
        "60000"
       ]
      },
      {
       "output_type": "stream",
       "stream": "stdout",
       "text": [
        "\n",
        "70000"
       ]
      },
      {
       "output_type": "stream",
       "stream": "stdout",
       "text": [
        "\n",
        "80000"
       ]
      },
      {
       "output_type": "stream",
       "stream": "stdout",
       "text": [
        "\n",
        "90000"
       ]
      },
      {
       "output_type": "stream",
       "stream": "stdout",
       "text": [
        "\n",
        "100000"
       ]
      },
      {
       "output_type": "stream",
       "stream": "stdout",
       "text": [
        "\n",
        "110000"
       ]
      },
      {
       "output_type": "stream",
       "stream": "stdout",
       "text": [
        "\n",
        "120000"
       ]
      },
      {
       "output_type": "stream",
       "stream": "stdout",
       "text": [
        "\n",
        "130000"
       ]
      },
      {
       "output_type": "stream",
       "stream": "stdout",
       "text": [
        "\n",
        "140000"
       ]
      },
      {
       "output_type": "stream",
       "stream": "stdout",
       "text": [
        "\n",
        "150000"
       ]
      },
      {
       "output_type": "stream",
       "stream": "stdout",
       "text": [
        "\n",
        "160000"
       ]
      },
      {
       "output_type": "stream",
       "stream": "stdout",
       "text": [
        "\n",
        "170000"
       ]
      },
      {
       "output_type": "stream",
       "stream": "stdout",
       "text": [
        "\n",
        "180000"
       ]
      },
      {
       "output_type": "stream",
       "stream": "stdout",
       "text": [
        "\n"
       ]
      }
     ],
     "prompt_number": 32
    },
    {
     "cell_type": "code",
     "collapsed": false,
     "input": [
      "inst_facs = {i: set(all_facs[f] for f in inst_dict[i]['facs']) for i in inst_dict}"
     ],
     "language": "python",
     "metadata": {},
     "outputs": [],
     "prompt_number": 24
    },
    {
     "cell_type": "code",
     "collapsed": false,
     "input": [
      "for k in range(0,len(inst_facs),10000):\n",
      "    print k\n",
      "    conn.execute(InstitutionFacilities.insert(), [{'institution_id': inst_ids[i],\n",
      "                                                   'facility_name': t[0],\n",
      "                                                   'city': t[1],\n",
      "                                                   'state': t[2],\n",
      "                                                   'zip': t[3],\n",
      "                                                   'country': t[4]}\n",
      "                                                  for i in inst_facs.keys()[k:k+10000]\n",
      "                                                  if inst_ids[i] != 127784\n",
      "                                                  for t in inst_facs[i]])"
     ],
     "language": "python",
     "metadata": {},
     "outputs": [
      {
       "output_type": "stream",
       "stream": "stdout",
       "text": [
        "0\n",
        "10000"
       ]
      },
      {
       "output_type": "stream",
       "stream": "stdout",
       "text": [
        "\n",
        "20000"
       ]
      },
      {
       "output_type": "stream",
       "stream": "stdout",
       "text": [
        "\n",
        "30000"
       ]
      },
      {
       "output_type": "stream",
       "stream": "stdout",
       "text": [
        "\n",
        "40000"
       ]
      },
      {
       "output_type": "stream",
       "stream": "stdout",
       "text": [
        "\n",
        "50000"
       ]
      },
      {
       "output_type": "stream",
       "stream": "stdout",
       "text": [
        "\n",
        "60000"
       ]
      },
      {
       "output_type": "stream",
       "stream": "stdout",
       "text": [
        "\n",
        "70000"
       ]
      },
      {
       "output_type": "stream",
       "stream": "stdout",
       "text": [
        "\n",
        "80000"
       ]
      },
      {
       "output_type": "stream",
       "stream": "stdout",
       "text": [
        "\n",
        "90000"
       ]
      },
      {
       "output_type": "stream",
       "stream": "stdout",
       "text": [
        "\n",
        "100000"
       ]
      },
      {
       "output_type": "stream",
       "stream": "stdout",
       "text": [
        "\n",
        "110000"
       ]
      },
      {
       "output_type": "stream",
       "stream": "stdout",
       "text": [
        "\n",
        "120000"
       ]
      },
      {
       "output_type": "stream",
       "stream": "stdout",
       "text": [
        "\n",
        "130000"
       ]
      },
      {
       "output_type": "stream",
       "stream": "stdout",
       "text": [
        "\n",
        "140000"
       ]
      },
      {
       "output_type": "stream",
       "stream": "stdout",
       "text": [
        "\n",
        "150000"
       ]
      },
      {
       "output_type": "stream",
       "stream": "stdout",
       "text": [
        "\n",
        "160000"
       ]
      },
      {
       "output_type": "stream",
       "stream": "stdout",
       "text": [
        "\n",
        "170000"
       ]
      },
      {
       "output_type": "stream",
       "stream": "stdout",
       "text": [
        "\n",
        "180000"
       ]
      },
      {
       "output_type": "stream",
       "stream": "stdout",
       "text": [
        "\n"
       ]
      }
     ],
     "prompt_number": 33
    },
    {
     "cell_type": "code",
     "collapsed": false,
     "input": [
      "for k in range(0,len(inst_trials),10000):\n",
      "    print k\n",
      "    conn.execute(InstitutionLookup.insert(), [{'institution_id': inst_ids[i],\n",
      "                                               'nct_id': t}\n",
      "                                              for i in inst_dict.keys()[k:k+10000]\n",
      "                                              for t in inst_trials[i]])"
     ],
     "language": "python",
     "metadata": {},
     "outputs": [
      {
       "output_type": "stream",
       "stream": "stdout",
       "text": [
        "0\n",
        "10000"
       ]
      },
      {
       "output_type": "stream",
       "stream": "stdout",
       "text": [
        "\n",
        "20000"
       ]
      },
      {
       "output_type": "stream",
       "stream": "stdout",
       "text": [
        "\n",
        "30000"
       ]
      },
      {
       "output_type": "stream",
       "stream": "stdout",
       "text": [
        "\n",
        "40000"
       ]
      },
      {
       "output_type": "stream",
       "stream": "stdout",
       "text": [
        "\n",
        "50000"
       ]
      },
      {
       "output_type": "stream",
       "stream": "stdout",
       "text": [
        "\n",
        "60000"
       ]
      },
      {
       "output_type": "stream",
       "stream": "stdout",
       "text": [
        "\n",
        "70000"
       ]
      },
      {
       "output_type": "stream",
       "stream": "stdout",
       "text": [
        "\n",
        "80000"
       ]
      },
      {
       "output_type": "stream",
       "stream": "stdout",
       "text": [
        "\n",
        "90000"
       ]
      },
      {
       "output_type": "stream",
       "stream": "stdout",
       "text": [
        "\n",
        "100000"
       ]
      },
      {
       "output_type": "stream",
       "stream": "stdout",
       "text": [
        "\n",
        "110000"
       ]
      },
      {
       "output_type": "stream",
       "stream": "stdout",
       "text": [
        "\n",
        "120000"
       ]
      },
      {
       "output_type": "stream",
       "stream": "stdout",
       "text": [
        "\n",
        "130000"
       ]
      },
      {
       "output_type": "stream",
       "stream": "stdout",
       "text": [
        "\n",
        "140000"
       ]
      },
      {
       "output_type": "stream",
       "stream": "stdout",
       "text": [
        "\n",
        "150000"
       ]
      },
      {
       "output_type": "stream",
       "stream": "stdout",
       "text": [
        "\n",
        "160000"
       ]
      },
      {
       "output_type": "stream",
       "stream": "stdout",
       "text": [
        "\n",
        "170000"
       ]
      },
      {
       "output_type": "stream",
       "stream": "stdout",
       "text": [
        "\n",
        "180000"
       ]
      },
      {
       "output_type": "stream",
       "stream": "stdout",
       "text": [
        "\n"
       ]
      }
     ],
     "prompt_number": 34
    },
    {
     "cell_type": "code",
     "collapsed": false,
     "input": [
      "conn.close()"
     ],
     "language": "python",
     "metadata": {},
     "outputs": [],
     "prompt_number": 35
    },
    {
     "cell_type": "code",
     "collapsed": false,
     "input": [],
     "language": "python",
     "metadata": {},
     "outputs": []
    }
   ],
   "metadata": {}
  }
 ]
}