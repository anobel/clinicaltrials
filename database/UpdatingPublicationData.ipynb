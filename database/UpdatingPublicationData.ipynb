{
 "metadata": {
  "name": "",
  "signature": "sha256:41f7ddf00b84fccdb4fe75ced2753b2e1220516de69b38e538af7bcbbf155ca2"
 },
 "nbformat": 3,
 "nbformat_minor": 0,
 "worksheets": [
  {
   "cells": [
    {
     "cell_type": "code",
     "collapsed": false,
     "input": [
      "import cPickle as pickle, requests, codecs\n",
      "from bs4 import BeautifulSoup\n",
      "\n",
      "from sqlalchemy import create_engine\n",
      "from connect import mysqlusername, mysqlpassword, mysqlserver, mysqldbname\n",
      "from collections import defaultdict\n",
      "\n",
      "#from sqlalchemy.orm import sessionmaker\n",
      "#from db_models import Base, ClinicalStudy, Facilities, Sponsors\n",
      "\n",
      "from sqlalchemy.sql import func, select, and_, or_, not_, desc\n",
      "from db_tables import metadata, Reference, TrialPublications"
     ],
     "language": "python",
     "metadata": {},
     "outputs": []
    },
    {
     "cell_type": "markdown",
     "metadata": {},
     "source": [
      "### Get journal title from PubMed"
     ]
    },
    {
     "cell_type": "code",
     "collapsed": false,
     "input": [
      "publications = pickle.load(open('../data/pub_lookup_dict.pkl','rb'))"
     ],
     "language": "python",
     "metadata": {},
     "outputs": []
    },
    {
     "cell_type": "code",
     "collapsed": false,
     "input": [
      "pmids = publications.keys()"
     ],
     "language": "python",
     "metadata": {},
     "outputs": []
    },
    {
     "cell_type": "code",
     "collapsed": false,
     "input": [
      "print len(pmids)"
     ],
     "language": "python",
     "metadata": {},
     "outputs": []
    },
    {
     "cell_type": "code",
     "collapsed": false,
     "input": [
      "template = 'http://eutils.ncbi.nlm.nih.gov/entrez/eutils/efetch.fcgi?db=pubmed&id=%s&retmode=xml&retmax=10000'\n",
      "bad = []\n",
      "ok = {}"
     ],
     "language": "python",
     "metadata": {},
     "outputs": []
    },
    {
     "cell_type": "code",
     "collapsed": false,
     "input": [
      "for i in range(0,len(pmids),100):\n",
      "    these_pubs = [p for p in pmids[i:i+100] if p not in ok]\n",
      "    if these_pubs:\n",
      "        r = requests.get(template % these_pubs)\n",
      "        if r.status_code == 200:\n",
      "            soup = BeautifulSoup(r.text)\n",
      "            for a in soup.findAll('pubmedarticle'):\n",
      "                this_pmid = a.pmid.contents[0]\n",
      "                if this_pmid in these_pubs:\n",
      "                    title = a.article.articletitle.contents[0]\n",
      "                    \n",
      "                    if a.article.journal.isoabbreviation:\n",
      "                        journal = a.article.journal.isoabbreviation.contents[0]\n",
      "                    else:\n",
      "                        journal = a.article.journal.title.contents[0]\n",
      "                    if journal[-1] != '.': journal + '.'\n",
      "                    \n",
      "                    if a.article.journal.journalissue.volume:\n",
      "                        vol = a.article.journal.journalissue.volume.contents[0]\n",
      "                    else:\n",
      "                        vol = ''\n",
      "                    \n",
      "                    if a.article.journal.journalissue.issue:\n",
      "                        iss = '(%s)' % a.article.journal.journalissue.issue.contents[0]\n",
      "                    else:\n",
      "                        iss = ''\n",
      "                    \n",
      "                    pubdate = ' '.join([c for c in a.article.journal.journalissue.pubdate.strings if c != '\\n'])\n",
      "                    \n",
      "                    if a.article.pagination.medlinepgn.contents:\n",
      "                        pages = ':%s' % a.article.pagination.medlinepgn.contents[0]\n",
      "                    else:\n",
      "                        pages = ''\n",
      "                    \n",
      "                    authors = []\n",
      "                    for t in a.article.authorlist.findAll('author'):\n",
      "                        if t.lastname:\n",
      "                            if t.initials:\n",
      "                                authors.append(t.lastname.contents[0] + ' ' + t.initials.contents[0])\n",
      "                            else:\n",
      "                                authors.append(t.lastname.contents[0])\n",
      "                    \n",
      "                    ok[this_pmid] = {'authors': ', '.join(authors),\n",
      "                                     'title': title,\n",
      "                                     'citation': '%s %s;%s%s%s.' % (journal,\n",
      "                                                                        pubdate,\n",
      "                                                                        vol,\n",
      "                                                                        iss,\n",
      "                                                                        pages),\n",
      "                                     }\n",
      "        else:\n",
      "            bad += these_pubs\n",
      "    \n",
      "    if i % 100 == 0: print i"
     ],
     "language": "python",
     "metadata": {},
     "outputs": []
    },
    {
     "cell_type": "code",
     "collapsed": false,
     "input": [
      "print len(ok)\n",
      "print len(bad)"
     ],
     "language": "python",
     "metadata": {},
     "outputs": []
    },
    {
     "cell_type": "code",
     "collapsed": false,
     "input": [
      "f = codecs.open('../data/pub_lookup_journals.txt','w','utf-8')\n",
      "for p in ok:\n",
      "    to_write = '||'.join([p,ok[p]['authors'],ok[p]['title'].replace(u'\\u2029',' '),ok[p]['citation']]) + '\\n'\n",
      "    f.write(to_write)\n",
      "\n",
      "f.close()"
     ],
     "language": "python",
     "metadata": {},
     "outputs": []
    },
    {
     "cell_type": "markdown",
     "metadata": {},
     "source": [
      "### Load publication data to MySQL database"
     ]
    },
    {
     "cell_type": "code",
     "collapsed": false,
     "input": [
      "investigators_trials = pickle.load(open('../data/trial_invest_pub_match_dict.pkl','rb'))\n",
      "publications = pickle.load(open('../data/pub_lookup_dict.pkl','rb'))"
     ],
     "language": "python",
     "metadata": {},
     "outputs": []
    },
    {
     "cell_type": "code",
     "collapsed": false,
     "input": [
      "journals = {}\n",
      "for row in codecs.open('../data/pub_lookup_journals.txt','r','utf-8').readlines():\n",
      "    k, a, t, c = row.strip().split('||')\n",
      "    journals[k] = {'authors': a, 'title': t, 'citation': c}"
     ],
     "language": "python",
     "metadata": {},
     "outputs": []
    },
    {
     "cell_type": "code",
     "collapsed": false,
     "input": [
      "mysqlserver = 'localhost'\n",
      "engine = create_engine('mysql://%s:%s@%s/%s' % (mysqlusername, mysqlpassword, mysqlserver, mysqldbname))\n",
      "conn = engine.connect()\n",
      "metadata.create_all(engine)"
     ],
     "language": "python",
     "metadata": {},
     "outputs": []
    },
    {
     "cell_type": "markdown",
     "metadata": {},
     "source": [
      "Set up PMID to NCT_ID dictionary"
     ]
    },
    {
     "cell_type": "code",
     "collapsed": false,
     "input": [
      "pmid_trials = defaultdict(dict)\n",
      "for i in investigators_trials:\n",
      "    for n in investigators_trials[i]:\n",
      "        for p in investigators_trials[i][n]:\n",
      "            pmid_trials[p][n] = 0.0"
     ],
     "language": "python",
     "metadata": {},
     "outputs": []
    },
    {
     "cell_type": "markdown",
     "metadata": {},
     "source": [
      "Get current reference table and split apart information into units we need"
     ]
    },
    {
     "cell_type": "code",
     "collapsed": false,
     "input": [
      "cur_ref = conn.execute(Reference.select()).fetchall()"
     ],
     "language": "python",
     "metadata": {},
     "outputs": []
    },
    {
     "cell_type": "code",
     "collapsed": false,
     "input": [
      "def split_cite(full_cite):\n",
      "    \n",
      "    if full_cite[:20] == '[No authors listed] ':\n",
      "        authors = None\n",
      "        full_cite = full_cite[20:]\n",
      "    else:\n",
      "        authors = full_cite[:full_cite.find('.')]\n",
      "        full_cite = full_cite[full_cite.find('.')+2:]\n",
      "    \n",
      "    title = full_cite[:full_cite.find('.')]\n",
      "    citation = full_cite[full_cite.find('.')+2:]\n",
      "    return authors, title, citation\n",
      "\n",
      "for ref_id, nct_id, typ, full_cite, pmid in cur_ref:\n",
      "    if pmid:\n",
      "        pmid_trials[pmid][nct_id] = 1.0\n",
      "        if pmid not in journals:\n",
      "            authors, title, citation = split_cite(full_cite)\n",
      "            journals[pmid] = {'authors': authors,\n",
      "                              'title': title,\n",
      "                              'citation': citation}"
     ],
     "language": "python",
     "metadata": {},
     "outputs": []
    },
    {
     "cell_type": "markdown",
     "metadata": {},
     "source": [
      "Write to database"
     ]
    },
    {
     "cell_type": "code",
     "collapsed": false,
     "input": [
      "def fix_authors(author_str):\n",
      "    if author_str:\n",
      "        author_list = author_str.split(', ')\n",
      "        if author_list > 10:\n",
      "            return ', '.join(author_list[:10] + ['et al.'])\n",
      "        else:\n",
      "            return author_str\n",
      "    else:\n",
      "        return ''"
     ],
     "language": "python",
     "metadata": {},
     "outputs": []
    },
    {
     "cell_type": "code",
     "collapsed": false,
     "input": [
      "insert_obj = [{'nct_id': n,\n",
      "               'pubmed_id': p,\n",
      "               'authors': fix_authors(journals[p]['authors']),\n",
      "               'title': journals[p]['title'],\n",
      "               'citation': journals[p]['citation'],\n",
      "               'confidence': pmid_trials[p][n]}\n",
      "              for p in journals\n",
      "              for n in pmid_trials[p]]"
     ],
     "language": "python",
     "metadata": {},
     "outputs": []
    },
    {
     "cell_type": "code",
     "collapsed": false,
     "input": [
      "for k in range(0,len(insert_obj),5000):\n",
      "    print k\n",
      "    conn.execute(TrialPublications.insert(),insert_obj[k:k+5000])"
     ],
     "language": "python",
     "metadata": {},
     "outputs": []
    },
    {
     "cell_type": "code",
     "collapsed": false,
     "input": [
      "conn.close()"
     ],
     "language": "python",
     "metadata": {},
     "outputs": []
    },
    {
     "cell_type": "code",
     "collapsed": false,
     "input": [],
     "language": "python",
     "metadata": {},
     "outputs": []
    }
   ],
   "metadata": {}
  }
 ]
}