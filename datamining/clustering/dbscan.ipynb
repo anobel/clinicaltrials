{
 "metadata": {
  "name": "",
  "signature": "sha256:b0b24f1d1a4689b0e6a36553aa123e599cd632128f103c692b79020618b4284c"
 },
 "nbformat": 3,
 "nbformat_minor": 0,
 "worksheets": [
  {
   "cells": [
    {
     "cell_type": "markdown",
     "metadata": {},
     "source": [
      "#### Load necessary packages and extensions"
     ]
    },
    {
     "cell_type": "code",
     "collapsed": false,
     "input": [
      "%load_ext sql\n",
      "import pandas as pd\n",
      "import numpy as np\n",
      "from sklearn.cluster import DBSCAN\n",
      "from sklearn import metrics\n",
      "from collections import Counter\n",
      "from __future__ import division"
     ],
     "language": "python",
     "metadata": {},
     "outputs": [],
     "prompt_number": 1
    },
    {
     "cell_type": "markdown",
     "metadata": {},
     "source": [
      "#### Get conditions data from database"
     ]
    },
    {
     "cell_type": "code",
     "collapsed": false,
     "input": [
      "# sql connection parameters come from connect.py\n",
      "have_connect = !ls connect.py 2>/dev/null\n",
      "if len(have_connect) == 0:\n",
      "    !mv ../../connect.py .\n",
      "from connect import *\n",
      "\n",
      "get_ipython().magic('sql mysql://' + mysqlusername + ':' + mysqlpassword + '@' + mysqlserver + ':3306/' + mysqldbname)\n",
      "conditions = %sql select nct_id, mesh_term from condition_browse\n",
      "mesh_lookup = %sql select mesh_id, mesh_term from mesh_thesaurus"
     ],
     "language": "python",
     "metadata": {},
     "outputs": [
      {
       "output_type": "stream",
       "stream": "stdout",
       "text": [
        "309589 rows affected.\n",
        "54935 rows affected."
       ]
      },
      {
       "output_type": "stream",
       "stream": "stdout",
       "text": [
        "\n"
       ]
      }
     ],
     "prompt_number": 2
    },
    {
     "cell_type": "markdown",
     "metadata": {},
     "source": [
      "#### Create dictionary of conditions to list of relevant studies"
     ]
    },
    {
     "cell_type": "code",
     "collapsed": false,
     "input": [
      "condition_study = {}\n",
      "for studyid, cond in conditions:\n",
      "    if cond not in condition_study: condition_study[cond] = set()\n",
      "    condition_study[cond].add(studyid)"
     ],
     "language": "python",
     "metadata": {},
     "outputs": [],
     "prompt_number": 3
    },
    {
     "cell_type": "markdown",
     "metadata": {},
     "source": [
      "#### Create dictionary of mesh_terms to mesh_id's"
     ]
    },
    {
     "cell_type": "code",
     "collapsed": false,
     "input": [
      "mesh_ids = {}\n",
      "for id, term in mesh_lookup:\n",
      "    if term not in mesh_ids: mesh_ids[term] = set()\n",
      "    mesh_ids[term].add(id)"
     ],
     "language": "python",
     "metadata": {},
     "outputs": [],
     "prompt_number": 5
    },
    {
     "cell_type": "markdown",
     "metadata": {},
     "source": [
      "#### Define Jaccard similarity function"
     ]
    },
    {
     "cell_type": "code",
     "collapsed": false,
     "input": [
      "def jaccard_similarity(set1, set2):\n",
      "    return float(len(set1 & set2)) / len(set1 | set2)"
     ],
     "language": "python",
     "metadata": {},
     "outputs": [],
     "prompt_number": 6
    },
    {
     "cell_type": "markdown",
     "metadata": {},
     "source": [
      "#### Generate distance matrix"
     ]
    },
    {
     "cell_type": "code",
     "collapsed": false,
     "input": [
      "max_dist = 10\n",
      "condition_list = condition_study.keys()\n",
      "num_cond = len(condition_list)\n",
      "df = pd.DataFrame(index=condition_list, columns=condition_list, dtype=np.float32)\n",
      "for i in range(num_cond):\n",
      "    for j in range(num_cond):\n",
      "        cond1 = condition_list[i]\n",
      "        cond2 = condition_list[j]\n",
      "        if i == j:\n",
      "            dist = 0\n",
      "        elif j < i:\n",
      "            dist = df[cond2][cond1]\n",
      "        elif len(condition_study[cond1] & condition_study[cond2]) > 0:\n",
      "            sim = jaccard_similarity(condition_study[cond1], condition_study[cond2])\n",
      "            dist = max([np.log10(sim), (-1 * max_dist)]) * -1\n",
      "        else:\n",
      "            dist = max_dist\n",
      "        df[cond1][cond2] = dist"
     ],
     "language": "python",
     "metadata": {},
     "outputs": [],
     "prompt_number": 7
    },
    {
     "cell_type": "markdown",
     "metadata": {},
     "source": [
      "#### Cluster using DBSCAN"
     ]
    },
    {
     "cell_type": "markdown",
     "metadata": {},
     "source": [
      "Iteratively create clusters"
     ]
    },
    {
     "cell_type": "code",
     "collapsed": false,
     "input": [
      "clus_df = df.copy()\n",
      "groups = []\n",
      "for i in range(50):\n",
      "    db = DBSCAN(eps=(50 - i)/10.0, min_samples=2, metric='precomputed').fit(clus_df.as_matrix())\n",
      "    print (50 - i) / 10.0\n",
      "    cnt = Counter(db.labels_)\n",
      "    if -1 in cnt and 0 in cnt and len(cnt) == 2 and cnt[-1] > cnt[0]:\n",
      "        nonzero = {clus_df.index.values[i]: n for i, n in enumerate(db.labels_) if n >= 0}\n",
      "    else:\n",
      "        nonzero = {clus_df.index.values[i]: n for i, n in enumerate(db.labels_) if n > 0}\n",
      "    for ax in [0,1]:\n",
      "        clus_df.drop(nonzero.keys(), axis=ax, inplace=True)\n",
      "    for c in set(nonzero.values()):\n",
      "        groups.append([k for k, v in nonzero.items() if v == c])\n",
      "    print cnt\n",
      "\n",
      "singles = list(clus_df.index.values)"
     ],
     "language": "python",
     "metadata": {},
     "outputs": [
      {
       "output_type": "stream",
       "stream": "stdout",
       "text": [
        "5.0\n",
        "Counter({0.0: 3196, -1.0: 106, 1.0: 2, 2.0: 2, 3.0: 2, 4.0: 2, 5.0: 2, 6.0: 2, 7.0: 2, 8.0: 2, 9.0: 2, 10.0: 2, 11.0: 2, 12.0: 2, 13.0: 2, 14.0: 2, 15.0: 2, 16.0: 2, 17.0: 2})"
       ]
      },
      {
       "output_type": "stream",
       "stream": "stdout",
       "text": [
        "\n",
        "4.9"
       ]
      },
      {
       "output_type": "stream",
       "stream": "stdout",
       "text": [
        "\n",
        "Counter({0.0: 3196, -1.0: 106})"
       ]
      },
      {
       "output_type": "stream",
       "stream": "stdout",
       "text": [
        "\n",
        "4.8"
       ]
      },
      {
       "output_type": "stream",
       "stream": "stdout",
       "text": [
        "\n",
        "Counter({0.0: 3196, -1.0: 106})"
       ]
      },
      {
       "output_type": "stream",
       "stream": "stdout",
       "text": [
        "\n",
        "4.7"
       ]
      },
      {
       "output_type": "stream",
       "stream": "stdout",
       "text": [
        "\n",
        "Counter({0.0: 3196, -1.0: 106})"
       ]
      },
      {
       "output_type": "stream",
       "stream": "stdout",
       "text": [
        "\n",
        "4.6"
       ]
      },
      {
       "output_type": "stream",
       "stream": "stdout",
       "text": [
        "\n",
        "Counter({0.0: 3196, -1.0: 106})"
       ]
      },
      {
       "output_type": "stream",
       "stream": "stdout",
       "text": [
        "\n",
        "4.5"
       ]
      },
      {
       "output_type": "stream",
       "stream": "stdout",
       "text": [
        "\n",
        "Counter({0.0: 3196, -1.0: 106})"
       ]
      },
      {
       "output_type": "stream",
       "stream": "stdout",
       "text": [
        "\n",
        "4.4"
       ]
      },
      {
       "output_type": "stream",
       "stream": "stdout",
       "text": [
        "\n",
        "Counter({0.0: 3196, -1.0: 106})"
       ]
      },
      {
       "output_type": "stream",
       "stream": "stdout",
       "text": [
        "\n",
        "4.3"
       ]
      },
      {
       "output_type": "stream",
       "stream": "stdout",
       "text": [
        "\n",
        "Counter({0.0: 3196, -1.0: 106})"
       ]
      },
      {
       "output_type": "stream",
       "stream": "stdout",
       "text": [
        "\n",
        "4.2"
       ]
      },
      {
       "output_type": "stream",
       "stream": "stdout",
       "text": [
        "\n",
        "Counter({0.0: 3196, -1.0: 106})"
       ]
      },
      {
       "output_type": "stream",
       "stream": "stdout",
       "text": [
        "\n",
        "4.1"
       ]
      },
      {
       "output_type": "stream",
       "stream": "stdout",
       "text": [
        "\n",
        "Counter({0.0: 3196, -1.0: 106})"
       ]
      },
      {
       "output_type": "stream",
       "stream": "stdout",
       "text": [
        "\n",
        "4.0"
       ]
      },
      {
       "output_type": "stream",
       "stream": "stdout",
       "text": [
        "\n",
        "Counter({0.0: 3196, -1.0: 106})"
       ]
      },
      {
       "output_type": "stream",
       "stream": "stdout",
       "text": [
        "\n",
        "3.9"
       ]
      },
      {
       "output_type": "stream",
       "stream": "stdout",
       "text": [
        "\n",
        "Counter({0.0: 3196, -1.0: 106})"
       ]
      },
      {
       "output_type": "stream",
       "stream": "stdout",
       "text": [
        "\n",
        "3.8"
       ]
      },
      {
       "output_type": "stream",
       "stream": "stdout",
       "text": [
        "\n",
        "Counter({0.0: 3196, -1.0: 106})"
       ]
      },
      {
       "output_type": "stream",
       "stream": "stdout",
       "text": [
        "\n",
        "3.7"
       ]
      },
      {
       "output_type": "stream",
       "stream": "stdout",
       "text": [
        "\n",
        "Counter({0.0: 3194, -1.0: 108})"
       ]
      },
      {
       "output_type": "stream",
       "stream": "stdout",
       "text": [
        "\n",
        "3.6"
       ]
      },
      {
       "output_type": "stream",
       "stream": "stdout",
       "text": [
        "\n",
        "Counter({0.0: 3192, -1.0: 110})"
       ]
      },
      {
       "output_type": "stream",
       "stream": "stdout",
       "text": [
        "\n",
        "3.5"
       ]
      },
      {
       "output_type": "stream",
       "stream": "stdout",
       "text": [
        "\n",
        "Counter({0.0: 3190, -1.0: 112})"
       ]
      },
      {
       "output_type": "stream",
       "stream": "stdout",
       "text": [
        "\n",
        "3.4"
       ]
      },
      {
       "output_type": "stream",
       "stream": "stdout",
       "text": [
        "\n",
        "Counter({0.0: 3190, -1.0: 112})"
       ]
      },
      {
       "output_type": "stream",
       "stream": "stdout",
       "text": [
        "\n",
        "3.3"
       ]
      },
      {
       "output_type": "stream",
       "stream": "stdout",
       "text": [
        "\n",
        "Counter({0.0: 3189, -1.0: 113})"
       ]
      },
      {
       "output_type": "stream",
       "stream": "stdout",
       "text": [
        "\n",
        "3.2"
       ]
      },
      {
       "output_type": "stream",
       "stream": "stdout",
       "text": [
        "\n",
        "Counter({0.0: 3187, -1.0: 115})"
       ]
      },
      {
       "output_type": "stream",
       "stream": "stdout",
       "text": [
        "\n",
        "3.1"
       ]
      },
      {
       "output_type": "stream",
       "stream": "stdout",
       "text": [
        "\n",
        "Counter({0.0: 3182, -1.0: 117, 1.0: 3})"
       ]
      },
      {
       "output_type": "stream",
       "stream": "stdout",
       "text": [
        "\n",
        "3.0"
       ]
      },
      {
       "output_type": "stream",
       "stream": "stdout",
       "text": [
        "\n",
        "Counter({0.0: 3176, -1.0: 123})"
       ]
      },
      {
       "output_type": "stream",
       "stream": "stdout",
       "text": [
        "\n",
        "2.9"
       ]
      },
      {
       "output_type": "stream",
       "stream": "stdout",
       "text": [
        "\n",
        "Counter({0.0: 3171, -1.0: 128})"
       ]
      },
      {
       "output_type": "stream",
       "stream": "stdout",
       "text": [
        "\n",
        "2.8"
       ]
      },
      {
       "output_type": "stream",
       "stream": "stdout",
       "text": [
        "\n",
        "Counter({0.0: 3159, -1.0: 138, 1.0: 2})"
       ]
      },
      {
       "output_type": "stream",
       "stream": "stdout",
       "text": [
        "\n",
        "2.7"
       ]
      },
      {
       "output_type": "stream",
       "stream": "stdout",
       "text": [
        "\n",
        "Counter({0.0: 3147, -1.0: 148, 1.0: 2})"
       ]
      },
      {
       "output_type": "stream",
       "stream": "stdout",
       "text": [
        "\n",
        "2.6"
       ]
      },
      {
       "output_type": "stream",
       "stream": "stdout",
       "text": [
        "\n",
        "Counter({0.0: 3131, -1.0: 161, 1.0: 3})"
       ]
      },
      {
       "output_type": "stream",
       "stream": "stdout",
       "text": [
        "\n",
        "2.5"
       ]
      },
      {
       "output_type": "stream",
       "stream": "stdout",
       "text": [
        "\n",
        "Counter({0.0: 3105, -1.0: 174, 1.0: 7, 2.0: 2, 3.0: 2, 4.0: 2})"
       ]
      },
      {
       "output_type": "stream",
       "stream": "stdout",
       "text": [
        "\n",
        "2.4"
       ]
      },
      {
       "output_type": "stream",
       "stream": "stdout",
       "text": [
        "\n",
        "Counter({0.0: 3097, -1.0: 180, 1.0: 2})"
       ]
      },
      {
       "output_type": "stream",
       "stream": "stdout",
       "text": [
        "\n",
        "2.3"
       ]
      },
      {
       "output_type": "stream",
       "stream": "stdout",
       "text": [
        "\n",
        "Counter({0.0: 3068, -1.0: 205, 1.0: 2, 2.0: 2})"
       ]
      },
      {
       "output_type": "stream",
       "stream": "stdout",
       "text": [
        "\n",
        "2.2"
       ]
      },
      {
       "output_type": "stream",
       "stream": "stdout",
       "text": [
        "\n",
        "Counter({0.0: 3045, -1.0: 226, 1.0: 2})"
       ]
      },
      {
       "output_type": "stream",
       "stream": "stdout",
       "text": [
        "\n",
        "2.1"
       ]
      },
      {
       "output_type": "stream",
       "stream": "stdout",
       "text": [
        "\n",
        "Counter({0.0: 3011, -1.0: 251, 1.0: 3, 2.0: 2, 3.0: 2, 4.0: 2})"
       ]
      },
      {
       "output_type": "stream",
       "stream": "stdout",
       "text": [
        "\n",
        "2.0"
       ]
      },
      {
       "output_type": "stream",
       "stream": "stdout",
       "text": [
        "\n",
        "Counter({0.0: 2980, -1.0: 274, 2.0: 4, 1.0: 2, 3.0: 2})"
       ]
      },
      {
       "output_type": "stream",
       "stream": "stdout",
       "text": [
        "\n",
        "1.9"
       ]
      },
      {
       "output_type": "stream",
       "stream": "stdout",
       "text": [
        "\n",
        "Counter({0.0: 2926, -1.0: 315, 1.0: 3, 2.0: 2, 3.0: 2, 4.0: 2, 5.0: 2, 6.0: 2})"
       ]
      },
      {
       "output_type": "stream",
       "stream": "stdout",
       "text": [
        "\n",
        "1.8"
       ]
      },
      {
       "output_type": "stream",
       "stream": "stdout",
       "text": [
        "\n",
        "Counter({0.0: 2856, -1.0: 358, 5.0: 4, 1.0: 3, 2.0: 2, 3.0: 2, 4.0: 2, 6.0: 2, 7.0: 2, 8.0: 2, 9.0: 2, 10.0: 2, 11.0: 2, 12.0: 2})"
       ]
      },
      {
       "output_type": "stream",
       "stream": "stdout",
       "text": [
        "\n",
        "1.7"
       ]
      },
      {
       "output_type": "stream",
       "stream": "stdout",
       "text": [
        "\n",
        "Counter({0.0: 2764, -1.0: 400, 3.0: 5, 5.0: 5, 7.0: 4, 1.0: 3, 12.0: 3, 15.0: 3, 16.0: 3, 2.0: 2, 4.0: 2, 6.0: 2, 8.0: 2, 9.0: 2, 10.0: 2, 11.0: 2, 13.0: 2, 14.0: 2, 17.0: 2, 18.0: 2, 19.0: 2})"
       ]
      },
      {
       "output_type": "stream",
       "stream": "stdout",
       "text": [
        "\n",
        "1.6"
       ]
      },
      {
       "output_type": "stream",
       "stream": "stdout",
       "text": [
        "\n",
        "Counter({0.0: 2661, -1.0: 452, 3.0: 7, 5.0: 7, 2.0: 3, 4.0: 3, 9.0: 3, 11.0: 3, 13.0: 3, 16.0: 3, 17.0: 3, 1.0: 2, 6.0: 2, 7.0: 2, 8.0: 2, 10.0: 2, 12.0: 2, 14.0: 2, 15.0: 2})"
       ]
      },
      {
       "output_type": "stream",
       "stream": "stdout",
       "text": [
        "\n",
        "1.5"
       ]
      },
      {
       "output_type": "stream",
       "stream": "stdout",
       "text": [
        "\n",
        "Counter({0.0: 2452, -1.0: 541, 1.0: 15, 5.0: 9, 18.0: 8, 12.0: 6, 2.0: 5, 9.0: 5, 7.0: 4, 11.0: 4, 16.0: 4, 27.0: 4, 6.0: 3, 10.0: 3, 19.0: 3, 21.0: 3, 3.0: 2, 4.0: 2, 8.0: 2, 13.0: 2, 14.0: 2, 15.0: 2, 17.0: 2, 20.0: 2, 22.0: 2, 23.0: 2, 24.0: 2, 25.0: 2, 26.0: 2, 28.0: 2, 29.0: 2, 30.0: 2, 31.0: 2, 32.0: 2, 33.0: 2, 34.0: 2, 35.0: 2, 36.0: 2})"
       ]
      },
      {
       "output_type": "stream",
       "stream": "stdout",
       "text": [
        "\n",
        "1.4"
       ]
      },
      {
       "output_type": "stream",
       "stream": "stdout",
       "text": [
        "\n",
        "Counter({0.0: 2224, -1.0: 616, 2.0: 9, 14.0: 9, 5.0: 8, 10.0: 8, 20.0: 7, 7.0: 6, 11.0: 6, 37.0: 5, 8.0: 4, 13.0: 4, 21.0: 4, 41.0: 4, 1.0: 3, 6.0: 3, 16.0: 3, 23.0: 3, 32.0: 3, 34.0: 3, 35.0: 3, 42.0: 3, 43.0: 3, 3.0: 2, 4.0: 2, 9.0: 2, 12.0: 2, 15.0: 2, 17.0: 2, 18.0: 2, 19.0: 2, 22.0: 2, 24.0: 2, 25.0: 2, 26.0: 2, 27.0: 2, 28.0: 2, 29.0: 2, 30.0: 2, 31.0: 2, 33.0: 2, 36.0: 2, 38.0: 2, 39.0: 2, 40.0: 2, 44.0: 2, 45.0: 2, 46.0: 2, 47.0: 2})"
       ]
      },
      {
       "output_type": "stream",
       "stream": "stdout",
       "text": [
        "\n",
        "1.3"
       ]
      },
      {
       "output_type": "stream",
       "stream": "stdout",
       "text": [
        "\n",
        "Counter({0.0: 1678, -1.0: 720, 21.0: 39, 4.0: 28, 1.0: 18, 24.0: 14, 13.0: 12, 29.0: 12, 27.0: 10, 32.0: 10, 14.0: 9, 43.0: 9, 28.0: 8, 9.0: 7, 22.0: 7, 37.0: 7, 6.0: 6, 15.0: 6, 17.0: 6, 18.0: 6, 35.0: 6, 49.0: 6, 54.0: 6, 60.0: 6, 68.0: 6, 3.0: 5, 5.0: 5, 11.0: 5, 20.0: 5, 47.0: 5, 55.0: 5, 56.0: 5, 66.0: 5, 12.0: 4, 16.0: 4, 25.0: 4, 33.0: 4, 57.0: 4, 62.0: 4, 63.0: 4, 78.0: 4, 80.0: 4, 82.0: 4, 2.0: 3, 8.0: 3, 19.0: 3, 30.0: 3, 34.0: 3, 36.0: 3, 44.0: 3, 45.0: 3, 48.0: 3, 61.0: 3, 67.0: 3, 73.0: 3, 84.0: 3, 93.0: 3, 7.0: 2, 10.0: 2, 23.0: 2, 26.0: 2, 31.0: 2, 38.0: 2, 39.0: 2, 40.0: 2, 41.0: 2, 42.0: 2, 46.0: 2, 50.0: 2, 51.0: 2, 52.0: 2, 53.0: 2, 58.0: 2, 59.0: 2, 64.0: 2, 65.0: 2, 69.0: 2, 70.0: 2, 71.0: 2, 72.0: 2, 74.0: 2, 75.0: 2, 76.0: 2, 77.0: 2, 79.0: 2, 81.0: 2, 83.0: 2, 85.0: 2, 86.0: 2, 87.0: 2, 88.0: 2, 89.0: 2, 90.0: 2, 91.0: 2, 92.0: 2})"
       ]
      },
      {
       "output_type": "stream",
       "stream": "stdout",
       "text": [
        "\n",
        "1.2"
       ]
      },
      {
       "output_type": "stream",
       "stream": "stdout",
       "text": [
        "\n",
        "Counter({5.0: 987, -1.0: 809, 10.0: 40, 6.0: 29, 35.0: 25, 12.0: 18, 0.0: 17, 13.0: 17, 39.0: 17, 36.0: 16, 3.0: 15, 7.0: 15, 21.0: 13, 19.0: 11, 22.0: 11, 46.0: 11, 1.0: 10, 17.0: 10, 4.0: 9, 15.0: 9, 49.0: 9, 9.0: 8, 27.0: 8, 45.0: 8, 43.0: 7, 79.0: 7, 80.0: 7, 11.0: 6, 14.0: 6, 29.0: 6, 34.0: 6, 47.0: 6, 75.0: 6, 77.0: 6, 16.0: 5, 18.0: 5, 28.0: 5, 37.0: 5, 41.0: 5, 42.0: 5, 56.0: 5, 58.0: 5, 63.0: 5, 67.0: 5, 78.0: 5, 2.0: 4, 20.0: 4, 30.0: 4, 33.0: 4, 48.0: 4, 51.0: 4, 52.0: 4, 60.0: 4, 69.0: 4, 70.0: 4, 74.0: 4, 76.0: 4, 88.0: 4, 89.0: 4, 23.0: 3, 26.0: 3, 50.0: 3, 55.0: 3, 59.0: 3, 62.0: 3, 66.0: 3, 71.0: 3, 72.0: 3, 73.0: 3, 81.0: 3, 82.0: 3, 84.0: 3, 86.0: 3, 87.0: 3, 93.0: 3, 95.0: 3, 99.0: 3, 8.0: 2, 24.0: 2, 25.0: 2, 31.0: 2, 32.0: 2, 38.0: 2, 40.0: 2, 44.0: 2, 53.0: 2, 54.0: 2, 57.0: 2, 61.0: 2, 64.0: 2, 65.0: 2, 68.0: 2, 83.0: 2, 85.0: 2, 90.0: 2, 91.0: 2, 92.0: 2, 94.0: 2, 96.0: 2, 97.0: 2, 98.0: 2})"
       ]
      },
      {
       "output_type": "stream",
       "stream": "stdout",
       "text": [
        "\n",
        "1.1\n",
        "Counter({-1.0: 811, 0.0: 15})"
       ]
      },
      {
       "output_type": "stream",
       "stream": "stdout",
       "text": [
        "\n",
        "1.0\n",
        "Counter({-1.0: 811})\n",
        "0.9\n",
        "Counter({-1.0: 811})"
       ]
      },
      {
       "output_type": "stream",
       "stream": "stdout",
       "text": [
        "\n",
        "0.8\n",
        "Counter({-1.0: 811})\n",
        "0.7\n",
        "Counter({-1.0: 811})\n",
        "0.6"
       ]
      },
      {
       "output_type": "stream",
       "stream": "stdout",
       "text": [
        "\n",
        "Counter({-1.0: 811})\n",
        "0.5\n",
        "Counter({-1.0: 811})\n",
        "0.4\n",
        "Counter({-1.0: 811})\n",
        "0.3"
       ]
      },
      {
       "output_type": "stream",
       "stream": "stdout",
       "text": [
        "\n",
        "Counter({-1.0: 811})\n",
        "0.2\n",
        "Counter({-1.0: 811})\n",
        "0.1\n",
        "Counter({-1.0: 811})\n"
       ]
      }
     ],
     "prompt_number": 71
    },
    {
     "cell_type": "markdown",
     "metadata": {},
     "source": [
      "Evaluate coherence of clusters"
     ]
    },
    {
     "cell_type": "code",
     "collapsed": false,
     "input": [
      "# reverse lookup of second-level MeSH categories\n",
      "mesh_cats = {v2[0]: k2 for k2, v2 in [(k1, [i for i in v1 if len(i) == 7]) for k1, v1 in mesh_ids.items()] if len(v2) > 0}\n",
      "\n",
      "# function to produce counts of MeSH categories\n",
      "def mesh_summary(cond_list):\n",
      "    mesh_list = Counter()\n",
      "    for c in cond_list:\n",
      "        for m in mesh_ids[c]:\n",
      "            if len(m) >= 7 and m[:7] in mesh_cats:\n",
      "                mesh_list[mesh_cats[m[:7]]] += 1\n",
      "    return mesh_list"
     ],
     "language": "python",
     "metadata": {},
     "outputs": [],
     "prompt_number": 68
    },
    {
     "cell_type": "code",
     "collapsed": false,
     "input": [
      "for g in groups:\n",
      "    print g\n",
      "    print mesh_summary(g)"
     ],
     "language": "python",
     "metadata": {},
     "outputs": [
      {
       "output_type": "stream",
       "stream": "stdout",
       "text": [
        "['Bartonella Infections', 'Cat-Scratch Disease']\n",
        "Counter({'Bacterial Infections': 3, 'Lymphatic Diseases': 1})\n",
        "['Myokymia', 'Isaacs Syndrome']\n",
        "Counter({'Neuromuscular Diseases': 2, 'Muscular Diseases': 1, 'Neurologic Manifestations': 1, 'Signs and Symptoms': 1})\n",
        "['Paraneoplastic Syndromes', 'Paraneoplastic Syndromes, Nervous System']\n",
        "Counter({'Paraneoplastic Syndromes': 2, 'Neurodegenerative Diseases': 1, 'Neoplasms by Site': 1})\n",
        "['Decompression Sickness', 'Barotrauma']\n",
        "Counter({'Barotrauma': 2})\n",
        "['Ochronosis', 'Alkaptonuria']\n",
        "Counter({'Pathologic Processes': 1, 'Genetic Diseases, Inborn': 1, 'Metabolic Diseases': 1})\n",
        "['Xanthomatosis, Cerebrotendinous', 'Xanthomatosis']\n",
        "Counter({'Metabolic Diseases': 3, 'Genetic Diseases, Inborn': 1})\n",
        "['Typhus, Epidemic Louse-Borne', 'Scrub Typhus']\n",
        "Counter({'Bacterial Infections': 2})\n",
        "[\"Legionnaires' Disease\", 'Legionellosis']\n",
        "Counter({'Respiratory Tract Infections': 2, 'Bacterial Infections': 2})\n",
        "['Lichen Sclerosus et Atrophicus', 'Vulvar Lichen Sclerosus']\n",
        "Counter({'Skin Diseases': 1, 'Female Urogenital Diseases': 1})\n",
        "['Lambert-Eaton Myasthenic Syndrome', 'Myasthenic Syndromes, Congenital']\n",
        "Counter({'Autoimmune Diseases': 2, 'Neuromuscular Diseases': 2, 'Autoimmune Diseases of the Nervous System': 1, 'Genetic Diseases, Inborn': 1, 'Neurodegenerative Diseases': 1, 'Paraneoplastic Syndromes': 1, 'Neoplasms by Site': 1})\n",
        "['Tooth Attrition', 'Tooth Wear']\n",
        "Counter({'Tooth Diseases': 2})\n",
        "['Hidradenitis Suppurativa', 'Hidradenitis']\n",
        "Counter({'Skin Diseases': 3, 'Infection': 2, 'Bacterial Infections': 1})\n",
        "['Yaws', 'Treponemal Infections']\n",
        "Counter({'Bacterial Infections': 5, 'Skin Diseases': 1, 'Infection': 1})\n",
        "['Tooth, Nonvital', 'Tooth Fractures']\n",
        "Counter({'Tooth Diseases': 2, 'Tooth Injuries': 1})\n",
        "['Hantavirus Infections', 'Hantavirus Pulmonary Syndrome']\n",
        "Counter({'RNA Virus Infections': 2, 'Respiration Disorders': 1})\n",
        "['Osteoma', 'Osteoma, Osteoid']\n",
        "Counter({'Neoplasms by Histologic Type': 2})\n",
        "['Polyradiculopathy', 'Glanders']\n",
        "Counter({'Neuromuscular Diseases': 1, 'Bacterial Infections': 1, 'Horse Diseases': 1})\n",
        "['Asbestosis', 'Pneumoconiosis', 'Silicosis']\n",
        "Counter({'Lung Diseases': 6, 'Pneumoconiosis': 3})\n",
        "['Enophthalmos', 'Diplopia']\n",
        "Counter({'Orbital Diseases': 1, 'Neurologic Manifestations': 1, 'Signs and Symptoms': 1, 'Vision Disorders': 1})\n",
        "['Pallister-Hall Syndrome', 'Polydactyly']\n",
        "Counter({'Congenital Abnormalities': 3, 'Musculoskeletal Abnormalities': 2, 'Central Nervous System Diseases': 2, 'Nervous System Neoplasms': 1, 'Hamartoma': 1, 'Neoplasms by Site': 1})\n",
        "['Korsakoff Syndrome', 'Wernicke Encephalopathy', 'Alcohol Amnestic Disorder']\n",
        "Counter({'Substance-Related Disorders': 3, 'Alcohol-Related Disorders': 3, 'Delirium, Dementia, Amnestic, Cognitive Disorders': 2, 'Poisoning': 2, 'Neurotoxicity Syndromes': 2, 'Nutrition Disorders': 1, 'Metabolic Diseases': 1, 'Neurologic Manifestations': 1, 'Central Nervous System Diseases': 1, 'Neurobehavioral Manifestations': 1, 'Signs and Symptoms': 1})\n",
        "['Tinea', 'Tinea Pedis', 'Tinea Versicolor', 'Onycholysis', 'Tinea Capitis', 'Dermatomycoses', 'Onychomycosis']\n",
        "Counter({'Skin Diseases': 10, 'Mycoses': 6, 'Infection': 6, 'Signs and Symptoms': 1})\n",
        "['Parvoviridae Infections', 'Erythema Infectiosum']\n",
        "Counter({'Skin Diseases': 2, 'DNA Virus Infections': 2, 'Skin Diseases, Viral': 1})\n",
        "['Neurodermatitis', 'Prurigo']\n",
        "Counter({'Skin Diseases': 3})\n",
        "['Hypertelorism', 'Hyperostosis']\n",
        "Counter({'Bone Diseases': 2, 'Congenital Abnormalities': 1, 'Musculoskeletal Abnormalities': 1})\n",
        "['Heat Exhaustion', 'Heat Stroke']\n",
        "Counter({'Heat Stress Disorders': 2})\n",
        "['Gingival Recession', 'Periodontal Atrophy']\n",
        "Counter({'Mouth Diseases': 3})\n",
        "['Gingival Overgrowth', 'Gingival Hyperplasia']\n",
        "Counter({'Mouth Diseases': 2})\n",
        "['Sialadenitis', 'Retroperitoneal Fibrosis']\n",
        "Counter({'Pathologic Processes': 1, 'Mouth Diseases': 1})\n",
        "['Budd-Chiari Syndrome', 'Hepatic Veno-Occlusive Disease', 'Pulmonary Veno-Occlusive Disease']\n",
        "Counter({'Vascular Diseases': 3, 'Liver Diseases': 2, 'Lung Diseases': 1})\n",
        "['Hordeolum', 'Chalazion']\n",
        "Counter({'Eyelid Diseases': 2, 'Cysts': 1, 'Bacterial Infections': 1, 'Eye Infections': 1, 'Infection': 1})\n",
        "['Coronary Aneurysm', 'Mucocutaneous Lymph Node Syndrome']\n",
        "Counter({'Vascular Diseases': 3, 'Lymphatic Diseases': 1, 'Skin Diseases': 1, 'Heart Diseases': 1})\n",
        "['Nail Diseases', 'Nails, Ingrown']\n",
        "Counter({'Skin Diseases': 2})\n",
        "['Psychoses, Substance-Induced', 'Shared Paranoid Disorder']\n",
        "Counter({'Schizophrenia and Disorders with Psychotic Features': 2, 'Psychoses, Substance-Induced': 1, 'Poisoning': 1, 'Substance-Related Disorders': 1})\n",
        "['Pityriasis Rosea', 'Pityriasis', 'Dermatitis, Exfoliative', 'Pityriasis Rubra Pilaris']\n",
        "Counter({'Skin Diseases': 5})\n",
        "['Anterior Compartment Syndrome', 'Compartment Syndromes']\n",
        "Counter({'Vascular Diseases': 2, 'Muscular Diseases': 2})\n",
        "['Sleep Bruxism', 'Bruxism', 'Airway Remodeling']\n",
        "Counter({'Tooth Diseases': 2, 'Pathological Conditions, Anatomical': 1, 'Respiratory Physiological Phenomena': 1, 'Sleep Disorders': 1})\n",
        "['Sweating, Gustatory', 'Parotid Neoplasms']\n",
        "Counter({'Mouth Diseases': 3, 'Skin Diseases': 1, 'Autonomic Nervous System Diseases': 1, 'Neoplasms by Site': 1})\n",
        "['Placenta Accreta', 'Placenta Previa']\n",
        "Counter({'Pregnancy Complications': 4})\n",
        "['Gas Gangrene', 'Anthrax']\n",
        "Counter({'Bacterial Infections': 2})\n",
        "['Spermatic Cord Torsion', 'Torsion Abnormality']\n",
        "Counter({'Pathological Conditions, Anatomical': 1, 'Genital Diseases, Male': 1})\n",
        "['Scleritis', 'Orbital Diseases']\n",
        "Counter({'Orbital Diseases': 1, 'Scleral Diseases': 1})\n",
        "['Tumor Lysis Syndrome', 'Gout', 'Hyperuricemia']\n",
        "Counter({'Rheumatic Diseases': 1, 'Metabolic Diseases': 1, 'Genetic Diseases, Inborn': 1, 'Joint Diseases': 1, 'Pathologic Processes': 1, 'Lymphatic Diseases': 1, 'Immunoproliferative Disorders': 1})\n",
        "['Kidney Tubular Necrosis, Acute', 'Kidney Cortex Necrosis']\n",
        "Counter({'Female Urogenital Diseases': 2, 'Urologic Diseases': 2})\n",
        "['Candidiasis, Chronic Mucocutaneous', 'Polyendocrinopathies, Autoimmune']\n",
        "Counter({'Mycoses': 2, 'Autoimmune Diseases': 1, 'Skin Diseases': 1, 'Infection': 1, 'Polyendocrinopathies, Autoimmune': 1})\n",
        "['Alopecia', 'Alopecia Areata']\n",
        "Counter({'Skin Diseases': 2, 'Pathological Conditions, Anatomical': 1})\n",
        "['Vaccinia', 'Poxviridae Infections', 'Monkeypox', 'Smallpox']\n",
        "Counter({'DNA Virus Infections': 4, 'Rodent Diseases': 1, 'Primate Diseases': 1})\n",
        "['Magnesium Deficiency', 'Calcium Metabolism Disorders']\n",
        "Counter({'Metabolic Diseases': 1, 'Nutrition Disorders': 1})\n",
        "['Bites and Stings', 'Insect Bites and Stings']\n",
        "Counter({'Poisoning': 2, 'Bites and Stings': 1})\n",
        "['Drug Toxicity', 'Iatrogenic Disease']\n",
        "Counter({'Poisoning': 1, 'Pathologic Processes': 1})\n",
        "['Echinococcosis, Hepatic', 'Echinococcosis']\n",
        "Counter({'Helminthiasis': 2, 'Liver Diseases, Parasitic': 1, 'Liver Diseases': 1})\n",
        "['Eye Burns', 'Burns, Chemical']\n",
        "Counter({'Burns': 2, 'Craniocerebral Trauma': 1})\n",
        "['Iris Neoplasms', 'Choroid Neoplasms']\n",
        "Counter({'Uveal Diseases': 4, 'Eye Neoplasms': 2, 'Neoplasms by Site': 2})\n",
        "['Mandibular Fractures', 'Mandibular Injuries']\n",
        "Counter({'Craniocerebral Trauma': 2, 'Fractures, Bone': 1})\n",
        "['Birth Injuries', 'Facial Neoplasms', 'Head Injuries, Penetrating']\n",
        "Counter({'Craniocerebral Trauma': 1, 'Infant, Newborn, Diseases': 1, 'Wounds, Penetrating': 1, 'Trauma, Nervous System': 1, 'Birth Injuries': 1, 'Neoplasms by Site': 1})\n",
        "['Lipodystrophy', 'HIV-Associated Lipodystrophy Syndrome']\n",
        "Counter({'Metabolic Diseases': 4, 'Skin Diseases': 2, 'Sexually Transmitted Diseases': 1, 'RNA Virus Infections': 1, 'Immunologic Deficiency Syndromes': 1})\n",
        "['Osteochondroma', 'Exostoses, Multiple Hereditary', 'Osteophyte', 'Osteochondromatosis', 'Exostoses']\n",
        "Counter({'Bone Diseases': 6, 'Neoplasms by Histologic Type': 3, 'Genetic Diseases, Inborn': 1, 'Neoplastic Syndromes, Hereditary': 1})\n",
        "['Muscle Cramp', 'Sleep-Wake Transition Disorders']\n",
        "Counter({'Sleep Disorders': 1, 'Muscular Diseases': 1, 'Neurologic Manifestations': 1, 'Signs and Symptoms': 1})\n",
        "['Hallux Limitus', 'Arthralgia', 'Hallux Varus', 'Hallux Rigidus', 'Hallux Valgus']\n",
        "Counter({'Foot Deformities': 4, 'Joint Diseases': 3, 'Nervous System Physiological Phenomena': 1, 'Signs and Symptoms': 1, 'Psychophysiology': 1})\n",
        "['Siderosis', 'Cerebral Amyloid Angiopathy']\n",
        "Counter({'Lung Diseases': 2, 'Vascular Diseases': 1, 'Central Nervous System Diseases': 1, 'Pneumoconiosis': 1, 'Metabolic Diseases': 1})\n",
        "['Polyuria', 'Enuresis', 'Nocturia', 'Nocturnal Enuresis']\n",
        "Counter({'Female Urogenital Diseases': 3, 'Urologic Diseases': 3, 'Behavior': 2, 'Signs and Symptoms': 2, 'Mental Disorders Diagnosed in Childhood': 2})\n",
        "['Positive-Pressure Respiration, Intrinsic', 'Lung, Hyperlucent']\n",
        "Counter({'Lung Diseases': 1, 'Respiration Disorders': 1})\n",
        "['Anemia, Dyserythropoietic, Congenital', 'Spherocytosis, Hereditary']\n",
        "Counter({'Genetic Diseases, Inborn': 2, 'Hematologic Diseases': 2})\n",
        "['Frasier Syndrome', 'Denys-Drash Syndrome']\n",
        "Counter({'Female Urogenital Diseases': 5, 'Congenital Abnormalities': 2, 'Gonadal Disorders': 2, 'Genetic Diseases, Inborn': 2, 'Urologic Diseases': 2, 'Urogenital Abnormalities': 2, 'Urogenital Neoplasms': 1, 'Neoplastic Syndromes, Hereditary': 1, 'Neoplasms by Histologic Type': 1, 'Neoplasms by Site': 1})\n",
        "['Encopresis', 'Fecal Incontinence']\n",
        "Counter({'Gastrointestinal Diseases': 1, 'Behavior': 1, 'Mental Disorders Diagnosed in Childhood': 1, 'Signs and Symptoms': 1})\n",
        "['Tachycardia, Paroxysmal', 'Pre-Excitation Syndromes', 'Wolff-Parkinson-White Syndrome']\n",
        "Counter({'Heart Diseases': 3, 'Pathologic Processes': 1, 'Congenital Abnormalities': 1})\n",
        "['Hyperalgesia', 'Sunburn']\n",
        "Counter({'Burns': 1, 'Neurologic Manifestations': 1, 'Signs and Symptoms': 1, 'Skin Diseases': 1})\n",
        "['Intestinal Atresia', 'Gastroschisis']\n",
        "Counter({'Congenital Abnormalities': 2, 'Pathological Conditions, Anatomical': 1, 'Gastrointestinal Diseases': 1, 'Musculoskeletal Abnormalities': 1, 'Digestive System Abnormalities': 1})\n",
        "['Colitis, Lymphocytic', 'Colitis, Microscopic', 'Colitis, Collagenous']\n",
        "Counter({'Gastrointestinal Diseases': 6})\n",
        "['Central Nervous System Infections', 'West Nile Fever', 'Listeriosis']\n",
        "Counter({'Central Nervous System Diseases': 3, 'RNA Virus Infections': 2, 'Central Nervous System Infections': 1, 'Arbovirus Infections': 1, 'Encephalitis, Viral': 1, 'Bacterial Infections': 1, 'Central Nervous System Viral Diseases': 1})\n",
        "['Fluorosis, Dental', 'Fluoride Poisoning']\n",
        "Counter({'Tooth Diseases': 1, 'Poisoning': 1})\n",
        "['Jaw Abnormalities', 'Facial Asymmetry']\n",
        "Counter({'Congenital Abnormalities': 2, 'Stomatognathic System Abnormalities': 1, 'Jaw Diseases': 1, 'Musculoskeletal Abnormalities': 1, 'Pathological Conditions, Anatomical': 1})\n",
        "['Inert Gas Narcosis', 'Stupor']\n",
        "Counter({'Poisoning': 1, 'Neurologic Manifestations': 1, 'Inert Gas Narcosis': 1, 'Signs and Symptoms': 1})\n",
        "['Intestinal Pseudo-Obstruction', 'Ileus']\n",
        "Counter({'Gastrointestinal Diseases': 2})\n",
        "['Bronchiolitis, Viral', 'Bronchiolitis', 'Bronchiolitis Obliterans']\n",
        "Counter({'Lung Diseases': 3, 'Bronchial Diseases': 3, 'Respiratory Tract Infections': 2, 'Bronchiolitis, Viral': 1})\n",
        "['Schizophrenia, Catatonic', 'Schizophrenia, Paranoid', 'Catatonia', 'Hallucinations', 'Schizophrenia, Disorganized', 'Delusions', 'Paranoid Disorders']\n",
        "Counter({'Schizophrenia and Disorders with Psychotic Features': 4, 'Neurologic Manifestations': 2, 'Neurobehavioral Manifestations': 2, 'Signs and Symptoms': 2, 'Behavior': 2})\n",
        "['Ebstein Anomaly', 'Double Outlet Right Ventricle', 'Truncus Arteriosus, Persistent']\n",
        "Counter({'Congenital Abnormalities': 3, 'Cardiovascular Abnormalities': 3, 'Heart Diseases': 3})\n",
        "['Bulimia', 'Anorexia Nervosa', 'Binge-Eating Disorder', 'Bulimia Nervosa', 'Eating Disorders', 'Cachexia', 'Anorexia']\n",
        "Counter({'Eating Disorders': 4, 'Signs and Symptoms': 3})\n",
        "['Orbital Cellulitis', 'Orbital Fractures']\n",
        "Counter({'Orbital Diseases': 1, 'Connective Tissue Diseases': 1, 'Fractures, Bone': 1, 'Craniocerebral Trauma': 1})\n",
        "['Cholera', 'Vibrio Infections']\n",
        "Counter({'Bacterial Infections': 2})\n",
        "['Tuberculosis, Osteoarticular', 'Tuberculosis, Lymph Node']\n",
        "Counter({'Bacterial Infections': 2, 'Lymphatic Diseases': 2, 'Bone Diseases': 1, 'Infection': 1})\n",
        "['Malaria', 'Malaria, Falciparum', 'Malaria, Vivax']\n",
        "Counter({'Protozoan Infections': 3})\n",
        "['Lymphadenitis', 'Histiocytic Necrotizing Lymphadenitis']\n",
        "Counter({'Lymphatic Diseases': 2})\n",
        "['Asthma, Exercise-Induced', 'Bronchial Spasm', 'Respiratory Sounds']\n",
        "Counter({'Bronchial Diseases': 2, 'Respiratory Physiological Phenomena': 1, 'Hypersensitivity': 1, 'Diagnostic Techniques and Procedures': 1, 'Respiratory Hypersensitivity': 1, 'Signs and Symptoms': 1})\n",
        "['Habits', 'Food Habits']\n",
        "Counter({'Behavior': 3})\n",
        "['Nerve Degeneration', 'Pantothenate Kinase-Associated Neurodegeneration', 'Neuroaxonal Dystrophies']\n",
        "Counter({'Central Nervous System Diseases': 4, 'Pathologic Processes': 1, 'Neurodegenerative Diseases': 1, 'Genetic Diseases, Inborn': 1})\n",
        "['Tooth Discoloration', 'Dental Calculus']\n",
        "Counter({'Tooth Diseases': 2, 'Pathological Conditions, Anatomical': 1})\n",
        "['Stress Disorders, Traumatic, Acute', 'Fractures, Stress']\n",
        "Counter({'Fractures, Bone': 1, 'Anxiety Disorders': 1})\n",
        "['Hot Flashes', 'Flushing', 'Hyperemia']\n",
        "Counter({'Signs and Symptoms': 2, 'Vascular Diseases': 1})\n",
        "['Myoglobinuria', 'Neuroleptic Malignant Syndrome', 'Rhabdomyolysis']\n",
        "Counter({'Muscular Diseases': 2, 'Poisoning': 1, 'Central Nervous System Diseases': 1, 'Neurotoxicity Syndromes': 1})\n",
        "['Behavior, Addictive', 'Cocaine-Related Disorders', 'Alcohol-Related Disorders', 'Tobacco Use Disorder', 'Alcohol-Induced Disorders, Nervous System', 'Alcoholism', 'Alcohol Drinking', 'Opioid-Related Disorders', 'Substance-Related Disorders', 'Neurobehavioral Manifestations', 'Smoking', 'Alcoholic Intoxication', 'Substance Abuse, Intravenous', 'Heroin Dependence', 'Alcohol-Induced Disorders']\n",
        "Counter({'Substance-Related Disorders': 9, 'Alcohol-Related Disorders': 5, 'Behavior': 3, 'Opioid-Related Disorders': 2, 'Substance Abuse, Intravenous': 1, 'Neurologic Manifestations': 1, 'Tobacco Use Disorder': 1, 'Neurobehavioral Manifestations': 1, 'Cocaine-Related Disorders': 1, 'Signs and Symptoms': 1, 'Poisoning': 1, 'Neurotoxicity Syndromes': 1})\n",
        "['Epidermal Necrolysis, Toxic', 'Pemphigoid, Bullous', 'Stevens-Johnson Syndrome', 'Pemphigoid, Benign Mucous Membrane', 'Staphylococcal Scalded Skin Syndrome']\n",
        "Counter({'Skin Diseases': 6, 'Bacterial Infections': 2, 'Conjunctival Diseases': 1, 'Autoimmune Diseases': 1, 'Infection': 1, 'Hypersensitivity': 1, 'Mouth Diseases': 1, 'Poisoning': 1})\n",
        "['Diabetes, Gestational', 'Pregnancy in Diabetics']\n",
        "Counter({'Pregnancy Complications': 2, 'Diabetes Mellitus': 1, 'Metabolic Diseases': 1})\n",
        "['Lichen Planus, Oral', 'Lichen Planus']\n",
        "Counter({'Skin Diseases': 2, 'Mouth Diseases': 1})\n",
        "['Erythema', 'Lyme Disease', 'Borrelia Infections', 'Glossitis, Benign Migratory', 'Tick-Borne Diseases', 'Erythema Chronicum Migrans', 'Rosacea', 'Lyme Neuroborreliosis', 'Anaplasmosis']\n",
        "Counter({'Bacterial Infections': 16, 'Skin Diseases': 4, 'Anaplasmosis': 1, 'Arbovirus Infections': 1, 'Infection': 1, 'Central Nervous System Diseases': 1, 'Mouth Diseases': 1, 'Protozoan Infections': 1})\n",
        "['Jaw, Edentulous', 'Jaw, Edentulous, Partially', 'Mouth, Edentulous']\n",
        "Counter({'Tooth Diseases': 3, 'Mouth Diseases': 3, 'Jaw Diseases': 2})\n",
        "['Apnea', 'Sleep Apnea, Obstructive', 'Sleep Apnea Syndromes', 'Respiratory Aspiration']\n",
        "Counter({'Respiration Disorders': 4, 'Sleep Disorders': 2, 'Signs and Symptoms': 1, 'Pathologic Processes': 1})\n",
        "['Glaucoma, Neovascular', 'Glaucoma, Angle-Closure']\n",
        "Counter({'Ocular Hypertension': 2})\n",
        "['Leprosy', 'Erythema Nodosum', 'Leprosy, Lepromatous', 'Leprosy, Multibacillary', 'Leprosy, Borderline']\n",
        "Counter({'Bacterial Infections': 4, 'Skin Diseases': 2, 'Hypersensitivity': 1, 'Poisoning': 1})\n",
        "['Neurocysticercosis', 'Taeniasis', 'Cysticercosis']\n",
        "Counter({'Helminthiasis': 3, 'Central Nervous System Diseases': 1, 'Central Nervous System Parasitic Infections': 1})\n",
        "['Sexual Dysfunctions, Psychological', 'Sexual Dysfunction, Physiological', 'Erectile Dysfunction', 'Hypokinesia']\n",
        "Counter({'Sexual and Gender Disorders': 2, 'Genital Diseases, Male': 2, 'Female Urogenital Diseases': 1, 'Neurologic Manifestations': 1, 'Signs and Symptoms': 1})\n",
        "['Epidermolysis Bullosa Dystrophica', 'Epidermolysis Bullosa Simplex', 'Epidermolysis Bullosa, Junctional', 'Nails, Malformed', 'Pachyonychia Congenita', 'Epidermolysis Bullosa']\n",
        "Counter({'Skin Diseases': 15, 'Congenital Abnormalities': 5, 'Genetic Diseases, Inborn': 5, 'Connective Tissue Diseases': 1, 'Pathological Conditions, Anatomical': 1})\n",
        "['Panniculitis', 'Enteropathy-Associated T-Cell Lymphoma']\n",
        "Counter({'Connective Tissue Diseases': 1, 'Skin Diseases': 1, 'Immunoproliferative Disorders': 1, 'Neoplasms by Histologic Type': 1, 'Lymphatic Diseases': 1})\n",
        "['Compulsive Personality Disorder', 'Obsessive-Compulsive Disorder']\n",
        "Counter({'Anxiety Disorders': 1, 'Personality Disorders': 1})\n",
        "['Scurvy', 'Ascorbic Acid Deficiency']\n",
        "Counter({'Nutrition Disorders': 2, 'Vascular Diseases': 1, 'Hematologic Diseases': 1})\n",
        "['Leishmaniasis', 'Leishmaniasis, Cutaneous', 'Leishmaniasis, Mucocutaneous', 'Leishmaniasis, Visceral']\n",
        "Counter({'Protozoan Infections': 4, 'Skin Diseases': 3, 'Skin Diseases, Parasitic': 3})\n",
        "['Psychomotor Agitation', 'Restless Legs Syndrome']\n",
        "Counter({'Sleep Disorders': 2, 'Neurologic Manifestations': 2, 'Signs and Symptoms': 2, 'Neurobehavioral Manifestations': 1})\n",
        "['Schizotypal Personality Disorder', 'Borderline Personality Disorder', 'Impulse Control Disorders', 'Personality Disorders', 'Dysthymic Disorder', 'Antisocial Personality Disorder', 'Psychophysiologic Disorders', 'Adjustment Disorders']\n",
        "Counter({'Personality Disorders': 4, 'Impulse Control Disorders': 1, 'Mood Disorders': 1, 'Adjustment Disorders': 1, 'Signs and Symptoms': 1})\n",
        "['Vomiting', 'Nausea', 'Postoperative Nausea and Vomiting']\n",
        "Counter({'Signs and Symptoms': 4, 'Pathologic Processes': 1})\n",
        "['Back Pain', 'Low Back Pain']\n",
        "Counter({'Signs and Symptoms': 4, 'Neurologic Manifestations': 2})\n",
        "['Skin Diseases, Vascular', 'Striae Distensae', 'Livedo Reticularis']\n",
        "Counter({'Skin Diseases': 2, 'Signs and Symptoms': 2, 'Vascular Diseases': 1})\n",
        "['Pelvic Infection', 'Pelvic Inflammatory Disease']\n",
        "Counter({'Infection': 2, 'Female Urogenital Diseases': 1})\n",
        "['Arteriosclerosis Obliterans', 'Thromboangiitis Obliterans']\n",
        "Counter({'Vascular Diseases': 3})\n",
        "['Substance Withdrawal Syndrome', 'Morphine Dependence']\n",
        "Counter({'Substance-Related Disorders': 2, 'Substance Withdrawal Syndrome': 1, 'Opioid-Related Disorders': 1})\n",
        "['Anuria', 'Pneumoperitoneum']\n",
        "Counter({'Female Urogenital Diseases': 2, 'Urologic Diseases': 2, 'Peritoneal Diseases': 1})\n",
        "['Hemorrhagic Fever, Crimean', 'Lassa Fever']\n",
        "Counter({'RNA Virus Infections': 4, 'Arbovirus Infections': 1})\n",
        "['Aphakia', 'Lens Diseases', 'Pseudophakia', 'Capsule Opacification']\n",
        "Counter({'Lens Diseases': 3, 'Signs and Symptoms': 1})\n",
        "['Uterine Diseases', 'Uterine Cervical Diseases']\n",
        "Counter({'Female Urogenital Diseases': 2})\n",
        "['Hemianopsia', 'Scotoma']\n",
        "Counter({'Neurologic Manifestations': 2, 'Signs and Symptoms': 2, 'Vision Disorders': 2})\n",
        "['Marijuana Smoking', 'Marijuana Abuse']\n",
        "Counter({'Substance-Related Disorders': 1, 'Marijuana Abuse': 1, 'Behavior': 1})\n",
        "['Precursor B-Cell Lymphoblastic Leukemia-Lymphoma', 'Leukemia, Biphenotypic, Acute']\n",
        "Counter({'Lymphatic Diseases': 2, 'Immunoproliferative Disorders': 2, 'Neoplasms by Histologic Type': 2})\n",
        "['Myocardial Stunning', 'Takotsubo Cardiomyopathy']\n",
        "Counter({'Heart Diseases': 3, 'Vascular Diseases': 2})\n",
        "['Proctocolitis', 'Proctitis']\n",
        "Counter({'Gastrointestinal Diseases': 7})\n",
        "['Hip Injuries', 'Wrist Injuries']\n",
        "Counter({'Hip Injuries': 1, 'Arm Injuries': 1})\n",
        "['Dupuytren Contracture', 'Contracture']\n",
        "Counter({'Muscular Diseases': 2, 'Connective Tissue Diseases': 1, 'Joint Diseases': 1})\n",
        "['Nasal Obstruction', 'Sneezing']\n",
        "Counter({'Respiratory Physiological Phenomena': 1, 'Respiration Disorders': 1, 'Signs and Symptoms': 1, 'Nose Diseases': 1})\n",
        "['Periventricular Nodular Heterotopia', 'Malformations of Cortical Development', 'Choristoma']\n",
        "Counter({'Congenital Abnormalities': 2, 'Nervous System Malformations': 2, 'Pathological Conditions, Anatomical': 1})\n",
        "['Vitreoretinopathy, Proliferative', 'Dissociative Disorders', 'Conjunctival Diseases', 'Vitreous Detachment', 'Retinal Perforations', 'Conversion Disorder', 'Epiretinal Membrane', 'Retinal Detachment', 'Hysteria']\n",
        "Counter({'Retinal Diseases': 4, 'Dissociative Disorders': 1, 'Conjunctival Diseases': 1, 'Vitreoretinopathy, Proliferative': 1, 'Personality Disorders': 1, 'Vitreous Detachment': 1, 'Somatoform Disorders': 1})\n",
        "['Amnesia', 'Memory Disorders']\n",
        "Counter({'Neurologic Manifestations': 2, 'Signs and Symptoms': 2, 'Neurobehavioral Manifestations': 2, 'Delirium, Dementia, Amnestic, Cognitive Disorders': 1})\n",
        "['Abortion, Missed', 'Abortion, Incomplete']\n",
        "Counter({'Pregnancy Complications': 2})\n",
        "['Herpes Zoster Ophthalmicus', 'Keratitis', 'Eye Infections', 'Corneal Ulcer', 'Eye Infections, Bacterial', 'Eye Infections, Fungal', 'Blepharitis', 'Keratitis, Herpetic']\n",
        "Counter({'Eye Infections': 6, 'Infection': 4, 'Corneal Diseases': 3, 'DNA Virus Infections': 2, 'Eye Infections, Viral': 2, 'Eyelid Diseases': 1, 'Bacterial Infections': 1, 'Mycoses': 1})\n",
        "['Suicidal Ideation', 'Suicide, Attempted', 'Suicide']\n",
        "Counter({'Sociology': 3, 'Behavior': 3})\n",
        "['Bursitis', 'Periarthritis', 'Shoulder Pain', 'Shoulder Impingement Syndrome', 'Tendinopathy', 'Neck Pain']\n",
        "Counter({'Joint Diseases': 5, 'Signs and Symptoms': 4, 'Muscular Diseases': 1, 'Neurologic Manifestations': 1, 'Tendon Injuries': 1})\n",
        "['Coccidioidomycosis', 'Rift Valley Fever', 'Meningitis, Fungal', 'Coccidiosis']\n",
        "Counter({'Mycoses': 2, 'Central Nervous System Diseases': 2, 'RNA Virus Infections': 2, 'Arbovirus Infections': 1, 'Liver Diseases': 1, 'Protozoan Infections': 1, 'Hepatitis, Animal': 1, 'Hepatitis, Viral, Animal': 1})\n",
        "['Hydrocephalus, Normal Pressure', 'Hydrocephalus']\n",
        "Counter({'Central Nervous System Diseases': 3})\n",
        "['Salivary Gland Diseases', \"Sjogren's Syndrome\", 'Lacrimal Apparatus Diseases', 'Xerostomia', 'Lacrimal Duct Obstruction', 'Ectropion', 'Dacryocystitis', 'Radiation Injuries']\n",
        "Counter({'Lacrimal Apparatus Diseases': 4, 'Mouth Diseases': 3, 'Eyelid Diseases': 1, 'Rheumatic Diseases': 1, 'Autoimmune Diseases': 1, 'Public Health': 1, 'Joint Diseases': 1, 'Radiation Injuries': 1, 'Connective Tissue Diseases': 1})\n",
        "['Occupational Diseases', 'Neurogenic Bowel', 'Spinal Injuries', 'Neck Injuries', 'Arm Injuries', 'Back Injuries']\n",
        "Counter({'Back Injuries': 2, 'Neck Injuries': 1, 'Arm Injuries': 1, 'Gastrointestinal Diseases': 1, 'Spinal Injuries': 1})\n",
        "['Female Athlete Triad Syndrome', 'Menstruation Disturbances']\n",
        "Counter({'Pathologic Processes': 1, 'Bone Diseases': 1, 'Eating Disorders': 1, 'Gonadal Disorders': 1})\n",
        "['Brain Death', 'Cadaver', 'Cerebral Hemorrhage, Traumatic', 'Brain Hemorrhage, Traumatic']\n",
        "Counter({'Central Nervous System Diseases': 6, 'Trauma, Nervous System': 4, 'Vascular Diseases': 3, 'Craniocerebral Trauma': 2, 'Pathologic Processes': 2, 'Neurologic Manifestations': 1})\n",
        "['Corneal Dystrophies, Hereditary', 'Miosis', 'Mydriasis', 'Dilatation, Pathologic', \"Fuchs' Endothelial Dystrophy\", 'Iridocorneal Endothelial Syndrome', 'Corneal Edema', 'Corneal Diseases', 'Keratoconus']\n",
        "Counter({'Corneal Diseases': 6, 'Genetic Diseases, Inborn': 2, 'Pupil Disorders': 2, 'Eye Diseases, Hereditary': 2, 'Pathological Conditions, Anatomical': 1, 'Neurologic Manifestations': 1, 'Signs and Symptoms': 1, 'Uveal Diseases': 1})\n",
        "['Endophthalmitis', 'Ophthalmia Neonatorum']\n",
        "Counter({'Bacterial Infections': 2, 'Eye Infections': 2, 'Infection': 2, 'Infant, Newborn, Diseases': 1, 'Conjunctival Diseases': 1})\n",
        "['Amyloidosis, Familial', 'Amyloid Neuropathies', 'Amyloid Neuropathies, Familial']\n",
        "Counter({'Metabolic Diseases': 6, 'Genetic Diseases, Inborn': 3, 'Neuromuscular Diseases': 2, 'Neurodegenerative Diseases': 1})\n",
        "['Pyruvate Carboxylase Deficiency Disease', 'Protein Deficiency']\n",
        "Counter({'Metabolic Diseases': 4, 'Genetic Diseases, Inborn': 2, 'Central Nervous System Diseases': 1, 'Nutrition Disorders': 1})\n",
        "['HIV Wasting Syndrome', 'Wasting Syndrome']\n",
        "Counter({'Metabolic Diseases': 2, 'Nutrition Disorders': 2, 'Sexually Transmitted Diseases': 1, 'RNA Virus Infections': 1, 'Immunologic Deficiency Syndromes': 1})\n",
        "['Prediabetic State', 'Glucose Intolerance']\n",
        "Counter({'Metabolic Diseases': 2, 'Diabetes Mellitus': 1})\n",
        "['Nematode Infections', 'Ascariasis', 'Trichuriasis', 'Strongyloidiasis', 'Hookworm Infections', 'Ascaridiasis', 'Ancylostomiasis']\n",
        "Counter({'Helminthiasis': 7})\n",
        "['Asthenia', 'Myasthenia Gravis', 'Muscle Weakness', 'Paresis']\n",
        "Counter({'Signs and Symptoms': 3, 'Neurologic Manifestations': 2, 'Autoimmune Diseases of the Nervous System': 1, 'Muscular Diseases': 1, 'Autoimmune Diseases': 1, 'Neuromuscular Diseases': 1, 'Pathologic Processes': 1})\n",
        "['Cheyne-Stokes Respiration', 'Sleep Apnea, Central']\n",
        "Counter({'Respiration Disorders': 2, 'Sleep Disorders': 1, 'Signs and Symptoms': 1})\n",
        "['Vitamin E Deficiency', 'Night Blindness', 'Vitamin A Deficiency']\n",
        "Counter({'Nutrition Disorders': 2, 'Vision Disorders': 1})\n",
        "['Abortion, Habitual', 'Abortion, Spontaneous']\n",
        "Counter({'Pregnancy Complications': 2})\n",
        "['Arthritis, Gouty', 'Chondrocalcinosis']\n",
        "Counter({'Joint Diseases': 2, 'Metabolic Diseases': 1, 'Rheumatic Diseases': 1, 'Genetic Diseases, Inborn': 1})\n",
        "['Ileitis', 'Pouchitis']\n",
        "Counter({'Gastrointestinal Diseases': 6})\n",
        "['RNA Virus Infections', 'Respiratory Tract Diseases']\n",
        "Counter({'RNA Virus Infections': 1})\n",
        "['Failed Back Surgery Syndrome', 'Pain, Intractable']\n",
        "Counter({'Neurologic Manifestations': 2, 'Signs and Symptoms': 2, 'Pathologic Processes': 1})\n",
        "['Clubfoot', 'Equinus Deformity']\n",
        "Counter({'Foot Deformities': 2, 'Congenital Abnormalities': 1, 'Musculoskeletal Abnormalities': 1})\n",
        "['Postoperative Hemorrhage', 'Blood Loss, Surgical']\n",
        "Counter({'Pathologic Processes': 4})\n",
        "['Sarcoidosis, Pulmonary', 'Sarcoidosis']\n",
        "Counter({'Lymphatic Diseases': 2, 'Lung Diseases': 1})\n",
        "['Angioedemas, Hereditary', 'Angioedema', 'Hereditary Angioedema Types I and II']\n",
        "Counter({'Vascular Diseases': 3, 'Hypersensitivity': 3, 'Skin Diseases': 3, 'Genetic Diseases, Inborn': 1})\n",
        "['Hyperphagia', 'Prader-Willi Syndrome']\n",
        "Counter({'Congenital Abnormalities': 2, 'Neurologic Manifestations': 1, 'Nutrition Disorders': 1, 'Signs and Symptoms': 1, 'Genetic Diseases, Inborn': 1})\n",
        "['Adenoma, Pleomorphic', 'Mixed Tumor, Mesodermal', 'Syringoma']\n",
        "Counter({'Neoplasms by Histologic Type': 6})\n",
        "['Tic Disorders', 'Tics', 'Tourette Syndrome']\n",
        "Counter({'Central Nervous System Diseases': 3, 'Mental Disorders Diagnosed in Childhood': 2, 'Neurologic Manifestations': 1, 'Genetic Diseases, Inborn': 1, 'Signs and Symptoms': 1, 'Neurodegenerative Diseases': 1})\n",
        "['Lymphoma, Primary Cutaneous Anaplastic Large Cell', 'Lymphomatoid Papulosis']\n",
        "Counter({'Neoplasms by Histologic Type': 2, 'Immunoproliferative Disorders': 2, 'Lymphatic Diseases': 2})\n",
        "['Asymptomatic Infections', 'Bacteriuria', 'Pyelonephritis', 'Urinary Tract Infections', 'Vesico-Ureteral Reflux']\n",
        "Counter({'Urologic Diseases': 5, 'Female Urogenital Diseases': 5, 'Infection': 2, 'Pathologic Processes': 1})\n",
        "['Lesch-Nyhan Syndrome', 'Self-Injurious Behavior']\n",
        "Counter({'Genetic Diseases, Inborn': 5, 'Metabolic Diseases': 3, 'Neurologic Manifestations': 1, 'Central Nervous System Diseases': 1, 'Neurodegenerative Diseases': 1, 'Behavior': 1})\n",
        "['Open Bite', 'Sialorrhea']\n",
        "Counter({'Tooth Diseases': 1, 'Mouth Diseases': 1})\n",
        "['Affective Disorders, Psychotic', 'Schizophrenia and Disorders with Psychotic Features']\n",
        "Counter({'Mood Disorders': 1, 'Schizophrenia and Disorders with Psychotic Features': 1})\n",
        "['Long QT Syndrome', 'Brugada Syndrome', 'Romano-Ward Syndrome', 'Arrhythmogenic Right Ventricular Dysplasia']\n",
        "Counter({'Heart Diseases': 5, 'Congenital Abnormalities': 3, 'Pathologic Processes': 2, 'Cardiovascular Abnormalities': 1, 'Genetic Diseases, Inborn': 1})\n",
        "['Vaginal Fistula', 'Rectovaginal Fistula', 'Vesicovaginal Fistula']\n",
        "Counter({'Pathological Conditions, Anatomical': 5, 'Female Urogenital Diseases': 3, 'Gastrointestinal Diseases': 2, 'Digestive System Fistula': 1})\n",
        "['Herpes Labialis', 'Herpes Simplex', 'Herpes Genitalis']\n",
        "Counter({'DNA Virus Infections': 3, 'Skin Diseases': 2, 'Skin Diseases, Viral': 2, 'Sexually Transmitted Diseases': 1, 'Mouth Diseases': 1, 'Genital Diseases, Male': 1, 'Female Urogenital Diseases': 1})\n",
        "['Polyradiculoneuropathy', 'Polyradiculoneuropathy, Chronic Inflammatory Demyelinating']\n",
        "Counter({'Autoimmune Diseases': 2, 'Autoimmune Diseases of the Nervous System': 2, 'Neuromuscular Diseases': 2, 'Demyelinating Diseases': 2})\n",
        "['Stress Disorders, Traumatic', 'Stress Disorders, Post-Traumatic']\n",
        "Counter({'Anxiety Disorders': 2})\n",
        "['Hyperkinesis', 'Attention Deficit Disorder with Hyperactivity']\n",
        "Counter({'Neurologic Manifestations': 1, 'Signs and Symptoms': 1, 'Mental Disorders Diagnosed in Childhood': 1})\n",
        "['Scleroderma, Limited', 'CREST Syndrome']\n",
        "Counter({'Connective Tissue Diseases': 2, 'Skin Diseases': 2, 'Vascular Diseases': 2, 'Gastrointestinal Diseases': 1, 'Metabolic Diseases': 1})\n",
        "['Lupus Erythematosus, Systemic', 'Glomerulonephritis, IGA', 'Nephrosis, Lipoid', 'Glomerulonephritis, Membranous', 'Vasculitis, Central Nervous System', 'Glomerulonephritis, Membranoproliferative', 'Glomerulonephritis', 'Nephritis', 'Kwashiorkor', 'Lupus Erythematosus, Cutaneous', 'Lupus Vasculitis, Central Nervous System', 'Lupus Erythematosus, Discoid', 'Protein-Energy Malnutrition', 'Nephrotic Syndrome', 'Glomerulosclerosis, Focal Segmental', 'Hypoalbuminemia', 'Nephrosis', 'Lupus Nephritis']\n",
        "Counter({'Urologic Diseases': 10, 'Female Urogenital Diseases': 10, 'Autoimmune Diseases': 7, 'Central Nervous System Diseases': 7, 'Connective Tissue Diseases': 5, 'Vascular Diseases': 4, 'Autoimmune Diseases of the Nervous System': 2, 'Nutrition Disorders': 2, 'Skin Diseases': 2, 'Hematologic Diseases': 1, 'Glomerulonephritis, Membranoproliferative': 1})\n",
        "['Sprue, Tropical', 'HIV Enteropathy', 'Ileal Diseases']\n",
        "Counter({'Gastrointestinal Diseases': 3, 'Immunologic Deficiency Syndromes': 1, 'Metabolic Diseases': 1, 'RNA Virus Infections': 1, 'Sexually Transmitted Diseases': 1})\n",
        "['Lung Diseases, Obstructive', 'Respiration Disorders', 'Pulmonary Disease, Chronic Obstructive', 'Chronic Disease', 'Lung Diseases']\n",
        "Counter({'Lung Diseases': 3, 'Pathologic Processes': 1, 'Respiration Disorders': 1})\n",
        "['Heart Septal Defects, Ventricular', 'Heart Septal Defects, Atrial', 'Ventricular Dysfunction, Right', 'Pulmonary Valve Stenosis', 'Heart Septal Defects', 'Menkes Kinky Hair Syndrome', 'Pulmonary Atresia', 'Loeys-Dietz Syndrome', 'Ehlers-Danlos Syndrome', 'Vertebral Artery Dissection', 'Situs Inversus', 'Foramen Ovale, Patent', 'Ventricular Dysfunction, Left', 'Pulmonary Heart Disease', 'Arachnodactyly', 'Craniosynostoses', 'Skin Abnormalities', 'Pulmonary Valve Insufficiency', 'Endocardial Cushion Defects', 'Transposition of Great Vessels', 'Aortic Coarctation', 'Embolism, Paradoxical', 'Aneurysm, Dissecting', 'Plagiocephaly', 'Marfan Syndrome', 'Tetralogy of Fallot', 'Ventricular Dysfunction', 'Nail-Patella Syndrome']\n",
        "Counter({'Congenital Abnormalities': 21, 'Heart Diseases': 17, 'Vascular Diseases': 10, 'Cardiovascular Abnormalities': 10, 'Genetic Diseases, Inborn': 9, 'Musculoskeletal Abnormalities': 6, 'Skin Diseases': 5, 'Metabolic Diseases': 3, 'Central Nervous System Diseases': 3, 'Connective Tissue Diseases': 2, 'Bone Diseases': 2, 'Hematologic Diseases': 1, 'Neurologic Manifestations': 1, 'Joint Diseases': 1, 'Neurodegenerative Diseases': 1, 'Trauma, Nervous System': 1})\n",
        "['Leg Injuries', 'Amputation, Traumatic', 'Fractures, Spontaneous', 'Fractures, Malunited', 'Joint Loose Bodies']\n",
        "Counter({'Fractures, Bone': 2, 'Amputation, Traumatic': 1, 'Leg Injuries': 1, 'Joint Diseases': 1})\n",
        "['Angiofibroma', 'Angiomyolipoma', 'Lymphangioleiomyomatosis', 'Angiolipoma', 'Lymphangiomyoma', 'Tuberous Sclerosis']\n",
        "Counter({'Neoplasms by Histologic Type': 7, 'Genetic Diseases, Inborn': 2, 'Lymphatic Diseases': 2, 'Immunoproliferative Disorders': 2, 'Congenital Abnormalities': 1, 'Nervous System Malformations': 1, 'Neoplasms, Multiple Primary': 1, 'Neurocutaneous Syndromes': 1, 'Neurodegenerative Diseases': 1, 'Neoplastic Syndromes, Hereditary': 1, 'Hamartoma': 1})\n",
        "['Ectodermal Dysplasia 1, Anhidrotic', 'Ectodermal Dysplasia']\n",
        "Counter({'Skin Diseases': 4, 'Congenital Abnormalities': 4, 'Genetic Diseases, Inborn': 3})\n",
        "['Colonic Diseases', 'Rectal Diseases', 'Colonic Diseases, Functional']\n",
        "Counter({'Gastrointestinal Diseases': 3})\n",
        "['Pleural Effusion, Malignant', 'Tuberculosis, Pleural', 'Pleurisy', 'Empyema, Pleural', 'Empyema', 'Pleural Effusion', 'Pleural Diseases']\n",
        "Counter({'Pleural Diseases': 7, 'Respiratory Tract Infections': 3, 'Infection': 3, 'Respiratory Tract Neoplasms': 1, 'Pathologic Processes': 1, 'Bacterial Infections': 1, 'Neoplasms by Site': 1})\n",
        "['Renal Artery Obstruction', 'Hypertension, Renovascular']\n",
        "Counter({'Female Urogenital Diseases': 2, 'Urologic Diseases': 2, 'Vascular Diseases': 2})\n",
        "['Liver Failure', 'Fatty Liver', 'Liver Failure, Acute', 'Liver Diseases', 'End Stage Liver Disease']\n",
        "Counter({'Liver Diseases': 5})\n",
        "['Constipation', 'Irritable Bowel Syndrome', 'Diarrhea', 'Dysentery']\n",
        "Counter({'Gastrointestinal Diseases': 3, 'Signs and Symptoms': 2})\n",
        "['Lentigo', 'Neoplastic Syndromes, Hereditary', 'Heart Neoplasms', 'Von Hippel-Lindau Disease', 'Bone Diseases, Developmental', 'Carney Complex', 'Peutz-Jeghers Syndrome', \"Hutchinson's Melanotic Freckle\", 'Hemangioblastoma', 'Myxoma', 'Neoplastic Processes', 'Leiomyomatosis']\n"
       ]
      },
      {
       "ename": "KeyError",
       "evalue": "'Von Hippel-Lindau Disease'",
       "output_type": "pyerr",
       "traceback": [
        "\u001b[0;31m---------------------------------------------------------------------------\u001b[0m\n\u001b[0;31mKeyError\u001b[0m                                  Traceback (most recent call last)",
        "\u001b[0;32m<ipython-input-73-c298648afd1c>\u001b[0m in \u001b[0;36m<module>\u001b[0;34m()\u001b[0m\n\u001b[1;32m      1\u001b[0m \u001b[0;32mfor\u001b[0m \u001b[0mg\u001b[0m \u001b[0;32min\u001b[0m \u001b[0mgroups\u001b[0m\u001b[0;34m:\u001b[0m\u001b[0;34m\u001b[0m\u001b[0m\n\u001b[1;32m      2\u001b[0m     \u001b[0;32mprint\u001b[0m \u001b[0mg\u001b[0m\u001b[0;34m\u001b[0m\u001b[0m\n\u001b[0;32m----> 3\u001b[0;31m     \u001b[0;32mprint\u001b[0m \u001b[0mmesh_summary\u001b[0m\u001b[0;34m(\u001b[0m\u001b[0mg\u001b[0m\u001b[0;34m)\u001b[0m\u001b[0;34m\u001b[0m\u001b[0m\n\u001b[0m",
        "\u001b[0;32m<ipython-input-68-0ca1a0426479>\u001b[0m in \u001b[0;36mmesh_summary\u001b[0;34m(cond_list)\u001b[0m\n\u001b[1;32m      6\u001b[0m     \u001b[0mmesh_list\u001b[0m \u001b[0;34m=\u001b[0m \u001b[0mCounter\u001b[0m\u001b[0;34m(\u001b[0m\u001b[0;34m)\u001b[0m\u001b[0;34m\u001b[0m\u001b[0m\n\u001b[1;32m      7\u001b[0m     \u001b[0;32mfor\u001b[0m \u001b[0mc\u001b[0m \u001b[0;32min\u001b[0m \u001b[0mcond_list\u001b[0m\u001b[0;34m:\u001b[0m\u001b[0;34m\u001b[0m\u001b[0m\n\u001b[0;32m----> 8\u001b[0;31m         \u001b[0;32mfor\u001b[0m \u001b[0mm\u001b[0m \u001b[0;32min\u001b[0m \u001b[0mmesh_ids\u001b[0m\u001b[0;34m[\u001b[0m\u001b[0mc\u001b[0m\u001b[0;34m]\u001b[0m\u001b[0;34m:\u001b[0m\u001b[0;34m\u001b[0m\u001b[0m\n\u001b[0m\u001b[1;32m      9\u001b[0m             \u001b[0;32mif\u001b[0m \u001b[0mlen\u001b[0m\u001b[0;34m(\u001b[0m\u001b[0mm\u001b[0m\u001b[0;34m)\u001b[0m \u001b[0;34m>=\u001b[0m \u001b[0;36m7\u001b[0m \u001b[0;32mand\u001b[0m \u001b[0mm\u001b[0m\u001b[0;34m[\u001b[0m\u001b[0;34m:\u001b[0m\u001b[0;36m7\u001b[0m\u001b[0;34m]\u001b[0m \u001b[0;32min\u001b[0m \u001b[0mmesh_cats\u001b[0m\u001b[0;34m:\u001b[0m\u001b[0;34m\u001b[0m\u001b[0m\n\u001b[1;32m     10\u001b[0m                 \u001b[0mmesh_list\u001b[0m\u001b[0;34m[\u001b[0m\u001b[0mmesh_cats\u001b[0m\u001b[0;34m[\u001b[0m\u001b[0mm\u001b[0m\u001b[0;34m[\u001b[0m\u001b[0;34m:\u001b[0m\u001b[0;36m7\u001b[0m\u001b[0;34m]\u001b[0m\u001b[0;34m]\u001b[0m\u001b[0;34m]\u001b[0m \u001b[0;34m+=\u001b[0m \u001b[0;36m1\u001b[0m\u001b[0;34m\u001b[0m\u001b[0m\n",
        "\u001b[0;31mKeyError\u001b[0m: 'Von Hippel-Lindau Disease'"
       ]
      }
     ],
     "prompt_number": 73
    },
    {
     "cell_type": "markdown",
     "metadata": {},
     "source": [
      "#### Extract high-level codes and generate distance matrix"
     ]
    },
    {
     "cell_type": "code",
     "collapsed": false,
     "input": [
      "for "
     ],
     "language": "python",
     "metadata": {},
     "outputs": []
    }
   ],
   "metadata": {}
  }
 ]
}