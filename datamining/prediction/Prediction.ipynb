{
 "metadata": {
  "name": "",
  "signature": "sha256:5b20d952665522de855ba3efb79a3f30a00bf64b9cf1a85f427707591c731d98"
 },
 "nbformat": 3,
 "nbformat_minor": 0,
 "worksheets": [
  {
   "cells": [
    {
     "cell_type": "markdown",
     "metadata": {},
     "source": [
      "#### Load necessary packages"
     ]
    },
    {
     "cell_type": "code",
     "collapsed": false,
     "input": [
      "import pandas as pd\n",
      "import numpy as np\n",
      "import matplotlib.pyplot as plt\n",
      "from sklearn import svm, linear_model\n",
      "from sklearn.metrics import roc_auc_score, roc_curve, confusion_matrix\n",
      "from sklearn.feature_selection import RFE"
     ],
     "language": "python",
     "metadata": {},
     "outputs": [],
     "prompt_number": 12
    },
    {
     "cell_type": "markdown",
     "metadata": {},
     "source": [
      "#### Load datasets"
     ]
    },
    {
     "cell_type": "code",
     "collapsed": false,
     "input": [
      "dataset_norm = pd.read_pickle('dataset_norm.pickle')\n",
      "dataset_norm_withingroup = pd.read_pickle('dataset_norm_withingroup.pickle')"
     ],
     "language": "python",
     "metadata": {},
     "outputs": [],
     "prompt_number": 2
    },
    {
     "cell_type": "markdown",
     "metadata": {},
     "source": [
      "Get training data"
     ]
    },
    {
     "cell_type": "code",
     "collapsed": false,
     "input": [
      "dataset_norm_train = dataset_norm[(dataset_norm.training == 1) & (dataset_norm.sample == 1)]\n",
      "dataset_norm_withingroup_train = dataset_norm_withingroup[(dataset_norm_withingroup.training == 1) & (dataset_norm_withingroup.sample == 1)]\n",
      "\n",
      "dataset_norm_test = dataset_norm[(dataset_norm.training == 0) & (dataset_norm.sample == 1)]\n",
      "dataset_norm_withingroup_test = dataset_norm_withingroup[(dataset_norm_withingroup.training == 0) & (dataset_norm_withingroup.sample == 1)]\n",
      "\n",
      "dataset_norm_testfull = dataset_norm[(dataset_norm.training == 0) | (dataset_norm.sample == 0)]\n",
      "dataset_norm_withingroup_testfull = dataset_norm_withingroup[(dataset_norm_withingroup.training == 0) | (dataset_norm_withingroup.sample == 0)]"
     ],
     "language": "python",
     "metadata": {},
     "outputs": [],
     "prompt_number": 3
    },
    {
     "cell_type": "markdown",
     "metadata": {},
     "source": [
      "#### Set up models"
     ]
    },
    {
     "cell_type": "code",
     "collapsed": false,
     "input": [
      "varlist_short = [c for c in dataset_norm_train.columns.values if c not in ['target','type_interventional','training','sample'] and 'clus_' not in c]\n",
      "varlist_long = [c for c in dataset_norm_train.columns.values if c not in ['target','type_interventional','training','sample']]"
     ],
     "language": "python",
     "metadata": {},
     "outputs": [],
     "prompt_number": 4
    },
    {
     "cell_type": "code",
     "collapsed": false,
     "input": [
      "dn_X_short = dataset_norm_train[varlist_short]\n",
      "dn_X_long = dataset_norm_train[varlist_long]\n",
      "dn_X_short_test = dataset_norm_test[varlist_short]\n",
      "dn_X_long_test = dataset_norm_test[varlist_long]\n",
      "dn_X_short_testfull = dataset_norm_testfull[varlist_short]\n",
      "dn_X_long_testfull = dataset_norm_testfull[varlist_long]\n",
      "dn_Y = dataset_norm_train['target']\n",
      "dn_Y_test = dataset_norm_test['target']\n",
      "dn_Y_testfull = dataset_norm_testfull['target']\n",
      "\n",
      "dng_X_short = dataset_norm_withingroup_train[varlist_short]\n",
      "dng_X_long = dataset_norm_withingroup_train[varlist_long]\n",
      "dng_X_short_test = dataset_norm_withingroup_test[varlist_short]\n",
      "dng_X_long_test = dataset_norm_withingroup_test[varlist_long]\n",
      "dng_X_short_testfull = dataset_norm_withingroup_testfull[varlist_short]\n",
      "dng_X_long_testfull = dataset_norm_withingroup_testfull[varlist_long]\n",
      "dng_Y = dataset_norm_withingroup_train['target']\n",
      "dng_Y_test = dataset_norm_withingroup_test['target']\n",
      "dng_Y_testfull = dataset_norm_withingroup_testfull['target']"
     ],
     "language": "python",
     "metadata": {},
     "outputs": [],
     "prompt_number": 5
    },
    {
     "cell_type": "markdown",
     "metadata": {},
     "source": [
      "#### Logistic regression models"
     ]
    },
    {
     "cell_type": "code",
     "collapsed": false,
     "input": [
      "print '%s\\t%s\\t%s\\t%s\\t%s\\t%s' % ('missing','clusvars','testsize','Cval','ROC','score')\n",
      "\n",
      "for s in ['dn','dng']:\n",
      "    for l in ['short','long']:\n",
      "        for c in range(6):\n",
      "            for t in ['test','testfull']:\n",
      "                logit = linear_model.LogisticRegression(C=eval('1e' + str(c)))\n",
      "                logit.fit(eval(s + '_X_' + l), eval(s + '_Y'))\n",
      "                pred = logit.predict(eval(s + '_X_' + l + '_' + t))\n",
      "                roc = roc_auc_score(eval(s + '_Y_' + t), pred)\n",
      "                ls = logit.score(eval(s + '_X_' + l + '_' + t), eval(s + '_Y_' + t))\n",
      "                print '%s\\t%s\\t%s\\t%d\\t%g\\t%g' % (s,l,t,c,roc,ls)"
     ],
     "language": "python",
     "metadata": {},
     "outputs": [
      {
       "output_type": "stream",
       "stream": "stdout",
       "text": [
        "missing\tclusvars\ttestsize\tCval\tROC\tscore\n",
        "dn\tshort\ttest\t0\t0.632862\t0.632804"
       ]
      },
      {
       "output_type": "stream",
       "stream": "stdout",
       "text": [
        "\n",
        "dn\tshort\ttestfull\t0\t0.634528\t0.614164"
       ]
      },
      {
       "output_type": "stream",
       "stream": "stdout",
       "text": [
        "\n",
        "dn\tshort\ttest\t1\t0.633308\t0.633251"
       ]
      },
      {
       "output_type": "stream",
       "stream": "stdout",
       "text": [
        "\n",
        "dn\tshort\ttestfull\t1\t0.634435\t0.613985"
       ]
      },
      {
       "output_type": "stream",
       "stream": "stdout",
       "text": [
        "\n",
        "dn\tshort\ttest\t2\t0.633308\t0.633251"
       ]
      },
      {
       "output_type": "stream",
       "stream": "stdout",
       "text": [
        "\n",
        "dn\tshort\ttestfull\t2\t0.634466\t0.614045"
       ]
      },
      {
       "output_type": "stream",
       "stream": "stdout",
       "text": [
        "\n",
        "dn\tshort\ttest\t3\t0.633308\t0.633251"
       ]
      },
      {
       "output_type": "stream",
       "stream": "stdout",
       "text": [
        "\n",
        "dn\tshort\ttestfull\t3\t0.634474\t0.61406"
       ]
      },
      {
       "output_type": "stream",
       "stream": "stdout",
       "text": [
        "\n",
        "dn\tshort\ttest\t4\t0.633308\t0.633251"
       ]
      },
      {
       "output_type": "stream",
       "stream": "stdout",
       "text": [
        "\n",
        "dn\tshort\ttestfull\t4\t0.634474\t0.61406"
       ]
      },
      {
       "output_type": "stream",
       "stream": "stdout",
       "text": [
        "\n",
        "dn\tshort\ttest\t5\t0.633308\t0.633251"
       ]
      },
      {
       "output_type": "stream",
       "stream": "stdout",
       "text": [
        "\n",
        "dn\tshort\ttestfull\t5\t0.634474\t0.61406"
       ]
      },
      {
       "output_type": "stream",
       "stream": "stdout",
       "text": [
        "\n",
        "dn\tlong\ttest\t0\t0.636642\t0.636608"
       ]
      },
      {
       "output_type": "stream",
       "stream": "stdout",
       "text": [
        "\n",
        "dn\tlong\ttestfull\t0\t0.639911\t0.630014"
       ]
      },
      {
       "output_type": "stream",
       "stream": "stdout",
       "text": [
        "\n",
        "dn\tlong\ttest\t1\t0.637762\t0.637727"
       ]
      },
      {
       "output_type": "stream",
       "stream": "stdout",
       "text": [
        "\n",
        "dn\tlong\ttestfull\t1\t0.640909\t0.630268"
       ]
      },
      {
       "output_type": "stream",
       "stream": "stdout",
       "text": [
        "\n",
        "dn\tlong\ttest\t2\t0.637762\t0.637727"
       ]
      },
      {
       "output_type": "stream",
       "stream": "stdout",
       "text": [
        "\n",
        "dn\tlong\ttestfull\t2\t0.640917\t0.630283"
       ]
      },
      {
       "output_type": "stream",
       "stream": "stdout",
       "text": [
        "\n",
        "dn\tlong\ttest\t3\t0.637762\t0.637727"
       ]
      },
      {
       "output_type": "stream",
       "stream": "stdout",
       "text": [
        "\n",
        "dn\tlong\ttestfull\t3\t0.640909\t0.630268"
       ]
      },
      {
       "output_type": "stream",
       "stream": "stdout",
       "text": [
        "\n",
        "dn\tlong\ttest\t4\t0.637762\t0.637727"
       ]
      },
      {
       "output_type": "stream",
       "stream": "stdout",
       "text": [
        "\n",
        "dn\tlong\ttestfull\t4\t0.640909\t0.630268"
       ]
      },
      {
       "output_type": "stream",
       "stream": "stdout",
       "text": [
        "\n",
        "dn\tlong\ttest\t5\t0.637762\t0.637727"
       ]
      },
      {
       "output_type": "stream",
       "stream": "stdout",
       "text": [
        "\n",
        "dn\tlong\ttestfull\t5\t0.640909\t0.630268"
       ]
      },
      {
       "output_type": "stream",
       "stream": "stdout",
       "text": [
        "\n",
        "dng\tshort\ttest\t0\t0.634237\t0.634195"
       ]
      },
      {
       "output_type": "stream",
       "stream": "stdout",
       "text": [
        "\n",
        "dng\tshort\ttestfull\t0\t0.633948\t0.612031"
       ]
      },
      {
       "output_type": "stream",
       "stream": "stdout",
       "text": [
        "\n",
        "dng\tshort\ttest\t1\t0.634906\t0.634864"
       ]
      },
      {
       "output_type": "stream",
       "stream": "stdout",
       "text": [
        "\n",
        "dng\tshort\ttestfull\t1\t0.634479\t0.612225"
       ]
      },
      {
       "output_type": "stream",
       "stream": "stdout",
       "text": [
        "\n",
        "dng\tshort\ttest\t2\t0.634906\t0.634864"
       ]
      },
      {
       "output_type": "stream",
       "stream": "stdout",
       "text": [
        "\n",
        "dng\tshort\ttestfull\t2\t0.634464\t0.612195"
       ]
      },
      {
       "output_type": "stream",
       "stream": "stdout",
       "text": [
        "\n",
        "dng\tshort\ttest\t3\t0.634906\t0.634864"
       ]
      },
      {
       "output_type": "stream",
       "stream": "stdout",
       "text": [
        "\n",
        "dng\tshort\ttestfull\t3\t0.634472\t0.61221"
       ]
      },
      {
       "output_type": "stream",
       "stream": "stdout",
       "text": [
        "\n",
        "dng\tshort\ttest\t4\t0.634906\t0.634864"
       ]
      },
      {
       "output_type": "stream",
       "stream": "stdout",
       "text": [
        "\n",
        "dng\tshort\ttestfull\t4\t0.634472\t0.61221"
       ]
      },
      {
       "output_type": "stream",
       "stream": "stdout",
       "text": [
        "\n",
        "dng\tshort\ttest\t5\t0.634906\t0.634864"
       ]
      },
      {
       "output_type": "stream",
       "stream": "stdout",
       "text": [
        "\n",
        "dng\tshort\ttestfull\t5\t0.634472\t0.61221"
       ]
      },
      {
       "output_type": "stream",
       "stream": "stdout",
       "text": [
        "\n",
        "dng\tlong\ttest\t0\t0.644924\t0.644895"
       ]
      },
      {
       "output_type": "stream",
       "stream": "stdout",
       "text": [
        "\n",
        "dng\tlong\ttestfull\t0\t0.64756\t0.635011"
       ]
      },
      {
       "output_type": "stream",
       "stream": "stdout",
       "text": [
        "\n",
        "dng\tlong\ttest\t1\t0.645588\t0.645564"
       ]
      },
      {
       "output_type": "stream",
       "stream": "stdout",
       "text": [
        "\n",
        "dng\tlong\ttestfull\t1\t0.646845\t0.635295"
       ]
      },
      {
       "output_type": "stream",
       "stream": "stdout",
       "text": [
        "\n",
        "dng\tlong\ttest\t2\t0.64581\t0.645787"
       ]
      },
      {
       "output_type": "stream",
       "stream": "stdout",
       "text": [
        "\n",
        "dng\tlong\ttestfull\t2\t0.646645\t0.635325"
       ]
      },
      {
       "output_type": "stream",
       "stream": "stdout",
       "text": [
        "\n",
        "dng\tlong\ttest\t3\t0.64581\t0.645787"
       ]
      },
      {
       "output_type": "stream",
       "stream": "stdout",
       "text": [
        "\n",
        "dng\tlong\ttestfull\t3\t0.646621\t0.63528"
       ]
      },
      {
       "output_type": "stream",
       "stream": "stdout",
       "text": [
        "\n",
        "dng\tlong\ttest\t4\t0.64581\t0.645787"
       ]
      },
      {
       "output_type": "stream",
       "stream": "stdout",
       "text": [
        "\n",
        "dng\tlong\ttestfull\t4\t0.646614\t0.635265"
       ]
      },
      {
       "output_type": "stream",
       "stream": "stdout",
       "text": [
        "\n",
        "dng\tlong\ttest\t5\t0.64581\t0.645787"
       ]
      },
      {
       "output_type": "stream",
       "stream": "stdout",
       "text": [
        "\n",
        "dng\tlong\ttestfull\t5\t0.646614\t0.635265"
       ]
      },
      {
       "output_type": "stream",
       "stream": "stdout",
       "text": [
        "\n"
       ]
      }
     ],
     "prompt_number": 6
    },
    {
     "cell_type": "markdown",
     "metadata": {},
     "source": [
      "Picking grouped missing value replacement, long variable list, and C=1\n",
      "\n",
      "Determining ranked variable importance"
     ]
    },
    {
     "cell_type": "code",
     "collapsed": false,
     "input": [
      "logit = linear_model.LogisticRegression(C=1)\n",
      "logit.fit(dng_X_long,dng_Y)\n",
      "feat = RFE(estimator=logit, n_features_to_select=1, step=1)\n",
      "feat.fit(dng_X_long,dng_Y)"
     ],
     "language": "python",
     "metadata": {},
     "outputs": [
      {
       "metadata": {},
       "output_type": "pyout",
       "prompt_number": 6,
       "text": [
        "RFE(estimator=LogisticRegression(C=1, class_weight=None, dual=False, fit_intercept=True,\n",
        "          intercept_scaling=1, penalty='l2', random_state=None, tol=0.0001),\n",
        "  estimator_params={}, n_features_to_select=1, step=1, verbose=0)"
       ]
      }
     ],
     "prompt_number": 6
    },
    {
     "cell_type": "markdown",
     "metadata": {},
     "source": [
      "Testing various numbers of important variables to determine optimal number of parameters"
     ]
    },
    {
     "cell_type": "code",
     "collapsed": false,
     "input": [
      "pred_all = logit.predict(dng_X_long_testfull)\n",
      "roc_all = roc_auc_score(dng_Y_testfull, pred_all)\n",
      "ls_all = logit.score(dng_X_long_testfull, dng_Y_testfull)\n",
      "\n",
      "print '%g\\t%g' % (roc_all, ls_all)\n",
      "\n",
      "important_vars = [v for v, n in sorted(zip(varlist_long,list(feat.ranking_)), key=lambda x: x[1])]\n",
      "\n",
      "for v in range(50):\n",
      "    X = dng_X_long[important_vars[:v+1]]\n",
      "    logit_temp = linear_model.LogisticRegression(C=1)\n",
      "    logit_temp.fit(X,dng_Y)\n",
      "    X_test = dng_X_long_testfull[important_vars[:v+1]]\n",
      "    pred = logit_temp.predict(X_test)\n",
      "    roc = roc_auc_score(dng_Y_testfull, pred)\n",
      "    ls = logit_temp.score(X_test, dng_Y_testfull)\n",
      "    print '%d:\\t%g\\t%g' % (v+1, roc, ls)"
     ],
     "language": "python",
     "metadata": {},
     "outputs": [
      {
       "output_type": "stream",
       "stream": "stdout",
       "text": [
        "0.647568\t0.635026\n",
        "1:\t0.500959\t0.964649"
       ]
      },
      {
       "output_type": "stream",
       "stream": "stdout",
       "text": [
        "\n",
        "2:\t0.521818\t0.101886"
       ]
      },
      {
       "output_type": "stream",
       "stream": "stdout",
       "text": [
        "\n",
        "3:\t0.571956\t0.320912\n",
        "4:\t0.583805\t0.417165"
       ]
      },
      {
       "output_type": "stream",
       "stream": "stdout",
       "text": [
        "\n",
        "5:\t0.59517\t0.482892"
       ]
      },
      {
       "output_type": "stream",
       "stream": "stdout",
       "text": [
        "\n",
        "6:\t0.595438\t0.48216"
       ]
      },
      {
       "output_type": "stream",
       "stream": "stdout",
       "text": [
        "\n",
        "7:\t0.595584\t0.482025"
       ]
      },
      {
       "output_type": "stream",
       "stream": "stdout",
       "text": [
        "\n",
        "8:\t0.598031\t0.431329"
       ]
      },
      {
       "output_type": "stream",
       "stream": "stdout",
       "text": [
        "\n",
        "9:\t0.598815\t0.430761"
       ]
      },
      {
       "output_type": "stream",
       "stream": "stdout",
       "text": [
        "\n",
        "10:\t0.601293\t0.445553"
       ]
      },
      {
       "output_type": "stream",
       "stream": "stdout",
       "text": [
        "\n",
        "11:\t0.601285\t0.445538"
       ]
      },
      {
       "output_type": "stream",
       "stream": "stdout",
       "text": [
        "\n",
        "12:\t0.600975\t0.455773"
       ]
      },
      {
       "output_type": "stream",
       "stream": "stdout",
       "text": [
        "\n",
        "13:\t0.600944\t0.455714"
       ]
      },
      {
       "output_type": "stream",
       "stream": "stdout",
       "text": [
        "\n",
        "14:\t0.600085\t0.469056"
       ]
      },
      {
       "output_type": "stream",
       "stream": "stdout",
       "text": [
        "\n",
        "15:\t0.611737\t0.559093"
       ]
      },
      {
       "output_type": "stream",
       "stream": "stdout",
       "text": [
        "\n",
        "16:\t0.611551\t0.558316"
       ]
      },
      {
       "output_type": "stream",
       "stream": "stdout",
       "text": [
        "\n",
        "17:\t0.615805\t0.649056"
       ]
      },
      {
       "output_type": "stream",
       "stream": "stdout",
       "text": [
        "\n",
        "18:\t0.617168\t0.63002"
       ]
      },
      {
       "output_type": "stream",
       "stream": "stdout",
       "text": [
        "\n",
        "19:\t0.620394\t0.622086"
       ]
      },
      {
       "output_type": "stream",
       "stream": "stdout",
       "text": [
        "\n",
        "20:\t0.623586\t0.605337"
       ]
      },
      {
       "output_type": "stream",
       "stream": "stdout",
       "text": [
        "\n",
        "21:\t0.61985\t0.631455"
       ]
      },
      {
       "output_type": "stream",
       "stream": "stdout",
       "text": [
        "\n",
        "22:\t0.636071\t0.630304"
       ]
      },
      {
       "output_type": "stream",
       "stream": "stdout",
       "text": [
        "\n",
        "23:\t0.622858\t0.618515"
       ]
      },
      {
       "output_type": "stream",
       "stream": "stdout",
       "text": [
        "\n",
        "24:\t0.654598\t0.61986"
       ]
      },
      {
       "output_type": "stream",
       "stream": "stdout",
       "text": [
        "\n",
        "25:\t0.631676\t0.608056"
       ]
      },
      {
       "output_type": "stream",
       "stream": "stdout",
       "text": [
        "\n",
        "26:\t0.631951\t0.606921"
       ]
      },
      {
       "output_type": "stream",
       "stream": "stdout",
       "text": [
        "\n",
        "27:\t0.631308\t0.608594"
       ]
      },
      {
       "output_type": "stream",
       "stream": "stdout",
       "text": [
        "\n",
        "28:\t0.633316\t0.615811"
       ]
      },
      {
       "output_type": "stream",
       "stream": "stdout",
       "text": [
        "\n",
        "29:\t0.628076\t0.594011"
       ]
      },
      {
       "output_type": "stream",
       "stream": "stdout",
       "text": [
        "\n",
        "30:\t0.630458\t0.5957"
       ]
      },
      {
       "output_type": "stream",
       "stream": "stdout",
       "text": [
        "\n",
        "31:\t0.628308\t0.594878"
       ]
      },
      {
       "output_type": "stream",
       "stream": "stdout",
       "text": [
        "\n",
        "32:\t0.630225\t0.598584"
       ]
      },
      {
       "output_type": "stream",
       "stream": "stdout",
       "text": [
        "\n",
        "33:\t0.630386\t0.598061"
       ]
      },
      {
       "output_type": "stream",
       "stream": "stdout",
       "text": [
        "\n",
        "34:\t0.637504\t0.615572"
       ]
      },
      {
       "output_type": "stream",
       "stream": "stdout",
       "text": [
        "\n",
        "35:\t0.63765\t0.615019"
       ]
      },
      {
       "output_type": "stream",
       "stream": "stdout",
       "text": [
        "\n",
        "36:\t0.634426\t0.60837"
       ]
      },
      {
       "output_type": "stream",
       "stream": "stdout",
       "text": [
        "\n",
        "37:\t0.634465\t0.608863"
       ]
      },
      {
       "output_type": "stream",
       "stream": "stdout",
       "text": [
        "\n",
        "38:\t0.640259\t0.618396"
       ]
      },
      {
       "output_type": "stream",
       "stream": "stdout",
       "text": [
        "\n",
        "39:\t0.63215\t0.625642"
       ]
      },
      {
       "output_type": "stream",
       "stream": "stdout",
       "text": [
        "\n",
        "40:\t0.631479\t0.625179"
       ]
      },
      {
       "output_type": "stream",
       "stream": "stdout",
       "text": [
        "\n",
        "41:\t0.634495\t0.623924"
       ]
      },
      {
       "output_type": "stream",
       "stream": "stdout",
       "text": [
        "\n",
        "42:\t0.635194\t0.623192"
       ]
      },
      {
       "output_type": "stream",
       "stream": "stdout",
       "text": [
        "\n",
        "43:\t0.634903\t0.623879"
       ]
      },
      {
       "output_type": "stream",
       "stream": "stdout",
       "text": [
        "\n",
        "44:\t0.636421\t0.624313"
       ]
      },
      {
       "output_type": "stream",
       "stream": "stdout",
       "text": [
        "\n",
        "45:\t0.636699\t0.624851"
       ]
      },
      {
       "output_type": "stream",
       "stream": "stdout",
       "text": [
        "\n",
        "46:\t0.638099\t0.620473"
       ]
      },
      {
       "output_type": "stream",
       "stream": "stdout",
       "text": [
        "\n",
        "47:\t0.637846\t0.620816"
       ]
      },
      {
       "output_type": "stream",
       "stream": "stdout",
       "text": [
        "\n",
        "48:\t0.643012\t0.624552"
       ]
      },
      {
       "output_type": "stream",
       "stream": "stdout",
       "text": [
        "\n",
        "49:\t0.643412\t0.624492"
       ]
      },
      {
       "output_type": "stream",
       "stream": "stdout",
       "text": [
        "\n",
        "50:\t0.645898\t0.62763"
       ]
      },
      {
       "output_type": "stream",
       "stream": "stdout",
       "text": [
        "\n"
       ]
      }
     ],
     "prompt_number": 8
    },
    {
     "cell_type": "markdown",
     "metadata": {},
     "source": [
      "Getting coefficients and printing out top 20 variables"
     ]
    },
    {
     "cell_type": "code",
     "collapsed": false,
     "input": [
      "coef_dict = dict(zip(varlist_long,list(logit.coef_[0])))"
     ],
     "language": "python",
     "metadata": {},
     "outputs": [],
     "prompt_number": 9
    },
    {
     "cell_type": "code",
     "collapsed": false,
     "input": [
      "clus_dict = {\n",
      "  'clus_35': 'Digestive System Neoplasms, Pancreatic Diseases, Endocrine Gland Neoplasms, Infant, Newborn, Diseases, Gonadal Disorders, Lymphatic Diseases, Hematologic Diseases, Gastrointestinal Diseases, Immunoproliferative Disorders, Neoplasms by Histologic Type, Neoplasms by Site',\n",
      "  'clus_2': 'Optic Nerve Diseases, Otorhinolaryngologic Neoplasms, Ocular Motility Disorders, Neurocutaneous Syndromes, Laryngeal Diseases, Cranial Nerve Diseases',\n",
      "  'clus_25': 'Immune System Processes, Purpura, Thrombocytopenic',\n",
      "  'clus_1': 'Immunologic Deficiency Syndromes, Virus Diseases, Sexually Transmitted Diseases, DNA Virus Infections, Skin Diseases, Viral, Slow Virus Diseases, Hepatitis, Viral, Human, RNA Virus Infections',\n",
      "  'clus_20': 'Vascular Diseases, Pathologic Processes, Heart Diseases',\n",
      "  'clus_36': 'Respiratory Tract Neoplasms, Bronchial Diseases, Lung Diseases, Hypersensitivity, Respiratory Hypersensitivity',\n",
      "  'clus_37': 'Urogenital Neoplasms, Genital Diseases, Male',\n",
      "  'clus_17': 'Nutrition Disorders, Neurodegenerative Diseases, Anthropometry, Body Constitution, Physiological Processes, Delirium, Dementia, Amnestic, Cognitive Disorders, Neurologic Manifestations, Central Nervous System Diseases, Diagnostic Techniques and Procedures, Neurobehavioral Manifestations, Signs and Symptoms',\n",
      "  'clus_12': 'Uveal Diseases, Eye Neoplasms, Retinal Diseases',\n",
      "  'clus_21': 'Ear Diseases, Vision Disorders, Lens Diseases, Refractive Errors, Ocular Hypertension',\n",
      "  'clus_16': 'Rheumatic Diseases, Joint Diseases, Encephalitis, Viral, Central Nervous System Viral Diseases, Connective Tissue Diseases, Poisoning, Autoimmune Diseases, Demyelinating Diseases, Autoimmune Diseases of the Nervous System, Arbovirus Infections, Neurotoxicity Syndromes',\n",
      "  'clus_31': 'Neoplasms, Second Primary, Neoplastic Processes',\n",
      "  'clus_7': 'Bone Diseases, Endocrine System Diseases, Dwarfism, Pituitary Diseases',\n",
      "  'clus_30': 'Diabetes Mellitus, Metabolic Diseases',\n",
      "  'clus_19': 'Craniocerebral Trauma, Spinal Cord Injuries, Trauma, Nervous System',\n",
      "  'clus_8': 'Skin Diseases, Parasitic, Helminthiasis, Protozoan Infections',\n",
      "  'clus_38': 'Female Urogenital Diseases, Urologic Diseases',\n",
      "  'clus_22': 'Foot Diseases, Fasciitis, Foot Deformities',\n",
      "  'clus_0': 'Substance Withdrawal Syndrome, Anxiety Disorders, Sociology, Marijuana Abuse, Substance-Related Disorders, Tobacco Use Disorder, Mood Disorders, Alcohol-Related Disorders, Cocaine-Related Disorders, Behavior, Opioid-Related Disorders',\n",
      "  'clus_18': 'Musculoskeletal Abnormalities, Temporomandibular Joint Disorders, Stomatognathic System Abnormalities, Jaw Diseases',\n",
      "  'clus_34': 'Respiratory Tract Infections, Nose Diseases',\n",
      "  'clus_15': 'Neoplasms, Multiple Primary, Neoplastic Syndromes, Hereditary, Nervous System Malformations',\n",
      "  'clus_3': 'Orbital Diseases, Eye Diseases, Hereditary, Lacrimal Apparatus Diseases, Eye Diseases, Corneal Diseases',\n",
      "  'clus_32': 'Infection, Bacterial Infections',\n",
      "  'clus_13': 'Eye Infections, Viral, Conjunctival Diseases, Eye Infections',\n",
      "  'clus_24': 'Mental Disorders Diagnosed in Childhood, Schizophrenia and Disorders with Psychotic Features, Personality Disorders, Mental Disorders',\n",
      "  'clus_29': 'Pathological Conditions, Anatomical, Biliary Tract Diseases',\n",
      "  'clus_28': 'Muscular Diseases, Tendon Injuries, Neuromuscular Diseases',\n",
      "  'clus_33': 'Congenital Abnormalities, Cardiovascular Abnormalities',\n",
      "  'clus_27': 'Pharyngeal Diseases, Mouth Diseases, Tooth Diseases',\n",
      "  'clus_5': 'Fetal Diseases, Rupture, Pregnancy Complications',\n",
      "  'clus_14': 'Tumor Virus Infections, Mycoses, Neoplasms, Experimental',\n",
      "  'clus_4': 'Leg Injuries, Hip Injuries, Arm Injuries, Fractures, Bone, Spinal Injuries, Back Injuries',\n",
      "  'clus_11': 'Radiation Injuries, Environment, Public Health',\n",
      "  'clus_10': 'Dissociative Disorders, Nervous System Diseases, Autonomic Nervous System Diseases, Somatoform Disorders',\n",
      "  'clus_9': 'Biological Processes, Connective Tissue, Burns',\n",
      "  'clus_26': 'Nervous System Physiological Phenomena, Psychophysiology',\n",
      "  'clus_23': 'Wounds, Nonpenetrating, Wounds and Injuries',\n",
      "  'clus_6': 'Genetic Variation, Cellular Structures, Ploidies, Genetic Structures'\n",
      "}"
     ],
     "language": "python",
     "metadata": {},
     "outputs": [],
     "prompt_number": 10
    },
    {
     "cell_type": "code",
     "collapsed": false,
     "input": [
      "for i in range(20):\n",
      "    varname = important_vars[i]\n",
      "    printvar = ('Cluster: ' + clus_dict[varname]) if 'clus_' in varname else varname\n",
      "    print '%d\\t%g\\t%s' % (i+1, coef_dict[varname], printvar)"
     ],
     "language": "python",
     "metadata": {},
     "outputs": [
      {
       "output_type": "stream",
       "stream": "stdout",
       "text": [
        "1\t-1.18987\tCluster: Biological Processes, Connective Tissue, Burns\n",
        "2\t0.443029\tintervention_behavior\n",
        "3\t0.555066\thealthy_volunteers\n",
        "4\t0.536616\tlocation_asia\n",
        "5\t0.720476\tsponsor_lead_govt\n",
        "6\t-0.729694\tCluster: Nervous System Physiological Phenomena, Psychophysiology\n",
        "7\t-0.620453\tCluster: Wounds, Nonpenetrating, Wounds and Injuries\n",
        "8\t-0.483794\tCluster: Digestive System Neoplasms, Pancreatic Diseases, Endocrine Gland Neoplasms, Infant, Newborn, Diseases, Gonadal Disorders, Lymphatic Diseases, Hematologic Diseases, Gastrointestinal Diseases, Immunoproliferative Disorders, Neoplasms by Histologic Type, Neoplasms by Site\n",
        "9\t-0.457997\tCluster: Leg Injuries, Hip Injuries, Arm Injuries, Fractures, Bone, Spinal Injuries, Back Injuries\n",
        "10\t0.395298\tCluster: Orbital Diseases, Eye Diseases, Hereditary, Lacrimal Apparatus Diseases, Eye Diseases, Corneal Diseases\n",
        "11\t-0.503028\tCluster: Neoplasms, Multiple Primary, Neoplastic Syndromes, Hereditary, Nervous System Malformations\n",
        "12\t0.502377\tgender_male\n",
        "13\t-0.33562\tCluster: Genetic Variation, Cellular Structures, Ploidies, Genetic Structures\n",
        "14\t-0.439387\tdesign_intervention_single\n",
        "15\t-0.537975\tdesign_intervention_parallel\n",
        "16\t-0.335301\tCluster: Dissociative Disorders, Nervous System Diseases, Autonomic Nervous System Diseases, Somatoform Disorders\n",
        "17\t-0.370591\tlocation_northamerica\n",
        "18\t-0.666337\tintervention_device\n",
        "19\t0.37761\tdesign_observation_cohort\n",
        "20\t-0.592197\tdesign_masking_openlabel\n"
       ]
      }
     ],
     "prompt_number": 11
    },
    {
     "cell_type": "markdown",
     "metadata": {},
     "source": [
      "Confusion matrix"
     ]
    },
    {
     "cell_type": "code",
     "collapsed": false,
     "input": [
      "X = dng_X_long[important_vars[:21]]\n",
      "logit = linear_model.LogisticRegression(C=1)\n",
      "logit.fit(X,dng_Y)\n",
      "X_test = dng_X_long_testfull[important_vars[:21]]\n",
      "pred = logit.predict(X_test)\n",
      "cm = confusion_matrix(dng_Y_testfull, pred)"
     ],
     "language": "python",
     "metadata": {},
     "outputs": [],
     "prompt_number": 13
    },
    {
     "cell_type": "code",
     "collapsed": false,
     "input": [
      "print cm"
     ],
     "language": "python",
     "metadata": {},
     "outputs": [
      {
       "output_type": "stream",
       "stream": "stdout",
       "text": [
        "[[ 1360   879]\n",
        " [23787 40902]]\n"
       ]
      }
     ],
     "prompt_number": 14
    },
    {
     "cell_type": "markdown",
     "metadata": {},
     "source": [
      "#### Support Vector Machine models"
     ]
    },
    {
     "cell_type": "markdown",
     "metadata": {},
     "source": [
      "Using the same final dataset as the logistic model"
     ]
    },
    {
     "cell_type": "code",
     "collapsed": false,
     "input": [
      "svm_clf_lin = svm.SVC(kernel='linear', probability=True)\n",
      "svm_clf_lin.fit(dng_X_long,dng_Y)\n",
      "pred_lin = svm_clf_lin.predict(dng_X_long_testfull)\n",
      "roc_lin = roc_auc_score(dng_Y_testfull, pred_lin)\n",
      "ls_lin = svm_clf_lin.score(dng_X_long_testfull, dng_Y_testfull)\n",
      "print '%g\\t%g' % (roc_lin, ls_lin)"
     ],
     "language": "python",
     "metadata": {},
     "outputs": [
      {
       "output_type": "stream",
       "stream": "stdout",
       "text": [
        "0.646792\t0.620607\n"
       ]
      }
     ],
     "prompt_number": 26
    },
    {
     "cell_type": "code",
     "collapsed": false,
     "input": [
      "svm_clf = svm.SVC(probability=True)\n",
      "svm_clf.fit(dng_X_long,dng_Y)\n",
      "pred_rbf = svm_clf.predict(dng_X_long_testfull)\n",
      "roc_rbf = roc_auc_score(dng_Y_testfull, pred_rbf)\n",
      "ls_rbf = svm_clf.score(dng_X_long_testfull, dng_Y_testfull)\n",
      "print '%g\\t%g' % (roc_rbf, ls_rbf)"
     ],
     "language": "python",
     "metadata": {},
     "outputs": [
      {
       "output_type": "stream",
       "stream": "stdout",
       "text": [
        "0.672755\t0.643707\n"
       ]
      }
     ],
     "prompt_number": 27
    },
    {
     "cell_type": "code",
     "collapsed": false,
     "input": [
      "svm_clf_poly = svm.SVC(kernel='poly', probability=True)\n",
      "svm_clf_poly.fit(dng_X_long,dng_Y)\n",
      "pred_poly = svm_clf_poly.predict(dng_X_long_testfull)\n",
      "roc_poly = roc_auc_score(dng_Y_testfull, pred_poly)\n",
      "ls_poly = svm_clf_poly.score(dng_X_long_testfull, dng_Y_testfull)\n",
      "print '%g\\t%g' % (roc_poly, ls_poly)"
     ],
     "language": "python",
     "metadata": {},
     "outputs": [
      {
       "output_type": "stream",
       "stream": "stdout",
       "text": [
        "0.566426\t0.883248\n"
       ]
      }
     ],
     "prompt_number": 28
    },
    {
     "cell_type": "markdown",
     "metadata": {},
     "source": [
      "Draw ROC curves"
     ]
    },
    {
     "cell_type": "code",
     "collapsed": false,
     "input": [
      "fpr_lin, tpr_lin, thresholds_lin = roc_curve(dng_Y_testfull, svm_clf_lin.predict_proba(dng_X_long_testfull)[:, 1])\n",
      "fpr_rbf, tpr_rbf, thresholds_rbf = roc_curve(dng_Y_testfull, svm_clf.predict_proba(dng_X_long_testfull)[:, 1])\n",
      "fpr_poly, tpr_poly, thresholds_poly = roc_curve(dng_Y_testfull, svm_clf_poly.predict_proba(dng_X_long_testfull)[:, 1])"
     ],
     "language": "python",
     "metadata": {},
     "outputs": [],
     "prompt_number": 32
    },
    {
     "cell_type": "code",
     "collapsed": false,
     "input": [
      "%matplotlib inline\n",
      "\n",
      "fig = plt.figure()\n",
      "fig.set_figwidth(7)\n",
      "fig.set_figheight(7)\n",
      "\n",
      "plt.plot(fpr_lin, tpr_lin, 'r', label='Linear SVM', lw=2.5)\n",
      "plt.plot(fpr_rbf, tpr_rbf, 'g', label='SVM with rbf kernel', lw=2.5)\n",
      "plt.plot(fpr_poly, tpr_poly, 'b', label='SVM with polynomial kernel', lw=2.5)\n",
      "plt.plot([0, 1], [0, 1], 'k--')\n",
      "plt.xlim([0.0, 1.0])\n",
      "plt.ylim([0.0, 1.0])\n",
      "plt.xlabel('False Positive Rate')\n",
      "plt.ylabel('True Positive Rate')\n",
      "plt.title('ROC curves')\n",
      "plt.legend(loc=\"lower right\")\n",
      "\n",
      "fig.show()"
     ],
     "language": "python",
     "metadata": {},
     "outputs": [
      {
       "metadata": {},
       "output_type": "display_data",
       "png": "[encoded data removed]",
       "text": [
        "<matplotlib.figure.Figure at 0x126fd4c90>"
       ]
      }
     ],
     "prompt_number": 33
    },
    {
     "cell_type": "code",
     "collapsed": false,
     "input": [],
     "language": "python",
     "metadata": {},
     "outputs": []
    }
   ],
   "metadata": {}
  }
 ]
}