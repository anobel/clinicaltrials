{
 "metadata": {
  "name": "",
  "signature": "sha256:f569fba9582901fa33865d7470453e965c6aa2c2fac8f38c688f96713a12d41f"
 },
 "nbformat": 3,
 "nbformat_minor": 0,
 "worksheets": [
  {
   "cells": [
    {
     "cell_type": "code",
     "collapsed": false,
     "input": [
      "import cPickle as pickle, codecs, requests, json, re\n",
      "from bs4 import BeautifulSoup\n",
      "from connect import mongoip, gkey"
     ],
     "language": "python",
     "metadata": {},
     "outputs": [],
     "prompt_number": 1
    },
    {
     "cell_type": "markdown",
     "metadata": {},
     "source": [
      "### Load good institution data"
     ]
    },
    {
     "cell_type": "code",
     "collapsed": false,
     "input": [
      "sponsors_good = pickle.load(open('../data/facility_match_good.pkl','rb'))"
     ],
     "language": "python",
     "metadata": {},
     "outputs": [],
     "prompt_number": 2
    },
    {
     "cell_type": "markdown",
     "metadata": {},
     "source": [
      "### Get Freebase summary, location, and Wikipedia image"
     ]
    },
    {
     "cell_type": "code",
     "collapsed": false,
     "input": [
      "# procedure get data\n",
      "def query_url(url, param_data=None, retries=5):\n",
      "    '''\n",
      "    url: full URL from which to request data\n",
      "    retries: maximum number of retries before moving on\n",
      "    '''\n",
      "    while retries > 0:\n",
      "        try:\n",
      "            if param_data:\n",
      "                r = requests.get(url, params=param_data)\n",
      "            else:\n",
      "                r = requests.get(url)\n",
      "        except:\n",
      "            print '  Got error querying %s. Retrying.' % url\n",
      "            pass\n",
      "        if r.status_code == 200:\n",
      "            return json.loads(r.text)\n",
      "        else:\n",
      "            retries -= 1\n",
      "    \n",
      "    # if we've tried enough times, print problem and return nothing\n",
      "    print '  Unable to query %s. Status code %d.' % (url, r.status_code)\n",
      "    return None"
     ],
     "language": "python",
     "metadata": {},
     "outputs": [],
     "prompt_number": 3
    },
    {
     "cell_type": "code",
     "collapsed": false,
     "input": [
      "desc = '/common/topic/description'\n",
      "hq = '/organization/organization/headquarters'\n",
      "city = '/location/mailing_address/citytown'\n",
      "state = '/location/mailing_address/state_province_region'\n",
      "country = '/location/mailing_address/country'\n",
      "image = '/common/topic/image'\n",
      "article = '/common/topic/article'\n",
      "\n",
      "for s in sponsors_good.keys():\n",
      "    # reinitialize variables\n",
      "    summary = None\n",
      "    loc = None\n",
      "    image_url = None\n",
      "    \n",
      "    print s\n",
      "    mid = sponsors_good[s]['mid'].split('/')[-1]\n",
      "    \n",
      "    # summary from Freebase\n",
      "    if 'summary' not in sponsors_good[s]:\n",
      "        url = 'https://www.googleapis.com/freebase/v1/topic/m/%s?filter=%s&key=%s' % (mid, desc, gkey)\n",
      "        summary_info = query_url(url)\n",
      "        if summary_info and 'property' in summary_info:\n",
      "            summary = summary_info['property'][desc]['values'][0]['value'].replace('\\n',' ').replace('\\t',' ')\n",
      "            summary = re.sub(' +',' ',summary)\n",
      "        else:\n",
      "            summary = None\n",
      "        sponsors_good[s]['summary'] = summary\n",
      "        print summary\n",
      "    \n",
      "    # city location from Freebase\n",
      "    if 'geo' not in sponsors_good[s] or 'loc' not in sponsors_good[s]['geo']:\n",
      "        url = 'https://www.googleapis.com/freebase/v1/topic/m/%s?filter=%s&key=%s' % (mid, hq, gkey)\n",
      "        addr_info = query_url(url)\n",
      "        if addr_info and 'property' in addr_info:\n",
      "            for v in addr_info['property'][hq]['values']:\n",
      "                if not loc and country in v['property'] and len(v['property'][country]['values']) > 0 and \\\n",
      "                   city in v['property'] and len(v['property'][city]['values']) > 0:\n",
      "                    cur_country = v['property'][country]\n",
      "                    cur_city = v['property'][city]\n",
      "                    if state in v['property']:\n",
      "                        cur_state = v['property'][state]\n",
      "                    if len(cur_country['values']) > 0:\n",
      "                        if cur_country['values'][0]['text'] == 'United States of America':\n",
      "                            if state in v['property'] and len(cur_state['values']) > 0:\n",
      "                                loc = '%s, %s' % (v['property'][city]['values'][0]['text'],\n",
      "                                                  v['property'][state]['values'][0]['text'])\n",
      "                            else:\n",
      "                                loc = cur_city['values'][0]['text']\n",
      "                        else:\n",
      "                            loc = '%s, %s' % (v['property'][city]['values'][0]['text'],\n",
      "                                              v['property'][country]['values'][0]['text'])\n",
      "        else:\n",
      "            loc = None\n",
      "        \n",
      "        if 'geo' not in sponsors_good[s]: sponsors_good[s]['geo'] = {}\n",
      "        sponsors_good[s]['geo']['loc'] = loc\n",
      "        print loc\n",
      "    \n",
      "    # image url data\n",
      "    if 'image' not in sponsors_good[s]:\n",
      "        image_url = None\n",
      "        url = 'https://www.googleapis.com/freebase/v1/topic/m/%s?filter=%s&key=%s' % (mid, image, gkey)\n",
      "        image_info = query_url(url)\n",
      "        if image_info and 'property' in image_info and len(image_info['property'][image]['values']) > 0:\n",
      "            image_url = 'https://www.googleapis.com/freebase/v1/image%s' % image_info['property'][image]['values'][0]['id']\n",
      "        else:\n",
      "            url = 'https://www.googleapis.com/freebase/v1/topic/m/%s?filter=%s&key=%s' % (mid, article, gkey)\n",
      "            article_info = query_url(url)\n",
      "            if article_info and 'property' in article_info:\n",
      "                uri_pot = article_info['property'][article]['values'][0]['property']\n",
      "                if '/common/document/source_uri' in uri_pot:\n",
      "                    uri= uri_pot['/common/document/source_uri']['values'][0]['text']\n",
      "                    wiki_id = uri.split('/')[-1]\n",
      "                    url = 'http://en.wikipedia.org/wiki/index.html?curid=%s' % wiki_id\n",
      "                    wiki_page = requests.get(url)\n",
      "                    if wiki_page:\n",
      "                        soup = BeautifulSoup(wiki_page.text)\n",
      "                        infobox = soup.find('table', {'class': 'infobox'})\n",
      "                        if infobox:\n",
      "                            top_img = infobox.find('img')\n",
      "                            if top_img:\n",
      "                                image_url = 'http:%s' % top_img['src']\n",
      "        \n",
      "        sponsors_good[s]['image'] = image_url\n",
      "        print image_url\n",
      "\n",
      "    print"
     ],
     "language": "python",
     "metadata": {},
     "outputs": []
    },
    {
     "cell_type": "code",
     "collapsed": false,
     "input": [
      "pickle.dump(sponsors_good,open('../data/facility_match_good.pkl','wb'))"
     ],
     "language": "python",
     "metadata": {},
     "outputs": [],
     "prompt_number": 6
    },
    {
     "cell_type": "code",
     "collapsed": false,
     "input": [],
     "language": "python",
     "metadata": {},
     "outputs": []
    }
   ],
   "metadata": {}
  }
 ]
}