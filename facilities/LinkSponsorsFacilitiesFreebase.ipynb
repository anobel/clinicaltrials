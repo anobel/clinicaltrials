{
 "metadata": {
  "name": "",
  "signature": "sha256:a9e3148f843ffe9a361695f11cec053937b2f3687ca6ffb779df6b9a888b3cce"
 },
 "nbformat": 3,
 "nbformat_minor": 0,
 "worksheets": [
  {
   "cells": [
    {
     "cell_type": "code",
     "collapsed": false,
     "input": [
      "import codecs, requests, nltk, json, string, cPickle as pickle, Levenshtein as L, random, collections\n",
      "import pandas as pd\n",
      "from string import punctuation\n",
      "from connect import gkey"
     ],
     "language": "python",
     "metadata": {},
     "outputs": [],
     "prompt_number": 1
    },
    {
     "cell_type": "markdown",
     "metadata": {},
     "source": [
      "### Loading data"
     ]
    },
    {
     "cell_type": "markdown",
     "metadata": {},
     "source": [
      "Facilities"
     ]
    },
    {
     "cell_type": "code",
     "collapsed": false,
     "input": [
      "column_names = [\"facility_id\",\n",
      "                \"nct_id\",\n",
      "                \"status\",\n",
      "                \"facility_name\",\n",
      "                \"city\",\n",
      "                \"state\",\n",
      "                \"zipcode\",\n",
      "                \"country\"]\n",
      "\n",
      "facilities = pd.read_csv('../data/facilities.txt', names=column_names, sep=\"|\", encoding='utf-8', quoting=3)"
     ],
     "language": "python",
     "metadata": {},
     "outputs": [],
     "prompt_number": 2
    },
    {
     "cell_type": "markdown",
     "metadata": {},
     "source": [
      "Sponsors"
     ]
    },
    {
     "cell_type": "code",
     "collapsed": false,
     "input": [
      "column_names = [\"sponsor_id\",\n",
      "                \"nct_id\",\n",
      "                \"sponsor_type\",\n",
      "                \"agency\",\n",
      "                \"agency_class\"]\n",
      "\n",
      "sponsors = pd.read_csv('../data/sponsors.txt', names=column_names, sep=\"|\", encoding='utf-8', quoting=3)"
     ],
     "language": "python",
     "metadata": {},
     "outputs": [],
     "prompt_number": 3
    },
    {
     "cell_type": "markdown",
     "metadata": {},
     "source": [
      "### Freebase lookups"
     ]
    },
    {
     "cell_type": "code",
     "collapsed": false,
     "input": [
      "# procedure get data\n",
      "def query_url(url, retries=5):\n",
      "    '''\n",
      "    url: full URL from which to request data\n",
      "    retries: maximum number of retries before moving on\n",
      "    '''\n",
      "    while retries > 0:\n",
      "        try:\n",
      "            r = requests.get(url)\n",
      "        except:\n",
      "            print '  Got error querying %s. Retrying.' % url\n",
      "            pass\n",
      "        if r.status_code == 200:\n",
      "            return json.loads(r.text)\n",
      "        else:\n",
      "            retries -= 1\n",
      "    \n",
      "    # if we've tried enough times, print problem and return nothing\n",
      "    print '  Unable to query %s. Status code %d.' % (url, r.status_code)"
     ],
     "language": "python",
     "metadata": {},
     "outputs": [],
     "prompt_number": 43
    },
    {
     "cell_type": "code",
     "collapsed": false,
     "input": [
      "# procedure to get Freebase data for sponsors\n",
      "def query_freebase(org):\n",
      "    '''\n",
      "    org: string representing name of sponsor in CTTI database\n",
      "    '''\n",
      "    # remove any trailing abbrevation\n",
      "    word_list = org.split()\n",
      "    if word_list[-1][0] == '(' and word_list[-1][-1] == ')':\n",
      "        org_noabbr = ' '.join(word_list[:-1])\n",
      "    else:\n",
      "        org_noabbr = org\n",
      "    \n",
      "    # construct url and query\n",
      "    url = 'https://www.googleapis.com/freebase/v1/search?query=%s&key=%s' % (org_noabbr,gkey)\n",
      "    return query_url(url)"
     ],
     "language": "python",
     "metadata": {},
     "outputs": [],
     "prompt_number": 69
    },
    {
     "cell_type": "code",
     "collapsed": false,
     "input": [
      "# getting list of sponsors and initializing results dictionary\n",
      "sponsor_list = sorted(dict(sponsors.agency.value_counts()).items(), key=lambda x: x[1], reverse=True)\n",
      "sponsor_possibilities = {}"
     ],
     "language": "python",
     "metadata": {},
     "outputs": [],
     "prompt_number": 46
    },
    {
     "cell_type": "code",
     "collapsed": false,
     "input": [
      "# procedure to get Freebase entries for commonly appearing sponsors\n",
      "for org, cnt in sponsor_list:\n",
      "    if cnt >= 1 and org not in sponsor_possibilities:\n",
      "        r = query_freebase(org)\n",
      "        '''\n",
      "        if r['result']:\n",
      "            if 'notable' in r['result'][0]:\n",
      "                print '%s: %s (%s)' % (org.decode('utf-8'), r['result'][0]['name'], r['result'][0]['notable']['name'])\n",
      "            else:\n",
      "                print '%s: %s (%s)' % (org.decode('utf-8'), r['result'][0]['name'], 'NO NOTABLE RESULT')\n",
      "        else:\n",
      "            print 'NO RESULTS: %s' % org\n",
      "        '''\n",
      "        sponsor_possibilities[org] = r['result']"
     ],
     "language": "python",
     "metadata": {},
     "outputs": [],
     "prompt_number": 140
    },
    {
     "cell_type": "code",
     "collapsed": false,
     "input": [
      "len(sponsor_possibilities)"
     ],
     "language": "python",
     "metadata": {},
     "outputs": [
      {
       "metadata": {},
       "output_type": "pyout",
       "prompt_number": 170,
       "text": [
        "29989"
       ]
      }
     ],
     "prompt_number": 170
    },
    {
     "cell_type": "code",
     "collapsed": false,
     "input": [
      "pickle.dump(sponsor_possibilities,open('../data/sponsor_guess.pickle','wb'))"
     ],
     "language": "python",
     "metadata": {},
     "outputs": [],
     "prompt_number": 145
    },
    {
     "cell_type": "code",
     "collapsed": false,
     "input": [
      "sponsor_poss = pickle.load(open('../data/sponsor_guess.pickle','rb'))\n",
      "len(sponsor_poss)"
     ],
     "language": "python",
     "metadata": {},
     "outputs": [
      {
       "metadata": {},
       "output_type": "pyout",
       "prompt_number": 4,
       "text": [
        "29989"
       ]
      }
     ],
     "prompt_number": 4
    },
    {
     "cell_type": "markdown",
     "metadata": {},
     "source": [
      "### Comparison of results to original string"
     ]
    },
    {
     "cell_type": "code",
     "collapsed": false,
     "input": [
      "def print_comp(sponsor):\n",
      "    if sponsor in sponsor_poss:\n",
      "        print sponsor\n",
      "        for r in sponsor_poss[sponsor]:\n",
      "            if u'notable' in r:\n",
      "                print '\\t%0.4f  --  %s  --  %s' % (L.ratio(unicode(sponsor),r['name']), r['notable']['name'], r['name'])"
     ],
     "language": "python",
     "metadata": {},
     "outputs": [],
     "prompt_number": 36
    },
    {
     "cell_type": "code",
     "collapsed": false,
     "input": [
      "print_comp('Algora')"
     ],
     "language": "python",
     "metadata": {},
     "outputs": [
      {
       "output_type": "stream",
       "stream": "stdout",
       "text": [
        "Algora\n",
        "\t1.0000  --  City/Town/Village  --  Algora\n",
        "\t0.5455  --  Dramatist  --  Francisco Algora\n",
        "\t0.6316  --  Musical Artist  --  Sergio Algora\n",
        "\t0.6667  --  Film director  --  Jorge Algora\n",
        "\t1.0000  --  Musical Artist  --  Algora\n",
        "\t0.5217  --  Publisher  --  Algora Publishing\n",
        "\t0.6000  --  Compact Disc Musical Release  --  Algora Campe\u00f3n\n",
        "\t0.6000  --  Musical Album  --  Algora Campe\u00f3n\n",
        "\t0.6000  --  Musical Recording  --  Algora Campeon\n",
        "\t0.0952  --  Drama Film  --  Tiovivo c. 1950\n",
        "\t0.1379  --  Drama Film  --  Speak, Little Mute Girl\n",
        "\t0.0000  --  Drama Film  --  The Beehive\n",
        "\t0.5333  --  Historical Film  --  El Dorado\n",
        "\t0.1395  --  Religious Jurisdiction  --  Roman Catholic Diocese of Ciudad Real\n",
        "\t0.2857  --  Drama Film  --  Story of a Kiss\n",
        "\t0.1600  --  Horror Film  --  They're Watching Us\n",
        "\t0.2667  --  Drama Film  --  Foul Play\n"
       ]
      }
     ],
     "prompt_number": 39
    },
    {
     "cell_type": "code",
     "collapsed": false,
     "input": [
      "c = collections.Counter([sponsor_poss[k][0]['notable']['name'] for k in sponsor_poss\n",
      "                         if len(sponsor_poss[k]) > 0 and 'notable' in sponsor_poss[k][0]])\n",
      "for k, v in c.items():\n",
      "    print '%5d %s' % (v, k)"
     ],
     "language": "python",
     "metadata": {},
     "outputs": []
    },
    {
     "cell_type": "code",
     "collapsed": false,
     "input": [
      "[k for k in sponsor_poss\n",
      " if len(sponsor_poss[k]) > 0 and 'notable' in sponsor_poss[k][0] and sponsor_poss[k][0]['notable']['name'] == u'Information technology Business']"
     ],
     "language": "python",
     "metadata": {},
     "outputs": [
      {
       "metadata": {},
       "output_type": "pyout",
       "prompt_number": 66,
       "text": [
        "['United Pharmaceuticals', 'Beximco', 'Accenture']"
       ]
      }
     ],
     "prompt_number": 66
    },
    {
     "cell_type": "code",
     "collapsed": false,
     "input": [
      "exact_match = {}\n",
      "for k in sponsor_poss.keys():\n",
      "    if len(sponsor_poss[k]) > 0 and sum([1 for r in sponsor_poss[k] if 'notable' in r.keys()]) > 0:\n",
      "        found = 0\n",
      "        for r in sponsor_poss[k]:\n",
      "            if r['name'] == k:\n",
      "                found += 1\n",
      "        if found > 1: print k"
     ],
     "language": "python",
     "metadata": {},
     "outputs": []
    },
    {
     "cell_type": "code",
     "collapsed": false,
     "input": [
      "L.ratio('Georgetown University School of Medicine','Georgetown University School of Medicine')"
     ],
     "language": "python",
     "metadata": {},
     "outputs": [
      {
       "metadata": {},
       "output_type": "pyout",
       "prompt_number": 12,
       "text": [
        "1.0"
       ]
      }
     ],
     "prompt_number": 12
    },
    {
     "cell_type": "code",
     "collapsed": false,
     "input": [
      "nu = set(f for f in facilities[facilities.facility_name.apply(lambda x: 'Northwestern University' in unicode(x))].facility_name)\n",
      "gu = set(f for f in facilities[facilities.facility_name.apply(lambda x: 'Georgetown University' in unicode(x))].facility_name)"
     ],
     "language": "python",
     "metadata": {},
     "outputs": [],
     "prompt_number": 7
    },
    {
     "cell_type": "code",
     "collapsed": false,
     "input": [
      "L.median(list(nu))"
     ],
     "language": "python",
     "metadata": {},
     "outputs": [
      {
       "metadata": {},
       "output_type": "pyout",
       "prompt_number": 14,
       "text": [
        "u'Northwestern University  eiontere Soh oeor'"
       ]
      }
     ],
     "prompt_number": 14
    },
    {
     "cell_type": "code",
     "collapsed": false,
     "input": [
      "[g for g in gu if L.ratio(g,u'Lombardi Cancer Research Center') >= 0.5]"
     ],
     "language": "python",
     "metadata": {},
     "outputs": [
      {
       "metadata": {},
       "output_type": "pyout",
       "prompt_number": 51,
       "text": [
        "[u'Georgetown University, Lombardi Comprehensive Cancer Center',\n",
        " u'Georgetown University/Lombardi Cancer Center SC',\n",
        " u'Georgetown University Hospital/Lombardi Cancer Center',\n",
        " u'Lombardi Cancer Center, Georgetown University',\n",
        " u'Lombardi Cancer Institute, Georgetown University Medical Center',\n",
        " u'Georgetown University- Lombardi Cancer Center',\n",
        " u'Georgetown University/Lombardi Cancer Center',\n",
        " u'Lombardi Comprehensive Cancer Center at Georgetown University Medical Center',\n",
        " u'Lombardi Comprehensive Cancer Research Institute, Georgetown University Medical Center',\n",
        " u'Georgetown University, Lombardi Cancer Center',\n",
        " u'Lombardi Cancer Center Georgetown University Hospital',\n",
        " u'Georgetown University- Lombardi Comprehensive Cancer Center',\n",
        " u'Georgetown University/Lombardi Cancer Center Dept.of Lombardi Cancer Center',\n",
        " u'Vincent T. Lombardi Cancer Research Center, Georgetown University',\n",
        " u'ISIS Imaging Science Research Center, Georgetown University',\n",
        " u'Lombardi Cancer Center of Georgetown University Medical Center',\n",
        " u'Georgetown University Hospital Lombardi Cancer Center',\n",
        " u'Lombardi Comprehensive Cancer Center at Georgetown University',\n",
        " u'Georgetown University Lombardi Cancer Center',\n",
        " u'Lombardi Comprehensive Cancer Center, Georgetown University',\n",
        " u'Lombardi Cancer Center, Georgetown University Medical Center',\n",
        " u'Georgetown University Hospital, Lombardi Cancer Center',\n",
        " u'Lombardi Cancer Center at Georgetown University Medical Center',\n",
        " u'Lombardi Cancer Center at Georgetown University',\n",
        " u'Georgetown University/Lombardi Comprehensive Cancer Center']"
       ]
      }
     ],
     "prompt_number": 51
    },
    {
     "cell_type": "code",
     "collapsed": false,
     "input": [
      "[r for r in sponsor_possibilities if sponsor_possibilities[r] and 'notable' in sponsor_possibilities[r][0] and sponsor_possibilities[r][0]['notable']['name'] == 'Actor']"
     ],
     "language": "python",
     "metadata": {},
     "outputs": [
      {
       "metadata": {},
       "output_type": "pyout",
       "prompt_number": 166,
       "text": [
        "['Hai-Jun Wang',\n",
        " 'Ling Liu',\n",
        " 'Smith & Nephew Medical Ltd',\n",
        " 'Anne Chang',\n",
        " 'Jun-Yong Choi',\n",
        " 'Cierra',\n",
        " 'Hua Zhang',\n",
        " 'Andrew Carr',\n",
        " 'K. Lieb',\n",
        " 'Frank Behrens',\n",
        " 'Marie Hogan',\n",
        " 'ONY',\n",
        " 'Smith & Nephew, Inc.',\n",
        " 'Charles Shapiro',\n",
        " 'Wei Yu',\n",
        " 'Pierre Fontana',\n",
        " 'Brian Miller',\n",
        " 'Jacques Demongeot',\n",
        " 'Aaron Chen',\n",
        " 'Sanjay Kulkarni',\n",
        " 'Jai Shankar',\n",
        " 'Patrick Kelly',\n",
        " 'Sean Fox',\n",
        " 'Alessandro Doria',\n",
        " 'Smith & Nephew Orthopaedics AG',\n",
        " 'David P. Martin',\n",
        " 'Tom Jackson',\n",
        " 'Huppert',\n",
        " 'Zhu Xu',\n",
        " 'Lin Chen',\n",
        " 'Joseph Broderick',\n",
        " 'Wei Hao',\n",
        " 'COPD Foundation',\n",
        " 'Jie Qiu',\n",
        " 'Li Liu',\n",
        " 'Smith & Nephew Wound Management Inc',\n",
        " 'Ruttonjee Hospital, Hong Kong',\n",
        " 'Smith & Nephew Medical (Shanghai) Ltd',\n",
        " 'Richard Chang',\n",
        " 'Emmanuel Walter',\n",
        " 'Bin Li',\n",
        " 'CJ Cheiljedang Corporation',\n",
        " 'Franco Carli',\n",
        " 'Day General Hospital.',\n",
        " 'Scott Lee',\n",
        " 'Lee, Stephanie',\n",
        " 'Wu Jiang',\n",
        " 'Shen Lin',\n",
        " 'Brett King',\n",
        " 'Bo Feng',\n",
        " 'Yi Liu',\n",
        " 'Bracco',\n",
        " 'Yan Jin',\n",
        " 'Andrew Lassman',\n",
        " 'Joshua Brody',\n",
        " 'Shepherd Center in Atlanta',\n",
        " 'Corin',\n",
        " \"David D'Alessio\",\n",
        " 'Fei Li',\n",
        " 'Joseph Roscoe',\n",
        " 'Christopher Chan',\n",
        " 'Lisa Brenner',\n",
        " 'Yu Bo',\n",
        " 'Jun Cheng',\n",
        " 'Anders Jansson',\n",
        " 'Jaime Sanchez',\n",
        " 'Antria',\n",
        " 'Jeffrey Gimble',\n",
        " 'Uma Rao',\n",
        " \"A sister's hope\",\n",
        " 'San Camillo Hospital, Rome',\n",
        " 'MAYZAUD',\n",
        " 'David Baer',\n",
        " 'Sunil Rao',\n",
        " 'Michael Camilleri',\n",
        " 'Kathy Jenkins',\n",
        " 'Lena Nilsson',\n",
        " 'Arkin',\n",
        " 'Maria Jesus Perez',\n",
        " \"David O'Malley\"]"
       ]
      }
     ],
     "prompt_number": 166
    },
    {
     "cell_type": "markdown",
     "metadata": {},
     "source": [
      "Getting category names"
     ]
    },
    {
     "cell_type": "code",
     "collapsed": false,
     "input": [
      "topic_categories = [sponsor_possibilities[r][0]['notable']['name'] for r in sponsor_possibilities if sponsor_possibilities[r] and 'notable' in sponsor_possibilities[r][0]]"
     ],
     "language": "python",
     "metadata": {},
     "outputs": [],
     "prompt_number": 163
    },
    {
     "cell_type": "code",
     "collapsed": false,
     "input": [
      "nltk.FreqDist(topic_categories).items()"
     ],
     "language": "python",
     "metadata": {},
     "outputs": []
    },
    {
     "cell_type": "code",
     "collapsed": false,
     "input": [
      "def string_min(s):\n",
      "    '''\n",
      "    minifies a string for comparison purposes\n",
      "    s: a string\n",
      "    '''\n",
      "    return ''.join(w for w in s.lower() if w not in set(string.punctuation + ' '))\n"
     ],
     "language": "python",
     "metadata": {},
     "outputs": [
      {
       "metadata": {},
       "output_type": "pyout",
       "prompt_number": 129,
       "text": [
        "3178"
       ]
      }
     ],
     "prompt_number": 129
    },
    {
     "cell_type": "code",
     "collapsed": false,
     "input": [
      "perfect = [k for k, v in sponsor_possibilities.items() \n",
      "           if len(v) > 0 and \n",
      "              string_min(v[0]['name']) == string_min(k.decode('utf-8'))]"
     ],
     "language": "python",
     "metadata": {},
     "outputs": [],
     "prompt_number": 142
    },
    {
     "cell_type": "code",
     "collapsed": false,
     "input": [
      "common_cats = nltk.FreqDist([sponsor_possibilities[s][0]['notable']['name'] for s in perfect \n",
      "                             if len(sponsor_possibilities[s]) > 0 and \n",
      "                                'notable' in sponsor_possibilities[s][0]])"
     ],
     "language": "python",
     "metadata": {},
     "outputs": [],
     "prompt_number": 150
    },
    {
     "cell_type": "code",
     "collapsed": false,
     "input": [
      "class Facility:\n",
      "    def __init__(self, name, ids, trials, city=None, state=None, postcode=None, country=None):\n",
      "        self.canonical_name = name\n",
      "        self.names = {\n",
      "            name: {\n",
      "                'city': city,\n",
      "                'state': state,\n",
      "                'postcode': postcode,\n",
      "                'ids': [ids]\n",
      "            }\n",
      "        }\n",
      "        self.freebase_url = None\n",
      "        self.trials = [trials]\n",
      "        \n",
      "    def blah(self):\n",
      "        blah blah\n"
     ],
     "language": "python",
     "metadata": {},
     "outputs": []
    },
    {
     "cell_type": "code",
     "collapsed": false,
     "input": [],
     "language": "python",
     "metadata": {},
     "outputs": []
    },
    {
     "cell_type": "code",
     "collapsed": false,
     "input": [],
     "language": "python",
     "metadata": {},
     "outputs": []
    },
    {
     "cell_type": "code",
     "collapsed": false,
     "input": [],
     "language": "python",
     "metadata": {},
     "outputs": []
    },
    {
     "cell_type": "code",
     "collapsed": false,
     "input": [],
     "language": "python",
     "metadata": {},
     "outputs": []
    }
   ],
   "metadata": {}
  }
 ]
}