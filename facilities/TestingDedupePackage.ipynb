{
 "metadata": {
  "name": "",
  "signature": "sha256:f063d08cd1fa232effe81943c65e21bc90398db8353df5036eeb4d0a6b4f9b7c"
 },
 "nbformat": 3,
 "nbformat_minor": 0,
 "worksheets": [
  {
   "cells": [
    {
     "cell_type": "code",
     "collapsed": false,
     "input": [
      "import codecs, requests, nltk, json, string, cPickle as pickle, random, collections, dedupe, numpy as np, itertools, time\n",
      "import pandas as pd\n",
      "from string import punctuation"
     ],
     "language": "python",
     "metadata": {},
     "outputs": [
      {
       "output_type": "stream",
       "stream": "stderr",
       "text": [
        "/Users/jost/courses/clinicaltrials/env/lib/python2.7/site-packages/dedupe/backport.py:12: UserWarning: NumPy linked against 'Accelerate.framework'. Multiprocessing will be disabled. http://mail.scipy.org/pipermail/numpy-discussion/2012-August/063589.html\n",
        "  warnings.warn(\"NumPy linked against 'Accelerate.framework'. \"\n"
       ]
      }
     ],
     "prompt_number": 1
    },
    {
     "cell_type": "markdown",
     "metadata": {},
     "source": [
      "### Get facility data and prepare list to dedupe"
     ]
    },
    {
     "cell_type": "code",
     "collapsed": false,
     "input": [
      "column_names = [\"facility_id\",\n",
      "                \"nct_id\",\n",
      "                \"status\",\n",
      "                \"facility_name\",\n",
      "                \"city\",\n",
      "                \"state\",\n",
      "                \"zipcode\",\n",
      "                \"country\"]\n",
      "\n",
      "facilities = pd.read_csv('../data/facilities.txt', names=column_names, sep=\"|\", encoding='utf-8', quoting=3)\n",
      "\n",
      "bad_names = ['investigational site',\n",
      "             'investigative site',\n",
      "             'research site',\n",
      "             'local institution',\n",
      "             'investigator site',\n",
      "             'research facility',\n",
      "             'study site',\n",
      "             'clinical site',\n",
      "             'call center',\n",
      "             'site ref'\n",
      "             ]"
     ],
     "language": "python",
     "metadata": {},
     "outputs": [],
     "prompt_number": 2
    },
    {
     "cell_type": "code",
     "collapsed": false,
     "input": [
      "states = facilities[facilities.country == 'United States'].groupby(facilities.state).count().to_dict()['state'].keys()\n",
      "print [(k, v) for k, v in enumerate(states)]"
     ],
     "language": "python",
     "metadata": {},
     "outputs": [
      {
       "output_type": "stream",
       "stream": "stdout",
       "text": [
        "[(0, u'Mississippi'), (1, u'Oklahoma'), (2, u'Delaware'), (3, u'Minnesota'), (4, u'Illinois'), (5, u'Arkansas'), (6, u'New Mexico'), (7, u'Indiana'), (8, u'Maryland'), (9, u'Louisiana'), (10, u'Idaho'), (11, u'Wyoming'), (12, u'Tennessee'), (13, u'Arizona'), (14, u'Iowa'), (15, u'Michigan'), (16, u'Kansas'), (17, u'Utah'), (18, u'Virginia'), (19, u'Oregon'), (20, u'Connecticut'), (21, u'Montana'), (22, u'California'), (23, u'Massachusetts'), (24, u'West Virginia'), (25, u'South Carolina'), (26, u'New Hampshire'), (27, u'Wisconsin'), (28, u'Vermont'), (29, u'Georgia'), (30, u'North Dakota'), (31, u'Pennsylvania'), (32, u'Florida'), (33, u'Alaska'), (34, u'Kentucky'), (35, u'Hawaii'), (36, u'Nebraska'), (37, u'Missouri'), (38, u'Ohio'), (39, u'Alabama'), (40, u'New York'), (41, u'South Dakota'), (42, u'Colorado'), (43, u'New Jersey'), (44, u'Washington'), (45, u'North Carolina'), (46, u'District of Columbia'), (47, u'Texas'), (48, u'Nevada'), (49, u'Maine'), (50, u'Rhode Island')]\n"
       ]
      }
     ],
     "prompt_number": 3
    },
    {
     "cell_type": "code",
     "collapsed": true,
     "input": [
      "potential = facilities[(facilities.country == 'United States') & \n",
      "                       (facilities.state == 'Massachusetts') &\n",
      "                       (facilities.facility_name.apply(lambda x: pd.notnull(x) and min([b not in x.lower() for b in bad_names])))][['facility_id','facility_name','city','state','zipcode','country']]"
     ],
     "language": "python",
     "metadata": {},
     "outputs": [],
     "prompt_number": 4
    },
    {
     "cell_type": "code",
     "collapsed": false,
     "input": [
      "potential.shape"
     ],
     "language": "python",
     "metadata": {},
     "outputs": [
      {
       "metadata": {},
       "output_type": "pyout",
       "prompt_number": 5,
       "text": [
        "(13286, 6)"
       ]
      }
     ],
     "prompt_number": 5
    },
    {
     "cell_type": "markdown",
     "metadata": {},
     "source": [
      "### Train model\n",
      "(Done on data from all states)"
     ]
    },
    {
     "cell_type": "code",
     "collapsed": false,
     "input": [
      "random_pairs = dedupe.randomPairs(len(potential), 100000) \n",
      "\n",
      "temp_d = {}\n",
      "i = 0\n",
      "\n",
      "for r in potential.T.keys():\n",
      "    temp_d[i] = dedupe.frozendict({k: v[r] if pd.notnull(v[r]) else u'' \n",
      "                                   for k, v in potential[potential.index == r].to_dict().items()})\n",
      "    i += 1\n",
      "\n",
      "def random_pair_generator():\n",
      "    for k1, k2 in random_pairs:\n",
      "        yield (temp_d[k1], temp_d[k2])\n",
      "\n",
      "todo =  tuple(pair for pair in random_pair_generator())"
     ],
     "language": "python",
     "metadata": {},
     "outputs": [],
     "prompt_number": 6
    },
    {
     "cell_type": "code",
     "collapsed": false,
     "input": [
      "variables = [\n",
      "             {'field' : 'facility_name', 'type' : 'String'},\n",
      "             {'field' : 'city', 'type' : 'ShortString', 'has missing' : True},\n",
      "             {'field' : 'state', 'type' : 'ShortString'},\n",
      "             {'field' : 'zipcode', 'type' : 'ShortString', 'has missing': True}\n",
      "             ]\n",
      "deduper = dedupe.Dedupe(variables, todo)"
     ],
     "language": "python",
     "metadata": {},
     "outputs": [],
     "prompt_number": 7
    },
    {
     "cell_type": "code",
     "collapsed": false,
     "input": [
      "dedupe.convenience.consoleLabel(deduper)"
     ],
     "language": "python",
     "metadata": {},
     "outputs": []
    },
    {
     "cell_type": "code",
     "collapsed": false,
     "input": [
      "deduper.train(ppc=001, uncovered_dupes=5)"
     ],
     "language": "python",
     "metadata": {},
     "outputs": [
      {
       "output_type": "stream",
       "stream": "stderr",
       "text": [
        "INFO:dedupe.api:20 folds\n"
       ]
      },
      {
       "output_type": "stream",
       "stream": "stderr",
       "text": [
        "INFO:dedupe.crossvalidation:using cross validation to find optimum alpha...\n"
       ]
      },
      {
       "output_type": "stream",
       "stream": "stderr",
       "text": [
        "INFO:dedupe.crossvalidation:optimum alpha: 0.000100\n"
       ]
      },
      {
       "output_type": "stream",
       "stream": "stderr",
       "text": [
        "INFO:dedupe.api:Learned Weights\n"
       ]
      },
      {
       "output_type": "stream",
       "stream": "stderr",
       "text": [
        "INFO:dedupe.api:('(city: ShortString)', -0.22436228394508362)\n"
       ]
      },
      {
       "output_type": "stream",
       "stream": "stderr",
       "text": [
        "INFO:dedupe.api:('(facility_name: String)', -2.1074373722076416)\n"
       ]
      },
      {
       "output_type": "stream",
       "stream": "stderr",
       "text": [
        "INFO:dedupe.api:('(zipcode: ShortString)', -1.4684042930603027)\n"
       ]
      },
      {
       "output_type": "stream",
       "stream": "stderr",
       "text": [
        "INFO:dedupe.api:('(state: ShortString)', -0.6717556715011597)\n"
       ]
      },
      {
       "output_type": "stream",
       "stream": "stderr",
       "text": [
        "INFO:dedupe.api:('((zipcode: ShortString): Not Missing)', 1.1019787788391113)\n"
       ]
      },
      {
       "output_type": "stream",
       "stream": "stderr",
       "text": [
        "INFO:dedupe.api:('((city: ShortString): Not Missing)', 5.169015884399414)\n"
       ]
      },
      {
       "output_type": "stream",
       "stream": "stderr",
       "text": [
        "INFO:dedupe.api:('bias', 1.2692452669143677)\n"
       ]
      },
      {
       "output_type": "stream",
       "stream": "stderr",
       "text": [
        "INFO:dedupe.blocking:Sat Nov 22 17:00:56 2014\n"
       ]
      },
      {
       "output_type": "stream",
       "stream": "stderr",
       "text": [
        "INFO:dedupe.blocking:Canopy: TfidfPredicate: (0.4, facility_name)\n"
       ]
      },
      {
       "output_type": "stream",
       "stream": "stderr",
       "text": [
        "INFO:dedupe.blocking:Canopy: TfidfPredicate: (0.6, facility_name)\n"
       ]
      },
      {
       "output_type": "stream",
       "stream": "stderr",
       "text": [
        "INFO:dedupe.blocking:Canopy: TfidfPredicate: (0.8, facility_name)\n"
       ]
      },
      {
       "output_type": "stream",
       "stream": "stderr",
       "text": [
        "INFO:dedupe.blocking:Canopy: TfidfPredicate: (0.2, facility_name)\n"
       ]
      },
      {
       "output_type": "stream",
       "stream": "stderr",
       "text": [
        "INFO:dedupe.blocking:Sat Nov 22 17:01:20 2014\n"
       ]
      },
      {
       "output_type": "stream",
       "stream": "stderr",
       "text": [
        "INFO:dedupe.training:coverage threshold: 32428\n"
       ]
      },
      {
       "output_type": "stream",
       "stream": "stderr",
       "text": [
        "INFO:dedupe.training:Final predicate set:\n"
       ]
      },
      {
       "output_type": "stream",
       "stream": "stderr",
       "text": [
        "INFO:dedupe.training:CompoundPredicate: (TfidfPredicate: (0.8, facility_name), SimplePredicate: (sameThreeCharStartPredicate, city))\n"
       ]
      },
      {
       "output_type": "stream",
       "stream": "stderr",
       "text": [
        "INFO:dedupe.training:CompoundPredicate: (SimplePredicate: (firstTokenPredicate, facility_name), SimplePredicate: (nearIntegersPredicate, zipcode))\n"
       ]
      },
      {
       "output_type": "stream",
       "stream": "stderr",
       "text": [
        "INFO:dedupe.training:CompoundPredicate: (TfidfPredicate: (0.4, facility_name), SimplePredicate: (nearIntegersPredicate, zipcode))\n"
       ]
      },
      {
       "output_type": "stream",
       "stream": "stderr",
       "text": [
        "INFO:dedupe.training:CompoundPredicate: (SimplePredicate: (wholeFieldPredicate, facility_name), SimplePredicate: (tokenFieldPredicate, state))\n"
       ]
      },
      {
       "output_type": "stream",
       "stream": "stderr",
       "text": [
        "INFO:dedupe.training:CompoundPredicate: (TfidfPredicate: (0.8, facility_name), SimplePredicate: (sameThreeCharStartPredicate, zipcode))\n"
       ]
      },
      {
       "output_type": "stream",
       "stream": "stderr",
       "text": [
        "INFO:dedupe.training:CompoundPredicate: (SimplePredicate: (wholeFieldPredicate, zipcode), TfidfPredicate: (0.6, facility_name))\n"
       ]
      },
      {
       "output_type": "stream",
       "stream": "stderr",
       "text": [
        "INFO:dedupe.training:CompoundPredicate: (SimplePredicate: (sameFiveCharStartPredicate, city), SimplePredicate: (sameThreeCharStartPredicate, facility_name))\n"
       ]
      },
      {
       "output_type": "stream",
       "stream": "stderr",
       "text": [
        "INFO:dedupe.training:CompoundPredicate: (TfidfPredicate: (0.6, facility_name), SimplePredicate: (commonSixGram, city))\n"
       ]
      },
      {
       "output_type": "stream",
       "stream": "stderr",
       "text": [
        "INFO:dedupe.training:CompoundPredicate: (SimplePredicate: (commonSixGram, facility_name), SimplePredicate: (firstTokenPredicate, zipcode))\n"
       ]
      },
      {
       "output_type": "stream",
       "stream": "stderr",
       "text": [
        "INFO:dedupe.training:CompoundPredicate: (SimplePredicate: (firstTokenPredicate, facility_name), TfidfPredicate: (0.6, facility_name))\n"
       ]
      },
      {
       "output_type": "stream",
       "stream": "stderr",
       "text": [
        "INFO:dedupe.training:CompoundPredicate: (SimplePredicate: (sameFiveCharStartPredicate, state), SimplePredicate: (sameSevenCharStartPredicate, facility_name))\n"
       ]
      },
      {
       "output_type": "stream",
       "stream": "stderr",
       "text": [
        "INFO:dedupe.training:CompoundPredicate: (TfidfPredicate: (0.4, facility_name), SimplePredicate: (sameSevenCharStartPredicate, city))\n"
       ]
      },
      {
       "output_type": "stream",
       "stream": "stderr",
       "text": [
        "INFO:dedupe.training:CompoundPredicate: (TfidfPredicate: (0.2, facility_name), SimplePredicate: (commonFourGram, zipcode))\n"
       ]
      },
      {
       "output_type": "stream",
       "stream": "stderr",
       "text": [
        "INFO:dedupe.training:CompoundPredicate: (TfidfPredicate: (0.4, facility_name), SimplePredicate: (sameSevenCharStartPredicate, facility_name))\n"
       ]
      },
      {
       "output_type": "stream",
       "stream": "stderr",
       "text": [
        "INFO:dedupe.training:CompoundPredicate: (SimplePredicate: (tokenFieldPredicate, zipcode), SimplePredicate: (sameSevenCharStartPredicate, state))\n"
       ]
      }
     ],
     "prompt_number": 9
    },
    {
     "cell_type": "code",
     "collapsed": false,
     "input": [
      "settings_file = '../data/dedupe_settings'\n",
      "training_file = '../data/dedupe_training.json'\n",
      "deduper.writeTraining(open(training_file,'w'))\n",
      "deduper.writeSettings(open(settings_file,'w'))"
     ],
     "language": "python",
     "metadata": {},
     "outputs": [],
     "prompt_number": 10
    },
    {
     "cell_type": "markdown",
     "metadata": {},
     "source": [
      "### Load model information and get blocking data ready"
     ]
    },
    {
     "cell_type": "code",
     "collapsed": false,
     "input": [
      "settings_file = '../data/dedupe_settings'\n",
      "deduper = dedupe.StaticDedupe(open(settings_file,'r'))"
     ],
     "language": "python",
     "metadata": {},
     "outputs": [
      {
       "output_type": "stream",
       "stream": "stderr",
       "text": [
        "INFO:dedupe.api:Learned Weights\n"
       ]
      },
      {
       "output_type": "stream",
       "stream": "stderr",
       "text": [
        "INFO:dedupe.api:('(city: ShortString)', -0.22436228394508362)\n"
       ]
      },
      {
       "output_type": "stream",
       "stream": "stderr",
       "text": [
        "INFO:dedupe.api:('(facility_name: String)', -2.1074373722076416)\n"
       ]
      },
      {
       "output_type": "stream",
       "stream": "stderr",
       "text": [
        "INFO:dedupe.api:('(zipcode: ShortString)', -1.4684042930603027)\n"
       ]
      },
      {
       "output_type": "stream",
       "stream": "stderr",
       "text": [
        "INFO:dedupe.api:('(state: ShortString)', -0.6717556715011597)\n"
       ]
      },
      {
       "output_type": "stream",
       "stream": "stderr",
       "text": [
        "INFO:dedupe.api:('((zipcode: ShortString): Not Missing)', 1.1019787788391113)\n"
       ]
      },
      {
       "output_type": "stream",
       "stream": "stderr",
       "text": [
        "INFO:dedupe.api:('((city: ShortString): Not Missing)', 5.169015884399414)\n"
       ]
      },
      {
       "output_type": "stream",
       "stream": "stderr",
       "text": [
        "INFO:dedupe.api:('bias', 1.2692452669143677)\n"
       ]
      },
      {
       "output_type": "stream",
       "stream": "stderr",
       "text": [
        "INFO:dedupe.api:[CompoundPredicate: (TfidfPredicate: (0.8, facility_name), SimplePredicate: (sameThreeCharStartPredicate, city)), CompoundPredicate: (SimplePredicate: (firstTokenPredicate, facility_name), SimplePredicate: (nearIntegersPredicate, zipcode)), CompoundPredicate: (TfidfPredicate: (0.4, facility_name), SimplePredicate: (nearIntegersPredicate, zipcode)), CompoundPredicate: (SimplePredicate: (wholeFieldPredicate, facility_name), SimplePredicate: (tokenFieldPredicate, state)), CompoundPredicate: (TfidfPredicate: (0.8, facility_name), SimplePredicate: (sameThreeCharStartPredicate, zipcode)), CompoundPredicate: (SimplePredicate: (wholeFieldPredicate, zipcode), TfidfPredicate: (0.6, facility_name)), CompoundPredicate: (SimplePredicate: (sameFiveCharStartPredicate, city), SimplePredicate: (sameThreeCharStartPredicate, facility_name)), CompoundPredicate: (TfidfPredicate: (0.6, facility_name), SimplePredicate: (commonSixGram, city)), CompoundPredicate: (SimplePredicate: (commonSixGram, facility_name), SimplePredicate: (firstTokenPredicate, zipcode)), CompoundPredicate: (SimplePredicate: (firstTokenPredicate, facility_name), TfidfPredicate: (0.6, facility_name)), CompoundPredicate: (SimplePredicate: (sameFiveCharStartPredicate, state), SimplePredicate: (sameSevenCharStartPredicate, facility_name)), CompoundPredicate: (TfidfPredicate: (0.4, facility_name), SimplePredicate: (sameSevenCharStartPredicate, city)), CompoundPredicate: (TfidfPredicate: (0.2, facility_name), SimplePredicate: (commonFourGram, zipcode)), CompoundPredicate: (TfidfPredicate: (0.4, facility_name), SimplePredicate: (sameSevenCharStartPredicate, facility_name)), CompoundPredicate: (SimplePredicate: (tokenFieldPredicate, zipcode), SimplePredicate: (sameSevenCharStartPredicate, state))]\n"
       ]
      },
      {
       "output_type": "stream",
       "stream": "stderr",
       "text": [
        "INFO:dedupe.api:{'facility_name': set([u'and', u'Center', u'Cancer', u'Institute', u'of', u'University', u'Research', u's', u'Health', u'at', u'Hospital', u'Medical'])}\n"
       ]
      }
     ],
     "prompt_number": 6
    },
    {
     "cell_type": "code",
     "collapsed": false,
     "input": [
      "for field in deduper.blocker.tfidf_fields :\n",
      "    field_data = potential[['facility_id',field]].T.to_dict().values()\n",
      "    deduper.blocker.tfIdfBlock(field_data, field)"
     ],
     "language": "python",
     "metadata": {},
     "outputs": [
      {
       "output_type": "stream",
       "stream": "stderr",
       "text": [
        "INFO:dedupe.blocking:Sun Nov 23 20:10:58 2014\n"
       ]
      },
      {
       "output_type": "stream",
       "stream": "stderr",
       "text": [
        "INFO:dedupe.blocking:Canopy: TfidfPredicate: (0.4, facility_name)\n"
       ]
      },
      {
       "output_type": "stream",
       "stream": "stderr",
       "text": [
        "INFO:dedupe.blocking:Canopy: TfidfPredicate: (0.6, facility_name)\n"
       ]
      },
      {
       "output_type": "stream",
       "stream": "stderr",
       "text": [
        "INFO:dedupe.blocking:Canopy: TfidfPredicate: (0.8, facility_name)\n"
       ]
      },
      {
       "output_type": "stream",
       "stream": "stderr",
       "text": [
        "INFO:dedupe.blocking:Canopy: TfidfPredicate: (0.2, facility_name)\n"
       ]
      },
      {
       "output_type": "stream",
       "stream": "stderr",
       "text": [
        "INFO:dedupe.blocking:Sun Nov 23 20:10:58 2014\n"
       ]
      }
     ],
     "prompt_number": 7
    },
    {
     "cell_type": "code",
     "collapsed": false,
     "input": [
      "potential_indexed = potential.set_index('facility_id')\n",
      "full_data = [(f, {k: v if pd.notnull(v) else u'' for k, v in potential_indexed.loc[f].to_dict().items()}) for f in potential_indexed.index]\n",
      "b_data = deduper.blocker(full_data)"
     ],
     "language": "python",
     "metadata": {},
     "outputs": [],
     "prompt_number": 8
    },
    {
     "cell_type": "code",
     "collapsed": false,
     "input": [
      "l = list(b_data)"
     ],
     "language": "python",
     "metadata": {},
     "outputs": [
      {
       "output_type": "stream",
       "stream": "stderr",
       "text": [
        "INFO:dedupe.blocking:10000, 1.1250952 seconds\n"
       ]
      }
     ],
     "prompt_number": 9
    },
    {
     "cell_type": "code",
     "collapsed": false,
     "input": [
      "blocks = [(i, j[0], j[1]) for i, j in enumerate(sorted(l))]"
     ],
     "language": "python",
     "metadata": {},
     "outputs": [],
     "prompt_number": 10
    },
    {
     "cell_type": "code",
     "collapsed": false,
     "input": [
      "def candidates_gen(result_set) :\n",
      "    \n",
      "    block_key = None\n",
      "    records = []\n",
      "    for row in result_set :\n",
      "        if row['block_key'] != block_key :\n",
      "            if records :\n",
      "                if len(records) > 1:\n",
      "                    yield tuple(records)\n",
      "            \n",
      "            block_key = row['block_key']\n",
      "            records = []\n",
      "            \n",
      "        records.append((row['facility_id'], row, set([])))\n",
      "    \n",
      "    if records :\n",
      "        if len(records) > 1:\n",
      "            yield records\n"
     ],
     "language": "python",
     "metadata": {},
     "outputs": [],
     "prompt_number": 11
    },
    {
     "cell_type": "code",
     "collapsed": false,
     "input": [
      "bkfreq = nltk.FreqDist([bk for i, bk, f in blocks])"
     ],
     "language": "python",
     "metadata": {},
     "outputs": [],
     "prompt_number": 12
    },
    {
     "cell_type": "code",
     "collapsed": false,
     "input": [
      "c = [dict([(k, v if pd.notnull(v) else u'') \n",
      "           for k, v in potential_indexed.loc[f].to_dict().items()] + [('block_key', bk), ('facility_id', f)]) \n",
      "     for i, bk, f in blocks if bkfreq[bk] > 1]"
     ],
     "language": "python",
     "metadata": {},
     "outputs": [],
     "prompt_number": 13
    },
    {
     "cell_type": "markdown",
     "metadata": {},
     "source": [
      "### Find blocking threshold and cluster records"
     ]
    },
    {
     "cell_type": "code",
     "collapsed": false,
     "input": [
      "d = random.sample(c, 100000)"
     ],
     "language": "python",
     "metadata": {},
     "outputs": [],
     "prompt_number": 23
    },
    {
     "cell_type": "code",
     "collapsed": false,
     "input": [
      "threshold = deduper.thresholdBlocks(candidates_gen(d), .5)"
     ],
     "language": "python",
     "metadata": {},
     "outputs": [
      {
       "output_type": "stream",
       "stream": "stderr",
       "text": [
        "INFO:dedupe.api:Maximum expected recall and precision\n"
       ]
      },
      {
       "output_type": "stream",
       "stream": "stderr",
       "text": [
        "INFO:dedupe.api:recall: 0.919\n"
       ]
      },
      {
       "output_type": "stream",
       "stream": "stderr",
       "text": [
        "INFO:dedupe.api:precision: 0.983\n"
       ]
      },
      {
       "output_type": "stream",
       "stream": "stderr",
       "text": [
        "INFO:dedupe.api:With threshold: 0.791\n"
       ]
      }
     ],
     "prompt_number": 24
    },
    {
     "cell_type": "code",
     "collapsed": false,
     "input": [
      "clustered_dupes = deduper.matchBlocks(candidates_gen(c), 0.8)"
     ],
     "language": "python",
     "metadata": {},
     "outputs": []
    },
    {
     "cell_type": "code",
     "collapsed": false,
     "input": [],
     "language": "python",
     "metadata": {},
     "outputs": []
    }
   ],
   "metadata": {}
  }
 ]
}