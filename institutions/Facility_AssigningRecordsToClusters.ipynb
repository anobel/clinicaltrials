{
 "metadata": {
  "name": "",
  "signature": "sha256:fc32695f902719476dbb2f8fe983560b33de593cafed07dca3f7afd46e15862c"
 },
 "nbformat": 3,
 "nbformat_minor": 0,
 "worksheets": [
  {
   "cells": [
    {
     "cell_type": "code",
     "collapsed": false,
     "input": [
      "import cPickle as pickle,pandas as pd,numpy as np,re\n",
      "pd.set_option('display.max_rows', 500)"
     ],
     "language": "python",
     "metadata": {},
     "outputs": [],
     "prompt_number": 1
    },
    {
     "cell_type": "code",
     "collapsed": false,
     "input": [
      "dupes = pickle.load(open('../data/clustered_dupes_state.pkl','rb'))"
     ],
     "language": "python",
     "metadata": {},
     "outputs": [],
     "prompt_number": 3
    },
    {
     "cell_type": "code",
     "collapsed": false,
     "input": [
      "dupes['Oklahoma']"
     ],
     "language": "python",
     "metadata": {},
     "outputs": [
      {
       "metadata": {},
       "output_type": "pyout",
       "prompt_number": 6,
       "text": [
        "[((35586, 430235, 803095, 844012), 0.63888838423349936),\n",
        " ((87556, 151417, 700243), 0.77563923366188525),\n",
        " ((161542, 1180068), 0.77791374921798706),\n",
        " ((571657, 575970), 0.90645116567611694),\n",
        " ((35981, 162573, 1177906), 0.79321512658452709),\n",
        " ((497679, 1051057), 0.85213184356689453),\n",
        " ((227586, 416272, 685861, 1206359), 0.71926922346285704),\n",
        " ((60980, 124951, 163175, 239726, 256007, 380945, 462438, 640434, 751941),\n",
        "  0.59170847690177186),\n",
        " ((432417, 591748), 0.83833694458007812),\n",
        " ((8234, 21895, 22028, 208449, 232834, 368477), 0.69852089961656261),\n",
        " ((1057073, 1270405), 0.70502025),\n",
        " ((577587, 705386, 815870, 863477, 1198987), 0.39665754926489116),\n",
        " ((1221691, 1221692), 0.86223369836807251),\n",
        " ((14399, 343806, 405596, 697912, 1043039), 0.90095025438872689),\n",
        " ((202310, 495432, 1279413), 0.80507713556289673),\n",
        " ((372076, 391475, 681236), 0.76340700914042947),\n",
        " ((16971, 875489), 0.9059794545173645),\n",
        " ((430168, 650192), 0.88733929395675659),\n",
        " ((5471, 14398, 65448, 146903, 314811, 678540), 0.37680647611502494),\n",
        " ((646501, 1172802), 0.9025382399559021),\n",
        " ((60058, 64519), 0.90676683187484741),\n",
        " ((91864, 154751, 1179883), 0.8707046694129007),\n",
        " ((789866, 865468, 959233), 0.76520095643819941),\n",
        " ((82031, 777817), 0.90500849485397339),\n",
        " ((52534, 358063), 0.9025382399559021),\n",
        " ((583536, 923329), 0.89755779504776001),\n",
        " ((189593, 569868), 0.90715467929840088),\n",
        " ((273560, 1146653), 0.90531623363494873),\n",
        " ((129007, 165792, 262928), 0.90817928314208984),\n",
        " ((756736, 1146652), 0.89631533622741699),\n",
        " ((549351, 635801, 637717, 650199), 0.8942609192290969),\n",
        " ((7509, 596553, 794319), 0.88713983631322779),\n",
        " ((3340, 286249, 387123, 528445, 664500), 0.87006728673033207),\n",
        " ((45082, 646979), 0.86223369836807251),\n",
        " ((1289819, 1291968), 0.84415352344512939),\n",
        " ((7510, 95088, 709807, 1226803, 1320719), 0.86180533814860505),\n",
        " ((537126, 1123291), 0.81290626525878906),\n",
        " ((271043, 1255698), 0.89101797342300415),\n",
        " ((7013, 14158, 17638, 376468), 0.84489507072409253),\n",
        " ((402139, 705566, 772417), 0.83454214714957642),\n",
        " ((17637, 325757), 0.80507713556289673),\n",
        " ((88400, 210140, 1258546), 0.85649337348621413),\n",
        " ((577953, 642858, 697559, 930143), 0.87109469861525268),\n",
        " ((414918, 471917, 589786, 862191), 0.80919711918219939),\n",
        " ((27299, 1160010), 0.80507713556289673),\n",
        " ((113583, 1042139), 0.80507713556289673),\n",
        " ((35064,\n",
        "   403293,\n",
        "   586475,\n",
        "   618988,\n",
        "   637958,\n",
        "   715517,\n",
        "   724748,\n",
        "   842927,\n",
        "   881615,\n",
        "   1258871),\n",
        "  0.81419909403860657),\n",
        " ((75286, 277551, 662140, 1122787), 0.80077154395839567),\n",
        " ((63061, 562707, 982695, 1097084, 1226348, 1270369), 0.79111983221495863),\n",
        " ((634377, 862083, 1174958), 0.79255274730993319),\n",
        " ((43322, 57507), 0.74397516250610352),\n",
        " ((261882, 530540, 1200710), 0.74808091256060449),\n",
        " ((405594, 788208, 994887), 0.82421150778365926),\n",
        " ((275027, 432353, 793075, 863529, 916130), 0.76043776933960816),\n",
        " ((55715, 825378), 0.85244464874267578),\n",
        " ((362723, 669507, 894208), 0.75216830000024593),\n",
        " ((10757, 1328706), 0.90305525064468384),\n",
        " ((265801, 303422, 321735, 357337, 1082430), 0.77008640490110269),\n",
        " ((39939, 48332, 64019, 76571, 82442, 363257), 0.80298311183363735),\n",
        " ((51976, 281324, 457083, 1138523), 0.76759486042139158),\n",
        " ((171899, 666812, 794397), 0.89443545724987428),\n",
        " ((384517, 996674), 0.71231615543365479),\n",
        " ((1025943, 1227174), 0.69885581731796265),\n",
        " ((301254, 329872), 0.7538415789604187),\n",
        " ((713739, 1258873), 0.72853988409042358),\n",
        " ((20720, 124753, 274495, 293651, 313399, 566105, 802942, 839902, 925507),\n",
        "  0.69454090438550153),\n",
        " ((17635, 41196, 152307, 297427, 303423, 325238, 1116723, 1293166),\n",
        "  0.66900952284434934),\n",
        " ((55732, 56341, 249081, 975590, 1254342), 0.79076033905707832),\n",
        " ((597732, 705966, 762400, 1283831), 0.69786235300577371),\n",
        " ((41531, 192787, 197386, 200799, 650193, 1137774), 0.76695388126717945),\n",
        " ((114321, 434348, 458089), 0.69643189464500632),\n",
        " ((946314, 1053806), 0.67828172445297241),\n",
        " ((400091, 1144282), 0.64725238084793091),\n",
        " ((3329,\n",
        "   15855,\n",
        "   52416,\n",
        "   72792,\n",
        "   306876,\n",
        "   309790,\n",
        "   431021,\n",
        "   453639,\n",
        "   464168,\n",
        "   942503,\n",
        "   954988,\n",
        "   1201689,\n",
        "   1279414),\n",
        "  0.50099392548958688),\n",
        " ((219752, 278611), 0.69346350431442261),\n",
        " ((223204, 686894), 0.80507713556289673),\n",
        " ((75867, 82057, 146902, 208108, 462714, 649570, 791079), 0.77500290776302105),\n",
        " ((142308, 184132, 338770), 0.68429128375003956),\n",
        " ((149900, 155009, 248892, 297280, 771110, 1011414, 1294556, 1304449),\n",
        "  0.72434693279335138),\n",
        " ((86656, 875755, 1216036), 0.85694871084231761),\n",
        " ((792389, 1004673, 1008287, 1029889), 0.76840867393112311),\n",
        " ((61077, 457222, 674306), 0.63619047660201744),\n",
        " ((16570,\n",
        "   21721,\n",
        "   42439,\n",
        "   104349,\n",
        "   119574,\n",
        "   255531,\n",
        "   377516,\n",
        "   378006,\n",
        "   385333,\n",
        "   386943,\n",
        "   386944,\n",
        "   846023,\n",
        "   982696,\n",
        "   1114957),\n",
        "  0.60847666499903474),\n",
        " ((49441,\n",
        "   149634,\n",
        "   189914,\n",
        "   210624,\n",
        "   227794,\n",
        "   261881,\n",
        "   290513,\n",
        "   355698,\n",
        "   474906,\n",
        "   549350,\n",
        "   823813,\n",
        "   1301295),\n",
        "  0.42975307464733703),\n",
        " ((119613, 853341), 0.87935203313827515),\n",
        " ((57388, 928056, 1177910), 0.55515800029735163),\n",
        " ((119624, 1106303), 0.59185630083084106),\n",
        " ((15358, 157603, 987924), 0.56734697212197704),\n",
        " ((7508, 196070, 1113113), 0.53939028179389026),\n",
        " ((16461,\n",
        "   41454,\n",
        "   104338,\n",
        "   245524,\n",
        "   263023,\n",
        "   294958,\n",
        "   330897,\n",
        "   377515,\n",
        "   378005,\n",
        "   386939,\n",
        "   386941,\n",
        "   523810,\n",
        "   845545),\n",
        "  0.57828766890153904),\n",
        " ((669099, 1250085), 0.52910530567169189),\n",
        " ((28192, 975592), 0.50188076496124268),\n",
        " ((169489, 271230, 378327, 813319, 819329), 0.43550704331612378),\n",
        " ((351510, 934907), 0.50510406494140625),\n",
        " ((59805, 68957, 163158, 400422, 483617, 744527, 1060441), 0.4958235429553205),\n",
        " ((12750,\n",
        "   21894,\n",
        "   41939,\n",
        "   167130,\n",
        "   318051,\n",
        "   435305,\n",
        "   439780,\n",
        "   537824,\n",
        "   946002,\n",
        "   974043,\n",
        "   996059,\n",
        "   1258689),\n",
        "  0.4978819700582815),\n",
        " ((45698,\n",
        "   269140,\n",
        "   277573,\n",
        "   463241,\n",
        "   654958,\n",
        "   672850,\n",
        "   757112,\n",
        "   791188,\n",
        "   793077,\n",
        "   867072),\n",
        "  0.53235962612465415),\n",
        " ((14325, 75933, 597733, 860486, 871174, 1283832, 1302141, 1311864),\n",
        "  0.8772082326434576),\n",
        " ((1203809, 1288715), 0.86628973484039307),\n",
        " ((75652, 363254, 1071824, 1113974, 1313331), 0.42070286836999349),\n",
        " ((79161, 318902, 363620, 393298, 654957, 656535, 793076, 1212634),\n",
        "  0.46091834283123545),\n",
        " ((45105, 210142, 678723), 0.64806377941401205),\n",
        " ((357134, 766286, 1031806), 0.52947193978495777),\n",
        " ((52535,\n",
        "   76895,\n",
        "   109752,\n",
        "   163136,\n",
        "   640145,\n",
        "   660158,\n",
        "   664645,\n",
        "   712492,\n",
        "   734810,\n",
        "   860712,\n",
        "   919622,\n",
        "   953321,\n",
        "   1192618,\n",
        "   1235223),\n",
        "  0.42951057121215386),\n",
        " ((66682, 99067, 543925, 1288716), 0.88290899411692503),\n",
        " ((729239, 876715, 1266962), 0.82787448032755107),\n",
        " ((5780,\n",
        "   119602,\n",
        "   364045,\n",
        "   371574,\n",
        "   522850,\n",
        "   626721,\n",
        "   818945,\n",
        "   848398,\n",
        "   852756,\n",
        "   1049254,\n",
        "   1106301),\n",
        "  0.51741952825790427),\n",
        " ((1064448, 1178968, 1280908), 0.60709040137039927),\n",
        " ((239727, 530971, 1059847, 1290526), 0.40619289853513696),\n",
        " ((30359, 935482), 0.88958865404129028),\n",
        " ((13528, 21765, 198998), 0.86763211708085142),\n",
        " ((496913, 664270, 771378), 0.58075913962707959),\n",
        " ((468036, 684098), 0.80169230699539185),\n",
        " ((149635,\n",
        "   343580,\n",
        "   580606,\n",
        "   649081,\n",
        "   683113,\n",
        "   687470,\n",
        "   705819,\n",
        "   725135,\n",
        "   735724,\n",
        "   769668,\n",
        "   770153,\n",
        "   878676,\n",
        "   1108836,\n",
        "   1272633),\n",
        "  0.35534572811493981),\n",
        " ((28194, 276691, 384364, 1155494), 0.60261120059148754),\n",
        " ((531832, 736252), 0.54758036136627197),\n",
        " ((4971,\n",
        "   7012,\n",
        "   18636,\n",
        "   29741,\n",
        "   41479,\n",
        "   70752,\n",
        "   73075,\n",
        "   79131,\n",
        "   80321,\n",
        "   85570,\n",
        "   88940,\n",
        "   97132,\n",
        "   98969,\n",
        "   106321,\n",
        "   139189,\n",
        "   140506,\n",
        "   142573,\n",
        "   144961,\n",
        "   158710,\n",
        "   159049,\n",
        "   189818,\n",
        "   198125,\n",
        "   217200,\n",
        "   226352,\n",
        "   273157,\n",
        "   273631,\n",
        "   299713,\n",
        "   303421,\n",
        "   307039,\n",
        "   325237,\n",
        "   335263,\n",
        "   339463,\n",
        "   360364,\n",
        "   372791,\n",
        "   390332,\n",
        "   391667,\n",
        "   392512,\n",
        "   394170,\n",
        "   408107,\n",
        "   430965,\n",
        "   457544,\n",
        "   491214,\n",
        "   512816,\n",
        "   530821,\n",
        "   531430,\n",
        "   531586,\n",
        "   535482,\n",
        "   538092,\n",
        "   541988,\n",
        "   564797,\n",
        "   579054,\n",
        "   596899,\n",
        "   657540,\n",
        "   661775,\n",
        "   718353,\n",
        "   718535,\n",
        "   723460,\n",
        "   767362,\n",
        "   792159,\n",
        "   795921,\n",
        "   808209,\n",
        "   813434,\n",
        "   843610,\n",
        "   878337,\n",
        "   888058,\n",
        "   918844,\n",
        "   953857,\n",
        "   973304,\n",
        "   986070,\n",
        "   987104,\n",
        "   1024400,\n",
        "   1050164,\n",
        "   1058320,\n",
        "   1059576,\n",
        "   1063969,\n",
        "   1065015,\n",
        "   1071502,\n",
        "   1091664,\n",
        "   1106300,\n",
        "   1109432,\n",
        "   1141485,\n",
        "   1147166,\n",
        "   1152930,\n",
        "   1263145,\n",
        "   1264148,\n",
        "   1267147,\n",
        "   1274173,\n",
        "   1279592,\n",
        "   1304956),\n",
        "  0.4670112623604914),\n",
        " ((753436, 859019, 1032296), 0.744351271439329),\n",
        " ((42428, 403536, 626854, 627053, 646512, 953676, 1054004, 1063687),\n",
        "  0.75658544899683289),\n",
        " ((8769,\n",
        "   16003,\n",
        "   101270,\n",
        "   155139,\n",
        "   211086,\n",
        "   234276,\n",
        "   274142,\n",
        "   453888,\n",
        "   695067,\n",
        "   696041,\n",
        "   879312,\n",
        "   1044038,\n",
        "   1054607,\n",
        "   1147951,\n",
        "   1154366,\n",
        "   1230381,\n",
        "   1232303,\n",
        "   1239732),\n",
        "  0.40258970701463248),\n",
        " ((59969, 325756, 1221594, 1227173), 0.67398512273976263),\n",
        " ((5779, 72995, 115022, 447340, 1147096), 0.55757845330510736),\n",
        " ((110202, 296569, 863396, 1300774, 1306366), 0.47093092905746092),\n",
        " ((142477,\n",
        "   182232,\n",
        "   219749,\n",
        "   219751,\n",
        "   680365,\n",
        "   720570,\n",
        "   804927,\n",
        "   902261,\n",
        "   916513,\n",
        "   942837),\n",
        "  0.38266029574788407),\n",
        " ((16180, 376466, 418990, 434347, 634080, 677266), 0.43928734554863491),\n",
        " ((326425, 802984, 1103543, 1177375, 1216039), 0.39799398278681886),\n",
        " ((25239, 674324), 0.90652626752853394),\n",
        " ((38841, 209230, 301859, 486317), 0.35668181796527121),\n",
        " ((575662, 645274, 820280), 0.80507713556289673),\n",
        " ((21627, 287825, 753599), 0.79240813170872015),\n",
        " ((60791, 129005, 365562, 635223, 945051, 946001, 1301501),\n",
        "  0.71061494931100122),\n",
        " ((350620, 365561, 421110), 0.75001064957118246),\n",
        " ((171898, 492774, 656737, 886625), 0.71005857705161946),\n",
        " ((844412, 1304267), 0.66774380207061768),\n",
        " ((227783, 524143, 540548, 700242, 753598, 813432), 0.76845390196204799),\n",
        " ((21893, 975587), 0.8622337),\n",
        " ((107400, 119013, 1070081), 0.81765407979877769),\n",
        " ((1122709, 1289818), 0.86223369836807251),\n",
        " ((1122710, 1289816), 0.86001890897750854),\n",
        " ((846487, 846488), 0.72723770141601562),\n",
        " ((173722, 900559), 0.63146024942398071),\n",
        " ((43172, 294488, 386491), 0.87653379755388139),\n",
        " ((488873, 708797), 0.90525048971176147),\n",
        " ((766124, 889306), 0.90531623363494873),\n",
        " ((96944, 146904), 0.85060125589370728),\n",
        " ((642740, 875733), 0.7009279727935791),\n",
        " ((414874, 441289, 625199), 0.80359247125402655),\n",
        " ((688055, 1073530), 0.69991719722747803),\n",
        " ((254137, 1058932, 1076465, 1228566), 0.39225060956924862),\n",
        " ((75964, 364585), 0.9026714563369751),\n",
        " ((379336, 868608), 0.89337432384490967),\n",
        " ((12751, 201476, 596554, 616594, 664317, 777797, 925454, 1062551),\n",
        "  0.85612104726553306),\n",
        " ((1051345, 1229111), 0.67990249395370483),\n",
        " ((604249, 650197, 792388, 975588), 0.7399768702748214),\n",
        " ((974046, 975593), 0.68230873),\n",
        " ((5244, 282473, 397515, 418407, 503631, 1160953), 0.40181695571137666),\n",
        " ((40683, 84083, 148973, 1243648, 1267054), 0.81176633824328071),\n",
        " ((565486, 1056682, 1141355), 0.80409672731042681),\n",
        " ((6387, 96269, 318006, 390693, 982693), 0.81568460950527488),\n",
        " ((152309, 253746), 0.90671354532241821),\n",
        " ((815871, 1135856), 0.90344476699829102)]"
       ]
      }
     ],
     "prompt_number": 6
    },
    {
     "cell_type": "code",
     "collapsed": false,
     "input": [
      "column_names = [\"facility_id\",\n",
      "                \"nct_id\",\n",
      "                \"status\",\n",
      "                \"facility_name\",\n",
      "                \"city\",\n",
      "                \"state\",\n",
      "                \"zipcode\",\n",
      "                \"country\"]\n",
      "\n",
      "facilities = pd.read_csv('../data/facilities.txt', names=column_names, sep=\"|\", encoding='utf-8', quoting=3)\n",
      "\n",
      "for c in column_names[2:]:\n",
      "    facilities[c] = facilities[c].apply(lambda x: x if pd.notnull(x) else u'')\n",
      "\n",
      "facilities['cluster'] = np.NaN\n",
      "\n",
      "bad_names = [r'investigat[a-z]+ site',\n",
      "             r'research site',\n",
      "             r'research facility',\n",
      "             r'local institution',\n",
      "             r'study site',\n",
      "             r'clinical site',\n",
      "             r'call center',\n",
      "             r'site ref',\n",
      "             r'site[ :]+#?[0-9]+',\n",
      "             r'^#?[0-9\\.]+$',\n",
      "             r'for additional information',\n",
      "             r'call for information',\n",
      "             r'the study is '\n",
      "             ]\n",
      "\n",
      "potential = facilities[(facilities.country == 'United States') & \n",
      "                       (facilities.facility_name.apply(lambda x: x != u'' and min([not re.search(b,x.lower()) for b in bad_names])))]"
     ],
     "language": "python",
     "metadata": {},
     "outputs": [],
     "prompt_number": 3
    },
    {
     "cell_type": "code",
     "collapsed": false,
     "input": [
      "potential_indexed = potential.set_index('facility_id')"
     ],
     "language": "python",
     "metadata": {},
     "outputs": [],
     "prompt_number": 6
    },
    {
     "cell_type": "code",
     "collapsed": false,
     "input": [
      "a = [[potential_indexed.loc[i] for i in t] for t, s in dupes['New York']]\n",
      "sorted([(i, len(b)) for i, b in enumerate(a)], key=lambda x: x[1], reverse=True)"
     ],
     "language": "python",
     "metadata": {},
     "outputs": []
    },
    {
     "cell_type": "code",
     "collapsed": false,
     "input": [
      "pd.DataFrame(a[950])"
     ],
     "language": "python",
     "metadata": {},
     "outputs": []
    },
    {
     "cell_type": "code",
     "collapsed": false,
     "input": [
      "i = 0\n",
      "matchvars = ['facility_name','city','state','zipcode','country']\n",
      "\n",
      "# loop through states\n",
      "for s in sorted(dupes.keys()):\n",
      "    print s\n",
      "    \n",
      "    #loop through clusters\n",
      "    for c, conf in dupes[s]:\n",
      "        dupe_list = []\n",
      "        \n",
      "        # loop through facilities in cluster\n",
      "        for f in facilities[facilities.facility_id.apply(lambda x: x in c)].T.to_dict().values():\n",
      "            dupe_list += list(potential[(potential.facility_name == f['facility_name']) &\n",
      "                                        (potential.city == f['city']) &\n",
      "                                        (potential.state == f['state']) &\n",
      "                                        (potential.zipcode == f['zipcode']) &\n",
      "                                        (potential.country == f['country'])].facility_id)\n",
      "        \n",
      "        dlist = set(dupe_list)\n",
      "        index_toset = potential[potential.facility_id.apply(lambda x: x in dlist)].index\n",
      "        potential.cluster.loc[index_toset] = i\n",
      "        i += 1\n",
      "        if i % 10 == 0: print i"
     ],
     "language": "python",
     "metadata": {},
     "outputs": [
      {
       "output_type": "stream",
       "stream": "stdout",
       "text": [
        "Alabama\n",
        "10"
       ]
      },
      {
       "output_type": "stream",
       "stream": "stdout",
       "text": [
        "\n",
        "20"
       ]
      },
      {
       "output_type": "stream",
       "stream": "stdout",
       "text": [
        "\n",
        "30"
       ]
      },
      {
       "output_type": "stream",
       "stream": "stdout",
       "text": [
        "\n",
        "40"
       ]
      },
      {
       "output_type": "stream",
       "stream": "stdout",
       "text": [
        "\n",
        "50"
       ]
      },
      {
       "output_type": "stream",
       "stream": "stdout",
       "text": [
        "\n",
        "60"
       ]
      },
      {
       "output_type": "stream",
       "stream": "stdout",
       "text": [
        "\n",
        "70"
       ]
      },
      {
       "output_type": "stream",
       "stream": "stdout",
       "text": [
        "\n",
        "80"
       ]
      },
      {
       "output_type": "stream",
       "stream": "stdout",
       "text": [
        "\n",
        "90"
       ]
      },
      {
       "output_type": "stream",
       "stream": "stdout",
       "text": [
        "\n",
        "100"
       ]
      },
      {
       "output_type": "stream",
       "stream": "stdout",
       "text": [
        "\n",
        "110"
       ]
      },
      {
       "output_type": "stream",
       "stream": "stdout",
       "text": [
        "\n",
        "120"
       ]
      },
      {
       "output_type": "stream",
       "stream": "stdout",
       "text": [
        "\n",
        "130"
       ]
      },
      {
       "output_type": "stream",
       "stream": "stdout",
       "text": [
        "\n",
        "140"
       ]
      },
      {
       "output_type": "stream",
       "stream": "stdout",
       "text": [
        "\n",
        "150"
       ]
      },
      {
       "output_type": "stream",
       "stream": "stdout",
       "text": [
        "\n",
        "160"
       ]
      },
      {
       "output_type": "stream",
       "stream": "stdout",
       "text": [
        "\n",
        "170"
       ]
      },
      {
       "output_type": "stream",
       "stream": "stdout",
       "text": [
        "\n",
        "180"
       ]
      },
      {
       "output_type": "stream",
       "stream": "stdout",
       "text": [
        "\n",
        "190"
       ]
      },
      {
       "output_type": "stream",
       "stream": "stdout",
       "text": [
        "\n",
        "200"
       ]
      },
      {
       "output_type": "stream",
       "stream": "stdout",
       "text": [
        "\n",
        "Alaska"
       ]
      },
      {
       "output_type": "stream",
       "stream": "stdout",
       "text": [
        "\n",
        "210"
       ]
      },
      {
       "output_type": "stream",
       "stream": "stdout",
       "text": [
        "\n",
        "220"
       ]
      },
      {
       "output_type": "stream",
       "stream": "stdout",
       "text": [
        "\n",
        "Arizona"
       ]
      },
      {
       "output_type": "stream",
       "stream": "stdout",
       "text": [
        "\n",
        "230"
       ]
      },
      {
       "output_type": "stream",
       "stream": "stdout",
       "text": [
        "\n",
        "240"
       ]
      },
      {
       "output_type": "stream",
       "stream": "stdout",
       "text": [
        "\n",
        "250"
       ]
      },
      {
       "output_type": "stream",
       "stream": "stdout",
       "text": [
        "\n",
        "260"
       ]
      },
      {
       "output_type": "stream",
       "stream": "stdout",
       "text": [
        "\n",
        "270"
       ]
      },
      {
       "output_type": "stream",
       "stream": "stdout",
       "text": [
        "\n",
        "280"
       ]
      },
      {
       "output_type": "stream",
       "stream": "stdout",
       "text": [
        "\n",
        "290"
       ]
      },
      {
       "output_type": "stream",
       "stream": "stdout",
       "text": [
        "\n",
        "300"
       ]
      },
      {
       "output_type": "stream",
       "stream": "stdout",
       "text": [
        "\n",
        "310"
       ]
      },
      {
       "output_type": "stream",
       "stream": "stdout",
       "text": [
        "\n",
        "320"
       ]
      },
      {
       "output_type": "stream",
       "stream": "stdout",
       "text": [
        "\n",
        "330"
       ]
      },
      {
       "output_type": "stream",
       "stream": "stdout",
       "text": [
        "\n",
        "340"
       ]
      },
      {
       "output_type": "stream",
       "stream": "stdout",
       "text": [
        "\n",
        "350"
       ]
      },
      {
       "output_type": "stream",
       "stream": "stdout",
       "text": [
        "\n",
        "360"
       ]
      },
      {
       "output_type": "stream",
       "stream": "stdout",
       "text": [
        "\n",
        "370"
       ]
      },
      {
       "output_type": "stream",
       "stream": "stdout",
       "text": [
        "\n",
        "380"
       ]
      },
      {
       "output_type": "stream",
       "stream": "stdout",
       "text": [
        "\n",
        "390"
       ]
      },
      {
       "output_type": "stream",
       "stream": "stdout",
       "text": [
        "\n",
        "400"
       ]
      },
      {
       "output_type": "stream",
       "stream": "stdout",
       "text": [
        "\n",
        "410"
       ]
      },
      {
       "output_type": "stream",
       "stream": "stdout",
       "text": [
        "\n",
        "420"
       ]
      },
      {
       "output_type": "stream",
       "stream": "stdout",
       "text": [
        "\n",
        "430"
       ]
      },
      {
       "output_type": "stream",
       "stream": "stdout",
       "text": [
        "\n",
        "440"
       ]
      },
      {
       "output_type": "stream",
       "stream": "stdout",
       "text": [
        "\n",
        "450"
       ]
      },
      {
       "output_type": "stream",
       "stream": "stdout",
       "text": [
        "\n",
        "460"
       ]
      },
      {
       "output_type": "stream",
       "stream": "stdout",
       "text": [
        "\n",
        "470"
       ]
      },
      {
       "output_type": "stream",
       "stream": "stdout",
       "text": [
        "\n",
        "480"
       ]
      },
      {
       "output_type": "stream",
       "stream": "stdout",
       "text": [
        "\n",
        "490"
       ]
      },
      {
       "output_type": "stream",
       "stream": "stdout",
       "text": [
        "\n",
        "500"
       ]
      },
      {
       "output_type": "stream",
       "stream": "stdout",
       "text": [
        "\n",
        "510"
       ]
      },
      {
       "output_type": "stream",
       "stream": "stdout",
       "text": [
        "\n",
        "520"
       ]
      },
      {
       "output_type": "stream",
       "stream": "stdout",
       "text": [
        "\n",
        "530"
       ]
      },
      {
       "output_type": "stream",
       "stream": "stdout",
       "text": [
        "\n",
        "540"
       ]
      },
      {
       "output_type": "stream",
       "stream": "stdout",
       "text": [
        "\n",
        "Arkansas"
       ]
      },
      {
       "output_type": "stream",
       "stream": "stdout",
       "text": [
        "\n",
        "550"
       ]
      },
      {
       "output_type": "stream",
       "stream": "stdout",
       "text": [
        "\n",
        "560"
       ]
      },
      {
       "output_type": "stream",
       "stream": "stdout",
       "text": [
        "\n",
        "570"
       ]
      },
      {
       "output_type": "stream",
       "stream": "stdout",
       "text": [
        "\n",
        "580"
       ]
      },
      {
       "output_type": "stream",
       "stream": "stdout",
       "text": [
        "\n",
        "590"
       ]
      },
      {
       "output_type": "stream",
       "stream": "stdout",
       "text": [
        "\n",
        "600"
       ]
      },
      {
       "output_type": "stream",
       "stream": "stdout",
       "text": [
        "\n",
        "610"
       ]
      },
      {
       "output_type": "stream",
       "stream": "stdout",
       "text": [
        "\n",
        "620"
       ]
      },
      {
       "output_type": "stream",
       "stream": "stdout",
       "text": [
        "\n",
        "630"
       ]
      },
      {
       "output_type": "stream",
       "stream": "stdout",
       "text": [
        "\n",
        "640"
       ]
      },
      {
       "output_type": "stream",
       "stream": "stdout",
       "text": [
        "\n",
        "650"
       ]
      },
      {
       "output_type": "stream",
       "stream": "stdout",
       "text": [
        "\n",
        "660"
       ]
      },
      {
       "output_type": "stream",
       "stream": "stdout",
       "text": [
        "\n",
        "California"
       ]
      },
      {
       "output_type": "stream",
       "stream": "stdout",
       "text": [
        "\n",
        "670"
       ]
      },
      {
       "output_type": "stream",
       "stream": "stdout",
       "text": [
        "\n",
        "680"
       ]
      },
      {
       "output_type": "stream",
       "stream": "stdout",
       "text": [
        "\n",
        "690"
       ]
      },
      {
       "output_type": "stream",
       "stream": "stdout",
       "text": [
        "\n",
        "700"
       ]
      },
      {
       "output_type": "stream",
       "stream": "stdout",
       "text": [
        "\n",
        "710"
       ]
      },
      {
       "output_type": "stream",
       "stream": "stdout",
       "text": [
        "\n",
        "720"
       ]
      },
      {
       "output_type": "stream",
       "stream": "stdout",
       "text": [
        "\n",
        "730"
       ]
      },
      {
       "output_type": "stream",
       "stream": "stdout",
       "text": [
        "\n",
        "740"
       ]
      },
      {
       "output_type": "stream",
       "stream": "stdout",
       "text": [
        "\n",
        "750"
       ]
      },
      {
       "output_type": "stream",
       "stream": "stdout",
       "text": [
        "\n",
        "760"
       ]
      },
      {
       "output_type": "stream",
       "stream": "stdout",
       "text": [
        "\n",
        "770"
       ]
      },
      {
       "output_type": "stream",
       "stream": "stdout",
       "text": [
        "\n",
        "780"
       ]
      },
      {
       "output_type": "stream",
       "stream": "stdout",
       "text": [
        "\n",
        "790"
       ]
      },
      {
       "output_type": "stream",
       "stream": "stdout",
       "text": [
        "\n",
        "800"
       ]
      },
      {
       "output_type": "stream",
       "stream": "stdout",
       "text": [
        "\n",
        "810"
       ]
      },
      {
       "output_type": "stream",
       "stream": "stdout",
       "text": [
        "\n",
        "820"
       ]
      },
      {
       "output_type": "stream",
       "stream": "stdout",
       "text": [
        "\n",
        "830"
       ]
      },
      {
       "output_type": "stream",
       "stream": "stdout",
       "text": [
        "\n",
        "840"
       ]
      },
      {
       "output_type": "stream",
       "stream": "stdout",
       "text": [
        "\n",
        "850"
       ]
      },
      {
       "output_type": "stream",
       "stream": "stdout",
       "text": [
        "\n",
        "860"
       ]
      },
      {
       "output_type": "stream",
       "stream": "stdout",
       "text": [
        "\n",
        "870"
       ]
      },
      {
       "output_type": "stream",
       "stream": "stdout",
       "text": [
        "\n",
        "880"
       ]
      },
      {
       "output_type": "stream",
       "stream": "stdout",
       "text": [
        "\n",
        "890"
       ]
      },
      {
       "output_type": "stream",
       "stream": "stdout",
       "text": [
        "\n",
        "900"
       ]
      },
      {
       "output_type": "stream",
       "stream": "stdout",
       "text": [
        "\n",
        "910"
       ]
      },
      {
       "output_type": "stream",
       "stream": "stdout",
       "text": [
        "\n",
        "920"
       ]
      },
      {
       "output_type": "stream",
       "stream": "stdout",
       "text": [
        "\n",
        "930"
       ]
      },
      {
       "output_type": "stream",
       "stream": "stdout",
       "text": [
        "\n",
        "940"
       ]
      },
      {
       "output_type": "stream",
       "stream": "stdout",
       "text": [
        "\n",
        "950"
       ]
      },
      {
       "output_type": "stream",
       "stream": "stdout",
       "text": [
        "\n",
        "960"
       ]
      },
      {
       "output_type": "stream",
       "stream": "stdout",
       "text": [
        "\n",
        "970"
       ]
      },
      {
       "output_type": "stream",
       "stream": "stdout",
       "text": [
        "\n",
        "980"
       ]
      },
      {
       "output_type": "stream",
       "stream": "stdout",
       "text": [
        "\n",
        "990"
       ]
      },
      {
       "output_type": "stream",
       "stream": "stdout",
       "text": [
        "\n",
        "1000"
       ]
      },
      {
       "output_type": "stream",
       "stream": "stdout",
       "text": [
        "\n",
        "1010"
       ]
      },
      {
       "output_type": "stream",
       "stream": "stdout",
       "text": [
        "\n",
        "1020"
       ]
      },
      {
       "output_type": "stream",
       "stream": "stdout",
       "text": [
        "\n",
        "1030"
       ]
      },
      {
       "output_type": "stream",
       "stream": "stdout",
       "text": [
        "\n",
        "1040"
       ]
      },
      {
       "output_type": "stream",
       "stream": "stdout",
       "text": [
        "\n",
        "1050"
       ]
      },
      {
       "output_type": "stream",
       "stream": "stdout",
       "text": [
        "\n",
        "1060"
       ]
      },
      {
       "output_type": "stream",
       "stream": "stdout",
       "text": [
        "\n",
        "1070"
       ]
      },
      {
       "output_type": "stream",
       "stream": "stdout",
       "text": [
        "\n",
        "1080"
       ]
      },
      {
       "output_type": "stream",
       "stream": "stdout",
       "text": [
        "\n",
        "1090"
       ]
      },
      {
       "output_type": "stream",
       "stream": "stdout",
       "text": [
        "\n",
        "1100"
       ]
      },
      {
       "output_type": "stream",
       "stream": "stdout",
       "text": [
        "\n",
        "1110"
       ]
      },
      {
       "output_type": "stream",
       "stream": "stdout",
       "text": [
        "\n",
        "1120"
       ]
      },
      {
       "output_type": "stream",
       "stream": "stdout",
       "text": [
        "\n",
        "1130"
       ]
      },
      {
       "output_type": "stream",
       "stream": "stdout",
       "text": [
        "\n",
        "1140"
       ]
      },
      {
       "output_type": "stream",
       "stream": "stdout",
       "text": [
        "\n",
        "1150"
       ]
      },
      {
       "output_type": "stream",
       "stream": "stdout",
       "text": [
        "\n",
        "1160"
       ]
      },
      {
       "output_type": "stream",
       "stream": "stdout",
       "text": [
        "\n",
        "1170"
       ]
      },
      {
       "output_type": "stream",
       "stream": "stdout",
       "text": [
        "\n",
        "1180"
       ]
      },
      {
       "output_type": "stream",
       "stream": "stdout",
       "text": [
        "\n",
        "1190"
       ]
      },
      {
       "output_type": "stream",
       "stream": "stdout",
       "text": [
        "\n",
        "1200"
       ]
      },
      {
       "output_type": "stream",
       "stream": "stdout",
       "text": [
        "\n",
        "1210"
       ]
      },
      {
       "output_type": "stream",
       "stream": "stdout",
       "text": [
        "\n",
        "1220"
       ]
      },
      {
       "output_type": "stream",
       "stream": "stdout",
       "text": [
        "\n",
        "1230"
       ]
      },
      {
       "output_type": "stream",
       "stream": "stdout",
       "text": [
        "\n",
        "1240"
       ]
      },
      {
       "output_type": "stream",
       "stream": "stdout",
       "text": [
        "\n",
        "1250"
       ]
      },
      {
       "output_type": "stream",
       "stream": "stdout",
       "text": [
        "\n",
        "1260"
       ]
      },
      {
       "output_type": "stream",
       "stream": "stdout",
       "text": [
        "\n",
        "1270"
       ]
      },
      {
       "output_type": "stream",
       "stream": "stdout",
       "text": [
        "\n",
        "1280"
       ]
      },
      {
       "output_type": "stream",
       "stream": "stdout",
       "text": [
        "\n",
        "1290"
       ]
      },
      {
       "output_type": "stream",
       "stream": "stdout",
       "text": [
        "\n",
        "1300"
       ]
      },
      {
       "output_type": "stream",
       "stream": "stdout",
       "text": [
        "\n",
        "1310"
       ]
      },
      {
       "output_type": "stream",
       "stream": "stdout",
       "text": [
        "\n",
        "1320"
       ]
      },
      {
       "output_type": "stream",
       "stream": "stdout",
       "text": [
        "\n",
        "1330"
       ]
      },
      {
       "output_type": "stream",
       "stream": "stdout",
       "text": [
        "\n",
        "1340"
       ]
      },
      {
       "output_type": "stream",
       "stream": "stdout",
       "text": [
        "\n",
        "1350"
       ]
      },
      {
       "output_type": "stream",
       "stream": "stdout",
       "text": [
        "\n",
        "1360"
       ]
      },
      {
       "output_type": "stream",
       "stream": "stdout",
       "text": [
        "\n",
        "1370"
       ]
      },
      {
       "output_type": "stream",
       "stream": "stdout",
       "text": [
        "\n",
        "1380"
       ]
      },
      {
       "output_type": "stream",
       "stream": "stdout",
       "text": [
        "\n",
        "1390"
       ]
      },
      {
       "output_type": "stream",
       "stream": "stdout",
       "text": [
        "\n",
        "1400"
       ]
      },
      {
       "output_type": "stream",
       "stream": "stdout",
       "text": [
        "\n",
        "1410"
       ]
      },
      {
       "output_type": "stream",
       "stream": "stdout",
       "text": [
        "\n",
        "1420"
       ]
      },
      {
       "output_type": "stream",
       "stream": "stdout",
       "text": [
        "\n",
        "1430"
       ]
      },
      {
       "output_type": "stream",
       "stream": "stdout",
       "text": [
        "\n",
        "1440"
       ]
      },
      {
       "output_type": "stream",
       "stream": "stdout",
       "text": [
        "\n",
        "1450"
       ]
      },
      {
       "output_type": "stream",
       "stream": "stdout",
       "text": [
        "\n",
        "1460"
       ]
      },
      {
       "output_type": "stream",
       "stream": "stdout",
       "text": [
        "\n",
        "1470"
       ]
      },
      {
       "output_type": "stream",
       "stream": "stdout",
       "text": [
        "\n",
        "1480"
       ]
      },
      {
       "output_type": "stream",
       "stream": "stdout",
       "text": [
        "\n",
        "1490"
       ]
      },
      {
       "output_type": "stream",
       "stream": "stdout",
       "text": [
        "\n",
        "1500"
       ]
      },
      {
       "output_type": "stream",
       "stream": "stdout",
       "text": [
        "\n",
        "1510"
       ]
      },
      {
       "output_type": "stream",
       "stream": "stdout",
       "text": [
        "\n",
        "1520"
       ]
      },
      {
       "output_type": "stream",
       "stream": "stdout",
       "text": [
        "\n",
        "1530"
       ]
      },
      {
       "output_type": "stream",
       "stream": "stdout",
       "text": [
        "\n",
        "1540"
       ]
      },
      {
       "output_type": "stream",
       "stream": "stdout",
       "text": [
        "\n",
        "1550"
       ]
      },
      {
       "output_type": "stream",
       "stream": "stdout",
       "text": [
        "\n",
        "1560"
       ]
      },
      {
       "output_type": "stream",
       "stream": "stdout",
       "text": [
        "\n",
        "1570"
       ]
      },
      {
       "output_type": "stream",
       "stream": "stdout",
       "text": [
        "\n",
        "1580"
       ]
      },
      {
       "output_type": "stream",
       "stream": "stdout",
       "text": [
        "\n",
        "1590"
       ]
      },
      {
       "output_type": "stream",
       "stream": "stdout",
       "text": [
        "\n",
        "1600"
       ]
      },
      {
       "output_type": "stream",
       "stream": "stdout",
       "text": [
        "\n",
        "1610"
       ]
      },
      {
       "output_type": "stream",
       "stream": "stdout",
       "text": [
        "\n",
        "1620"
       ]
      },
      {
       "output_type": "stream",
       "stream": "stdout",
       "text": [
        "\n",
        "1630"
       ]
      },
      {
       "output_type": "stream",
       "stream": "stdout",
       "text": [
        "\n",
        "1640"
       ]
      },
      {
       "output_type": "stream",
       "stream": "stdout",
       "text": [
        "\n",
        "1650"
       ]
      },
      {
       "output_type": "stream",
       "stream": "stdout",
       "text": [
        "\n",
        "1660"
       ]
      },
      {
       "output_type": "stream",
       "stream": "stdout",
       "text": [
        "\n",
        "1670"
       ]
      },
      {
       "output_type": "stream",
       "stream": "stdout",
       "text": [
        "\n",
        "1680"
       ]
      },
      {
       "output_type": "stream",
       "stream": "stdout",
       "text": [
        "\n",
        "1690"
       ]
      },
      {
       "output_type": "stream",
       "stream": "stdout",
       "text": [
        "\n",
        "1700"
       ]
      },
      {
       "output_type": "stream",
       "stream": "stdout",
       "text": [
        "\n",
        "1710"
       ]
      },
      {
       "output_type": "stream",
       "stream": "stdout",
       "text": [
        "\n",
        "1720"
       ]
      },
      {
       "output_type": "stream",
       "stream": "stdout",
       "text": [
        "\n",
        "1730"
       ]
      },
      {
       "output_type": "stream",
       "stream": "stdout",
       "text": [
        "\n",
        "1740"
       ]
      },
      {
       "output_type": "stream",
       "stream": "stdout",
       "text": [
        "\n",
        "1750"
       ]
      },
      {
       "output_type": "stream",
       "stream": "stdout",
       "text": [
        "\n",
        "1760"
       ]
      },
      {
       "output_type": "stream",
       "stream": "stdout",
       "text": [
        "\n",
        "1770"
       ]
      },
      {
       "output_type": "stream",
       "stream": "stdout",
       "text": [
        "\n",
        "1780"
       ]
      },
      {
       "output_type": "stream",
       "stream": "stdout",
       "text": [
        "\n",
        "1790"
       ]
      },
      {
       "output_type": "stream",
       "stream": "stdout",
       "text": [
        "\n",
        "1800"
       ]
      },
      {
       "output_type": "stream",
       "stream": "stdout",
       "text": [
        "\n",
        "1810"
       ]
      },
      {
       "output_type": "stream",
       "stream": "stdout",
       "text": [
        "\n",
        "1820"
       ]
      },
      {
       "output_type": "stream",
       "stream": "stdout",
       "text": [
        "\n",
        "1830"
       ]
      },
      {
       "output_type": "stream",
       "stream": "stdout",
       "text": [
        "\n",
        "1840"
       ]
      },
      {
       "output_type": "stream",
       "stream": "stdout",
       "text": [
        "\n",
        "1850"
       ]
      },
      {
       "output_type": "stream",
       "stream": "stdout",
       "text": [
        "\n",
        "1860"
       ]
      },
      {
       "output_type": "stream",
       "stream": "stdout",
       "text": [
        "\n",
        "1870"
       ]
      },
      {
       "output_type": "stream",
       "stream": "stdout",
       "text": [
        "\n",
        "1880"
       ]
      },
      {
       "output_type": "stream",
       "stream": "stdout",
       "text": [
        "\n",
        "1890"
       ]
      },
      {
       "output_type": "stream",
       "stream": "stdout",
       "text": [
        "\n",
        "1900"
       ]
      },
      {
       "output_type": "stream",
       "stream": "stdout",
       "text": [
        "\n",
        "1910"
       ]
      },
      {
       "output_type": "stream",
       "stream": "stdout",
       "text": [
        "\n",
        "1920"
       ]
      },
      {
       "output_type": "stream",
       "stream": "stdout",
       "text": [
        "\n",
        "1930"
       ]
      },
      {
       "output_type": "stream",
       "stream": "stdout",
       "text": [
        "\n",
        "1940"
       ]
      },
      {
       "output_type": "stream",
       "stream": "stdout",
       "text": [
        "\n",
        "1950"
       ]
      },
      {
       "output_type": "stream",
       "stream": "stdout",
       "text": [
        "\n",
        "1960"
       ]
      },
      {
       "output_type": "stream",
       "stream": "stdout",
       "text": [
        "\n",
        "1970"
       ]
      },
      {
       "output_type": "stream",
       "stream": "stdout",
       "text": [
        "\n",
        "1980"
       ]
      },
      {
       "output_type": "stream",
       "stream": "stdout",
       "text": [
        "\n",
        "1990"
       ]
      },
      {
       "output_type": "stream",
       "stream": "stdout",
       "text": [
        "\n",
        "2000"
       ]
      },
      {
       "output_type": "stream",
       "stream": "stdout",
       "text": [
        "\n",
        "2010"
       ]
      },
      {
       "output_type": "stream",
       "stream": "stdout",
       "text": [
        "\n",
        "2020"
       ]
      },
      {
       "output_type": "stream",
       "stream": "stdout",
       "text": [
        "\n",
        "2030"
       ]
      },
      {
       "output_type": "stream",
       "stream": "stdout",
       "text": [
        "\n",
        "2040"
       ]
      },
      {
       "output_type": "stream",
       "stream": "stdout",
       "text": [
        "\n",
        "2050"
       ]
      },
      {
       "output_type": "stream",
       "stream": "stdout",
       "text": [
        "\n",
        "2060"
       ]
      },
      {
       "output_type": "stream",
       "stream": "stdout",
       "text": [
        "\n",
        "2070"
       ]
      },
      {
       "output_type": "stream",
       "stream": "stdout",
       "text": [
        "\n",
        "2080"
       ]
      },
      {
       "output_type": "stream",
       "stream": "stdout",
       "text": [
        "\n",
        "2090"
       ]
      },
      {
       "output_type": "stream",
       "stream": "stdout",
       "text": [
        "\n",
        "2100"
       ]
      },
      {
       "output_type": "stream",
       "stream": "stdout",
       "text": [
        "\n",
        "2110"
       ]
      },
      {
       "output_type": "stream",
       "stream": "stdout",
       "text": [
        "\n",
        "2120"
       ]
      },
      {
       "output_type": "stream",
       "stream": "stdout",
       "text": [
        "\n",
        "2130"
       ]
      },
      {
       "output_type": "stream",
       "stream": "stdout",
       "text": [
        "\n",
        "2140"
       ]
      },
      {
       "output_type": "stream",
       "stream": "stdout",
       "text": [
        "\n",
        "2150"
       ]
      },
      {
       "output_type": "stream",
       "stream": "stdout",
       "text": [
        "\n",
        "2160"
       ]
      },
      {
       "output_type": "stream",
       "stream": "stdout",
       "text": [
        "\n",
        "2170"
       ]
      },
      {
       "output_type": "stream",
       "stream": "stdout",
       "text": [
        "\n",
        "2180"
       ]
      },
      {
       "output_type": "stream",
       "stream": "stdout",
       "text": [
        "\n",
        "2190"
       ]
      },
      {
       "output_type": "stream",
       "stream": "stdout",
       "text": [
        "\n",
        "2200"
       ]
      },
      {
       "output_type": "stream",
       "stream": "stdout",
       "text": [
        "\n",
        "2210"
       ]
      },
      {
       "output_type": "stream",
       "stream": "stdout",
       "text": [
        "\n",
        "2220"
       ]
      },
      {
       "output_type": "stream",
       "stream": "stdout",
       "text": [
        "\n",
        "2230"
       ]
      },
      {
       "output_type": "stream",
       "stream": "stdout",
       "text": [
        "\n",
        "2240"
       ]
      },
      {
       "output_type": "stream",
       "stream": "stdout",
       "text": [
        "\n",
        "2250"
       ]
      },
      {
       "output_type": "stream",
       "stream": "stdout",
       "text": [
        "\n",
        "2260"
       ]
      },
      {
       "output_type": "stream",
       "stream": "stdout",
       "text": [
        "\n",
        "2270"
       ]
      },
      {
       "output_type": "stream",
       "stream": "stdout",
       "text": [
        "\n",
        "2280"
       ]
      },
      {
       "output_type": "stream",
       "stream": "stdout",
       "text": [
        "\n",
        "2290"
       ]
      },
      {
       "output_type": "stream",
       "stream": "stdout",
       "text": [
        "\n",
        "2300"
       ]
      },
      {
       "output_type": "stream",
       "stream": "stdout",
       "text": [
        "\n",
        "2310"
       ]
      },
      {
       "output_type": "stream",
       "stream": "stdout",
       "text": [
        "\n",
        "2320"
       ]
      },
      {
       "output_type": "stream",
       "stream": "stdout",
       "text": [
        "\n",
        "2330"
       ]
      },
      {
       "output_type": "stream",
       "stream": "stdout",
       "text": [
        "\n",
        "2340"
       ]
      },
      {
       "output_type": "stream",
       "stream": "stdout",
       "text": [
        "\n",
        "2350"
       ]
      },
      {
       "output_type": "stream",
       "stream": "stdout",
       "text": [
        "\n",
        "2360"
       ]
      },
      {
       "output_type": "stream",
       "stream": "stdout",
       "text": [
        "\n",
        "2370"
       ]
      },
      {
       "output_type": "stream",
       "stream": "stdout",
       "text": [
        "\n",
        "2380"
       ]
      },
      {
       "output_type": "stream",
       "stream": "stdout",
       "text": [
        "\n",
        "2390"
       ]
      },
      {
       "output_type": "stream",
       "stream": "stdout",
       "text": [
        "\n",
        "2400"
       ]
      },
      {
       "output_type": "stream",
       "stream": "stdout",
       "text": [
        "\n",
        "2410"
       ]
      },
      {
       "output_type": "stream",
       "stream": "stdout",
       "text": [
        "\n",
        "2420"
       ]
      },
      {
       "output_type": "stream",
       "stream": "stdout",
       "text": [
        "\n",
        "2430"
       ]
      },
      {
       "output_type": "stream",
       "stream": "stdout",
       "text": [
        "\n",
        "2440"
       ]
      },
      {
       "output_type": "stream",
       "stream": "stdout",
       "text": [
        "\n",
        "2450"
       ]
      },
      {
       "output_type": "stream",
       "stream": "stdout",
       "text": [
        "\n",
        "2460"
       ]
      },
      {
       "output_type": "stream",
       "stream": "stdout",
       "text": [
        "\n",
        "2470"
       ]
      },
      {
       "output_type": "stream",
       "stream": "stdout",
       "text": [
        "\n",
        "2480"
       ]
      },
      {
       "output_type": "stream",
       "stream": "stdout",
       "text": [
        "\n",
        "2490"
       ]
      },
      {
       "output_type": "stream",
       "stream": "stdout",
       "text": [
        "\n",
        "Colorado"
       ]
      },
      {
       "output_type": "stream",
       "stream": "stdout",
       "text": [
        "\n",
        "2500"
       ]
      },
      {
       "output_type": "stream",
       "stream": "stdout",
       "text": [
        "\n",
        "2510"
       ]
      },
      {
       "output_type": "stream",
       "stream": "stdout",
       "text": [
        "\n",
        "2520"
       ]
      },
      {
       "output_type": "stream",
       "stream": "stdout",
       "text": [
        "\n",
        "2530"
       ]
      },
      {
       "output_type": "stream",
       "stream": "stdout",
       "text": [
        "\n",
        "2540"
       ]
      },
      {
       "output_type": "stream",
       "stream": "stdout",
       "text": [
        "\n",
        "2550"
       ]
      },
      {
       "output_type": "stream",
       "stream": "stdout",
       "text": [
        "\n",
        "2560"
       ]
      },
      {
       "output_type": "stream",
       "stream": "stdout",
       "text": [
        "\n",
        "2570"
       ]
      },
      {
       "output_type": "stream",
       "stream": "stdout",
       "text": [
        "\n",
        "2580"
       ]
      },
      {
       "output_type": "stream",
       "stream": "stdout",
       "text": [
        "\n",
        "2590"
       ]
      },
      {
       "output_type": "stream",
       "stream": "stdout",
       "text": [
        "\n",
        "2600"
       ]
      },
      {
       "output_type": "stream",
       "stream": "stdout",
       "text": [
        "\n",
        "2610"
       ]
      },
      {
       "output_type": "stream",
       "stream": "stdout",
       "text": [
        "\n",
        "2620"
       ]
      },
      {
       "output_type": "stream",
       "stream": "stdout",
       "text": [
        "\n",
        "2630"
       ]
      },
      {
       "output_type": "stream",
       "stream": "stdout",
       "text": [
        "\n",
        "2640"
       ]
      },
      {
       "output_type": "stream",
       "stream": "stdout",
       "text": [
        "\n",
        "2650"
       ]
      },
      {
       "output_type": "stream",
       "stream": "stdout",
       "text": [
        "\n",
        "2660"
       ]
      },
      {
       "output_type": "stream",
       "stream": "stdout",
       "text": [
        "\n",
        "2670"
       ]
      },
      {
       "output_type": "stream",
       "stream": "stdout",
       "text": [
        "\n",
        "2680"
       ]
      },
      {
       "output_type": "stream",
       "stream": "stdout",
       "text": [
        "\n",
        "2690"
       ]
      },
      {
       "output_type": "stream",
       "stream": "stdout",
       "text": [
        "\n",
        "2700"
       ]
      },
      {
       "output_type": "stream",
       "stream": "stdout",
       "text": [
        "\n",
        "2710"
       ]
      },
      {
       "output_type": "stream",
       "stream": "stdout",
       "text": [
        "\n",
        "2720"
       ]
      },
      {
       "output_type": "stream",
       "stream": "stdout",
       "text": [
        "\n",
        "2730"
       ]
      },
      {
       "output_type": "stream",
       "stream": "stdout",
       "text": [
        "\n",
        "2740"
       ]
      },
      {
       "output_type": "stream",
       "stream": "stdout",
       "text": [
        "\n",
        "2750"
       ]
      },
      {
       "output_type": "stream",
       "stream": "stdout",
       "text": [
        "\n",
        "2760"
       ]
      },
      {
       "output_type": "stream",
       "stream": "stdout",
       "text": [
        "\n",
        "2770"
       ]
      },
      {
       "output_type": "stream",
       "stream": "stdout",
       "text": [
        "\n",
        "2780"
       ]
      },
      {
       "output_type": "stream",
       "stream": "stdout",
       "text": [
        "\n",
        "2790"
       ]
      },
      {
       "output_type": "stream",
       "stream": "stdout",
       "text": [
        "\n",
        "2800"
       ]
      },
      {
       "output_type": "stream",
       "stream": "stdout",
       "text": [
        "\n",
        "2810"
       ]
      },
      {
       "output_type": "stream",
       "stream": "stdout",
       "text": [
        "\n",
        "2820"
       ]
      },
      {
       "output_type": "stream",
       "stream": "stdout",
       "text": [
        "\n",
        "2830"
       ]
      },
      {
       "output_type": "stream",
       "stream": "stdout",
       "text": [
        "\n",
        "Connecticut"
       ]
      },
      {
       "output_type": "stream",
       "stream": "stdout",
       "text": [
        "\n",
        "2840"
       ]
      },
      {
       "output_type": "stream",
       "stream": "stdout",
       "text": [
        "\n",
        "2850"
       ]
      },
      {
       "output_type": "stream",
       "stream": "stdout",
       "text": [
        "\n",
        "2860"
       ]
      },
      {
       "output_type": "stream",
       "stream": "stdout",
       "text": [
        "\n",
        "2870"
       ]
      },
      {
       "output_type": "stream",
       "stream": "stdout",
       "text": [
        "\n",
        "2880"
       ]
      },
      {
       "output_type": "stream",
       "stream": "stdout",
       "text": [
        "\n",
        "2890"
       ]
      },
      {
       "output_type": "stream",
       "stream": "stdout",
       "text": [
        "\n",
        "2900"
       ]
      },
      {
       "output_type": "stream",
       "stream": "stdout",
       "text": [
        "\n",
        "2910"
       ]
      },
      {
       "output_type": "stream",
       "stream": "stdout",
       "text": [
        "\n",
        "2920"
       ]
      },
      {
       "output_type": "stream",
       "stream": "stdout",
       "text": [
        "\n",
        "2930"
       ]
      },
      {
       "output_type": "stream",
       "stream": "stdout",
       "text": [
        "\n",
        "2940"
       ]
      },
      {
       "output_type": "stream",
       "stream": "stdout",
       "text": [
        "\n",
        "2950"
       ]
      },
      {
       "output_type": "stream",
       "stream": "stdout",
       "text": [
        "\n",
        "2960"
       ]
      },
      {
       "output_type": "stream",
       "stream": "stdout",
       "text": [
        "\n",
        "2970"
       ]
      },
      {
       "output_type": "stream",
       "stream": "stdout",
       "text": [
        "\n",
        "2980"
       ]
      },
      {
       "output_type": "stream",
       "stream": "stdout",
       "text": [
        "\n",
        "2990"
       ]
      },
      {
       "output_type": "stream",
       "stream": "stdout",
       "text": [
        "\n",
        "3000"
       ]
      },
      {
       "output_type": "stream",
       "stream": "stdout",
       "text": [
        "\n",
        "3010"
       ]
      },
      {
       "output_type": "stream",
       "stream": "stdout",
       "text": [
        "\n",
        "3020"
       ]
      },
      {
       "output_type": "stream",
       "stream": "stdout",
       "text": [
        "\n",
        "3030"
       ]
      },
      {
       "output_type": "stream",
       "stream": "stdout",
       "text": [
        "\n",
        "3040"
       ]
      },
      {
       "output_type": "stream",
       "stream": "stdout",
       "text": [
        "\n",
        "3050"
       ]
      },
      {
       "output_type": "stream",
       "stream": "stdout",
       "text": [
        "\n",
        "3060"
       ]
      },
      {
       "output_type": "stream",
       "stream": "stdout",
       "text": [
        "\n",
        "Delaware"
       ]
      },
      {
       "output_type": "stream",
       "stream": "stdout",
       "text": [
        "\n",
        "3070"
       ]
      },
      {
       "output_type": "stream",
       "stream": "stdout",
       "text": [
        "\n",
        "3080"
       ]
      },
      {
       "output_type": "stream",
       "stream": "stdout",
       "text": [
        "\n",
        "3090"
       ]
      },
      {
       "output_type": "stream",
       "stream": "stdout",
       "text": [
        "\n",
        "District of Columbia"
       ]
      },
      {
       "output_type": "stream",
       "stream": "stdout",
       "text": [
        "\n",
        "3100"
       ]
      },
      {
       "output_type": "stream",
       "stream": "stdout",
       "text": [
        "\n",
        "3110"
       ]
      },
      {
       "output_type": "stream",
       "stream": "stdout",
       "text": [
        "\n",
        "3120"
       ]
      },
      {
       "output_type": "stream",
       "stream": "stdout",
       "text": [
        "\n",
        "3130"
       ]
      },
      {
       "output_type": "stream",
       "stream": "stdout",
       "text": [
        "\n",
        "3140"
       ]
      },
      {
       "output_type": "stream",
       "stream": "stdout",
       "text": [
        "\n",
        "3150"
       ]
      },
      {
       "output_type": "stream",
       "stream": "stdout",
       "text": [
        "\n",
        "3160"
       ]
      },
      {
       "output_type": "stream",
       "stream": "stdout",
       "text": [
        "\n",
        "3170"
       ]
      },
      {
       "output_type": "stream",
       "stream": "stdout",
       "text": [
        "\n",
        "3180"
       ]
      },
      {
       "output_type": "stream",
       "stream": "stdout",
       "text": [
        "\n",
        "Florida"
       ]
      },
      {
       "output_type": "stream",
       "stream": "stdout",
       "text": [
        "\n",
        "3190"
       ]
      },
      {
       "output_type": "stream",
       "stream": "stdout",
       "text": [
        "\n",
        "3200"
       ]
      },
      {
       "output_type": "stream",
       "stream": "stdout",
       "text": [
        "\n",
        "3210"
       ]
      },
      {
       "output_type": "stream",
       "stream": "stdout",
       "text": [
        "\n",
        "3220"
       ]
      },
      {
       "output_type": "stream",
       "stream": "stdout",
       "text": [
        "\n",
        "3230"
       ]
      },
      {
       "output_type": "stream",
       "stream": "stdout",
       "text": [
        "\n",
        "3240"
       ]
      },
      {
       "output_type": "stream",
       "stream": "stdout",
       "text": [
        "\n",
        "3250"
       ]
      },
      {
       "output_type": "stream",
       "stream": "stdout",
       "text": [
        "\n",
        "3260"
       ]
      },
      {
       "output_type": "stream",
       "stream": "stdout",
       "text": [
        "\n",
        "3270"
       ]
      },
      {
       "output_type": "stream",
       "stream": "stdout",
       "text": [
        "\n",
        "3280"
       ]
      },
      {
       "output_type": "stream",
       "stream": "stdout",
       "text": [
        "\n",
        "3290"
       ]
      },
      {
       "output_type": "stream",
       "stream": "stdout",
       "text": [
        "\n",
        "3300"
       ]
      },
      {
       "output_type": "stream",
       "stream": "stdout",
       "text": [
        "\n",
        "3310"
       ]
      },
      {
       "output_type": "stream",
       "stream": "stdout",
       "text": [
        "\n",
        "3320"
       ]
      },
      {
       "output_type": "stream",
       "stream": "stdout",
       "text": [
        "\n",
        "3330"
       ]
      },
      {
       "output_type": "stream",
       "stream": "stdout",
       "text": [
        "\n",
        "3340"
       ]
      },
      {
       "output_type": "stream",
       "stream": "stdout",
       "text": [
        "\n",
        "3350"
       ]
      },
      {
       "output_type": "stream",
       "stream": "stdout",
       "text": [
        "\n",
        "3360"
       ]
      },
      {
       "output_type": "stream",
       "stream": "stdout",
       "text": [
        "\n",
        "3370"
       ]
      },
      {
       "output_type": "stream",
       "stream": "stdout",
       "text": [
        "\n",
        "3380"
       ]
      },
      {
       "output_type": "stream",
       "stream": "stdout",
       "text": [
        "\n",
        "3390"
       ]
      },
      {
       "output_type": "stream",
       "stream": "stdout",
       "text": [
        "\n",
        "3400"
       ]
      },
      {
       "output_type": "stream",
       "stream": "stdout",
       "text": [
        "\n",
        "3410"
       ]
      },
      {
       "output_type": "stream",
       "stream": "stdout",
       "text": [
        "\n",
        "3420"
       ]
      },
      {
       "output_type": "stream",
       "stream": "stdout",
       "text": [
        "\n",
        "3430"
       ]
      },
      {
       "output_type": "stream",
       "stream": "stdout",
       "text": [
        "\n",
        "3440"
       ]
      },
      {
       "output_type": "stream",
       "stream": "stdout",
       "text": [
        "\n",
        "3450"
       ]
      },
      {
       "output_type": "stream",
       "stream": "stdout",
       "text": [
        "\n",
        "3460"
       ]
      },
      {
       "output_type": "stream",
       "stream": "stdout",
       "text": [
        "\n",
        "3470"
       ]
      },
      {
       "output_type": "stream",
       "stream": "stdout",
       "text": [
        "\n",
        "3480"
       ]
      },
      {
       "output_type": "stream",
       "stream": "stdout",
       "text": [
        "\n",
        "3490"
       ]
      },
      {
       "output_type": "stream",
       "stream": "stdout",
       "text": [
        "\n",
        "3500"
       ]
      },
      {
       "output_type": "stream",
       "stream": "stdout",
       "text": [
        "\n",
        "3510"
       ]
      },
      {
       "output_type": "stream",
       "stream": "stdout",
       "text": [
        "\n",
        "3520"
       ]
      },
      {
       "output_type": "stream",
       "stream": "stdout",
       "text": [
        "\n",
        "3530"
       ]
      },
      {
       "output_type": "stream",
       "stream": "stdout",
       "text": [
        "\n",
        "3540"
       ]
      },
      {
       "output_type": "stream",
       "stream": "stdout",
       "text": [
        "\n",
        "3550"
       ]
      },
      {
       "output_type": "stream",
       "stream": "stdout",
       "text": [
        "\n",
        "3560"
       ]
      },
      {
       "output_type": "stream",
       "stream": "stdout",
       "text": [
        "\n",
        "3570"
       ]
      },
      {
       "output_type": "stream",
       "stream": "stdout",
       "text": [
        "\n",
        "3580"
       ]
      },
      {
       "output_type": "stream",
       "stream": "stdout",
       "text": [
        "\n",
        "3590"
       ]
      },
      {
       "output_type": "stream",
       "stream": "stdout",
       "text": [
        "\n",
        "3600"
       ]
      },
      {
       "output_type": "stream",
       "stream": "stdout",
       "text": [
        "\n",
        "3610"
       ]
      },
      {
       "output_type": "stream",
       "stream": "stdout",
       "text": [
        "\n",
        "3620"
       ]
      },
      {
       "output_type": "stream",
       "stream": "stdout",
       "text": [
        "\n",
        "3630"
       ]
      },
      {
       "output_type": "stream",
       "stream": "stdout",
       "text": [
        "\n",
        "3640"
       ]
      },
      {
       "output_type": "stream",
       "stream": "stdout",
       "text": [
        "\n",
        "3650"
       ]
      },
      {
       "output_type": "stream",
       "stream": "stdout",
       "text": [
        "\n",
        "3660"
       ]
      },
      {
       "output_type": "stream",
       "stream": "stdout",
       "text": [
        "\n",
        "3670"
       ]
      },
      {
       "output_type": "stream",
       "stream": "stdout",
       "text": [
        "\n",
        "3680"
       ]
      },
      {
       "output_type": "stream",
       "stream": "stdout",
       "text": [
        "\n",
        "3690"
       ]
      },
      {
       "output_type": "stream",
       "stream": "stdout",
       "text": [
        "\n",
        "3700"
       ]
      },
      {
       "output_type": "stream",
       "stream": "stdout",
       "text": [
        "\n",
        "3710"
       ]
      },
      {
       "output_type": "stream",
       "stream": "stdout",
       "text": [
        "\n",
        "3720"
       ]
      },
      {
       "output_type": "stream",
       "stream": "stdout",
       "text": [
        "\n",
        "3730"
       ]
      },
      {
       "output_type": "stream",
       "stream": "stdout",
       "text": [
        "\n",
        "3740"
       ]
      },
      {
       "output_type": "stream",
       "stream": "stdout",
       "text": [
        "\n",
        "3750"
       ]
      },
      {
       "output_type": "stream",
       "stream": "stdout",
       "text": [
        "\n",
        "3760"
       ]
      },
      {
       "output_type": "stream",
       "stream": "stdout",
       "text": [
        "\n",
        "3770"
       ]
      },
      {
       "output_type": "stream",
       "stream": "stdout",
       "text": [
        "\n",
        "3780"
       ]
      },
      {
       "output_type": "stream",
       "stream": "stdout",
       "text": [
        "\n",
        "3790"
       ]
      },
      {
       "output_type": "stream",
       "stream": "stdout",
       "text": [
        "\n",
        "3800"
       ]
      },
      {
       "output_type": "stream",
       "stream": "stdout",
       "text": [
        "\n",
        "3810"
       ]
      },
      {
       "output_type": "stream",
       "stream": "stdout",
       "text": [
        "\n",
        "3820"
       ]
      },
      {
       "output_type": "stream",
       "stream": "stdout",
       "text": [
        "\n",
        "3830"
       ]
      },
      {
       "output_type": "stream",
       "stream": "stdout",
       "text": [
        "\n",
        "3840"
       ]
      },
      {
       "output_type": "stream",
       "stream": "stdout",
       "text": [
        "\n",
        "3850"
       ]
      },
      {
       "output_type": "stream",
       "stream": "stdout",
       "text": [
        "\n",
        "3860"
       ]
      },
      {
       "output_type": "stream",
       "stream": "stdout",
       "text": [
        "\n",
        "3870"
       ]
      },
      {
       "output_type": "stream",
       "stream": "stdout",
       "text": [
        "\n",
        "3880"
       ]
      },
      {
       "output_type": "stream",
       "stream": "stdout",
       "text": [
        "\n",
        "3890"
       ]
      },
      {
       "output_type": "stream",
       "stream": "stdout",
       "text": [
        "\n",
        "3900"
       ]
      },
      {
       "output_type": "stream",
       "stream": "stdout",
       "text": [
        "\n",
        "3910"
       ]
      },
      {
       "output_type": "stream",
       "stream": "stdout",
       "text": [
        "\n",
        "3920"
       ]
      },
      {
       "output_type": "stream",
       "stream": "stdout",
       "text": [
        "\n",
        "3930"
       ]
      },
      {
       "output_type": "stream",
       "stream": "stdout",
       "text": [
        "\n",
        "3940"
       ]
      },
      {
       "output_type": "stream",
       "stream": "stdout",
       "text": [
        "\n",
        "3950"
       ]
      },
      {
       "output_type": "stream",
       "stream": "stdout",
       "text": [
        "\n",
        "3960"
       ]
      },
      {
       "output_type": "stream",
       "stream": "stdout",
       "text": [
        "\n",
        "3970"
       ]
      },
      {
       "output_type": "stream",
       "stream": "stdout",
       "text": [
        "\n",
        "3980"
       ]
      },
      {
       "output_type": "stream",
       "stream": "stdout",
       "text": [
        "\n",
        "3990"
       ]
      },
      {
       "output_type": "stream",
       "stream": "stdout",
       "text": [
        "\n",
        "4000"
       ]
      },
      {
       "output_type": "stream",
       "stream": "stdout",
       "text": [
        "\n",
        "4010"
       ]
      },
      {
       "output_type": "stream",
       "stream": "stdout",
       "text": [
        "\n",
        "4020"
       ]
      },
      {
       "output_type": "stream",
       "stream": "stdout",
       "text": [
        "\n",
        "4030"
       ]
      },
      {
       "output_type": "stream",
       "stream": "stdout",
       "text": [
        "\n",
        "4040"
       ]
      },
      {
       "output_type": "stream",
       "stream": "stdout",
       "text": [
        "\n",
        "4050"
       ]
      },
      {
       "output_type": "stream",
       "stream": "stdout",
       "text": [
        "\n",
        "4060"
       ]
      },
      {
       "output_type": "stream",
       "stream": "stdout",
       "text": [
        "\n",
        "4070"
       ]
      },
      {
       "output_type": "stream",
       "stream": "stdout",
       "text": [
        "\n",
        "4080"
       ]
      },
      {
       "output_type": "stream",
       "stream": "stdout",
       "text": [
        "\n",
        "4090"
       ]
      },
      {
       "output_type": "stream",
       "stream": "stdout",
       "text": [
        "\n",
        "4100"
       ]
      },
      {
       "output_type": "stream",
       "stream": "stdout",
       "text": [
        "\n",
        "4110"
       ]
      },
      {
       "output_type": "stream",
       "stream": "stdout",
       "text": [
        "\n",
        "4120"
       ]
      },
      {
       "output_type": "stream",
       "stream": "stdout",
       "text": [
        "\n",
        "4130"
       ]
      },
      {
       "output_type": "stream",
       "stream": "stdout",
       "text": [
        "\n",
        "4140"
       ]
      },
      {
       "output_type": "stream",
       "stream": "stdout",
       "text": [
        "\n",
        "4150"
       ]
      },
      {
       "output_type": "stream",
       "stream": "stdout",
       "text": [
        "\n",
        "4160"
       ]
      },
      {
       "output_type": "stream",
       "stream": "stdout",
       "text": [
        "\n",
        "4170"
       ]
      },
      {
       "output_type": "stream",
       "stream": "stdout",
       "text": [
        "\n",
        "4180"
       ]
      },
      {
       "output_type": "stream",
       "stream": "stdout",
       "text": [
        "\n",
        "4190"
       ]
      },
      {
       "output_type": "stream",
       "stream": "stdout",
       "text": [
        "\n",
        "4200"
       ]
      },
      {
       "output_type": "stream",
       "stream": "stdout",
       "text": [
        "\n",
        "4210"
       ]
      },
      {
       "output_type": "stream",
       "stream": "stdout",
       "text": [
        "\n",
        "4220"
       ]
      },
      {
       "output_type": "stream",
       "stream": "stdout",
       "text": [
        "\n",
        "4230"
       ]
      },
      {
       "output_type": "stream",
       "stream": "stdout",
       "text": [
        "\n",
        "4240"
       ]
      },
      {
       "output_type": "stream",
       "stream": "stdout",
       "text": [
        "\n",
        "4250"
       ]
      },
      {
       "output_type": "stream",
       "stream": "stdout",
       "text": [
        "\n",
        "4260"
       ]
      },
      {
       "output_type": "stream",
       "stream": "stdout",
       "text": [
        "\n",
        "4270"
       ]
      },
      {
       "output_type": "stream",
       "stream": "stdout",
       "text": [
        "\n",
        "4280"
       ]
      },
      {
       "output_type": "stream",
       "stream": "stdout",
       "text": [
        "\n",
        "4290"
       ]
      },
      {
       "output_type": "stream",
       "stream": "stdout",
       "text": [
        "\n",
        "4300"
       ]
      },
      {
       "output_type": "stream",
       "stream": "stdout",
       "text": [
        "\n",
        "4310"
       ]
      },
      {
       "output_type": "stream",
       "stream": "stdout",
       "text": [
        "\n",
        "4320"
       ]
      },
      {
       "output_type": "stream",
       "stream": "stdout",
       "text": [
        "\n",
        "4330"
       ]
      },
      {
       "output_type": "stream",
       "stream": "stdout",
       "text": [
        "\n",
        "4340"
       ]
      },
      {
       "output_type": "stream",
       "stream": "stdout",
       "text": [
        "\n",
        "4350"
       ]
      },
      {
       "output_type": "stream",
       "stream": "stdout",
       "text": [
        "\n",
        "4360"
       ]
      },
      {
       "output_type": "stream",
       "stream": "stdout",
       "text": [
        "\n",
        "4370"
       ]
      },
      {
       "output_type": "stream",
       "stream": "stdout",
       "text": [
        "\n",
        "4380"
       ]
      },
      {
       "output_type": "stream",
       "stream": "stdout",
       "text": [
        "\n",
        "4390"
       ]
      },
      {
       "output_type": "stream",
       "stream": "stdout",
       "text": [
        "\n",
        "4400"
       ]
      },
      {
       "output_type": "stream",
       "stream": "stdout",
       "text": [
        "\n",
        "4410"
       ]
      },
      {
       "output_type": "stream",
       "stream": "stdout",
       "text": [
        "\n",
        "4420"
       ]
      },
      {
       "output_type": "stream",
       "stream": "stdout",
       "text": [
        "\n",
        "Georgia"
       ]
      },
      {
       "output_type": "stream",
       "stream": "stdout",
       "text": [
        "\n",
        "4430"
       ]
      },
      {
       "output_type": "stream",
       "stream": "stdout",
       "text": [
        "\n",
        "4440"
       ]
      },
      {
       "output_type": "stream",
       "stream": "stdout",
       "text": [
        "\n",
        "4450"
       ]
      },
      {
       "output_type": "stream",
       "stream": "stdout",
       "text": [
        "\n",
        "4460"
       ]
      },
      {
       "output_type": "stream",
       "stream": "stdout",
       "text": [
        "\n",
        "4470"
       ]
      },
      {
       "output_type": "stream",
       "stream": "stdout",
       "text": [
        "\n",
        "4480"
       ]
      },
      {
       "output_type": "stream",
       "stream": "stdout",
       "text": [
        "\n",
        "4490"
       ]
      },
      {
       "output_type": "stream",
       "stream": "stdout",
       "text": [
        "\n",
        "4500"
       ]
      },
      {
       "output_type": "stream",
       "stream": "stdout",
       "text": [
        "\n",
        "4510"
       ]
      },
      {
       "output_type": "stream",
       "stream": "stdout",
       "text": [
        "\n",
        "4520"
       ]
      },
      {
       "output_type": "stream",
       "stream": "stdout",
       "text": [
        "\n",
        "4530"
       ]
      },
      {
       "output_type": "stream",
       "stream": "stdout",
       "text": [
        "\n",
        "4540"
       ]
      },
      {
       "output_type": "stream",
       "stream": "stdout",
       "text": [
        "\n",
        "4550"
       ]
      },
      {
       "output_type": "stream",
       "stream": "stdout",
       "text": [
        "\n",
        "4560"
       ]
      },
      {
       "output_type": "stream",
       "stream": "stdout",
       "text": [
        "\n",
        "4570"
       ]
      },
      {
       "output_type": "stream",
       "stream": "stdout",
       "text": [
        "\n",
        "4580"
       ]
      },
      {
       "output_type": "stream",
       "stream": "stdout",
       "text": [
        "\n",
        "4590"
       ]
      },
      {
       "output_type": "stream",
       "stream": "stdout",
       "text": [
        "\n",
        "4600"
       ]
      },
      {
       "output_type": "stream",
       "stream": "stdout",
       "text": [
        "\n",
        "4610"
       ]
      },
      {
       "output_type": "stream",
       "stream": "stdout",
       "text": [
        "\n",
        "4620"
       ]
      },
      {
       "output_type": "stream",
       "stream": "stdout",
       "text": [
        "\n",
        "4630"
       ]
      },
      {
       "output_type": "stream",
       "stream": "stdout",
       "text": [
        "\n",
        "4640"
       ]
      },
      {
       "output_type": "stream",
       "stream": "stdout",
       "text": [
        "\n",
        "4650"
       ]
      },
      {
       "output_type": "stream",
       "stream": "stdout",
       "text": [
        "\n",
        "4660"
       ]
      },
      {
       "output_type": "stream",
       "stream": "stdout",
       "text": [
        "\n",
        "4670"
       ]
      },
      {
       "output_type": "stream",
       "stream": "stdout",
       "text": [
        "\n",
        "4680"
       ]
      },
      {
       "output_type": "stream",
       "stream": "stdout",
       "text": [
        "\n",
        "4690"
       ]
      },
      {
       "output_type": "stream",
       "stream": "stdout",
       "text": [
        "\n",
        "4700"
       ]
      },
      {
       "output_type": "stream",
       "stream": "stdout",
       "text": [
        "\n",
        "4710"
       ]
      },
      {
       "output_type": "stream",
       "stream": "stdout",
       "text": [
        "\n",
        "4720"
       ]
      },
      {
       "output_type": "stream",
       "stream": "stdout",
       "text": [
        "\n",
        "4730"
       ]
      },
      {
       "output_type": "stream",
       "stream": "stdout",
       "text": [
        "\n",
        "4740"
       ]
      },
      {
       "output_type": "stream",
       "stream": "stdout",
       "text": [
        "\n",
        "4750"
       ]
      },
      {
       "output_type": "stream",
       "stream": "stdout",
       "text": [
        "\n",
        "4760"
       ]
      },
      {
       "output_type": "stream",
       "stream": "stdout",
       "text": [
        "\n",
        "4770"
       ]
      },
      {
       "output_type": "stream",
       "stream": "stdout",
       "text": [
        "\n",
        "4780"
       ]
      },
      {
       "output_type": "stream",
       "stream": "stdout",
       "text": [
        "\n",
        "4790"
       ]
      },
      {
       "output_type": "stream",
       "stream": "stdout",
       "text": [
        "\n",
        "4800"
       ]
      },
      {
       "output_type": "stream",
       "stream": "stdout",
       "text": [
        "\n",
        "4810"
       ]
      },
      {
       "output_type": "stream",
       "stream": "stdout",
       "text": [
        "\n",
        "4820"
       ]
      },
      {
       "output_type": "stream",
       "stream": "stdout",
       "text": [
        "\n",
        "4830"
       ]
      },
      {
       "output_type": "stream",
       "stream": "stdout",
       "text": [
        "\n",
        "4840"
       ]
      },
      {
       "output_type": "stream",
       "stream": "stdout",
       "text": [
        "\n",
        "4850"
       ]
      },
      {
       "output_type": "stream",
       "stream": "stdout",
       "text": [
        "\n",
        "4860"
       ]
      },
      {
       "output_type": "stream",
       "stream": "stdout",
       "text": [
        "\n",
        "4870"
       ]
      },
      {
       "output_type": "stream",
       "stream": "stdout",
       "text": [
        "\n",
        "Hawaii"
       ]
      },
      {
       "output_type": "stream",
       "stream": "stdout",
       "text": [
        "\n",
        "4880"
       ]
      },
      {
       "output_type": "stream",
       "stream": "stdout",
       "text": [
        "\n",
        "4890"
       ]
      },
      {
       "output_type": "stream",
       "stream": "stdout",
       "text": [
        "\n",
        "4900"
       ]
      },
      {
       "output_type": "stream",
       "stream": "stdout",
       "text": [
        "\n",
        "4910"
       ]
      },
      {
       "output_type": "stream",
       "stream": "stdout",
       "text": [
        "\n",
        "4920"
       ]
      },
      {
       "output_type": "stream",
       "stream": "stdout",
       "text": [
        "\n",
        "Idaho"
       ]
      },
      {
       "output_type": "stream",
       "stream": "stdout",
       "text": [
        "\n",
        "4930"
       ]
      },
      {
       "output_type": "stream",
       "stream": "stdout",
       "text": [
        "\n",
        "4940"
       ]
      },
      {
       "output_type": "stream",
       "stream": "stdout",
       "text": [
        "\n",
        "4950"
       ]
      },
      {
       "output_type": "stream",
       "stream": "stdout",
       "text": [
        "\n",
        "4960"
       ]
      },
      {
       "output_type": "stream",
       "stream": "stdout",
       "text": [
        "\n",
        "4970"
       ]
      },
      {
       "output_type": "stream",
       "stream": "stdout",
       "text": [
        "\n",
        "4980"
       ]
      },
      {
       "output_type": "stream",
       "stream": "stdout",
       "text": [
        "\n",
        "Illinois"
       ]
      },
      {
       "output_type": "stream",
       "stream": "stdout",
       "text": [
        "\n",
        "4990"
       ]
      },
      {
       "output_type": "stream",
       "stream": "stdout",
       "text": [
        "\n",
        "5000"
       ]
      },
      {
       "output_type": "stream",
       "stream": "stdout",
       "text": [
        "\n",
        "5010"
       ]
      },
      {
       "output_type": "stream",
       "stream": "stdout",
       "text": [
        "\n",
        "5020"
       ]
      },
      {
       "output_type": "stream",
       "stream": "stdout",
       "text": [
        "\n",
        "5030"
       ]
      },
      {
       "output_type": "stream",
       "stream": "stdout",
       "text": [
        "\n",
        "5040"
       ]
      },
      {
       "output_type": "stream",
       "stream": "stdout",
       "text": [
        "\n",
        "5050"
       ]
      },
      {
       "output_type": "stream",
       "stream": "stdout",
       "text": [
        "\n",
        "5060"
       ]
      },
      {
       "output_type": "stream",
       "stream": "stdout",
       "text": [
        "\n",
        "5070"
       ]
      },
      {
       "output_type": "stream",
       "stream": "stdout",
       "text": [
        "\n",
        "5080"
       ]
      },
      {
       "output_type": "stream",
       "stream": "stdout",
       "text": [
        "\n",
        "5090"
       ]
      },
      {
       "output_type": "stream",
       "stream": "stdout",
       "text": [
        "\n",
        "5100"
       ]
      },
      {
       "output_type": "stream",
       "stream": "stdout",
       "text": [
        "\n",
        "5110"
       ]
      },
      {
       "output_type": "stream",
       "stream": "stdout",
       "text": [
        "\n",
        "5120"
       ]
      },
      {
       "output_type": "stream",
       "stream": "stdout",
       "text": [
        "\n",
        "5130"
       ]
      },
      {
       "output_type": "stream",
       "stream": "stdout",
       "text": [
        "\n",
        "5140"
       ]
      },
      {
       "output_type": "stream",
       "stream": "stdout",
       "text": [
        "\n",
        "5150"
       ]
      },
      {
       "output_type": "stream",
       "stream": "stdout",
       "text": [
        "\n",
        "5160"
       ]
      },
      {
       "output_type": "stream",
       "stream": "stdout",
       "text": [
        "\n",
        "5170"
       ]
      },
      {
       "output_type": "stream",
       "stream": "stdout",
       "text": [
        "\n",
        "5180"
       ]
      },
      {
       "output_type": "stream",
       "stream": "stdout",
       "text": [
        "\n",
        "5190"
       ]
      },
      {
       "output_type": "stream",
       "stream": "stdout",
       "text": [
        "\n",
        "5200"
       ]
      },
      {
       "output_type": "stream",
       "stream": "stdout",
       "text": [
        "\n",
        "5210"
       ]
      },
      {
       "output_type": "stream",
       "stream": "stdout",
       "text": [
        "\n",
        "5220"
       ]
      },
      {
       "output_type": "stream",
       "stream": "stdout",
       "text": [
        "\n",
        "5230"
       ]
      },
      {
       "output_type": "stream",
       "stream": "stdout",
       "text": [
        "\n",
        "5240"
       ]
      },
      {
       "output_type": "stream",
       "stream": "stdout",
       "text": [
        "\n",
        "5250"
       ]
      },
      {
       "output_type": "stream",
       "stream": "stdout",
       "text": [
        "\n",
        "5260"
       ]
      },
      {
       "output_type": "stream",
       "stream": "stdout",
       "text": [
        "\n",
        "5270"
       ]
      },
      {
       "output_type": "stream",
       "stream": "stdout",
       "text": [
        "\n",
        "5280"
       ]
      },
      {
       "output_type": "stream",
       "stream": "stdout",
       "text": [
        "\n",
        "5290"
       ]
      },
      {
       "output_type": "stream",
       "stream": "stdout",
       "text": [
        "\n",
        "5300"
       ]
      },
      {
       "output_type": "stream",
       "stream": "stdout",
       "text": [
        "\n",
        "5310"
       ]
      },
      {
       "output_type": "stream",
       "stream": "stdout",
       "text": [
        "\n",
        "5320"
       ]
      },
      {
       "output_type": "stream",
       "stream": "stdout",
       "text": [
        "\n",
        "5330"
       ]
      },
      {
       "output_type": "stream",
       "stream": "stdout",
       "text": [
        "\n",
        "5340"
       ]
      },
      {
       "output_type": "stream",
       "stream": "stdout",
       "text": [
        "\n",
        "5350"
       ]
      },
      {
       "output_type": "stream",
       "stream": "stdout",
       "text": [
        "\n",
        "5360"
       ]
      },
      {
       "output_type": "stream",
       "stream": "stdout",
       "text": [
        "\n",
        "5370"
       ]
      },
      {
       "output_type": "stream",
       "stream": "stdout",
       "text": [
        "\n",
        "5380"
       ]
      },
      {
       "output_type": "stream",
       "stream": "stdout",
       "text": [
        "\n",
        "5390"
       ]
      },
      {
       "output_type": "stream",
       "stream": "stdout",
       "text": [
        "\n",
        "5400"
       ]
      },
      {
       "output_type": "stream",
       "stream": "stdout",
       "text": [
        "\n",
        "5410"
       ]
      },
      {
       "output_type": "stream",
       "stream": "stdout",
       "text": [
        "\n",
        "5420"
       ]
      },
      {
       "output_type": "stream",
       "stream": "stdout",
       "text": [
        "\n",
        "5430"
       ]
      },
      {
       "output_type": "stream",
       "stream": "stdout",
       "text": [
        "\n",
        "5440"
       ]
      },
      {
       "output_type": "stream",
       "stream": "stdout",
       "text": [
        "\n",
        "5450"
       ]
      },
      {
       "output_type": "stream",
       "stream": "stdout",
       "text": [
        "\n",
        "5460"
       ]
      },
      {
       "output_type": "stream",
       "stream": "stdout",
       "text": [
        "\n",
        "5470"
       ]
      },
      {
       "output_type": "stream",
       "stream": "stdout",
       "text": [
        "\n",
        "5480"
       ]
      },
      {
       "output_type": "stream",
       "stream": "stdout",
       "text": [
        "\n",
        "5490"
       ]
      },
      {
       "output_type": "stream",
       "stream": "stdout",
       "text": [
        "\n",
        "5500"
       ]
      },
      {
       "output_type": "stream",
       "stream": "stdout",
       "text": [
        "\n",
        "Indiana"
       ]
      },
      {
       "output_type": "stream",
       "stream": "stdout",
       "text": [
        "\n",
        "5510"
       ]
      },
      {
       "output_type": "stream",
       "stream": "stdout",
       "text": [
        "\n",
        "5520"
       ]
      },
      {
       "output_type": "stream",
       "stream": "stdout",
       "text": [
        "\n",
        "5530"
       ]
      },
      {
       "output_type": "stream",
       "stream": "stdout",
       "text": [
        "\n",
        "5540"
       ]
      },
      {
       "output_type": "stream",
       "stream": "stdout",
       "text": [
        "\n",
        "5550"
       ]
      },
      {
       "output_type": "stream",
       "stream": "stdout",
       "text": [
        "\n",
        "5560"
       ]
      },
      {
       "output_type": "stream",
       "stream": "stdout",
       "text": [
        "\n",
        "5570"
       ]
      },
      {
       "output_type": "stream",
       "stream": "stdout",
       "text": [
        "\n",
        "5580"
       ]
      },
      {
       "output_type": "stream",
       "stream": "stdout",
       "text": [
        "\n",
        "5590"
       ]
      },
      {
       "output_type": "stream",
       "stream": "stdout",
       "text": [
        "\n",
        "5600"
       ]
      },
      {
       "output_type": "stream",
       "stream": "stdout",
       "text": [
        "\n",
        "5610"
       ]
      },
      {
       "output_type": "stream",
       "stream": "stdout",
       "text": [
        "\n",
        "5620"
       ]
      },
      {
       "output_type": "stream",
       "stream": "stdout",
       "text": [
        "\n",
        "5630"
       ]
      },
      {
       "output_type": "stream",
       "stream": "stdout",
       "text": [
        "\n",
        "5640"
       ]
      },
      {
       "output_type": "stream",
       "stream": "stdout",
       "text": [
        "\n",
        "5650"
       ]
      },
      {
       "output_type": "stream",
       "stream": "stdout",
       "text": [
        "\n",
        "5660"
       ]
      },
      {
       "output_type": "stream",
       "stream": "stdout",
       "text": [
        "\n",
        "5670"
       ]
      },
      {
       "output_type": "stream",
       "stream": "stdout",
       "text": [
        "\n",
        "5680"
       ]
      },
      {
       "output_type": "stream",
       "stream": "stdout",
       "text": [
        "\n",
        "5690"
       ]
      },
      {
       "output_type": "stream",
       "stream": "stdout",
       "text": [
        "\n",
        "5700"
       ]
      },
      {
       "output_type": "stream",
       "stream": "stdout",
       "text": [
        "\n",
        "5710"
       ]
      },
      {
       "output_type": "stream",
       "stream": "stdout",
       "text": [
        "\n",
        "5720"
       ]
      },
      {
       "output_type": "stream",
       "stream": "stdout",
       "text": [
        "\n",
        "5730"
       ]
      },
      {
       "output_type": "stream",
       "stream": "stdout",
       "text": [
        "\n",
        "5740"
       ]
      },
      {
       "output_type": "stream",
       "stream": "stdout",
       "text": [
        "\n",
        "5750"
       ]
      },
      {
       "output_type": "stream",
       "stream": "stdout",
       "text": [
        "\n",
        "5760"
       ]
      },
      {
       "output_type": "stream",
       "stream": "stdout",
       "text": [
        "\n",
        "5770"
       ]
      },
      {
       "output_type": "stream",
       "stream": "stdout",
       "text": [
        "\n",
        "5780"
       ]
      },
      {
       "output_type": "stream",
       "stream": "stdout",
       "text": [
        "\n",
        "5790"
       ]
      },
      {
       "output_type": "stream",
       "stream": "stdout",
       "text": [
        "\n",
        "5800"
       ]
      },
      {
       "output_type": "stream",
       "stream": "stdout",
       "text": [
        "\n",
        "Iowa"
       ]
      },
      {
       "output_type": "stream",
       "stream": "stdout",
       "text": [
        "\n",
        "5810"
       ]
      },
      {
       "output_type": "stream",
       "stream": "stdout",
       "text": [
        "\n",
        "5820"
       ]
      },
      {
       "output_type": "stream",
       "stream": "stdout",
       "text": [
        "\n",
        "5830"
       ]
      },
      {
       "output_type": "stream",
       "stream": "stdout",
       "text": [
        "\n",
        "5840"
       ]
      },
      {
       "output_type": "stream",
       "stream": "stdout",
       "text": [
        "\n",
        "5850"
       ]
      },
      {
       "output_type": "stream",
       "stream": "stdout",
       "text": [
        "\n",
        "5860"
       ]
      },
      {
       "output_type": "stream",
       "stream": "stdout",
       "text": [
        "\n",
        "5870"
       ]
      },
      {
       "output_type": "stream",
       "stream": "stdout",
       "text": [
        "\n",
        "5880"
       ]
      },
      {
       "output_type": "stream",
       "stream": "stdout",
       "text": [
        "\n",
        "5890"
       ]
      },
      {
       "output_type": "stream",
       "stream": "stdout",
       "text": [
        "\n",
        "5900"
       ]
      },
      {
       "output_type": "stream",
       "stream": "stdout",
       "text": [
        "\n",
        "5910"
       ]
      },
      {
       "output_type": "stream",
       "stream": "stdout",
       "text": [
        "\n",
        "Kansas"
       ]
      },
      {
       "output_type": "stream",
       "stream": "stdout",
       "text": [
        "\n",
        "5920"
       ]
      },
      {
       "output_type": "stream",
       "stream": "stdout",
       "text": [
        "\n",
        "5930"
       ]
      },
      {
       "output_type": "stream",
       "stream": "stdout",
       "text": [
        "\n",
        "5940"
       ]
      },
      {
       "output_type": "stream",
       "stream": "stdout",
       "text": [
        "\n",
        "5950"
       ]
      },
      {
       "output_type": "stream",
       "stream": "stdout",
       "text": [
        "\n",
        "5960"
       ]
      },
      {
       "output_type": "stream",
       "stream": "stdout",
       "text": [
        "\n",
        "5970"
       ]
      },
      {
       "output_type": "stream",
       "stream": "stdout",
       "text": [
        "\n",
        "5980"
       ]
      },
      {
       "output_type": "stream",
       "stream": "stdout",
       "text": [
        "\n",
        "5990"
       ]
      },
      {
       "output_type": "stream",
       "stream": "stdout",
       "text": [
        "\n",
        "6000"
       ]
      },
      {
       "output_type": "stream",
       "stream": "stdout",
       "text": [
        "\n",
        "6010"
       ]
      },
      {
       "output_type": "stream",
       "stream": "stdout",
       "text": [
        "\n",
        "6020"
       ]
      },
      {
       "output_type": "stream",
       "stream": "stdout",
       "text": [
        "\n",
        "6030"
       ]
      },
      {
       "output_type": "stream",
       "stream": "stdout",
       "text": [
        "\n",
        "6040"
       ]
      },
      {
       "output_type": "stream",
       "stream": "stdout",
       "text": [
        "\n",
        "6050"
       ]
      },
      {
       "output_type": "stream",
       "stream": "stdout",
       "text": [
        "\n",
        "Kentucky"
       ]
      },
      {
       "output_type": "stream",
       "stream": "stdout",
       "text": [
        "\n",
        "6060"
       ]
      },
      {
       "output_type": "stream",
       "stream": "stdout",
       "text": [
        "\n",
        "6070"
       ]
      },
      {
       "output_type": "stream",
       "stream": "stdout",
       "text": [
        "\n",
        "6080"
       ]
      },
      {
       "output_type": "stream",
       "stream": "stdout",
       "text": [
        "\n",
        "6090"
       ]
      },
      {
       "output_type": "stream",
       "stream": "stdout",
       "text": [
        "\n",
        "6100"
       ]
      },
      {
       "output_type": "stream",
       "stream": "stdout",
       "text": [
        "\n",
        "6110"
       ]
      },
      {
       "output_type": "stream",
       "stream": "stdout",
       "text": [
        "\n",
        "6120"
       ]
      },
      {
       "output_type": "stream",
       "stream": "stdout",
       "text": [
        "\n",
        "6130"
       ]
      },
      {
       "output_type": "stream",
       "stream": "stdout",
       "text": [
        "\n",
        "6140"
       ]
      },
      {
       "output_type": "stream",
       "stream": "stdout",
       "text": [
        "\n",
        "6150"
       ]
      },
      {
       "output_type": "stream",
       "stream": "stdout",
       "text": [
        "\n",
        "6160"
       ]
      },
      {
       "output_type": "stream",
       "stream": "stdout",
       "text": [
        "\n",
        "6170"
       ]
      },
      {
       "output_type": "stream",
       "stream": "stdout",
       "text": [
        "\n",
        "6180"
       ]
      },
      {
       "output_type": "stream",
       "stream": "stdout",
       "text": [
        "\n",
        "6190"
       ]
      },
      {
       "output_type": "stream",
       "stream": "stdout",
       "text": [
        "\n",
        "6200"
       ]
      },
      {
       "output_type": "stream",
       "stream": "stdout",
       "text": [
        "\n",
        "6210"
       ]
      },
      {
       "output_type": "stream",
       "stream": "stdout",
       "text": [
        "\n",
        "Louisiana"
       ]
      },
      {
       "output_type": "stream",
       "stream": "stdout",
       "text": [
        "\n",
        "6220"
       ]
      },
      {
       "output_type": "stream",
       "stream": "stdout",
       "text": [
        "\n",
        "6230"
       ]
      },
      {
       "output_type": "stream",
       "stream": "stdout",
       "text": [
        "\n",
        "6240"
       ]
      },
      {
       "output_type": "stream",
       "stream": "stdout",
       "text": [
        "\n",
        "6250"
       ]
      },
      {
       "output_type": "stream",
       "stream": "stdout",
       "text": [
        "\n",
        "6260"
       ]
      },
      {
       "output_type": "stream",
       "stream": "stdout",
       "text": [
        "\n",
        "6270"
       ]
      },
      {
       "output_type": "stream",
       "stream": "stdout",
       "text": [
        "\n",
        "6280"
       ]
      },
      {
       "output_type": "stream",
       "stream": "stdout",
       "text": [
        "\n",
        "6290"
       ]
      },
      {
       "output_type": "stream",
       "stream": "stdout",
       "text": [
        "\n",
        "6300"
       ]
      },
      {
       "output_type": "stream",
       "stream": "stdout",
       "text": [
        "\n",
        "6310"
       ]
      },
      {
       "output_type": "stream",
       "stream": "stdout",
       "text": [
        "\n",
        "6320"
       ]
      },
      {
       "output_type": "stream",
       "stream": "stdout",
       "text": [
        "\n",
        "6330"
       ]
      },
      {
       "output_type": "stream",
       "stream": "stdout",
       "text": [
        "\n",
        "6340"
       ]
      },
      {
       "output_type": "stream",
       "stream": "stdout",
       "text": [
        "\n",
        "6350"
       ]
      },
      {
       "output_type": "stream",
       "stream": "stdout",
       "text": [
        "\n",
        "6360"
       ]
      },
      {
       "output_type": "stream",
       "stream": "stdout",
       "text": [
        "\n",
        "6370"
       ]
      },
      {
       "output_type": "stream",
       "stream": "stdout",
       "text": [
        "\n",
        "6380"
       ]
      },
      {
       "output_type": "stream",
       "stream": "stdout",
       "text": [
        "\n",
        "6390"
       ]
      },
      {
       "output_type": "stream",
       "stream": "stdout",
       "text": [
        "\n",
        "6400"
       ]
      },
      {
       "output_type": "stream",
       "stream": "stdout",
       "text": [
        "\n",
        "6410"
       ]
      },
      {
       "output_type": "stream",
       "stream": "stdout",
       "text": [
        "\n",
        "6420"
       ]
      },
      {
       "output_type": "stream",
       "stream": "stdout",
       "text": [
        "\n",
        "6430"
       ]
      },
      {
       "output_type": "stream",
       "stream": "stdout",
       "text": [
        "\n",
        "6440"
       ]
      },
      {
       "output_type": "stream",
       "stream": "stdout",
       "text": [
        "\n",
        "6450"
       ]
      },
      {
       "output_type": "stream",
       "stream": "stdout",
       "text": [
        "\n",
        "Maine"
       ]
      },
      {
       "output_type": "stream",
       "stream": "stdout",
       "text": [
        "\n",
        "6460"
       ]
      },
      {
       "output_type": "stream",
       "stream": "stdout",
       "text": [
        "\n",
        "6470"
       ]
      },
      {
       "output_type": "stream",
       "stream": "stdout",
       "text": [
        "\n",
        "6480"
       ]
      },
      {
       "output_type": "stream",
       "stream": "stdout",
       "text": [
        "\n",
        "6490"
       ]
      },
      {
       "output_type": "stream",
       "stream": "stdout",
       "text": [
        "\n",
        "Maryland"
       ]
      },
      {
       "output_type": "stream",
       "stream": "stdout",
       "text": [
        "\n",
        "6500"
       ]
      },
      {
       "output_type": "stream",
       "stream": "stdout",
       "text": [
        "\n",
        "6510"
       ]
      },
      {
       "output_type": "stream",
       "stream": "stdout",
       "text": [
        "\n",
        "6520"
       ]
      },
      {
       "output_type": "stream",
       "stream": "stdout",
       "text": [
        "\n",
        "6530"
       ]
      },
      {
       "output_type": "stream",
       "stream": "stdout",
       "text": [
        "\n",
        "6540"
       ]
      },
      {
       "output_type": "stream",
       "stream": "stdout",
       "text": [
        "\n",
        "6550"
       ]
      },
      {
       "output_type": "stream",
       "stream": "stdout",
       "text": [
        "\n",
        "6560"
       ]
      },
      {
       "output_type": "stream",
       "stream": "stdout",
       "text": [
        "\n",
        "6570"
       ]
      },
      {
       "output_type": "stream",
       "stream": "stdout",
       "text": [
        "\n",
        "6580"
       ]
      },
      {
       "output_type": "stream",
       "stream": "stdout",
       "text": [
        "\n",
        "6590"
       ]
      },
      {
       "output_type": "stream",
       "stream": "stdout",
       "text": [
        "\n",
        "6600"
       ]
      },
      {
       "output_type": "stream",
       "stream": "stdout",
       "text": [
        "\n",
        "6610"
       ]
      },
      {
       "output_type": "stream",
       "stream": "stdout",
       "text": [
        "\n",
        "6620"
       ]
      },
      {
       "output_type": "stream",
       "stream": "stdout",
       "text": [
        "\n",
        "6630"
       ]
      },
      {
       "output_type": "stream",
       "stream": "stdout",
       "text": [
        "\n",
        "6640"
       ]
      },
      {
       "output_type": "stream",
       "stream": "stdout",
       "text": [
        "\n",
        "6650"
       ]
      },
      {
       "output_type": "stream",
       "stream": "stdout",
       "text": [
        "\n",
        "6660"
       ]
      },
      {
       "output_type": "stream",
       "stream": "stdout",
       "text": [
        "\n",
        "6670"
       ]
      },
      {
       "output_type": "stream",
       "stream": "stdout",
       "text": [
        "\n",
        "6680"
       ]
      },
      {
       "output_type": "stream",
       "stream": "stdout",
       "text": [
        "\n",
        "6690"
       ]
      },
      {
       "output_type": "stream",
       "stream": "stdout",
       "text": [
        "\n",
        "6700"
       ]
      },
      {
       "output_type": "stream",
       "stream": "stdout",
       "text": [
        "\n",
        "6710"
       ]
      },
      {
       "output_type": "stream",
       "stream": "stdout",
       "text": [
        "\n",
        "6720"
       ]
      },
      {
       "output_type": "stream",
       "stream": "stdout",
       "text": [
        "\n",
        "6730"
       ]
      },
      {
       "output_type": "stream",
       "stream": "stdout",
       "text": [
        "\n",
        "6740"
       ]
      },
      {
       "output_type": "stream",
       "stream": "stdout",
       "text": [
        "\n",
        "6750"
       ]
      },
      {
       "output_type": "stream",
       "stream": "stdout",
       "text": [
        "\n",
        "6760"
       ]
      },
      {
       "output_type": "stream",
       "stream": "stdout",
       "text": [
        "\n",
        "6770"
       ]
      },
      {
       "output_type": "stream",
       "stream": "stdout",
       "text": [
        "\n",
        "6780"
       ]
      },
      {
       "output_type": "stream",
       "stream": "stdout",
       "text": [
        "\n",
        "6790"
       ]
      },
      {
       "output_type": "stream",
       "stream": "stdout",
       "text": [
        "\n",
        "6800"
       ]
      },
      {
       "output_type": "stream",
       "stream": "stdout",
       "text": [
        "\n",
        "6810"
       ]
      },
      {
       "output_type": "stream",
       "stream": "stdout",
       "text": [
        "\n",
        "6820"
       ]
      },
      {
       "output_type": "stream",
       "stream": "stdout",
       "text": [
        "\n",
        "6830"
       ]
      },
      {
       "output_type": "stream",
       "stream": "stdout",
       "text": [
        "\n",
        "6840"
       ]
      },
      {
       "output_type": "stream",
       "stream": "stdout",
       "text": [
        "\n",
        "6850"
       ]
      },
      {
       "output_type": "stream",
       "stream": "stdout",
       "text": [
        "\n",
        "Massachusetts"
       ]
      },
      {
       "output_type": "stream",
       "stream": "stdout",
       "text": [
        "\n",
        "6860"
       ]
      },
      {
       "output_type": "stream",
       "stream": "stdout",
       "text": [
        "\n",
        "6870"
       ]
      },
      {
       "output_type": "stream",
       "stream": "stdout",
       "text": [
        "\n",
        "6880"
       ]
      },
      {
       "output_type": "stream",
       "stream": "stdout",
       "text": [
        "\n",
        "6890"
       ]
      },
      {
       "output_type": "stream",
       "stream": "stdout",
       "text": [
        "\n",
        "6900"
       ]
      },
      {
       "output_type": "stream",
       "stream": "stdout",
       "text": [
        "\n",
        "6910"
       ]
      },
      {
       "output_type": "stream",
       "stream": "stdout",
       "text": [
        "\n",
        "6920"
       ]
      },
      {
       "output_type": "stream",
       "stream": "stdout",
       "text": [
        "\n",
        "6930"
       ]
      },
      {
       "output_type": "stream",
       "stream": "stdout",
       "text": [
        "\n",
        "6940"
       ]
      },
      {
       "output_type": "stream",
       "stream": "stdout",
       "text": [
        "\n",
        "6950"
       ]
      },
      {
       "output_type": "stream",
       "stream": "stdout",
       "text": [
        "\n",
        "6960"
       ]
      },
      {
       "output_type": "stream",
       "stream": "stdout",
       "text": [
        "\n",
        "6970"
       ]
      },
      {
       "output_type": "stream",
       "stream": "stdout",
       "text": [
        "\n",
        "6980"
       ]
      },
      {
       "output_type": "stream",
       "stream": "stdout",
       "text": [
        "\n",
        "6990"
       ]
      },
      {
       "output_type": "stream",
       "stream": "stdout",
       "text": [
        "\n",
        "7000"
       ]
      },
      {
       "output_type": "stream",
       "stream": "stdout",
       "text": [
        "\n",
        "7010"
       ]
      },
      {
       "output_type": "stream",
       "stream": "stdout",
       "text": [
        "\n",
        "7020"
       ]
      },
      {
       "output_type": "stream",
       "stream": "stdout",
       "text": [
        "\n",
        "7030"
       ]
      },
      {
       "output_type": "stream",
       "stream": "stdout",
       "text": [
        "\n",
        "7040"
       ]
      },
      {
       "output_type": "stream",
       "stream": "stdout",
       "text": [
        "\n",
        "7050"
       ]
      },
      {
       "output_type": "stream",
       "stream": "stdout",
       "text": [
        "\n",
        "7060"
       ]
      },
      {
       "output_type": "stream",
       "stream": "stdout",
       "text": [
        "\n",
        "7070"
       ]
      },
      {
       "output_type": "stream",
       "stream": "stdout",
       "text": [
        "\n",
        "7080"
       ]
      },
      {
       "output_type": "stream",
       "stream": "stdout",
       "text": [
        "\n",
        "7090"
       ]
      },
      {
       "output_type": "stream",
       "stream": "stdout",
       "text": [
        "\n",
        "7100"
       ]
      },
      {
       "output_type": "stream",
       "stream": "stdout",
       "text": [
        "\n",
        "7110"
       ]
      },
      {
       "output_type": "stream",
       "stream": "stdout",
       "text": [
        "\n",
        "7120"
       ]
      },
      {
       "output_type": "stream",
       "stream": "stdout",
       "text": [
        "\n",
        "7130"
       ]
      },
      {
       "output_type": "stream",
       "stream": "stdout",
       "text": [
        "\n",
        "7140"
       ]
      },
      {
       "output_type": "stream",
       "stream": "stdout",
       "text": [
        "\n",
        "7150"
       ]
      },
      {
       "output_type": "stream",
       "stream": "stdout",
       "text": [
        "\n",
        "7160"
       ]
      },
      {
       "output_type": "stream",
       "stream": "stdout",
       "text": [
        "\n",
        "7170"
       ]
      },
      {
       "output_type": "stream",
       "stream": "stdout",
       "text": [
        "\n",
        "7180"
       ]
      },
      {
       "output_type": "stream",
       "stream": "stdout",
       "text": [
        "\n",
        "7190"
       ]
      },
      {
       "output_type": "stream",
       "stream": "stdout",
       "text": [
        "\n",
        "7200"
       ]
      },
      {
       "output_type": "stream",
       "stream": "stdout",
       "text": [
        "\n",
        "7210"
       ]
      },
      {
       "output_type": "stream",
       "stream": "stdout",
       "text": [
        "\n",
        "7220"
       ]
      },
      {
       "output_type": "stream",
       "stream": "stdout",
       "text": [
        "\n",
        "7230"
       ]
      },
      {
       "output_type": "stream",
       "stream": "stdout",
       "text": [
        "\n",
        "7240"
       ]
      },
      {
       "output_type": "stream",
       "stream": "stdout",
       "text": [
        "\n",
        "7250"
       ]
      },
      {
       "output_type": "stream",
       "stream": "stdout",
       "text": [
        "\n",
        "Michigan"
       ]
      },
      {
       "output_type": "stream",
       "stream": "stdout",
       "text": [
        "\n",
        "7260"
       ]
      },
      {
       "output_type": "stream",
       "stream": "stdout",
       "text": [
        "\n",
        "7270"
       ]
      },
      {
       "output_type": "stream",
       "stream": "stdout",
       "text": [
        "\n",
        "7280"
       ]
      },
      {
       "output_type": "stream",
       "stream": "stdout",
       "text": [
        "\n",
        "7290"
       ]
      },
      {
       "output_type": "stream",
       "stream": "stdout",
       "text": [
        "\n",
        "7300"
       ]
      },
      {
       "output_type": "stream",
       "stream": "stdout",
       "text": [
        "\n",
        "7310"
       ]
      },
      {
       "output_type": "stream",
       "stream": "stdout",
       "text": [
        "\n",
        "7320"
       ]
      },
      {
       "output_type": "stream",
       "stream": "stdout",
       "text": [
        "\n",
        "7330"
       ]
      },
      {
       "output_type": "stream",
       "stream": "stdout",
       "text": [
        "\n",
        "7340"
       ]
      },
      {
       "output_type": "stream",
       "stream": "stdout",
       "text": [
        "\n",
        "7350"
       ]
      },
      {
       "output_type": "stream",
       "stream": "stdout",
       "text": [
        "\n",
        "7360"
       ]
      },
      {
       "output_type": "stream",
       "stream": "stdout",
       "text": [
        "\n",
        "7370"
       ]
      },
      {
       "output_type": "stream",
       "stream": "stdout",
       "text": [
        "\n",
        "7380"
       ]
      },
      {
       "output_type": "stream",
       "stream": "stdout",
       "text": [
        "\n",
        "7390"
       ]
      },
      {
       "output_type": "stream",
       "stream": "stdout",
       "text": [
        "\n",
        "7400"
       ]
      },
      {
       "output_type": "stream",
       "stream": "stdout",
       "text": [
        "\n",
        "7410"
       ]
      },
      {
       "output_type": "stream",
       "stream": "stdout",
       "text": [
        "\n",
        "7420"
       ]
      },
      {
       "output_type": "stream",
       "stream": "stdout",
       "text": [
        "\n",
        "7430"
       ]
      },
      {
       "output_type": "stream",
       "stream": "stdout",
       "text": [
        "\n",
        "7440"
       ]
      },
      {
       "output_type": "stream",
       "stream": "stdout",
       "text": [
        "\n",
        "7450"
       ]
      },
      {
       "output_type": "stream",
       "stream": "stdout",
       "text": [
        "\n",
        "7460"
       ]
      },
      {
       "output_type": "stream",
       "stream": "stdout",
       "text": [
        "\n",
        "7470"
       ]
      },
      {
       "output_type": "stream",
       "stream": "stdout",
       "text": [
        "\n",
        "7480"
       ]
      },
      {
       "output_type": "stream",
       "stream": "stdout",
       "text": [
        "\n",
        "7490"
       ]
      },
      {
       "output_type": "stream",
       "stream": "stdout",
       "text": [
        "\n",
        "7500"
       ]
      },
      {
       "output_type": "stream",
       "stream": "stdout",
       "text": [
        "\n",
        "7510"
       ]
      },
      {
       "output_type": "stream",
       "stream": "stdout",
       "text": [
        "\n",
        "7520"
       ]
      },
      {
       "output_type": "stream",
       "stream": "stdout",
       "text": [
        "\n",
        "7530"
       ]
      },
      {
       "output_type": "stream",
       "stream": "stdout",
       "text": [
        "\n",
        "7540"
       ]
      },
      {
       "output_type": "stream",
       "stream": "stdout",
       "text": [
        "\n",
        "7550"
       ]
      },
      {
       "output_type": "stream",
       "stream": "stdout",
       "text": [
        "\n",
        "7560"
       ]
      },
      {
       "output_type": "stream",
       "stream": "stdout",
       "text": [
        "\n",
        "7570"
       ]
      },
      {
       "output_type": "stream",
       "stream": "stdout",
       "text": [
        "\n",
        "7580"
       ]
      },
      {
       "output_type": "stream",
       "stream": "stdout",
       "text": [
        "\n",
        "7590"
       ]
      },
      {
       "output_type": "stream",
       "stream": "stdout",
       "text": [
        "\n",
        "7600"
       ]
      },
      {
       "output_type": "stream",
       "stream": "stdout",
       "text": [
        "\n",
        "7610"
       ]
      },
      {
       "output_type": "stream",
       "stream": "stdout",
       "text": [
        "\n",
        "7620"
       ]
      },
      {
       "output_type": "stream",
       "stream": "stdout",
       "text": [
        "\n",
        "7630"
       ]
      },
      {
       "output_type": "stream",
       "stream": "stdout",
       "text": [
        "\n",
        "7640"
       ]
      },
      {
       "output_type": "stream",
       "stream": "stdout",
       "text": [
        "\n",
        "7650"
       ]
      },
      {
       "output_type": "stream",
       "stream": "stdout",
       "text": [
        "\n",
        "Minnesota"
       ]
      },
      {
       "output_type": "stream",
       "stream": "stdout",
       "text": [
        "\n",
        "7660"
       ]
      },
      {
       "output_type": "stream",
       "stream": "stdout",
       "text": [
        "\n",
        "7670"
       ]
      },
      {
       "output_type": "stream",
       "stream": "stdout",
       "text": [
        "\n",
        "7680"
       ]
      },
      {
       "output_type": "stream",
       "stream": "stdout",
       "text": [
        "\n",
        "7690"
       ]
      },
      {
       "output_type": "stream",
       "stream": "stdout",
       "text": [
        "\n",
        "7700"
       ]
      },
      {
       "output_type": "stream",
       "stream": "stdout",
       "text": [
        "\n",
        "7710"
       ]
      },
      {
       "output_type": "stream",
       "stream": "stdout",
       "text": [
        "\n",
        "7720"
       ]
      },
      {
       "output_type": "stream",
       "stream": "stdout",
       "text": [
        "\n",
        "7730"
       ]
      },
      {
       "output_type": "stream",
       "stream": "stdout",
       "text": [
        "\n",
        "7740"
       ]
      },
      {
       "output_type": "stream",
       "stream": "stdout",
       "text": [
        "\n",
        "7750"
       ]
      },
      {
       "output_type": "stream",
       "stream": "stdout",
       "text": [
        "\n",
        "7760"
       ]
      },
      {
       "output_type": "stream",
       "stream": "stdout",
       "text": [
        "\n",
        "7770"
       ]
      },
      {
       "output_type": "stream",
       "stream": "stdout",
       "text": [
        "\n",
        "7780"
       ]
      },
      {
       "output_type": "stream",
       "stream": "stdout",
       "text": [
        "\n",
        "7790"
       ]
      },
      {
       "output_type": "stream",
       "stream": "stdout",
       "text": [
        "\n",
        "7800"
       ]
      },
      {
       "output_type": "stream",
       "stream": "stdout",
       "text": [
        "\n",
        "7810"
       ]
      },
      {
       "output_type": "stream",
       "stream": "stdout",
       "text": [
        "\n",
        "7820"
       ]
      },
      {
       "output_type": "stream",
       "stream": "stdout",
       "text": [
        "\n",
        "7830"
       ]
      },
      {
       "output_type": "stream",
       "stream": "stdout",
       "text": [
        "\n",
        "7840"
       ]
      },
      {
       "output_type": "stream",
       "stream": "stdout",
       "text": [
        "\n",
        "7850"
       ]
      },
      {
       "output_type": "stream",
       "stream": "stdout",
       "text": [
        "\n",
        "7860"
       ]
      },
      {
       "output_type": "stream",
       "stream": "stdout",
       "text": [
        "\n",
        "7870"
       ]
      },
      {
       "output_type": "stream",
       "stream": "stdout",
       "text": [
        "\n",
        "7880"
       ]
      },
      {
       "output_type": "stream",
       "stream": "stdout",
       "text": [
        "\n",
        "Mississippi\n",
        "7890"
       ]
      },
      {
       "output_type": "stream",
       "stream": "stdout",
       "text": [
        "\n",
        "7900"
       ]
      },
      {
       "output_type": "stream",
       "stream": "stdout",
       "text": [
        "\n",
        "7910"
       ]
      },
      {
       "output_type": "stream",
       "stream": "stdout",
       "text": [
        "\n",
        "7920"
       ]
      },
      {
       "output_type": "stream",
       "stream": "stdout",
       "text": [
        "\n",
        "7930"
       ]
      },
      {
       "output_type": "stream",
       "stream": "stdout",
       "text": [
        "\n",
        "7940"
       ]
      },
      {
       "output_type": "stream",
       "stream": "stdout",
       "text": [
        "\n",
        "Missouri"
       ]
      },
      {
       "output_type": "stream",
       "stream": "stdout",
       "text": [
        "\n",
        "7950"
       ]
      },
      {
       "output_type": "stream",
       "stream": "stdout",
       "text": [
        "\n",
        "7960"
       ]
      },
      {
       "output_type": "stream",
       "stream": "stdout",
       "text": [
        "\n",
        "7970"
       ]
      },
      {
       "output_type": "stream",
       "stream": "stdout",
       "text": [
        "\n",
        "7980"
       ]
      },
      {
       "output_type": "stream",
       "stream": "stdout",
       "text": [
        "\n",
        "7990"
       ]
      },
      {
       "output_type": "stream",
       "stream": "stdout",
       "text": [
        "\n",
        "8000"
       ]
      },
      {
       "output_type": "stream",
       "stream": "stdout",
       "text": [
        "\n",
        "8010"
       ]
      },
      {
       "output_type": "stream",
       "stream": "stdout",
       "text": [
        "\n",
        "8020"
       ]
      },
      {
       "output_type": "stream",
       "stream": "stdout",
       "text": [
        "\n",
        "8030"
       ]
      },
      {
       "output_type": "stream",
       "stream": "stdout",
       "text": [
        "\n",
        "8040"
       ]
      },
      {
       "output_type": "stream",
       "stream": "stdout",
       "text": [
        "\n",
        "8050"
       ]
      },
      {
       "output_type": "stream",
       "stream": "stdout",
       "text": [
        "\n",
        "8060"
       ]
      },
      {
       "output_type": "stream",
       "stream": "stdout",
       "text": [
        "\n",
        "8070"
       ]
      },
      {
       "output_type": "stream",
       "stream": "stdout",
       "text": [
        "\n",
        "8080"
       ]
      },
      {
       "output_type": "stream",
       "stream": "stdout",
       "text": [
        "\n",
        "8090"
       ]
      },
      {
       "output_type": "stream",
       "stream": "stdout",
       "text": [
        "\n",
        "8100"
       ]
      },
      {
       "output_type": "stream",
       "stream": "stdout",
       "text": [
        "\n",
        "8110"
       ]
      },
      {
       "output_type": "stream",
       "stream": "stdout",
       "text": [
        "\n",
        "8120"
       ]
      },
      {
       "output_type": "stream",
       "stream": "stdout",
       "text": [
        "\n",
        "8130"
       ]
      },
      {
       "output_type": "stream",
       "stream": "stdout",
       "text": [
        "\n",
        "8140"
       ]
      },
      {
       "output_type": "stream",
       "stream": "stdout",
       "text": [
        "\n",
        "8150"
       ]
      },
      {
       "output_type": "stream",
       "stream": "stdout",
       "text": [
        "\n",
        "8160"
       ]
      },
      {
       "output_type": "stream",
       "stream": "stdout",
       "text": [
        "\n",
        "8170"
       ]
      },
      {
       "output_type": "stream",
       "stream": "stdout",
       "text": [
        "\n",
        "8180"
       ]
      },
      {
       "output_type": "stream",
       "stream": "stdout",
       "text": [
        "\n",
        "8190"
       ]
      },
      {
       "output_type": "stream",
       "stream": "stdout",
       "text": [
        "\n",
        "8200"
       ]
      },
      {
       "output_type": "stream",
       "stream": "stdout",
       "text": [
        "\n",
        "8210"
       ]
      },
      {
       "output_type": "stream",
       "stream": "stdout",
       "text": [
        "\n",
        "8220"
       ]
      },
      {
       "output_type": "stream",
       "stream": "stdout",
       "text": [
        "\n",
        "8230"
       ]
      },
      {
       "output_type": "stream",
       "stream": "stdout",
       "text": [
        "\n",
        "8240"
       ]
      },
      {
       "output_type": "stream",
       "stream": "stdout",
       "text": [
        "\n",
        "8250"
       ]
      },
      {
       "output_type": "stream",
       "stream": "stdout",
       "text": [
        "\n",
        "8260"
       ]
      },
      {
       "output_type": "stream",
       "stream": "stdout",
       "text": [
        "\n",
        "8270"
       ]
      },
      {
       "output_type": "stream",
       "stream": "stdout",
       "text": [
        "\n",
        "Montana\n",
        "8280"
       ]
      },
      {
       "output_type": "stream",
       "stream": "stdout",
       "text": [
        "\n",
        "8290"
       ]
      },
      {
       "output_type": "stream",
       "stream": "stdout",
       "text": [
        "\n",
        "8300"
       ]
      },
      {
       "output_type": "stream",
       "stream": "stdout",
       "text": [
        "\n",
        "8310"
       ]
      },
      {
       "output_type": "stream",
       "stream": "stdout",
       "text": [
        "\n",
        "Nebraska"
       ]
      },
      {
       "output_type": "stream",
       "stream": "stdout",
       "text": [
        "\n",
        "8320"
       ]
      },
      {
       "output_type": "stream",
       "stream": "stdout",
       "text": [
        "\n",
        "8330"
       ]
      },
      {
       "output_type": "stream",
       "stream": "stdout",
       "text": [
        "\n",
        "8340"
       ]
      },
      {
       "output_type": "stream",
       "stream": "stdout",
       "text": [
        "\n",
        "8350"
       ]
      },
      {
       "output_type": "stream",
       "stream": "stdout",
       "text": [
        "\n",
        "8360"
       ]
      },
      {
       "output_type": "stream",
       "stream": "stdout",
       "text": [
        "\n",
        "8370"
       ]
      },
      {
       "output_type": "stream",
       "stream": "stdout",
       "text": [
        "\n",
        "8380"
       ]
      },
      {
       "output_type": "stream",
       "stream": "stdout",
       "text": [
        "\n",
        "8390"
       ]
      },
      {
       "output_type": "stream",
       "stream": "stdout",
       "text": [
        "\n",
        "8400"
       ]
      },
      {
       "output_type": "stream",
       "stream": "stdout",
       "text": [
        "\n",
        "8410"
       ]
      },
      {
       "output_type": "stream",
       "stream": "stdout",
       "text": [
        "\n",
        "8420"
       ]
      },
      {
       "output_type": "stream",
       "stream": "stdout",
       "text": [
        "\n",
        "Nevada"
       ]
      },
      {
       "output_type": "stream",
       "stream": "stdout",
       "text": [
        "\n",
        "8430"
       ]
      },
      {
       "output_type": "stream",
       "stream": "stdout",
       "text": [
        "\n",
        "8440"
       ]
      },
      {
       "output_type": "stream",
       "stream": "stdout",
       "text": [
        "\n",
        "8450"
       ]
      },
      {
       "output_type": "stream",
       "stream": "stdout",
       "text": [
        "\n",
        "8460"
       ]
      },
      {
       "output_type": "stream",
       "stream": "stdout",
       "text": [
        "\n",
        "8470"
       ]
      },
      {
       "output_type": "stream",
       "stream": "stdout",
       "text": [
        "\n",
        "8480"
       ]
      },
      {
       "output_type": "stream",
       "stream": "stdout",
       "text": [
        "\n",
        "8490"
       ]
      },
      {
       "output_type": "stream",
       "stream": "stdout",
       "text": [
        "\n",
        "8500"
       ]
      },
      {
       "output_type": "stream",
       "stream": "stdout",
       "text": [
        "\n",
        "8510"
       ]
      },
      {
       "output_type": "stream",
       "stream": "stdout",
       "text": [
        "\n",
        "8520"
       ]
      },
      {
       "output_type": "stream",
       "stream": "stdout",
       "text": [
        "\n",
        "8530"
       ]
      },
      {
       "output_type": "stream",
       "stream": "stdout",
       "text": [
        "\n",
        "New Hampshire"
       ]
      },
      {
       "output_type": "stream",
       "stream": "stdout",
       "text": [
        "\n",
        "8540"
       ]
      },
      {
       "output_type": "stream",
       "stream": "stdout",
       "text": [
        "\n",
        "8550"
       ]
      },
      {
       "output_type": "stream",
       "stream": "stdout",
       "text": [
        "\n",
        "8560"
       ]
      },
      {
       "output_type": "stream",
       "stream": "stdout",
       "text": [
        "\n",
        "8570"
       ]
      },
      {
       "output_type": "stream",
       "stream": "stdout",
       "text": [
        "\n",
        "8580"
       ]
      },
      {
       "output_type": "stream",
       "stream": "stdout",
       "text": [
        "\n",
        "New Jersey"
       ]
      },
      {
       "output_type": "stream",
       "stream": "stdout",
       "text": [
        "\n",
        "8590"
       ]
      },
      {
       "output_type": "stream",
       "stream": "stdout",
       "text": [
        "\n",
        "8600"
       ]
      },
      {
       "output_type": "stream",
       "stream": "stdout",
       "text": [
        "\n",
        "8610"
       ]
      },
      {
       "output_type": "stream",
       "stream": "stdout",
       "text": [
        "\n",
        "8620"
       ]
      },
      {
       "output_type": "stream",
       "stream": "stdout",
       "text": [
        "\n",
        "8630"
       ]
      },
      {
       "output_type": "stream",
       "stream": "stdout",
       "text": [
        "\n",
        "8640"
       ]
      },
      {
       "output_type": "stream",
       "stream": "stdout",
       "text": [
        "\n",
        "8650"
       ]
      },
      {
       "output_type": "stream",
       "stream": "stdout",
       "text": [
        "\n",
        "8660"
       ]
      },
      {
       "output_type": "stream",
       "stream": "stdout",
       "text": [
        "\n",
        "8670"
       ]
      },
      {
       "output_type": "stream",
       "stream": "stdout",
       "text": [
        "\n",
        "8680"
       ]
      },
      {
       "output_type": "stream",
       "stream": "stdout",
       "text": [
        "\n",
        "8690"
       ]
      },
      {
       "output_type": "stream",
       "stream": "stdout",
       "text": [
        "\n",
        "8700"
       ]
      },
      {
       "output_type": "stream",
       "stream": "stdout",
       "text": [
        "\n",
        "8710"
       ]
      },
      {
       "output_type": "stream",
       "stream": "stdout",
       "text": [
        "\n",
        "8720"
       ]
      },
      {
       "output_type": "stream",
       "stream": "stdout",
       "text": [
        "\n",
        "8730"
       ]
      },
      {
       "output_type": "stream",
       "stream": "stdout",
       "text": [
        "\n",
        "8740"
       ]
      },
      {
       "output_type": "stream",
       "stream": "stdout",
       "text": [
        "\n",
        "8750"
       ]
      },
      {
       "output_type": "stream",
       "stream": "stdout",
       "text": [
        "\n",
        "8760"
       ]
      },
      {
       "output_type": "stream",
       "stream": "stdout",
       "text": [
        "\n",
        "8770"
       ]
      },
      {
       "output_type": "stream",
       "stream": "stdout",
       "text": [
        "\n",
        "8780"
       ]
      },
      {
       "output_type": "stream",
       "stream": "stdout",
       "text": [
        "\n",
        "8790"
       ]
      },
      {
       "output_type": "stream",
       "stream": "stdout",
       "text": [
        "\n",
        "8800"
       ]
      },
      {
       "output_type": "stream",
       "stream": "stdout",
       "text": [
        "\n",
        "8810"
       ]
      },
      {
       "output_type": "stream",
       "stream": "stdout",
       "text": [
        "\n",
        "8820"
       ]
      },
      {
       "output_type": "stream",
       "stream": "stdout",
       "text": [
        "\n",
        "8830"
       ]
      },
      {
       "output_type": "stream",
       "stream": "stdout",
       "text": [
        "\n",
        "8840"
       ]
      },
      {
       "output_type": "stream",
       "stream": "stdout",
       "text": [
        "\n",
        "8850"
       ]
      },
      {
       "output_type": "stream",
       "stream": "stdout",
       "text": [
        "\n",
        "8860"
       ]
      },
      {
       "output_type": "stream",
       "stream": "stdout",
       "text": [
        "\n",
        "8870"
       ]
      },
      {
       "output_type": "stream",
       "stream": "stdout",
       "text": [
        "\n",
        "8880"
       ]
      },
      {
       "output_type": "stream",
       "stream": "stdout",
       "text": [
        "\n",
        "8890"
       ]
      },
      {
       "output_type": "stream",
       "stream": "stdout",
       "text": [
        "\n",
        "8900"
       ]
      },
      {
       "output_type": "stream",
       "stream": "stdout",
       "text": [
        "\n",
        "8910"
       ]
      },
      {
       "output_type": "stream",
       "stream": "stdout",
       "text": [
        "\n",
        "8920"
       ]
      },
      {
       "output_type": "stream",
       "stream": "stdout",
       "text": [
        "\n",
        "8930"
       ]
      },
      {
       "output_type": "stream",
       "stream": "stdout",
       "text": [
        "\n",
        "8940"
       ]
      },
      {
       "output_type": "stream",
       "stream": "stdout",
       "text": [
        "\n",
        "8950"
       ]
      },
      {
       "output_type": "stream",
       "stream": "stdout",
       "text": [
        "\n",
        "8960"
       ]
      },
      {
       "output_type": "stream",
       "stream": "stdout",
       "text": [
        "\n",
        "New Mexico"
       ]
      },
      {
       "output_type": "stream",
       "stream": "stdout",
       "text": [
        "\n",
        "8970"
       ]
      },
      {
       "output_type": "stream",
       "stream": "stdout",
       "text": [
        "\n",
        "8980"
       ]
      },
      {
       "output_type": "stream",
       "stream": "stdout",
       "text": [
        "\n",
        "8990"
       ]
      },
      {
       "output_type": "stream",
       "stream": "stdout",
       "text": [
        "\n",
        "9000"
       ]
      },
      {
       "output_type": "stream",
       "stream": "stdout",
       "text": [
        "\n",
        "9010"
       ]
      },
      {
       "output_type": "stream",
       "stream": "stdout",
       "text": [
        "\n",
        "9020"
       ]
      },
      {
       "output_type": "stream",
       "stream": "stdout",
       "text": [
        "\n",
        "9030"
       ]
      },
      {
       "output_type": "stream",
       "stream": "stdout",
       "text": [
        "\n",
        "New York"
       ]
      },
      {
       "output_type": "stream",
       "stream": "stdout",
       "text": [
        "\n",
        "9040"
       ]
      },
      {
       "output_type": "stream",
       "stream": "stdout",
       "text": [
        "\n",
        "9050"
       ]
      },
      {
       "output_type": "stream",
       "stream": "stdout",
       "text": [
        "\n",
        "9060"
       ]
      },
      {
       "output_type": "stream",
       "stream": "stdout",
       "text": [
        "\n",
        "9070"
       ]
      },
      {
       "output_type": "stream",
       "stream": "stdout",
       "text": [
        "\n",
        "9080"
       ]
      },
      {
       "output_type": "stream",
       "stream": "stdout",
       "text": [
        "\n",
        "9090"
       ]
      },
      {
       "output_type": "stream",
       "stream": "stdout",
       "text": [
        "\n",
        "9100"
       ]
      },
      {
       "output_type": "stream",
       "stream": "stdout",
       "text": [
        "\n",
        "9110"
       ]
      },
      {
       "output_type": "stream",
       "stream": "stdout",
       "text": [
        "\n",
        "9120"
       ]
      },
      {
       "output_type": "stream",
       "stream": "stdout",
       "text": [
        "\n",
        "9130"
       ]
      },
      {
       "output_type": "stream",
       "stream": "stdout",
       "text": [
        "\n",
        "9140"
       ]
      },
      {
       "output_type": "stream",
       "stream": "stdout",
       "text": [
        "\n",
        "9150"
       ]
      },
      {
       "output_type": "stream",
       "stream": "stdout",
       "text": [
        "\n",
        "9160"
       ]
      },
      {
       "output_type": "stream",
       "stream": "stdout",
       "text": [
        "\n",
        "9170"
       ]
      },
      {
       "output_type": "stream",
       "stream": "stdout",
       "text": [
        "\n",
        "9180"
       ]
      },
      {
       "output_type": "stream",
       "stream": "stdout",
       "text": [
        "\n",
        "9190"
       ]
      },
      {
       "output_type": "stream",
       "stream": "stdout",
       "text": [
        "\n",
        "9200"
       ]
      },
      {
       "output_type": "stream",
       "stream": "stdout",
       "text": [
        "\n",
        "9210"
       ]
      },
      {
       "output_type": "stream",
       "stream": "stdout",
       "text": [
        "\n",
        "9220"
       ]
      },
      {
       "output_type": "stream",
       "stream": "stdout",
       "text": [
        "\n",
        "9230"
       ]
      },
      {
       "output_type": "stream",
       "stream": "stdout",
       "text": [
        "\n",
        "9240"
       ]
      },
      {
       "output_type": "stream",
       "stream": "stdout",
       "text": [
        "\n",
        "9250"
       ]
      },
      {
       "output_type": "stream",
       "stream": "stdout",
       "text": [
        "\n",
        "9260"
       ]
      },
      {
       "output_type": "stream",
       "stream": "stdout",
       "text": [
        "\n",
        "9270"
       ]
      },
      {
       "output_type": "stream",
       "stream": "stdout",
       "text": [
        "\n",
        "9280"
       ]
      },
      {
       "output_type": "stream",
       "stream": "stdout",
       "text": [
        "\n",
        "9290"
       ]
      },
      {
       "output_type": "stream",
       "stream": "stdout",
       "text": [
        "\n",
        "9300"
       ]
      },
      {
       "output_type": "stream",
       "stream": "stdout",
       "text": [
        "\n",
        "9310"
       ]
      },
      {
       "output_type": "stream",
       "stream": "stdout",
       "text": [
        "\n",
        "9320"
       ]
      },
      {
       "output_type": "stream",
       "stream": "stdout",
       "text": [
        "\n",
        "9330"
       ]
      },
      {
       "output_type": "stream",
       "stream": "stdout",
       "text": [
        "\n",
        "9340"
       ]
      },
      {
       "output_type": "stream",
       "stream": "stdout",
       "text": [
        "\n",
        "9350"
       ]
      },
      {
       "output_type": "stream",
       "stream": "stdout",
       "text": [
        "\n",
        "9360"
       ]
      },
      {
       "output_type": "stream",
       "stream": "stdout",
       "text": [
        "\n",
        "9370"
       ]
      },
      {
       "output_type": "stream",
       "stream": "stdout",
       "text": [
        "\n",
        "9380"
       ]
      },
      {
       "output_type": "stream",
       "stream": "stdout",
       "text": [
        "\n",
        "9390"
       ]
      },
      {
       "output_type": "stream",
       "stream": "stdout",
       "text": [
        "\n",
        "9400"
       ]
      },
      {
       "output_type": "stream",
       "stream": "stdout",
       "text": [
        "\n",
        "9410"
       ]
      },
      {
       "output_type": "stream",
       "stream": "stdout",
       "text": [
        "\n",
        "9420"
       ]
      },
      {
       "output_type": "stream",
       "stream": "stdout",
       "text": [
        "\n",
        "9430"
       ]
      },
      {
       "output_type": "stream",
       "stream": "stdout",
       "text": [
        "\n",
        "9440"
       ]
      },
      {
       "output_type": "stream",
       "stream": "stdout",
       "text": [
        "\n",
        "9450"
       ]
      },
      {
       "output_type": "stream",
       "stream": "stdout",
       "text": [
        "\n",
        "9460"
       ]
      },
      {
       "output_type": "stream",
       "stream": "stdout",
       "text": [
        "\n",
        "9470"
       ]
      },
      {
       "output_type": "stream",
       "stream": "stdout",
       "text": [
        "\n",
        "9480"
       ]
      },
      {
       "output_type": "stream",
       "stream": "stdout",
       "text": [
        "\n",
        "9490"
       ]
      },
      {
       "output_type": "stream",
       "stream": "stdout",
       "text": [
        "\n",
        "9500"
       ]
      },
      {
       "output_type": "stream",
       "stream": "stdout",
       "text": [
        "\n",
        "9510"
       ]
      },
      {
       "output_type": "stream",
       "stream": "stdout",
       "text": [
        "\n",
        "9520"
       ]
      },
      {
       "output_type": "stream",
       "stream": "stdout",
       "text": [
        "\n",
        "9530"
       ]
      },
      {
       "output_type": "stream",
       "stream": "stdout",
       "text": [
        "\n",
        "9540"
       ]
      },
      {
       "output_type": "stream",
       "stream": "stdout",
       "text": [
        "\n",
        "9550"
       ]
      },
      {
       "output_type": "stream",
       "stream": "stdout",
       "text": [
        "\n",
        "9560"
       ]
      },
      {
       "output_type": "stream",
       "stream": "stdout",
       "text": [
        "\n",
        "9570"
       ]
      },
      {
       "output_type": "stream",
       "stream": "stdout",
       "text": [
        "\n",
        "9580"
       ]
      },
      {
       "output_type": "stream",
       "stream": "stdout",
       "text": [
        "\n",
        "9590"
       ]
      },
      {
       "output_type": "stream",
       "stream": "stdout",
       "text": [
        "\n",
        "9600"
       ]
      },
      {
       "output_type": "stream",
       "stream": "stdout",
       "text": [
        "\n",
        "9610"
       ]
      },
      {
       "output_type": "stream",
       "stream": "stdout",
       "text": [
        "\n",
        "9620"
       ]
      },
      {
       "output_type": "stream",
       "stream": "stdout",
       "text": [
        "\n",
        "9630"
       ]
      },
      {
       "output_type": "stream",
       "stream": "stdout",
       "text": [
        "\n",
        "9640"
       ]
      },
      {
       "output_type": "stream",
       "stream": "stdout",
       "text": [
        "\n",
        "9650"
       ]
      },
      {
       "output_type": "stream",
       "stream": "stdout",
       "text": [
        "\n",
        "9660"
       ]
      },
      {
       "output_type": "stream",
       "stream": "stdout",
       "text": [
        "\n",
        "9670"
       ]
      },
      {
       "output_type": "stream",
       "stream": "stdout",
       "text": [
        "\n",
        "9680"
       ]
      },
      {
       "output_type": "stream",
       "stream": "stdout",
       "text": [
        "\n",
        "9690"
       ]
      },
      {
       "output_type": "stream",
       "stream": "stdout",
       "text": [
        "\n",
        "9700"
       ]
      },
      {
       "output_type": "stream",
       "stream": "stdout",
       "text": [
        "\n",
        "9710"
       ]
      },
      {
       "output_type": "stream",
       "stream": "stdout",
       "text": [
        "\n",
        "9720"
       ]
      },
      {
       "output_type": "stream",
       "stream": "stdout",
       "text": [
        "\n",
        "9730"
       ]
      },
      {
       "output_type": "stream",
       "stream": "stdout",
       "text": [
        "\n",
        "9740"
       ]
      },
      {
       "output_type": "stream",
       "stream": "stdout",
       "text": [
        "\n",
        "9750"
       ]
      },
      {
       "output_type": "stream",
       "stream": "stdout",
       "text": [
        "\n",
        "9760"
       ]
      },
      {
       "output_type": "stream",
       "stream": "stdout",
       "text": [
        "\n",
        "9770"
       ]
      },
      {
       "output_type": "stream",
       "stream": "stdout",
       "text": [
        "\n",
        "9780"
       ]
      },
      {
       "output_type": "stream",
       "stream": "stdout",
       "text": [
        "\n",
        "9790"
       ]
      },
      {
       "output_type": "stream",
       "stream": "stdout",
       "text": [
        "\n",
        "9800"
       ]
      },
      {
       "output_type": "stream",
       "stream": "stdout",
       "text": [
        "\n",
        "9810"
       ]
      },
      {
       "output_type": "stream",
       "stream": "stdout",
       "text": [
        "\n",
        "9820"
       ]
      },
      {
       "output_type": "stream",
       "stream": "stdout",
       "text": [
        "\n",
        "9830"
       ]
      },
      {
       "output_type": "stream",
       "stream": "stdout",
       "text": [
        "\n",
        "9840"
       ]
      },
      {
       "output_type": "stream",
       "stream": "stdout",
       "text": [
        "\n",
        "9850"
       ]
      },
      {
       "output_type": "stream",
       "stream": "stdout",
       "text": [
        "\n",
        "9860"
       ]
      },
      {
       "output_type": "stream",
       "stream": "stdout",
       "text": [
        "\n",
        "9870"
       ]
      },
      {
       "output_type": "stream",
       "stream": "stdout",
       "text": [
        "\n",
        "9880"
       ]
      },
      {
       "output_type": "stream",
       "stream": "stdout",
       "text": [
        "\n",
        "9890"
       ]
      },
      {
       "output_type": "stream",
       "stream": "stdout",
       "text": [
        "\n",
        "9900"
       ]
      },
      {
       "output_type": "stream",
       "stream": "stdout",
       "text": [
        "\n",
        "9910"
       ]
      },
      {
       "output_type": "stream",
       "stream": "stdout",
       "text": [
        "\n",
        "9920"
       ]
      },
      {
       "output_type": "stream",
       "stream": "stdout",
       "text": [
        "\n",
        "9930"
       ]
      },
      {
       "output_type": "stream",
       "stream": "stdout",
       "text": [
        "\n",
        "9940"
       ]
      },
      {
       "output_type": "stream",
       "stream": "stdout",
       "text": [
        "\n",
        "9950"
       ]
      },
      {
       "output_type": "stream",
       "stream": "stdout",
       "text": [
        "\n",
        "9960"
       ]
      },
      {
       "output_type": "stream",
       "stream": "stdout",
       "text": [
        "\n",
        "9970"
       ]
      },
      {
       "output_type": "stream",
       "stream": "stdout",
       "text": [
        "\n",
        "9980"
       ]
      },
      {
       "output_type": "stream",
       "stream": "stdout",
       "text": [
        "\n",
        "9990"
       ]
      },
      {
       "output_type": "stream",
       "stream": "stdout",
       "text": [
        "\n",
        "10000"
       ]
      },
      {
       "output_type": "stream",
       "stream": "stdout",
       "text": [
        "\n",
        "North Carolina"
       ]
      },
      {
       "output_type": "stream",
       "stream": "stdout",
       "text": [
        "\n",
        "10010"
       ]
      },
      {
       "output_type": "stream",
       "stream": "stdout",
       "text": [
        "\n",
        "10020"
       ]
      },
      {
       "output_type": "stream",
       "stream": "stdout",
       "text": [
        "\n",
        "10030"
       ]
      },
      {
       "output_type": "stream",
       "stream": "stdout",
       "text": [
        "\n",
        "10040"
       ]
      },
      {
       "output_type": "stream",
       "stream": "stdout",
       "text": [
        "\n",
        "10050"
       ]
      },
      {
       "output_type": "stream",
       "stream": "stdout",
       "text": [
        "\n",
        "10060"
       ]
      },
      {
       "output_type": "stream",
       "stream": "stdout",
       "text": [
        "\n",
        "10070"
       ]
      },
      {
       "output_type": "stream",
       "stream": "stdout",
       "text": [
        "\n",
        "10080"
       ]
      },
      {
       "output_type": "stream",
       "stream": "stdout",
       "text": [
        "\n",
        "10090"
       ]
      },
      {
       "output_type": "stream",
       "stream": "stdout",
       "text": [
        "\n",
        "10100"
       ]
      },
      {
       "output_type": "stream",
       "stream": "stdout",
       "text": [
        "\n",
        "10110"
       ]
      },
      {
       "output_type": "stream",
       "stream": "stdout",
       "text": [
        "\n",
        "10120"
       ]
      },
      {
       "output_type": "stream",
       "stream": "stdout",
       "text": [
        "\n",
        "10130"
       ]
      },
      {
       "output_type": "stream",
       "stream": "stdout",
       "text": [
        "\n",
        "10140"
       ]
      },
      {
       "output_type": "stream",
       "stream": "stdout",
       "text": [
        "\n",
        "10150"
       ]
      },
      {
       "output_type": "stream",
       "stream": "stdout",
       "text": [
        "\n",
        "10160"
       ]
      },
      {
       "output_type": "stream",
       "stream": "stdout",
       "text": [
        "\n",
        "10170"
       ]
      },
      {
       "output_type": "stream",
       "stream": "stdout",
       "text": [
        "\n",
        "10180"
       ]
      },
      {
       "output_type": "stream",
       "stream": "stdout",
       "text": [
        "\n",
        "10190"
       ]
      },
      {
       "output_type": "stream",
       "stream": "stdout",
       "text": [
        "\n",
        "10200"
       ]
      },
      {
       "output_type": "stream",
       "stream": "stdout",
       "text": [
        "\n",
        "10210"
       ]
      },
      {
       "output_type": "stream",
       "stream": "stdout",
       "text": [
        "\n",
        "10220"
       ]
      },
      {
       "output_type": "stream",
       "stream": "stdout",
       "text": [
        "\n",
        "10230"
       ]
      },
      {
       "output_type": "stream",
       "stream": "stdout",
       "text": [
        "\n",
        "10240"
       ]
      },
      {
       "output_type": "stream",
       "stream": "stdout",
       "text": [
        "\n",
        "10250"
       ]
      },
      {
       "output_type": "stream",
       "stream": "stdout",
       "text": [
        "\n",
        "10260"
       ]
      },
      {
       "output_type": "stream",
       "stream": "stdout",
       "text": [
        "\n",
        "10270"
       ]
      },
      {
       "output_type": "stream",
       "stream": "stdout",
       "text": [
        "\n",
        "10280"
       ]
      },
      {
       "output_type": "stream",
       "stream": "stdout",
       "text": [
        "\n",
        "10290"
       ]
      },
      {
       "output_type": "stream",
       "stream": "stdout",
       "text": [
        "\n",
        "10300"
       ]
      },
      {
       "output_type": "stream",
       "stream": "stdout",
       "text": [
        "\n",
        "10310"
       ]
      },
      {
       "output_type": "stream",
       "stream": "stdout",
       "text": [
        "\n",
        "10320"
       ]
      },
      {
       "output_type": "stream",
       "stream": "stdout",
       "text": [
        "\n",
        "10330"
       ]
      },
      {
       "output_type": "stream",
       "stream": "stdout",
       "text": [
        "\n",
        "10340"
       ]
      },
      {
       "output_type": "stream",
       "stream": "stdout",
       "text": [
        "\n",
        "10350"
       ]
      },
      {
       "output_type": "stream",
       "stream": "stdout",
       "text": [
        "\n",
        "10360"
       ]
      },
      {
       "output_type": "stream",
       "stream": "stdout",
       "text": [
        "\n",
        "10370"
       ]
      },
      {
       "output_type": "stream",
       "stream": "stdout",
       "text": [
        "\n",
        "10380"
       ]
      },
      {
       "output_type": "stream",
       "stream": "stdout",
       "text": [
        "\n",
        "10390"
       ]
      },
      {
       "output_type": "stream",
       "stream": "stdout",
       "text": [
        "\n",
        "10400"
       ]
      },
      {
       "output_type": "stream",
       "stream": "stdout",
       "text": [
        "\n",
        "10410"
       ]
      },
      {
       "output_type": "stream",
       "stream": "stdout",
       "text": [
        "\n",
        "10420"
       ]
      },
      {
       "output_type": "stream",
       "stream": "stdout",
       "text": [
        "\n",
        "10430"
       ]
      },
      {
       "output_type": "stream",
       "stream": "stdout",
       "text": [
        "\n",
        "10440"
       ]
      },
      {
       "output_type": "stream",
       "stream": "stdout",
       "text": [
        "\n",
        "10450"
       ]
      },
      {
       "output_type": "stream",
       "stream": "stdout",
       "text": [
        "\n",
        "10460"
       ]
      },
      {
       "output_type": "stream",
       "stream": "stdout",
       "text": [
        "\n",
        "10470"
       ]
      },
      {
       "output_type": "stream",
       "stream": "stdout",
       "text": [
        "\n",
        "10480"
       ]
      },
      {
       "output_type": "stream",
       "stream": "stdout",
       "text": [
        "\n",
        "10490"
       ]
      },
      {
       "output_type": "stream",
       "stream": "stdout",
       "text": [
        "\n",
        "10500"
       ]
      },
      {
       "output_type": "stream",
       "stream": "stdout",
       "text": [
        "\n",
        "10510"
       ]
      },
      {
       "output_type": "stream",
       "stream": "stdout",
       "text": [
        "\n",
        "10520"
       ]
      },
      {
       "output_type": "stream",
       "stream": "stdout",
       "text": [
        "\n",
        "10530"
       ]
      },
      {
       "output_type": "stream",
       "stream": "stdout",
       "text": [
        "\n",
        "North Dakota"
       ]
      },
      {
       "output_type": "stream",
       "stream": "stdout",
       "text": [
        "\n",
        "10540"
       ]
      },
      {
       "output_type": "stream",
       "stream": "stdout",
       "text": [
        "\n",
        "10550"
       ]
      },
      {
       "output_type": "stream",
       "stream": "stdout",
       "text": [
        "\n",
        "10560"
       ]
      },
      {
       "output_type": "stream",
       "stream": "stdout",
       "text": [
        "\n",
        "10570"
       ]
      },
      {
       "output_type": "stream",
       "stream": "stdout",
       "text": [
        "\n",
        "10580"
       ]
      },
      {
       "output_type": "stream",
       "stream": "stdout",
       "text": [
        "\n",
        "Ohio"
       ]
      },
      {
       "output_type": "stream",
       "stream": "stdout",
       "text": [
        "\n",
        "10590"
       ]
      },
      {
       "output_type": "stream",
       "stream": "stdout",
       "text": [
        "\n",
        "10600"
       ]
      },
      {
       "output_type": "stream",
       "stream": "stdout",
       "text": [
        "\n",
        "10610"
       ]
      },
      {
       "output_type": "stream",
       "stream": "stdout",
       "text": [
        "\n",
        "10620"
       ]
      },
      {
       "output_type": "stream",
       "stream": "stdout",
       "text": [
        "\n",
        "10630"
       ]
      },
      {
       "output_type": "stream",
       "stream": "stdout",
       "text": [
        "\n",
        "10640"
       ]
      },
      {
       "output_type": "stream",
       "stream": "stdout",
       "text": [
        "\n",
        "10650"
       ]
      },
      {
       "output_type": "stream",
       "stream": "stdout",
       "text": [
        "\n",
        "10660"
       ]
      },
      {
       "output_type": "stream",
       "stream": "stdout",
       "text": [
        "\n",
        "10670"
       ]
      },
      {
       "output_type": "stream",
       "stream": "stdout",
       "text": [
        "\n",
        "10680"
       ]
      },
      {
       "output_type": "stream",
       "stream": "stdout",
       "text": [
        "\n",
        "10690"
       ]
      },
      {
       "output_type": "stream",
       "stream": "stdout",
       "text": [
        "\n",
        "10700"
       ]
      },
      {
       "output_type": "stream",
       "stream": "stdout",
       "text": [
        "\n",
        "10710"
       ]
      },
      {
       "output_type": "stream",
       "stream": "stdout",
       "text": [
        "\n",
        "10720"
       ]
      },
      {
       "output_type": "stream",
       "stream": "stdout",
       "text": [
        "\n",
        "10730"
       ]
      },
      {
       "output_type": "stream",
       "stream": "stdout",
       "text": [
        "\n",
        "10740"
       ]
      },
      {
       "output_type": "stream",
       "stream": "stdout",
       "text": [
        "\n",
        "10750"
       ]
      },
      {
       "output_type": "stream",
       "stream": "stdout",
       "text": [
        "\n",
        "10760"
       ]
      },
      {
       "output_type": "stream",
       "stream": "stdout",
       "text": [
        "\n",
        "10770"
       ]
      },
      {
       "output_type": "stream",
       "stream": "stdout",
       "text": [
        "\n",
        "10780"
       ]
      },
      {
       "output_type": "stream",
       "stream": "stdout",
       "text": [
        "\n",
        "10790"
       ]
      },
      {
       "output_type": "stream",
       "stream": "stdout",
       "text": [
        "\n",
        "10800"
       ]
      },
      {
       "output_type": "stream",
       "stream": "stdout",
       "text": [
        "\n",
        "10810"
       ]
      },
      {
       "output_type": "stream",
       "stream": "stdout",
       "text": [
        "\n",
        "10820"
       ]
      },
      {
       "output_type": "stream",
       "stream": "stdout",
       "text": [
        "\n",
        "10830"
       ]
      },
      {
       "output_type": "stream",
       "stream": "stdout",
       "text": [
        "\n",
        "10840"
       ]
      },
      {
       "output_type": "stream",
       "stream": "stdout",
       "text": [
        "\n",
        "10850"
       ]
      },
      {
       "output_type": "stream",
       "stream": "stdout",
       "text": [
        "\n",
        "10860"
       ]
      },
      {
       "output_type": "stream",
       "stream": "stdout",
       "text": [
        "\n",
        "10870"
       ]
      },
      {
       "output_type": "stream",
       "stream": "stdout",
       "text": [
        "\n",
        "10880"
       ]
      },
      {
       "output_type": "stream",
       "stream": "stdout",
       "text": [
        "\n",
        "10890"
       ]
      },
      {
       "output_type": "stream",
       "stream": "stdout",
       "text": [
        "\n",
        "10900"
       ]
      },
      {
       "output_type": "stream",
       "stream": "stdout",
       "text": [
        "\n",
        "10910"
       ]
      },
      {
       "output_type": "stream",
       "stream": "stdout",
       "text": [
        "\n",
        "10920"
       ]
      },
      {
       "output_type": "stream",
       "stream": "stdout",
       "text": [
        "\n",
        "10930"
       ]
      },
      {
       "output_type": "stream",
       "stream": "stdout",
       "text": [
        "\n",
        "10940"
       ]
      },
      {
       "output_type": "stream",
       "stream": "stdout",
       "text": [
        "\n",
        "10950"
       ]
      },
      {
       "output_type": "stream",
       "stream": "stdout",
       "text": [
        "\n",
        "10960"
       ]
      },
      {
       "output_type": "stream",
       "stream": "stdout",
       "text": [
        "\n",
        "10970"
       ]
      },
      {
       "output_type": "stream",
       "stream": "stdout",
       "text": [
        "\n",
        "10980"
       ]
      },
      {
       "output_type": "stream",
       "stream": "stdout",
       "text": [
        "\n",
        "10990"
       ]
      },
      {
       "output_type": "stream",
       "stream": "stdout",
       "text": [
        "\n",
        "11000"
       ]
      },
      {
       "output_type": "stream",
       "stream": "stdout",
       "text": [
        "\n",
        "11010"
       ]
      },
      {
       "output_type": "stream",
       "stream": "stdout",
       "text": [
        "\n",
        "11020"
       ]
      },
      {
       "output_type": "stream",
       "stream": "stdout",
       "text": [
        "\n",
        "11030"
       ]
      },
      {
       "output_type": "stream",
       "stream": "stdout",
       "text": [
        "\n",
        "11040"
       ]
      },
      {
       "output_type": "stream",
       "stream": "stdout",
       "text": [
        "\n",
        "11050"
       ]
      },
      {
       "output_type": "stream",
       "stream": "stdout",
       "text": [
        "\n",
        "11060"
       ]
      },
      {
       "output_type": "stream",
       "stream": "stdout",
       "text": [
        "\n",
        "11070"
       ]
      },
      {
       "output_type": "stream",
       "stream": "stdout",
       "text": [
        "\n",
        "11080"
       ]
      },
      {
       "output_type": "stream",
       "stream": "stdout",
       "text": [
        "\n",
        "11090"
       ]
      },
      {
       "output_type": "stream",
       "stream": "stdout",
       "text": [
        "\n",
        "11100"
       ]
      },
      {
       "output_type": "stream",
       "stream": "stdout",
       "text": [
        "\n",
        "11110"
       ]
      },
      {
       "output_type": "stream",
       "stream": "stdout",
       "text": [
        "\n",
        "11120"
       ]
      },
      {
       "output_type": "stream",
       "stream": "stdout",
       "text": [
        "\n",
        "11130"
       ]
      },
      {
       "output_type": "stream",
       "stream": "stdout",
       "text": [
        "\n",
        "11140"
       ]
      },
      {
       "output_type": "stream",
       "stream": "stdout",
       "text": [
        "\n",
        "11150"
       ]
      },
      {
       "output_type": "stream",
       "stream": "stdout",
       "text": [
        "\n",
        "Oklahoma\n",
        "11160"
       ]
      },
      {
       "output_type": "stream",
       "stream": "stdout",
       "text": [
        "\n",
        "11170"
       ]
      },
      {
       "output_type": "stream",
       "stream": "stdout",
       "text": [
        "\n",
        "11180"
       ]
      },
      {
       "output_type": "stream",
       "stream": "stdout",
       "text": [
        "\n",
        "11190"
       ]
      },
      {
       "output_type": "stream",
       "stream": "stdout",
       "text": [
        "\n",
        "11200"
       ]
      },
      {
       "output_type": "stream",
       "stream": "stdout",
       "text": [
        "\n",
        "11210"
       ]
      },
      {
       "output_type": "stream",
       "stream": "stdout",
       "text": [
        "\n",
        "11220"
       ]
      },
      {
       "output_type": "stream",
       "stream": "stdout",
       "text": [
        "\n",
        "11230"
       ]
      },
      {
       "output_type": "stream",
       "stream": "stdout",
       "text": [
        "\n",
        "11240"
       ]
      },
      {
       "output_type": "stream",
       "stream": "stdout",
       "text": [
        "\n",
        "11250"
       ]
      },
      {
       "output_type": "stream",
       "stream": "stdout",
       "text": [
        "\n",
        "11260"
       ]
      },
      {
       "output_type": "stream",
       "stream": "stdout",
       "text": [
        "\n",
        "11270"
       ]
      },
      {
       "output_type": "stream",
       "stream": "stdout",
       "text": [
        "\n",
        "11280"
       ]
      },
      {
       "output_type": "stream",
       "stream": "stdout",
       "text": [
        "\n",
        "11290"
       ]
      },
      {
       "output_type": "stream",
       "stream": "stdout",
       "text": [
        "\n",
        "11300"
       ]
      },
      {
       "output_type": "stream",
       "stream": "stdout",
       "text": [
        "\n",
        "11310"
       ]
      },
      {
       "output_type": "stream",
       "stream": "stdout",
       "text": [
        "\n",
        "Oregon"
       ]
      },
      {
       "output_type": "stream",
       "stream": "stdout",
       "text": [
        "\n",
        "11320"
       ]
      },
      {
       "output_type": "stream",
       "stream": "stdout",
       "text": [
        "\n",
        "11330"
       ]
      },
      {
       "output_type": "stream",
       "stream": "stdout",
       "text": [
        "\n",
        "11340"
       ]
      },
      {
       "output_type": "stream",
       "stream": "stdout",
       "text": [
        "\n",
        "11350"
       ]
      },
      {
       "output_type": "stream",
       "stream": "stdout",
       "text": [
        "\n",
        "11360"
       ]
      },
      {
       "output_type": "stream",
       "stream": "stdout",
       "text": [
        "\n",
        "11370"
       ]
      },
      {
       "output_type": "stream",
       "stream": "stdout",
       "text": [
        "\n",
        "11380"
       ]
      },
      {
       "output_type": "stream",
       "stream": "stdout",
       "text": [
        "\n",
        "11390"
       ]
      },
      {
       "output_type": "stream",
       "stream": "stdout",
       "text": [
        "\n",
        "11400"
       ]
      },
      {
       "output_type": "stream",
       "stream": "stdout",
       "text": [
        "\n",
        "11410"
       ]
      },
      {
       "output_type": "stream",
       "stream": "stdout",
       "text": [
        "\n",
        "11420"
       ]
      },
      {
       "output_type": "stream",
       "stream": "stdout",
       "text": [
        "\n",
        "11430"
       ]
      },
      {
       "output_type": "stream",
       "stream": "stdout",
       "text": [
        "\n",
        "11440"
       ]
      },
      {
       "output_type": "stream",
       "stream": "stdout",
       "text": [
        "\n",
        "11450"
       ]
      },
      {
       "output_type": "stream",
       "stream": "stdout",
       "text": [
        "\n",
        "11460"
       ]
      },
      {
       "output_type": "stream",
       "stream": "stdout",
       "text": [
        "\n",
        "11470"
       ]
      },
      {
       "output_type": "stream",
       "stream": "stdout",
       "text": [
        "\n",
        "11480"
       ]
      },
      {
       "output_type": "stream",
       "stream": "stdout",
       "text": [
        "\n",
        "11490"
       ]
      },
      {
       "output_type": "stream",
       "stream": "stdout",
       "text": [
        "\n",
        "11500"
       ]
      },
      {
       "output_type": "stream",
       "stream": "stdout",
       "text": [
        "\n",
        "Pennsylvania"
       ]
      },
      {
       "output_type": "stream",
       "stream": "stdout",
       "text": [
        "\n",
        "11510"
       ]
      },
      {
       "output_type": "stream",
       "stream": "stdout",
       "text": [
        "\n",
        "11520"
       ]
      },
      {
       "output_type": "stream",
       "stream": "stdout",
       "text": [
        "\n",
        "11530"
       ]
      },
      {
       "output_type": "stream",
       "stream": "stdout",
       "text": [
        "\n",
        "11540"
       ]
      },
      {
       "output_type": "stream",
       "stream": "stdout",
       "text": [
        "\n",
        "11550"
       ]
      },
      {
       "output_type": "stream",
       "stream": "stdout",
       "text": [
        "\n",
        "11560"
       ]
      },
      {
       "output_type": "stream",
       "stream": "stdout",
       "text": [
        "\n",
        "11570"
       ]
      },
      {
       "output_type": "stream",
       "stream": "stdout",
       "text": [
        "\n",
        "11580"
       ]
      },
      {
       "output_type": "stream",
       "stream": "stdout",
       "text": [
        "\n",
        "11590"
       ]
      },
      {
       "output_type": "stream",
       "stream": "stdout",
       "text": [
        "\n",
        "11600"
       ]
      },
      {
       "output_type": "stream",
       "stream": "stdout",
       "text": [
        "\n",
        "11610"
       ]
      },
      {
       "output_type": "stream",
       "stream": "stdout",
       "text": [
        "\n",
        "11620"
       ]
      },
      {
       "output_type": "stream",
       "stream": "stdout",
       "text": [
        "\n",
        "11630"
       ]
      },
      {
       "output_type": "stream",
       "stream": "stdout",
       "text": [
        "\n",
        "11640"
       ]
      },
      {
       "output_type": "stream",
       "stream": "stdout",
       "text": [
        "\n",
        "11650"
       ]
      },
      {
       "output_type": "stream",
       "stream": "stdout",
       "text": [
        "\n",
        "11660"
       ]
      },
      {
       "output_type": "stream",
       "stream": "stdout",
       "text": [
        "\n",
        "11670"
       ]
      },
      {
       "output_type": "stream",
       "stream": "stdout",
       "text": [
        "\n",
        "11680"
       ]
      },
      {
       "output_type": "stream",
       "stream": "stdout",
       "text": [
        "\n",
        "11690"
       ]
      },
      {
       "output_type": "stream",
       "stream": "stdout",
       "text": [
        "\n",
        "11700"
       ]
      },
      {
       "output_type": "stream",
       "stream": "stdout",
       "text": [
        "\n",
        "11710"
       ]
      },
      {
       "output_type": "stream",
       "stream": "stdout",
       "text": [
        "\n",
        "11720"
       ]
      },
      {
       "output_type": "stream",
       "stream": "stdout",
       "text": [
        "\n",
        "11730"
       ]
      },
      {
       "output_type": "stream",
       "stream": "stdout",
       "text": [
        "\n",
        "11740"
       ]
      },
      {
       "output_type": "stream",
       "stream": "stdout",
       "text": [
        "\n",
        "11750"
       ]
      },
      {
       "output_type": "stream",
       "stream": "stdout",
       "text": [
        "\n",
        "11760"
       ]
      },
      {
       "output_type": "stream",
       "stream": "stdout",
       "text": [
        "\n",
        "11770"
       ]
      },
      {
       "output_type": "stream",
       "stream": "stdout",
       "text": [
        "\n",
        "11780"
       ]
      },
      {
       "output_type": "stream",
       "stream": "stdout",
       "text": [
        "\n",
        "11790"
       ]
      },
      {
       "output_type": "stream",
       "stream": "stdout",
       "text": [
        "\n",
        "11800"
       ]
      },
      {
       "output_type": "stream",
       "stream": "stdout",
       "text": [
        "\n",
        "11810"
       ]
      },
      {
       "output_type": "stream",
       "stream": "stdout",
       "text": [
        "\n",
        "11820"
       ]
      },
      {
       "output_type": "stream",
       "stream": "stdout",
       "text": [
        "\n",
        "11830"
       ]
      },
      {
       "output_type": "stream",
       "stream": "stdout",
       "text": [
        "\n",
        "11840"
       ]
      },
      {
       "output_type": "stream",
       "stream": "stdout",
       "text": [
        "\n",
        "11850"
       ]
      },
      {
       "output_type": "stream",
       "stream": "stdout",
       "text": [
        "\n",
        "11860"
       ]
      },
      {
       "output_type": "stream",
       "stream": "stdout",
       "text": [
        "\n",
        "11870"
       ]
      },
      {
       "output_type": "stream",
       "stream": "stdout",
       "text": [
        "\n",
        "11880"
       ]
      },
      {
       "output_type": "stream",
       "stream": "stdout",
       "text": [
        "\n",
        "11890"
       ]
      },
      {
       "output_type": "stream",
       "stream": "stdout",
       "text": [
        "\n",
        "11900"
       ]
      },
      {
       "output_type": "stream",
       "stream": "stdout",
       "text": [
        "\n",
        "11910"
       ]
      },
      {
       "output_type": "stream",
       "stream": "stdout",
       "text": [
        "\n",
        "11920"
       ]
      },
      {
       "output_type": "stream",
       "stream": "stdout",
       "text": [
        "\n",
        "11930"
       ]
      },
      {
       "output_type": "stream",
       "stream": "stdout",
       "text": [
        "\n",
        "11940"
       ]
      },
      {
       "output_type": "stream",
       "stream": "stdout",
       "text": [
        "\n",
        "11950"
       ]
      },
      {
       "output_type": "stream",
       "stream": "stdout",
       "text": [
        "\n",
        "11960"
       ]
      },
      {
       "output_type": "stream",
       "stream": "stdout",
       "text": [
        "\n",
        "11970"
       ]
      },
      {
       "output_type": "stream",
       "stream": "stdout",
       "text": [
        "\n",
        "11980"
       ]
      },
      {
       "output_type": "stream",
       "stream": "stdout",
       "text": [
        "\n",
        "11990"
       ]
      },
      {
       "output_type": "stream",
       "stream": "stdout",
       "text": [
        "\n",
        "12000"
       ]
      },
      {
       "output_type": "stream",
       "stream": "stdout",
       "text": [
        "\n",
        "12010"
       ]
      },
      {
       "output_type": "stream",
       "stream": "stdout",
       "text": [
        "\n",
        "12020"
       ]
      },
      {
       "output_type": "stream",
       "stream": "stdout",
       "text": [
        "\n",
        "12030"
       ]
      },
      {
       "output_type": "stream",
       "stream": "stdout",
       "text": [
        "\n",
        "12040"
       ]
      },
      {
       "output_type": "stream",
       "stream": "stdout",
       "text": [
        "\n",
        "12050"
       ]
      },
      {
       "output_type": "stream",
       "stream": "stdout",
       "text": [
        "\n",
        "12060"
       ]
      },
      {
       "output_type": "stream",
       "stream": "stdout",
       "text": [
        "\n",
        "12070"
       ]
      },
      {
       "output_type": "stream",
       "stream": "stdout",
       "text": [
        "\n",
        "12080"
       ]
      },
      {
       "output_type": "stream",
       "stream": "stdout",
       "text": [
        "\n",
        "12090"
       ]
      },
      {
       "output_type": "stream",
       "stream": "stdout",
       "text": [
        "\n",
        "12100"
       ]
      },
      {
       "output_type": "stream",
       "stream": "stdout",
       "text": [
        "\n",
        "12110"
       ]
      },
      {
       "output_type": "stream",
       "stream": "stdout",
       "text": [
        "\n",
        "12120"
       ]
      },
      {
       "output_type": "stream",
       "stream": "stdout",
       "text": [
        "\n",
        "12130"
       ]
      },
      {
       "output_type": "stream",
       "stream": "stdout",
       "text": [
        "\n",
        "12140"
       ]
      },
      {
       "output_type": "stream",
       "stream": "stdout",
       "text": [
        "\n",
        "12150"
       ]
      },
      {
       "output_type": "stream",
       "stream": "stdout",
       "text": [
        "\n",
        "12160"
       ]
      },
      {
       "output_type": "stream",
       "stream": "stdout",
       "text": [
        "\n",
        "12170"
       ]
      },
      {
       "output_type": "stream",
       "stream": "stdout",
       "text": [
        "\n",
        "Rhode Island"
       ]
      },
      {
       "output_type": "stream",
       "stream": "stdout",
       "text": [
        "\n",
        "12180"
       ]
      },
      {
       "output_type": "stream",
       "stream": "stdout",
       "text": [
        "\n",
        "12190"
       ]
      },
      {
       "output_type": "stream",
       "stream": "stdout",
       "text": [
        "\n",
        "12200"
       ]
      },
      {
       "output_type": "stream",
       "stream": "stdout",
       "text": [
        "\n",
        "12210"
       ]
      },
      {
       "output_type": "stream",
       "stream": "stdout",
       "text": [
        "\n",
        "12220"
       ]
      },
      {
       "output_type": "stream",
       "stream": "stdout",
       "text": [
        "\n",
        "12230"
       ]
      },
      {
       "output_type": "stream",
       "stream": "stdout",
       "text": [
        "\n",
        "12240"
       ]
      },
      {
       "output_type": "stream",
       "stream": "stdout",
       "text": [
        "\n",
        "12250"
       ]
      },
      {
       "output_type": "stream",
       "stream": "stdout",
       "text": [
        "\n",
        "South Carolina\n",
        "12260"
       ]
      },
      {
       "output_type": "stream",
       "stream": "stdout",
       "text": [
        "\n",
        "12270"
       ]
      },
      {
       "output_type": "stream",
       "stream": "stdout",
       "text": [
        "\n",
        "12280"
       ]
      },
      {
       "output_type": "stream",
       "stream": "stdout",
       "text": [
        "\n",
        "12290"
       ]
      },
      {
       "output_type": "stream",
       "stream": "stdout",
       "text": [
        "\n",
        "12300"
       ]
      },
      {
       "output_type": "stream",
       "stream": "stdout",
       "text": [
        "\n",
        "12310"
       ]
      },
      {
       "output_type": "stream",
       "stream": "stdout",
       "text": [
        "\n",
        "12320"
       ]
      },
      {
       "output_type": "stream",
       "stream": "stdout",
       "text": [
        "\n",
        "12330"
       ]
      },
      {
       "output_type": "stream",
       "stream": "stdout",
       "text": [
        "\n",
        "12340"
       ]
      },
      {
       "output_type": "stream",
       "stream": "stdout",
       "text": [
        "\n",
        "12350"
       ]
      },
      {
       "output_type": "stream",
       "stream": "stdout",
       "text": [
        "\n",
        "12360"
       ]
      },
      {
       "output_type": "stream",
       "stream": "stdout",
       "text": [
        "\n",
        "12370"
       ]
      },
      {
       "output_type": "stream",
       "stream": "stdout",
       "text": [
        "\n",
        "12380"
       ]
      },
      {
       "output_type": "stream",
       "stream": "stdout",
       "text": [
        "\n",
        "12390"
       ]
      },
      {
       "output_type": "stream",
       "stream": "stdout",
       "text": [
        "\n",
        "12400"
       ]
      },
      {
       "output_type": "stream",
       "stream": "stdout",
       "text": [
        "\n",
        "12410"
       ]
      },
      {
       "output_type": "stream",
       "stream": "stdout",
       "text": [
        "\n",
        "12420"
       ]
      },
      {
       "output_type": "stream",
       "stream": "stdout",
       "text": [
        "\n",
        "12430"
       ]
      },
      {
       "output_type": "stream",
       "stream": "stdout",
       "text": [
        "\n",
        "12440"
       ]
      },
      {
       "output_type": "stream",
       "stream": "stdout",
       "text": [
        "\n",
        "12450"
       ]
      },
      {
       "output_type": "stream",
       "stream": "stdout",
       "text": [
        "\n",
        "12460"
       ]
      },
      {
       "output_type": "stream",
       "stream": "stdout",
       "text": [
        "\n",
        "12470"
       ]
      },
      {
       "output_type": "stream",
       "stream": "stdout",
       "text": [
        "\n",
        "12480"
       ]
      },
      {
       "output_type": "stream",
       "stream": "stdout",
       "text": [
        "\n",
        "South Dakota"
       ]
      },
      {
       "output_type": "stream",
       "stream": "stdout",
       "text": [
        "\n",
        "12490"
       ]
      },
      {
       "output_type": "stream",
       "stream": "stdout",
       "text": [
        "\n",
        "12500"
       ]
      },
      {
       "output_type": "stream",
       "stream": "stdout",
       "text": [
        "\n",
        "12510"
       ]
      },
      {
       "output_type": "stream",
       "stream": "stdout",
       "text": [
        "\n",
        "12520"
       ]
      },
      {
       "output_type": "stream",
       "stream": "stdout",
       "text": [
        "\n",
        "Tennessee"
       ]
      },
      {
       "output_type": "stream",
       "stream": "stdout",
       "text": [
        "\n",
        "12530"
       ]
      },
      {
       "output_type": "stream",
       "stream": "stdout",
       "text": [
        "\n",
        "12540"
       ]
      },
      {
       "output_type": "stream",
       "stream": "stdout",
       "text": [
        "\n",
        "12550"
       ]
      },
      {
       "output_type": "stream",
       "stream": "stdout",
       "text": [
        "\n",
        "12560"
       ]
      },
      {
       "output_type": "stream",
       "stream": "stdout",
       "text": [
        "\n",
        "12570"
       ]
      },
      {
       "output_type": "stream",
       "stream": "stdout",
       "text": [
        "\n",
        "12580"
       ]
      },
      {
       "output_type": "stream",
       "stream": "stdout",
       "text": [
        "\n",
        "12590"
       ]
      },
      {
       "output_type": "stream",
       "stream": "stdout",
       "text": [
        "\n",
        "12600"
       ]
      },
      {
       "output_type": "stream",
       "stream": "stdout",
       "text": [
        "\n",
        "12610"
       ]
      },
      {
       "output_type": "stream",
       "stream": "stdout",
       "text": [
        "\n",
        "12620"
       ]
      },
      {
       "output_type": "stream",
       "stream": "stdout",
       "text": [
        "\n",
        "12630"
       ]
      },
      {
       "output_type": "stream",
       "stream": "stdout",
       "text": [
        "\n",
        "12640"
       ]
      },
      {
       "output_type": "stream",
       "stream": "stdout",
       "text": [
        "\n",
        "12650"
       ]
      },
      {
       "output_type": "stream",
       "stream": "stdout",
       "text": [
        "\n",
        "12660"
       ]
      },
      {
       "output_type": "stream",
       "stream": "stdout",
       "text": [
        "\n",
        "12670"
       ]
      },
      {
       "output_type": "stream",
       "stream": "stdout",
       "text": [
        "\n",
        "12680"
       ]
      },
      {
       "output_type": "stream",
       "stream": "stdout",
       "text": [
        "\n",
        "12690"
       ]
      },
      {
       "output_type": "stream",
       "stream": "stdout",
       "text": [
        "\n",
        "12700"
       ]
      },
      {
       "output_type": "stream",
       "stream": "stdout",
       "text": [
        "\n",
        "12710"
       ]
      },
      {
       "output_type": "stream",
       "stream": "stdout",
       "text": [
        "\n",
        "12720"
       ]
      },
      {
       "output_type": "stream",
       "stream": "stdout",
       "text": [
        "\n",
        "12730"
       ]
      },
      {
       "output_type": "stream",
       "stream": "stdout",
       "text": [
        "\n",
        "12740"
       ]
      },
      {
       "output_type": "stream",
       "stream": "stdout",
       "text": [
        "\n",
        "12750"
       ]
      },
      {
       "output_type": "stream",
       "stream": "stdout",
       "text": [
        "\n",
        "12760"
       ]
      },
      {
       "output_type": "stream",
       "stream": "stdout",
       "text": [
        "\n",
        "12770"
       ]
      },
      {
       "output_type": "stream",
       "stream": "stdout",
       "text": [
        "\n",
        "12780"
       ]
      },
      {
       "output_type": "stream",
       "stream": "stdout",
       "text": [
        "\n",
        "12790"
       ]
      },
      {
       "output_type": "stream",
       "stream": "stdout",
       "text": [
        "\n",
        "12800"
       ]
      },
      {
       "output_type": "stream",
       "stream": "stdout",
       "text": [
        "\n",
        "12810"
       ]
      },
      {
       "output_type": "stream",
       "stream": "stdout",
       "text": [
        "\n",
        "12820"
       ]
      },
      {
       "output_type": "stream",
       "stream": "stdout",
       "text": [
        "\n",
        "12830"
       ]
      },
      {
       "output_type": "stream",
       "stream": "stdout",
       "text": [
        "\n",
        "12840"
       ]
      },
      {
       "output_type": "stream",
       "stream": "stdout",
       "text": [
        "\n",
        "12850"
       ]
      },
      {
       "output_type": "stream",
       "stream": "stdout",
       "text": [
        "\n",
        "12860"
       ]
      },
      {
       "output_type": "stream",
       "stream": "stdout",
       "text": [
        "\n",
        "12870"
       ]
      },
      {
       "output_type": "stream",
       "stream": "stdout",
       "text": [
        "\n",
        "12880"
       ]
      },
      {
       "output_type": "stream",
       "stream": "stdout",
       "text": [
        "\n",
        "12890"
       ]
      },
      {
       "output_type": "stream",
       "stream": "stdout",
       "text": [
        "\n",
        "Texas"
       ]
      },
      {
       "output_type": "stream",
       "stream": "stdout",
       "text": [
        "\n",
        "12900"
       ]
      },
      {
       "output_type": "stream",
       "stream": "stdout",
       "text": [
        "\n",
        "12910"
       ]
      },
      {
       "output_type": "stream",
       "stream": "stdout",
       "text": [
        "\n",
        "12920"
       ]
      },
      {
       "output_type": "stream",
       "stream": "stdout",
       "text": [
        "\n",
        "12930"
       ]
      },
      {
       "output_type": "stream",
       "stream": "stdout",
       "text": [
        "\n",
        "12940"
       ]
      },
      {
       "output_type": "stream",
       "stream": "stdout",
       "text": [
        "\n",
        "12950"
       ]
      },
      {
       "output_type": "stream",
       "stream": "stdout",
       "text": [
        "\n",
        "12960"
       ]
      },
      {
       "output_type": "stream",
       "stream": "stdout",
       "text": [
        "\n",
        "12970"
       ]
      },
      {
       "output_type": "stream",
       "stream": "stdout",
       "text": [
        "\n",
        "12980"
       ]
      },
      {
       "output_type": "stream",
       "stream": "stdout",
       "text": [
        "\n",
        "12990"
       ]
      },
      {
       "output_type": "stream",
       "stream": "stdout",
       "text": [
        "\n",
        "13000"
       ]
      },
      {
       "output_type": "stream",
       "stream": "stdout",
       "text": [
        "\n",
        "13010"
       ]
      },
      {
       "output_type": "stream",
       "stream": "stdout",
       "text": [
        "\n",
        "13020"
       ]
      },
      {
       "output_type": "stream",
       "stream": "stdout",
       "text": [
        "\n",
        "13030"
       ]
      },
      {
       "output_type": "stream",
       "stream": "stdout",
       "text": [
        "\n",
        "13040"
       ]
      },
      {
       "output_type": "stream",
       "stream": "stdout",
       "text": [
        "\n",
        "13050"
       ]
      },
      {
       "output_type": "stream",
       "stream": "stdout",
       "text": [
        "\n",
        "13060"
       ]
      },
      {
       "output_type": "stream",
       "stream": "stdout",
       "text": [
        "\n",
        "13070"
       ]
      },
      {
       "output_type": "stream",
       "stream": "stdout",
       "text": [
        "\n",
        "13080"
       ]
      },
      {
       "output_type": "stream",
       "stream": "stdout",
       "text": [
        "\n",
        "13090"
       ]
      },
      {
       "output_type": "stream",
       "stream": "stdout",
       "text": [
        "\n",
        "13100"
       ]
      },
      {
       "output_type": "stream",
       "stream": "stdout",
       "text": [
        "\n",
        "13110"
       ]
      },
      {
       "output_type": "stream",
       "stream": "stdout",
       "text": [
        "\n",
        "13120"
       ]
      },
      {
       "output_type": "stream",
       "stream": "stdout",
       "text": [
        "\n",
        "13130"
       ]
      },
      {
       "output_type": "stream",
       "stream": "stdout",
       "text": [
        "\n",
        "13140"
       ]
      },
      {
       "output_type": "stream",
       "stream": "stdout",
       "text": [
        "\n",
        "13150"
       ]
      },
      {
       "output_type": "stream",
       "stream": "stdout",
       "text": [
        "\n",
        "13160"
       ]
      },
      {
       "output_type": "stream",
       "stream": "stdout",
       "text": [
        "\n",
        "13170"
       ]
      },
      {
       "output_type": "stream",
       "stream": "stdout",
       "text": [
        "\n",
        "13180"
       ]
      },
      {
       "output_type": "stream",
       "stream": "stdout",
       "text": [
        "\n",
        "13190"
       ]
      },
      {
       "output_type": "stream",
       "stream": "stdout",
       "text": [
        "\n",
        "13200"
       ]
      },
      {
       "output_type": "stream",
       "stream": "stdout",
       "text": [
        "\n",
        "13210"
       ]
      },
      {
       "output_type": "stream",
       "stream": "stdout",
       "text": [
        "\n",
        "13220"
       ]
      },
      {
       "output_type": "stream",
       "stream": "stdout",
       "text": [
        "\n",
        "13230"
       ]
      },
      {
       "output_type": "stream",
       "stream": "stdout",
       "text": [
        "\n",
        "13240"
       ]
      },
      {
       "output_type": "stream",
       "stream": "stdout",
       "text": [
        "\n",
        "13250"
       ]
      },
      {
       "output_type": "stream",
       "stream": "stdout",
       "text": [
        "\n",
        "13260"
       ]
      },
      {
       "output_type": "stream",
       "stream": "stdout",
       "text": [
        "\n",
        "13270"
       ]
      },
      {
       "output_type": "stream",
       "stream": "stdout",
       "text": [
        "\n",
        "13280"
       ]
      },
      {
       "output_type": "stream",
       "stream": "stdout",
       "text": [
        "\n",
        "13290"
       ]
      },
      {
       "output_type": "stream",
       "stream": "stdout",
       "text": [
        "\n",
        "13300"
       ]
      },
      {
       "output_type": "stream",
       "stream": "stdout",
       "text": [
        "\n",
        "13310"
       ]
      },
      {
       "output_type": "stream",
       "stream": "stdout",
       "text": [
        "\n",
        "13320"
       ]
      },
      {
       "output_type": "stream",
       "stream": "stdout",
       "text": [
        "\n",
        "13330"
       ]
      },
      {
       "output_type": "stream",
       "stream": "stdout",
       "text": [
        "\n",
        "13340"
       ]
      },
      {
       "output_type": "stream",
       "stream": "stdout",
       "text": [
        "\n",
        "13350"
       ]
      },
      {
       "output_type": "stream",
       "stream": "stdout",
       "text": [
        "\n",
        "13360"
       ]
      },
      {
       "output_type": "stream",
       "stream": "stdout",
       "text": [
        "\n",
        "13370"
       ]
      },
      {
       "output_type": "stream",
       "stream": "stdout",
       "text": [
        "\n",
        "13380"
       ]
      },
      {
       "output_type": "stream",
       "stream": "stdout",
       "text": [
        "\n",
        "13390"
       ]
      },
      {
       "output_type": "stream",
       "stream": "stdout",
       "text": [
        "\n",
        "13400"
       ]
      },
      {
       "output_type": "stream",
       "stream": "stdout",
       "text": [
        "\n",
        "13410"
       ]
      },
      {
       "output_type": "stream",
       "stream": "stdout",
       "text": [
        "\n",
        "13420"
       ]
      },
      {
       "output_type": "stream",
       "stream": "stdout",
       "text": [
        "\n",
        "13430"
       ]
      },
      {
       "output_type": "stream",
       "stream": "stdout",
       "text": [
        "\n",
        "13440"
       ]
      },
      {
       "output_type": "stream",
       "stream": "stdout",
       "text": [
        "\n",
        "13450"
       ]
      },
      {
       "output_type": "stream",
       "stream": "stdout",
       "text": [
        "\n",
        "13460"
       ]
      },
      {
       "output_type": "stream",
       "stream": "stdout",
       "text": [
        "\n",
        "13470"
       ]
      },
      {
       "output_type": "stream",
       "stream": "stdout",
       "text": [
        "\n",
        "13480"
       ]
      },
      {
       "output_type": "stream",
       "stream": "stdout",
       "text": [
        "\n",
        "13490"
       ]
      },
      {
       "output_type": "stream",
       "stream": "stdout",
       "text": [
        "\n",
        "13500"
       ]
      },
      {
       "output_type": "stream",
       "stream": "stdout",
       "text": [
        "\n",
        "13510"
       ]
      },
      {
       "output_type": "stream",
       "stream": "stdout",
       "text": [
        "\n",
        "13520"
       ]
      },
      {
       "output_type": "stream",
       "stream": "stdout",
       "text": [
        "\n",
        "13530"
       ]
      },
      {
       "output_type": "stream",
       "stream": "stdout",
       "text": [
        "\n",
        "13540"
       ]
      },
      {
       "output_type": "stream",
       "stream": "stdout",
       "text": [
        "\n",
        "13550"
       ]
      },
      {
       "output_type": "stream",
       "stream": "stdout",
       "text": [
        "\n",
        "13560"
       ]
      },
      {
       "output_type": "stream",
       "stream": "stdout",
       "text": [
        "\n",
        "13570"
       ]
      },
      {
       "output_type": "stream",
       "stream": "stdout",
       "text": [
        "\n",
        "13580"
       ]
      },
      {
       "output_type": "stream",
       "stream": "stdout",
       "text": [
        "\n",
        "13590"
       ]
      },
      {
       "output_type": "stream",
       "stream": "stdout",
       "text": [
        "\n",
        "13600"
       ]
      },
      {
       "output_type": "stream",
       "stream": "stdout",
       "text": [
        "\n",
        "13610"
       ]
      },
      {
       "output_type": "stream",
       "stream": "stdout",
       "text": [
        "\n",
        "13620"
       ]
      },
      {
       "output_type": "stream",
       "stream": "stdout",
       "text": [
        "\n",
        "13630"
       ]
      },
      {
       "output_type": "stream",
       "stream": "stdout",
       "text": [
        "\n",
        "13640"
       ]
      },
      {
       "output_type": "stream",
       "stream": "stdout",
       "text": [
        "\n",
        "13650"
       ]
      },
      {
       "output_type": "stream",
       "stream": "stdout",
       "text": [
        "\n",
        "13660"
       ]
      },
      {
       "output_type": "stream",
       "stream": "stdout",
       "text": [
        "\n",
        "13670"
       ]
      },
      {
       "output_type": "stream",
       "stream": "stdout",
       "text": [
        "\n",
        "13680"
       ]
      },
      {
       "output_type": "stream",
       "stream": "stdout",
       "text": [
        "\n",
        "13690"
       ]
      },
      {
       "output_type": "stream",
       "stream": "stdout",
       "text": [
        "\n",
        "13700"
       ]
      },
      {
       "output_type": "stream",
       "stream": "stdout",
       "text": [
        "\n",
        "13710"
       ]
      },
      {
       "output_type": "stream",
       "stream": "stdout",
       "text": [
        "\n",
        "13720"
       ]
      },
      {
       "output_type": "stream",
       "stream": "stdout",
       "text": [
        "\n",
        "13730"
       ]
      },
      {
       "output_type": "stream",
       "stream": "stdout",
       "text": [
        "\n",
        "13740"
       ]
      },
      {
       "output_type": "stream",
       "stream": "stdout",
       "text": [
        "\n",
        "13750"
       ]
      },
      {
       "output_type": "stream",
       "stream": "stdout",
       "text": [
        "\n",
        "13760"
       ]
      },
      {
       "output_type": "stream",
       "stream": "stdout",
       "text": [
        "\n",
        "13770"
       ]
      },
      {
       "output_type": "stream",
       "stream": "stdout",
       "text": [
        "\n",
        "13780"
       ]
      },
      {
       "output_type": "stream",
       "stream": "stdout",
       "text": [
        "\n",
        "13790"
       ]
      },
      {
       "output_type": "stream",
       "stream": "stdout",
       "text": [
        "\n",
        "13800"
       ]
      },
      {
       "output_type": "stream",
       "stream": "stdout",
       "text": [
        "\n",
        "13810"
       ]
      },
      {
       "output_type": "stream",
       "stream": "stdout",
       "text": [
        "\n",
        "13820"
       ]
      },
      {
       "output_type": "stream",
       "stream": "stdout",
       "text": [
        "\n",
        "13830"
       ]
      },
      {
       "output_type": "stream",
       "stream": "stdout",
       "text": [
        "\n",
        "13840"
       ]
      },
      {
       "output_type": "stream",
       "stream": "stdout",
       "text": [
        "\n",
        "13850"
       ]
      },
      {
       "output_type": "stream",
       "stream": "stdout",
       "text": [
        "\n",
        "13860"
       ]
      },
      {
       "output_type": "stream",
       "stream": "stdout",
       "text": [
        "\n",
        "13870"
       ]
      },
      {
       "output_type": "stream",
       "stream": "stdout",
       "text": [
        "\n",
        "13880"
       ]
      },
      {
       "output_type": "stream",
       "stream": "stdout",
       "text": [
        "\n",
        "13890"
       ]
      },
      {
       "output_type": "stream",
       "stream": "stdout",
       "text": [
        "\n",
        "13900"
       ]
      },
      {
       "output_type": "stream",
       "stream": "stdout",
       "text": [
        "\n",
        "13910"
       ]
      },
      {
       "output_type": "stream",
       "stream": "stdout",
       "text": [
        "\n",
        "13920"
       ]
      },
      {
       "output_type": "stream",
       "stream": "stdout",
       "text": [
        "\n",
        "13930"
       ]
      },
      {
       "output_type": "stream",
       "stream": "stdout",
       "text": [
        "\n",
        "13940"
       ]
      },
      {
       "output_type": "stream",
       "stream": "stdout",
       "text": [
        "\n",
        "13950"
       ]
      },
      {
       "output_type": "stream",
       "stream": "stdout",
       "text": [
        "\n",
        "13960"
       ]
      },
      {
       "output_type": "stream",
       "stream": "stdout",
       "text": [
        "\n",
        "13970"
       ]
      },
      {
       "output_type": "stream",
       "stream": "stdout",
       "text": [
        "\n",
        "Utah"
       ]
      },
      {
       "output_type": "stream",
       "stream": "stdout",
       "text": [
        "\n",
        "13980"
       ]
      },
      {
       "output_type": "stream",
       "stream": "stdout",
       "text": [
        "\n",
        "13990"
       ]
      },
      {
       "output_type": "stream",
       "stream": "stdout",
       "text": [
        "\n",
        "14000"
       ]
      },
      {
       "output_type": "stream",
       "stream": "stdout",
       "text": [
        "\n",
        "14010"
       ]
      },
      {
       "output_type": "stream",
       "stream": "stdout",
       "text": [
        "\n",
        "14020"
       ]
      },
      {
       "output_type": "stream",
       "stream": "stdout",
       "text": [
        "\n",
        "14030"
       ]
      },
      {
       "output_type": "stream",
       "stream": "stdout",
       "text": [
        "\n",
        "14040"
       ]
      },
      {
       "output_type": "stream",
       "stream": "stdout",
       "text": [
        "\n",
        "14050"
       ]
      },
      {
       "output_type": "stream",
       "stream": "stdout",
       "text": [
        "\n",
        "14060"
       ]
      },
      {
       "output_type": "stream",
       "stream": "stdout",
       "text": [
        "\n",
        "14070"
       ]
      },
      {
       "output_type": "stream",
       "stream": "stdout",
       "text": [
        "\n",
        "14080"
       ]
      },
      {
       "output_type": "stream",
       "stream": "stdout",
       "text": [
        "\n",
        "14090"
       ]
      },
      {
       "output_type": "stream",
       "stream": "stdout",
       "text": [
        "\n",
        "14100"
       ]
      },
      {
       "output_type": "stream",
       "stream": "stdout",
       "text": [
        "\n",
        "Vermont"
       ]
      },
      {
       "output_type": "stream",
       "stream": "stdout",
       "text": [
        "\n",
        "14110"
       ]
      },
      {
       "output_type": "stream",
       "stream": "stdout",
       "text": [
        "\n",
        "14120"
       ]
      },
      {
       "output_type": "stream",
       "stream": "stdout",
       "text": [
        "\n",
        "14130"
       ]
      },
      {
       "output_type": "stream",
       "stream": "stdout",
       "text": [
        "\n",
        "14140"
       ]
      },
      {
       "output_type": "stream",
       "stream": "stdout",
       "text": [
        "\n",
        "Virginia"
       ]
      },
      {
       "output_type": "stream",
       "stream": "stdout",
       "text": [
        "\n",
        "14150"
       ]
      },
      {
       "output_type": "stream",
       "stream": "stdout",
       "text": [
        "\n",
        "14160"
       ]
      },
      {
       "output_type": "stream",
       "stream": "stdout",
       "text": [
        "\n",
        "14170"
       ]
      },
      {
       "output_type": "stream",
       "stream": "stdout",
       "text": [
        "\n",
        "14180"
       ]
      },
      {
       "output_type": "stream",
       "stream": "stdout",
       "text": [
        "\n",
        "14190"
       ]
      },
      {
       "output_type": "stream",
       "stream": "stdout",
       "text": [
        "\n",
        "14200"
       ]
      },
      {
       "output_type": "stream",
       "stream": "stdout",
       "text": [
        "\n",
        "14210"
       ]
      },
      {
       "output_type": "stream",
       "stream": "stdout",
       "text": [
        "\n",
        "14220"
       ]
      },
      {
       "output_type": "stream",
       "stream": "stdout",
       "text": [
        "\n",
        "14230"
       ]
      },
      {
       "output_type": "stream",
       "stream": "stdout",
       "text": [
        "\n",
        "14240"
       ]
      },
      {
       "output_type": "stream",
       "stream": "stdout",
       "text": [
        "\n",
        "14250"
       ]
      },
      {
       "output_type": "stream",
       "stream": "stdout",
       "text": [
        "\n",
        "14260"
       ]
      },
      {
       "output_type": "stream",
       "stream": "stdout",
       "text": [
        "\n",
        "14270"
       ]
      },
      {
       "output_type": "stream",
       "stream": "stdout",
       "text": [
        "\n",
        "14280"
       ]
      },
      {
       "output_type": "stream",
       "stream": "stdout",
       "text": [
        "\n",
        "14290"
       ]
      },
      {
       "output_type": "stream",
       "stream": "stdout",
       "text": [
        "\n",
        "14300"
       ]
      },
      {
       "output_type": "stream",
       "stream": "stdout",
       "text": [
        "\n",
        "14310"
       ]
      },
      {
       "output_type": "stream",
       "stream": "stdout",
       "text": [
        "\n",
        "14320"
       ]
      },
      {
       "output_type": "stream",
       "stream": "stdout",
       "text": [
        "\n",
        "14330"
       ]
      },
      {
       "output_type": "stream",
       "stream": "stdout",
       "text": [
        "\n",
        "14340"
       ]
      },
      {
       "output_type": "stream",
       "stream": "stdout",
       "text": [
        "\n",
        "14350"
       ]
      },
      {
       "output_type": "stream",
       "stream": "stdout",
       "text": [
        "\n",
        "14360"
       ]
      },
      {
       "output_type": "stream",
       "stream": "stdout",
       "text": [
        "\n",
        "14370"
       ]
      },
      {
       "output_type": "stream",
       "stream": "stdout",
       "text": [
        "\n",
        "14380"
       ]
      },
      {
       "output_type": "stream",
       "stream": "stdout",
       "text": [
        "\n",
        "14390"
       ]
      },
      {
       "output_type": "stream",
       "stream": "stdout",
       "text": [
        "\n",
        "14400"
       ]
      },
      {
       "output_type": "stream",
       "stream": "stdout",
       "text": [
        "\n",
        "14410"
       ]
      },
      {
       "output_type": "stream",
       "stream": "stdout",
       "text": [
        "\n",
        "14420"
       ]
      },
      {
       "output_type": "stream",
       "stream": "stdout",
       "text": [
        "\n",
        "14430"
       ]
      },
      {
       "output_type": "stream",
       "stream": "stdout",
       "text": [
        "\n",
        "14440"
       ]
      },
      {
       "output_type": "stream",
       "stream": "stdout",
       "text": [
        "\n",
        "14450"
       ]
      },
      {
       "output_type": "stream",
       "stream": "stdout",
       "text": [
        "\n",
        "14460"
       ]
      },
      {
       "output_type": "stream",
       "stream": "stdout",
       "text": [
        "\n",
        "14470"
       ]
      },
      {
       "output_type": "stream",
       "stream": "stdout",
       "text": [
        "\n",
        "14480"
       ]
      },
      {
       "output_type": "stream",
       "stream": "stdout",
       "text": [
        "\n",
        "14490"
       ]
      },
      {
       "output_type": "stream",
       "stream": "stdout",
       "text": [
        "\n",
        "14500"
       ]
      },
      {
       "output_type": "stream",
       "stream": "stdout",
       "text": [
        "\n",
        "Washington"
       ]
      },
      {
       "output_type": "stream",
       "stream": "stdout",
       "text": [
        "\n",
        "14510"
       ]
      },
      {
       "output_type": "stream",
       "stream": "stdout",
       "text": [
        "\n",
        "14520"
       ]
      },
      {
       "output_type": "stream",
       "stream": "stdout",
       "text": [
        "\n",
        "14530"
       ]
      },
      {
       "output_type": "stream",
       "stream": "stdout",
       "text": [
        "\n",
        "14540"
       ]
      },
      {
       "output_type": "stream",
       "stream": "stdout",
       "text": [
        "\n",
        "14550"
       ]
      },
      {
       "output_type": "stream",
       "stream": "stdout",
       "text": [
        "\n",
        "14560"
       ]
      },
      {
       "output_type": "stream",
       "stream": "stdout",
       "text": [
        "\n",
        "14570"
       ]
      },
      {
       "output_type": "stream",
       "stream": "stdout",
       "text": [
        "\n",
        "14580"
       ]
      },
      {
       "output_type": "stream",
       "stream": "stdout",
       "text": [
        "\n",
        "14590"
       ]
      },
      {
       "output_type": "stream",
       "stream": "stdout",
       "text": [
        "\n",
        "14600"
       ]
      },
      {
       "output_type": "stream",
       "stream": "stdout",
       "text": [
        "\n",
        "14610"
       ]
      },
      {
       "output_type": "stream",
       "stream": "stdout",
       "text": [
        "\n",
        "14620"
       ]
      },
      {
       "output_type": "stream",
       "stream": "stdout",
       "text": [
        "\n",
        "14630"
       ]
      },
      {
       "output_type": "stream",
       "stream": "stdout",
       "text": [
        "\n",
        "14640"
       ]
      },
      {
       "output_type": "stream",
       "stream": "stdout",
       "text": [
        "\n",
        "14650"
       ]
      },
      {
       "output_type": "stream",
       "stream": "stdout",
       "text": [
        "\n",
        "14660"
       ]
      },
      {
       "output_type": "stream",
       "stream": "stdout",
       "text": [
        "\n",
        "14670"
       ]
      },
      {
       "output_type": "stream",
       "stream": "stdout",
       "text": [
        "\n",
        "14680"
       ]
      },
      {
       "output_type": "stream",
       "stream": "stdout",
       "text": [
        "\n",
        "14690"
       ]
      },
      {
       "output_type": "stream",
       "stream": "stdout",
       "text": [
        "\n",
        "14700"
       ]
      },
      {
       "output_type": "stream",
       "stream": "stdout",
       "text": [
        "\n",
        "14710"
       ]
      },
      {
       "output_type": "stream",
       "stream": "stdout",
       "text": [
        "\n",
        "14720"
       ]
      },
      {
       "output_type": "stream",
       "stream": "stdout",
       "text": [
        "\n",
        "14730"
       ]
      },
      {
       "output_type": "stream",
       "stream": "stdout",
       "text": [
        "\n",
        "14740"
       ]
      },
      {
       "output_type": "stream",
       "stream": "stdout",
       "text": [
        "\n",
        "14750"
       ]
      },
      {
       "output_type": "stream",
       "stream": "stdout",
       "text": [
        "\n",
        "14760"
       ]
      },
      {
       "output_type": "stream",
       "stream": "stdout",
       "text": [
        "\n",
        "14770"
       ]
      },
      {
       "output_type": "stream",
       "stream": "stdout",
       "text": [
        "\n",
        "14780"
       ]
      },
      {
       "output_type": "stream",
       "stream": "stdout",
       "text": [
        "\n",
        "14790"
       ]
      },
      {
       "output_type": "stream",
       "stream": "stdout",
       "text": [
        "\n",
        "14800"
       ]
      },
      {
       "output_type": "stream",
       "stream": "stdout",
       "text": [
        "\n",
        "14810"
       ]
      },
      {
       "output_type": "stream",
       "stream": "stdout",
       "text": [
        "\n",
        "14820"
       ]
      },
      {
       "output_type": "stream",
       "stream": "stdout",
       "text": [
        "\n",
        "14830"
       ]
      },
      {
       "output_type": "stream",
       "stream": "stdout",
       "text": [
        "\n",
        "West Virginia\n",
        "14840"
       ]
      },
      {
       "output_type": "stream",
       "stream": "stdout",
       "text": [
        "\n",
        "14850"
       ]
      },
      {
       "output_type": "stream",
       "stream": "stdout",
       "text": [
        "\n",
        "14860"
       ]
      },
      {
       "output_type": "stream",
       "stream": "stdout",
       "text": [
        "\n",
        "14870"
       ]
      },
      {
       "output_type": "stream",
       "stream": "stdout",
       "text": [
        "\n",
        "Wisconsin"
       ]
      },
      {
       "output_type": "stream",
       "stream": "stdout",
       "text": [
        "\n",
        "14880"
       ]
      },
      {
       "output_type": "stream",
       "stream": "stdout",
       "text": [
        "\n",
        "14890"
       ]
      },
      {
       "output_type": "stream",
       "stream": "stdout",
       "text": [
        "\n",
        "14900"
       ]
      },
      {
       "output_type": "stream",
       "stream": "stdout",
       "text": [
        "\n",
        "14910"
       ]
      },
      {
       "output_type": "stream",
       "stream": "stdout",
       "text": [
        "\n",
        "14920"
       ]
      },
      {
       "output_type": "stream",
       "stream": "stdout",
       "text": [
        "\n",
        "14930"
       ]
      },
      {
       "output_type": "stream",
       "stream": "stdout",
       "text": [
        "\n",
        "14940"
       ]
      },
      {
       "output_type": "stream",
       "stream": "stdout",
       "text": [
        "\n",
        "14950"
       ]
      },
      {
       "output_type": "stream",
       "stream": "stdout",
       "text": [
        "\n",
        "14960"
       ]
      },
      {
       "output_type": "stream",
       "stream": "stdout",
       "text": [
        "\n",
        "14970"
       ]
      },
      {
       "output_type": "stream",
       "stream": "stdout",
       "text": [
        "\n",
        "14980"
       ]
      },
      {
       "output_type": "stream",
       "stream": "stdout",
       "text": [
        "\n",
        "14990"
       ]
      },
      {
       "output_type": "stream",
       "stream": "stdout",
       "text": [
        "\n",
        "15000"
       ]
      },
      {
       "output_type": "stream",
       "stream": "stdout",
       "text": [
        "\n",
        "15010"
       ]
      },
      {
       "output_type": "stream",
       "stream": "stdout",
       "text": [
        "\n",
        "15020"
       ]
      },
      {
       "output_type": "stream",
       "stream": "stdout",
       "text": [
        "\n",
        "15030"
       ]
      },
      {
       "output_type": "stream",
       "stream": "stdout",
       "text": [
        "\n",
        "15040"
       ]
      },
      {
       "output_type": "stream",
       "stream": "stdout",
       "text": [
        "\n",
        "15050"
       ]
      },
      {
       "output_type": "stream",
       "stream": "stdout",
       "text": [
        "\n",
        "15060"
       ]
      },
      {
       "output_type": "stream",
       "stream": "stdout",
       "text": [
        "\n",
        "15070"
       ]
      },
      {
       "output_type": "stream",
       "stream": "stdout",
       "text": [
        "\n",
        "15080"
       ]
      },
      {
       "output_type": "stream",
       "stream": "stdout",
       "text": [
        "\n",
        "15090"
       ]
      },
      {
       "output_type": "stream",
       "stream": "stdout",
       "text": [
        "\n",
        "15100"
       ]
      },
      {
       "output_type": "stream",
       "stream": "stdout",
       "text": [
        "\n",
        "Wyoming"
       ]
      },
      {
       "output_type": "stream",
       "stream": "stdout",
       "text": [
        "\n",
        "15110"
       ]
      },
      {
       "output_type": "stream",
       "stream": "stdout",
       "text": [
        "\n"
       ]
      },
      {
       "output_type": "stream",
       "stream": "stderr",
       "text": [
        "-c:22: SettingWithCopyWarning: A value is trying to be set on a copy of a slice from a DataFrame\n"
       ]
      }
     ],
     "prompt_number": 4
    },
    {
     "cell_type": "code",
     "collapsed": false,
     "input": [
      "potential.groupby(potential.cluster).min()"
     ],
     "language": "python",
     "metadata": {},
     "outputs": []
    },
    {
     "cell_type": "code",
     "collapsed": false,
     "input": [
      "potential[potential.cluster==12439]"
     ],
     "language": "python",
     "metadata": {},
     "outputs": [
      {
       "html": [
        "<div style=\"max-height:1000px;max-width:1500px;overflow:auto;\">\n",
        "<table border=\"1\" class=\"dataframe\">\n",
        "  <thead>\n",
        "    <tr style=\"text-align: right;\">\n",
        "      <th></th>\n",
        "      <th>facility_id</th>\n",
        "      <th>nct_id</th>\n",
        "      <th>status</th>\n",
        "      <th>facility_name</th>\n",
        "      <th>city</th>\n",
        "      <th>state</th>\n",
        "      <th>zipcode</th>\n",
        "      <th>country</th>\n",
        "      <th>cluster</th>\n",
        "    </tr>\n",
        "  </thead>\n",
        "  <tbody>\n",
        "    <tr>\n",
        "      <th>72    </th>\n",
        "      <td>     37</td>\n",
        "      <td> NCT00000102</td>\n",
        "      <td>                       </td>\n",
        "      <td>              Medical University of South Carolina</td>\n",
        "      <td>       Charleston</td>\n",
        "      <td> South Carolina</td>\n",
        "      <td>           </td>\n",
        "      <td> United States</td>\n",
        "      <td> 12439</td>\n",
        "    </tr>\n",
        "    <tr>\n",
        "      <th>2948  </th>\n",
        "      <td>   5200</td>\n",
        "      <td> NCT01351662</td>\n",
        "      <td>                       </td>\n",
        "      <td>              Medical University of South Carolina</td>\n",
        "      <td>       Charleston</td>\n",
        "      <td> South Carolina</td>\n",
        "      <td>      29425</td>\n",
        "      <td> United States</td>\n",
        "      <td> 12439</td>\n",
        "    </tr>\n",
        "    <tr>\n",
        "      <th>3870  </th>\n",
        "      <td>   4981</td>\n",
        "      <td> NCT01351545</td>\n",
        "      <td>             Recruiting</td>\n",
        "      <td>              Medical University of South Carolina</td>\n",
        "      <td>       Charleston</td>\n",
        "      <td> South Carolina</td>\n",
        "      <td>      29425</td>\n",
        "      <td> United States</td>\n",
        "      <td> 12439</td>\n",
        "    </tr>\n",
        "    <tr>\n",
        "      <th>4001  </th>\n",
        "      <td>   5252</td>\n",
        "      <td> NCT01353222</td>\n",
        "      <td>                       </td>\n",
        "      <td>              Medical University of South Carolina</td>\n",
        "      <td>       Charleston</td>\n",
        "      <td> South Carolina</td>\n",
        "      <td>      29425</td>\n",
        "      <td> United States</td>\n",
        "      <td> 12439</td>\n",
        "    </tr>\n",
        "    <tr>\n",
        "      <th>5026  </th>\n",
        "      <td>   6066</td>\n",
        "      <td> NCT01347710</td>\n",
        "      <td>                       </td>\n",
        "      <td>              Medical University of South Carolina</td>\n",
        "      <td>       Charleston</td>\n",
        "      <td> South Carolina</td>\n",
        "      <td>      29425</td>\n",
        "      <td> United States</td>\n",
        "      <td> 12439</td>\n",
        "    </tr>\n",
        "    <tr>\n",
        "      <th>5372  </th>\n",
        "      <td>   5495</td>\n",
        "      <td> NCT01350336</td>\n",
        "      <td>             Recruiting</td>\n",
        "      <td>              Medical University of South Carolina</td>\n",
        "      <td>       Charleston</td>\n",
        "      <td> South Carolina</td>\n",
        "      <td>      29425</td>\n",
        "      <td> United States</td>\n",
        "      <td> 12439</td>\n",
        "    </tr>\n",
        "    <tr>\n",
        "      <th>5702  </th>\n",
        "      <td>   4912</td>\n",
        "      <td> NCT01349972</td>\n",
        "      <td>                       </td>\n",
        "      <td>              Medical University of South Carolina</td>\n",
        "      <td>       Charleston</td>\n",
        "      <td> South Carolina</td>\n",
        "      <td>      29425</td>\n",
        "      <td> United States</td>\n",
        "      <td> 12439</td>\n",
        "    </tr>\n",
        "    <tr>\n",
        "      <th>6372  </th>\n",
        "      <td>   7131</td>\n",
        "      <td> NCT01349322</td>\n",
        "      <td>             Recruiting</td>\n",
        "      <td>              Medical University of South Carolina</td>\n",
        "      <td>       Charleston</td>\n",
        "      <td> South Carolina</td>\n",
        "      <td>      29425</td>\n",
        "      <td> United States</td>\n",
        "      <td> 12439</td>\n",
        "    </tr>\n",
        "    <tr>\n",
        "      <th>9274  </th>\n",
        "      <td>  11596</td>\n",
        "      <td> NCT00050882</td>\n",
        "      <td>                       </td>\n",
        "      <td>              Medical University of South Carolina</td>\n",
        "      <td>       Charleston</td>\n",
        "      <td> South Carolina</td>\n",
        "      <td>      29425</td>\n",
        "      <td> United States</td>\n",
        "      <td> 12439</td>\n",
        "    </tr>\n",
        "    <tr>\n",
        "      <th>9311  </th>\n",
        "      <td>  10527</td>\n",
        "      <td> NCT00050076</td>\n",
        "      <td>                       </td>\n",
        "      <td>              Medical University of South Carolina</td>\n",
        "      <td>       Charleston</td>\n",
        "      <td> South Carolina</td>\n",
        "      <td>      29425</td>\n",
        "      <td> United States</td>\n",
        "      <td> 12439</td>\n",
        "    </tr>\n",
        "    <tr>\n",
        "      <th>10667 </th>\n",
        "      <td>  11804</td>\n",
        "      <td> NCT01362231</td>\n",
        "      <td>                       </td>\n",
        "      <td>              Medical University of South Carolina</td>\n",
        "      <td>       Charleston</td>\n",
        "      <td> South Carolina</td>\n",
        "      <td>      29425</td>\n",
        "      <td> United States</td>\n",
        "      <td> 12439</td>\n",
        "    </tr>\n",
        "    <tr>\n",
        "      <th>10915 </th>\n",
        "      <td>  11822</td>\n",
        "      <td> NCT01363154</td>\n",
        "      <td>                       </td>\n",
        "      <td>              Medical University of South Carolina</td>\n",
        "      <td>       Charleston</td>\n",
        "      <td> South Carolina</td>\n",
        "      <td>      29425</td>\n",
        "      <td> United States</td>\n",
        "      <td> 12439</td>\n",
        "    </tr>\n",
        "    <tr>\n",
        "      <th>10916 </th>\n",
        "      <td>  11823</td>\n",
        "      <td> NCT01363167</td>\n",
        "      <td>                       </td>\n",
        "      <td>              Medical University of South Carolina</td>\n",
        "      <td>       Charleston</td>\n",
        "      <td> South Carolina</td>\n",
        "      <td>      29425</td>\n",
        "      <td> United States</td>\n",
        "      <td> 12439</td>\n",
        "    </tr>\n",
        "    <tr>\n",
        "      <th>10917 </th>\n",
        "      <td>  11824</td>\n",
        "      <td> NCT01363167</td>\n",
        "      <td>                       </td>\n",
        "      <td>              Medical University of South Carolina</td>\n",
        "      <td>       Charleston</td>\n",
        "      <td> South Carolina</td>\n",
        "      <td> 29425-8750</td>\n",
        "      <td> United States</td>\n",
        "      <td> 12439</td>\n",
        "    </tr>\n",
        "    <tr>\n",
        "      <th>10918 </th>\n",
        "      <td>  11825</td>\n",
        "      <td> NCT01363180</td>\n",
        "      <td>             Recruiting</td>\n",
        "      <td>              Medical University of South Carolina</td>\n",
        "      <td>       Charleston</td>\n",
        "      <td> South Carolina</td>\n",
        "      <td>      29425</td>\n",
        "      <td> United States</td>\n",
        "      <td> 12439</td>\n",
        "    </tr>\n",
        "    <tr>\n",
        "      <th>12369 </th>\n",
        "      <td>  14981</td>\n",
        "      <td> NCT01361113</td>\n",
        "      <td>              Withdrawn</td>\n",
        "      <td>       Medical University of South Carolina (MUSC)</td>\n",
        "      <td>       Charleston</td>\n",
        "      <td> South Carolina</td>\n",
        "      <td>      29425</td>\n",
        "      <td> United States</td>\n",
        "      <td> 12439</td>\n",
        "    </tr>\n",
        "    <tr>\n",
        "      <th>14042 </th>\n",
        "      <td>  10153</td>\n",
        "      <td> NCT01354431</td>\n",
        "      <td>                       </td>\n",
        "      <td>              Medical University Of South Carolina</td>\n",
        "      <td>       Charleston</td>\n",
        "      <td> South Carolina</td>\n",
        "      <td>      29425</td>\n",
        "      <td> United States</td>\n",
        "      <td> 12439</td>\n",
        "    </tr>\n",
        "    <tr>\n",
        "      <th>16186 </th>\n",
        "      <td>  13864</td>\n",
        "      <td> NCT01360853</td>\n",
        "      <td>                       </td>\n",
        "      <td> Medical University of South Carolina - Holling...</td>\n",
        "      <td>       Charleston</td>\n",
        "      <td> South Carolina</td>\n",
        "      <td>      29425</td>\n",
        "      <td> United States</td>\n",
        "      <td> 12439</td>\n",
        "    </tr>\n",
        "    <tr>\n",
        "      <th>17048 </th>\n",
        "      <td>  12998</td>\n",
        "      <td> NCT01361815</td>\n",
        "      <td>                       </td>\n",
        "      <td>             Medical Uni. Of South Carolina (MUSC)</td>\n",
        "      <td>       Charleston</td>\n",
        "      <td> South Carolina</td>\n",
        "      <td>      29425</td>\n",
        "      <td> United States</td>\n",
        "      <td> 12439</td>\n",
        "    </tr>\n",
        "    <tr>\n",
        "      <th>18030 </th>\n",
        "      <td>  22184</td>\n",
        "      <td> NCT01369940</td>\n",
        "      <td>                       </td>\n",
        "      <td>                 Medical University of S. Carolina</td>\n",
        "      <td>       Charleston</td>\n",
        "      <td> South Carolina</td>\n",
        "      <td>      29425</td>\n",
        "      <td> United States</td>\n",
        "      <td> 12439</td>\n",
        "    </tr>\n",
        "    <tr>\n",
        "      <th>18096 </th>\n",
        "      <td>  22201</td>\n",
        "      <td> NCT01371019</td>\n",
        "      <td>                       </td>\n",
        "      <td>              Medical University of South Carolina</td>\n",
        "      <td>       Charleston</td>\n",
        "      <td> South Carolina</td>\n",
        "      <td>      29425</td>\n",
        "      <td> United States</td>\n",
        "      <td> 12439</td>\n",
        "    </tr>\n",
        "    <tr>\n",
        "      <th>20789 </th>\n",
        "      <td>  19712</td>\n",
        "      <td> NCT01373463</td>\n",
        "      <td>                       </td>\n",
        "      <td>              Medical University of South Carolina</td>\n",
        "      <td>       Charleston</td>\n",
        "      <td> South Carolina</td>\n",
        "      <td>      29425</td>\n",
        "      <td> United States</td>\n",
        "      <td> 12439</td>\n",
        "    </tr>\n",
        "    <tr>\n",
        "      <th>22423 </th>\n",
        "      <td>  20445</td>\n",
        "      <td> NCT01375036</td>\n",
        "      <td>                       </td>\n",
        "      <td>              Medical University of South Carolina</td>\n",
        "      <td>       Charleston</td>\n",
        "      <td> South Carolina</td>\n",
        "      <td>      29425</td>\n",
        "      <td> United States</td>\n",
        "      <td> 12439</td>\n",
        "    </tr>\n",
        "    <tr>\n",
        "      <th>23486 </th>\n",
        "      <td>  21337</td>\n",
        "      <td> NCT01371981</td>\n",
        "      <td>             Recruiting</td>\n",
        "      <td>              Medical University of South Carolina</td>\n",
        "      <td>       Charleston</td>\n",
        "      <td> South Carolina</td>\n",
        "      <td>      29425</td>\n",
        "      <td> United States</td>\n",
        "      <td> 12439</td>\n",
        "    </tr>\n",
        "    <tr>\n",
        "      <th>24422 </th>\n",
        "      <td>  28722</td>\n",
        "      <td> NCT01385787</td>\n",
        "      <td>             Recruiting</td>\n",
        "      <td>              Medical University of South Carolina</td>\n",
        "      <td>       Charleston</td>\n",
        "      <td> South Carolina</td>\n",
        "      <td>      29425</td>\n",
        "      <td> United States</td>\n",
        "      <td> 12439</td>\n",
        "    </tr>\n",
        "    <tr>\n",
        "      <th>33670 </th>\n",
        "      <td>  33289</td>\n",
        "      <td> NCT01393405</td>\n",
        "      <td>             Recruiting</td>\n",
        "      <td>              Medical University of South Carolina</td>\n",
        "      <td>       Charleston</td>\n",
        "      <td> South Carolina</td>\n",
        "      <td>      29425</td>\n",
        "      <td> United States</td>\n",
        "      <td> 12439</td>\n",
        "    </tr>\n",
        "    <tr>\n",
        "      <th>35041 </th>\n",
        "      <td>  35141</td>\n",
        "      <td> NCT01400893</td>\n",
        "      <td>             Recruiting</td>\n",
        "      <td>              Medical University Of South Carolina</td>\n",
        "      <td>       Charleston</td>\n",
        "      <td> South Carolina</td>\n",
        "      <td>      29425</td>\n",
        "      <td> United States</td>\n",
        "      <td> 12439</td>\n",
        "    </tr>\n",
        "    <tr>\n",
        "      <th>37018 </th>\n",
        "      <td>  38046</td>\n",
        "      <td> NCT01412944</td>\n",
        "      <td>                       </td>\n",
        "      <td>              Medical University of South Carolina</td>\n",
        "      <td>       Charleston</td>\n",
        "      <td> South Carolina</td>\n",
        "      <td>           </td>\n",
        "      <td> United States</td>\n",
        "      <td> 12439</td>\n",
        "    </tr>\n",
        "    <tr>\n",
        "      <th>38109 </th>\n",
        "      <td>  37850</td>\n",
        "      <td> NCT01411280</td>\n",
        "      <td>                       </td>\n",
        "      <td>              Medical University of South Carolina</td>\n",
        "      <td>       Charleston</td>\n",
        "      <td> South Carolina</td>\n",
        "      <td>      29425</td>\n",
        "      <td> United States</td>\n",
        "      <td> 12439</td>\n",
        "    </tr>\n",
        "    <tr>\n",
        "      <th>38456 </th>\n",
        "      <td>  39300</td>\n",
        "      <td> NCT01410968</td>\n",
        "      <td>                       </td>\n",
        "      <td>              Medical University of South Carolina</td>\n",
        "      <td>       Charleston</td>\n",
        "      <td> South Carolina</td>\n",
        "      <td>      29425</td>\n",
        "      <td> United States</td>\n",
        "      <td> 12439</td>\n",
        "    </tr>\n",
        "    <tr>\n",
        "      <th>38457 </th>\n",
        "      <td>  39301</td>\n",
        "      <td> NCT01410981</td>\n",
        "      <td>             Recruiting</td>\n",
        "      <td>              Medical University of South Carolina</td>\n",
        "      <td>       Charleston</td>\n",
        "      <td> South Carolina</td>\n",
        "      <td>      29425</td>\n",
        "      <td> United States</td>\n",
        "      <td> 12439</td>\n",
        "    </tr>\n",
        "    <tr>\n",
        "      <th>38550 </th>\n",
        "      <td>  39394</td>\n",
        "      <td> NCT01411007</td>\n",
        "      <td>             Recruiting</td>\n",
        "      <td>              Medical University of South Carolina</td>\n",
        "      <td>       Charleston</td>\n",
        "      <td> South Carolina</td>\n",
        "      <td>      29425</td>\n",
        "      <td> United States</td>\n",
        "      <td> 12439</td>\n",
        "    </tr>\n",
        "    <tr>\n",
        "      <th>39504 </th>\n",
        "      <td>  40640</td>\n",
        "      <td> NCT01407952</td>\n",
        "      <td>             Recruiting</td>\n",
        "      <td>              Medical University of South Carolina</td>\n",
        "      <td>       Charleston</td>\n",
        "      <td> South Carolina</td>\n",
        "      <td>      29425</td>\n",
        "      <td> United States</td>\n",
        "      <td> 12439</td>\n",
        "    </tr>\n",
        "    <tr>\n",
        "      <th>39670 </th>\n",
        "      <td>  40680</td>\n",
        "      <td> NCT01410552</td>\n",
        "      <td>             Recruiting</td>\n",
        "      <td>              Medical University of South Carolina</td>\n",
        "      <td>      Charlestone</td>\n",
        "      <td> South Carolina</td>\n",
        "      <td>      29403</td>\n",
        "      <td> United States</td>\n",
        "      <td> 12439</td>\n",
        "    </tr>\n",
        "    <tr>\n",
        "      <th>39682 </th>\n",
        "      <td>  40959</td>\n",
        "      <td> NCT01406756</td>\n",
        "      <td>             Recruiting</td>\n",
        "      <td>              Medical University of South Carolina</td>\n",
        "      <td>       Charleston</td>\n",
        "      <td> South Carolina</td>\n",
        "      <td>      29425</td>\n",
        "      <td> United States</td>\n",
        "      <td> 12439</td>\n",
        "    </tr>\n",
        "    <tr>\n",
        "      <th>41349 </th>\n",
        "      <td>  43424</td>\n",
        "      <td> NCT01415154</td>\n",
        "      <td>                       </td>\n",
        "      <td>              Medical University of South Carolina</td>\n",
        "      <td>       Charleston</td>\n",
        "      <td> South Carolina</td>\n",
        "      <td>      29425</td>\n",
        "      <td> United States</td>\n",
        "      <td> 12439</td>\n",
        "    </tr>\n",
        "    <tr>\n",
        "      <th>41562 </th>\n",
        "      <td>  42425</td>\n",
        "      <td> NCT01421667</td>\n",
        "      <td>             Recruiting</td>\n",
        "      <td>              Medical University of South Carolina</td>\n",
        "      <td>       Charleston</td>\n",
        "      <td> South Carolina</td>\n",
        "      <td>      29425</td>\n",
        "      <td> United States</td>\n",
        "      <td> 12439</td>\n",
        "    </tr>\n",
        "    <tr>\n",
        "      <th>43027 </th>\n",
        "      <td>  44193</td>\n",
        "      <td> NCT01418261</td>\n",
        "      <td>                       </td>\n",
        "      <td>              Medical University of South Carolina</td>\n",
        "      <td>       Charleston</td>\n",
        "      <td> South Carolina</td>\n",
        "      <td>      29425</td>\n",
        "      <td> United States</td>\n",
        "      <td> 12439</td>\n",
        "    </tr>\n",
        "    <tr>\n",
        "      <th>43775 </th>\n",
        "      <td>  38807</td>\n",
        "      <td> NCT01414608</td>\n",
        "      <td>             Recruiting</td>\n",
        "      <td>              Medical University of South Carolina</td>\n",
        "      <td>       Charleston</td>\n",
        "      <td> South Carolina</td>\n",
        "      <td>      29425</td>\n",
        "      <td> United States</td>\n",
        "      <td> 12439</td>\n",
        "    </tr>\n",
        "    <tr>\n",
        "      <th>44560 </th>\n",
        "      <td>  45220</td>\n",
        "      <td> NCT01426308</td>\n",
        "      <td>                       </td>\n",
        "      <td>              Medical University of South Carolina</td>\n",
        "      <td>       Charleston</td>\n",
        "      <td> South Carolina</td>\n",
        "      <td>      29403</td>\n",
        "      <td> United States</td>\n",
        "      <td> 12439</td>\n",
        "    </tr>\n",
        "    <tr>\n",
        "      <th>46384 </th>\n",
        "      <td>  43216</td>\n",
        "      <td> NCT01419158</td>\n",
        "      <td>                       </td>\n",
        "      <td>              Medical University of South Carolina</td>\n",
        "      <td>       Charleston</td>\n",
        "      <td> South Carolina</td>\n",
        "      <td>      29425</td>\n",
        "      <td> United States</td>\n",
        "      <td> 12439</td>\n",
        "    </tr>\n",
        "    <tr>\n",
        "      <th>47912 </th>\n",
        "      <td>  50992</td>\n",
        "      <td> NCT01431326</td>\n",
        "      <td>             Recruiting</td>\n",
        "      <td>              Medical University of South Carolina</td>\n",
        "      <td>       Charleston</td>\n",
        "      <td> South Carolina</td>\n",
        "      <td>      29425</td>\n",
        "      <td> United States</td>\n",
        "      <td> 12439</td>\n",
        "    </tr>\n",
        "    <tr>\n",
        "      <th>49333 </th>\n",
        "      <td>  46338</td>\n",
        "      <td> NCT00053599</td>\n",
        "      <td>                       </td>\n",
        "      <td>              Medical University of South Carolina</td>\n",
        "      <td> North Charleston</td>\n",
        "      <td> South Carolina</td>\n",
        "      <td>      29406</td>\n",
        "      <td> United States</td>\n",
        "      <td> 12439</td>\n",
        "    </tr>\n",
        "    <tr>\n",
        "      <th>49507 </th>\n",
        "      <td>  45819</td>\n",
        "      <td> NCT01426711</td>\n",
        "      <td>                       </td>\n",
        "      <td>              Medical University of South Carolina</td>\n",
        "      <td>       Charleston</td>\n",
        "      <td> South Carolina</td>\n",
        "      <td>      29425</td>\n",
        "      <td> United States</td>\n",
        "      <td> 12439</td>\n",
        "    </tr>\n",
        "    <tr>\n",
        "      <th>51414 </th>\n",
        "      <td>  49438</td>\n",
        "      <td> NCT00053833</td>\n",
        "      <td>                       </td>\n",
        "      <td>              Medical University of South Carolina</td>\n",
        "      <td>       Charleston</td>\n",
        "      <td> South Carolina</td>\n",
        "      <td> 29425-0721</td>\n",
        "      <td> United States</td>\n",
        "      <td> 12439</td>\n",
        "    </tr>\n",
        "    <tr>\n",
        "      <th>51857 </th>\n",
        "      <td>  48209</td>\n",
        "      <td> NCT00053352</td>\n",
        "      <td>                       </td>\n",
        "      <td>              Medical University of South Carolina</td>\n",
        "      <td>       Charleston</td>\n",
        "      <td> South Carolina</td>\n",
        "      <td>      29425</td>\n",
        "      <td> United States</td>\n",
        "      <td> 12439</td>\n",
        "    </tr>\n",
        "    <tr>\n",
        "      <th>54428 </th>\n",
        "      <td>  52382</td>\n",
        "      <td> NCT01431001</td>\n",
        "      <td>                       </td>\n",
        "      <td>              Medical University of South Carolina</td>\n",
        "      <td>       Charleston</td>\n",
        "      <td> South Carolina</td>\n",
        "      <td>      29425</td>\n",
        "      <td> United States</td>\n",
        "      <td> 12439</td>\n",
        "    </tr>\n",
        "    <tr>\n",
        "      <th>54662 </th>\n",
        "      <td>  52660</td>\n",
        "      <td> NCT01429389</td>\n",
        "      <td>             Recruiting</td>\n",
        "      <td>              Medical University of South Carolina</td>\n",
        "      <td>       Charleston</td>\n",
        "      <td> South Carolina</td>\n",
        "      <td>      29466</td>\n",
        "      <td> United States</td>\n",
        "      <td> 12439</td>\n",
        "    </tr>\n",
        "    <tr>\n",
        "      <th>55972 </th>\n",
        "      <td>  59524</td>\n",
        "      <td> NCT01442363</td>\n",
        "      <td>                       </td>\n",
        "      <td>              Medical University of South Carolina</td>\n",
        "      <td>       Charleston</td>\n",
        "      <td> South Carolina</td>\n",
        "      <td>      29425</td>\n",
        "      <td> United States</td>\n",
        "      <td> 12439</td>\n",
        "    </tr>\n",
        "    <tr>\n",
        "      <th>56440 </th>\n",
        "      <td>  60535</td>\n",
        "      <td> NCT01451411</td>\n",
        "      <td>             Recruiting</td>\n",
        "      <td>              Medical University of South Carolina</td>\n",
        "      <td>       Charleston</td>\n",
        "      <td> South Carolina</td>\n",
        "      <td>      29425</td>\n",
        "      <td> United States</td>\n",
        "      <td> 12439</td>\n",
        "    </tr>\n",
        "    <tr>\n",
        "      <th>57225 </th>\n",
        "      <td>  56658</td>\n",
        "      <td> NCT01444664</td>\n",
        "      <td>                       </td>\n",
        "      <td>              Medical University of South Carolina</td>\n",
        "      <td>       Charleston</td>\n",
        "      <td> South Carolina</td>\n",
        "      <td>      29401</td>\n",
        "      <td> United States</td>\n",
        "      <td> 12439</td>\n",
        "    </tr>\n",
        "    <tr>\n",
        "      <th>58055 </th>\n",
        "      <td>  55744</td>\n",
        "      <td> NCT01436175</td>\n",
        "      <td>                       </td>\n",
        "      <td> Medical University of South Carolina, Anxiety ...</td>\n",
        "      <td> North Charleston</td>\n",
        "      <td> South Carolina</td>\n",
        "      <td>      29406</td>\n",
        "      <td> United States</td>\n",
        "      <td> 12439</td>\n",
        "    </tr>\n",
        "    <tr>\n",
        "      <th>58516 </th>\n",
        "      <td>  54909</td>\n",
        "      <td> NCT01436162</td>\n",
        "      <td>                       </td>\n",
        "      <td> Medical University South Carolina Anxiety Diso...</td>\n",
        "      <td> North Charleston</td>\n",
        "      <td> South Carolina</td>\n",
        "      <td>      29406</td>\n",
        "      <td> United States</td>\n",
        "      <td> 12439</td>\n",
        "    </tr>\n",
        "    <tr>\n",
        "      <th>61467 </th>\n",
        "      <td>  59627</td>\n",
        "      <td> NCT01442376</td>\n",
        "      <td>                       </td>\n",
        "      <td>              Medical University of South Carolina</td>\n",
        "      <td>       Charleston</td>\n",
        "      <td> South Carolina</td>\n",
        "      <td>      29425</td>\n",
        "      <td> United States</td>\n",
        "      <td> 12439</td>\n",
        "    </tr>\n",
        "    <tr>\n",
        "      <th>62924 </th>\n",
        "      <td>  62017</td>\n",
        "      <td> NCT01452516</td>\n",
        "      <td>                       </td>\n",
        "      <td>    Medical University of South Carolina Neurology</td>\n",
        "      <td>       Charleston</td>\n",
        "      <td> South Carolina</td>\n",
        "      <td>      29425</td>\n",
        "      <td> United States</td>\n",
        "      <td> 12439</td>\n",
        "    </tr>\n",
        "    <tr>\n",
        "      <th>67313 </th>\n",
        "      <td>  67352</td>\n",
        "      <td> NCT01456000</td>\n",
        "      <td>                       </td>\n",
        "      <td>                 Medical University South Carolina</td>\n",
        "      <td>       Charleston</td>\n",
        "      <td> South Carolina</td>\n",
        "      <td>      29425</td>\n",
        "      <td> United States</td>\n",
        "      <td> 12439</td>\n",
        "    </tr>\n",
        "    <tr>\n",
        "      <th>67652 </th>\n",
        "      <td>  68921</td>\n",
        "      <td> NCT01462630</td>\n",
        "      <td>             Recruiting</td>\n",
        "      <td>              Medical University of South Carolina</td>\n",
        "      <td>       Charleston</td>\n",
        "      <td> South Carolina</td>\n",
        "      <td>      29425</td>\n",
        "      <td> United States</td>\n",
        "      <td> 12439</td>\n",
        "    </tr>\n",
        "    <tr>\n",
        "      <th>69114 </th>\n",
        "      <td>  70320</td>\n",
        "      <td> NCT01458522</td>\n",
        "      <td>             Recruiting</td>\n",
        "      <td>              Medical University of South Carolina</td>\n",
        "      <td>       Charleston</td>\n",
        "      <td> South Carolina</td>\n",
        "      <td>      29425</td>\n",
        "      <td> United States</td>\n",
        "      <td> 12439</td>\n",
        "    </tr>\n",
        "    <tr>\n",
        "      <th>69382 </th>\n",
        "      <td>  70607</td>\n",
        "      <td> NCT01459692</td>\n",
        "      <td>                       </td>\n",
        "      <td>              Medical University of South Carolina</td>\n",
        "      <td>       Charleston</td>\n",
        "      <td> South Carolina</td>\n",
        "      <td>      29412</td>\n",
        "      <td> United States</td>\n",
        "      <td> 12439</td>\n",
        "    </tr>\n",
        "    <tr>\n",
        "      <th>72046 </th>\n",
        "      <td>  73212</td>\n",
        "      <td> NCT01466725</td>\n",
        "      <td>                       </td>\n",
        "      <td>              Medical University of South Carolina</td>\n",
        "      <td>       Charleston</td>\n",
        "      <td> South Carolina</td>\n",
        "      <td>      29425</td>\n",
        "      <td> United States</td>\n",
        "      <td> 12439</td>\n",
        "    </tr>\n",
        "    <tr>\n",
        "      <th>73095 </th>\n",
        "      <td>  68086</td>\n",
        "      <td> NCT01461915</td>\n",
        "      <td>             Recruiting</td>\n",
        "      <td> Medical University of South Carolina Hollings ...</td>\n",
        "      <td>       Charleston</td>\n",
        "      <td> South Carolina</td>\n",
        "      <td>      29425</td>\n",
        "      <td> United States</td>\n",
        "      <td> 12439</td>\n",
        "    </tr>\n",
        "    <tr>\n",
        "      <th>75659 </th>\n",
        "      <td>  76583</td>\n",
        "      <td> NCT01471522</td>\n",
        "      <td>             Recruiting</td>\n",
        "      <td>              Medical University of South Carolina</td>\n",
        "      <td>       Charleston</td>\n",
        "      <td> South Carolina</td>\n",
        "      <td>      29425</td>\n",
        "      <td> United States</td>\n",
        "      <td> 12439</td>\n",
        "    </tr>\n",
        "    <tr>\n",
        "      <th>77886 </th>\n",
        "      <td>  74589</td>\n",
        "      <td> NCT01465347</td>\n",
        "      <td>                       </td>\n",
        "      <td>              Medical University of South Carolina</td>\n",
        "      <td>       Charleston</td>\n",
        "      <td> South Carolina</td>\n",
        "      <td>      29425</td>\n",
        "      <td> United States</td>\n",
        "      <td> 12439</td>\n",
        "    </tr>\n",
        "    <tr>\n",
        "      <th>79517 </th>\n",
        "      <td>  81701</td>\n",
        "      <td> NCT01474109</td>\n",
        "      <td>                       </td>\n",
        "      <td>              Medical University of South Carolina</td>\n",
        "      <td>       Charleston</td>\n",
        "      <td> South Carolina</td>\n",
        "      <td> 29425-8905</td>\n",
        "      <td> United States</td>\n",
        "      <td> 12439</td>\n",
        "    </tr>\n",
        "    <tr>\n",
        "      <th>79816 </th>\n",
        "      <td>  80449</td>\n",
        "      <td> NCT01475357</td>\n",
        "      <td>             Recruiting</td>\n",
        "      <td>              Medical University of South Carolina</td>\n",
        "      <td>       Charleston</td>\n",
        "      <td> South Carolina</td>\n",
        "      <td>      29425</td>\n",
        "      <td> United States</td>\n",
        "      <td> 12439</td>\n",
        "    </tr>\n",
        "    <tr>\n",
        "      <th>82074 </th>\n",
        "      <td>  86005</td>\n",
        "      <td> NCT01477723</td>\n",
        "      <td>                       </td>\n",
        "      <td>       Medical University of South Carolina (MUSC)</td>\n",
        "      <td>       Charleston</td>\n",
        "      <td> South Carolina</td>\n",
        "      <td>      29425</td>\n",
        "      <td> United States</td>\n",
        "      <td> 12439</td>\n",
        "    </tr>\n",
        "    <tr>\n",
        "      <th>83169 </th>\n",
        "      <td>  85976</td>\n",
        "      <td> NCT01476397</td>\n",
        "      <td>                       </td>\n",
        "      <td>              Medical University of South Carolina</td>\n",
        "      <td>       Charleston</td>\n",
        "      <td> South Carolina</td>\n",
        "      <td>      29425</td>\n",
        "      <td> United States</td>\n",
        "      <td> 12439</td>\n",
        "    </tr>\n",
        "    <tr>\n",
        "      <th>83740 </th>\n",
        "      <td>  80323</td>\n",
        "      <td> NCT01475253</td>\n",
        "      <td>                       </td>\n",
        "      <td> Medical University of South Carolina Urology A...</td>\n",
        "      <td>       Charleston</td>\n",
        "      <td> South Carolina</td>\n",
        "      <td>      29425</td>\n",
        "      <td> United States</td>\n",
        "      <td> 12439</td>\n",
        "    </tr>\n",
        "    <tr>\n",
        "      <th>85052 </th>\n",
        "      <td>  88981</td>\n",
        "      <td> NCT00056160</td>\n",
        "      <td>                       </td>\n",
        "      <td>                          Medical University of SC</td>\n",
        "      <td>       Charleston</td>\n",
        "      <td> South Carolina</td>\n",
        "      <td>      29425</td>\n",
        "      <td> United States</td>\n",
        "      <td> 12439</td>\n",
        "    </tr>\n",
        "    <tr>\n",
        "      <th>85788 </th>\n",
        "      <td>  83777</td>\n",
        "      <td> NCT01480479</td>\n",
        "      <td>             Recruiting</td>\n",
        "      <td> Medical University of South Carolina - Departm...</td>\n",
        "      <td>       Charleston</td>\n",
        "      <td> South Carolina</td>\n",
        "      <td>      29425</td>\n",
        "      <td> United States</td>\n",
        "      <td> 12439</td>\n",
        "    </tr>\n",
        "    <tr>\n",
        "      <th>86218 </th>\n",
        "      <td>  83492</td>\n",
        "      <td> NCT01482962</td>\n",
        "      <td>             Recruiting</td>\n",
        "      <td>              Medical University of South Carolina</td>\n",
        "      <td>       Charleston</td>\n",
        "      <td> South Carolina</td>\n",
        "      <td>      29425</td>\n",
        "      <td> United States</td>\n",
        "      <td> 12439</td>\n",
        "    </tr>\n",
        "    <tr>\n",
        "      <th>86365 </th>\n",
        "      <td>  84267</td>\n",
        "      <td> NCT01480141</td>\n",
        "      <td>                       </td>\n",
        "      <td>              Medical University of South Carolina</td>\n",
        "      <td>       Charleston</td>\n",
        "      <td> South Carolina</td>\n",
        "      <td>      29425</td>\n",
        "      <td> United States</td>\n",
        "      <td> 12439</td>\n",
        "    </tr>\n",
        "    <tr>\n",
        "      <th>87070 </th>\n",
        "      <td>  83707</td>\n",
        "      <td> NCT01482156</td>\n",
        "      <td>                       </td>\n",
        "      <td>           Medical University of South Carolina SC</td>\n",
        "      <td>       Charleston</td>\n",
        "      <td> South Carolina</td>\n",
        "      <td>      29425</td>\n",
        "      <td> United States</td>\n",
        "      <td> 12439</td>\n",
        "    </tr>\n",
        "    <tr>\n",
        "      <th>89163 </th>\n",
        "      <td>  87229</td>\n",
        "      <td> NCT01488513</td>\n",
        "      <td>             Recruiting</td>\n",
        "      <td>              Medical University of South Carolina</td>\n",
        "      <td>       Charleston</td>\n",
        "      <td> South Carolina</td>\n",
        "      <td>      29425</td>\n",
        "      <td> United States</td>\n",
        "      <td> 12439</td>\n",
        "    </tr>\n",
        "    <tr>\n",
        "      <th>90072 </th>\n",
        "      <td>  87892</td>\n",
        "      <td> NCT00056225</td>\n",
        "      <td>                       </td>\n",
        "      <td>              Medical University of South Carolina</td>\n",
        "      <td> North Charleston</td>\n",
        "      <td> South Carolina</td>\n",
        "      <td>      29406</td>\n",
        "      <td> United States</td>\n",
        "      <td> 12439</td>\n",
        "    </tr>\n",
        "    <tr>\n",
        "      <th>90128 </th>\n",
        "      <td>  88598</td>\n",
        "      <td> NCT01483820</td>\n",
        "      <td>     Not yet recruiting</td>\n",
        "      <td>              Medical University of South Carolina</td>\n",
        "      <td>       Charleston</td>\n",
        "      <td> South Carolina</td>\n",
        "      <td>      29425</td>\n",
        "      <td> United States</td>\n",
        "      <td> 12439</td>\n",
        "    </tr>\n",
        "    <tr>\n",
        "      <th>90622 </th>\n",
        "      <td>  89967</td>\n",
        "      <td> NCT01486316</td>\n",
        "      <td>             Recruiting</td>\n",
        "      <td>              Medical University of South Carolina</td>\n",
        "      <td>       Charleston</td>\n",
        "      <td> South Carolina</td>\n",
        "      <td>      29425</td>\n",
        "      <td> United States</td>\n",
        "      <td> 12439</td>\n",
        "    </tr>\n",
        "    <tr>\n",
        "      <th>94090 </th>\n",
        "      <td>  98230</td>\n",
        "      <td> NCT01504854</td>\n",
        "      <td>                       </td>\n",
        "      <td>              Medical University of South Carolina</td>\n",
        "      <td>    N. Charleston</td>\n",
        "      <td> South Carolina</td>\n",
        "      <td>      29406</td>\n",
        "      <td> United States</td>\n",
        "      <td> 12439</td>\n",
        "    </tr>\n",
        "    <tr>\n",
        "      <th>96857 </th>\n",
        "      <td>  96423</td>\n",
        "      <td> NCT01497223</td>\n",
        "      <td>                       </td>\n",
        "      <td>              Medical University of South Carolina</td>\n",
        "      <td>       Charleston</td>\n",
        "      <td> South Carolina</td>\n",
        "      <td>      29403</td>\n",
        "      <td> United States</td>\n",
        "      <td> 12439</td>\n",
        "    </tr>\n",
        "    <tr>\n",
        "      <th>104184</th>\n",
        "      <td> 105297</td>\n",
        "      <td> NCT01509404</td>\n",
        "      <td>                       </td>\n",
        "      <td>              Medical University of South Carolina</td>\n",
        "      <td>       Charleston</td>\n",
        "      <td> South Carolina</td>\n",
        "      <td>      29425</td>\n",
        "      <td> United States</td>\n",
        "      <td> 12439</td>\n",
        "    </tr>\n",
        "    <tr>\n",
        "      <th>104707</th>\n",
        "      <td> 105414</td>\n",
        "      <td> NCT01509547</td>\n",
        "      <td>             Recruiting</td>\n",
        "      <td>              Medical University of South Carolina</td>\n",
        "      <td>       Charleston</td>\n",
        "      <td> South Carolina</td>\n",
        "      <td>      29425</td>\n",
        "      <td> United States</td>\n",
        "      <td> 12439</td>\n",
        "    </tr>\n",
        "    <tr>\n",
        "      <th>104907</th>\n",
        "      <td> 105418</td>\n",
        "      <td> NCT01509586</td>\n",
        "      <td>                       </td>\n",
        "      <td>              Medical University of South Carolina</td>\n",
        "      <td>       Charleston</td>\n",
        "      <td> South Carolina</td>\n",
        "      <td>      29425</td>\n",
        "      <td> United States</td>\n",
        "      <td> 12439</td>\n",
        "    </tr>\n",
        "    <tr>\n",
        "      <th>104908</th>\n",
        "      <td> 105419</td>\n",
        "      <td> NCT01509599</td>\n",
        "      <td>             Recruiting</td>\n",
        "      <td>              Medical University of South Carolina</td>\n",
        "      <td>       Charleston</td>\n",
        "      <td> South Carolina</td>\n",
        "      <td>      29425</td>\n",
        "      <td> United States</td>\n",
        "      <td> 12439</td>\n",
        "    </tr>\n",
        "    <tr>\n",
        "      <th>105728</th>\n",
        "      <td> 106472</td>\n",
        "      <td> NCT01517334</td>\n",
        "      <td>             Recruiting</td>\n",
        "      <td> Medical University of South Carolina College o...</td>\n",
        "      <td>       Charleston</td>\n",
        "      <td> South Carolina</td>\n",
        "      <td>      29403</td>\n",
        "      <td> United States</td>\n",
        "      <td> 12439</td>\n",
        "    </tr>\n",
        "    <tr>\n",
        "      <th>108011</th>\n",
        "      <td> 108692</td>\n",
        "      <td> NCT01515436</td>\n",
        "      <td>                       </td>\n",
        "      <td>              Medical University of South Carolina</td>\n",
        "      <td>       Charleston</td>\n",
        "      <td> South Carolina</td>\n",
        "      <td>      29425</td>\n",
        "      <td> United States</td>\n",
        "      <td> 12439</td>\n",
        "    </tr>\n",
        "    <tr>\n",
        "      <th>108161</th>\n",
        "      <td> 103289</td>\n",
        "      <td> NCT01511380</td>\n",
        "      <td>                       </td>\n",
        "      <td>              Medical University of South Carolina</td>\n",
        "      <td>       Charleston</td>\n",
        "      <td> South Carolina</td>\n",
        "      <td>      29401</td>\n",
        "      <td> United States</td>\n",
        "      <td> 12439</td>\n",
        "    </tr>\n",
        "    <tr>\n",
        "      <th>108574</th>\n",
        "      <td> 111076</td>\n",
        "      <td> NCT01524133</td>\n",
        "      <td>             Recruiting</td>\n",
        "      <td>              Medical university of South Carolina</td>\n",
        "      <td>       Charleston</td>\n",
        "      <td> South Carolina</td>\n",
        "      <td>      29425</td>\n",
        "      <td> United States</td>\n",
        "      <td> 12439</td>\n",
        "    </tr>\n",
        "    <tr>\n",
        "      <th>110536</th>\n",
        "      <td> 111623</td>\n",
        "      <td> NCT01521338</td>\n",
        "      <td> Active, not recruiting</td>\n",
        "      <td>              Medical University of South Carolina</td>\n",
        "      <td>       Charleston</td>\n",
        "      <td> South Carolina</td>\n",
        "      <td>      29403</td>\n",
        "      <td> United States</td>\n",
        "      <td> 12439</td>\n",
        "    </tr>\n",
        "    <tr>\n",
        "      <th>111430</th>\n",
        "      <td> 106582</td>\n",
        "      <td> NCT01520558</td>\n",
        "      <td>             Recruiting</td>\n",
        "      <td>              Medical University of South Carolina</td>\n",
        "      <td>       Charleston</td>\n",
        "      <td> South Carolina</td>\n",
        "      <td>      29425</td>\n",
        "      <td> United States</td>\n",
        "      <td> 12439</td>\n",
        "    </tr>\n",
        "    <tr>\n",
        "      <th>113280</th>\n",
        "      <td> 109733</td>\n",
        "      <td> NCT00057356</td>\n",
        "      <td>                       </td>\n",
        "      <td>              Medical University of South Carolina</td>\n",
        "      <td>       Charleston</td>\n",
        "      <td> South Carolina</td>\n",
        "      <td>      29425</td>\n",
        "      <td> United States</td>\n",
        "      <td> 12439</td>\n",
        "    </tr>\n",
        "    <tr>\n",
        "      <th>113453</th>\n",
        "      <td> 114639</td>\n",
        "      <td> NCT01533207</td>\n",
        "      <td>             Recruiting</td>\n",
        "      <td>              Medical University of South Carolina</td>\n",
        "      <td>       Charleston</td>\n",
        "      <td> South Carolina</td>\n",
        "      <td>      29425</td>\n",
        "      <td> United States</td>\n",
        "      <td> 12439</td>\n",
        "    </tr>\n",
        "    <tr>\n",
        "      <th>114753</th>\n",
        "      <td> 118932</td>\n",
        "      <td> NCT01541254</td>\n",
        "      <td>                       </td>\n",
        "      <td>              Medical University of South Carolina</td>\n",
        "      <td>       Charleston</td>\n",
        "      <td> South Carolina</td>\n",
        "      <td>      29425</td>\n",
        "      <td> United States</td>\n",
        "      <td> 12439</td>\n",
        "    </tr>\n",
        "    <tr>\n",
        "      <th>116438</th>\n",
        "      <td> 117832</td>\n",
        "      <td> NCT01541670</td>\n",
        "      <td>                       </td>\n",
        "      <td>       Medical University of South Carolina (MUSC)</td>\n",
        "      <td>       Charleston</td>\n",
        "      <td> South Carolina</td>\n",
        "      <td>      29425</td>\n",
        "      <td> United States</td>\n",
        "      <td> 12439</td>\n",
        "    </tr>\n",
        "    <tr>\n",
        "      <th>123431</th>\n",
        "      <td> 122674</td>\n",
        "      <td> NCT01548690</td>\n",
        "      <td>             Recruiting</td>\n",
        "      <td>              Medical University of South Carolina</td>\n",
        "      <td>       Charleston</td>\n",
        "      <td> South Carolina</td>\n",
        "      <td>      29425</td>\n",
        "      <td> United States</td>\n",
        "      <td> 12439</td>\n",
        "    </tr>\n",
        "    <tr>\n",
        "      <th>123772</th>\n",
        "      <td> 127967</td>\n",
        "      <td> NCT01553149</td>\n",
        "      <td>             Recruiting</td>\n",
        "      <td>              Medical University of South Carolina</td>\n",
        "      <td>       Charleston</td>\n",
        "      <td> South Carolina</td>\n",
        "      <td>      29425</td>\n",
        "      <td> United States</td>\n",
        "      <td> 12439</td>\n",
        "    </tr>\n",
        "    <tr>\n",
        "      <th>124527</th>\n",
        "      <td> 122660</td>\n",
        "      <td> NCT01547741</td>\n",
        "      <td>                       </td>\n",
        "      <td>              Medical University of South Carolina</td>\n",
        "      <td>       Charleston</td>\n",
        "      <td> South Carolina</td>\n",
        "      <td>      29425</td>\n",
        "      <td> United States</td>\n",
        "      <td> 12439</td>\n",
        "    </tr>\n",
        "    <tr>\n",
        "      <th>126706</th>\n",
        "      <td> 130611</td>\n",
        "      <td> NCT01557036</td>\n",
        "      <td>                       </td>\n",
        "      <td>              Medical University of South Carolina</td>\n",
        "      <td>       Charleston</td>\n",
        "      <td> South Carolina</td>\n",
        "      <td>      29425</td>\n",
        "      <td> United States</td>\n",
        "      <td> 12439</td>\n",
        "    </tr>\n",
        "    <tr>\n",
        "      <th>127040</th>\n",
        "      <td> 131001</td>\n",
        "      <td> NCT01558102</td>\n",
        "      <td>                       </td>\n",
        "      <td>              Medical University of South Carolina</td>\n",
        "      <td>       Charleston</td>\n",
        "      <td> South Carolina</td>\n",
        "      <td>      29425</td>\n",
        "      <td> United States</td>\n",
        "      <td> 12439</td>\n",
        "    </tr>\n",
        "    <tr>\n",
        "      <th>128290</th>\n",
        "      <td> 126188</td>\n",
        "      <td> NCT00057928</td>\n",
        "      <td>                       </td>\n",
        "      <td>              Medical University of South Carolina</td>\n",
        "      <td>       Charleston</td>\n",
        "      <td> South Carolina</td>\n",
        "      <td> 29425-0721</td>\n",
        "      <td> United States</td>\n",
        "      <td> 12439</td>\n",
        "    </tr>\n",
        "    <tr>\n",
        "      <th>130619</th>\n",
        "      <td> 131517</td>\n",
        "      <td> NCT01556243</td>\n",
        "      <td>             Recruiting</td>\n",
        "      <td>              Medical University of South Carolina</td>\n",
        "      <td>       Charleston</td>\n",
        "      <td> South Carolina</td>\n",
        "      <td>      29425</td>\n",
        "      <td> United States</td>\n",
        "      <td> 12439</td>\n",
        "    </tr>\n",
        "    <tr>\n",
        "      <th>130680</th>\n",
        "      <td> 131471</td>\n",
        "      <td> NCT01558817</td>\n",
        "      <td>     Not yet recruiting</td>\n",
        "      <td>              Medical University of South Carolina</td>\n",
        "      <td>       Charleston</td>\n",
        "      <td> South Carolina</td>\n",
        "      <td>      29425</td>\n",
        "      <td> United States</td>\n",
        "      <td> 12439</td>\n",
        "    </tr>\n",
        "    <tr>\n",
        "      <th>134670</th>\n",
        "      <td> 134684</td>\n",
        "      <td> NCT01566591</td>\n",
        "      <td>             Recruiting</td>\n",
        "      <td>             Medical Uni. Of South Carolina (MUSC)</td>\n",
        "      <td>       Charleston</td>\n",
        "      <td> South Carolina</td>\n",
        "      <td>      29425</td>\n",
        "      <td> United States</td>\n",
        "      <td> 12439</td>\n",
        "    </tr>\n",
        "    <tr>\n",
        "      <th>135901</th>\n",
        "      <td> 136524</td>\n",
        "      <td> NCT01576016</td>\n",
        "      <td>                       </td>\n",
        "      <td>              Medical University of South Carolina</td>\n",
        "      <td>       Charleston</td>\n",
        "      <td> South Carolina</td>\n",
        "      <td>      29401</td>\n",
        "      <td> United States</td>\n",
        "      <td> 12439</td>\n",
        "    </tr>\n",
        "    <tr>\n",
        "      <th>135995</th>\n",
        "      <td> 135121</td>\n",
        "      <td> NCT01565668</td>\n",
        "      <td>                       </td>\n",
        "      <td> Medical University of South Carolina, Hollings...</td>\n",
        "      <td>       Charleston</td>\n",
        "      <td> South Carolina</td>\n",
        "      <td>      29403</td>\n",
        "      <td> United States</td>\n",
        "      <td> 12439</td>\n",
        "    </tr>\n",
        "    <tr>\n",
        "      <th>136248</th>\n",
        "      <td> 135624</td>\n",
        "      <td> NCT01565798</td>\n",
        "      <td>                       </td>\n",
        "      <td>              Medical University of South Carolina</td>\n",
        "      <td>       Charleston</td>\n",
        "      <td> South Carolina</td>\n",
        "      <td>      29425</td>\n",
        "      <td> United States</td>\n",
        "      <td> 12439</td>\n",
        "    </tr>\n",
        "    <tr>\n",
        "      <th>137245</th>\n",
        "      <td> 137162</td>\n",
        "      <td> NCT01576874</td>\n",
        "      <td>             Recruiting</td>\n",
        "      <td>              Medical University of South Carolina</td>\n",
        "      <td>       Charleston</td>\n",
        "      <td> South Carolina</td>\n",
        "      <td>      29425</td>\n",
        "      <td> United States</td>\n",
        "      <td> 12439</td>\n",
        "    </tr>\n",
        "    <tr>\n",
        "      <th>138477</th>\n",
        "      <td> 139324</td>\n",
        "      <td> NCT01573273</td>\n",
        "      <td>             Recruiting</td>\n",
        "      <td>              Medical University of South Carolina</td>\n",
        "      <td>       Charleston</td>\n",
        "      <td> South Carolina</td>\n",
        "      <td>      29425</td>\n",
        "      <td> United States</td>\n",
        "      <td> 12439</td>\n",
        "    </tr>\n",
        "    <tr>\n",
        "      <th>139248</th>\n",
        "      <td> 140161</td>\n",
        "      <td> NCT01582672</td>\n",
        "      <td>             Recruiting</td>\n",
        "      <td>       Medical University of South Carolina (MUSC)</td>\n",
        "      <td>       Charleston</td>\n",
        "      <td> South Carolina</td>\n",
        "      <td>      29425</td>\n",
        "      <td> United States</td>\n",
        "      <td> 12439</td>\n",
        "    </tr>\n",
        "    <tr>\n",
        "      <th>139700</th>\n",
        "      <td> 141293</td>\n",
        "      <td> NCT01582061</td>\n",
        "      <td>              Withdrawn</td>\n",
        "      <td>              Medical University of South Carolina</td>\n",
        "      <td>       Charleston</td>\n",
        "      <td> South Carolina</td>\n",
        "      <td>      29406</td>\n",
        "      <td> United States</td>\n",
        "      <td> 12439</td>\n",
        "    </tr>\n",
        "    <tr>\n",
        "      <th>141980</th>\n",
        "      <td> 143593</td>\n",
        "      <td> NCT01579513</td>\n",
        "      <td>             Recruiting</td>\n",
        "      <td> Medical University of South Carolina, Pediatri...</td>\n",
        "      <td>       Charleston</td>\n",
        "      <td> South Carolina</td>\n",
        "      <td>      29425</td>\n",
        "      <td> United States</td>\n",
        "      <td> 12439</td>\n",
        "    </tr>\n",
        "    <tr>\n",
        "      <th>143410</th>\n",
        "      <td> 138788</td>\n",
        "      <td> NCT01574183</td>\n",
        "      <td>             Recruiting</td>\n",
        "      <td>              Medical University of South Carolina</td>\n",
        "      <td>       Charleston</td>\n",
        "      <td> South Carolina</td>\n",
        "      <td>      29425</td>\n",
        "      <td> United States</td>\n",
        "      <td> 12439</td>\n",
        "    </tr>\n",
        "    <tr>\n",
        "      <th>144044</th>\n",
        "      <td> 146609</td>\n",
        "      <td> NCT01589315</td>\n",
        "      <td>             Recruiting</td>\n",
        "      <td>              Medical University of South Carolina</td>\n",
        "      <td>       Charleston</td>\n",
        "      <td> South Carolina</td>\n",
        "      <td>      29425</td>\n",
        "      <td> United States</td>\n",
        "      <td> 12439</td>\n",
        "    </tr>\n",
        "    <tr>\n",
        "      <th>144270</th>\n",
        "      <td> 145494</td>\n",
        "      <td> NCT01588197</td>\n",
        "      <td>                       </td>\n",
        "      <td>              Medical University of South Carolina</td>\n",
        "      <td>       Charleston</td>\n",
        "      <td> South Carolina</td>\n",
        "      <td>      29425</td>\n",
        "      <td> United States</td>\n",
        "      <td> 12439</td>\n",
        "    </tr>\n",
        "    <tr>\n",
        "      <th>145779</th>\n",
        "      <td> 146557</td>\n",
        "      <td> NCT01586260</td>\n",
        "      <td>             Recruiting</td>\n",
        "      <td>              Medical University of South Carolina</td>\n",
        "      <td>       Charleston</td>\n",
        "      <td> South Carolina</td>\n",
        "      <td>      29425</td>\n",
        "      <td> United States</td>\n",
        "      <td> 12439</td>\n",
        "    </tr>\n",
        "    <tr>\n",
        "      <th>148821</th>\n",
        "      <td> 150176</td>\n",
        "      <td> NCT01597063</td>\n",
        "      <td>                       </td>\n",
        "      <td>              Medical University of South Carolina</td>\n",
        "      <td>       Charleston</td>\n",
        "      <td> South Carolina</td>\n",
        "      <td>      29466</td>\n",
        "      <td> United States</td>\n",
        "      <td> 12439</td>\n",
        "    </tr>\n",
        "    <tr>\n",
        "      <th>149914</th>\n",
        "      <td> 154083</td>\n",
        "      <td> NCT01601704</td>\n",
        "      <td>                       </td>\n",
        "      <td>              Medical University of South Carolina</td>\n",
        "      <td>       Charleston</td>\n",
        "      <td> South Carolina</td>\n",
        "      <td>      29425</td>\n",
        "      <td> United States</td>\n",
        "      <td> 12439</td>\n",
        "    </tr>\n",
        "    <tr>\n",
        "      <th>150613</th>\n",
        "      <td> 153153</td>\n",
        "      <td> NCT01601574</td>\n",
        "      <td>                       </td>\n",
        "      <td>              Medical University of South Carolina</td>\n",
        "      <td>       Charleston</td>\n",
        "      <td> South Carolina</td>\n",
        "      <td>      29425</td>\n",
        "      <td> United States</td>\n",
        "      <td> 12439</td>\n",
        "    </tr>\n",
        "    <tr>\n",
        "      <th>150966</th>\n",
        "      <td> 153497</td>\n",
        "      <td> NCT01602315</td>\n",
        "      <td>     Not yet recruiting</td>\n",
        "      <td>    Medical University of South Carolina Onc Dept.</td>\n",
        "      <td>       Charleston</td>\n",
        "      <td> South Carolina</td>\n",
        "      <td>      29425</td>\n",
        "      <td> United States</td>\n",
        "      <td> 12439</td>\n",
        "    </tr>\n",
        "    <tr>\n",
        "      <th>151428</th>\n",
        "      <td> 149444</td>\n",
        "      <td> NCT01595048</td>\n",
        "      <td>             Recruiting</td>\n",
        "      <td>              Medical University of South Carolina</td>\n",
        "      <td>       Charleston</td>\n",
        "      <td> South Carolina</td>\n",
        "      <td>      29425</td>\n",
        "      <td> United States</td>\n",
        "      <td> 12439</td>\n",
        "    </tr>\n",
        "    <tr>\n",
        "      <th>152340</th>\n",
        "      <td> 148951</td>\n",
        "      <td> NCT01597778</td>\n",
        "      <td>             Recruiting</td>\n",
        "      <td>              Medical University of South Carolina</td>\n",
        "      <td>       Charleston</td>\n",
        "      <td> South Carolina</td>\n",
        "      <td>      29425</td>\n",
        "      <td> United States</td>\n",
        "      <td> 12439</td>\n",
        "    </tr>\n",
        "    <tr>\n",
        "      <th>154488</th>\n",
        "      <td> 152535</td>\n",
        "      <td> NCT01606501</td>\n",
        "      <td>     Not yet recruiting</td>\n",
        "      <td>              Medical University of South Carolina</td>\n",
        "      <td>       Charleston</td>\n",
        "      <td> South Carolina</td>\n",
        "      <td>      29403</td>\n",
        "      <td> United States</td>\n",
        "      <td> 12439</td>\n",
        "    </tr>\n",
        "    <tr>\n",
        "      <th>155209</th>\n",
        "      <td> 151978</td>\n",
        "      <td> NCT01604590</td>\n",
        "      <td>             Recruiting</td>\n",
        "      <td>              Medical University of South Carolina</td>\n",
        "      <td>       Charleston</td>\n",
        "      <td> South Carolina</td>\n",
        "      <td>      29425</td>\n",
        "      <td> United States</td>\n",
        "      <td> 12439</td>\n",
        "    </tr>\n",
        "    <tr>\n",
        "      <th>155554</th>\n",
        "      <td> 153332</td>\n",
        "      <td> NCT01603992</td>\n",
        "      <td>                       </td>\n",
        "      <td>                 Medical University of S. Carolina</td>\n",
        "      <td>       Charleston</td>\n",
        "      <td> South Carolina</td>\n",
        "      <td>      29425</td>\n",
        "      <td> United States</td>\n",
        "      <td> 12439</td>\n",
        "    </tr>\n",
        "    <tr>\n",
        "      <th>155658</th>\n",
        "      <td> 154467</td>\n",
        "      <td> NCT01601847</td>\n",
        "      <td>             Recruiting</td>\n",
        "      <td>              Medical University of South Carolina</td>\n",
        "      <td>       Charleston</td>\n",
        "      <td> South Carolina</td>\n",
        "      <td>      29425</td>\n",
        "      <td> United States</td>\n",
        "      <td> 12439</td>\n",
        "    </tr>\n",
        "    <tr>\n",
        "      <th>157404</th>\n",
        "      <td> 155364</td>\n",
        "      <td> NCT01611974</td>\n",
        "      <td>                       </td>\n",
        "      <td>              Medical University of South Carolina</td>\n",
        "      <td>       Charleston</td>\n",
        "      <td> South Carolina</td>\n",
        "      <td>      29425</td>\n",
        "      <td> United States</td>\n",
        "      <td> 12439</td>\n",
        "    </tr>\n",
        "    <tr>\n",
        "      <th>158630</th>\n",
        "      <td> 157923</td>\n",
        "      <td> NCT01608490</td>\n",
        "      <td>             Recruiting</td>\n",
        "      <td>              Medical University of South Carolina</td>\n",
        "      <td>       Charleston</td>\n",
        "      <td> South Carolina</td>\n",
        "      <td> 29425-6300</td>\n",
        "      <td> United States</td>\n",
        "      <td> 12439</td>\n",
        "    </tr>\n",
        "    <tr>\n",
        "      <th>159059</th>\n",
        "      <td> 163227</td>\n",
        "      <td> NCT01626235</td>\n",
        "      <td>                       </td>\n",
        "      <td>              Medical University of South Carolina</td>\n",
        "      <td>       Charleston</td>\n",
        "      <td> South Carolina</td>\n",
        "      <td>      29425</td>\n",
        "      <td> United States</td>\n",
        "      <td> 12439</td>\n",
        "    </tr>\n",
        "    <tr>\n",
        "      <th>159061</th>\n",
        "      <td> 163229</td>\n",
        "      <td> NCT01626235</td>\n",
        "      <td>                       </td>\n",
        "      <td>              Medical University of South Carolina</td>\n",
        "      <td>       Charleston</td>\n",
        "      <td> South Carolina</td>\n",
        "      <td>      29403</td>\n",
        "      <td> United States</td>\n",
        "      <td> 12439</td>\n",
        "    </tr>\n",
        "    <tr>\n",
        "      <th>165556</th>\n",
        "      <td> 164961</td>\n",
        "      <td> NCT01622868</td>\n",
        "      <td>             Recruiting</td>\n",
        "      <td>              Medical University of South Carolina</td>\n",
        "      <td>       Charleston</td>\n",
        "      <td> South Carolina</td>\n",
        "      <td>      29425</td>\n",
        "      <td> United States</td>\n",
        "      <td> 12439</td>\n",
        "    </tr>\n",
        "    <tr>\n",
        "      <th>166398</th>\n",
        "      <td> 166261</td>\n",
        "      <td> NCT01622855</td>\n",
        "      <td>                       </td>\n",
        "      <td>              Medical University of South Carolina</td>\n",
        "      <td>       Charleston</td>\n",
        "      <td> South Carolina</td>\n",
        "      <td>      29412</td>\n",
        "      <td> United States</td>\n",
        "      <td> 12439</td>\n",
        "    </tr>\n",
        "    <tr>\n",
        "      <th>170454</th>\n",
        "      <td> 171343</td>\n",
        "      <td> NCT01640353</td>\n",
        "      <td>                       </td>\n",
        "      <td>              Medical University of South Carolina</td>\n",
        "      <td>       Charleston</td>\n",
        "      <td> South Carolina</td>\n",
        "      <td>      29425</td>\n",
        "      <td> United States</td>\n",
        "      <td> 12439</td>\n",
        "    </tr>\n",
        "    <tr>\n",
        "      <th>171130</th>\n",
        "      <td> 171905</td>\n",
        "      <td> NCT01641822</td>\n",
        "      <td>             Recruiting</td>\n",
        "      <td>              Medical University of South Carolina</td>\n",
        "      <td>       Charleston</td>\n",
        "      <td> South Carolina</td>\n",
        "      <td>      29425</td>\n",
        "      <td> United States</td>\n",
        "      <td> 12439</td>\n",
        "    </tr>\n",
        "    <tr>\n",
        "      <th>171631</th>\n",
        "      <td> 170672</td>\n",
        "      <td> NCT01640886</td>\n",
        "      <td>                       </td>\n",
        "      <td>              Medical University of South Carolina</td>\n",
        "      <td>       Charleston</td>\n",
        "      <td> South Carolina</td>\n",
        "      <td>      29425</td>\n",
        "      <td> United States</td>\n",
        "      <td> 12439</td>\n",
        "    </tr>\n",
        "    <tr>\n",
        "      <th>173017</th>\n",
        "      <td> 173000</td>\n",
        "      <td> NCT01635998</td>\n",
        "      <td>             Recruiting</td>\n",
        "      <td>              Medical University of South Carolina</td>\n",
        "      <td>       Charleston</td>\n",
        "      <td> South Carolina</td>\n",
        "      <td>      29425</td>\n",
        "      <td> United States</td>\n",
        "      <td> 12439</td>\n",
        "    </tr>\n",
        "    <tr>\n",
        "      <th>174098</th>\n",
        "      <td> 174700</td>\n",
        "      <td> NCT01646125</td>\n",
        "      <td>     Not yet recruiting</td>\n",
        "      <td>  Medical University of South Carolina AUY922A2207</td>\n",
        "      <td>       Charleston</td>\n",
        "      <td> South Carolina</td>\n",
        "      <td>      29425</td>\n",
        "      <td> United States</td>\n",
        "      <td> 12439</td>\n",
        "    </tr>\n",
        "    <tr>\n",
        "      <th>175459</th>\n",
        "      <td> 176361</td>\n",
        "      <td> NCT01643798</td>\n",
        "      <td>                       </td>\n",
        "      <td>              Medical University of South Carolina</td>\n",
        "      <td>       Charleston</td>\n",
        "      <td> South Carolina</td>\n",
        "      <td>      29414</td>\n",
        "      <td> United States</td>\n",
        "      <td> 12439</td>\n",
        "    </tr>\n",
        "    <tr>\n",
        "      <th>181466</th>\n",
        "      <td> 182653</td>\n",
        "      <td> NCT01659411</td>\n",
        "      <td>             Recruiting</td>\n",
        "      <td>              Medical University of South Carolina</td>\n",
        "      <td>       Charleston</td>\n",
        "      <td> South Carolina</td>\n",
        "      <td>      29425</td>\n",
        "      <td> United States</td>\n",
        "      <td> 12439</td>\n",
        "    </tr>\n",
        "    <tr>\n",
        "      <th>181532</th>\n",
        "      <td> 178183</td>\n",
        "      <td> NCT01653028</td>\n",
        "      <td>             Recruiting</td>\n",
        "      <td>              Medical University of South Carolina</td>\n",
        "      <td>       Charleston</td>\n",
        "      <td> South Carolina</td>\n",
        "      <td>      29425</td>\n",
        "      <td> United States</td>\n",
        "      <td> 12439</td>\n",
        "    </tr>\n",
        "    <tr>\n",
        "      <th>181790</th>\n",
        "      <td> 178350</td>\n",
        "      <td> NCT01652170</td>\n",
        "      <td>                       </td>\n",
        "      <td>              Medical University of South Carolina</td>\n",
        "      <td>       Charleston</td>\n",
        "      <td> South Carolina</td>\n",
        "      <td>      29425</td>\n",
        "      <td> United States</td>\n",
        "      <td> 12439</td>\n",
        "    </tr>\n",
        "    <tr>\n",
        "      <th>182766</th>\n",
        "      <td> 185271</td>\n",
        "      <td> NCT01666444</td>\n",
        "      <td>             Recruiting</td>\n",
        "      <td>              Medical University of South Carolina</td>\n",
        "      <td>       Charleston</td>\n",
        "      <td> South Carolina</td>\n",
        "      <td>      29425</td>\n",
        "      <td> United States</td>\n",
        "      <td> 12439</td>\n",
        "    </tr>\n",
        "    <tr>\n",
        "      <th>184994</th>\n",
        "      <td> 184136</td>\n",
        "      <td> NCT01656603</td>\n",
        "      <td>             Recruiting</td>\n",
        "      <td>              Medical University of South Carolina</td>\n",
        "      <td>       Charleston</td>\n",
        "      <td> South Carolina</td>\n",
        "      <td>      29425</td>\n",
        "      <td> United States</td>\n",
        "      <td> 12439</td>\n",
        "    </tr>\n",
        "    <tr>\n",
        "      <th>185319</th>\n",
        "      <td> 189598</td>\n",
        "      <td> NCT01672879</td>\n",
        "      <td>     Not yet recruiting</td>\n",
        "      <td>              Medical University of South Carolina</td>\n",
        "      <td>       Charleston</td>\n",
        "      <td> South Carolina</td>\n",
        "      <td>      29542</td>\n",
        "      <td> United States</td>\n",
        "      <td> 12439</td>\n",
        "    </tr>\n",
        "    <tr>\n",
        "      <th>185682</th>\n",
        "      <td> 189241</td>\n",
        "      <td> NCT01672866</td>\n",
        "      <td>             Recruiting</td>\n",
        "      <td>              Medical University of South Carolina</td>\n",
        "      <td>       Charleston</td>\n",
        "      <td> South Carolina</td>\n",
        "      <td>      29542</td>\n",
        "      <td> United States</td>\n",
        "      <td> 12439</td>\n",
        "    </tr>\n",
        "    <tr>\n",
        "      <th>186295</th>\n",
        "      <td> 184826</td>\n",
        "      <td> NCT01656941</td>\n",
        "      <td>             Recruiting</td>\n",
        "      <td>              Medical University of South Carolina</td>\n",
        "      <td>       Charleston</td>\n",
        "      <td> South Carolina</td>\n",
        "      <td>      29403</td>\n",
        "      <td> United States</td>\n",
        "      <td> 12439</td>\n",
        "    </tr>\n",
        "    <tr>\n",
        "      <th>186781</th>\n",
        "      <td> 188131</td>\n",
        "      <td> NCT01663350</td>\n",
        "      <td>                       </td>\n",
        "      <td>              Medical University of South Carolina</td>\n",
        "      <td>       Charleston</td>\n",
        "      <td> South Carolina</td>\n",
        "      <td>           </td>\n",
        "      <td> United States</td>\n",
        "      <td> 12439</td>\n",
        "    </tr>\n",
        "    <tr>\n",
        "      <th>187229</th>\n",
        "      <td> 184684</td>\n",
        "      <td> NCT01655784</td>\n",
        "      <td>             Recruiting</td>\n",
        "      <td>                  Medical Center of South Carolina</td>\n",
        "      <td>       Charleston</td>\n",
        "      <td> South Carolina</td>\n",
        "      <td>      29425</td>\n",
        "      <td> United States</td>\n",
        "      <td> 12439</td>\n",
        "    </tr>\n",
        "    <tr>\n",
        "      <th>189024</th>\n",
        "      <td> 226999</td>\n",
        "      <td> NCT00067236</td>\n",
        "      <td>                       </td>\n",
        "      <td>              Medical University of South Carolina</td>\n",
        "      <td>       Charleston</td>\n",
        "      <td> South Carolina</td>\n",
        "      <td>      29403</td>\n",
        "      <td> United States</td>\n",
        "      <td> 12439</td>\n",
        "    </tr>\n",
        "    <tr>\n",
        "      <th>189129</th>\n",
        "      <td> 230423</td>\n",
        "      <td> NCT01736618</td>\n",
        "      <td>     Not yet recruiting</td>\n",
        "      <td>              Medical University of South Carolina</td>\n",
        "      <td>       Charleston</td>\n",
        "      <td> South Carolina</td>\n",
        "      <td>           </td>\n",
        "      <td> United States</td>\n",
        "      <td> 12439</td>\n",
        "    </tr>\n",
        "    <tr>\n",
        "      <th>190121</th>\n",
        "      <td> 228662</td>\n",
        "      <td> NCT01728103</td>\n",
        "      <td>              Completed</td>\n",
        "      <td>              Medical University of South Carolina</td>\n",
        "      <td>       Charleston</td>\n",
        "      <td> South Carolina</td>\n",
        "      <td>      29425</td>\n",
        "      <td> United States</td>\n",
        "      <td> 12439</td>\n",
        "    </tr>\n",
        "    <tr>\n",
        "      <th>191015</th>\n",
        "      <td> 225898</td>\n",
        "      <td> NCT01732536</td>\n",
        "      <td>                       </td>\n",
        "      <td>              Medical University of South Carolina</td>\n",
        "      <td>       Charleston</td>\n",
        "      <td> South Carolina</td>\n",
        "      <td>      29425</td>\n",
        "      <td> United States</td>\n",
        "      <td> 12439</td>\n",
        "    </tr>\n",
        "    <tr>\n",
        "      <th>192285</th>\n",
        "      <td> 226500</td>\n",
        "      <td> NCT01730950</td>\n",
        "      <td>             Recruiting</td>\n",
        "      <td>              Medical University of South Carolina</td>\n",
        "      <td>       Charleston</td>\n",
        "      <td> South Carolina</td>\n",
        "      <td>      29425</td>\n",
        "      <td> United States</td>\n",
        "      <td> 12439</td>\n",
        "    </tr>\n",
        "    <tr>\n",
        "      <th>193310</th>\n",
        "      <td> 227588</td>\n",
        "      <td> NCT01729819</td>\n",
        "      <td>     Not yet recruiting</td>\n",
        "      <td>              Medical University of South Carolina</td>\n",
        "      <td>       Charleston</td>\n",
        "      <td> South Carolina</td>\n",
        "      <td>           </td>\n",
        "      <td> United States</td>\n",
        "      <td> 12439</td>\n",
        "    </tr>\n",
        "    <tr>\n",
        "      <th>193798</th>\n",
        "      <td> 198368</td>\n",
        "      <td> NCT00064454</td>\n",
        "      <td>                       </td>\n",
        "      <td>              Medical University of South Carolina</td>\n",
        "      <td>       Charleston</td>\n",
        "      <td> South Carolina</td>\n",
        "      <td>      29425</td>\n",
        "      <td> United States</td>\n",
        "      <td> 12439</td>\n",
        "    </tr>\n",
        "    <tr>\n",
        "      <th>194698</th>\n",
        "      <td> 196577</td>\n",
        "      <td> NCT01687153</td>\n",
        "      <td>                       </td>\n",
        "      <td>              Medical University of South Carolina</td>\n",
        "      <td> North Charleston</td>\n",
        "      <td> South Carolina</td>\n",
        "      <td>      29406</td>\n",
        "      <td> United States</td>\n",
        "      <td> 12439</td>\n",
        "    </tr>\n",
        "    <tr>\n",
        "      <th>195812</th>\n",
        "      <td> 194978</td>\n",
        "      <td> NCT01674140</td>\n",
        "      <td>             Recruiting</td>\n",
        "      <td>              Medical University of South Carolina</td>\n",
        "      <td>       Charleston</td>\n",
        "      <td> South Carolina</td>\n",
        "      <td>      29425</td>\n",
        "      <td> United States</td>\n",
        "      <td> 12439</td>\n",
        "    </tr>\n",
        "    <tr>\n",
        "      <th>196124</th>\n",
        "      <td> 196593</td>\n",
        "      <td> NCT01687166</td>\n",
        "      <td>             Recruiting</td>\n",
        "      <td>              Medical University of South Carolina</td>\n",
        "      <td>       Charleston</td>\n",
        "      <td> South Carolina</td>\n",
        "      <td>      29425</td>\n",
        "      <td> United States</td>\n",
        "      <td> 12439</td>\n",
        "    </tr>\n",
        "    <tr>\n",
        "      <th>196223</th>\n",
        "      <td> 193966</td>\n",
        "      <td> NCT01678638</td>\n",
        "      <td>     Not yet recruiting</td>\n",
        "      <td> Medical University of South Carolina; Medical ...</td>\n",
        "      <td>       Charleston</td>\n",
        "      <td> South Carolina</td>\n",
        "      <td>           </td>\n",
        "      <td> United States</td>\n",
        "      <td> 12439</td>\n",
        "    </tr>\n",
        "    <tr>\n",
        "      <th>196977</th>\n",
        "      <td> 194472</td>\n",
        "      <td> NCT01681004</td>\n",
        "      <td>             Recruiting</td>\n",
        "      <td>              Medical University of South Carolina</td>\n",
        "      <td>       Charleston</td>\n",
        "      <td> South Carolina</td>\n",
        "      <td>      29425</td>\n",
        "      <td> United States</td>\n",
        "      <td> 12439</td>\n",
        "    </tr>\n",
        "    <tr>\n",
        "      <th>197137</th>\n",
        "      <td> 196998</td>\n",
        "      <td> NCT01686373</td>\n",
        "      <td>             Recruiting</td>\n",
        "      <td>              Medical University of South Carolina</td>\n",
        "      <td>       Charleston</td>\n",
        "      <td> South Carolina</td>\n",
        "      <td>      29425</td>\n",
        "      <td> United States</td>\n",
        "      <td> 12439</td>\n",
        "    </tr>\n",
        "    <tr>\n",
        "      <th>197354</th>\n",
        "      <td> 193518</td>\n",
        "      <td> NCT01677962</td>\n",
        "      <td>             Recruiting</td>\n",
        "      <td>              Medical University of South Carolina</td>\n",
        "      <td>       Charleston</td>\n",
        "      <td> South Carolina</td>\n",
        "      <td>      29425</td>\n",
        "      <td> United States</td>\n",
        "      <td> 12439</td>\n",
        "    </tr>\n",
        "    <tr>\n",
        "      <th>197356</th>\n",
        "      <td> 193520</td>\n",
        "      <td> NCT01677988</td>\n",
        "      <td>             Recruiting</td>\n",
        "      <td>              Medical University of South Carolina</td>\n",
        "      <td>       Charleston</td>\n",
        "      <td> South Carolina</td>\n",
        "      <td>      29425</td>\n",
        "      <td> United States</td>\n",
        "      <td> 12439</td>\n",
        "    </tr>\n",
        "    <tr>\n",
        "      <th>197509</th>\n",
        "      <td> 197364</td>\n",
        "      <td> NCT01685463</td>\n",
        "      <td>             Recruiting</td>\n",
        "      <td>              Medical University of South Carolina</td>\n",
        "      <td>       Charleston</td>\n",
        "      <td> South Carolina</td>\n",
        "      <td>      29425</td>\n",
        "      <td> United States</td>\n",
        "      <td> 12439</td>\n",
        "    </tr>\n",
        "    <tr>\n",
        "      <th>197831</th>\n",
        "      <td> 198177</td>\n",
        "      <td> NCT01684410</td>\n",
        "      <td>                       </td>\n",
        "      <td>              Medical University of South Carolina</td>\n",
        "      <td>       Charleston</td>\n",
        "      <td> South Carolina</td>\n",
        "      <td>      29425</td>\n",
        "      <td> United States</td>\n",
        "      <td> 12439</td>\n",
        "    </tr>\n",
        "    <tr>\n",
        "      <th>198725</th>\n",
        "      <td> 201940</td>\n",
        "      <td> NCT01690130</td>\n",
        "      <td>             Recruiting</td>\n",
        "      <td>              Medical University of South Carolina</td>\n",
        "      <td>       Charleston</td>\n",
        "      <td> South Carolina</td>\n",
        "      <td>      29425</td>\n",
        "      <td> United States</td>\n",
        "      <td> 12439</td>\n",
        "    </tr>\n",
        "    <tr>\n",
        "      <th>203114</th>\n",
        "      <td> 201240</td>\n",
        "      <td> NCT01693614</td>\n",
        "      <td>             Recruiting</td>\n",
        "      <td> Medical University of South Carolina -Hollings...</td>\n",
        "      <td>       Charleston</td>\n",
        "      <td> South Carolina</td>\n",
        "      <td>      29425</td>\n",
        "      <td> United States</td>\n",
        "      <td> 12439</td>\n",
        "    </tr>\n",
        "    <tr>\n",
        "      <th>203821</th>\n",
        "      <td> 202023</td>\n",
        "      <td> NCT01690143</td>\n",
        "      <td>             Recruiting</td>\n",
        "      <td> Medical University of South Carolina Hollings ...</td>\n",
        "      <td>       Charleston</td>\n",
        "      <td> South Carolina</td>\n",
        "      <td>      29425</td>\n",
        "      <td> United States</td>\n",
        "      <td> 12439</td>\n",
        "    </tr>\n",
        "    <tr>\n",
        "      <th>205420</th>\n",
        "      <td> 187164</td>\n",
        "      <td> NCT01662895</td>\n",
        "      <td>                       </td>\n",
        "      <td>              Medical University of South Carolina</td>\n",
        "      <td>       Charleston</td>\n",
        "      <td> South Carolina</td>\n",
        "      <td>      29425</td>\n",
        "      <td> United States</td>\n",
        "      <td> 12439</td>\n",
        "    </tr>\n",
        "    <tr>\n",
        "      <th>207084</th>\n",
        "      <td> 190933</td>\n",
        "      <td> NCT01667536</td>\n",
        "      <td>                       </td>\n",
        "      <td>              Medical University of South Carolina</td>\n",
        "      <td>       Charleston</td>\n",
        "      <td> South Carolina</td>\n",
        "      <td>      29435</td>\n",
        "      <td> United States</td>\n",
        "      <td> 12439</td>\n",
        "    </tr>\n",
        "    <tr>\n",
        "      <th>208131</th>\n",
        "      <td> 190036</td>\n",
        "      <td> NCT01672164</td>\n",
        "      <td>             Recruiting</td>\n",
        "      <td>              Medical University of South Carolina</td>\n",
        "      <td>       Charleston</td>\n",
        "      <td> South Carolina</td>\n",
        "      <td>      29425</td>\n",
        "      <td> United States</td>\n",
        "      <td> 12439</td>\n",
        "    </tr>\n",
        "    <tr>\n",
        "      <th>208913</th>\n",
        "      <td> 191216</td>\n",
        "      <td> NCT01670136</td>\n",
        "      <td>             Recruiting</td>\n",
        "      <td>              Medical University of South Carolina</td>\n",
        "      <td>       Charleston</td>\n",
        "      <td> South Carolina</td>\n",
        "      <td>      29425</td>\n",
        "      <td> United States</td>\n",
        "      <td> 12439</td>\n",
        "    </tr>\n",
        "    <tr>\n",
        "      <th>210763</th>\n",
        "      <td> 190947</td>\n",
        "      <td> NCT01668784</td>\n",
        "      <td>             Recruiting</td>\n",
        "      <td>              Medical University Of South Carolina</td>\n",
        "      <td>       Charleston</td>\n",
        "      <td> South Carolina</td>\n",
        "      <td>      29425</td>\n",
        "      <td> United States</td>\n",
        "      <td> 12439</td>\n",
        "    </tr>\n",
        "    <tr>\n",
        "      <th>213443</th>\n",
        "      <td> 253644</td>\n",
        "      <td> NCT01769196</td>\n",
        "      <td>             Recruiting</td>\n",
        "      <td>              Medical University of South Carolina</td>\n",
        "      <td>       Charleston</td>\n",
        "      <td> South Carolina</td>\n",
        "      <td>      29425</td>\n",
        "      <td> United States</td>\n",
        "      <td> 12439</td>\n",
        "    </tr>\n",
        "    <tr>\n",
        "      <th>213447</th>\n",
        "      <td> 253648</td>\n",
        "      <td> NCT01769768</td>\n",
        "      <td>             Recruiting</td>\n",
        "      <td> Medical University of South Carolina Dept.of N...</td>\n",
        "      <td>       Charleston</td>\n",
        "      <td> South Carolina</td>\n",
        "      <td>      29425</td>\n",
        "      <td> United States</td>\n",
        "      <td> 12439</td>\n",
        "    </tr>\n",
        "    <tr>\n",
        "      <th>214459</th>\n",
        "      <td> 250436</td>\n",
        "      <td> NCT01759511</td>\n",
        "      <td>                       </td>\n",
        "      <td>              Medical University of South Carolina</td>\n",
        "      <td>       Charleston</td>\n",
        "      <td> South Carolina</td>\n",
        "      <td>      29425</td>\n",
        "      <td> United States</td>\n",
        "      <td> 12439</td>\n",
        "    </tr>\n",
        "    <tr>\n",
        "      <th>216969</th>\n",
        "      <td> 254709</td>\n",
        "      <td> NCT01762033</td>\n",
        "      <td>             Recruiting</td>\n",
        "      <td>              Medical University of South Carolina</td>\n",
        "      <td>       Charleston</td>\n",
        "      <td> South Carolina</td>\n",
        "      <td>      29425</td>\n",
        "      <td> United States</td>\n",
        "      <td> 12439</td>\n",
        "    </tr>\n",
        "    <tr>\n",
        "      <th>219814</th>\n",
        "      <td> 218363</td>\n",
        "      <td> NCT01712490</td>\n",
        "      <td>             Recruiting</td>\n",
        "      <td> Medical University of South Carolina - Holling...</td>\n",
        "      <td>       Charleston</td>\n",
        "      <td> South Carolina</td>\n",
        "      <td>      29425</td>\n",
        "      <td> United States</td>\n",
        "      <td> 12439</td>\n",
        "    </tr>\n",
        "    <tr>\n",
        "      <th>222658</th>\n",
        "      <td> 221777</td>\n",
        "      <td> NCT01716117</td>\n",
        "      <td>             Recruiting</td>\n",
        "      <td>              Medical University of South Carolina</td>\n",
        "      <td>       Charleston</td>\n",
        "      <td> South Carolina</td>\n",
        "      <td>      29415</td>\n",
        "      <td> United States</td>\n",
        "      <td> 12439</td>\n",
        "    </tr>\n",
        "    <tr>\n",
        "      <th>225796</th>\n",
        "      <td> 205845</td>\n",
        "      <td> NCT01696084</td>\n",
        "      <td>             Recruiting</td>\n",
        "      <td>              Medical University of South Carolina</td>\n",
        "      <td>       Charleston</td>\n",
        "      <td> South Carolina</td>\n",
        "      <td>      29425</td>\n",
        "      <td> United States</td>\n",
        "      <td> 12439</td>\n",
        "    </tr>\n",
        "    <tr>\n",
        "      <th>226906</th>\n",
        "      <td> 207454</td>\n",
        "      <td> NCT01705574</td>\n",
        "      <td>                       </td>\n",
        "      <td>              Medical University of South Carolina</td>\n",
        "      <td>       Charleston</td>\n",
        "      <td> South Carolina</td>\n",
        "      <td>      29425</td>\n",
        "      <td> United States</td>\n",
        "      <td> 12439</td>\n",
        "    </tr>\n",
        "    <tr>\n",
        "      <th>235144</th>\n",
        "      <td> 281145</td>\n",
        "      <td> NCT01827332</td>\n",
        "      <td>             Recruiting</td>\n",
        "      <td>              Medical University of South Carolina</td>\n",
        "      <td>       Charleston</td>\n",
        "      <td> South Carolina</td>\n",
        "      <td>      29425</td>\n",
        "      <td> United States</td>\n",
        "      <td> 12439</td>\n",
        "    </tr>\n",
        "    <tr>\n",
        "      <th>236184</th>\n",
        "      <td> 233342</td>\n",
        "      <td> NCT01749345</td>\n",
        "      <td>             Recruiting</td>\n",
        "      <td>              Medical University of South Carolina</td>\n",
        "      <td>       Charleston</td>\n",
        "      <td> South Carolina</td>\n",
        "      <td>      29425</td>\n",
        "      <td> United States</td>\n",
        "      <td> 12439</td>\n",
        "    </tr>\n",
        "    <tr>\n",
        "      <th>238000</th>\n",
        "      <td> 235343</td>\n",
        "      <td> NCT01741194</td>\n",
        "      <td> Active, not recruiting</td>\n",
        "      <td>              Medical University of South Carolina</td>\n",
        "      <td>       Charleston</td>\n",
        "      <td> South Carolina</td>\n",
        "      <td>      29406</td>\n",
        "      <td> United States</td>\n",
        "      <td> 12439</td>\n",
        "    </tr>\n",
        "    <tr>\n",
        "      <th>239460</th>\n",
        "      <td> 237343</td>\n",
        "      <td> NCT01752114</td>\n",
        "      <td>             Recruiting</td>\n",
        "      <td>              Medical University of South Carolina</td>\n",
        "      <td>       Charleston</td>\n",
        "      <td> South Carolina</td>\n",
        "      <td>      29425</td>\n",
        "      <td> United States</td>\n",
        "      <td> 12439</td>\n",
        "    </tr>\n",
        "    <tr>\n",
        "      <th>239689</th>\n",
        "      <td> 235212</td>\n",
        "      <td> NCT01740427</td>\n",
        "      <td>     Not yet recruiting</td>\n",
        "      <td>              Medical University of South Carolina</td>\n",
        "      <td>       Charleston</td>\n",
        "      <td> South Carolina</td>\n",
        "      <td>      29425</td>\n",
        "      <td> United States</td>\n",
        "      <td> 12439</td>\n",
        "    </tr>\n",
        "    <tr>\n",
        "      <th>240228</th>\n",
        "      <td> 231275</td>\n",
        "      <td> NCT01738191</td>\n",
        "      <td>             Recruiting</td>\n",
        "      <td>              Medical University of South Carolina</td>\n",
        "      <td>       Charleston</td>\n",
        "      <td> South Carolina</td>\n",
        "      <td>      29425</td>\n",
        "      <td> United States</td>\n",
        "      <td> 12439</td>\n",
        "    </tr>\n",
        "    <tr>\n",
        "      <th>240405</th>\n",
        "      <td> 240266</td>\n",
        "      <td> NCT01752933</td>\n",
        "      <td>             Recruiting</td>\n",
        "      <td> Medical University of South Carolina, Hollings...</td>\n",
        "      <td>       Charleston</td>\n",
        "      <td> South Carolina</td>\n",
        "      <td>      29425</td>\n",
        "      <td> United States</td>\n",
        "      <td> 12439</td>\n",
        "    </tr>\n",
        "    <tr>\n",
        "      <th>240631</th>\n",
        "      <td> 248117</td>\n",
        "      <td> NCT01817361</td>\n",
        "      <td>                       </td>\n",
        "      <td>              Medical University of South Carolina</td>\n",
        "      <td>       Charleston</td>\n",
        "      <td> South Carolina</td>\n",
        "      <td>      29425</td>\n",
        "      <td> United States</td>\n",
        "      <td> 12439</td>\n",
        "    </tr>\n",
        "    <tr>\n",
        "      <th>242608</th>\n",
        "      <td> 243394</td>\n",
        "      <td> NCT01818596</td>\n",
        "      <td>                       </td>\n",
        "      <td>              Medical University of South Carolina</td>\n",
        "      <td>       Charleston</td>\n",
        "      <td> South Carolina</td>\n",
        "      <td>      29425</td>\n",
        "      <td> United States</td>\n",
        "      <td> 12439</td>\n",
        "    </tr>\n",
        "    <tr>\n",
        "      <th>243346</th>\n",
        "      <td> 243809</td>\n",
        "      <td> NCT01816555</td>\n",
        "      <td>             Recruiting</td>\n",
        "      <td>              Medical University of South Carolina</td>\n",
        "      <td>       Charleston</td>\n",
        "      <td> South Carolina</td>\n",
        "      <td>      29425</td>\n",
        "      <td> United States</td>\n",
        "      <td> 12439</td>\n",
        "    </tr>\n",
        "    <tr>\n",
        "      <th>243999</th>\n",
        "      <td> 239748</td>\n",
        "      <td> NCT01751906</td>\n",
        "      <td>             Recruiting</td>\n",
        "      <td>              Medical University of South Carolina</td>\n",
        "      <td>       Charleston</td>\n",
        "      <td> South Carolina</td>\n",
        "      <td>      29403</td>\n",
        "      <td> United States</td>\n",
        "      <td> 12439</td>\n",
        "    </tr>\n",
        "    <tr>\n",
        "      <th>245884</th>\n",
        "      <td> 241009</td>\n",
        "      <td> NCT01815502</td>\n",
        "      <td>             Recruiting</td>\n",
        "      <td>              Medical University of South Carolina</td>\n",
        "      <td>       Charleston</td>\n",
        "      <td> South Carolina</td>\n",
        "      <td>      29425</td>\n",
        "      <td> United States</td>\n",
        "      <td> 12439</td>\n",
        "    </tr>\n",
        "    <tr>\n",
        "      <th>247656</th>\n",
        "      <td> 233507</td>\n",
        "      <td> NCT01746095</td>\n",
        "      <td>             Recruiting</td>\n",
        "      <td>              Medical University of South Carolina</td>\n",
        "      <td>       Charleston</td>\n",
        "      <td> South Carolina</td>\n",
        "      <td>      29425</td>\n",
        "      <td> United States</td>\n",
        "      <td> 12439</td>\n",
        "    </tr>\n",
        "    <tr>\n",
        "      <th>248159</th>\n",
        "      <td> 246632</td>\n",
        "      <td> NCT01814813</td>\n",
        "      <td>             Recruiting</td>\n",
        "      <td>              Medical University of South Carolina</td>\n",
        "      <td>       Charleston</td>\n",
        "      <td> South Carolina</td>\n",
        "      <td>      29425</td>\n",
        "      <td> United States</td>\n",
        "      <td> 12439</td>\n",
        "    </tr>\n",
        "    <tr>\n",
        "      <th>248292</th>\n",
        "      <td> 236617</td>\n",
        "      <td> NCT01740895</td>\n",
        "      <td>                       </td>\n",
        "      <td>              Medical University of South Carolina</td>\n",
        "      <td>       Charleston</td>\n",
        "      <td> South Carolina</td>\n",
        "      <td>      29425</td>\n",
        "      <td> United States</td>\n",
        "      <td> 12439</td>\n",
        "    </tr>\n",
        "    <tr>\n",
        "      <th>252332</th>\n",
        "      <td> 241158</td>\n",
        "      <td> NCT01804270</td>\n",
        "      <td>             Recruiting</td>\n",
        "      <td>              Medical University of South Carolina</td>\n",
        "      <td>       Charleston</td>\n",
        "      <td> South Carolina</td>\n",
        "      <td>      29425</td>\n",
        "      <td> United States</td>\n",
        "      <td> 12439</td>\n",
        "    </tr>\n",
        "    <tr>\n",
        "      <th>252335</th>\n",
        "      <td> 241161</td>\n",
        "      <td> NCT01804296</td>\n",
        "      <td>                       </td>\n",
        "      <td>              Medical University of South Carolina</td>\n",
        "      <td>       Charleston</td>\n",
        "      <td> South Carolina</td>\n",
        "      <td>      29425</td>\n",
        "      <td> United States</td>\n",
        "      <td> 12439</td>\n",
        "    </tr>\n",
        "    <tr>\n",
        "      <th>252786</th>\n",
        "      <td> 239179</td>\n",
        "      <td> NCT01757132</td>\n",
        "      <td>                       </td>\n",
        "      <td> Medical University of South Carolina, Storm Ey...</td>\n",
        "      <td>       Charleston</td>\n",
        "      <td> South Carolina</td>\n",
        "      <td>      29425</td>\n",
        "      <td> United States</td>\n",
        "      <td> 12439</td>\n",
        "    </tr>\n",
        "    <tr>\n",
        "      <th>253195</th>\n",
        "      <td> 238414</td>\n",
        "      <td> NCT01755169</td>\n",
        "      <td>             Recruiting</td>\n",
        "      <td>              Medical University of South Carolina</td>\n",
        "      <td>       Charleston</td>\n",
        "      <td> South Carolina</td>\n",
        "      <td>      29425</td>\n",
        "      <td> United States</td>\n",
        "      <td> 12439</td>\n",
        "    </tr>\n",
        "    <tr>\n",
        "      <th>253342</th>\n",
        "      <td> 255435</td>\n",
        "      <td> NCT01765738</td>\n",
        "      <td>     Not yet recruiting</td>\n",
        "      <td>              Medical University of South Carolina</td>\n",
        "      <td>       Charleston</td>\n",
        "      <td> South Carolina</td>\n",
        "      <td>      29425</td>\n",
        "      <td> United States</td>\n",
        "      <td> 12439</td>\n",
        "    </tr>\n",
        "    <tr>\n",
        "      <th>253503</th>\n",
        "      <td> 240446</td>\n",
        "      <td> NCT01751035</td>\n",
        "      <td>             Recruiting</td>\n",
        "      <td>              Medical University of South Carolina</td>\n",
        "      <td>       Charleston</td>\n",
        "      <td> South Carolina</td>\n",
        "      <td>      29425</td>\n",
        "      <td> United States</td>\n",
        "      <td> 12439</td>\n",
        "    </tr>\n",
        "    <tr>\n",
        "      <th>254226</th>\n",
        "      <td> 241614</td>\n",
        "      <td> NCT01804530</td>\n",
        "      <td>             Recruiting</td>\n",
        "      <td>       Medical Universtiy of South Carolina (MUSC)</td>\n",
        "      <td>       Charleston</td>\n",
        "      <td> South Carolina</td>\n",
        "      <td>      29425</td>\n",
        "      <td> United States</td>\n",
        "      <td> 12439</td>\n",
        "    </tr>\n",
        "    <tr>\n",
        "      <th>254641</th>\n",
        "      <td> 240884</td>\n",
        "      <td> NCT01810341</td>\n",
        "      <td>             Recruiting</td>\n",
        "      <td>              Medical University of South Carolina</td>\n",
        "      <td>       Charleston</td>\n",
        "      <td> South Carolina</td>\n",
        "      <td>      29425</td>\n",
        "      <td> United States</td>\n",
        "      <td> 12439</td>\n",
        "    </tr>\n",
        "    <tr>\n",
        "      <th>259298</th>\n",
        "      <td> 261717</td>\n",
        "      <td> NCT01802203</td>\n",
        "      <td>             Recruiting</td>\n",
        "      <td>              Medical University of South Carolina</td>\n",
        "      <td>       Charleston</td>\n",
        "      <td> South Carolina</td>\n",
        "      <td>      29425</td>\n",
        "      <td> United States</td>\n",
        "      <td> 12439</td>\n",
        "    </tr>\n",
        "    <tr>\n",
        "      <th>260885</th>\n",
        "      <td> 259897</td>\n",
        "      <td> NCT01802567</td>\n",
        "      <td>             Recruiting</td>\n",
        "      <td>              Medical University of South Carolina</td>\n",
        "      <td>       Charleston</td>\n",
        "      <td> South Carolina</td>\n",
        "      <td>      29425</td>\n",
        "      <td> United States</td>\n",
        "      <td> 12439</td>\n",
        "    </tr>\n",
        "    <tr>\n",
        "      <th>261157</th>\n",
        "      <td> 256926</td>\n",
        "      <td> NCT00069745</td>\n",
        "      <td>                       </td>\n",
        "      <td> Medical University of South Carolina Hollings ...</td>\n",
        "      <td>       Charleston</td>\n",
        "      <td> South Carolina</td>\n",
        "      <td>      29425</td>\n",
        "      <td> United States</td>\n",
        "      <td> 12439</td>\n",
        "    </tr>\n",
        "    <tr>\n",
        "      <th>262436</th>\n",
        "      <td> 262002</td>\n",
        "      <td> NCT01794182</td>\n",
        "      <td>             Recruiting</td>\n",
        "      <td>              Medical University of South Carolina</td>\n",
        "      <td>       Charleston</td>\n",
        "      <td> South Carolina</td>\n",
        "      <td>      29425</td>\n",
        "      <td> United States</td>\n",
        "      <td> 12439</td>\n",
        "    </tr>\n",
        "    <tr>\n",
        "      <th>264354</th>\n",
        "      <td> 267932</td>\n",
        "      <td> NCT01783431</td>\n",
        "      <td>             Recruiting</td>\n",
        "      <td>              Medical University of South Carolina</td>\n",
        "      <td>       Charleston</td>\n",
        "      <td> South Carolina</td>\n",
        "      <td>      29425</td>\n",
        "      <td> United States</td>\n",
        "      <td> 12439</td>\n",
        "    </tr>\n",
        "    <tr>\n",
        "      <th>264683</th>\n",
        "      <td> 269515</td>\n",
        "      <td> NCT01774253</td>\n",
        "      <td>             Recruiting</td>\n",
        "      <td>              Medical University of South Carolina</td>\n",
        "      <td>       Charleston</td>\n",
        "      <td> South Carolina</td>\n",
        "      <td>      29425</td>\n",
        "      <td> United States</td>\n",
        "      <td> 12439</td>\n",
        "    </tr>\n",
        "    <tr>\n",
        "      <th>266066</th>\n",
        "      <td> 266949</td>\n",
        "      <td> NCT01783054</td>\n",
        "      <td>             Recruiting</td>\n",
        "      <td>              Medical University of South Carolina</td>\n",
        "      <td>       Charleston</td>\n",
        "      <td> South Carolina</td>\n",
        "      <td>      29425</td>\n",
        "      <td> United States</td>\n",
        "      <td> 12439</td>\n",
        "    </tr>\n",
        "    <tr>\n",
        "      <th>266688</th>\n",
        "      <td> 268032</td>\n",
        "      <td> NCT01772953</td>\n",
        "      <td>             Recruiting</td>\n",
        "      <td>              Medical University of South Carolina</td>\n",
        "      <td>       Charleston</td>\n",
        "      <td> South Carolina</td>\n",
        "      <td>      29425</td>\n",
        "      <td> United States</td>\n",
        "      <td> 12439</td>\n",
        "    </tr>\n",
        "    <tr>\n",
        "      <th>267456</th>\n",
        "      <td> 268438</td>\n",
        "      <td> NCT01783990</td>\n",
        "      <td>                       </td>\n",
        "      <td>              Medical University of South Carolina</td>\n",
        "      <td>       Charleston</td>\n",
        "      <td> South Carolina</td>\n",
        "      <td>      29425</td>\n",
        "      <td> United States</td>\n",
        "      <td> 12439</td>\n",
        "    </tr>\n",
        "    <tr>\n",
        "      <th>270898</th>\n",
        "      <td> 274981</td>\n",
        "      <td> NCT01891643</td>\n",
        "      <td>             Recruiting</td>\n",
        "      <td> Medical University Of South Carolina Hollings ...</td>\n",
        "      <td>       Charleston</td>\n",
        "      <td> South Carolina</td>\n",
        "      <td>      29425</td>\n",
        "      <td> United States</td>\n",
        "      <td> 12439</td>\n",
        "    </tr>\n",
        "    <tr>\n",
        "      <th>271439</th>\n",
        "      <td> 271250</td>\n",
        "      <td> NCT01885455</td>\n",
        "      <td>             Recruiting</td>\n",
        "      <td>              Medical University of South Carolina</td>\n",
        "      <td>       Charleston</td>\n",
        "      <td> South Carolina</td>\n",
        "      <td>      29425</td>\n",
        "      <td> United States</td>\n",
        "      <td> 12439</td>\n",
        "    </tr>\n",
        "    <tr>\n",
        "      <th>273070</th>\n",
        "      <td> 271448</td>\n",
        "      <td> NCT00071721</td>\n",
        "      <td>                       </td>\n",
        "      <td>              Medical University of South Carolina</td>\n",
        "      <td> North Charleston</td>\n",
        "      <td> South Carolina</td>\n",
        "      <td> 29406-6076</td>\n",
        "      <td> United States</td>\n",
        "      <td> 12439</td>\n",
        "    </tr>\n",
        "    <tr>\n",
        "      <th>273239</th>\n",
        "      <td> 273603</td>\n",
        "      <td> NCT01889953</td>\n",
        "      <td>     Not yet recruiting</td>\n",
        "      <td>              Medical University of South Carolina</td>\n",
        "      <td>       Charleston</td>\n",
        "      <td> South Carolina</td>\n",
        "      <td>      29425</td>\n",
        "      <td> United States</td>\n",
        "      <td> 12439</td>\n",
        "    </tr>\n",
        "    <tr>\n",
        "      <th>275777</th>\n",
        "      <td> 280644</td>\n",
        "      <td> NCT01826214</td>\n",
        "      <td>              Withdrawn</td>\n",
        "      <td> Medical University of South Carolina -Hollings...</td>\n",
        "      <td>       Charleston</td>\n",
        "      <td> South Carolina</td>\n",
        "      <td>      29425</td>\n",
        "      <td> United States</td>\n",
        "      <td> 12439</td>\n",
        "    </tr>\n",
        "    <tr>\n",
        "      <th>276252</th>\n",
        "      <td> 266851</td>\n",
        "      <td> NCT01780506</td>\n",
        "      <td>                       </td>\n",
        "      <td>              Medical University of South Carolina</td>\n",
        "      <td>       Charleston</td>\n",
        "      <td> South Carolina</td>\n",
        "      <td>      29425</td>\n",
        "      <td> United States</td>\n",
        "      <td> 12439</td>\n",
        "    </tr>\n",
        "    <tr>\n",
        "      <th>277760</th>\n",
        "      <td> 280842</td>\n",
        "      <td> NCT01831739</td>\n",
        "      <td>             Recruiting</td>\n",
        "      <td>               Medical University of South Caolina</td>\n",
        "      <td>       Charleston</td>\n",
        "      <td> South Carolina</td>\n",
        "      <td>      29425</td>\n",
        "      <td> United States</td>\n",
        "      <td> 12439</td>\n",
        "    </tr>\n",
        "    <tr>\n",
        "      <th>278400</th>\n",
        "      <td> 281514</td>\n",
        "      <td> NCT01822587</td>\n",
        "      <td>     Not yet recruiting</td>\n",
        "      <td>              Medical University of South Carolina</td>\n",
        "      <td>       Charleston</td>\n",
        "      <td> South Carolina</td>\n",
        "      <td>      29425</td>\n",
        "      <td> United States</td>\n",
        "      <td> 12439</td>\n",
        "    </tr>\n",
        "    <tr>\n",
        "      <th>279492</th>\n",
        "      <td> 264003</td>\n",
        "      <td> NCT01780844</td>\n",
        "      <td>             Recruiting</td>\n",
        "      <td>              Medical University of South Carolina</td>\n",
        "      <td>       Charleston</td>\n",
        "      <td> South Carolina</td>\n",
        "      <td>      29425</td>\n",
        "      <td> United States</td>\n",
        "      <td> 12439</td>\n",
        "    </tr>\n",
        "    <tr>\n",
        "      <th>281257</th>\n",
        "      <td> 279064</td>\n",
        "      <td> NCT01837030</td>\n",
        "      <td>             Recruiting</td>\n",
        "      <td>              Medical University of South Carolina</td>\n",
        "      <td>       Charleston</td>\n",
        "      <td> South Carolina</td>\n",
        "      <td>      29425</td>\n",
        "      <td> United States</td>\n",
        "      <td> 12439</td>\n",
        "    </tr>\n",
        "    <tr>\n",
        "      <th>283035</th>\n",
        "      <td> 284791</td>\n",
        "      <td> NCT01820299</td>\n",
        "      <td>             Recruiting</td>\n",
        "      <td>              Medical University of South Carolina</td>\n",
        "      <td>       Charleston</td>\n",
        "      <td> South Carolina</td>\n",
        "      <td>      29412</td>\n",
        "      <td> United States</td>\n",
        "      <td> 12439</td>\n",
        "    </tr>\n",
        "    <tr>\n",
        "      <th>284111</th>\n",
        "      <td> 300557</td>\n",
        "      <td> NCT01843426</td>\n",
        "      <td>             Recruiting</td>\n",
        "      <td>              Medical University of South Carolina</td>\n",
        "      <td>       Charleston</td>\n",
        "      <td> South Carolina</td>\n",
        "      <td>      29425</td>\n",
        "      <td> United States</td>\n",
        "      <td> 12439</td>\n",
        "    </tr>\n",
        "    <tr>\n",
        "      <th>284373</th>\n",
        "      <td> 298420</td>\n",
        "      <td> NCT01852188</td>\n",
        "      <td>             Recruiting</td>\n",
        "      <td>              Medical University of South Carolina</td>\n",
        "      <td>       Charleston</td>\n",
        "      <td> South Carolina</td>\n",
        "      <td>      29425</td>\n",
        "      <td> United States</td>\n",
        "      <td> 12439</td>\n",
        "    </tr>\n",
        "    <tr>\n",
        "      <th>284374</th>\n",
        "      <td> 298421</td>\n",
        "      <td> NCT01852201</td>\n",
        "      <td>             Recruiting</td>\n",
        "      <td>              Medical University of South Carolina</td>\n",
        "      <td>       Charleston</td>\n",
        "      <td> South Carolina</td>\n",
        "      <td>      29461</td>\n",
        "      <td> United States</td>\n",
        "      <td> 12439</td>\n",
        "    </tr>\n",
        "    <tr>\n",
        "      <th>284605</th>\n",
        "      <td> 285260</td>\n",
        "      <td> NCT01820325</td>\n",
        "      <td>              Withdrawn</td>\n",
        "      <td>         Medical University of South Carolina MUSC</td>\n",
        "      <td>       Charleston</td>\n",
        "      <td> South Carolina</td>\n",
        "      <td>      29425</td>\n",
        "      <td> United States</td>\n",
        "      <td> 12439</td>\n",
        "    </tr>\n",
        "    <tr>\n",
        "      <th>285301</th>\n",
        "      <td> 286829</td>\n",
        "      <td> NCT01859273</td>\n",
        "      <td>             Recruiting</td>\n",
        "      <td>              Medical University of South Carolina</td>\n",
        "      <td>       Charleston</td>\n",
        "      <td> South Carolina</td>\n",
        "      <td>      29425</td>\n",
        "      <td> United States</td>\n",
        "      <td> 12439</td>\n",
        "    </tr>\n",
        "    <tr>\n",
        "      <th>285878</th>\n",
        "      <td> 299241</td>\n",
        "      <td> NCT01847820</td>\n",
        "      <td>             Recruiting</td>\n",
        "      <td>              Medical University of South Carolina</td>\n",
        "      <td>       Charleston</td>\n",
        "      <td> South Carolina</td>\n",
        "      <td>      29425</td>\n",
        "      <td> United States</td>\n",
        "      <td> 12439</td>\n",
        "    </tr>\n",
        "    <tr>\n",
        "      <th>291134</th>\n",
        "      <td> 292998</td>\n",
        "      <td> NCT01861990</td>\n",
        "      <td>                       </td>\n",
        "      <td>              Medical University of South Carolina</td>\n",
        "      <td>       Charleston</td>\n",
        "      <td> South Carolina</td>\n",
        "      <td>      29425</td>\n",
        "      <td> United States</td>\n",
        "      <td> 12439</td>\n",
        "    </tr>\n",
        "    <tr>\n",
        "      <th>291697</th>\n",
        "      <td> 303272</td>\n",
        "      <td> NCT01967888</td>\n",
        "      <td>     Not yet recruiting</td>\n",
        "      <td>              Medical University of South Carolina</td>\n",
        "      <td>       Charleston</td>\n",
        "      <td> South Carolina</td>\n",
        "      <td>      29425</td>\n",
        "      <td> United States</td>\n",
        "      <td> 12439</td>\n",
        "    </tr>\n",
        "    <tr>\n",
        "      <th>292131</th>\n",
        "      <td> 289720</td>\n",
        "      <td> NCT00071331</td>\n",
        "      <td>                       </td>\n",
        "      <td>              Medical University of South Carolina</td>\n",
        "      <td>       Charleston</td>\n",
        "      <td> South Carolina</td>\n",
        "      <td>      29401</td>\n",
        "      <td> United States</td>\n",
        "      <td> 12439</td>\n",
        "    </tr>\n",
        "    <tr>\n",
        "      <th>292822</th>\n",
        "      <td> 292039</td>\n",
        "      <td> NCT01861457</td>\n",
        "      <td>                       </td>\n",
        "      <td>              Medical University of South Carolina</td>\n",
        "      <td>       Charleston</td>\n",
        "      <td> South Carolina</td>\n",
        "      <td>      29425</td>\n",
        "      <td> United States</td>\n",
        "      <td> 12439</td>\n",
        "    </tr>\n",
        "    <tr>\n",
        "      <th>294459</th>\n",
        "      <td> 301079</td>\n",
        "      <td> NCT01845454</td>\n",
        "      <td>             Recruiting</td>\n",
        "      <td>              Medical University of South Carolina</td>\n",
        "      <td>       Charleston</td>\n",
        "      <td> South Carolina</td>\n",
        "      <td>           </td>\n",
        "      <td> United States</td>\n",
        "      <td> 12439</td>\n",
        "    </tr>\n",
        "    <tr>\n",
        "      <th>296793</th>\n",
        "      <td> 300791</td>\n",
        "      <td> NCT00070590</td>\n",
        "      <td>                       </td>\n",
        "      <td>                    Medical Univ of South Carolina</td>\n",
        "      <td>       Charleston</td>\n",
        "      <td> South Carolina</td>\n",
        "      <td>      29425</td>\n",
        "      <td> United States</td>\n",
        "      <td> 12439</td>\n",
        "    </tr>\n",
        "    <tr>\n",
        "      <th>298344</th>\n",
        "      <td> 289986</td>\n",
        "      <td> NCT01871038</td>\n",
        "      <td>                       </td>\n",
        "      <td>              Medical University of South Carolina</td>\n",
        "      <td>       Charleston</td>\n",
        "      <td> South Carolina</td>\n",
        "      <td>      29425</td>\n",
        "      <td> United States</td>\n",
        "      <td> 12439</td>\n",
        "    </tr>\n",
        "    <tr>\n",
        "      <th>299788</th>\n",
        "      <td> 263109</td>\n",
        "      <td> NCT01801007</td>\n",
        "      <td>             Recruiting</td>\n",
        "      <td>          The Medical University of South Carolina</td>\n",
        "      <td>       Charleston</td>\n",
        "      <td> South Carolina</td>\n",
        "      <td>      29425</td>\n",
        "      <td> United States</td>\n",
        "      <td> 12439</td>\n",
        "    </tr>\n",
        "    <tr>\n",
        "      <th>303768</th>\n",
        "      <td> 305155</td>\n",
        "      <td> NCT00074555</td>\n",
        "      <td>                       </td>\n",
        "      <td>              Medical University of South Carolina</td>\n",
        "      <td>       Charleston</td>\n",
        "      <td> South Carolina</td>\n",
        "      <td>      29425</td>\n",
        "      <td> United States</td>\n",
        "      <td> 12439</td>\n",
        "    </tr>\n",
        "    <tr>\n",
        "      <th>304568</th>\n",
        "      <td> 261529</td>\n",
        "      <td> NCT01793792</td>\n",
        "      <td>             Recruiting</td>\n",
        "      <td>              Medical University of South Carolina</td>\n",
        "      <td>       Charleston</td>\n",
        "      <td> South Carolina</td>\n",
        "      <td>      29425</td>\n",
        "      <td> United States</td>\n",
        "      <td> 12439</td>\n",
        "    </tr>\n",
        "    <tr>\n",
        "      <th>308041</th>\n",
        "      <td> 321912</td>\n",
        "      <td> NCT01932788</td>\n",
        "      <td>             Recruiting</td>\n",
        "      <td>              Medical University of South Carolina</td>\n",
        "      <td>       Charleston</td>\n",
        "      <td> South Carolina</td>\n",
        "      <td>      29425</td>\n",
        "      <td> United States</td>\n",
        "      <td> 12439</td>\n",
        "    </tr>\n",
        "    <tr>\n",
        "      <th>310483</th>\n",
        "      <td> 322193</td>\n",
        "      <td> NCT01947608</td>\n",
        "      <td>                       </td>\n",
        "      <td> Medical University of South Carolina -Hollings...</td>\n",
        "      <td>       Charleston</td>\n",
        "      <td> South Carolina</td>\n",
        "      <td>      29425</td>\n",
        "      <td> United States</td>\n",
        "      <td> 12439</td>\n",
        "    </tr>\n",
        "    <tr>\n",
        "      <th>311010</th>\n",
        "      <td> 316430</td>\n",
        "      <td> NCT01942694</td>\n",
        "      <td>             Recruiting</td>\n",
        "      <td>              Medical University of South Carolina</td>\n",
        "      <td>       Charleston</td>\n",
        "      <td> South Carolina</td>\n",
        "      <td>      29425</td>\n",
        "      <td> United States</td>\n",
        "      <td> 12439</td>\n",
        "    </tr>\n",
        "    <tr>\n",
        "      <th>312329</th>\n",
        "      <td> 333199</td>\n",
        "      <td> NCT02067377</td>\n",
        "      <td>             Recruiting</td>\n",
        "      <td>              Medical University of South Carolina</td>\n",
        "      <td>       Charleston</td>\n",
        "      <td> South Carolina</td>\n",
        "      <td>      29425</td>\n",
        "      <td> United States</td>\n",
        "      <td> 12439</td>\n",
        "    </tr>\n",
        "    <tr>\n",
        "      <th>312868</th>\n",
        "      <td> 318496</td>\n",
        "      <td> NCT01949519</td>\n",
        "      <td>             Recruiting</td>\n",
        "      <td>              Medical University of South Carolina</td>\n",
        "      <td>       Charleston</td>\n",
        "      <td> South Carolina</td>\n",
        "      <td>      29425</td>\n",
        "      <td> United States</td>\n",
        "      <td> 12439</td>\n",
        "    </tr>\n",
        "    <tr>\n",
        "      <th>313306</th>\n",
        "      <td> 331028</td>\n",
        "      <td> NCT01911169</td>\n",
        "      <td>             Recruiting</td>\n",
        "      <td>              Medical University of South Carolina</td>\n",
        "      <td>       Charleston</td>\n",
        "      <td> South Carolina</td>\n",
        "      <td>      29425</td>\n",
        "      <td> United States</td>\n",
        "      <td> 12439</td>\n",
        "    </tr>\n",
        "    <tr>\n",
        "      <th>314735</th>\n",
        "      <td> 319352</td>\n",
        "      <td> NCT01945736</td>\n",
        "      <td>             Recruiting</td>\n",
        "      <td>              Medical University of South Carolina</td>\n",
        "      <td>       Charleston</td>\n",
        "      <td> South Carolina</td>\n",
        "      <td>      29425</td>\n",
        "      <td> United States</td>\n",
        "      <td> 12439</td>\n",
        "    </tr>\n",
        "    <tr>\n",
        "      <th>319985</th>\n",
        "      <td> 316968</td>\n",
        "      <td> NCT01946880</td>\n",
        "      <td>             Recruiting</td>\n",
        "      <td>              Medical University of South Carolina</td>\n",
        "      <td>       Charleston</td>\n",
        "      <td> South Carolina</td>\n",
        "      <td>           </td>\n",
        "      <td> United States</td>\n",
        "      <td> 12439</td>\n",
        "    </tr>\n",
        "    <tr>\n",
        "      <th>320772</th>\n",
        "      <td> 316198</td>\n",
        "      <td> NCT01933399</td>\n",
        "      <td>             Recruiting</td>\n",
        "      <td>              Medical University of South Carolina</td>\n",
        "      <td>       Charleston</td>\n",
        "      <td> South Carolina</td>\n",
        "      <td>      29425</td>\n",
        "      <td> United States</td>\n",
        "      <td> 12439</td>\n",
        "    </tr>\n",
        "    <tr>\n",
        "      <th>320904</th>\n",
        "      <td> 325288</td>\n",
        "      <td> NCT01911325</td>\n",
        "      <td>     Not yet recruiting</td>\n",
        "      <td>         Medical University of South Carolina MUSC</td>\n",
        "      <td>       Charleston</td>\n",
        "      <td> South Carolina</td>\n",
        "      <td>      29425</td>\n",
        "      <td> United States</td>\n",
        "      <td> 12439</td>\n",
        "    </tr>\n",
        "    <tr>\n",
        "      <th>322463</th>\n",
        "      <td> 325353</td>\n",
        "      <td> NCT01915160</td>\n",
        "      <td>                       </td>\n",
        "      <td>                          Medical University of SC</td>\n",
        "      <td>       Charleston</td>\n",
        "      <td> South Carolina</td>\n",
        "      <td>  294258908</td>\n",
        "      <td> United States</td>\n",
        "      <td> 12439</td>\n",
        "    </tr>\n",
        "    <tr>\n",
        "      <th>324255</th>\n",
        "      <td> 332541</td>\n",
        "      <td> NCT02056782</td>\n",
        "      <td>     Not yet recruiting</td>\n",
        "      <td>              Medical University of South Carolina</td>\n",
        "      <td>       Charleston</td>\n",
        "      <td> South Carolina</td>\n",
        "      <td>      29425</td>\n",
        "      <td> United States</td>\n",
        "      <td> 12439</td>\n",
        "    </tr>\n",
        "    <tr>\n",
        "      <th>326030</th>\n",
        "      <td> 285549</td>\n",
        "      <td> NCT01832220</td>\n",
        "      <td>             Recruiting</td>\n",
        "      <td>              Medical University of South Carolina</td>\n",
        "      <td>       Charleston</td>\n",
        "      <td> South Carolina</td>\n",
        "      <td>      29425</td>\n",
        "      <td> United States</td>\n",
        "      <td> 12439</td>\n",
        "    </tr>\n",
        "    <tr>\n",
        "      <th>326938</th>\n",
        "      <td> 333038</td>\n",
        "      <td> NCT02058251</td>\n",
        "      <td>     Not yet recruiting</td>\n",
        "      <td>              Medical University of South Carolina</td>\n",
        "      <td>       Charleston</td>\n",
        "      <td> South Carolina</td>\n",
        "      <td>      29425</td>\n",
        "      <td> United States</td>\n",
        "      <td> 12439</td>\n",
        "    </tr>\n",
        "    <tr>\n",
        "      <th>327532</th>\n",
        "      <td> 330072</td>\n",
        "      <td> NCT01912274</td>\n",
        "      <td>             Recruiting</td>\n",
        "      <td> Medical College of South Carolina-Hollings Can...</td>\n",
        "      <td>       Charleston</td>\n",
        "      <td> South Carolina</td>\n",
        "      <td>      29425</td>\n",
        "      <td> United States</td>\n",
        "      <td> 12439</td>\n",
        "    </tr>\n",
        "    <tr>\n",
        "      <th>328778</th>\n",
        "      <td> 350501</td>\n",
        "      <td> NCT02039869</td>\n",
        "      <td>     Not yet recruiting</td>\n",
        "      <td>              Medical University of South Carolina</td>\n",
        "      <td>       Charleston</td>\n",
        "      <td> South Carolina</td>\n",
        "      <td>      29425</td>\n",
        "      <td> United States</td>\n",
        "      <td> 12439</td>\n",
        "    </tr>\n",
        "    <tr>\n",
        "      <th>335319</th>\n",
        "      <td> 357723</td>\n",
        "      <td> NCT01993849</td>\n",
        "      <td>             Recruiting</td>\n",
        "      <td>              Medical University of South Carolina</td>\n",
        "      <td>       Charleston</td>\n",
        "      <td> South Carolina</td>\n",
        "      <td>      29425</td>\n",
        "      <td> United States</td>\n",
        "      <td> 12439</td>\n",
        "    </tr>\n",
        "    <tr>\n",
        "      <th>336222</th>\n",
        "      <td> 355073</td>\n",
        "      <td> NCT02001688</td>\n",
        "      <td>     Not yet recruiting</td>\n",
        "      <td> Medical University of South Carolina, Pulmonar...</td>\n",
        "      <td>       Charleston</td>\n",
        "      <td> South Carolina</td>\n",
        "      <td>      29425</td>\n",
        "      <td> United States</td>\n",
        "      <td> 12439</td>\n",
        "    </tr>\n",
        "    <tr>\n",
        "      <th>336420</th>\n",
        "      <td> 359355</td>\n",
        "      <td> NCT00002493</td>\n",
        "      <td>                       </td>\n",
        "      <td>              Medical University of South Carolina</td>\n",
        "      <td>       Charleston</td>\n",
        "      <td> South Carolina</td>\n",
        "      <td> 29425-0721</td>\n",
        "      <td> United States</td>\n",
        "      <td> 12439</td>\n",
        "    </tr>\n",
        "    <tr>\n",
        "      <th>340401</th>\n",
        "      <td> 343260</td>\n",
        "      <td> NCT01976104</td>\n",
        "      <td>     Not yet recruiting</td>\n",
        "      <td>              Medical University of South Carolina</td>\n",
        "      <td>       Charleston</td>\n",
        "      <td> South Carolina</td>\n",
        "      <td>           </td>\n",
        "      <td> United States</td>\n",
        "      <td> 12439</td>\n",
        "    </tr>\n",
        "    <tr>\n",
        "      <th>341169</th>\n",
        "      <td> 343297</td>\n",
        "      <td> NCT01977547</td>\n",
        "      <td>     Not yet recruiting</td>\n",
        "      <td>          The Medical University of South Carolina</td>\n",
        "      <td>       Charleston</td>\n",
        "      <td> South Carolina</td>\n",
        "      <td>      29425</td>\n",
        "      <td> United States</td>\n",
        "      <td> 12439</td>\n",
        "    </tr>\n",
        "    <tr>\n",
        "      <th>341228</th>\n",
        "      <td> 343800</td>\n",
        "      <td> NCT00002485</td>\n",
        "      <td>                       </td>\n",
        "      <td>              Medical University of South Carolina</td>\n",
        "      <td>       Charleston</td>\n",
        "      <td> South Carolina</td>\n",
        "      <td> 29425-0721</td>\n",
        "      <td> United States</td>\n",
        "      <td> 12439</td>\n",
        "    </tr>\n",
        "    <tr>\n",
        "      <th>341797</th>\n",
        "      <td> 340289</td>\n",
        "      <td> NCT01972139</td>\n",
        "      <td>                       </td>\n",
        "      <td>              Medical University of South Carolina</td>\n",
        "      <td>       Charleston</td>\n",
        "      <td> South Carolina</td>\n",
        "      <td>      29425</td>\n",
        "      <td> United States</td>\n",
        "      <td> 12439</td>\n",
        "    </tr>\n",
        "    <tr>\n",
        "      <th>343128</th>\n",
        "      <td> 345442</td>\n",
        "      <td> NCT00075582</td>\n",
        "      <td>                       </td>\n",
        "      <td>              Medical University of South Carolina</td>\n",
        "      <td>       Charleston</td>\n",
        "      <td> South Carolina</td>\n",
        "      <td>      29425</td>\n",
        "      <td> United States</td>\n",
        "      <td> 12439</td>\n",
        "    </tr>\n",
        "    <tr>\n",
        "      <th>344727</th>\n",
        "      <td> 343582</td>\n",
        "      <td> NCT01970007</td>\n",
        "      <td>             Recruiting</td>\n",
        "      <td>              Medical University of South Carolina</td>\n",
        "      <td>       Charleston</td>\n",
        "      <td> South Carolina</td>\n",
        "      <td>      29425</td>\n",
        "      <td> United States</td>\n",
        "      <td> 12439</td>\n",
        "    </tr>\n",
        "    <tr>\n",
        "      <th>345805</th>\n",
        "      <td> 345946</td>\n",
        "      <td> NCT00002478</td>\n",
        "      <td>                       </td>\n",
        "      <td>              Medical University of South Carolina</td>\n",
        "      <td>       Charleston</td>\n",
        "      <td> South Carolina</td>\n",
        "      <td> 29425-0721</td>\n",
        "      <td> United States</td>\n",
        "      <td> 12439</td>\n",
        "    </tr>\n",
        "    <tr>\n",
        "      <th>347996</th>\n",
        "      <td> 313365</td>\n",
        "      <td> NCT01893190</td>\n",
        "      <td>     Not yet recruiting</td>\n",
        "      <td>       Medical University of South Carolina (MUSC)</td>\n",
        "      <td>       Charleston</td>\n",
        "      <td> South Carolina</td>\n",
        "      <td>      29425</td>\n",
        "      <td> United States</td>\n",
        "      <td> 12439</td>\n",
        "    </tr>\n",
        "    <tr>\n",
        "      <th>348604</th>\n",
        "      <td> 309013</td>\n",
        "      <td> NCT01898091</td>\n",
        "      <td>             Recruiting</td>\n",
        "      <td>              Medical University of South Carolina</td>\n",
        "      <td>       Charleston</td>\n",
        "      <td> South Carolina</td>\n",
        "      <td> 29425-9170</td>\n",
        "      <td> United States</td>\n",
        "      <td> 12439</td>\n",
        "    </tr>\n",
        "    <tr>\n",
        "      <th>352918</th>\n",
        "      <td> 370134</td>\n",
        "      <td> NCT02088580</td>\n",
        "      <td>             Recruiting</td>\n",
        "      <td>              Medical University of South Carolina</td>\n",
        "      <td>       Charleston</td>\n",
        "      <td> South Carolina</td>\n",
        "      <td>      29425</td>\n",
        "      <td> United States</td>\n",
        "      <td> 12439</td>\n",
        "    </tr>\n",
        "    <tr>\n",
        "      <th>352921</th>\n",
        "      <td> 370137</td>\n",
        "      <td> NCT02088619</td>\n",
        "      <td>     Not yet recruiting</td>\n",
        "      <td> Medical University of South Carolina, Dept of ...</td>\n",
        "      <td>       Charleston</td>\n",
        "      <td> South Carolina</td>\n",
        "      <td>      29425</td>\n",
        "      <td> United States</td>\n",
        "      <td> 12439</td>\n",
        "    </tr>\n",
        "    <tr>\n",
        "      <th>353669</th>\n",
        "      <td> 370140</td>\n",
        "      <td> NCT02088658</td>\n",
        "      <td>             Recruiting</td>\n",
        "      <td>              Medical University of South Carolina</td>\n",
        "      <td>       Charleston</td>\n",
        "      <td> South Carolina</td>\n",
        "      <td>      29425</td>\n",
        "      <td> United States</td>\n",
        "      <td> 12439</td>\n",
        "    </tr>\n",
        "    <tr>\n",
        "      <th>355802</th>\n",
        "      <td> 367287</td>\n",
        "      <td> NCT00002583</td>\n",
        "      <td>                       </td>\n",
        "      <td>              Medical University of South Carolina</td>\n",
        "      <td>       Charleston</td>\n",
        "      <td> South Carolina</td>\n",
        "      <td> 29425-0721</td>\n",
        "      <td> United States</td>\n",
        "      <td> 12439</td>\n",
        "    </tr>\n",
        "    <tr>\n",
        "      <th>357351</th>\n",
        "      <td> 371820</td>\n",
        "      <td> NCT00078741</td>\n",
        "      <td>                       </td>\n",
        "      <td>              Medical University of South Carolina</td>\n",
        "      <td>       Charleston</td>\n",
        "      <td> South Carolina</td>\n",
        "      <td>      29401</td>\n",
        "      <td> United States</td>\n",
        "      <td> 12439</td>\n",
        "    </tr>\n",
        "    <tr>\n",
        "      <th>357876</th>\n",
        "      <td> 378826</td>\n",
        "      <td> NCT00002568</td>\n",
        "      <td>                       </td>\n",
        "      <td>              Medical University of South Carolina</td>\n",
        "      <td>       Charleston</td>\n",
        "      <td> South Carolina</td>\n",
        "      <td> 29425-0721</td>\n",
        "      <td> United States</td>\n",
        "      <td> 12439</td>\n",
        "    </tr>\n",
        "    <tr>\n",
        "      <th>359190</th>\n",
        "      <td> 383330</td>\n",
        "      <td> NCT00089570</td>\n",
        "      <td>                       </td>\n",
        "      <td>              Medical University of South Carolina</td>\n",
        "      <td>       Charleston</td>\n",
        "      <td> South Carolina</td>\n",
        "      <td>      29425</td>\n",
        "      <td> United States</td>\n",
        "      <td> 12439</td>\n",
        "    </tr>\n",
        "    <tr>\n",
        "      <th>359540</th>\n",
        "      <td> 384130</td>\n",
        "      <td> NCT00081458</td>\n",
        "      <td>                       </td>\n",
        "      <td>              Medical University of South Carolina</td>\n",
        "      <td>       Charleston</td>\n",
        "      <td> South Carolina</td>\n",
        "      <td>      29425</td>\n",
        "      <td> United States</td>\n",
        "      <td> 12439</td>\n",
        "    </tr>\n",
        "    <tr>\n",
        "      <th>362587</th>\n",
        "      <td> 383483</td>\n",
        "      <td> NCT00086138</td>\n",
        "      <td>                       </td>\n",
        "      <td>              Medical University of South Carolina</td>\n",
        "      <td> North Charleston</td>\n",
        "      <td> South Carolina</td>\n",
        "      <td>      29406</td>\n",
        "      <td> United States</td>\n",
        "      <td> 12439</td>\n",
        "    </tr>\n",
        "    <tr>\n",
        "      <th>363115</th>\n",
        "      <td> 382894</td>\n",
        "      <td> NCT00002577</td>\n",
        "      <td>                       </td>\n",
        "      <td>              Medical University of South Carolina</td>\n",
        "      <td>       Charleston</td>\n",
        "      <td> South Carolina</td>\n",
        "      <td> 29425-0721</td>\n",
        "      <td> United States</td>\n",
        "      <td> 12439</td>\n",
        "    </tr>\n",
        "    <tr>\n",
        "      <th>363691</th>\n",
        "      <td> 370902</td>\n",
        "      <td> NCT00078611</td>\n",
        "      <td>                       </td>\n",
        "      <td> Medical University of South Carolina - Digesti...</td>\n",
        "      <td>       Charleston</td>\n",
        "      <td> South Carolina</td>\n",
        "      <td>      29425</td>\n",
        "      <td> United States</td>\n",
        "      <td> 12439</td>\n",
        "    </tr>\n",
        "    <tr>\n",
        "      <th>363928</th>\n",
        "      <td> 367941</td>\n",
        "      <td> NCT00094081</td>\n",
        "      <td>                       </td>\n",
        "      <td>              Medical University of South Carolina</td>\n",
        "      <td>       Charleston</td>\n",
        "      <td> South Carolina</td>\n",
        "      <td>      29425</td>\n",
        "      <td> United States</td>\n",
        "      <td> 12439</td>\n",
        "    </tr>\n",
        "    <tr>\n",
        "      <th>365215</th>\n",
        "      <td> 378897</td>\n",
        "      <td> NCT00002569</td>\n",
        "      <td>                       </td>\n",
        "      <td>              Medical University of South Carolina</td>\n",
        "      <td>       Charleston</td>\n",
        "      <td> South Carolina</td>\n",
        "      <td> 29425-0721</td>\n",
        "      <td> United States</td>\n",
        "      <td> 12439</td>\n",
        "    </tr>\n",
        "    <tr>\n",
        "      <th>365441</th>\n",
        "      <td> 368770</td>\n",
        "      <td> NCT02096029</td>\n",
        "      <td>     Not yet recruiting</td>\n",
        "      <td>              Medical University of South Carolina</td>\n",
        "      <td>       Charleston</td>\n",
        "      <td> South Carolina</td>\n",
        "      <td>      29425</td>\n",
        "      <td> United States</td>\n",
        "      <td> 12439</td>\n",
        "    </tr>\n",
        "    <tr>\n",
        "      <th>365647</th>\n",
        "      <td> 384020</td>\n",
        "      <td> NCT00079274</td>\n",
        "      <td>                       </td>\n",
        "      <td>              Medical University of South Carolina</td>\n",
        "      <td>       Charleston</td>\n",
        "      <td> South Carolina</td>\n",
        "      <td>      29425</td>\n",
        "      <td> United States</td>\n",
        "      <td> 12439</td>\n",
        "    </tr>\n",
        "    <tr>\n",
        "      <th>365802</th>\n",
        "      <td> 368785</td>\n",
        "      <td> NCT02096107</td>\n",
        "      <td>             Recruiting</td>\n",
        "      <td>              Medical University of South Carolina</td>\n",
        "      <td>       Charleston</td>\n",
        "      <td> South Carolina</td>\n",
        "      <td>      29425</td>\n",
        "      <td> United States</td>\n",
        "      <td> 12439</td>\n",
        "    </tr>\n",
        "    <tr>\n",
        "      <th>367999</th>\n",
        "      <td> 371201</td>\n",
        "      <td> NCT00076986</td>\n",
        "      <td>                       </td>\n",
        "      <td>              Medical University of South Carolina</td>\n",
        "      <td>       Charleston</td>\n",
        "      <td> South Carolina</td>\n",
        "      <td>      29425</td>\n",
        "      <td> United States</td>\n",
        "      <td> 12439</td>\n",
        "    </tr>\n",
        "    <tr>\n",
        "      <th>369669</th>\n",
        "      <td> 348588</td>\n",
        "      <td> NCT02034227</td>\n",
        "      <td>             Recruiting</td>\n",
        "      <td>              Medical University of South Carolina</td>\n",
        "      <td>       Charleston</td>\n",
        "      <td> South Carolina</td>\n",
        "      <td>      29425</td>\n",
        "      <td> United States</td>\n",
        "      <td> 12439</td>\n",
        "    </tr>\n",
        "    <tr>\n",
        "      <th>375578</th>\n",
        "      <td> 393290</td>\n",
        "      <td> NCT00002708</td>\n",
        "      <td>                       </td>\n",
        "      <td>              Medical University of South Carolina</td>\n",
        "      <td>       Charleston</td>\n",
        "      <td> South Carolina</td>\n",
        "      <td> 29425-0721</td>\n",
        "      <td> United States</td>\n",
        "      <td> 12439</td>\n",
        "    </tr>\n",
        "    <tr>\n",
        "      <th>375668</th>\n",
        "      <td> 397483</td>\n",
        "      <td> NCT00117403</td>\n",
        "      <td>                       </td>\n",
        "      <td>              Medical University of South Carolina</td>\n",
        "      <td> North Charleston</td>\n",
        "      <td> South Carolina</td>\n",
        "      <td>      29406</td>\n",
        "      <td> United States</td>\n",
        "      <td> 12439</td>\n",
        "    </tr>\n",
        "    <tr>\n",
        "      <th>377725</th>\n",
        "      <td> 391977</td>\n",
        "      <td> NCT00122980</td>\n",
        "      <td>                       </td>\n",
        "      <td>              Medical University of South Carolina</td>\n",
        "      <td>       Charleston</td>\n",
        "      <td> South Carolina</td>\n",
        "      <td>      29425</td>\n",
        "      <td> United States</td>\n",
        "      <td> 12439</td>\n",
        "    </tr>\n",
        "    <tr>\n",
        "      <th>378458</th>\n",
        "      <td> 392395</td>\n",
        "      <td> NCT00002717</td>\n",
        "      <td>                       </td>\n",
        "      <td>              Medical University of South Carolina</td>\n",
        "      <td>       Charleston</td>\n",
        "      <td> South Carolina</td>\n",
        "      <td> 29425-0721</td>\n",
        "      <td> United States</td>\n",
        "      <td> 12439</td>\n",
        "    </tr>\n",
        "    <tr>\n",
        "      <th>378501</th>\n",
        "      <td> 391995</td>\n",
        "      <td> NCT00123071</td>\n",
        "      <td>                       </td>\n",
        "      <td>              Medical University of South Carolina</td>\n",
        "      <td>       Charleston</td>\n",
        "      <td> South Carolina</td>\n",
        "      <td>      29425</td>\n",
        "      <td> United States</td>\n",
        "      <td> 12439</td>\n",
        "    </tr>\n",
        "    <tr>\n",
        "      <th>379771</th>\n",
        "      <td> 395080</td>\n",
        "      <td> NCT00115934</td>\n",
        "      <td>                       </td>\n",
        "      <td>              Medical University of South Carolina</td>\n",
        "      <td>       Charleston</td>\n",
        "      <td> South Carolina</td>\n",
        "      <td>      29425</td>\n",
        "      <td> United States</td>\n",
        "      <td> 12439</td>\n",
        "    </tr>\n",
        "    <tr>\n",
        "      <th>380669</th>\n",
        "      <td> 396472</td>\n",
        "      <td> NCT00002707</td>\n",
        "      <td>                       </td>\n",
        "      <td>              Medical University of South Carolina</td>\n",
        "      <td>       Charleston</td>\n",
        "      <td> South Carolina</td>\n",
        "      <td> 29425-0721</td>\n",
        "      <td> United States</td>\n",
        "      <td> 12439</td>\n",
        "    </tr>\n",
        "    <tr>\n",
        "      <th>382502</th>\n",
        "      <td> 363226</td>\n",
        "      <td> NCT00002594</td>\n",
        "      <td>                       </td>\n",
        "      <td>              Medical University of South Carolina</td>\n",
        "      <td>       Charleston</td>\n",
        "      <td> South Carolina</td>\n",
        "      <td> 29425-0721</td>\n",
        "      <td> United States</td>\n",
        "      <td> 12439</td>\n",
        "    </tr>\n",
        "    <tr>\n",
        "      <th>385302</th>\n",
        "      <td> 406108</td>\n",
        "      <td> NCT00098839</td>\n",
        "      <td>                       </td>\n",
        "      <td>              Medical University of South Carolina</td>\n",
        "      <td>       Charleston</td>\n",
        "      <td> South Carolina</td>\n",
        "      <td>      29425</td>\n",
        "      <td> United States</td>\n",
        "      <td> 12439</td>\n",
        "    </tr>\n",
        "    <tr>\n",
        "      <th>387056</th>\n",
        "      <td> 408419</td>\n",
        "      <td> NCT00108745</td>\n",
        "      <td>                       </td>\n",
        "      <td>              Medical University of South Carolina</td>\n",
        "      <td>       Charleston</td>\n",
        "      <td> South Carolina</td>\n",
        "      <td>      29425</td>\n",
        "      <td> United States</td>\n",
        "      <td> 12439</td>\n",
        "    </tr>\n",
        "    <tr>\n",
        "      <th>388331</th>\n",
        "      <td> 394770</td>\n",
        "      <td> NCT00119717</td>\n",
        "      <td>                       </td>\n",
        "      <td>              Medical University of South Carolina</td>\n",
        "      <td>       Charleston</td>\n",
        "      <td> South Carolina</td>\n",
        "      <td>      29425</td>\n",
        "      <td> United States</td>\n",
        "      <td> 12439</td>\n",
        "    </tr>\n",
        "    <tr>\n",
        "      <th>389048</th>\n",
        "      <td> 395966</td>\n",
        "      <td> NCT00114530</td>\n",
        "      <td>                       </td>\n",
        "      <td>              Medical University of South Carolina</td>\n",
        "      <td>       Charleston</td>\n",
        "      <td> South Carolina</td>\n",
        "      <td>      29425</td>\n",
        "      <td> United States</td>\n",
        "      <td> 12439</td>\n",
        "    </tr>\n",
        "    <tr>\n",
        "      <th>392670</th>\n",
        "      <td> 406428</td>\n",
        "      <td> NCT00002597</td>\n",
        "      <td>                       </td>\n",
        "      <td>              Medical University of South Carolina</td>\n",
        "      <td>       Charleston</td>\n",
        "      <td> South Carolina</td>\n",
        "      <td> 29425-0721</td>\n",
        "      <td> United States</td>\n",
        "      <td> 12439</td>\n",
        "    </tr>\n",
        "    <tr>\n",
        "      <th>393253</th>\n",
        "      <td> 377725</td>\n",
        "      <td> NCT00002575</td>\n",
        "      <td>                       </td>\n",
        "      <td>              Medical University of South Carolina</td>\n",
        "      <td>       Charleston</td>\n",
        "      <td> South Carolina</td>\n",
        "      <td> 29425-0721</td>\n",
        "      <td> United States</td>\n",
        "      <td> 12439</td>\n",
        "    </tr>\n",
        "    <tr>\n",
        "      <th>398414</th>\n",
        "      <td> 376586</td>\n",
        "      <td> NCT00090116</td>\n",
        "      <td>                       </td>\n",
        "      <td>              Medical University of South Carolina</td>\n",
        "      <td>       Charleston</td>\n",
        "      <td> South Carolina</td>\n",
        "      <td>      29406</td>\n",
        "      <td> United States</td>\n",
        "      <td> 12439</td>\n",
        "    </tr>\n",
        "    <tr>\n",
        "      <th>398477</th>\n",
        "      <td> 375460</td>\n",
        "      <td> NCT00076440</td>\n",
        "      <td>                       </td>\n",
        "      <td>              Medical University of South Carolina</td>\n",
        "      <td>       Charleston</td>\n",
        "      <td> South Carolina</td>\n",
        "      <td>      29406</td>\n",
        "      <td> United States</td>\n",
        "      <td> 12439</td>\n",
        "    </tr>\n",
        "    <tr>\n",
        "      <th>398705</th>\n",
        "      <td> 363151</td>\n",
        "      <td> NCT00092508</td>\n",
        "      <td>                       </td>\n",
        "      <td>              Medical University of South Carolina</td>\n",
        "      <td>       Charleston</td>\n",
        "      <td> South Carolina</td>\n",
        "      <td>      29425</td>\n",
        "      <td> United States</td>\n",
        "      <td> 12439</td>\n",
        "    </tr>\n",
        "    <tr>\n",
        "      <th>399214</th>\n",
        "      <td> 420940</td>\n",
        "      <td> NCT00002611</td>\n",
        "      <td>                       </td>\n",
        "      <td>              Medical University of South Carolina</td>\n",
        "      <td>       Charleston</td>\n",
        "      <td> South Carolina</td>\n",
        "      <td> 29425-0721</td>\n",
        "      <td> United States</td>\n",
        "      <td> 12439</td>\n",
        "    </tr>\n",
        "    <tr>\n",
        "      <th>403154</th>\n",
        "      <td> 421118</td>\n",
        "      <td> NCT00104520</td>\n",
        "      <td>                       </td>\n",
        "      <td>              Medical University of South Carolina</td>\n",
        "      <td>       Charleston</td>\n",
        "      <td> South Carolina</td>\n",
        "      <td>           </td>\n",
        "      <td> United States</td>\n",
        "      <td> 12439</td>\n",
        "    </tr>\n",
        "    <tr>\n",
        "      <th>403688</th>\n",
        "      <td> 420500</td>\n",
        "      <td> NCT00002618</td>\n",
        "      <td>                       </td>\n",
        "      <td>              Medical University of South Carolina</td>\n",
        "      <td>       Charleston</td>\n",
        "      <td> South Carolina</td>\n",
        "      <td> 29425-0721</td>\n",
        "      <td> United States</td>\n",
        "      <td> 12439</td>\n",
        "    </tr>\n",
        "    <tr>\n",
        "      <th>403712</th>\n",
        "      <td> 419691</td>\n",
        "      <td> NCT00002622</td>\n",
        "      <td>                       </td>\n",
        "      <td>              Medical University of South Carolina</td>\n",
        "      <td>       Charleston</td>\n",
        "      <td> South Carolina</td>\n",
        "      <td> 29425-0721</td>\n",
        "      <td> United States</td>\n",
        "      <td> 12439</td>\n",
        "    </tr>\n",
        "    <tr>\n",
        "      <th>403844</th>\n",
        "      <td> 422767</td>\n",
        "      <td> NCT00162045</td>\n",
        "      <td>                       </td>\n",
        "      <td>              Medical University of South Carolina</td>\n",
        "      <td>       Charleston</td>\n",
        "      <td> South Carolina</td>\n",
        "      <td>      29425</td>\n",
        "      <td> United States</td>\n",
        "      <td> 12439</td>\n",
        "    </tr>\n",
        "    <tr>\n",
        "      <th>405207</th>\n",
        "      <td> 387132</td>\n",
        "      <td> NCT00083421</td>\n",
        "      <td>                       </td>\n",
        "      <td> Medical University of South Carolina, Alzheime...</td>\n",
        "      <td> North Charleston</td>\n",
        "      <td> South Carolina</td>\n",
        "      <td>      29406</td>\n",
        "      <td> United States</td>\n",
        "      <td> 12439</td>\n",
        "    </tr>\n",
        "    <tr>\n",
        "      <th>405930</th>\n",
        "      <td> 388329</td>\n",
        "      <td> NCT00079482</td>\n",
        "      <td>                       </td>\n",
        "      <td>              Medical University of South Carolina</td>\n",
        "      <td>       Charleston</td>\n",
        "      <td> South Carolina</td>\n",
        "      <td>      29425</td>\n",
        "      <td> United States</td>\n",
        "      <td> 12439</td>\n",
        "    </tr>\n",
        "    <tr>\n",
        "      <th>406246</th>\n",
        "      <td> 389515</td>\n",
        "      <td> NCT00083590</td>\n",
        "      <td>                       </td>\n",
        "      <td>              Medical University of South Carolina</td>\n",
        "      <td> North Charleston</td>\n",
        "      <td> South Carolina</td>\n",
        "      <td>      29406</td>\n",
        "      <td> United States</td>\n",
        "      <td> 12439</td>\n",
        "    </tr>\n",
        "    <tr>\n",
        "      <th>406443</th>\n",
        "      <td> 385199</td>\n",
        "      <td> NCT00082784</td>\n",
        "      <td>                       </td>\n",
        "      <td>              Medical University of South Carolina</td>\n",
        "      <td>       Charleston</td>\n",
        "      <td> South Carolina</td>\n",
        "      <td>      29425</td>\n",
        "      <td> United States</td>\n",
        "      <td> 12439</td>\n",
        "    </tr>\n",
        "    <tr>\n",
        "      <th>406542</th>\n",
        "      <td> 391083</td>\n",
        "      <td> NCT00002564</td>\n",
        "      <td>                       </td>\n",
        "      <td>              Medical University of South Carolina</td>\n",
        "      <td>       Charleston</td>\n",
        "      <td> South Carolina</td>\n",
        "      <td> 29425-0721</td>\n",
        "      <td> United States</td>\n",
        "      <td> 12439</td>\n",
        "    </tr>\n",
        "    <tr>\n",
        "      <th>406595</th>\n",
        "      <td> 390294</td>\n",
        "      <td> NCT00002545</td>\n",
        "      <td>                       </td>\n",
        "      <td>              Medical University of South Carolina</td>\n",
        "      <td>       Charleston</td>\n",
        "      <td> South Carolina</td>\n",
        "      <td> 29425-0721</td>\n",
        "      <td> United States</td>\n",
        "      <td> 12439</td>\n",
        "    </tr>\n",
        "    <tr>\n",
        "      <th>407255</th>\n",
        "      <td> 386952</td>\n",
        "      <td> NCT00080340</td>\n",
        "      <td>                       </td>\n",
        "      <td>                        Medical University of S.C.</td>\n",
        "      <td>       Charleston</td>\n",
        "      <td> South Carolina</td>\n",
        "      <td>      29425</td>\n",
        "      <td> United States</td>\n",
        "      <td> 12439</td>\n",
        "    </tr>\n",
        "    <tr>\n",
        "      <th>407803</th>\n",
        "      <td> 389584</td>\n",
        "      <td> NCT00002562</td>\n",
        "      <td>                       </td>\n",
        "      <td>              Medical University of South Carolina</td>\n",
        "      <td>       Charleston</td>\n",
        "      <td> South Carolina</td>\n",
        "      <td> 29425-0721</td>\n",
        "      <td> United States</td>\n",
        "      <td> 12439</td>\n",
        "    </tr>\n",
        "    <tr>\n",
        "      <th>409397</th>\n",
        "      <td> 388075</td>\n",
        "      <td> NCT00083447</td>\n",
        "      <td>                       </td>\n",
        "      <td>              Medical University of South Carolina</td>\n",
        "      <td>       Charleston</td>\n",
        "      <td> South Carolina</td>\n",
        "      <td>      29425</td>\n",
        "      <td> United States</td>\n",
        "      <td> 12439</td>\n",
        "    </tr>\n",
        "    <tr>\n",
        "      <th>411283</th>\n",
        "      <td> 432877</td>\n",
        "      <td> NCT00128167</td>\n",
        "      <td>                       </td>\n",
        "      <td>              Medical University of South Carolina</td>\n",
        "      <td>       Charleston</td>\n",
        "      <td> South Carolina</td>\n",
        "      <td>      29425</td>\n",
        "      <td> United States</td>\n",
        "      <td> 12439</td>\n",
        "    </tr>\n",
        "    <tr>\n",
        "      <th>412249</th>\n",
        "      <td> 431154</td>\n",
        "      <td> NCT00133822</td>\n",
        "      <td>                       </td>\n",
        "      <td>              Medical University of South Carolina</td>\n",
        "      <td>       Charleston</td>\n",
        "      <td> South Carolina</td>\n",
        "      <td>           </td>\n",
        "      <td> United States</td>\n",
        "      <td> 12439</td>\n",
        "    </tr>\n",
        "    <tr>\n",
        "      <th>413017</th>\n",
        "      <td> 431590</td>\n",
        "      <td> NCT00132977</td>\n",
        "      <td>                       </td>\n",
        "      <td>         Medical University of Southern California</td>\n",
        "      <td>       Charleston</td>\n",
        "      <td> South Carolina</td>\n",
        "      <td>      29401</td>\n",
        "      <td> United States</td>\n",
        "      <td> 12439</td>\n",
        "    </tr>\n",
        "    <tr>\n",
        "      <th>414579</th>\n",
        "      <td> 436866</td>\n",
        "      <td> NCT00134030</td>\n",
        "      <td>                       </td>\n",
        "      <td>              Medical University of South Carolina</td>\n",
        "      <td>       Charleston</td>\n",
        "      <td> South Carolina</td>\n",
        "      <td>      29425</td>\n",
        "      <td> United States</td>\n",
        "      <td> 12439</td>\n",
        "    </tr>\n",
        "    <tr>\n",
        "      <th>416693</th>\n",
        "      <td> 401889</td>\n",
        "      <td> NCT00002610</td>\n",
        "      <td>                       </td>\n",
        "      <td>              Medical University of South Carolina</td>\n",
        "      <td>       Charleston</td>\n",
        "      <td> South Carolina</td>\n",
        "      <td> 29425-0721</td>\n",
        "      <td> United States</td>\n",
        "      <td> 12439</td>\n",
        "    </tr>\n",
        "    <tr>\n",
        "      <th>419140</th>\n",
        "      <td> 401737</td>\n",
        "      <td> NCT00002602</td>\n",
        "      <td>                       </td>\n",
        "      <td>              Medical University of South Carolina</td>\n",
        "      <td>       Charleston</td>\n",
        "      <td> South Carolina</td>\n",
        "      <td> 29425-0721</td>\n",
        "      <td> United States</td>\n",
        "      <td> 12439</td>\n",
        "    </tr>\n",
        "    <tr>\n",
        "      <th>422475</th>\n",
        "      <td> 398842</td>\n",
        "      <td> NCT00116428</td>\n",
        "      <td>                       </td>\n",
        "      <td>              Medical University of South Carolina</td>\n",
        "      <td>       Charleston</td>\n",
        "      <td> South Carolina</td>\n",
        "      <td>      29403</td>\n",
        "      <td> United States</td>\n",
        "      <td> 12439</td>\n",
        "    </tr>\n",
        "    <tr>\n",
        "      <th>423307</th>\n",
        "      <td> 462645</td>\n",
        "      <td> NCT00168857</td>\n",
        "      <td>                       </td>\n",
        "      <td>              Medical University of South Carolina</td>\n",
        "      <td>       Charleston</td>\n",
        "      <td> South Carolina</td>\n",
        "      <td>           </td>\n",
        "      <td> United States</td>\n",
        "      <td> 12439</td>\n",
        "    </tr>\n",
        "    <tr>\n",
        "      <th>424351</th>\n",
        "      <td> 450474</td>\n",
        "      <td> NCT00140101</td>\n",
        "      <td>                       </td>\n",
        "      <td>       Medical University of South Carolina (MUSC)</td>\n",
        "      <td>       Charleston</td>\n",
        "      <td> South Carolina</td>\n",
        "      <td>      29425</td>\n",
        "      <td> United States</td>\n",
        "      <td> 12439</td>\n",
        "    </tr>\n",
        "    <tr>\n",
        "      <th>424447</th>\n",
        "      <td> 463899</td>\n",
        "      <td> NCT00179647</td>\n",
        "      <td>                       </td>\n",
        "      <td>              Medical University of South Carolina</td>\n",
        "      <td>       Charleston</td>\n",
        "      <td> South Carolina</td>\n",
        "      <td>      29425</td>\n",
        "      <td> United States</td>\n",
        "      <td> 12439</td>\n",
        "    </tr>\n",
        "    <tr>\n",
        "      <th>424600</th>\n",
        "      <td> 447815</td>\n",
        "      <td> NCT00136825</td>\n",
        "      <td>                       </td>\n",
        "      <td>              Medical University of South Carolina</td>\n",
        "      <td>       Charleston</td>\n",
        "      <td> South Carolina</td>\n",
        "      <td>      29425</td>\n",
        "      <td> United States</td>\n",
        "      <td> 12439</td>\n",
        "    </tr>\n",
        "    <tr>\n",
        "      <th>425276</th>\n",
        "      <td> 462291</td>\n",
        "      <td> NCT00002924</td>\n",
        "      <td>                       </td>\n",
        "      <td>              Medical University of South Carolina</td>\n",
        "      <td>       Charleston</td>\n",
        "      <td> South Carolina</td>\n",
        "      <td> 29425-0721</td>\n",
        "      <td> United States</td>\n",
        "      <td> 12439</td>\n",
        "    </tr>\n",
        "    <tr>\n",
        "      <th>429535</th>\n",
        "      <td> 411164</td>\n",
        "      <td> NCT00113087</td>\n",
        "      <td>                       </td>\n",
        "      <td>              Medical University of South Carolina</td>\n",
        "      <td>       Charleston</td>\n",
        "      <td> South Carolina</td>\n",
        "      <td>      29425</td>\n",
        "      <td> United States</td>\n",
        "      <td> 12439</td>\n",
        "    </tr>\n",
        "    <tr>\n",
        "      <th>429733</th>\n",
        "      <td> 429744</td>\n",
        "      <td> NCT00002889</td>\n",
        "      <td>                       </td>\n",
        "      <td>              Medical University of South Carolina</td>\n",
        "      <td>       Charleston</td>\n",
        "      <td> South Carolina</td>\n",
        "      <td> 29425-0721</td>\n",
        "      <td> United States</td>\n",
        "      <td> 12439</td>\n",
        "    </tr>\n",
        "    <tr>\n",
        "      <th>432846</th>\n",
        "      <td> 416054</td>\n",
        "      <td> NCT00106899</td>\n",
        "      <td>                       </td>\n",
        "      <td>              Medical University of South Carolina</td>\n",
        "      <td> North Charleston</td>\n",
        "      <td> South Carolina</td>\n",
        "      <td>      29406</td>\n",
        "      <td> United States</td>\n",
        "      <td> 12439</td>\n",
        "    </tr>\n",
        "    <tr>\n",
        "      <th>433251</th>\n",
        "      <td> 414875</td>\n",
        "      <td> NCT00104273</td>\n",
        "      <td>                       </td>\n",
        "      <td> Medical University of South Carolina Alzheimer...</td>\n",
        "      <td> North Charleston</td>\n",
        "      <td> South Carolina</td>\n",
        "      <td> 29406-6076</td>\n",
        "      <td> United States</td>\n",
        "      <td> 12439</td>\n",
        "    </tr>\n",
        "    <tr>\n",
        "      <th>434096</th>\n",
        "      <td> 414125</td>\n",
        "      <td> NCT00113698</td>\n",
        "      <td>                       </td>\n",
        "      <td>              Medical University of South Carolina</td>\n",
        "      <td>       Charleston</td>\n",
        "      <td> South Carolina</td>\n",
        "      <td>      29425</td>\n",
        "      <td> United States</td>\n",
        "      <td> 12439</td>\n",
        "    </tr>\n",
        "    <tr>\n",
        "      <th>434716</th>\n",
        "      <td> 461573</td>\n",
        "      <td> NCT00002912</td>\n",
        "      <td>                       </td>\n",
        "      <td>              Medical University of South Carolina</td>\n",
        "      <td>       Charleston</td>\n",
        "      <td> South Carolina</td>\n",
        "      <td> 29425-0721</td>\n",
        "      <td> United States</td>\n",
        "      <td> 12439</td>\n",
        "    </tr>\n",
        "    <tr>\n",
        "      <th>434868</th>\n",
        "      <td> 458021</td>\n",
        "      <td> NCT00228540</td>\n",
        "      <td>                       </td>\n",
        "      <td>                          Medical University of SC</td>\n",
        "      <td>       Charleston</td>\n",
        "      <td> South Carolina</td>\n",
        "      <td>      29425</td>\n",
        "      <td> United States</td>\n",
        "      <td> 12439</td>\n",
        "    </tr>\n",
        "    <tr>\n",
        "      <th>435204</th>\n",
        "      <td> 459573</td>\n",
        "      <td> NCT00003054</td>\n",
        "      <td>                       </td>\n",
        "      <td>              Medical University of South Carolina</td>\n",
        "      <td>       Charleston</td>\n",
        "      <td> South Carolina</td>\n",
        "      <td> 29425-0721</td>\n",
        "      <td> United States</td>\n",
        "      <td> 12439</td>\n",
        "    </tr>\n",
        "    <tr>\n",
        "      <th>435502</th>\n",
        "      <td> 462446</td>\n",
        "      <td> NCT00180479</td>\n",
        "      <td>                       </td>\n",
        "      <td>              Medical University of South Carolina</td>\n",
        "      <td>       Charleston</td>\n",
        "      <td> South Carolina</td>\n",
        "      <td>      29403</td>\n",
        "      <td> United States</td>\n",
        "      <td> 12439</td>\n",
        "    </tr>\n",
        "    <tr>\n",
        "      <th>438840</th>\n",
        "      <td> 461094</td>\n",
        "      <td> NCT00003057</td>\n",
        "      <td>                       </td>\n",
        "      <td>              Medical University of South Carolina</td>\n",
        "      <td>       Charleston</td>\n",
        "      <td> South Carolina</td>\n",
        "      <td> 29425-0721</td>\n",
        "      <td> United States</td>\n",
        "      <td> 12439</td>\n",
        "    </tr>\n",
        "    <tr>\n",
        "      <th>439075</th>\n",
        "      <td> 411689</td>\n",
        "      <td> NCT00002704</td>\n",
        "      <td>                       </td>\n",
        "      <td>              Medical University of South Carolina</td>\n",
        "      <td>       Charleston</td>\n",
        "      <td> South Carolina</td>\n",
        "      <td> 29425-0721</td>\n",
        "      <td> United States</td>\n",
        "      <td> 12439</td>\n",
        "    </tr>\n",
        "    <tr>\n",
        "      <th>441405</th>\n",
        "      <td> 418800</td>\n",
        "      <td> NCT00106314</td>\n",
        "      <td>                       </td>\n",
        "      <td>          The Medical University of South Carolina</td>\n",
        "      <td>       Charleston</td>\n",
        "      <td> South Carolina</td>\n",
        "      <td>      29425</td>\n",
        "      <td> United States</td>\n",
        "      <td> 12439</td>\n",
        "    </tr>\n",
        "    <tr>\n",
        "      <th>442837</th>\n",
        "      <td> 427117</td>\n",
        "      <td> NCT00158743</td>\n",
        "      <td>                       </td>\n",
        "      <td> Medical University of South Carolina, 96 Jonat...</td>\n",
        "      <td>       Charleston</td>\n",
        "      <td> South Carolina</td>\n",
        "      <td>      29425</td>\n",
        "      <td> United States</td>\n",
        "      <td> 12439</td>\n",
        "    </tr>\n",
        "    <tr>\n",
        "      <th>447783</th>\n",
        "      <td> 489167</td>\n",
        "      <td> NCT00262847</td>\n",
        "      <td>                       </td>\n",
        "      <td>              Medical University of South Carolina</td>\n",
        "      <td>       Charleston</td>\n",
        "      <td> South Carolina</td>\n",
        "      <td>      29425</td>\n",
        "      <td> United States</td>\n",
        "      <td> 12439</td>\n",
        "    </tr>\n",
        "    <tr>\n",
        "      <th>448084</th>\n",
        "      <td> 484617</td>\n",
        "      <td> NCT00262132</td>\n",
        "      <td>                       </td>\n",
        "      <td>              Medical University of South Carolina</td>\n",
        "      <td>       Charleston</td>\n",
        "      <td> South Carolina</td>\n",
        "      <td>      29425</td>\n",
        "      <td> United States</td>\n",
        "      <td> 12439</td>\n",
        "    </tr>\n",
        "    <tr>\n",
        "      <th>448251</th>\n",
        "      <td> 484398</td>\n",
        "      <td> NCT00264810</td>\n",
        "      <td>                       </td>\n",
        "      <td>              Medical University of South Carolina</td>\n",
        "      <td>       Charleston</td>\n",
        "      <td> South Carolina</td>\n",
        "      <td>      29425</td>\n",
        "      <td> United States</td>\n",
        "      <td> 12439</td>\n",
        "    </tr>\n",
        "    <tr>\n",
        "      <th>448769</th>\n",
        "      <td> 487367</td>\n",
        "      <td> NCT00003179</td>\n",
        "      <td>                       </td>\n",
        "      <td>              Medical University of South Carolina</td>\n",
        "      <td>       Charleston</td>\n",
        "      <td> South Carolina</td>\n",
        "      <td> 29425-2233</td>\n",
        "      <td> United States</td>\n",
        "      <td> 12439</td>\n",
        "    </tr>\n",
        "    <tr>\n",
        "      <th>449017</th>\n",
        "      <td> 484095</td>\n",
        "      <td> NCT00002941</td>\n",
        "      <td>                       </td>\n",
        "      <td>              Medical University of South Carolina</td>\n",
        "      <td>       Charleston</td>\n",
        "      <td> South Carolina</td>\n",
        "      <td> 29425-0721</td>\n",
        "      <td> United States</td>\n",
        "      <td> 12439</td>\n",
        "    </tr>\n",
        "    <tr>\n",
        "      <th>449569</th>\n",
        "      <td> 486212</td>\n",
        "      <td> NCT00262821</td>\n",
        "      <td>                       </td>\n",
        "      <td>              Medical University of South Carolina</td>\n",
        "      <td>       Charleston</td>\n",
        "      <td> South Carolina</td>\n",
        "      <td>      29425</td>\n",
        "      <td> United States</td>\n",
        "      <td> 12439</td>\n",
        "    </tr>\n",
        "    <tr>\n",
        "      <th>453224</th>\n",
        "      <td> 444032</td>\n",
        "      <td> NCT00149617</td>\n",
        "      <td>                       </td>\n",
        "      <td>              Medical University of South Carolina</td>\n",
        "      <td>       Charleston</td>\n",
        "      <td> South Carolina</td>\n",
        "      <td>      29425</td>\n",
        "      <td> United States</td>\n",
        "      <td> 12439</td>\n",
        "    </tr>\n",
        "    <tr>\n",
        "      <th>454626</th>\n",
        "      <td> 456086</td>\n",
        "      <td> NCT00229125</td>\n",
        "      <td>                       </td>\n",
        "      <td> Medical University of South Carolina - Center ...</td>\n",
        "      <td>       Charleston</td>\n",
        "      <td> South Carolina</td>\n",
        "      <td>      29425</td>\n",
        "      <td> United States</td>\n",
        "      <td> 12439</td>\n",
        "    </tr>\n",
        "    <tr>\n",
        "      <th>454671</th>\n",
        "      <td> 454881</td>\n",
        "      <td> NCT00003027</td>\n",
        "      <td>                       </td>\n",
        "      <td>              Medical University of South Carolina</td>\n",
        "      <td>       Charleston</td>\n",
        "      <td> South Carolina</td>\n",
        "      <td> 29425-0721</td>\n",
        "      <td> United States</td>\n",
        "      <td> 12439</td>\n",
        "    </tr>\n",
        "    <tr>\n",
        "      <th>457778</th>\n",
        "      <td> 441571</td>\n",
        "      <td> NCT00148954</td>\n",
        "      <td>                       </td>\n",
        "      <td>              Medical University of South Carolina</td>\n",
        "      <td>       Charleston</td>\n",
        "      <td> South Carolina</td>\n",
        "      <td>      29425</td>\n",
        "      <td> United States</td>\n",
        "      <td> 12439</td>\n",
        "    </tr>\n",
        "    <tr>\n",
        "      <th>462243</th>\n",
        "      <td> 439366</td>\n",
        "      <td> NCT00002873</td>\n",
        "      <td>                       </td>\n",
        "      <td>              Medical University of South Carolina</td>\n",
        "      <td>       Charleston</td>\n",
        "      <td> South Carolina</td>\n",
        "      <td> 29425-0721</td>\n",
        "      <td> United States</td>\n",
        "      <td> 12439</td>\n",
        "    </tr>\n",
        "    <tr>\n",
        "      <th>464974</th>\n",
        "      <td> 451691</td>\n",
        "      <td> NCT00144014</td>\n",
        "      <td>                       </td>\n",
        "      <td> Medical University South Carolina Hospitals an...</td>\n",
        "      <td>       Charleston</td>\n",
        "      <td> South Carolina</td>\n",
        "      <td>      29425</td>\n",
        "      <td> United States</td>\n",
        "      <td> 12439</td>\n",
        "    </tr>\n",
        "    <tr>\n",
        "      <th>465817</th>\n",
        "      <td> 447617</td>\n",
        "      <td> NCT00002819</td>\n",
        "      <td>                       </td>\n",
        "      <td>              Medical University of South Carolina</td>\n",
        "      <td>       Charleston</td>\n",
        "      <td> South Carolina</td>\n",
        "      <td> 29425-0721</td>\n",
        "      <td> United States</td>\n",
        "      <td> 12439</td>\n",
        "    </tr>\n",
        "    <tr>\n",
        "      <th>467204</th>\n",
        "      <td> 455434</td>\n",
        "      <td> NCT00224770</td>\n",
        "      <td>                       </td>\n",
        "      <td>              Medical University of South Carolina</td>\n",
        "      <td>       Charleston</td>\n",
        "      <td> South Carolina</td>\n",
        "      <td>      29425</td>\n",
        "      <td> United States</td>\n",
        "      <td> 12439</td>\n",
        "    </tr>\n",
        "    <tr>\n",
        "      <th>467924</th>\n",
        "      <td> 456255</td>\n",
        "      <td> NCT00218387</td>\n",
        "      <td>                       </td>\n",
        "      <td>              Medical University of South Carolina</td>\n",
        "      <td>       Charleston</td>\n",
        "      <td> South Carolina</td>\n",
        "      <td>      29425</td>\n",
        "      <td> United States</td>\n",
        "      <td> 12439</td>\n",
        "    </tr>\n",
        "    <tr>\n",
        "      <th>468334</th>\n",
        "      <td> 456270</td>\n",
        "      <td> NCT00218491</td>\n",
        "      <td>                       </td>\n",
        "      <td>              Medical University of South Carolina</td>\n",
        "      <td>       Charleston</td>\n",
        "      <td> South Carolina</td>\n",
        "      <td>      29425</td>\n",
        "      <td> United States</td>\n",
        "      <td> 12439</td>\n",
        "    </tr>\n",
        "    <tr>\n",
        "      <th>468728</th>\n",
        "      <td> 455887</td>\n",
        "      <td> NCT00222898</td>\n",
        "      <td>                       </td>\n",
        "      <td>              Medical University of South Carolina</td>\n",
        "      <td>       Charleston</td>\n",
        "      <td> South Carolina</td>\n",
        "      <td>      29425</td>\n",
        "      <td> United States</td>\n",
        "      <td> 12439</td>\n",
        "    </tr>\n",
        "    <tr>\n",
        "      <th>470061</th>\n",
        "      <td> 449413</td>\n",
        "      <td> NCT00002791</td>\n",
        "      <td>                       </td>\n",
        "      <td>              Medical University of South Carolina</td>\n",
        "      <td>       Charleston</td>\n",
        "      <td> South Carolina</td>\n",
        "      <td> 29425-0721</td>\n",
        "      <td> United States</td>\n",
        "      <td> 12439</td>\n",
        "    </tr>\n",
        "    <tr>\n",
        "      <th>475418</th>\n",
        "      <td> 513078</td>\n",
        "      <td> NCT00003118</td>\n",
        "      <td>                       </td>\n",
        "      <td>              Medical University of South Carolina</td>\n",
        "      <td>       Charleston</td>\n",
        "      <td> South Carolina</td>\n",
        "      <td> 29425-0721</td>\n",
        "      <td> United States</td>\n",
        "      <td> 12439</td>\n",
        "    </tr>\n",
        "    <tr>\n",
        "      <th>476015</th>\n",
        "      <td> 514576</td>\n",
        "      <td> NCT00003117</td>\n",
        "      <td>                       </td>\n",
        "      <td>              Medical University of South Carolina</td>\n",
        "      <td>       Charleston</td>\n",
        "      <td> South Carolina</td>\n",
        "      <td> 29425-0721</td>\n",
        "      <td> United States</td>\n",
        "      <td> 12439</td>\n",
        "    </tr>\n",
        "    <tr>\n",
        "      <th>485826</th>\n",
        "      <td> 470077</td>\n",
        "      <td> NCT00002976</td>\n",
        "      <td>                       </td>\n",
        "      <td>              Medical University of South Carolina</td>\n",
        "      <td>       Charleston</td>\n",
        "      <td> South Carolina</td>\n",
        "      <td> 29425-0721</td>\n",
        "      <td> United States</td>\n",
        "      <td> 12439</td>\n",
        "    </tr>\n",
        "    <tr>\n",
        "      <th>487626</th>\n",
        "      <td> 467434</td>\n",
        "      <td> NCT00183196</td>\n",
        "      <td>                       </td>\n",
        "      <td> Medical University of South Carolina, Center f...</td>\n",
        "      <td>       Charleston</td>\n",
        "      <td> South Carolina</td>\n",
        "      <td>      29425</td>\n",
        "      <td> United States</td>\n",
        "      <td> 12439</td>\n",
        "    </tr>\n",
        "    <tr>\n",
        "      <th>487992</th>\n",
        "      <td> 468275</td>\n",
        "      <td> NCT00002925</td>\n",
        "      <td>                       </td>\n",
        "      <td>              Medical University of South Carolina</td>\n",
        "      <td>       Charleston</td>\n",
        "      <td> South Carolina</td>\n",
        "      <td> 29425-0721</td>\n",
        "      <td> United States</td>\n",
        "      <td> 12439</td>\n",
        "    </tr>\n",
        "    <tr>\n",
        "      <th>488500</th>\n",
        "      <td> 471859</td>\n",
        "      <td> NCT00212134</td>\n",
        "      <td>                       </td>\n",
        "      <td>              Medical University of South Carolina</td>\n",
        "      <td>       Charleston</td>\n",
        "      <td> South Carolina</td>\n",
        "      <td> 29425-2236</td>\n",
        "      <td> United States</td>\n",
        "      <td> 12439</td>\n",
        "    </tr>\n",
        "    <tr>\n",
        "      <th>490109</th>\n",
        "      <td> 471505</td>\n",
        "      <td> NCT00200629</td>\n",
        "      <td>                       </td>\n",
        "      <td>                          Medical University of SC</td>\n",
        "      <td>       Charleston</td>\n",
        "      <td> South Carolina</td>\n",
        "      <td>      29466</td>\n",
        "      <td> United States</td>\n",
        "      <td> 12439</td>\n",
        "    </tr>\n",
        "    <tr>\n",
        "      <th>490120</th>\n",
        "      <td> 471516</td>\n",
        "      <td> NCT00200759</td>\n",
        "      <td>                       </td>\n",
        "      <td>              Medical University of South Carolina</td>\n",
        "      <td>       Charleston</td>\n",
        "      <td> South Carolina</td>\n",
        "      <td>      29425</td>\n",
        "      <td> United States</td>\n",
        "      <td> 12439</td>\n",
        "    </tr>\n",
        "    <tr>\n",
        "      <th>490441</th>\n",
        "      <td> 473167</td>\n",
        "      <td> NCT00002993</td>\n",
        "      <td>                       </td>\n",
        "      <td>              Medical University of South Carolina</td>\n",
        "      <td>       Charleston</td>\n",
        "      <td> South Carolina</td>\n",
        "      <td> 29425-0721</td>\n",
        "      <td> United States</td>\n",
        "      <td> 12439</td>\n",
        "    </tr>\n",
        "    <tr>\n",
        "      <th>490525</th>\n",
        "      <td> 471520</td>\n",
        "      <td> NCT00200798</td>\n",
        "      <td>             Recruiting</td>\n",
        "      <td>        Medical University of South Carolina, GCRC</td>\n",
        "      <td>       Charleston</td>\n",
        "      <td> South Carolina</td>\n",
        "      <td>      29425</td>\n",
        "      <td> United States</td>\n",
        "      <td> 12439</td>\n",
        "    </tr>\n",
        "    <tr>\n",
        "      <th>492910</th>\n",
        "      <td> 471215</td>\n",
        "      <td> NCT00002994</td>\n",
        "      <td>                       </td>\n",
        "      <td>              Medical University of South Carolina</td>\n",
        "      <td>       Charleston</td>\n",
        "      <td> South Carolina</td>\n",
        "      <td> 29425-0721</td>\n",
        "      <td> United States</td>\n",
        "      <td> 12439</td>\n",
        "    </tr>\n",
        "    <tr>\n",
        "      <th>493555</th>\n",
        "      <td> 474952</td>\n",
        "      <td> NCT00215241</td>\n",
        "      <td>                       </td>\n",
        "      <td>              Medical University of South Carolina</td>\n",
        "      <td>       Charleston</td>\n",
        "      <td> South Carolina</td>\n",
        "      <td>      29425</td>\n",
        "      <td> United States</td>\n",
        "      <td> 12439</td>\n",
        "    </tr>\n",
        "    <tr>\n",
        "      <th>495407</th>\n",
        "      <td> 495369</td>\n",
        "      <td> NCT00003078</td>\n",
        "      <td>                       </td>\n",
        "      <td>              Medical University of South Carolina</td>\n",
        "      <td>       Charleston</td>\n",
        "      <td> South Carolina</td>\n",
        "      <td> 29425-0721</td>\n",
        "      <td> United States</td>\n",
        "      <td> 12439</td>\n",
        "    </tr>\n",
        "    <tr>\n",
        "      <th>496009</th>\n",
        "      <td> 494791</td>\n",
        "      <td> NCT00003070</td>\n",
        "      <td>                       </td>\n",
        "      <td>              Medical University of South Carolina</td>\n",
        "      <td>       Charleston</td>\n",
        "      <td> South Carolina</td>\n",
        "      <td> 29425-0721</td>\n",
        "      <td> United States</td>\n",
        "      <td> 12439</td>\n",
        "    </tr>\n",
        "    <tr>\n",
        "      <th>499760</th>\n",
        "      <td> 541296</td>\n",
        "      <td> NCT00282672</td>\n",
        "      <td>                       </td>\n",
        "      <td>              Medical University of South Carolina</td>\n",
        "      <td>       Charleston</td>\n",
        "      <td> South Carolina</td>\n",
        "      <td>      29425</td>\n",
        "      <td> United States</td>\n",
        "      <td> 12439</td>\n",
        "    </tr>\n",
        "    <tr>\n",
        "      <th>505913</th>\n",
        "      <td> 510268</td>\n",
        "      <td> NCT00246441</td>\n",
        "      <td>                       </td>\n",
        "      <td> Medical University of South Carolina, Institut...</td>\n",
        "      <td>       Charleston</td>\n",
        "      <td> South Carolina</td>\n",
        "      <td>      29425</td>\n",
        "      <td> United States</td>\n",
        "      <td> 12439</td>\n",
        "    </tr>\n",
        "    <tr>\n",
        "      <th>506680</th>\n",
        "      <td> 503835</td>\n",
        "      <td> NCT00259857</td>\n",
        "      <td>                       </td>\n",
        "      <td>              Medical University of South Carolina</td>\n",
        "      <td>       Charleston</td>\n",
        "      <td> South Carolina</td>\n",
        "      <td>      29425</td>\n",
        "      <td> United States</td>\n",
        "      <td> 12439</td>\n",
        "    </tr>\n",
        "    <tr>\n",
        "      <th>507722</th>\n",
        "      <td> 491709</td>\n",
        "      <td> NCT00003178</td>\n",
        "      <td>                       </td>\n",
        "      <td>              Medical University of South Carolina</td>\n",
        "      <td>       Charleston</td>\n",
        "      <td> South Carolina</td>\n",
        "      <td> 29425-0721</td>\n",
        "      <td> United States</td>\n",
        "      <td> 12439</td>\n",
        "    </tr>\n",
        "    <tr>\n",
        "      <th>509249</th>\n",
        "      <td> 492969</td>\n",
        "      <td> NCT00238420</td>\n",
        "      <td>                       </td>\n",
        "      <td>              Medical University of South Carolina</td>\n",
        "      <td>       Charleston</td>\n",
        "      <td> South Carolina</td>\n",
        "      <td>      29425</td>\n",
        "      <td> United States</td>\n",
        "      <td> 12439</td>\n",
        "    </tr>\n",
        "    <tr>\n",
        "      <th>509956</th>\n",
        "      <td> 510027</td>\n",
        "      <td> NCT00241813</td>\n",
        "      <td>                       </td>\n",
        "      <td>              Medical University of South Carolina</td>\n",
        "      <td>       Charleston</td>\n",
        "      <td> South Carolina</td>\n",
        "      <td>      29425</td>\n",
        "      <td> United States</td>\n",
        "      <td> 12439</td>\n",
        "    </tr>\n",
        "    <tr>\n",
        "      <th>510756</th>\n",
        "      <td> 510057</td>\n",
        "      <td> NCT00242437</td>\n",
        "      <td>                       </td>\n",
        "      <td> The Medical University of South Carolina Depar...</td>\n",
        "      <td>       Charleston</td>\n",
        "      <td> South Carolina</td>\n",
        "      <td> 29425-0550</td>\n",
        "      <td> United States</td>\n",
        "      <td> 12439</td>\n",
        "    </tr>\n",
        "    <tr>\n",
        "      <th>514389</th>\n",
        "      <td> 502977</td>\n",
        "      <td> NCT00003139</td>\n",
        "      <td>                       </td>\n",
        "      <td>              Medical University of South Carolina</td>\n",
        "      <td>       Charleston</td>\n",
        "      <td> South Carolina</td>\n",
        "      <td> 29425-0721</td>\n",
        "      <td> United States</td>\n",
        "      <td> 12439</td>\n",
        "    </tr>\n",
        "    <tr>\n",
        "      <th>515289</th>\n",
        "      <td> 515545</td>\n",
        "      <td> NCT00003130</td>\n",
        "      <td>                       </td>\n",
        "      <td>              Medical University of South Carolina</td>\n",
        "      <td>       Charleston</td>\n",
        "      <td> South Carolina</td>\n",
        "      <td> 29425-0721</td>\n",
        "      <td> United States</td>\n",
        "      <td> 12439</td>\n",
        "    </tr>\n",
        "    <tr>\n",
        "      <th>520581</th>\n",
        "      <td> 519259</td>\n",
        "      <td> NCT00003352</td>\n",
        "      <td>                       </td>\n",
        "      <td>              Medical University of South Carolina</td>\n",
        "      <td>       Charleston</td>\n",
        "      <td> South Carolina</td>\n",
        "      <td> 29425-0721</td>\n",
        "      <td> United States</td>\n",
        "      <td> 12439</td>\n",
        "    </tr>\n",
        "    <tr>\n",
        "      <th>523036</th>\n",
        "      <td> 519951</td>\n",
        "      <td> NCT00303459</td>\n",
        "      <td>                       </td>\n",
        "      <td>       Medical University of South Carolina (MUSC)</td>\n",
        "      <td>       Charleston</td>\n",
        "      <td> South Carolina</td>\n",
        "      <td>      29425</td>\n",
        "      <td> United States</td>\n",
        "      <td> 12439</td>\n",
        "    </tr>\n",
        "    <tr>\n",
        "      <th>523552</th>\n",
        "      <td> 523400</td>\n",
        "      <td> NCT00003376</td>\n",
        "      <td>                       </td>\n",
        "      <td>              Medical University of South Carolina</td>\n",
        "      <td>       Charleston</td>\n",
        "      <td> South Carolina</td>\n",
        "      <td> 29425-0721</td>\n",
        "      <td> United States</td>\n",
        "      <td> 12439</td>\n",
        "    </tr>\n",
        "    <tr>\n",
        "      <th>523940</th>\n",
        "      <td> 523819</td>\n",
        "      <td> NCT00302952</td>\n",
        "      <td>                       </td>\n",
        "      <td>              Medical University of South Carolina</td>\n",
        "      <td>       Charleston</td>\n",
        "      <td> South Carolina</td>\n",
        "      <td>      29425</td>\n",
        "      <td> United States</td>\n",
        "      <td> 12439</td>\n",
        "    </tr>\n",
        "    <tr>\n",
        "      <th>526205</th>\n",
        "      <td> 528573</td>\n",
        "      <td> NCT00274313</td>\n",
        "      <td>                       </td>\n",
        "      <td>              Medical University of South Carolina</td>\n",
        "      <td>       Charleston</td>\n",
        "      <td> South Carolina</td>\n",
        "      <td>      29425</td>\n",
        "      <td> United States</td>\n",
        "      <td> 12439</td>\n",
        "    </tr>\n",
        "    <tr>\n",
        "      <th>526526</th>\n",
        "      <td> 533856</td>\n",
        "      <td> NCT00292591</td>\n",
        "      <td>                       </td>\n",
        "      <td>              Medical University of South Carolina</td>\n",
        "      <td>       Charleston</td>\n",
        "      <td> South Carolina</td>\n",
        "      <td>      29425</td>\n",
        "      <td> United States</td>\n",
        "      <td> 12439</td>\n",
        "    </tr>\n",
        "    <tr>\n",
        "      <th>527583</th>\n",
        "      <td> 529661</td>\n",
        "      <td> NCT00266669</td>\n",
        "      <td>                       </td>\n",
        "      <td>              Medical University of South Carolina</td>\n",
        "      <td>       Charleston</td>\n",
        "      <td> South Carolina</td>\n",
        "      <td>      29425</td>\n",
        "      <td> United States</td>\n",
        "      <td> 12439</td>\n",
        "    </tr>\n",
        "    <tr>\n",
        "      <th>528228</th>\n",
        "      <td> 527102</td>\n",
        "      <td> NCT00273338</td>\n",
        "      <td>                       </td>\n",
        "      <td>              Medical University Of South Carolina</td>\n",
        "      <td>       Charleston</td>\n",
        "      <td> South Carolina</td>\n",
        "      <td>      29425</td>\n",
        "      <td> United States</td>\n",
        "      <td> 12439</td>\n",
        "    </tr>\n",
        "    <tr>\n",
        "      <th>528430</th>\n",
        "      <td> 524432</td>\n",
        "      <td> NCT00003216</td>\n",
        "      <td>                       </td>\n",
        "      <td>              Medical University of South Carolina</td>\n",
        "      <td>       Charleston</td>\n",
        "      <td> South Carolina</td>\n",
        "      <td> 29425-0721</td>\n",
        "      <td> United States</td>\n",
        "      <td> 12439</td>\n",
        "    </tr>\n",
        "    <tr>\n",
        "      <th>531113</th>\n",
        "      <td> 526568</td>\n",
        "      <td> NCT00272181</td>\n",
        "      <td>                       </td>\n",
        "      <td>              Medical University of South Carolina</td>\n",
        "      <td>       Charleston</td>\n",
        "      <td> South Carolina</td>\n",
        "      <td>      29425</td>\n",
        "      <td> United States</td>\n",
        "      <td> 12439</td>\n",
        "    </tr>\n",
        "    <tr>\n",
        "      <th>531204</th>\n",
        "      <td> 535281</td>\n",
        "      <td> NCT00003313</td>\n",
        "      <td>                       </td>\n",
        "      <td>              Medical University of South Carolina</td>\n",
        "      <td>       Charleston</td>\n",
        "      <td> South Carolina</td>\n",
        "      <td> 29425-0721</td>\n",
        "      <td> United States</td>\n",
        "      <td> 12439</td>\n",
        "    </tr>\n",
        "    <tr>\n",
        "      <th>531354</th>\n",
        "      <td> 530820</td>\n",
        "      <td> NCT00003234</td>\n",
        "      <td>                       </td>\n",
        "      <td>              Medical University of South Carolina</td>\n",
        "      <td>       Charleston</td>\n",
        "      <td> South Carolina</td>\n",
        "      <td> 29425-0721</td>\n",
        "      <td> United States</td>\n",
        "      <td> 12439</td>\n",
        "    </tr>\n",
        "    <tr>\n",
        "      <th>531425</th>\n",
        "      <td> 522239</td>\n",
        "      <td> NCT00300274</td>\n",
        "      <td>                       </td>\n",
        "      <td>              Medical University of South Carolina</td>\n",
        "      <td>       Charleston</td>\n",
        "      <td> South Carolina</td>\n",
        "      <td>           </td>\n",
        "      <td> United States</td>\n",
        "      <td> 12439</td>\n",
        "    </tr>\n",
        "    <tr>\n",
        "      <th>531918</th>\n",
        "      <td> 536901</td>\n",
        "      <td> NCT00003322</td>\n",
        "      <td>                       </td>\n",
        "      <td>              Medical University of South Carolina</td>\n",
        "      <td>       Charleston</td>\n",
        "      <td> South Carolina</td>\n",
        "      <td> 29425-0721</td>\n",
        "      <td> United States</td>\n",
        "      <td> 12439</td>\n",
        "    </tr>\n",
        "    <tr>\n",
        "      <th>533867</th>\n",
        "      <td> 536988</td>\n",
        "      <td> NCT00285506</td>\n",
        "      <td>                       </td>\n",
        "      <td>              Medical University of South Carolina</td>\n",
        "      <td>       Charleston</td>\n",
        "      <td> South Carolina</td>\n",
        "      <td>      29425</td>\n",
        "      <td> United States</td>\n",
        "      <td> 12439</td>\n",
        "    </tr>\n",
        "    <tr>\n",
        "      <th>534505</th>\n",
        "      <td> 533934</td>\n",
        "      <td> NCT00294541</td>\n",
        "      <td>                       </td>\n",
        "      <td>              Medical University of South Carolina</td>\n",
        "      <td>       Charleston</td>\n",
        "      <td> South Carolina</td>\n",
        "      <td>      29425</td>\n",
        "      <td> United States</td>\n",
        "      <td> 12439</td>\n",
        "    </tr>\n",
        "    <tr>\n",
        "      <th>534817</th>\n",
        "      <td> 519352</td>\n",
        "      <td> NCT00301366</td>\n",
        "      <td>                       </td>\n",
        "      <td>              Medical University of South Carolina</td>\n",
        "      <td>       Charleston</td>\n",
        "      <td> South Carolina</td>\n",
        "      <td>      29425</td>\n",
        "      <td> United States</td>\n",
        "      <td> 12439</td>\n",
        "    </tr>\n",
        "    <tr>\n",
        "      <th>535217</th>\n",
        "      <td> 535576</td>\n",
        "      <td> NCT00003312</td>\n",
        "      <td>                       </td>\n",
        "      <td>              Medical University of South Carolina</td>\n",
        "      <td>       Charleston</td>\n",
        "      <td> South Carolina</td>\n",
        "      <td> 29425-0721</td>\n",
        "      <td> United States</td>\n",
        "      <td> 12439</td>\n",
        "    </tr>\n",
        "    <tr>\n",
        "      <th>535285</th>\n",
        "      <td> 533967</td>\n",
        "      <td> NCT00295061</td>\n",
        "      <td>                       </td>\n",
        "      <td>              Medical University of South Carolina</td>\n",
        "      <td>       Charleston</td>\n",
        "      <td> South Carolina</td>\n",
        "      <td>      29425</td>\n",
        "      <td> United States</td>\n",
        "      <td> 12439</td>\n",
        "    </tr>\n",
        "    <tr>\n",
        "      <th>538592</th>\n",
        "      <td> 529750</td>\n",
        "      <td> NCT00003217</td>\n",
        "      <td>                       </td>\n",
        "      <td>              Medical University of South Carolina</td>\n",
        "      <td>       Charleston</td>\n",
        "      <td> South Carolina</td>\n",
        "      <td> 29425-0721</td>\n",
        "      <td> United States</td>\n",
        "      <td> 12439</td>\n",
        "    </tr>\n",
        "    <tr>\n",
        "      <th>539078</th>\n",
        "      <td> 541814</td>\n",
        "      <td> NCT00282711</td>\n",
        "      <td>                       </td>\n",
        "      <td>                   Medical University of SC (MUSC)</td>\n",
        "      <td>       Charleston</td>\n",
        "      <td> South Carolina</td>\n",
        "      <td>      29466</td>\n",
        "      <td> United States</td>\n",
        "      <td> 12439</td>\n",
        "    </tr>\n",
        "    <tr>\n",
        "      <th>542279</th>\n",
        "      <td> 528089</td>\n",
        "      <td> NCT00003248</td>\n",
        "      <td>                       </td>\n",
        "      <td>              Medical University of South Carolina</td>\n",
        "      <td>       Charleston</td>\n",
        "      <td> South Carolina</td>\n",
        "      <td> 29425-0721</td>\n",
        "      <td> United States</td>\n",
        "      <td> 12439</td>\n",
        "    </tr>\n",
        "    <tr>\n",
        "      <th>543554</th>\n",
        "      <td> 560045</td>\n",
        "      <td> NCT00003378</td>\n",
        "      <td>                       </td>\n",
        "      <td>              Medical University of South Carolina</td>\n",
        "      <td>       Charleston</td>\n",
        "      <td> South Carolina</td>\n",
        "      <td> 29425-0721</td>\n",
        "      <td> United States</td>\n",
        "      <td> 12439</td>\n",
        "    </tr>\n",
        "    <tr>\n",
        "      <th>545010</th>\n",
        "      <td> 563274</td>\n",
        "      <td> NCT00325442</td>\n",
        "      <td>                       </td>\n",
        "      <td>              Medical University of South Carolina</td>\n",
        "      <td>       Charleston</td>\n",
        "      <td> South Carolina</td>\n",
        "      <td>      29425</td>\n",
        "      <td> United States</td>\n",
        "      <td> 12439</td>\n",
        "    </tr>\n",
        "    <tr>\n",
        "      <th>545851</th>\n",
        "      <td> 547372</td>\n",
        "      <td> NCT00330187</td>\n",
        "      <td>             Recruiting</td>\n",
        "      <td>              Medical University of South Carolina</td>\n",
        "      <td>       Charleston</td>\n",
        "      <td> South Carolina</td>\n",
        "      <td>      29425</td>\n",
        "      <td> United States</td>\n",
        "      <td> 12439</td>\n",
        "    </tr>\n",
        "    <tr>\n",
        "      <th>546078</th>\n",
        "      <td> 548848</td>\n",
        "      <td> NCT00329706</td>\n",
        "      <td>             Recruiting</td>\n",
        "      <td>              Medical University of South Carolina</td>\n",
        "      <td>       Charleston</td>\n",
        "      <td> South Carolina</td>\n",
        "      <td>      29425</td>\n",
        "      <td> United States</td>\n",
        "      <td> 12439</td>\n",
        "    </tr>\n",
        "    <tr>\n",
        "      <th>546103</th>\n",
        "      <td> 559576</td>\n",
        "      <td> NCT00303979</td>\n",
        "      <td>                       </td>\n",
        "      <td>                       Medical University of South</td>\n",
        "      <td>       Charleston</td>\n",
        "      <td> South Carolina</td>\n",
        "      <td>      29406</td>\n",
        "      <td> United States</td>\n",
        "      <td> 12439</td>\n",
        "    </tr>\n",
        "    <tr>\n",
        "      <th>546252</th>\n",
        "      <td> 547377</td>\n",
        "      <td> NCT00330239</td>\n",
        "      <td>                       </td>\n",
        "      <td>              Medical University of South Carolina</td>\n",
        "      <td>       Charleston</td>\n",
        "      <td> South Carolina</td>\n",
        "      <td>      29464</td>\n",
        "      <td> United States</td>\n",
        "      <td> 12439</td>\n",
        "    </tr>\n",
        "    <tr>\n",
        "      <th>546885</th>\n",
        "      <td> 558769</td>\n",
        "      <td> NCT00003386</td>\n",
        "      <td>                       </td>\n",
        "      <td>              Medical University of South Carolina</td>\n",
        "      <td>       Charleston</td>\n",
        "      <td> South Carolina</td>\n",
        "      <td> 29425-0721</td>\n",
        "      <td> United States</td>\n",
        "      <td> 12439</td>\n",
        "    </tr>\n",
        "    <tr>\n",
        "      <th>546886</th>\n",
        "      <td> 558770</td>\n",
        "      <td> NCT00307047</td>\n",
        "      <td>                       </td>\n",
        "      <td>       Medical University of South Carolina (MUSC)</td>\n",
        "      <td>       Charleston</td>\n",
        "      <td> South Carolina</td>\n",
        "      <td>      29425</td>\n",
        "      <td> United States</td>\n",
        "      <td> 12439</td>\n",
        "    </tr>\n",
        "    <tr>\n",
        "      <th>547981</th>\n",
        "      <td> 561606</td>\n",
        "      <td> NCT00003381</td>\n",
        "      <td>                       </td>\n",
        "      <td>              Medical University of South Carolina</td>\n",
        "      <td>       Charleston</td>\n",
        "      <td> South Carolina</td>\n",
        "      <td> 29425-0721</td>\n",
        "      <td> United States</td>\n",
        "      <td> 12439</td>\n",
        "    </tr>\n",
        "    <tr>\n",
        "      <th>548182</th>\n",
        "      <td> 547874</td>\n",
        "      <td> NCT00330278</td>\n",
        "      <td>                       </td>\n",
        "      <td>              Medical University of South Carolina</td>\n",
        "      <td>       Charleston</td>\n",
        "      <td> South Carolina</td>\n",
        "      <td>      29425</td>\n",
        "      <td> United States</td>\n",
        "      <td> 12439</td>\n",
        "    </tr>\n",
        "    <tr>\n",
        "      <th>548191</th>\n",
        "      <td> 548280</td>\n",
        "      <td> NCT00329030</td>\n",
        "      <td>                       </td>\n",
        "      <td>              Medical University of South Carolina</td>\n",
        "      <td>       Charleston</td>\n",
        "      <td> South Carolina</td>\n",
        "      <td>      29425</td>\n",
        "      <td> United States</td>\n",
        "      <td> 12439</td>\n",
        "    </tr>\n",
        "    <tr>\n",
        "      <th>548451</th>\n",
        "      <td> 558430</td>\n",
        "      <td> NCT00309907</td>\n",
        "      <td>                       </td>\n",
        "      <td>              Medical University of South Carolina</td>\n",
        "      <td>       Charleston</td>\n",
        "      <td> South Carolina</td>\n",
        "      <td>      29425</td>\n",
        "      <td> United States</td>\n",
        "      <td> 12439</td>\n",
        "    </tr>\n",
        "    <tr>\n",
        "      <th>548749</th>\n",
        "      <td> 561638</td>\n",
        "      <td> NCT00306722</td>\n",
        "      <td>                       </td>\n",
        "      <td>              Medical University of South Carolina</td>\n",
        "      <td>       Charleston</td>\n",
        "      <td> South Carolina</td>\n",
        "      <td>      29425</td>\n",
        "      <td> United States</td>\n",
        "      <td> 12439</td>\n",
        "    </tr>\n",
        "    <tr>\n",
        "      <th>549529</th>\n",
        "      <td> 552418</td>\n",
        "      <td> NCT00003591</td>\n",
        "      <td>                       </td>\n",
        "      <td>              Medical University of South Carolina</td>\n",
        "      <td>       Charleston</td>\n",
        "      <td> South Carolina</td>\n",
        "      <td> 29425-0721</td>\n",
        "      <td> United States</td>\n",
        "      <td> 12439</td>\n",
        "    </tr>\n",
        "    <tr>\n",
        "      <th>552401</th>\n",
        "      <td> 551140</td>\n",
        "      <td> NCT00003573</td>\n",
        "      <td>                       </td>\n",
        "      <td>              Medical University of South Carolina</td>\n",
        "      <td>       Charleston</td>\n",
        "      <td> South Carolina</td>\n",
        "      <td> 29425-0721</td>\n",
        "      <td> United States</td>\n",
        "      <td> 12439</td>\n",
        "    </tr>\n",
        "    <tr>\n",
        "      <th>553608</th>\n",
        "      <td> 556119</td>\n",
        "      <td> NCT00310180</td>\n",
        "      <td>                       </td>\n",
        "      <td>              Medical University of South Carolina</td>\n",
        "      <td>       Charleston</td>\n",
        "      <td> South Carolina</td>\n",
        "      <td>      29425</td>\n",
        "      <td> United States</td>\n",
        "      <td> 12439</td>\n",
        "    </tr>\n",
        "    <tr>\n",
        "      <th>556854</th>\n",
        "      <td> 559282</td>\n",
        "      <td> NCT00003387</td>\n",
        "      <td>                       </td>\n",
        "      <td>              Medical University of South Carolina</td>\n",
        "      <td>       Charleston</td>\n",
        "      <td> South Carolina</td>\n",
        "      <td> 29425-0721</td>\n",
        "      <td> United States</td>\n",
        "      <td> 12439</td>\n",
        "    </tr>\n",
        "    <tr>\n",
        "      <th>558210</th>\n",
        "      <td> 561553</td>\n",
        "      <td> NCT00003380</td>\n",
        "      <td>                       </td>\n",
        "      <td>              Medical University of South Carolina</td>\n",
        "      <td>       Charleston</td>\n",
        "      <td> South Carolina</td>\n",
        "      <td> 29425-0721</td>\n",
        "      <td> United States</td>\n",
        "      <td> 12439</td>\n",
        "    </tr>\n",
        "    <tr>\n",
        "      <th>559059</th>\n",
        "      <td> 556365</td>\n",
        "      <td> NCT00306852</td>\n",
        "      <td>                       </td>\n",
        "      <td>              Medical University of South Carolina</td>\n",
        "      <td>       Charleston</td>\n",
        "      <td> South Carolina</td>\n",
        "      <td>      29425</td>\n",
        "      <td> United States</td>\n",
        "      <td> 12439</td>\n",
        "    </tr>\n",
        "    <tr>\n",
        "      <th>561816</th>\n",
        "      <td> 565073</td>\n",
        "      <td> NCT00003546</td>\n",
        "      <td>                       </td>\n",
        "      <td>              Medical University of South Carolina</td>\n",
        "      <td>       Charleston</td>\n",
        "      <td> South Carolina</td>\n",
        "      <td> 29425-0721</td>\n",
        "      <td> United States</td>\n",
        "      <td> 12439</td>\n",
        "    </tr>\n",
        "    <tr>\n",
        "      <th>562323</th>\n",
        "      <td> 518858</td>\n",
        "      <td> NCT00003368</td>\n",
        "      <td>                       </td>\n",
        "      <td>              Medical University of South Carolina</td>\n",
        "      <td>       Charleston</td>\n",
        "      <td> South Carolina</td>\n",
        "      <td> 29425-0721</td>\n",
        "      <td> United States</td>\n",
        "      <td> 12439</td>\n",
        "    </tr>\n",
        "    <tr>\n",
        "      <th>562358</th>\n",
        "      <td> 518465</td>\n",
        "      <td> NCT00003370</td>\n",
        "      <td>                       </td>\n",
        "      <td>              Medical University of South Carolina</td>\n",
        "      <td>       Charleston</td>\n",
        "      <td> South Carolina</td>\n",
        "      <td> 29425-0721</td>\n",
        "      <td> United States</td>\n",
        "      <td> 12439</td>\n",
        "    </tr>\n",
        "    <tr>\n",
        "      <th>563482</th>\n",
        "      <td> 564516</td>\n",
        "      <td> NCT00323518</td>\n",
        "      <td>                       </td>\n",
        "      <td> Medical University of South Carolina Hollings ...</td>\n",
        "      <td>       Charleston</td>\n",
        "      <td> South Carolina</td>\n",
        "      <td>      29425</td>\n",
        "      <td> United States</td>\n",
        "      <td> 12439</td>\n",
        "    </tr>\n",
        "    <tr>\n",
        "      <th>563594</th>\n",
        "      <td> 568583</td>\n",
        "      <td> NCT00321399</td>\n",
        "      <td>                       </td>\n",
        "      <td>              Medical University of South Carolina</td>\n",
        "      <td>       Charleston</td>\n",
        "      <td> South Carolina</td>\n",
        "      <td>      29425</td>\n",
        "      <td> United States</td>\n",
        "      <td> 12439</td>\n",
        "    </tr>\n",
        "    <tr>\n",
        "      <th>564243</th>\n",
        "      <td> 564178</td>\n",
        "      <td> NCT00324805</td>\n",
        "      <td>              Completed</td>\n",
        "      <td>              Medical University of South Carolina</td>\n",
        "      <td>       Charleston</td>\n",
        "      <td> South Carolina</td>\n",
        "      <td>      29425</td>\n",
        "      <td> United States</td>\n",
        "      <td> 12439</td>\n",
        "    </tr>\n",
        "    <tr>\n",
        "      <th>564869</th>\n",
        "      <td> 521389</td>\n",
        "      <td> NCT00302341</td>\n",
        "      <td>                       </td>\n",
        "      <td>                          Medical University of SC</td>\n",
        "      <td>       Charleston</td>\n",
        "      <td> South Carolina</td>\n",
        "      <td>      29425</td>\n",
        "      <td> United States</td>\n",
        "      <td> 12439</td>\n",
        "    </tr>\n",
        "    <tr>\n",
        "      <th>566343</th>\n",
        "      <td> 523035</td>\n",
        "      <td> NCT00003344</td>\n",
        "      <td>                       </td>\n",
        "      <td>              Medical University of South Carolina</td>\n",
        "      <td>       Charleston</td>\n",
        "      <td> South Carolina</td>\n",
        "      <td> 29425-0721</td>\n",
        "      <td> United States</td>\n",
        "      <td> 12439</td>\n",
        "    </tr>\n",
        "    <tr>\n",
        "      <th>566400</th>\n",
        "      <td> 567315</td>\n",
        "      <td> NCT00003523</td>\n",
        "      <td>                       </td>\n",
        "      <td>              Medical University of South Carolina</td>\n",
        "      <td>       Charleston</td>\n",
        "      <td> South Carolina</td>\n",
        "      <td> 29425-0721</td>\n",
        "      <td> United States</td>\n",
        "      <td> 12439</td>\n",
        "    </tr>\n",
        "    <tr>\n",
        "      <th>566599</th>\n",
        "      <td> 569082</td>\n",
        "      <td> NCT00003519</td>\n",
        "      <td>                       </td>\n",
        "      <td>              Medical University of South Carolina</td>\n",
        "      <td>       Charleston</td>\n",
        "      <td> South Carolina</td>\n",
        "      <td> 29425-0721</td>\n",
        "      <td> United States</td>\n",
        "      <td> 12439</td>\n",
        "    </tr>\n",
        "    <tr>\n",
        "      <th>567487</th>\n",
        "      <td> 583502</td>\n",
        "      <td> NCT00370214</td>\n",
        "      <td>                       </td>\n",
        "      <td>              Medical University of South Carolina</td>\n",
        "      <td>       Charleston</td>\n",
        "      <td> South Carolina</td>\n",
        "      <td>      29425</td>\n",
        "      <td> United States</td>\n",
        "      <td> 12439</td>\n",
        "    </tr>\n",
        "    <tr>\n",
        "      <th>567721</th>\n",
        "      <td> 583308</td>\n",
        "      <td> NCT00366145</td>\n",
        "      <td>                       </td>\n",
        "      <td>              Medical University of South Carolina</td>\n",
        "      <td>       Charleston</td>\n",
        "      <td> South Carolina</td>\n",
        "      <td>      29425</td>\n",
        "      <td> United States</td>\n",
        "      <td> 12439</td>\n",
        "    </tr>\n",
        "    <tr>\n",
        "      <th>573739</th>\n",
        "      <td> 582643</td>\n",
        "      <td> NCT00003666</td>\n",
        "      <td>                       </td>\n",
        "      <td>              Medical University of South Carolina</td>\n",
        "      <td>       Charleston</td>\n",
        "      <td> South Carolina</td>\n",
        "      <td> 29425-0721</td>\n",
        "      <td> United States</td>\n",
        "      <td> 12439</td>\n",
        "    </tr>\n",
        "    <tr>\n",
        "      <th>579146</th>\n",
        "      <td> 578230</td>\n",
        "      <td> NCT00003661</td>\n",
        "      <td>                       </td>\n",
        "      <td>              Medical University of South Carolina</td>\n",
        "      <td>       Charleston</td>\n",
        "      <td> South Carolina</td>\n",
        "      <td> 29425-0721</td>\n",
        "      <td> United States</td>\n",
        "      <td> 12439</td>\n",
        "    </tr>\n",
        "    <tr>\n",
        "      <th>580673</th>\n",
        "      <td> 579129</td>\n",
        "      <td> NCT00369759</td>\n",
        "      <td>                       </td>\n",
        "      <td>                          Medical University of SC</td>\n",
        "      <td>       Charleston</td>\n",
        "      <td> South Carolina</td>\n",
        "      <td>      29425</td>\n",
        "      <td> United States</td>\n",
        "      <td> 12439</td>\n",
        "    </tr>\n",
        "    <tr>\n",
        "      <th>580766</th>\n",
        "      <td> 576716</td>\n",
        "      <td> NCT00317642</td>\n",
        "      <td>                       </td>\n",
        "      <td>              Medical University of South Carolina</td>\n",
        "      <td>       Charleston</td>\n",
        "      <td> South Carolina</td>\n",
        "      <td>           </td>\n",
        "      <td> United States</td>\n",
        "      <td> 12439</td>\n",
        "    </tr>\n",
        "    <tr>\n",
        "      <th>582121</th>\n",
        "      <td> 581143</td>\n",
        "      <td> NCT00003662</td>\n",
        "      <td>                       </td>\n",
        "      <td>              Medical University of South Carolina</td>\n",
        "      <td>       Charleston</td>\n",
        "      <td> South Carolina</td>\n",
        "      <td> 29425-0721</td>\n",
        "      <td> United States</td>\n",
        "      <td> 12439</td>\n",
        "    </tr>\n",
        "    <tr>\n",
        "      <th>583981</th>\n",
        "      <td> 577789</td>\n",
        "      <td> NCT00320372</td>\n",
        "      <td>                       </td>\n",
        "      <td>              Medical University of South Carolina</td>\n",
        "      <td>       Charleston</td>\n",
        "      <td> South Carolina</td>\n",
        "      <td>      29403</td>\n",
        "      <td> United States</td>\n",
        "      <td> 12439</td>\n",
        "    </tr>\n",
        "    <tr>\n",
        "      <th>584748</th>\n",
        "      <td> 578651</td>\n",
        "      <td> NCT00370526</td>\n",
        "      <td>                       </td>\n",
        "      <td>              Medical University of South Carolina</td>\n",
        "      <td>       Charleston</td>\n",
        "      <td> South Carolina</td>\n",
        "      <td>      29425</td>\n",
        "      <td> United States</td>\n",
        "      <td> 12439</td>\n",
        "    </tr>\n",
        "    <tr>\n",
        "      <th>588674</th>\n",
        "      <td> 596126</td>\n",
        "      <td> NCT00000173</td>\n",
        "      <td>                       </td>\n",
        "      <td>              Medical University of South Carolina</td>\n",
        "      <td> North Charleston</td>\n",
        "      <td> South Carolina</td>\n",
        "      <td>      29406</td>\n",
        "      <td> United States</td>\n",
        "      <td> 12439</td>\n",
        "    </tr>\n",
        "    <tr>\n",
        "      <th>589060</th>\n",
        "      <td> 589970</td>\n",
        "      <td> NCT00336024</td>\n",
        "      <td>             Recruiting</td>\n",
        "      <td>              Medical University of South Carolina</td>\n",
        "      <td>       Charleston</td>\n",
        "      <td> South Carolina</td>\n",
        "      <td>      29425</td>\n",
        "      <td> United States</td>\n",
        "      <td> 12439</td>\n",
        "    </tr>\n",
        "    <tr>\n",
        "      <th>589114</th>\n",
        "      <td> 594520</td>\n",
        "      <td> NCT00359424</td>\n",
        "      <td>                       </td>\n",
        "      <td>              Medical University of South Carolina</td>\n",
        "      <td>       Charleston</td>\n",
        "      <td> South Carolina</td>\n",
        "      <td>      29425</td>\n",
        "      <td> United States</td>\n",
        "      <td> 12439</td>\n",
        "    </tr>\n",
        "    <tr>\n",
        "      <th>589961</th>\n",
        "      <td> 593814</td>\n",
        "      <td> NCT00363116</td>\n",
        "      <td>                       </td>\n",
        "      <td>              Medical University of South Carolina</td>\n",
        "      <td>       Charleston</td>\n",
        "      <td> South Carolina</td>\n",
        "      <td>      29425</td>\n",
        "      <td> United States</td>\n",
        "      <td> 12439</td>\n",
        "    </tr>\n",
        "    <tr>\n",
        "      <th>590417</th>\n",
        "      <td> 548950</td>\n",
        "      <td> NCT00331188</td>\n",
        "      <td>                       </td>\n",
        "      <td>              Medical University of South Carolina</td>\n",
        "      <td>       Charleston</td>\n",
        "      <td> South Carolina</td>\n",
        "      <td>      29425</td>\n",
        "      <td> United States</td>\n",
        "      <td> 12439</td>\n",
        "    </tr>\n",
        "    <tr>\n",
        "      <th>590509</th>\n",
        "      <td> 548170</td>\n",
        "      <td> NCT00326898</td>\n",
        "      <td>                       </td>\n",
        "      <td>              Medical University of South Carolina</td>\n",
        "      <td>       Charleston</td>\n",
        "      <td> South Carolina</td>\n",
        "      <td>      29425</td>\n",
        "      <td> United States</td>\n",
        "      <td> 12439</td>\n",
        "    </tr>\n",
        "    <tr>\n",
        "      <th>591670</th>\n",
        "      <td> 613292</td>\n",
        "      <td> NCT00408005</td>\n",
        "      <td>             Recruiting</td>\n",
        "      <td>              Medical University of South Carolina</td>\n",
        "      <td>       Charleston</td>\n",
        "      <td> South Carolina</td>\n",
        "      <td>      29425</td>\n",
        "      <td> United States</td>\n",
        "      <td> 12439</td>\n",
        "    </tr>\n",
        "    <tr>\n",
        "      <th>593339</th>\n",
        "      <td> 610921</td>\n",
        "      <td> NCT00400400</td>\n",
        "      <td>                       </td>\n",
        "      <td>              Medical University of South Carolina</td>\n",
        "      <td>       Charleston</td>\n",
        "      <td> South Carolina</td>\n",
        "      <td>      29425</td>\n",
        "      <td> United States</td>\n",
        "      <td> 12439</td>\n",
        "    </tr>\n",
        "    <tr>\n",
        "      <th>593412</th>\n",
        "      <td> 607230</td>\n",
        "      <td> NCT00352534</td>\n",
        "      <td>                       </td>\n",
        "      <td>              Medical University of South Carolina</td>\n",
        "      <td>       Charleston</td>\n",
        "      <td> South Carolina</td>\n",
        "      <td>      29425</td>\n",
        "      <td> United States</td>\n",
        "      <td> 12439</td>\n",
        "    </tr>\n",
        "    <tr>\n",
        "      <th>593925</th>\n",
        "      <td> 615773</td>\n",
        "      <td> NCT00003812</td>\n",
        "      <td>                       </td>\n",
        "      <td>              Medical University of South Carolina</td>\n",
        "      <td>       Charleston</td>\n",
        "      <td> South Carolina</td>\n",
        "      <td> 29425-0721</td>\n",
        "      <td> United States</td>\n",
        "      <td> 12439</td>\n",
        "    </tr>\n",
        "    <tr>\n",
        "      <th>597373</th>\n",
        "      <td> 617490</td>\n",
        "      <td> NCT00003700</td>\n",
        "      <td>                       </td>\n",
        "      <td>              Medical University of South Carolina</td>\n",
        "      <td>       Charleston</td>\n",
        "      <td> South Carolina</td>\n",
        "      <td> 29425-0721</td>\n",
        "      <td> United States</td>\n",
        "      <td> 12439</td>\n",
        "    </tr>\n",
        "    <tr>\n",
        "      <th>599961</th>\n",
        "      <td> 620291</td>\n",
        "      <td> NCT00377949</td>\n",
        "      <td>             Recruiting</td>\n",
        "      <td>              Medical University of South Carolina</td>\n",
        "      <td>       Charleston</td>\n",
        "      <td> South Carolina</td>\n",
        "      <td>      29425</td>\n",
        "      <td> United States</td>\n",
        "      <td> 12439</td>\n",
        "    </tr>\n",
        "    <tr>\n",
        "      <th>602289</th>\n",
        "      <td> 620775</td>\n",
        "      <td> NCT00003692</td>\n",
        "      <td>                       </td>\n",
        "      <td>              Medical University of South Carolina</td>\n",
        "      <td>       Charleston</td>\n",
        "      <td> South Carolina</td>\n",
        "      <td> 29425-0721</td>\n",
        "      <td> United States</td>\n",
        "      <td> 12439</td>\n",
        "    </tr>\n",
        "    <tr>\n",
        "      <th>604195</th>\n",
        "      <td> 607595</td>\n",
        "      <td> NCT00349622</td>\n",
        "      <td>                       </td>\n",
        "      <td>              Medical University of South Carolina</td>\n",
        "      <td>       Charleston</td>\n",
        "      <td> South Carolina</td>\n",
        "      <td>      29403</td>\n",
        "      <td> United States</td>\n",
        "      <td> 12439</td>\n",
        "    </tr>\n",
        "    <tr>\n",
        "      <th>606078</th>\n",
        "      <td> 609296</td>\n",
        "      <td> NCT00003811</td>\n",
        "      <td>                       </td>\n",
        "      <td>              Medical University of South Carolina</td>\n",
        "      <td>       Charleston</td>\n",
        "      <td> South Carolina</td>\n",
        "      <td> 29425-0721</td>\n",
        "      <td> United States</td>\n",
        "      <td> 12439</td>\n",
        "    </tr>\n",
        "    <tr>\n",
        "      <th>606674</th>\n",
        "      <td> 607849</td>\n",
        "      <td> NCT00354835</td>\n",
        "      <td>                       </td>\n",
        "      <td>              Medical University of South Carolina</td>\n",
        "      <td>       Charleston</td>\n",
        "      <td> South Carolina</td>\n",
        "      <td>      29425</td>\n",
        "      <td> United States</td>\n",
        "      <td> 12439</td>\n",
        "    </tr>\n",
        "    <tr>\n",
        "      <th>607428</th>\n",
        "      <td> 608287</td>\n",
        "      <td> NCT00354159</td>\n",
        "      <td>                       </td>\n",
        "      <td>              Medical University of South Carolina</td>\n",
        "      <td>       Charleston</td>\n",
        "      <td> South Carolina</td>\n",
        "      <td>      29425</td>\n",
        "      <td> United States</td>\n",
        "      <td> 12439</td>\n",
        "    </tr>\n",
        "    <tr>\n",
        "      <th>608947</th>\n",
        "      <td> 575293</td>\n",
        "      <td> NCT00318565</td>\n",
        "      <td>                       </td>\n",
        "      <td>              Medical University of South Carolina</td>\n",
        "      <td>       Charleston</td>\n",
        "      <td> South Carolina</td>\n",
        "      <td>      29425</td>\n",
        "      <td> United States</td>\n",
        "      <td> 12439</td>\n",
        "    </tr>\n",
        "    <tr>\n",
        "      <th>609582</th>\n",
        "      <td> 571448</td>\n",
        "      <td> NCT00319696</td>\n",
        "      <td>                       </td>\n",
        "      <td>              Medical Universtiy of South Carolina</td>\n",
        "      <td>       Charleston</td>\n",
        "      <td> South Carolina</td>\n",
        "      <td>      29425</td>\n",
        "      <td> United States</td>\n",
        "      <td> 12439</td>\n",
        "    </tr>\n",
        "    <tr>\n",
        "      <th>610259</th>\n",
        "      <td> 617237</td>\n",
        "      <td> NCT00003675</td>\n",
        "      <td>                       </td>\n",
        "      <td>              Medical University of South Carolina</td>\n",
        "      <td>       Charleston</td>\n",
        "      <td> South Carolina</td>\n",
        "      <td> 29425-0721</td>\n",
        "      <td> United States</td>\n",
        "      <td> 12439</td>\n",
        "    </tr>\n",
        "    <tr>\n",
        "      <th>610361</th>\n",
        "      <td> 571903</td>\n",
        "      <td> NCT00319033</td>\n",
        "      <td>                       </td>\n",
        "      <td>                    Medical Univ of South Carolina</td>\n",
        "      <td>       Charleston</td>\n",
        "      <td> South Carolina</td>\n",
        "      <td>      29425</td>\n",
        "      <td> United States</td>\n",
        "      <td> 12439</td>\n",
        "    </tr>\n",
        "    <tr>\n",
        "      <th>610362</th>\n",
        "      <td> 571904</td>\n",
        "      <td> NCT00319033</td>\n",
        "      <td>                       </td>\n",
        "      <td>              Medical University of South Carolina</td>\n",
        "      <td>       Charleston</td>\n",
        "      <td> South Carolina</td>\n",
        "      <td>      29425</td>\n",
        "      <td> United States</td>\n",
        "      <td> 12439</td>\n",
        "    </tr>\n",
        "    <tr>\n",
        "      <th>614882</th>\n",
        "      <td> 569796</td>\n",
        "      <td> NCT00325403</td>\n",
        "      <td>                       </td>\n",
        "      <td>              Medical University of South Carolina</td>\n",
        "      <td>       Charleston</td>\n",
        "      <td> South Carolina</td>\n",
        "      <td>           </td>\n",
        "      <td> United States</td>\n",
        "      <td> 12439</td>\n",
        "    </tr>\n",
        "    <tr>\n",
        "      <th>615336</th>\n",
        "      <td> 633879</td>\n",
        "      <td> NCT00389155</td>\n",
        "      <td>                       </td>\n",
        "      <td>              Medical University Of South Carolina</td>\n",
        "      <td>       Charleston</td>\n",
        "      <td> South Carolina</td>\n",
        "      <td>      29425</td>\n",
        "      <td> United States</td>\n",
        "      <td> 12439</td>\n",
        "    </tr>\n",
        "    <tr>\n",
        "      <th>615728</th>\n",
        "      <td> 639631</td>\n",
        "      <td> NCT00389467</td>\n",
        "      <td>                       </td>\n",
        "      <td> Medical University of South Carolina, 171 Ashl...</td>\n",
        "      <td>       Charleston</td>\n",
        "      <td> South Carolina</td>\n",
        "      <td>      29403</td>\n",
        "      <td> United States</td>\n",
        "      <td> 12439</td>\n",
        "    </tr>\n",
        "    <tr>\n",
        "      <th>616795</th>\n",
        "      <td> 629621</td>\n",
        "      <td> NCT00392106</td>\n",
        "      <td>                       </td>\n",
        "      <td>              Medical University of South Carolina</td>\n",
        "      <td>       Charleston</td>\n",
        "      <td> South Carolina</td>\n",
        "      <td>      29425</td>\n",
        "      <td> United States</td>\n",
        "      <td> 12439</td>\n",
        "    </tr>\n",
        "    <tr>\n",
        "      <th>617280</th>\n",
        "      <td> 640094</td>\n",
        "      <td> NCT00003745</td>\n",
        "      <td>                       </td>\n",
        "      <td>              Medical University of South Carolina</td>\n",
        "      <td>       Charleston</td>\n",
        "      <td> South Carolina</td>\n",
        "      <td> 29425-0721</td>\n",
        "      <td> United States</td>\n",
        "      <td> 12439</td>\n",
        "    </tr>\n",
        "    <tr>\n",
        "      <th>620371</th>\n",
        "      <td> 641409</td>\n",
        "      <td> NCT00440050</td>\n",
        "      <td>                       </td>\n",
        "      <td>              Medical University of South Carolina</td>\n",
        "      <td> North Charleston</td>\n",
        "      <td> South Carolina</td>\n",
        "      <td>      29406</td>\n",
        "      <td> United States</td>\n",
        "      <td> 12439</td>\n",
        "    </tr>\n",
        "    <tr>\n",
        "      <th>620573</th>\n",
        "      <td> 632668</td>\n",
        "      <td> NCT00392327</td>\n",
        "      <td>                       </td>\n",
        "      <td>              Medical University of South Carolina</td>\n",
        "      <td>       Charleston</td>\n",
        "      <td> South Carolina</td>\n",
        "      <td>      29425</td>\n",
        "      <td> United States</td>\n",
        "      <td> 12439</td>\n",
        "    </tr>\n",
        "    <tr>\n",
        "      <th>621843</th>\n",
        "      <td> 598468</td>\n",
        "      <td> NCT00360191</td>\n",
        "      <td>                       </td>\n",
        "      <td>              Medical University of South Carolina</td>\n",
        "      <td>       Charleston</td>\n",
        "      <td> South Carolina</td>\n",
        "      <td>      29425</td>\n",
        "      <td> United States</td>\n",
        "      <td> 12439</td>\n",
        "    </tr>\n",
        "    <tr>\n",
        "      <th>624162</th>\n",
        "      <td> 599711</td>\n",
        "      <td> NCT00003625</td>\n",
        "      <td>                       </td>\n",
        "      <td>              Medical University of South Carolina</td>\n",
        "      <td>       Charleston</td>\n",
        "      <td> South Carolina</td>\n",
        "      <td> 29425-0721</td>\n",
        "      <td> United States</td>\n",
        "      <td> 12439</td>\n",
        "    </tr>\n",
        "    <tr>\n",
        "      <th>631887</th>\n",
        "      <td> 635608</td>\n",
        "      <td> NCT00003739</td>\n",
        "      <td>                       </td>\n",
        "      <td>              Medical University of South Carolina</td>\n",
        "      <td>       Charleston</td>\n",
        "      <td> South Carolina</td>\n",
        "      <td> 29425-0721</td>\n",
        "      <td> United States</td>\n",
        "      <td> 12439</td>\n",
        "    </tr>\n",
        "    <tr>\n",
        "      <th>632156</th>\n",
        "      <td> 643295</td>\n",
        "      <td> NCT00438685</td>\n",
        "      <td>                       </td>\n",
        "      <td> Medical University of South Carolina, Departme...</td>\n",
        "      <td>       Charleston</td>\n",
        "      <td> South Carolina</td>\n",
        "      <td>      29425</td>\n",
        "      <td> United States</td>\n",
        "      <td> 12439</td>\n",
        "    </tr>\n",
        "    <tr>\n",
        "      <th>633938</th>\n",
        "      <td> 613936</td>\n",
        "      <td> NCT00401518</td>\n",
        "      <td>             Recruiting</td>\n",
        "      <td>              Medical University of South Carolina</td>\n",
        "      <td>       Charleston</td>\n",
        "      <td> South Carolina</td>\n",
        "      <td>      29425</td>\n",
        "      <td> United States</td>\n",
        "      <td> 12439</td>\n",
        "    </tr>\n",
        "    <tr>\n",
        "      <th>634278</th>\n",
        "      <td> 599607</td>\n",
        "      <td> NCT00355316</td>\n",
        "      <td>                       </td>\n",
        "      <td>              Medical University of South Carolina</td>\n",
        "      <td>       Charleston</td>\n",
        "      <td> South Carolina</td>\n",
        "      <td>      29425</td>\n",
        "      <td> United States</td>\n",
        "      <td> 12439</td>\n",
        "    </tr>\n",
        "    <tr>\n",
        "      <th>636499</th>\n",
        "      <td> 600855</td>\n",
        "      <td> NCT00360893</td>\n",
        "      <td>                       </td>\n",
        "      <td>              Medical University of South Carolina</td>\n",
        "      <td>       Charleston</td>\n",
        "      <td> South Carolina</td>\n",
        "      <td>     250624</td>\n",
        "      <td> United States</td>\n",
        "      <td> 12439</td>\n",
        "    </tr>\n",
        "    <tr>\n",
        "      <th>637066</th>\n",
        "      <td> 599884</td>\n",
        "      <td> NCT00360269</td>\n",
        "      <td>                       </td>\n",
        "      <td>              Medical University of South Carolina</td>\n",
        "      <td>       Charleston</td>\n",
        "      <td> South Carolina</td>\n",
        "      <td>      29425</td>\n",
        "      <td> United States</td>\n",
        "      <td> 12439</td>\n",
        "    </tr>\n",
        "    <tr>\n",
        "      <th>637469</th>\n",
        "      <td> 599906</td>\n",
        "      <td> NCT00360815</td>\n",
        "      <td>                       </td>\n",
        "      <td>              Medical University of South Carolina</td>\n",
        "      <td>       Charleston</td>\n",
        "      <td> South Carolina</td>\n",
        "      <td> 29403-5851</td>\n",
        "      <td> United States</td>\n",
        "      <td> 12439</td>\n",
        "    </tr>\n",
        "    <tr>\n",
        "      <th>638447</th>\n",
        "      <td> 611041</td>\n",
        "      <td> NCT00003795</td>\n",
        "      <td>                       </td>\n",
        "      <td>              Medical University of South Carolina</td>\n",
        "      <td>       Charleston</td>\n",
        "      <td> South Carolina</td>\n",
        "      <td> 29425-0721</td>\n",
        "      <td> United States</td>\n",
        "      <td> 12439</td>\n",
        "    </tr>\n",
        "    <tr>\n",
        "      <th>639989</th>\n",
        "      <td> 656741</td>\n",
        "      <td> NCT00434278</td>\n",
        "      <td>                       </td>\n",
        "      <td>                    Medical Univ of South Carolina</td>\n",
        "      <td>       Charleston</td>\n",
        "      <td> South Carolina</td>\n",
        "      <td>      29425</td>\n",
        "      <td> United States</td>\n",
        "      <td> 12439</td>\n",
        "    </tr>\n",
        "    <tr>\n",
        "      <th>641301</th>\n",
        "      <td> 659803</td>\n",
        "      <td> NCT00429364</td>\n",
        "      <td>                       </td>\n",
        "      <td>              Medical University of South Carolina</td>\n",
        "      <td>       Charleston</td>\n",
        "      <td> South Carolina</td>\n",
        "      <td>      29425</td>\n",
        "      <td> United States</td>\n",
        "      <td> 12439</td>\n",
        "    </tr>\n",
        "    <tr>\n",
        "      <th>642854</th>\n",
        "      <td> 666118</td>\n",
        "      <td> NCT00418587</td>\n",
        "      <td>                       </td>\n",
        "      <td>              Medical University of South Carolina</td>\n",
        "      <td>       Charleston</td>\n",
        "      <td> South Carolina</td>\n",
        "      <td>      29425</td>\n",
        "      <td> United States</td>\n",
        "      <td> 12439</td>\n",
        "    </tr>\n",
        "    <tr>\n",
        "      <th>647030</th>\n",
        "      <td> 625988</td>\n",
        "      <td> NCT00391443</td>\n",
        "      <td>                       </td>\n",
        "      <td>              Medical University of South Carolina</td>\n",
        "      <td>       Charleston</td>\n",
        "      <td> South Carolina</td>\n",
        "      <td>      29425</td>\n",
        "      <td> United States</td>\n",
        "      <td> 12439</td>\n",
        "    </tr>\n",
        "    <tr>\n",
        "      <th>647760</th>\n",
        "      <td> 627201</td>\n",
        "      <td> NCT00395447</td>\n",
        "      <td>                       </td>\n",
        "      <td>              Medical University of South Carolina</td>\n",
        "      <td>       Charleston</td>\n",
        "      <td> South Carolina</td>\n",
        "      <td>      29403</td>\n",
        "      <td> United States</td>\n",
        "      <td> 12439</td>\n",
        "    </tr>\n",
        "    <tr>\n",
        "      <th>648002</th>\n",
        "      <td> 628320</td>\n",
        "      <td> NCT00396981</td>\n",
        "      <td>                       </td>\n",
        "      <td>              Medical University of South Carolina</td>\n",
        "      <td>       Charleston</td>\n",
        "      <td> South Carolina</td>\n",
        "      <td>      29425</td>\n",
        "      <td> United States</td>\n",
        "      <td> 12439</td>\n",
        "    </tr>\n",
        "    <tr>\n",
        "      <th>648415</th>\n",
        "      <td> 673949</td>\n",
        "      <td> NCT00004017</td>\n",
        "      <td>                       </td>\n",
        "      <td>              Medical University of South Carolina</td>\n",
        "      <td>       Charleston</td>\n",
        "      <td> South Carolina</td>\n",
        "      <td> 29425-0721</td>\n",
        "      <td> United States</td>\n",
        "      <td> 12439</td>\n",
        "    </tr>\n",
        "    <tr>\n",
        "      <th>648757</th>\n",
        "      <td> 623250</td>\n",
        "      <td> NCT00379340</td>\n",
        "      <td>                       </td>\n",
        "      <td>              Medical University of South Carolina</td>\n",
        "      <td>       Charleston</td>\n",
        "      <td> South Carolina</td>\n",
        "      <td>      29425</td>\n",
        "      <td> United States</td>\n",
        "      <td> 12439</td>\n",
        "    </tr>\n",
        "    <tr>\n",
        "      <th>649533</th>\n",
        "      <td> 622877</td>\n",
        "      <td> NCT00003724</td>\n",
        "      <td>                       </td>\n",
        "      <td>              Medical University of South Carolina</td>\n",
        "      <td>       Charleston</td>\n",
        "      <td> South Carolina</td>\n",
        "      <td> 29425-0721</td>\n",
        "      <td> United States</td>\n",
        "      <td> 12439</td>\n",
        "    </tr>\n",
        "    <tr>\n",
        "      <th>652313</th>\n",
        "      <td> 661166</td>\n",
        "      <td> NCT00000176</td>\n",
        "      <td>                       </td>\n",
        "      <td>              Medical University of South Carolina</td>\n",
        "      <td> North Charleston</td>\n",
        "      <td> South Carolina</td>\n",
        "      <td>      29406</td>\n",
        "      <td> United States</td>\n",
        "      <td> 12439</td>\n",
        "    </tr>\n",
        "    <tr>\n",
        "      <th>656383</th>\n",
        "      <td> 673068</td>\n",
        "      <td> NCT00481325</td>\n",
        "      <td>                       </td>\n",
        "      <td>              Medical University Of South Carolina</td>\n",
        "      <td>       Charleston</td>\n",
        "      <td> South Carolina</td>\n",
        "      <td>      29406</td>\n",
        "      <td> United States</td>\n",
        "      <td> 12439</td>\n",
        "    </tr>\n",
        "    <tr>\n",
        "      <th>657037</th>\n",
        "      <td> 636684</td>\n",
        "      <td> NCT00388609</td>\n",
        "      <td>                       </td>\n",
        "      <td>              Medical University Of South Carolina</td>\n",
        "      <td>       Charleston</td>\n",
        "      <td> South Carolina</td>\n",
        "      <td>      29425</td>\n",
        "      <td> United States</td>\n",
        "      <td> 12439</td>\n",
        "    </tr>\n",
        "    <tr>\n",
        "      <th>659913</th>\n",
        "      <td> 627616</td>\n",
        "      <td> NCT00003765</td>\n",
        "      <td>                       </td>\n",
        "      <td>              Medical University of South Carolina</td>\n",
        "      <td>       Charleston</td>\n",
        "      <td> South Carolina</td>\n",
        "      <td> 29425-0721</td>\n",
        "      <td> United States</td>\n",
        "      <td> 12439</td>\n",
        "    </tr>\n",
        "    <tr>\n",
        "      <th>660531</th>\n",
        "      <td> 625393</td>\n",
        "      <td> NCT00398827</td>\n",
        "      <td>                       </td>\n",
        "      <td>              Medical University of South Carolina</td>\n",
        "      <td>       Charleston</td>\n",
        "      <td> South Carolina</td>\n",
        "      <td>      29425</td>\n",
        "      <td> United States</td>\n",
        "      <td> 12439</td>\n",
        "    </tr>\n",
        "    <tr>\n",
        "      <th>660554</th>\n",
        "      <td> 624587</td>\n",
        "      <td> NCT00003691</td>\n",
        "      <td>                       </td>\n",
        "      <td>              Medical University of South Carolina</td>\n",
        "      <td>       Charleston</td>\n",
        "      <td> South Carolina</td>\n",
        "      <td> 29425-0721</td>\n",
        "      <td> United States</td>\n",
        "      <td> 12439</td>\n",
        "    </tr>\n",
        "    <tr>\n",
        "      <th>661085</th>\n",
        "      <td> 637368</td>\n",
        "      <td> NCT00382109</td>\n",
        "      <td>                       </td>\n",
        "      <td>              Medical University of South Carolina</td>\n",
        "      <td>       Charleston</td>\n",
        "      <td> South Carolina</td>\n",
        "      <td>      29425</td>\n",
        "      <td> United States</td>\n",
        "      <td> 12439</td>\n",
        "    </tr>\n",
        "    <tr>\n",
        "      <th>663339</th>\n",
        "      <td> 698047</td>\n",
        "      <td> NCT00003935</td>\n",
        "      <td>                       </td>\n",
        "      <td>              Medical University of South Carolina</td>\n",
        "      <td>       Charleston</td>\n",
        "      <td> South Carolina</td>\n",
        "      <td> 29425-0721</td>\n",
        "      <td> United States</td>\n",
        "      <td> 12439</td>\n",
        "    </tr>\n",
        "    <tr>\n",
        "      <th>665439</th>\n",
        "      <td> 688743</td>\n",
        "      <td> NCT00469365</td>\n",
        "      <td>                       </td>\n",
        "      <td>              Medical University of South Carolina</td>\n",
        "      <td>       Charleston</td>\n",
        "      <td> South Carolina</td>\n",
        "      <td>      29425</td>\n",
        "      <td> United States</td>\n",
        "      <td> 12439</td>\n",
        "    </tr>\n",
        "    <tr>\n",
        "      <th>669244</th>\n",
        "      <td> 650640</td>\n",
        "      <td> NCT00412074</td>\n",
        "      <td>                       </td>\n",
        "      <td>              Medical University of South Carolina</td>\n",
        "      <td>       Charleston</td>\n",
        "      <td> South Carolina</td>\n",
        "      <td>      29425</td>\n",
        "      <td> United States</td>\n",
        "      <td> 12439</td>\n",
        "    </tr>\n",
        "    <tr>\n",
        "      <th>670017</th>\n",
        "      <td> 650673</td>\n",
        "      <td> NCT00412984</td>\n",
        "      <td>                       </td>\n",
        "      <td>              Medical University Of South Carolina</td>\n",
        "      <td>       Charleston</td>\n",
        "      <td> South Carolina</td>\n",
        "      <td>      29425</td>\n",
        "      <td> United States</td>\n",
        "      <td> 12439</td>\n",
        "    </tr>\n",
        "    <tr>\n",
        "      <th></th>\n",
        "      <td>...</td>\n",
        "      <td>...</td>\n",
        "      <td>...</td>\n",
        "      <td>...</td>\n",
        "      <td>...</td>\n",
        "      <td>...</td>\n",
        "      <td>...</td>\n",
        "      <td>...</td>\n",
        "      <td>...</td>\n",
        "    </tr>\n",
        "  </tbody>\n",
        "</table>\n",
        "<p>985 rows \u00d7 9 columns</p>\n",
        "</div>"
       ],
       "metadata": {},
       "output_type": "pyout",
       "prompt_number": 6,
       "text": [
        "        facility_id       nct_id                  status  \\\n",
        "72               37  NCT00000102                           \n",
        "2948           5200  NCT01351662                           \n",
        "3870           4981  NCT01351545              Recruiting   \n",
        "4001           5252  NCT01353222                           \n",
        "5026           6066  NCT01347710                           \n",
        "5372           5495  NCT01350336              Recruiting   \n",
        "5702           4912  NCT01349972                           \n",
        "6372           7131  NCT01349322              Recruiting   \n",
        "9274          11596  NCT00050882                           \n",
        "9311          10527  NCT00050076                           \n",
        "10667         11804  NCT01362231                           \n",
        "10915         11822  NCT01363154                           \n",
        "10916         11823  NCT01363167                           \n",
        "10917         11824  NCT01363167                           \n",
        "10918         11825  NCT01363180              Recruiting   \n",
        "12369         14981  NCT01361113               Withdrawn   \n",
        "14042         10153  NCT01354431                           \n",
        "16186         13864  NCT01360853                           \n",
        "17048         12998  NCT01361815                           \n",
        "18030         22184  NCT01369940                           \n",
        "18096         22201  NCT01371019                           \n",
        "20789         19712  NCT01373463                           \n",
        "22423         20445  NCT01375036                           \n",
        "23486         21337  NCT01371981              Recruiting   \n",
        "24422         28722  NCT01385787              Recruiting   \n",
        "33670         33289  NCT01393405              Recruiting   \n",
        "35041         35141  NCT01400893              Recruiting   \n",
        "37018         38046  NCT01412944                           \n",
        "38109         37850  NCT01411280                           \n",
        "38456         39300  NCT01410968                           \n",
        "38457         39301  NCT01410981              Recruiting   \n",
        "38550         39394  NCT01411007              Recruiting   \n",
        "39504         40640  NCT01407952              Recruiting   \n",
        "39670         40680  NCT01410552              Recruiting   \n",
        "39682         40959  NCT01406756              Recruiting   \n",
        "41349         43424  NCT01415154                           \n",
        "41562         42425  NCT01421667              Recruiting   \n",
        "43027         44193  NCT01418261                           \n",
        "43775         38807  NCT01414608              Recruiting   \n",
        "44560         45220  NCT01426308                           \n",
        "46384         43216  NCT01419158                           \n",
        "47912         50992  NCT01431326              Recruiting   \n",
        "49333         46338  NCT00053599                           \n",
        "49507         45819  NCT01426711                           \n",
        "51414         49438  NCT00053833                           \n",
        "51857         48209  NCT00053352                           \n",
        "54428         52382  NCT01431001                           \n",
        "54662         52660  NCT01429389              Recruiting   \n",
        "55972         59524  NCT01442363                           \n",
        "56440         60535  NCT01451411              Recruiting   \n",
        "57225         56658  NCT01444664                           \n",
        "58055         55744  NCT01436175                           \n",
        "58516         54909  NCT01436162                           \n",
        "61467         59627  NCT01442376                           \n",
        "62924         62017  NCT01452516                           \n",
        "67313         67352  NCT01456000                           \n",
        "67652         68921  NCT01462630              Recruiting   \n",
        "69114         70320  NCT01458522              Recruiting   \n",
        "69382         70607  NCT01459692                           \n",
        "72046         73212  NCT01466725                           \n",
        "73095         68086  NCT01461915              Recruiting   \n",
        "75659         76583  NCT01471522              Recruiting   \n",
        "77886         74589  NCT01465347                           \n",
        "79517         81701  NCT01474109                           \n",
        "79816         80449  NCT01475357              Recruiting   \n",
        "82074         86005  NCT01477723                           \n",
        "83169         85976  NCT01476397                           \n",
        "83740         80323  NCT01475253                           \n",
        "85052         88981  NCT00056160                           \n",
        "85788         83777  NCT01480479              Recruiting   \n",
        "86218         83492  NCT01482962              Recruiting   \n",
        "86365         84267  NCT01480141                           \n",
        "87070         83707  NCT01482156                           \n",
        "89163         87229  NCT01488513              Recruiting   \n",
        "90072         87892  NCT00056225                           \n",
        "90128         88598  NCT01483820      Not yet recruiting   \n",
        "90622         89967  NCT01486316              Recruiting   \n",
        "94090         98230  NCT01504854                           \n",
        "96857         96423  NCT01497223                           \n",
        "104184       105297  NCT01509404                           \n",
        "104707       105414  NCT01509547              Recruiting   \n",
        "104907       105418  NCT01509586                           \n",
        "104908       105419  NCT01509599              Recruiting   \n",
        "105728       106472  NCT01517334              Recruiting   \n",
        "108011       108692  NCT01515436                           \n",
        "108161       103289  NCT01511380                           \n",
        "108574       111076  NCT01524133              Recruiting   \n",
        "110536       111623  NCT01521338  Active, not recruiting   \n",
        "111430       106582  NCT01520558              Recruiting   \n",
        "113280       109733  NCT00057356                           \n",
        "113453       114639  NCT01533207              Recruiting   \n",
        "114753       118932  NCT01541254                           \n",
        "116438       117832  NCT01541670                           \n",
        "123431       122674  NCT01548690              Recruiting   \n",
        "123772       127967  NCT01553149              Recruiting   \n",
        "124527       122660  NCT01547741                           \n",
        "126706       130611  NCT01557036                           \n",
        "127040       131001  NCT01558102                           \n",
        "128290       126188  NCT00057928                           \n",
        "130619       131517  NCT01556243              Recruiting   \n",
        "130680       131471  NCT01558817      Not yet recruiting   \n",
        "134670       134684  NCT01566591              Recruiting   \n",
        "135901       136524  NCT01576016                           \n",
        "135995       135121  NCT01565668                           \n",
        "136248       135624  NCT01565798                           \n",
        "137245       137162  NCT01576874              Recruiting   \n",
        "138477       139324  NCT01573273              Recruiting   \n",
        "139248       140161  NCT01582672              Recruiting   \n",
        "139700       141293  NCT01582061               Withdrawn   \n",
        "141980       143593  NCT01579513              Recruiting   \n",
        "143410       138788  NCT01574183              Recruiting   \n",
        "144044       146609  NCT01589315              Recruiting   \n",
        "144270       145494  NCT01588197                           \n",
        "145779       146557  NCT01586260              Recruiting   \n",
        "148821       150176  NCT01597063                           \n",
        "149914       154083  NCT01601704                           \n",
        "150613       153153  NCT01601574                           \n",
        "150966       153497  NCT01602315      Not yet recruiting   \n",
        "151428       149444  NCT01595048              Recruiting   \n",
        "152340       148951  NCT01597778              Recruiting   \n",
        "154488       152535  NCT01606501      Not yet recruiting   \n",
        "155209       151978  NCT01604590              Recruiting   \n",
        "155554       153332  NCT01603992                           \n",
        "155658       154467  NCT01601847              Recruiting   \n",
        "157404       155364  NCT01611974                           \n",
        "158630       157923  NCT01608490              Recruiting   \n",
        "159059       163227  NCT01626235                           \n",
        "159061       163229  NCT01626235                           \n",
        "165556       164961  NCT01622868              Recruiting   \n",
        "166398       166261  NCT01622855                           \n",
        "170454       171343  NCT01640353                           \n",
        "171130       171905  NCT01641822              Recruiting   \n",
        "171631       170672  NCT01640886                           \n",
        "173017       173000  NCT01635998              Recruiting   \n",
        "174098       174700  NCT01646125      Not yet recruiting   \n",
        "175459       176361  NCT01643798                           \n",
        "181466       182653  NCT01659411              Recruiting   \n",
        "181532       178183  NCT01653028              Recruiting   \n",
        "181790       178350  NCT01652170                           \n",
        "182766       185271  NCT01666444              Recruiting   \n",
        "184994       184136  NCT01656603              Recruiting   \n",
        "185319       189598  NCT01672879      Not yet recruiting   \n",
        "185682       189241  NCT01672866              Recruiting   \n",
        "186295       184826  NCT01656941              Recruiting   \n",
        "186781       188131  NCT01663350                           \n",
        "187229       184684  NCT01655784              Recruiting   \n",
        "189024       226999  NCT00067236                           \n",
        "189129       230423  NCT01736618      Not yet recruiting   \n",
        "190121       228662  NCT01728103               Completed   \n",
        "191015       225898  NCT01732536                           \n",
        "192285       226500  NCT01730950              Recruiting   \n",
        "193310       227588  NCT01729819      Not yet recruiting   \n",
        "193798       198368  NCT00064454                           \n",
        "194698       196577  NCT01687153                           \n",
        "195812       194978  NCT01674140              Recruiting   \n",
        "196124       196593  NCT01687166              Recruiting   \n",
        "196223       193966  NCT01678638      Not yet recruiting   \n",
        "196977       194472  NCT01681004              Recruiting   \n",
        "197137       196998  NCT01686373              Recruiting   \n",
        "197354       193518  NCT01677962              Recruiting   \n",
        "197356       193520  NCT01677988              Recruiting   \n",
        "197509       197364  NCT01685463              Recruiting   \n",
        "197831       198177  NCT01684410                           \n",
        "198725       201940  NCT01690130              Recruiting   \n",
        "203114       201240  NCT01693614              Recruiting   \n",
        "203821       202023  NCT01690143              Recruiting   \n",
        "205420       187164  NCT01662895                           \n",
        "207084       190933  NCT01667536                           \n",
        "208131       190036  NCT01672164              Recruiting   \n",
        "208913       191216  NCT01670136              Recruiting   \n",
        "210763       190947  NCT01668784              Recruiting   \n",
        "213443       253644  NCT01769196              Recruiting   \n",
        "213447       253648  NCT01769768              Recruiting   \n",
        "214459       250436  NCT01759511                           \n",
        "216969       254709  NCT01762033              Recruiting   \n",
        "219814       218363  NCT01712490              Recruiting   \n",
        "222658       221777  NCT01716117              Recruiting   \n",
        "225796       205845  NCT01696084              Recruiting   \n",
        "226906       207454  NCT01705574                           \n",
        "235144       281145  NCT01827332              Recruiting   \n",
        "236184       233342  NCT01749345              Recruiting   \n",
        "238000       235343  NCT01741194  Active, not recruiting   \n",
        "239460       237343  NCT01752114              Recruiting   \n",
        "239689       235212  NCT01740427      Not yet recruiting   \n",
        "240228       231275  NCT01738191              Recruiting   \n",
        "240405       240266  NCT01752933              Recruiting   \n",
        "240631       248117  NCT01817361                           \n",
        "242608       243394  NCT01818596                           \n",
        "243346       243809  NCT01816555              Recruiting   \n",
        "243999       239748  NCT01751906              Recruiting   \n",
        "245884       241009  NCT01815502              Recruiting   \n",
        "247656       233507  NCT01746095              Recruiting   \n",
        "248159       246632  NCT01814813              Recruiting   \n",
        "248292       236617  NCT01740895                           \n",
        "252332       241158  NCT01804270              Recruiting   \n",
        "252335       241161  NCT01804296                           \n",
        "252786       239179  NCT01757132                           \n",
        "253195       238414  NCT01755169              Recruiting   \n",
        "253342       255435  NCT01765738      Not yet recruiting   \n",
        "253503       240446  NCT01751035              Recruiting   \n",
        "254226       241614  NCT01804530              Recruiting   \n",
        "254641       240884  NCT01810341              Recruiting   \n",
        "259298       261717  NCT01802203              Recruiting   \n",
        "260885       259897  NCT01802567              Recruiting   \n",
        "261157       256926  NCT00069745                           \n",
        "262436       262002  NCT01794182              Recruiting   \n",
        "264354       267932  NCT01783431              Recruiting   \n",
        "264683       269515  NCT01774253              Recruiting   \n",
        "266066       266949  NCT01783054              Recruiting   \n",
        "266688       268032  NCT01772953              Recruiting   \n",
        "267456       268438  NCT01783990                           \n",
        "270898       274981  NCT01891643              Recruiting   \n",
        "271439       271250  NCT01885455              Recruiting   \n",
        "273070       271448  NCT00071721                           \n",
        "273239       273603  NCT01889953      Not yet recruiting   \n",
        "275777       280644  NCT01826214               Withdrawn   \n",
        "276252       266851  NCT01780506                           \n",
        "277760       280842  NCT01831739              Recruiting   \n",
        "278400       281514  NCT01822587      Not yet recruiting   \n",
        "279492       264003  NCT01780844              Recruiting   \n",
        "281257       279064  NCT01837030              Recruiting   \n",
        "283035       284791  NCT01820299              Recruiting   \n",
        "284111       300557  NCT01843426              Recruiting   \n",
        "284373       298420  NCT01852188              Recruiting   \n",
        "284374       298421  NCT01852201              Recruiting   \n",
        "284605       285260  NCT01820325               Withdrawn   \n",
        "285301       286829  NCT01859273              Recruiting   \n",
        "285878       299241  NCT01847820              Recruiting   \n",
        "291134       292998  NCT01861990                           \n",
        "291697       303272  NCT01967888      Not yet recruiting   \n",
        "292131       289720  NCT00071331                           \n",
        "292822       292039  NCT01861457                           \n",
        "294459       301079  NCT01845454              Recruiting   \n",
        "296793       300791  NCT00070590                           \n",
        "298344       289986  NCT01871038                           \n",
        "299788       263109  NCT01801007              Recruiting   \n",
        "303768       305155  NCT00074555                           \n",
        "304568       261529  NCT01793792              Recruiting   \n",
        "308041       321912  NCT01932788              Recruiting   \n",
        "310483       322193  NCT01947608                           \n",
        "311010       316430  NCT01942694              Recruiting   \n",
        "312329       333199  NCT02067377              Recruiting   \n",
        "312868       318496  NCT01949519              Recruiting   \n",
        "313306       331028  NCT01911169              Recruiting   \n",
        "314735       319352  NCT01945736              Recruiting   \n",
        "319985       316968  NCT01946880              Recruiting   \n",
        "320772       316198  NCT01933399              Recruiting   \n",
        "320904       325288  NCT01911325      Not yet recruiting   \n",
        "322463       325353  NCT01915160                           \n",
        "324255       332541  NCT02056782      Not yet recruiting   \n",
        "326030       285549  NCT01832220              Recruiting   \n",
        "326938       333038  NCT02058251      Not yet recruiting   \n",
        "327532       330072  NCT01912274              Recruiting   \n",
        "328778       350501  NCT02039869      Not yet recruiting   \n",
        "335319       357723  NCT01993849              Recruiting   \n",
        "336222       355073  NCT02001688      Not yet recruiting   \n",
        "336420       359355  NCT00002493                           \n",
        "340401       343260  NCT01976104      Not yet recruiting   \n",
        "341169       343297  NCT01977547      Not yet recruiting   \n",
        "341228       343800  NCT00002485                           \n",
        "341797       340289  NCT01972139                           \n",
        "343128       345442  NCT00075582                           \n",
        "344727       343582  NCT01970007              Recruiting   \n",
        "345805       345946  NCT00002478                           \n",
        "347996       313365  NCT01893190      Not yet recruiting   \n",
        "348604       309013  NCT01898091              Recruiting   \n",
        "352918       370134  NCT02088580              Recruiting   \n",
        "352921       370137  NCT02088619      Not yet recruiting   \n",
        "353669       370140  NCT02088658              Recruiting   \n",
        "355802       367287  NCT00002583                           \n",
        "357351       371820  NCT00078741                           \n",
        "357876       378826  NCT00002568                           \n",
        "359190       383330  NCT00089570                           \n",
        "359540       384130  NCT00081458                           \n",
        "362587       383483  NCT00086138                           \n",
        "363115       382894  NCT00002577                           \n",
        "363691       370902  NCT00078611                           \n",
        "363928       367941  NCT00094081                           \n",
        "365215       378897  NCT00002569                           \n",
        "365441       368770  NCT02096029      Not yet recruiting   \n",
        "365647       384020  NCT00079274                           \n",
        "365802       368785  NCT02096107              Recruiting   \n",
        "367999       371201  NCT00076986                           \n",
        "369669       348588  NCT02034227              Recruiting   \n",
        "375578       393290  NCT00002708                           \n",
        "375668       397483  NCT00117403                           \n",
        "377725       391977  NCT00122980                           \n",
        "378458       392395  NCT00002717                           \n",
        "378501       391995  NCT00123071                           \n",
        "379771       395080  NCT00115934                           \n",
        "380669       396472  NCT00002707                           \n",
        "382502       363226  NCT00002594                           \n",
        "385302       406108  NCT00098839                           \n",
        "387056       408419  NCT00108745                           \n",
        "388331       394770  NCT00119717                           \n",
        "389048       395966  NCT00114530                           \n",
        "392670       406428  NCT00002597                           \n",
        "393253       377725  NCT00002575                           \n",
        "398414       376586  NCT00090116                           \n",
        "398477       375460  NCT00076440                           \n",
        "398705       363151  NCT00092508                           \n",
        "399214       420940  NCT00002611                           \n",
        "403154       421118  NCT00104520                           \n",
        "403688       420500  NCT00002618                           \n",
        "403712       419691  NCT00002622                           \n",
        "403844       422767  NCT00162045                           \n",
        "405207       387132  NCT00083421                           \n",
        "405930       388329  NCT00079482                           \n",
        "406246       389515  NCT00083590                           \n",
        "406443       385199  NCT00082784                           \n",
        "406542       391083  NCT00002564                           \n",
        "406595       390294  NCT00002545                           \n",
        "407255       386952  NCT00080340                           \n",
        "407803       389584  NCT00002562                           \n",
        "409397       388075  NCT00083447                           \n",
        "411283       432877  NCT00128167                           \n",
        "412249       431154  NCT00133822                           \n",
        "413017       431590  NCT00132977                           \n",
        "414579       436866  NCT00134030                           \n",
        "416693       401889  NCT00002610                           \n",
        "419140       401737  NCT00002602                           \n",
        "422475       398842  NCT00116428                           \n",
        "423307       462645  NCT00168857                           \n",
        "424351       450474  NCT00140101                           \n",
        "424447       463899  NCT00179647                           \n",
        "424600       447815  NCT00136825                           \n",
        "425276       462291  NCT00002924                           \n",
        "429535       411164  NCT00113087                           \n",
        "429733       429744  NCT00002889                           \n",
        "432846       416054  NCT00106899                           \n",
        "433251       414875  NCT00104273                           \n",
        "434096       414125  NCT00113698                           \n",
        "434716       461573  NCT00002912                           \n",
        "434868       458021  NCT00228540                           \n",
        "435204       459573  NCT00003054                           \n",
        "435502       462446  NCT00180479                           \n",
        "438840       461094  NCT00003057                           \n",
        "439075       411689  NCT00002704                           \n",
        "441405       418800  NCT00106314                           \n",
        "442837       427117  NCT00158743                           \n",
        "447783       489167  NCT00262847                           \n",
        "448084       484617  NCT00262132                           \n",
        "448251       484398  NCT00264810                           \n",
        "448769       487367  NCT00003179                           \n",
        "449017       484095  NCT00002941                           \n",
        "449569       486212  NCT00262821                           \n",
        "453224       444032  NCT00149617                           \n",
        "454626       456086  NCT00229125                           \n",
        "454671       454881  NCT00003027                           \n",
        "457778       441571  NCT00148954                           \n",
        "462243       439366  NCT00002873                           \n",
        "464974       451691  NCT00144014                           \n",
        "465817       447617  NCT00002819                           \n",
        "467204       455434  NCT00224770                           \n",
        "467924       456255  NCT00218387                           \n",
        "468334       456270  NCT00218491                           \n",
        "468728       455887  NCT00222898                           \n",
        "470061       449413  NCT00002791                           \n",
        "475418       513078  NCT00003118                           \n",
        "476015       514576  NCT00003117                           \n",
        "485826       470077  NCT00002976                           \n",
        "487626       467434  NCT00183196                           \n",
        "487992       468275  NCT00002925                           \n",
        "488500       471859  NCT00212134                           \n",
        "490109       471505  NCT00200629                           \n",
        "490120       471516  NCT00200759                           \n",
        "490441       473167  NCT00002993                           \n",
        "490525       471520  NCT00200798              Recruiting   \n",
        "492910       471215  NCT00002994                           \n",
        "493555       474952  NCT00215241                           \n",
        "495407       495369  NCT00003078                           \n",
        "496009       494791  NCT00003070                           \n",
        "499760       541296  NCT00282672                           \n",
        "505913       510268  NCT00246441                           \n",
        "506680       503835  NCT00259857                           \n",
        "507722       491709  NCT00003178                           \n",
        "509249       492969  NCT00238420                           \n",
        "509956       510027  NCT00241813                           \n",
        "510756       510057  NCT00242437                           \n",
        "514389       502977  NCT00003139                           \n",
        "515289       515545  NCT00003130                           \n",
        "520581       519259  NCT00003352                           \n",
        "523036       519951  NCT00303459                           \n",
        "523552       523400  NCT00003376                           \n",
        "523940       523819  NCT00302952                           \n",
        "526205       528573  NCT00274313                           \n",
        "526526       533856  NCT00292591                           \n",
        "527583       529661  NCT00266669                           \n",
        "528228       527102  NCT00273338                           \n",
        "528430       524432  NCT00003216                           \n",
        "531113       526568  NCT00272181                           \n",
        "531204       535281  NCT00003313                           \n",
        "531354       530820  NCT00003234                           \n",
        "531425       522239  NCT00300274                           \n",
        "531918       536901  NCT00003322                           \n",
        "533867       536988  NCT00285506                           \n",
        "534505       533934  NCT00294541                           \n",
        "534817       519352  NCT00301366                           \n",
        "535217       535576  NCT00003312                           \n",
        "535285       533967  NCT00295061                           \n",
        "538592       529750  NCT00003217                           \n",
        "539078       541814  NCT00282711                           \n",
        "542279       528089  NCT00003248                           \n",
        "543554       560045  NCT00003378                           \n",
        "545010       563274  NCT00325442                           \n",
        "545851       547372  NCT00330187              Recruiting   \n",
        "546078       548848  NCT00329706              Recruiting   \n",
        "546103       559576  NCT00303979                           \n",
        "546252       547377  NCT00330239                           \n",
        "546885       558769  NCT00003386                           \n",
        "546886       558770  NCT00307047                           \n",
        "547981       561606  NCT00003381                           \n",
        "548182       547874  NCT00330278                           \n",
        "548191       548280  NCT00329030                           \n",
        "548451       558430  NCT00309907                           \n",
        "548749       561638  NCT00306722                           \n",
        "549529       552418  NCT00003591                           \n",
        "552401       551140  NCT00003573                           \n",
        "553608       556119  NCT00310180                           \n",
        "556854       559282  NCT00003387                           \n",
        "558210       561553  NCT00003380                           \n",
        "559059       556365  NCT00306852                           \n",
        "561816       565073  NCT00003546                           \n",
        "562323       518858  NCT00003368                           \n",
        "562358       518465  NCT00003370                           \n",
        "563482       564516  NCT00323518                           \n",
        "563594       568583  NCT00321399                           \n",
        "564243       564178  NCT00324805               Completed   \n",
        "564869       521389  NCT00302341                           \n",
        "566343       523035  NCT00003344                           \n",
        "566400       567315  NCT00003523                           \n",
        "566599       569082  NCT00003519                           \n",
        "567487       583502  NCT00370214                           \n",
        "567721       583308  NCT00366145                           \n",
        "573739       582643  NCT00003666                           \n",
        "579146       578230  NCT00003661                           \n",
        "580673       579129  NCT00369759                           \n",
        "580766       576716  NCT00317642                           \n",
        "582121       581143  NCT00003662                           \n",
        "583981       577789  NCT00320372                           \n",
        "584748       578651  NCT00370526                           \n",
        "588674       596126  NCT00000173                           \n",
        "589060       589970  NCT00336024              Recruiting   \n",
        "589114       594520  NCT00359424                           \n",
        "589961       593814  NCT00363116                           \n",
        "590417       548950  NCT00331188                           \n",
        "590509       548170  NCT00326898                           \n",
        "591670       613292  NCT00408005              Recruiting   \n",
        "593339       610921  NCT00400400                           \n",
        "593412       607230  NCT00352534                           \n",
        "593925       615773  NCT00003812                           \n",
        "597373       617490  NCT00003700                           \n",
        "599961       620291  NCT00377949              Recruiting   \n",
        "602289       620775  NCT00003692                           \n",
        "604195       607595  NCT00349622                           \n",
        "606078       609296  NCT00003811                           \n",
        "606674       607849  NCT00354835                           \n",
        "607428       608287  NCT00354159                           \n",
        "608947       575293  NCT00318565                           \n",
        "609582       571448  NCT00319696                           \n",
        "610259       617237  NCT00003675                           \n",
        "610361       571903  NCT00319033                           \n",
        "610362       571904  NCT00319033                           \n",
        "614882       569796  NCT00325403                           \n",
        "615336       633879  NCT00389155                           \n",
        "615728       639631  NCT00389467                           \n",
        "616795       629621  NCT00392106                           \n",
        "617280       640094  NCT00003745                           \n",
        "620371       641409  NCT00440050                           \n",
        "620573       632668  NCT00392327                           \n",
        "621843       598468  NCT00360191                           \n",
        "624162       599711  NCT00003625                           \n",
        "631887       635608  NCT00003739                           \n",
        "632156       643295  NCT00438685                           \n",
        "633938       613936  NCT00401518              Recruiting   \n",
        "634278       599607  NCT00355316                           \n",
        "636499       600855  NCT00360893                           \n",
        "637066       599884  NCT00360269                           \n",
        "637469       599906  NCT00360815                           \n",
        "638447       611041  NCT00003795                           \n",
        "639989       656741  NCT00434278                           \n",
        "641301       659803  NCT00429364                           \n",
        "642854       666118  NCT00418587                           \n",
        "647030       625988  NCT00391443                           \n",
        "647760       627201  NCT00395447                           \n",
        "648002       628320  NCT00396981                           \n",
        "648415       673949  NCT00004017                           \n",
        "648757       623250  NCT00379340                           \n",
        "649533       622877  NCT00003724                           \n",
        "652313       661166  NCT00000176                           \n",
        "656383       673068  NCT00481325                           \n",
        "657037       636684  NCT00388609                           \n",
        "659913       627616  NCT00003765                           \n",
        "660531       625393  NCT00398827                           \n",
        "660554       624587  NCT00003691                           \n",
        "661085       637368  NCT00382109                           \n",
        "663339       698047  NCT00003935                           \n",
        "665439       688743  NCT00469365                           \n",
        "669244       650640  NCT00412074                           \n",
        "670017       650673  NCT00412984                           \n",
        "                ...          ...                     ...   \n",
        "\n",
        "                                            facility_name              city  \\\n",
        "72                   Medical University of South Carolina        Charleston   \n",
        "2948                 Medical University of South Carolina        Charleston   \n",
        "3870                 Medical University of South Carolina        Charleston   \n",
        "4001                 Medical University of South Carolina        Charleston   \n",
        "5026                 Medical University of South Carolina        Charleston   \n",
        "5372                 Medical University of South Carolina        Charleston   \n",
        "5702                 Medical University of South Carolina        Charleston   \n",
        "6372                 Medical University of South Carolina        Charleston   \n",
        "9274                 Medical University of South Carolina        Charleston   \n",
        "9311                 Medical University of South Carolina        Charleston   \n",
        "10667                Medical University of South Carolina        Charleston   \n",
        "10915                Medical University of South Carolina        Charleston   \n",
        "10916                Medical University of South Carolina        Charleston   \n",
        "10917                Medical University of South Carolina        Charleston   \n",
        "10918                Medical University of South Carolina        Charleston   \n",
        "12369         Medical University of South Carolina (MUSC)        Charleston   \n",
        "14042                Medical University Of South Carolina        Charleston   \n",
        "16186   Medical University of South Carolina - Holling...        Charleston   \n",
        "17048               Medical Uni. Of South Carolina (MUSC)        Charleston   \n",
        "18030                   Medical University of S. Carolina        Charleston   \n",
        "18096                Medical University of South Carolina        Charleston   \n",
        "20789                Medical University of South Carolina        Charleston   \n",
        "22423                Medical University of South Carolina        Charleston   \n",
        "23486                Medical University of South Carolina        Charleston   \n",
        "24422                Medical University of South Carolina        Charleston   \n",
        "33670                Medical University of South Carolina        Charleston   \n",
        "35041                Medical University Of South Carolina        Charleston   \n",
        "37018                Medical University of South Carolina        Charleston   \n",
        "38109                Medical University of South Carolina        Charleston   \n",
        "38456                Medical University of South Carolina        Charleston   \n",
        "38457                Medical University of South Carolina        Charleston   \n",
        "38550                Medical University of South Carolina        Charleston   \n",
        "39504                Medical University of South Carolina        Charleston   \n",
        "39670                Medical University of South Carolina       Charlestone   \n",
        "39682                Medical University of South Carolina        Charleston   \n",
        "41349                Medical University of South Carolina        Charleston   \n",
        "41562                Medical University of South Carolina        Charleston   \n",
        "43027                Medical University of South Carolina        Charleston   \n",
        "43775                Medical University of South Carolina        Charleston   \n",
        "44560                Medical University of South Carolina        Charleston   \n",
        "46384                Medical University of South Carolina        Charleston   \n",
        "47912                Medical University of South Carolina        Charleston   \n",
        "49333                Medical University of South Carolina  North Charleston   \n",
        "49507                Medical University of South Carolina        Charleston   \n",
        "51414                Medical University of South Carolina        Charleston   \n",
        "51857                Medical University of South Carolina        Charleston   \n",
        "54428                Medical University of South Carolina        Charleston   \n",
        "54662                Medical University of South Carolina        Charleston   \n",
        "55972                Medical University of South Carolina        Charleston   \n",
        "56440                Medical University of South Carolina        Charleston   \n",
        "57225                Medical University of South Carolina        Charleston   \n",
        "58055   Medical University of South Carolina, Anxiety ...  North Charleston   \n",
        "58516   Medical University South Carolina Anxiety Diso...  North Charleston   \n",
        "61467                Medical University of South Carolina        Charleston   \n",
        "62924      Medical University of South Carolina Neurology        Charleston   \n",
        "67313                   Medical University South Carolina        Charleston   \n",
        "67652                Medical University of South Carolina        Charleston   \n",
        "69114                Medical University of South Carolina        Charleston   \n",
        "69382                Medical University of South Carolina        Charleston   \n",
        "72046                Medical University of South Carolina        Charleston   \n",
        "73095   Medical University of South Carolina Hollings ...        Charleston   \n",
        "75659                Medical University of South Carolina        Charleston   \n",
        "77886                Medical University of South Carolina        Charleston   \n",
        "79517                Medical University of South Carolina        Charleston   \n",
        "79816                Medical University of South Carolina        Charleston   \n",
        "82074         Medical University of South Carolina (MUSC)        Charleston   \n",
        "83169                Medical University of South Carolina        Charleston   \n",
        "83740   Medical University of South Carolina Urology A...        Charleston   \n",
        "85052                            Medical University of SC        Charleston   \n",
        "85788   Medical University of South Carolina - Departm...        Charleston   \n",
        "86218                Medical University of South Carolina        Charleston   \n",
        "86365                Medical University of South Carolina        Charleston   \n",
        "87070             Medical University of South Carolina SC        Charleston   \n",
        "89163                Medical University of South Carolina        Charleston   \n",
        "90072                Medical University of South Carolina  North Charleston   \n",
        "90128                Medical University of South Carolina        Charleston   \n",
        "90622                Medical University of South Carolina        Charleston   \n",
        "94090                Medical University of South Carolina     N. Charleston   \n",
        "96857                Medical University of South Carolina        Charleston   \n",
        "104184               Medical University of South Carolina        Charleston   \n",
        "104707               Medical University of South Carolina        Charleston   \n",
        "104907               Medical University of South Carolina        Charleston   \n",
        "104908               Medical University of South Carolina        Charleston   \n",
        "105728  Medical University of South Carolina College o...        Charleston   \n",
        "108011               Medical University of South Carolina        Charleston   \n",
        "108161               Medical University of South Carolina        Charleston   \n",
        "108574               Medical university of South Carolina        Charleston   \n",
        "110536               Medical University of South Carolina        Charleston   \n",
        "111430               Medical University of South Carolina        Charleston   \n",
        "113280               Medical University of South Carolina        Charleston   \n",
        "113453               Medical University of South Carolina        Charleston   \n",
        "114753               Medical University of South Carolina        Charleston   \n",
        "116438        Medical University of South Carolina (MUSC)        Charleston   \n",
        "123431               Medical University of South Carolina        Charleston   \n",
        "123772               Medical University of South Carolina        Charleston   \n",
        "124527               Medical University of South Carolina        Charleston   \n",
        "126706               Medical University of South Carolina        Charleston   \n",
        "127040               Medical University of South Carolina        Charleston   \n",
        "128290               Medical University of South Carolina        Charleston   \n",
        "130619               Medical University of South Carolina        Charleston   \n",
        "130680               Medical University of South Carolina        Charleston   \n",
        "134670              Medical Uni. Of South Carolina (MUSC)        Charleston   \n",
        "135901               Medical University of South Carolina        Charleston   \n",
        "135995  Medical University of South Carolina, Hollings...        Charleston   \n",
        "136248               Medical University of South Carolina        Charleston   \n",
        "137245               Medical University of South Carolina        Charleston   \n",
        "138477               Medical University of South Carolina        Charleston   \n",
        "139248        Medical University of South Carolina (MUSC)        Charleston   \n",
        "139700               Medical University of South Carolina        Charleston   \n",
        "141980  Medical University of South Carolina, Pediatri...        Charleston   \n",
        "143410               Medical University of South Carolina        Charleston   \n",
        "144044               Medical University of South Carolina        Charleston   \n",
        "144270               Medical University of South Carolina        Charleston   \n",
        "145779               Medical University of South Carolina        Charleston   \n",
        "148821               Medical University of South Carolina        Charleston   \n",
        "149914               Medical University of South Carolina        Charleston   \n",
        "150613               Medical University of South Carolina        Charleston   \n",
        "150966     Medical University of South Carolina Onc Dept.        Charleston   \n",
        "151428               Medical University of South Carolina        Charleston   \n",
        "152340               Medical University of South Carolina        Charleston   \n",
        "154488               Medical University of South Carolina        Charleston   \n",
        "155209               Medical University of South Carolina        Charleston   \n",
        "155554                  Medical University of S. Carolina        Charleston   \n",
        "155658               Medical University of South Carolina        Charleston   \n",
        "157404               Medical University of South Carolina        Charleston   \n",
        "158630               Medical University of South Carolina        Charleston   \n",
        "159059               Medical University of South Carolina        Charleston   \n",
        "159061               Medical University of South Carolina        Charleston   \n",
        "165556               Medical University of South Carolina        Charleston   \n",
        "166398               Medical University of South Carolina        Charleston   \n",
        "170454               Medical University of South Carolina        Charleston   \n",
        "171130               Medical University of South Carolina        Charleston   \n",
        "171631               Medical University of South Carolina        Charleston   \n",
        "173017               Medical University of South Carolina        Charleston   \n",
        "174098   Medical University of South Carolina AUY922A2207        Charleston   \n",
        "175459               Medical University of South Carolina        Charleston   \n",
        "181466               Medical University of South Carolina        Charleston   \n",
        "181532               Medical University of South Carolina        Charleston   \n",
        "181790               Medical University of South Carolina        Charleston   \n",
        "182766               Medical University of South Carolina        Charleston   \n",
        "184994               Medical University of South Carolina        Charleston   \n",
        "185319               Medical University of South Carolina        Charleston   \n",
        "185682               Medical University of South Carolina        Charleston   \n",
        "186295               Medical University of South Carolina        Charleston   \n",
        "186781               Medical University of South Carolina        Charleston   \n",
        "187229                   Medical Center of South Carolina        Charleston   \n",
        "189024               Medical University of South Carolina        Charleston   \n",
        "189129               Medical University of South Carolina        Charleston   \n",
        "190121               Medical University of South Carolina        Charleston   \n",
        "191015               Medical University of South Carolina        Charleston   \n",
        "192285               Medical University of South Carolina        Charleston   \n",
        "193310               Medical University of South Carolina        Charleston   \n",
        "193798               Medical University of South Carolina        Charleston   \n",
        "194698               Medical University of South Carolina  North Charleston   \n",
        "195812               Medical University of South Carolina        Charleston   \n",
        "196124               Medical University of South Carolina        Charleston   \n",
        "196223  Medical University of South Carolina; Medical ...        Charleston   \n",
        "196977               Medical University of South Carolina        Charleston   \n",
        "197137               Medical University of South Carolina        Charleston   \n",
        "197354               Medical University of South Carolina        Charleston   \n",
        "197356               Medical University of South Carolina        Charleston   \n",
        "197509               Medical University of South Carolina        Charleston   \n",
        "197831               Medical University of South Carolina        Charleston   \n",
        "198725               Medical University of South Carolina        Charleston   \n",
        "203114  Medical University of South Carolina -Hollings...        Charleston   \n",
        "203821  Medical University of South Carolina Hollings ...        Charleston   \n",
        "205420               Medical University of South Carolina        Charleston   \n",
        "207084               Medical University of South Carolina        Charleston   \n",
        "208131               Medical University of South Carolina        Charleston   \n",
        "208913               Medical University of South Carolina        Charleston   \n",
        "210763               Medical University Of South Carolina        Charleston   \n",
        "213443               Medical University of South Carolina        Charleston   \n",
        "213447  Medical University of South Carolina Dept.of N...        Charleston   \n",
        "214459               Medical University of South Carolina        Charleston   \n",
        "216969               Medical University of South Carolina        Charleston   \n",
        "219814  Medical University of South Carolina - Holling...        Charleston   \n",
        "222658               Medical University of South Carolina        Charleston   \n",
        "225796               Medical University of South Carolina        Charleston   \n",
        "226906               Medical University of South Carolina        Charleston   \n",
        "235144               Medical University of South Carolina        Charleston   \n",
        "236184               Medical University of South Carolina        Charleston   \n",
        "238000               Medical University of South Carolina        Charleston   \n",
        "239460               Medical University of South Carolina        Charleston   \n",
        "239689               Medical University of South Carolina        Charleston   \n",
        "240228               Medical University of South Carolina        Charleston   \n",
        "240405  Medical University of South Carolina, Hollings...        Charleston   \n",
        "240631               Medical University of South Carolina        Charleston   \n",
        "242608               Medical University of South Carolina        Charleston   \n",
        "243346               Medical University of South Carolina        Charleston   \n",
        "243999               Medical University of South Carolina        Charleston   \n",
        "245884               Medical University of South Carolina        Charleston   \n",
        "247656               Medical University of South Carolina        Charleston   \n",
        "248159               Medical University of South Carolina        Charleston   \n",
        "248292               Medical University of South Carolina        Charleston   \n",
        "252332               Medical University of South Carolina        Charleston   \n",
        "252335               Medical University of South Carolina        Charleston   \n",
        "252786  Medical University of South Carolina, Storm Ey...        Charleston   \n",
        "253195               Medical University of South Carolina        Charleston   \n",
        "253342               Medical University of South Carolina        Charleston   \n",
        "253503               Medical University of South Carolina        Charleston   \n",
        "254226        Medical Universtiy of South Carolina (MUSC)        Charleston   \n",
        "254641               Medical University of South Carolina        Charleston   \n",
        "259298               Medical University of South Carolina        Charleston   \n",
        "260885               Medical University of South Carolina        Charleston   \n",
        "261157  Medical University of South Carolina Hollings ...        Charleston   \n",
        "262436               Medical University of South Carolina        Charleston   \n",
        "264354               Medical University of South Carolina        Charleston   \n",
        "264683               Medical University of South Carolina        Charleston   \n",
        "266066               Medical University of South Carolina        Charleston   \n",
        "266688               Medical University of South Carolina        Charleston   \n",
        "267456               Medical University of South Carolina        Charleston   \n",
        "270898  Medical University Of South Carolina Hollings ...        Charleston   \n",
        "271439               Medical University of South Carolina        Charleston   \n",
        "273070               Medical University of South Carolina  North Charleston   \n",
        "273239               Medical University of South Carolina        Charleston   \n",
        "275777  Medical University of South Carolina -Hollings...        Charleston   \n",
        "276252               Medical University of South Carolina        Charleston   \n",
        "277760                Medical University of South Caolina        Charleston   \n",
        "278400               Medical University of South Carolina        Charleston   \n",
        "279492               Medical University of South Carolina        Charleston   \n",
        "281257               Medical University of South Carolina        Charleston   \n",
        "283035               Medical University of South Carolina        Charleston   \n",
        "284111               Medical University of South Carolina        Charleston   \n",
        "284373               Medical University of South Carolina        Charleston   \n",
        "284374               Medical University of South Carolina        Charleston   \n",
        "284605          Medical University of South Carolina MUSC        Charleston   \n",
        "285301               Medical University of South Carolina        Charleston   \n",
        "285878               Medical University of South Carolina        Charleston   \n",
        "291134               Medical University of South Carolina        Charleston   \n",
        "291697               Medical University of South Carolina        Charleston   \n",
        "292131               Medical University of South Carolina        Charleston   \n",
        "292822               Medical University of South Carolina        Charleston   \n",
        "294459               Medical University of South Carolina        Charleston   \n",
        "296793                     Medical Univ of South Carolina        Charleston   \n",
        "298344               Medical University of South Carolina        Charleston   \n",
        "299788           The Medical University of South Carolina        Charleston   \n",
        "303768               Medical University of South Carolina        Charleston   \n",
        "304568               Medical University of South Carolina        Charleston   \n",
        "308041               Medical University of South Carolina        Charleston   \n",
        "310483  Medical University of South Carolina -Hollings...        Charleston   \n",
        "311010               Medical University of South Carolina        Charleston   \n",
        "312329               Medical University of South Carolina        Charleston   \n",
        "312868               Medical University of South Carolina        Charleston   \n",
        "313306               Medical University of South Carolina        Charleston   \n",
        "314735               Medical University of South Carolina        Charleston   \n",
        "319985               Medical University of South Carolina        Charleston   \n",
        "320772               Medical University of South Carolina        Charleston   \n",
        "320904          Medical University of South Carolina MUSC        Charleston   \n",
        "322463                           Medical University of SC        Charleston   \n",
        "324255               Medical University of South Carolina        Charleston   \n",
        "326030               Medical University of South Carolina        Charleston   \n",
        "326938               Medical University of South Carolina        Charleston   \n",
        "327532  Medical College of South Carolina-Hollings Can...        Charleston   \n",
        "328778               Medical University of South Carolina        Charleston   \n",
        "335319               Medical University of South Carolina        Charleston   \n",
        "336222  Medical University of South Carolina, Pulmonar...        Charleston   \n",
        "336420               Medical University of South Carolina        Charleston   \n",
        "340401               Medical University of South Carolina        Charleston   \n",
        "341169           The Medical University of South Carolina        Charleston   \n",
        "341228               Medical University of South Carolina        Charleston   \n",
        "341797               Medical University of South Carolina        Charleston   \n",
        "343128               Medical University of South Carolina        Charleston   \n",
        "344727               Medical University of South Carolina        Charleston   \n",
        "345805               Medical University of South Carolina        Charleston   \n",
        "347996        Medical University of South Carolina (MUSC)        Charleston   \n",
        "348604               Medical University of South Carolina        Charleston   \n",
        "352918               Medical University of South Carolina        Charleston   \n",
        "352921  Medical University of South Carolina, Dept of ...        Charleston   \n",
        "353669               Medical University of South Carolina        Charleston   \n",
        "355802               Medical University of South Carolina        Charleston   \n",
        "357351               Medical University of South Carolina        Charleston   \n",
        "357876               Medical University of South Carolina        Charleston   \n",
        "359190               Medical University of South Carolina        Charleston   \n",
        "359540               Medical University of South Carolina        Charleston   \n",
        "362587               Medical University of South Carolina  North Charleston   \n",
        "363115               Medical University of South Carolina        Charleston   \n",
        "363691  Medical University of South Carolina - Digesti...        Charleston   \n",
        "363928               Medical University of South Carolina        Charleston   \n",
        "365215               Medical University of South Carolina        Charleston   \n",
        "365441               Medical University of South Carolina        Charleston   \n",
        "365647               Medical University of South Carolina        Charleston   \n",
        "365802               Medical University of South Carolina        Charleston   \n",
        "367999               Medical University of South Carolina        Charleston   \n",
        "369669               Medical University of South Carolina        Charleston   \n",
        "375578               Medical University of South Carolina        Charleston   \n",
        "375668               Medical University of South Carolina  North Charleston   \n",
        "377725               Medical University of South Carolina        Charleston   \n",
        "378458               Medical University of South Carolina        Charleston   \n",
        "378501               Medical University of South Carolina        Charleston   \n",
        "379771               Medical University of South Carolina        Charleston   \n",
        "380669               Medical University of South Carolina        Charleston   \n",
        "382502               Medical University of South Carolina        Charleston   \n",
        "385302               Medical University of South Carolina        Charleston   \n",
        "387056               Medical University of South Carolina        Charleston   \n",
        "388331               Medical University of South Carolina        Charleston   \n",
        "389048               Medical University of South Carolina        Charleston   \n",
        "392670               Medical University of South Carolina        Charleston   \n",
        "393253               Medical University of South Carolina        Charleston   \n",
        "398414               Medical University of South Carolina        Charleston   \n",
        "398477               Medical University of South Carolina        Charleston   \n",
        "398705               Medical University of South Carolina        Charleston   \n",
        "399214               Medical University of South Carolina        Charleston   \n",
        "403154               Medical University of South Carolina        Charleston   \n",
        "403688               Medical University of South Carolina        Charleston   \n",
        "403712               Medical University of South Carolina        Charleston   \n",
        "403844               Medical University of South Carolina        Charleston   \n",
        "405207  Medical University of South Carolina, Alzheime...  North Charleston   \n",
        "405930               Medical University of South Carolina        Charleston   \n",
        "406246               Medical University of South Carolina  North Charleston   \n",
        "406443               Medical University of South Carolina        Charleston   \n",
        "406542               Medical University of South Carolina        Charleston   \n",
        "406595               Medical University of South Carolina        Charleston   \n",
        "407255                         Medical University of S.C.        Charleston   \n",
        "407803               Medical University of South Carolina        Charleston   \n",
        "409397               Medical University of South Carolina        Charleston   \n",
        "411283               Medical University of South Carolina        Charleston   \n",
        "412249               Medical University of South Carolina        Charleston   \n",
        "413017          Medical University of Southern California        Charleston   \n",
        "414579               Medical University of South Carolina        Charleston   \n",
        "416693               Medical University of South Carolina        Charleston   \n",
        "419140               Medical University of South Carolina        Charleston   \n",
        "422475               Medical University of South Carolina        Charleston   \n",
        "423307               Medical University of South Carolina        Charleston   \n",
        "424351        Medical University of South Carolina (MUSC)        Charleston   \n",
        "424447               Medical University of South Carolina        Charleston   \n",
        "424600               Medical University of South Carolina        Charleston   \n",
        "425276               Medical University of South Carolina        Charleston   \n",
        "429535               Medical University of South Carolina        Charleston   \n",
        "429733               Medical University of South Carolina        Charleston   \n",
        "432846               Medical University of South Carolina  North Charleston   \n",
        "433251  Medical University of South Carolina Alzheimer...  North Charleston   \n",
        "434096               Medical University of South Carolina        Charleston   \n",
        "434716               Medical University of South Carolina        Charleston   \n",
        "434868                           Medical University of SC        Charleston   \n",
        "435204               Medical University of South Carolina        Charleston   \n",
        "435502               Medical University of South Carolina        Charleston   \n",
        "438840               Medical University of South Carolina        Charleston   \n",
        "439075               Medical University of South Carolina        Charleston   \n",
        "441405           The Medical University of South Carolina        Charleston   \n",
        "442837  Medical University of South Carolina, 96 Jonat...        Charleston   \n",
        "447783               Medical University of South Carolina        Charleston   \n",
        "448084               Medical University of South Carolina        Charleston   \n",
        "448251               Medical University of South Carolina        Charleston   \n",
        "448769               Medical University of South Carolina        Charleston   \n",
        "449017               Medical University of South Carolina        Charleston   \n",
        "449569               Medical University of South Carolina        Charleston   \n",
        "453224               Medical University of South Carolina        Charleston   \n",
        "454626  Medical University of South Carolina - Center ...        Charleston   \n",
        "454671               Medical University of South Carolina        Charleston   \n",
        "457778               Medical University of South Carolina        Charleston   \n",
        "462243               Medical University of South Carolina        Charleston   \n",
        "464974  Medical University South Carolina Hospitals an...        Charleston   \n",
        "465817               Medical University of South Carolina        Charleston   \n",
        "467204               Medical University of South Carolina        Charleston   \n",
        "467924               Medical University of South Carolina        Charleston   \n",
        "468334               Medical University of South Carolina        Charleston   \n",
        "468728               Medical University of South Carolina        Charleston   \n",
        "470061               Medical University of South Carolina        Charleston   \n",
        "475418               Medical University of South Carolina        Charleston   \n",
        "476015               Medical University of South Carolina        Charleston   \n",
        "485826               Medical University of South Carolina        Charleston   \n",
        "487626  Medical University of South Carolina, Center f...        Charleston   \n",
        "487992               Medical University of South Carolina        Charleston   \n",
        "488500               Medical University of South Carolina        Charleston   \n",
        "490109                           Medical University of SC        Charleston   \n",
        "490120               Medical University of South Carolina        Charleston   \n",
        "490441               Medical University of South Carolina        Charleston   \n",
        "490525         Medical University of South Carolina, GCRC        Charleston   \n",
        "492910               Medical University of South Carolina        Charleston   \n",
        "493555               Medical University of South Carolina        Charleston   \n",
        "495407               Medical University of South Carolina        Charleston   \n",
        "496009               Medical University of South Carolina        Charleston   \n",
        "499760               Medical University of South Carolina        Charleston   \n",
        "505913  Medical University of South Carolina, Institut...        Charleston   \n",
        "506680               Medical University of South Carolina        Charleston   \n",
        "507722               Medical University of South Carolina        Charleston   \n",
        "509249               Medical University of South Carolina        Charleston   \n",
        "509956               Medical University of South Carolina        Charleston   \n",
        "510756  The Medical University of South Carolina Depar...        Charleston   \n",
        "514389               Medical University of South Carolina        Charleston   \n",
        "515289               Medical University of South Carolina        Charleston   \n",
        "520581               Medical University of South Carolina        Charleston   \n",
        "523036        Medical University of South Carolina (MUSC)        Charleston   \n",
        "523552               Medical University of South Carolina        Charleston   \n",
        "523940               Medical University of South Carolina        Charleston   \n",
        "526205               Medical University of South Carolina        Charleston   \n",
        "526526               Medical University of South Carolina        Charleston   \n",
        "527583               Medical University of South Carolina        Charleston   \n",
        "528228               Medical University Of South Carolina        Charleston   \n",
        "528430               Medical University of South Carolina        Charleston   \n",
        "531113               Medical University of South Carolina        Charleston   \n",
        "531204               Medical University of South Carolina        Charleston   \n",
        "531354               Medical University of South Carolina        Charleston   \n",
        "531425               Medical University of South Carolina        Charleston   \n",
        "531918               Medical University of South Carolina        Charleston   \n",
        "533867               Medical University of South Carolina        Charleston   \n",
        "534505               Medical University of South Carolina        Charleston   \n",
        "534817               Medical University of South Carolina        Charleston   \n",
        "535217               Medical University of South Carolina        Charleston   \n",
        "535285               Medical University of South Carolina        Charleston   \n",
        "538592               Medical University of South Carolina        Charleston   \n",
        "539078                    Medical University of SC (MUSC)        Charleston   \n",
        "542279               Medical University of South Carolina        Charleston   \n",
        "543554               Medical University of South Carolina        Charleston   \n",
        "545010               Medical University of South Carolina        Charleston   \n",
        "545851               Medical University of South Carolina        Charleston   \n",
        "546078               Medical University of South Carolina        Charleston   \n",
        "546103                        Medical University of South        Charleston   \n",
        "546252               Medical University of South Carolina        Charleston   \n",
        "546885               Medical University of South Carolina        Charleston   \n",
        "546886        Medical University of South Carolina (MUSC)        Charleston   \n",
        "547981               Medical University of South Carolina        Charleston   \n",
        "548182               Medical University of South Carolina        Charleston   \n",
        "548191               Medical University of South Carolina        Charleston   \n",
        "548451               Medical University of South Carolina        Charleston   \n",
        "548749               Medical University of South Carolina        Charleston   \n",
        "549529               Medical University of South Carolina        Charleston   \n",
        "552401               Medical University of South Carolina        Charleston   \n",
        "553608               Medical University of South Carolina        Charleston   \n",
        "556854               Medical University of South Carolina        Charleston   \n",
        "558210               Medical University of South Carolina        Charleston   \n",
        "559059               Medical University of South Carolina        Charleston   \n",
        "561816               Medical University of South Carolina        Charleston   \n",
        "562323               Medical University of South Carolina        Charleston   \n",
        "562358               Medical University of South Carolina        Charleston   \n",
        "563482  Medical University of South Carolina Hollings ...        Charleston   \n",
        "563594               Medical University of South Carolina        Charleston   \n",
        "564243               Medical University of South Carolina        Charleston   \n",
        "564869                           Medical University of SC        Charleston   \n",
        "566343               Medical University of South Carolina        Charleston   \n",
        "566400               Medical University of South Carolina        Charleston   \n",
        "566599               Medical University of South Carolina        Charleston   \n",
        "567487               Medical University of South Carolina        Charleston   \n",
        "567721               Medical University of South Carolina        Charleston   \n",
        "573739               Medical University of South Carolina        Charleston   \n",
        "579146               Medical University of South Carolina        Charleston   \n",
        "580673                           Medical University of SC        Charleston   \n",
        "580766               Medical University of South Carolina        Charleston   \n",
        "582121               Medical University of South Carolina        Charleston   \n",
        "583981               Medical University of South Carolina        Charleston   \n",
        "584748               Medical University of South Carolina        Charleston   \n",
        "588674               Medical University of South Carolina  North Charleston   \n",
        "589060               Medical University of South Carolina        Charleston   \n",
        "589114               Medical University of South Carolina        Charleston   \n",
        "589961               Medical University of South Carolina        Charleston   \n",
        "590417               Medical University of South Carolina        Charleston   \n",
        "590509               Medical University of South Carolina        Charleston   \n",
        "591670               Medical University of South Carolina        Charleston   \n",
        "593339               Medical University of South Carolina        Charleston   \n",
        "593412               Medical University of South Carolina        Charleston   \n",
        "593925               Medical University of South Carolina        Charleston   \n",
        "597373               Medical University of South Carolina        Charleston   \n",
        "599961               Medical University of South Carolina        Charleston   \n",
        "602289               Medical University of South Carolina        Charleston   \n",
        "604195               Medical University of South Carolina        Charleston   \n",
        "606078               Medical University of South Carolina        Charleston   \n",
        "606674               Medical University of South Carolina        Charleston   \n",
        "607428               Medical University of South Carolina        Charleston   \n",
        "608947               Medical University of South Carolina        Charleston   \n",
        "609582               Medical Universtiy of South Carolina        Charleston   \n",
        "610259               Medical University of South Carolina        Charleston   \n",
        "610361                     Medical Univ of South Carolina        Charleston   \n",
        "610362               Medical University of South Carolina        Charleston   \n",
        "614882               Medical University of South Carolina        Charleston   \n",
        "615336               Medical University Of South Carolina        Charleston   \n",
        "615728  Medical University of South Carolina, 171 Ashl...        Charleston   \n",
        "616795               Medical University of South Carolina        Charleston   \n",
        "617280               Medical University of South Carolina        Charleston   \n",
        "620371               Medical University of South Carolina  North Charleston   \n",
        "620573               Medical University of South Carolina        Charleston   \n",
        "621843               Medical University of South Carolina        Charleston   \n",
        "624162               Medical University of South Carolina        Charleston   \n",
        "631887               Medical University of South Carolina        Charleston   \n",
        "632156  Medical University of South Carolina, Departme...        Charleston   \n",
        "633938               Medical University of South Carolina        Charleston   \n",
        "634278               Medical University of South Carolina        Charleston   \n",
        "636499               Medical University of South Carolina        Charleston   \n",
        "637066               Medical University of South Carolina        Charleston   \n",
        "637469               Medical University of South Carolina        Charleston   \n",
        "638447               Medical University of South Carolina        Charleston   \n",
        "639989                     Medical Univ of South Carolina        Charleston   \n",
        "641301               Medical University of South Carolina        Charleston   \n",
        "642854               Medical University of South Carolina        Charleston   \n",
        "647030               Medical University of South Carolina        Charleston   \n",
        "647760               Medical University of South Carolina        Charleston   \n",
        "648002               Medical University of South Carolina        Charleston   \n",
        "648415               Medical University of South Carolina        Charleston   \n",
        "648757               Medical University of South Carolina        Charleston   \n",
        "649533               Medical University of South Carolina        Charleston   \n",
        "652313               Medical University of South Carolina  North Charleston   \n",
        "656383               Medical University Of South Carolina        Charleston   \n",
        "657037               Medical University Of South Carolina        Charleston   \n",
        "659913               Medical University of South Carolina        Charleston   \n",
        "660531               Medical University of South Carolina        Charleston   \n",
        "660554               Medical University of South Carolina        Charleston   \n",
        "661085               Medical University of South Carolina        Charleston   \n",
        "663339               Medical University of South Carolina        Charleston   \n",
        "665439               Medical University of South Carolina        Charleston   \n",
        "669244               Medical University of South Carolina        Charleston   \n",
        "670017               Medical University Of South Carolina        Charleston   \n",
        "                                                      ...               ...   \n",
        "\n",
        "                 state     zipcode        country  cluster  \n",
        "72      South Carolina              United States    12439  \n",
        "2948    South Carolina       29425  United States    12439  \n",
        "3870    South Carolina       29425  United States    12439  \n",
        "4001    South Carolina       29425  United States    12439  \n",
        "5026    South Carolina       29425  United States    12439  \n",
        "5372    South Carolina       29425  United States    12439  \n",
        "5702    South Carolina       29425  United States    12439  \n",
        "6372    South Carolina       29425  United States    12439  \n",
        "9274    South Carolina       29425  United States    12439  \n",
        "9311    South Carolina       29425  United States    12439  \n",
        "10667   South Carolina       29425  United States    12439  \n",
        "10915   South Carolina       29425  United States    12439  \n",
        "10916   South Carolina       29425  United States    12439  \n",
        "10917   South Carolina  29425-8750  United States    12439  \n",
        "10918   South Carolina       29425  United States    12439  \n",
        "12369   South Carolina       29425  United States    12439  \n",
        "14042   South Carolina       29425  United States    12439  \n",
        "16186   South Carolina       29425  United States    12439  \n",
        "17048   South Carolina       29425  United States    12439  \n",
        "18030   South Carolina       29425  United States    12439  \n",
        "18096   South Carolina       29425  United States    12439  \n",
        "20789   South Carolina       29425  United States    12439  \n",
        "22423   South Carolina       29425  United States    12439  \n",
        "23486   South Carolina       29425  United States    12439  \n",
        "24422   South Carolina       29425  United States    12439  \n",
        "33670   South Carolina       29425  United States    12439  \n",
        "35041   South Carolina       29425  United States    12439  \n",
        "37018   South Carolina              United States    12439  \n",
        "38109   South Carolina       29425  United States    12439  \n",
        "38456   South Carolina       29425  United States    12439  \n",
        "38457   South Carolina       29425  United States    12439  \n",
        "38550   South Carolina       29425  United States    12439  \n",
        "39504   South Carolina       29425  United States    12439  \n",
        "39670   South Carolina       29403  United States    12439  \n",
        "39682   South Carolina       29425  United States    12439  \n",
        "41349   South Carolina       29425  United States    12439  \n",
        "41562   South Carolina       29425  United States    12439  \n",
        "43027   South Carolina       29425  United States    12439  \n",
        "43775   South Carolina       29425  United States    12439  \n",
        "44560   South Carolina       29403  United States    12439  \n",
        "46384   South Carolina       29425  United States    12439  \n",
        "47912   South Carolina       29425  United States    12439  \n",
        "49333   South Carolina       29406  United States    12439  \n",
        "49507   South Carolina       29425  United States    12439  \n",
        "51414   South Carolina  29425-0721  United States    12439  \n",
        "51857   South Carolina       29425  United States    12439  \n",
        "54428   South Carolina       29425  United States    12439  \n",
        "54662   South Carolina       29466  United States    12439  \n",
        "55972   South Carolina       29425  United States    12439  \n",
        "56440   South Carolina       29425  United States    12439  \n",
        "57225   South Carolina       29401  United States    12439  \n",
        "58055   South Carolina       29406  United States    12439  \n",
        "58516   South Carolina       29406  United States    12439  \n",
        "61467   South Carolina       29425  United States    12439  \n",
        "62924   South Carolina       29425  United States    12439  \n",
        "67313   South Carolina       29425  United States    12439  \n",
        "67652   South Carolina       29425  United States    12439  \n",
        "69114   South Carolina       29425  United States    12439  \n",
        "69382   South Carolina       29412  United States    12439  \n",
        "72046   South Carolina       29425  United States    12439  \n",
        "73095   South Carolina       29425  United States    12439  \n",
        "75659   South Carolina       29425  United States    12439  \n",
        "77886   South Carolina       29425  United States    12439  \n",
        "79517   South Carolina  29425-8905  United States    12439  \n",
        "79816   South Carolina       29425  United States    12439  \n",
        "82074   South Carolina       29425  United States    12439  \n",
        "83169   South Carolina       29425  United States    12439  \n",
        "83740   South Carolina       29425  United States    12439  \n",
        "85052   South Carolina       29425  United States    12439  \n",
        "85788   South Carolina       29425  United States    12439  \n",
        "86218   South Carolina       29425  United States    12439  \n",
        "86365   South Carolina       29425  United States    12439  \n",
        "87070   South Carolina       29425  United States    12439  \n",
        "89163   South Carolina       29425  United States    12439  \n",
        "90072   South Carolina       29406  United States    12439  \n",
        "90128   South Carolina       29425  United States    12439  \n",
        "90622   South Carolina       29425  United States    12439  \n",
        "94090   South Carolina       29406  United States    12439  \n",
        "96857   South Carolina       29403  United States    12439  \n",
        "104184  South Carolina       29425  United States    12439  \n",
        "104707  South Carolina       29425  United States    12439  \n",
        "104907  South Carolina       29425  United States    12439  \n",
        "104908  South Carolina       29425  United States    12439  \n",
        "105728  South Carolina       29403  United States    12439  \n",
        "108011  South Carolina       29425  United States    12439  \n",
        "108161  South Carolina       29401  United States    12439  \n",
        "108574  South Carolina       29425  United States    12439  \n",
        "110536  South Carolina       29403  United States    12439  \n",
        "111430  South Carolina       29425  United States    12439  \n",
        "113280  South Carolina       29425  United States    12439  \n",
        "113453  South Carolina       29425  United States    12439  \n",
        "114753  South Carolina       29425  United States    12439  \n",
        "116438  South Carolina       29425  United States    12439  \n",
        "123431  South Carolina       29425  United States    12439  \n",
        "123772  South Carolina       29425  United States    12439  \n",
        "124527  South Carolina       29425  United States    12439  \n",
        "126706  South Carolina       29425  United States    12439  \n",
        "127040  South Carolina       29425  United States    12439  \n",
        "128290  South Carolina  29425-0721  United States    12439  \n",
        "130619  South Carolina       29425  United States    12439  \n",
        "130680  South Carolina       29425  United States    12439  \n",
        "134670  South Carolina       29425  United States    12439  \n",
        "135901  South Carolina       29401  United States    12439  \n",
        "135995  South Carolina       29403  United States    12439  \n",
        "136248  South Carolina       29425  United States    12439  \n",
        "137245  South Carolina       29425  United States    12439  \n",
        "138477  South Carolina       29425  United States    12439  \n",
        "139248  South Carolina       29425  United States    12439  \n",
        "139700  South Carolina       29406  United States    12439  \n",
        "141980  South Carolina       29425  United States    12439  \n",
        "143410  South Carolina       29425  United States    12439  \n",
        "144044  South Carolina       29425  United States    12439  \n",
        "144270  South Carolina       29425  United States    12439  \n",
        "145779  South Carolina       29425  United States    12439  \n",
        "148821  South Carolina       29466  United States    12439  \n",
        "149914  South Carolina       29425  United States    12439  \n",
        "150613  South Carolina       29425  United States    12439  \n",
        "150966  South Carolina       29425  United States    12439  \n",
        "151428  South Carolina       29425  United States    12439  \n",
        "152340  South Carolina       29425  United States    12439  \n",
        "154488  South Carolina       29403  United States    12439  \n",
        "155209  South Carolina       29425  United States    12439  \n",
        "155554  South Carolina       29425  United States    12439  \n",
        "155658  South Carolina       29425  United States    12439  \n",
        "157404  South Carolina       29425  United States    12439  \n",
        "158630  South Carolina  29425-6300  United States    12439  \n",
        "159059  South Carolina       29425  United States    12439  \n",
        "159061  South Carolina       29403  United States    12439  \n",
        "165556  South Carolina       29425  United States    12439  \n",
        "166398  South Carolina       29412  United States    12439  \n",
        "170454  South Carolina       29425  United States    12439  \n",
        "171130  South Carolina       29425  United States    12439  \n",
        "171631  South Carolina       29425  United States    12439  \n",
        "173017  South Carolina       29425  United States    12439  \n",
        "174098  South Carolina       29425  United States    12439  \n",
        "175459  South Carolina       29414  United States    12439  \n",
        "181466  South Carolina       29425  United States    12439  \n",
        "181532  South Carolina       29425  United States    12439  \n",
        "181790  South Carolina       29425  United States    12439  \n",
        "182766  South Carolina       29425  United States    12439  \n",
        "184994  South Carolina       29425  United States    12439  \n",
        "185319  South Carolina       29542  United States    12439  \n",
        "185682  South Carolina       29542  United States    12439  \n",
        "186295  South Carolina       29403  United States    12439  \n",
        "186781  South Carolina              United States    12439  \n",
        "187229  South Carolina       29425  United States    12439  \n",
        "189024  South Carolina       29403  United States    12439  \n",
        "189129  South Carolina              United States    12439  \n",
        "190121  South Carolina       29425  United States    12439  \n",
        "191015  South Carolina       29425  United States    12439  \n",
        "192285  South Carolina       29425  United States    12439  \n",
        "193310  South Carolina              United States    12439  \n",
        "193798  South Carolina       29425  United States    12439  \n",
        "194698  South Carolina       29406  United States    12439  \n",
        "195812  South Carolina       29425  United States    12439  \n",
        "196124  South Carolina       29425  United States    12439  \n",
        "196223  South Carolina              United States    12439  \n",
        "196977  South Carolina       29425  United States    12439  \n",
        "197137  South Carolina       29425  United States    12439  \n",
        "197354  South Carolina       29425  United States    12439  \n",
        "197356  South Carolina       29425  United States    12439  \n",
        "197509  South Carolina       29425  United States    12439  \n",
        "197831  South Carolina       29425  United States    12439  \n",
        "198725  South Carolina       29425  United States    12439  \n",
        "203114  South Carolina       29425  United States    12439  \n",
        "203821  South Carolina       29425  United States    12439  \n",
        "205420  South Carolina       29425  United States    12439  \n",
        "207084  South Carolina       29435  United States    12439  \n",
        "208131  South Carolina       29425  United States    12439  \n",
        "208913  South Carolina       29425  United States    12439  \n",
        "210763  South Carolina       29425  United States    12439  \n",
        "213443  South Carolina       29425  United States    12439  \n",
        "213447  South Carolina       29425  United States    12439  \n",
        "214459  South Carolina       29425  United States    12439  \n",
        "216969  South Carolina       29425  United States    12439  \n",
        "219814  South Carolina       29425  United States    12439  \n",
        "222658  South Carolina       29415  United States    12439  \n",
        "225796  South Carolina       29425  United States    12439  \n",
        "226906  South Carolina       29425  United States    12439  \n",
        "235144  South Carolina       29425  United States    12439  \n",
        "236184  South Carolina       29425  United States    12439  \n",
        "238000  South Carolina       29406  United States    12439  \n",
        "239460  South Carolina       29425  United States    12439  \n",
        "239689  South Carolina       29425  United States    12439  \n",
        "240228  South Carolina       29425  United States    12439  \n",
        "240405  South Carolina       29425  United States    12439  \n",
        "240631  South Carolina       29425  United States    12439  \n",
        "242608  South Carolina       29425  United States    12439  \n",
        "243346  South Carolina       29425  United States    12439  \n",
        "243999  South Carolina       29403  United States    12439  \n",
        "245884  South Carolina       29425  United States    12439  \n",
        "247656  South Carolina       29425  United States    12439  \n",
        "248159  South Carolina       29425  United States    12439  \n",
        "248292  South Carolina       29425  United States    12439  \n",
        "252332  South Carolina       29425  United States    12439  \n",
        "252335  South Carolina       29425  United States    12439  \n",
        "252786  South Carolina       29425  United States    12439  \n",
        "253195  South Carolina       29425  United States    12439  \n",
        "253342  South Carolina       29425  United States    12439  \n",
        "253503  South Carolina       29425  United States    12439  \n",
        "254226  South Carolina       29425  United States    12439  \n",
        "254641  South Carolina       29425  United States    12439  \n",
        "259298  South Carolina       29425  United States    12439  \n",
        "260885  South Carolina       29425  United States    12439  \n",
        "261157  South Carolina       29425  United States    12439  \n",
        "262436  South Carolina       29425  United States    12439  \n",
        "264354  South Carolina       29425  United States    12439  \n",
        "264683  South Carolina       29425  United States    12439  \n",
        "266066  South Carolina       29425  United States    12439  \n",
        "266688  South Carolina       29425  United States    12439  \n",
        "267456  South Carolina       29425  United States    12439  \n",
        "270898  South Carolina       29425  United States    12439  \n",
        "271439  South Carolina       29425  United States    12439  \n",
        "273070  South Carolina  29406-6076  United States    12439  \n",
        "273239  South Carolina       29425  United States    12439  \n",
        "275777  South Carolina       29425  United States    12439  \n",
        "276252  South Carolina       29425  United States    12439  \n",
        "277760  South Carolina       29425  United States    12439  \n",
        "278400  South Carolina       29425  United States    12439  \n",
        "279492  South Carolina       29425  United States    12439  \n",
        "281257  South Carolina       29425  United States    12439  \n",
        "283035  South Carolina       29412  United States    12439  \n",
        "284111  South Carolina       29425  United States    12439  \n",
        "284373  South Carolina       29425  United States    12439  \n",
        "284374  South Carolina       29461  United States    12439  \n",
        "284605  South Carolina       29425  United States    12439  \n",
        "285301  South Carolina       29425  United States    12439  \n",
        "285878  South Carolina       29425  United States    12439  \n",
        "291134  South Carolina       29425  United States    12439  \n",
        "291697  South Carolina       29425  United States    12439  \n",
        "292131  South Carolina       29401  United States    12439  \n",
        "292822  South Carolina       29425  United States    12439  \n",
        "294459  South Carolina              United States    12439  \n",
        "296793  South Carolina       29425  United States    12439  \n",
        "298344  South Carolina       29425  United States    12439  \n",
        "299788  South Carolina       29425  United States    12439  \n",
        "303768  South Carolina       29425  United States    12439  \n",
        "304568  South Carolina       29425  United States    12439  \n",
        "308041  South Carolina       29425  United States    12439  \n",
        "310483  South Carolina       29425  United States    12439  \n",
        "311010  South Carolina       29425  United States    12439  \n",
        "312329  South Carolina       29425  United States    12439  \n",
        "312868  South Carolina       29425  United States    12439  \n",
        "313306  South Carolina       29425  United States    12439  \n",
        "314735  South Carolina       29425  United States    12439  \n",
        "319985  South Carolina              United States    12439  \n",
        "320772  South Carolina       29425  United States    12439  \n",
        "320904  South Carolina       29425  United States    12439  \n",
        "322463  South Carolina   294258908  United States    12439  \n",
        "324255  South Carolina       29425  United States    12439  \n",
        "326030  South Carolina       29425  United States    12439  \n",
        "326938  South Carolina       29425  United States    12439  \n",
        "327532  South Carolina       29425  United States    12439  \n",
        "328778  South Carolina       29425  United States    12439  \n",
        "335319  South Carolina       29425  United States    12439  \n",
        "336222  South Carolina       29425  United States    12439  \n",
        "336420  South Carolina  29425-0721  United States    12439  \n",
        "340401  South Carolina              United States    12439  \n",
        "341169  South Carolina       29425  United States    12439  \n",
        "341228  South Carolina  29425-0721  United States    12439  \n",
        "341797  South Carolina       29425  United States    12439  \n",
        "343128  South Carolina       29425  United States    12439  \n",
        "344727  South Carolina       29425  United States    12439  \n",
        "345805  South Carolina  29425-0721  United States    12439  \n",
        "347996  South Carolina       29425  United States    12439  \n",
        "348604  South Carolina  29425-9170  United States    12439  \n",
        "352918  South Carolina       29425  United States    12439  \n",
        "352921  South Carolina       29425  United States    12439  \n",
        "353669  South Carolina       29425  United States    12439  \n",
        "355802  South Carolina  29425-0721  United States    12439  \n",
        "357351  South Carolina       29401  United States    12439  \n",
        "357876  South Carolina  29425-0721  United States    12439  \n",
        "359190  South Carolina       29425  United States    12439  \n",
        "359540  South Carolina       29425  United States    12439  \n",
        "362587  South Carolina       29406  United States    12439  \n",
        "363115  South Carolina  29425-0721  United States    12439  \n",
        "363691  South Carolina       29425  United States    12439  \n",
        "363928  South Carolina       29425  United States    12439  \n",
        "365215  South Carolina  29425-0721  United States    12439  \n",
        "365441  South Carolina       29425  United States    12439  \n",
        "365647  South Carolina       29425  United States    12439  \n",
        "365802  South Carolina       29425  United States    12439  \n",
        "367999  South Carolina       29425  United States    12439  \n",
        "369669  South Carolina       29425  United States    12439  \n",
        "375578  South Carolina  29425-0721  United States    12439  \n",
        "375668  South Carolina       29406  United States    12439  \n",
        "377725  South Carolina       29425  United States    12439  \n",
        "378458  South Carolina  29425-0721  United States    12439  \n",
        "378501  South Carolina       29425  United States    12439  \n",
        "379771  South Carolina       29425  United States    12439  \n",
        "380669  South Carolina  29425-0721  United States    12439  \n",
        "382502  South Carolina  29425-0721  United States    12439  \n",
        "385302  South Carolina       29425  United States    12439  \n",
        "387056  South Carolina       29425  United States    12439  \n",
        "388331  South Carolina       29425  United States    12439  \n",
        "389048  South Carolina       29425  United States    12439  \n",
        "392670  South Carolina  29425-0721  United States    12439  \n",
        "393253  South Carolina  29425-0721  United States    12439  \n",
        "398414  South Carolina       29406  United States    12439  \n",
        "398477  South Carolina       29406  United States    12439  \n",
        "398705  South Carolina       29425  United States    12439  \n",
        "399214  South Carolina  29425-0721  United States    12439  \n",
        "403154  South Carolina              United States    12439  \n",
        "403688  South Carolina  29425-0721  United States    12439  \n",
        "403712  South Carolina  29425-0721  United States    12439  \n",
        "403844  South Carolina       29425  United States    12439  \n",
        "405207  South Carolina       29406  United States    12439  \n",
        "405930  South Carolina       29425  United States    12439  \n",
        "406246  South Carolina       29406  United States    12439  \n",
        "406443  South Carolina       29425  United States    12439  \n",
        "406542  South Carolina  29425-0721  United States    12439  \n",
        "406595  South Carolina  29425-0721  United States    12439  \n",
        "407255  South Carolina       29425  United States    12439  \n",
        "407803  South Carolina  29425-0721  United States    12439  \n",
        "409397  South Carolina       29425  United States    12439  \n",
        "411283  South Carolina       29425  United States    12439  \n",
        "412249  South Carolina              United States    12439  \n",
        "413017  South Carolina       29401  United States    12439  \n",
        "414579  South Carolina       29425  United States    12439  \n",
        "416693  South Carolina  29425-0721  United States    12439  \n",
        "419140  South Carolina  29425-0721  United States    12439  \n",
        "422475  South Carolina       29403  United States    12439  \n",
        "423307  South Carolina              United States    12439  \n",
        "424351  South Carolina       29425  United States    12439  \n",
        "424447  South Carolina       29425  United States    12439  \n",
        "424600  South Carolina       29425  United States    12439  \n",
        "425276  South Carolina  29425-0721  United States    12439  \n",
        "429535  South Carolina       29425  United States    12439  \n",
        "429733  South Carolina  29425-0721  United States    12439  \n",
        "432846  South Carolina       29406  United States    12439  \n",
        "433251  South Carolina  29406-6076  United States    12439  \n",
        "434096  South Carolina       29425  United States    12439  \n",
        "434716  South Carolina  29425-0721  United States    12439  \n",
        "434868  South Carolina       29425  United States    12439  \n",
        "435204  South Carolina  29425-0721  United States    12439  \n",
        "435502  South Carolina       29403  United States    12439  \n",
        "438840  South Carolina  29425-0721  United States    12439  \n",
        "439075  South Carolina  29425-0721  United States    12439  \n",
        "441405  South Carolina       29425  United States    12439  \n",
        "442837  South Carolina       29425  United States    12439  \n",
        "447783  South Carolina       29425  United States    12439  \n",
        "448084  South Carolina       29425  United States    12439  \n",
        "448251  South Carolina       29425  United States    12439  \n",
        "448769  South Carolina  29425-2233  United States    12439  \n",
        "449017  South Carolina  29425-0721  United States    12439  \n",
        "449569  South Carolina       29425  United States    12439  \n",
        "453224  South Carolina       29425  United States    12439  \n",
        "454626  South Carolina       29425  United States    12439  \n",
        "454671  South Carolina  29425-0721  United States    12439  \n",
        "457778  South Carolina       29425  United States    12439  \n",
        "462243  South Carolina  29425-0721  United States    12439  \n",
        "464974  South Carolina       29425  United States    12439  \n",
        "465817  South Carolina  29425-0721  United States    12439  \n",
        "467204  South Carolina       29425  United States    12439  \n",
        "467924  South Carolina       29425  United States    12439  \n",
        "468334  South Carolina       29425  United States    12439  \n",
        "468728  South Carolina       29425  United States    12439  \n",
        "470061  South Carolina  29425-0721  United States    12439  \n",
        "475418  South Carolina  29425-0721  United States    12439  \n",
        "476015  South Carolina  29425-0721  United States    12439  \n",
        "485826  South Carolina  29425-0721  United States    12439  \n",
        "487626  South Carolina       29425  United States    12439  \n",
        "487992  South Carolina  29425-0721  United States    12439  \n",
        "488500  South Carolina  29425-2236  United States    12439  \n",
        "490109  South Carolina       29466  United States    12439  \n",
        "490120  South Carolina       29425  United States    12439  \n",
        "490441  South Carolina  29425-0721  United States    12439  \n",
        "490525  South Carolina       29425  United States    12439  \n",
        "492910  South Carolina  29425-0721  United States    12439  \n",
        "493555  South Carolina       29425  United States    12439  \n",
        "495407  South Carolina  29425-0721  United States    12439  \n",
        "496009  South Carolina  29425-0721  United States    12439  \n",
        "499760  South Carolina       29425  United States    12439  \n",
        "505913  South Carolina       29425  United States    12439  \n",
        "506680  South Carolina       29425  United States    12439  \n",
        "507722  South Carolina  29425-0721  United States    12439  \n",
        "509249  South Carolina       29425  United States    12439  \n",
        "509956  South Carolina       29425  United States    12439  \n",
        "510756  South Carolina  29425-0550  United States    12439  \n",
        "514389  South Carolina  29425-0721  United States    12439  \n",
        "515289  South Carolina  29425-0721  United States    12439  \n",
        "520581  South Carolina  29425-0721  United States    12439  \n",
        "523036  South Carolina       29425  United States    12439  \n",
        "523552  South Carolina  29425-0721  United States    12439  \n",
        "523940  South Carolina       29425  United States    12439  \n",
        "526205  South Carolina       29425  United States    12439  \n",
        "526526  South Carolina       29425  United States    12439  \n",
        "527583  South Carolina       29425  United States    12439  \n",
        "528228  South Carolina       29425  United States    12439  \n",
        "528430  South Carolina  29425-0721  United States    12439  \n",
        "531113  South Carolina       29425  United States    12439  \n",
        "531204  South Carolina  29425-0721  United States    12439  \n",
        "531354  South Carolina  29425-0721  United States    12439  \n",
        "531425  South Carolina              United States    12439  \n",
        "531918  South Carolina  29425-0721  United States    12439  \n",
        "533867  South Carolina       29425  United States    12439  \n",
        "534505  South Carolina       29425  United States    12439  \n",
        "534817  South Carolina       29425  United States    12439  \n",
        "535217  South Carolina  29425-0721  United States    12439  \n",
        "535285  South Carolina       29425  United States    12439  \n",
        "538592  South Carolina  29425-0721  United States    12439  \n",
        "539078  South Carolina       29466  United States    12439  \n",
        "542279  South Carolina  29425-0721  United States    12439  \n",
        "543554  South Carolina  29425-0721  United States    12439  \n",
        "545010  South Carolina       29425  United States    12439  \n",
        "545851  South Carolina       29425  United States    12439  \n",
        "546078  South Carolina       29425  United States    12439  \n",
        "546103  South Carolina       29406  United States    12439  \n",
        "546252  South Carolina       29464  United States    12439  \n",
        "546885  South Carolina  29425-0721  United States    12439  \n",
        "546886  South Carolina       29425  United States    12439  \n",
        "547981  South Carolina  29425-0721  United States    12439  \n",
        "548182  South Carolina       29425  United States    12439  \n",
        "548191  South Carolina       29425  United States    12439  \n",
        "548451  South Carolina       29425  United States    12439  \n",
        "548749  South Carolina       29425  United States    12439  \n",
        "549529  South Carolina  29425-0721  United States    12439  \n",
        "552401  South Carolina  29425-0721  United States    12439  \n",
        "553608  South Carolina       29425  United States    12439  \n",
        "556854  South Carolina  29425-0721  United States    12439  \n",
        "558210  South Carolina  29425-0721  United States    12439  \n",
        "559059  South Carolina       29425  United States    12439  \n",
        "561816  South Carolina  29425-0721  United States    12439  \n",
        "562323  South Carolina  29425-0721  United States    12439  \n",
        "562358  South Carolina  29425-0721  United States    12439  \n",
        "563482  South Carolina       29425  United States    12439  \n",
        "563594  South Carolina       29425  United States    12439  \n",
        "564243  South Carolina       29425  United States    12439  \n",
        "564869  South Carolina       29425  United States    12439  \n",
        "566343  South Carolina  29425-0721  United States    12439  \n",
        "566400  South Carolina  29425-0721  United States    12439  \n",
        "566599  South Carolina  29425-0721  United States    12439  \n",
        "567487  South Carolina       29425  United States    12439  \n",
        "567721  South Carolina       29425  United States    12439  \n",
        "573739  South Carolina  29425-0721  United States    12439  \n",
        "579146  South Carolina  29425-0721  United States    12439  \n",
        "580673  South Carolina       29425  United States    12439  \n",
        "580766  South Carolina              United States    12439  \n",
        "582121  South Carolina  29425-0721  United States    12439  \n",
        "583981  South Carolina       29403  United States    12439  \n",
        "584748  South Carolina       29425  United States    12439  \n",
        "588674  South Carolina       29406  United States    12439  \n",
        "589060  South Carolina       29425  United States    12439  \n",
        "589114  South Carolina       29425  United States    12439  \n",
        "589961  South Carolina       29425  United States    12439  \n",
        "590417  South Carolina       29425  United States    12439  \n",
        "590509  South Carolina       29425  United States    12439  \n",
        "591670  South Carolina       29425  United States    12439  \n",
        "593339  South Carolina       29425  United States    12439  \n",
        "593412  South Carolina       29425  United States    12439  \n",
        "593925  South Carolina  29425-0721  United States    12439  \n",
        "597373  South Carolina  29425-0721  United States    12439  \n",
        "599961  South Carolina       29425  United States    12439  \n",
        "602289  South Carolina  29425-0721  United States    12439  \n",
        "604195  South Carolina       29403  United States    12439  \n",
        "606078  South Carolina  29425-0721  United States    12439  \n",
        "606674  South Carolina       29425  United States    12439  \n",
        "607428  South Carolina       29425  United States    12439  \n",
        "608947  South Carolina       29425  United States    12439  \n",
        "609582  South Carolina       29425  United States    12439  \n",
        "610259  South Carolina  29425-0721  United States    12439  \n",
        "610361  South Carolina       29425  United States    12439  \n",
        "610362  South Carolina       29425  United States    12439  \n",
        "614882  South Carolina              United States    12439  \n",
        "615336  South Carolina       29425  United States    12439  \n",
        "615728  South Carolina       29403  United States    12439  \n",
        "616795  South Carolina       29425  United States    12439  \n",
        "617280  South Carolina  29425-0721  United States    12439  \n",
        "620371  South Carolina       29406  United States    12439  \n",
        "620573  South Carolina       29425  United States    12439  \n",
        "621843  South Carolina       29425  United States    12439  \n",
        "624162  South Carolina  29425-0721  United States    12439  \n",
        "631887  South Carolina  29425-0721  United States    12439  \n",
        "632156  South Carolina       29425  United States    12439  \n",
        "633938  South Carolina       29425  United States    12439  \n",
        "634278  South Carolina       29425  United States    12439  \n",
        "636499  South Carolina      250624  United States    12439  \n",
        "637066  South Carolina       29425  United States    12439  \n",
        "637469  South Carolina  29403-5851  United States    12439  \n",
        "638447  South Carolina  29425-0721  United States    12439  \n",
        "639989  South Carolina       29425  United States    12439  \n",
        "641301  South Carolina       29425  United States    12439  \n",
        "642854  South Carolina       29425  United States    12439  \n",
        "647030  South Carolina       29425  United States    12439  \n",
        "647760  South Carolina       29403  United States    12439  \n",
        "648002  South Carolina       29425  United States    12439  \n",
        "648415  South Carolina  29425-0721  United States    12439  \n",
        "648757  South Carolina       29425  United States    12439  \n",
        "649533  South Carolina  29425-0721  United States    12439  \n",
        "652313  South Carolina       29406  United States    12439  \n",
        "656383  South Carolina       29406  United States    12439  \n",
        "657037  South Carolina       29425  United States    12439  \n",
        "659913  South Carolina  29425-0721  United States    12439  \n",
        "660531  South Carolina       29425  United States    12439  \n",
        "660554  South Carolina  29425-0721  United States    12439  \n",
        "661085  South Carolina       29425  United States    12439  \n",
        "663339  South Carolina  29425-0721  United States    12439  \n",
        "665439  South Carolina       29425  United States    12439  \n",
        "669244  South Carolina       29425  United States    12439  \n",
        "670017  South Carolina       29425  United States    12439  \n",
        "                   ...         ...            ...      ...  \n",
        "\n",
        "[985 rows x 9 columns]"
       ]
      }
     ],
     "prompt_number": 6
    },
    {
     "cell_type": "code",
     "collapsed": false,
     "input": [
      "pickle.dump(potential,open('../data/facility_clusters.pkl','wb'))"
     ],
     "language": "python",
     "metadata": {},
     "outputs": [],
     "prompt_number": 7
    },
    {
     "cell_type": "code",
     "collapsed": false,
     "input": [],
     "language": "python",
     "metadata": {},
     "outputs": []
    }
   ],
   "metadata": {}
  }
 ]
}