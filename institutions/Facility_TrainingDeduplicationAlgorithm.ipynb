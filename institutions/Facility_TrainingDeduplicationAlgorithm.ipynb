{
 "metadata": {
  "gist_id": "eee672d26aa9ef6ccd01",
  "name": "",
  "signature": "sha256:cf9ac7cfc2cf518791dd9251bdeff856ca62e26cf44fc8aa587caface16bf86f"
 },
 "nbformat": 3,
 "nbformat_minor": 0,
 "worksheets": [
  {
   "cells": [
    {
     "cell_type": "code",
     "collapsed": false,
     "input": [
      "import codecs, nltk, json, string, cPickle as pickle, random, collections, dedupe, numpy as np, itertools, time, re\n",
      "import pandas as pd\n",
      "from string import punctuation\n",
      "pd.set_option('display.max_rows', 500)"
     ],
     "language": "python",
     "metadata": {},
     "outputs": [
      {
       "output_type": "stream",
       "stream": "stderr",
       "text": [
        "/Users/jost/courses/clinicaltrials/env/lib/python2.7/site-packages/dedupe/backport.py:12: UserWarning: NumPy linked against 'Accelerate.framework'. Multiprocessing will be disabled. http://mail.scipy.org/pipermail/numpy-discussion/2012-August/063589.html\n",
        "  warnings.warn(\"NumPy linked against 'Accelerate.framework'. \"\n"
       ]
      }
     ],
     "prompt_number": 1
    },
    {
     "cell_type": "markdown",
     "metadata": {},
     "source": [
      "### Get facility data and prepare list to dedupe"
     ]
    },
    {
     "cell_type": "code",
     "collapsed": false,
     "input": [
      "column_names = [\"facility_id\",\n",
      "                \"nct_id\",\n",
      "                \"status\",\n",
      "                \"facility_name\",\n",
      "                \"city\",\n",
      "                \"state\",\n",
      "                \"zipcode\",\n",
      "                \"country\"]\n",
      "\n",
      "facilities = pd.read_csv('../data/facilities.txt', names=column_names, sep=\"|\", encoding='utf-8', quoting=3)\n",
      "\n",
      "for c in column_names[2:]:\n",
      "    facilities[c] = facilities[c].apply(lambda x: x if pd.notnull(x) else u'')"
     ],
     "language": "python",
     "metadata": {},
     "outputs": [],
     "prompt_number": 2
    },
    {
     "cell_type": "code",
     "collapsed": false,
     "input": [
      "states = facilities[facilities.country == 'United States'].groupby(facilities.state).count().to_dict()['state'].keys()\n",
      "print [(k, v) for k, v in enumerate(states)]"
     ],
     "language": "python",
     "metadata": {},
     "outputs": [
      {
       "output_type": "stream",
       "stream": "stdout",
       "text": [
        "[(0, u'Mississippi'), (1, u'Oklahoma'), (2, u'Delaware'), (3, u'Minnesota'), (4, u'Illinois'), (5, u'Arkansas'), (6, u'New Mexico'), (7, u'Indiana'), (8, u'Maryland'), (9, u'Louisiana'), (10, u'Idaho'), (11, u'Wyoming'), (12, u'Tennessee'), (13, u'Arizona'), (14, u'Iowa'), (15, u'Michigan'), (16, u'Kansas'), (17, u'Utah'), (18, u'Virginia'), (19, u'Oregon'), (20, u'Connecticut'), (21, u'Montana'), (22, u'California'), (23, u'Massachusetts'), (24, u'West Virginia'), (25, u'South Carolina'), (26, u'New Hampshire'), (27, u'Wisconsin'), (28, u'Vermont'), (29, u'Georgia'), (30, u'North Dakota'), (31, u'Pennsylvania'), (32, u'Florida'), (33, u'Alaska'), (34, u'Kentucky'), (35, u'Hawaii'), (36, u'Nebraska'), (37, u'Missouri'), (38, u'Ohio'), (39, u'Alabama'), (40, u'New York'), (41, u'South Dakota'), (42, u'Colorado'), (43, u'New Jersey'), (44, u'Washington'), (45, u'North Carolina'), (46, u'District of Columbia'), (47, u'Texas'), (48, u'Nevada'), (49, u'Maine'), (50, u'Rhode Island')]\n"
       ]
      }
     ],
     "prompt_number": 3
    },
    {
     "cell_type": "code",
     "collapsed": true,
     "input": [
      "bad_names = [r'investigat[a-z]+ site',\n",
      "             r'research site',\n",
      "             r'research facility',\n",
      "             r'local institution',\n",
      "             r'study site',\n",
      "             r'clinical site',\n",
      "             r'call center',\n",
      "             r'site ref',\n",
      "             r'site[ :]+#?[0-9]+',\n",
      "             r'^#?[0-9\\.]+$',\n",
      "             r'for additional information',\n",
      "             r'call for information',\n",
      "             r'the study is '\n",
      "             ]\n",
      "\n",
      "potential = facilities[(facilities.country == 'United States') & \n",
      "                       (facilities.facility_name.apply(lambda x: x != u'' and min([not re.search(b,x.lower()) for b in bad_names])))][['facility_id','facility_name','city','state','zipcode','country']].drop_duplicates(['facility_name','city','state','zipcode','country'])"
     ],
     "language": "python",
     "metadata": {},
     "outputs": [],
     "prompt_number": 4
    },
    {
     "cell_type": "code",
     "collapsed": false,
     "input": [
      "potential.shape"
     ],
     "language": "python",
     "metadata": {},
     "outputs": [
      {
       "metadata": {},
       "output_type": "pyout",
       "prompt_number": 5,
       "text": [
        "(101559, 6)"
       ]
      }
     ],
     "prompt_number": 5
    },
    {
     "cell_type": "markdown",
     "metadata": {},
     "source": [
      "### Train model\n",
      "(Done on data from all states)"
     ]
    },
    {
     "cell_type": "code",
     "collapsed": false,
     "input": [
      "random_pairs = dedupe.randomPairs(len(potential), 1000) \n",
      "id_lookup = {i: k for i, k in enumerate(potential.facility_id)}\n",
      "potential_indexed = potential.set_index('facility_id')\n",
      "\n",
      "temp_d = {}\n",
      "\n",
      "for i in range(len(potential)):\n",
      "    temp_d[i] = dedupe.frozendict(potential_indexed.loc[id_lookup[i]].to_dict())\n",
      "\n",
      "def random_pair_generator():\n",
      "    for k1, k2 in random_pairs:\n",
      "        yield (temp_d[k1], temp_d[k2])\n",
      "\n",
      "todo =  tuple(pair for pair in random_pair_generator())"
     ],
     "language": "python",
     "metadata": {},
     "outputs": [],
     "prompt_number": 6
    },
    {
     "cell_type": "code",
     "collapsed": false,
     "input": [
      "variables = [\n",
      "             {'field' : 'facility_name', 'type' : 'String'},\n",
      "             {'field' : 'city', 'type' : 'ShortString', 'has missing' : True},\n",
      "             {'field' : 'state', 'type' : 'ShortString'},\n",
      "             {'field' : 'zipcode', 'type' : 'ShortString', 'has missing': True}\n",
      "             ]\n",
      "deduper = dedupe.Dedupe(variables, todo)"
     ],
     "language": "python",
     "metadata": {},
     "outputs": [],
     "prompt_number": 7
    },
    {
     "cell_type": "code",
     "collapsed": false,
     "input": [
      "todo[:5]"
     ],
     "language": "python",
     "metadata": {},
     "outputs": [
      {
       "metadata": {},
       "output_type": "pyout",
       "prompt_number": 8,
       "text": [
        "((<frozendict {'city': u'Nashville', 'facility_name': u'Sarah Cannon Research Institute BKM120D2204/BKM120D2205', 'state': u'Tennessee', 'zipcode': u'37203', 'country': u'United States'}>,\n",
        "  <frozendict {'city': u'Pasadena', 'facility_name': u'Kyowa PD Site', 'state': u'California', 'zipcode': u'91104', 'country': u'United States'}>),\n",
        " (<frozendict {'city': u'New York', 'facility_name': u\"Children's Tumor Fundation\", 'state': u'New York', 'zipcode': u'10005', 'country': u'United States'}>,\n",
        "  <frozendict {'city': u'Los Angeles', 'facility_name': u'Kerlan Jobe Orthopaedic Foundation', 'state': u'California', 'zipcode': u'90045', 'country': u'United States'}>),\n",
        " (<frozendict {'city': u'Winston Salem', 'facility_name': u'Wake Forest University School of Medicine', 'state': u'North Carolina', 'zipcode': u'27157-1082', 'country': u'United States'}>,\n",
        "  <frozendict {'city': u'Stanford', 'facility_name': u'Stanford University Medical Center/Palo Alto VA', 'state': u'California', 'zipcode': u'94306', 'country': u'United States'}>),\n",
        " (<frozendict {'city': u'Charlotte', 'facility_name': u'Carolinas HealthCare System, Carolinas Med. Ctr.', 'state': u'North Carolina', 'zipcode': u'28203', 'country': u'United States'}>,\n",
        "  <frozendict {'city': u'Spokane', 'facility_name': u'Spokane Allergy and Asthma Clinical Research', 'state': u'Washington', 'zipcode': u'99204', 'country': u'United States'}>),\n",
        " (<frozendict {'city': u'San Antonio', 'facility_name': u'Audie L Murphy VA Hospital - Pathology Laboratory', 'state': u'Texas', 'zipcode': u'78229', 'country': u'United States'}>,\n",
        "  <frozendict {'city': u'New York', 'facility_name': u'New York Downtown Hospital', 'state': u'New York', 'zipcode': u'10038', 'country': u'United States'}>))"
       ]
      }
     ],
     "prompt_number": 8
    },
    {
     "cell_type": "code",
     "collapsed": false,
     "input": [
      "# if already have training data...\n",
      "training_file = '../data/dedupe_training2.json'\n",
      "deduper.readTraining(open(training_file,'r'))"
     ],
     "language": "python",
     "metadata": {},
     "outputs": [
      {
       "output_type": "stream",
       "stream": "stderr",
       "text": [
        "INFO:dedupe.api:reading training from file\n"
       ]
      },
      {
       "output_type": "stream",
       "stream": "stderr",
       "text": [
        "INFO:dedupe.api:Learned Weights\n"
       ]
      },
      {
       "output_type": "stream",
       "stream": "stderr",
       "text": [
        "INFO:dedupe.api:('(city: ShortString)', -0.3377057909965515)\n"
       ]
      },
      {
       "output_type": "stream",
       "stream": "stderr",
       "text": [
        "INFO:dedupe.api:('(facility_name: String)', -0.5926158428192139)\n"
       ]
      },
      {
       "output_type": "stream",
       "stream": "stderr",
       "text": [
        "INFO:dedupe.api:('(zipcode: ShortString)', -0.1446063369512558)\n"
       ]
      },
      {
       "output_type": "stream",
       "stream": "stderr",
       "text": [
        "INFO:dedupe.api:('(state: ShortString)', -0.15747596323490143)\n"
       ]
      },
      {
       "output_type": "stream",
       "stream": "stderr",
       "text": [
        "INFO:dedupe.api:('((zipcode: ShortString): Not Missing)', 0.014522064477205276)\n"
       ]
      },
      {
       "output_type": "stream",
       "stream": "stderr",
       "text": [
        "INFO:dedupe.api:('((city: ShortString): Not Missing)', 0.27762895822525024)\n"
       ]
      },
      {
       "output_type": "stream",
       "stream": "stderr",
       "text": [
        "INFO:dedupe.api:('bias', 0.9713605642318726)\n"
       ]
      }
     ],
     "prompt_number": 8
    },
    {
     "cell_type": "code",
     "collapsed": false,
     "input": [
      "dedupe.convenience.consoleLabel(deduper)"
     ],
     "language": "python",
     "metadata": {},
     "outputs": [
      {
       "output_type": "stream",
       "stream": "stderr",
       "text": [
        "INFO:dedupe.api:Learned Weights\n"
       ]
      },
      {
       "output_type": "stream",
       "stream": "stderr",
       "text": [
        "INFO:dedupe.api:('(city: ShortString)', 0.2886696755886078)\n"
       ]
      },
      {
       "output_type": "stream",
       "stream": "stderr",
       "text": [
        "INFO:dedupe.api:('(facility_name: String)', 0.2886696755886078)\n"
       ]
      },
      {
       "output_type": "stream",
       "stream": "stderr",
       "text": [
        "INFO:dedupe.api:('(zipcode: ShortString)', 0.2886696755886078)\n"
       ]
      },
      {
       "output_type": "stream",
       "stream": "stderr",
       "text": [
        "INFO:dedupe.api:('(state: ShortString)', 0.2886696755886078)\n"
       ]
      },
      {
       "output_type": "stream",
       "stream": "stderr",
       "text": [
        "INFO:dedupe.api:('((zipcode: ShortString): Not Missing)', 0.5773393511772156)\n"
       ]
      },
      {
       "output_type": "stream",
       "stream": "stderr",
       "text": [
        "INFO:dedupe.api:('((city: ShortString): Not Missing)', 0.5773393511772156)\n"
       ]
      },
      {
       "output_type": "stream",
       "stream": "stderr",
       "text": [
        "INFO:dedupe.api:('bias', 0.7933143377304077)\n"
       ]
      },
      {
       "output_type": "stream",
       "stream": "stderr",
       "text": [
        "INFO:dedupe.training:1.0\n"
       ]
      },
      {
       "output_type": "stream",
       "stream": "stdout",
       "text": [
        "city : Albuquerque\n",
        "facility_name : Albuquerque Neuroscience, Inc.\n",
        "zipcode : 87102\n",
        "state : New Mexico\n",
        "\n",
        "city : Los Angeles\n",
        "facility_name : 100 UCLA Medical Plaza, Suites 205-210\n",
        "zipcode : 90095\n",
        "state : California\n",
        "\n",
        "Do these records refer to the same thing?\n"
       ]
      },
      {
       "name": "stdout",
       "output_type": "stream",
       "stream": "stdout",
       "text": [
        "(y)es / (n)o / (u)nsure / (f)inished\n",
        "n\n"
       ]
      },
      {
       "output_type": "stream",
       "stream": "stderr",
       "text": [
        "INFO:dedupe.api:Learned Weights\n"
       ]
      },
      {
       "output_type": "stream",
       "stream": "stderr",
       "text": [
        "INFO:dedupe.api:('(city: ShortString)', -0.2744453549385071)\n"
       ]
      },
      {
       "output_type": "stream",
       "stream": "stderr",
       "text": [
        "INFO:dedupe.api:('(facility_name: String)', -0.19279177486896515)\n"
       ]
      },
      {
       "output_type": "stream",
       "stream": "stderr",
       "text": [
        "INFO:dedupe.api:('(zipcode: ShortString)', -0.2744453549385071)\n"
       ]
      },
      {
       "output_type": "stream",
       "stream": "stderr",
       "text": [
        "INFO:dedupe.api:('(state: ShortString)', -0.2744453549385071)\n"
       ]
      },
      {
       "output_type": "stream",
       "stream": "stderr",
       "text": [
        "INFO:dedupe.api:('((zipcode: ShortString): Not Missing)', 0.6647651195526123)\n"
       ]
      },
      {
       "output_type": "stream",
       "stream": "stderr",
       "text": [
        "INFO:dedupe.api:('((city: ShortString): Not Missing)', 0.6647651195526123)\n"
       ]
      },
      {
       "output_type": "stream",
       "stream": "stderr",
       "text": [
        "INFO:dedupe.api:('bias', 1.0299216508865356)\n"
       ]
      },
      {
       "output_type": "stream",
       "stream": "stderr",
       "text": [
        "INFO:dedupe.training:1.0\n"
       ]
      },
      {
       "output_type": "stream",
       "stream": "stdout",
       "text": [
        "city : New York\n",
        "facility_name : Columbia University\n",
        "zipcode : 10022\n",
        "state : New York\n",
        "\n",
        "city : New York\n",
        "facility_name : Columbia University Department of General Medicine\n",
        "zipcode : 10032\n",
        "state : New York\n",
        "\n",
        "Do these records refer to the same thing?\n"
       ]
      },
      {
       "name": "stdout",
       "output_type": "stream",
       "stream": "stdout",
       "text": [
        "(y)es / (n)o / (u)nsure / (f)inished\n",
        "y\n"
       ]
      },
      {
       "output_type": "stream",
       "stream": "stderr",
       "text": [
        "INFO:dedupe.api:Learned Weights\n"
       ]
      },
      {
       "output_type": "stream",
       "stream": "stderr",
       "text": [
        "INFO:dedupe.api:('(city: ShortString)', -0.36342090368270874)\n"
       ]
      },
      {
       "output_type": "stream",
       "stream": "stderr",
       "text": [
        "INFO:dedupe.api:('(facility_name: String)', -0.21308083832263947)\n"
       ]
      },
      {
       "output_type": "stream",
       "stream": "stderr",
       "text": [
        "INFO:dedupe.api:('(zipcode: ShortString)', -0.07062216103076935)\n"
       ]
      },
      {
       "output_type": "stream",
       "stream": "stderr",
       "text": [
        "INFO:dedupe.api:('(state: ShortString)', -0.36342090368270874)\n"
       ]
      },
      {
       "output_type": "stream",
       "stream": "stderr",
       "text": [
        "INFO:dedupe.api:('((zipcode: ShortString): Not Missing)', 0.6956732869148254)\n"
       ]
      },
      {
       "output_type": "stream",
       "stream": "stderr",
       "text": [
        "INFO:dedupe.api:('((city: ShortString): Not Missing)', 0.6956732869148254)\n"
       ]
      },
      {
       "output_type": "stream",
       "stream": "stderr",
       "text": [
        "INFO:dedupe.api:('bias', 1.2533769607543945)\n"
       ]
      },
      {
       "output_type": "stream",
       "stream": "stderr",
       "text": [
        "INFO:dedupe.training:0.5\n"
       ]
      },
      {
       "output_type": "stream",
       "stream": "stdout",
       "text": [
        "city : Lynwood\n",
        "facility_name : Imperial care Dialysis Center\n",
        "zipcode : 90262\n",
        "state : California\n",
        "\n",
        "city : Los Angeles\n",
        "facility_name : UCLA-Los Angeles/Brazil AIDS Consortium (LABAC) CRS\n",
        "zipcode : 90090-1752\n",
        "state : California\n",
        "\n",
        "Do these records refer to the same thing?\n"
       ]
      },
      {
       "name": "stdout",
       "output_type": "stream",
       "stream": "stdout",
       "text": [
        "(y)es / (n)o / (u)nsure / (f)inished\n",
        "b\n"
       ]
      },
      {
       "name": "stdout",
       "output_type": "stream",
       "stream": "stdout",
       "text": [
        "(y)es / (n)o / (u)nsure / (f)inished\n",
        "n\n"
       ]
      },
      {
       "output_type": "stream",
       "stream": "stderr",
       "text": [
        "INFO:dedupe.api:Learned Weights\n"
       ]
      },
      {
       "output_type": "stream",
       "stream": "stderr",
       "text": [
        "INFO:dedupe.api:('(city: ShortString)', -0.6292026042938232)\n"
       ]
      },
      {
       "output_type": "stream",
       "stream": "stderr",
       "text": [
        "INFO:dedupe.api:('(facility_name: String)', -0.5050867199897766)\n"
       ]
      },
      {
       "output_type": "stream",
       "stream": "stderr",
       "text": [
        "INFO:dedupe.api:('(zipcode: ShortString)', -0.08035874366760254)\n"
       ]
      },
      {
       "output_type": "stream",
       "stream": "stderr",
       "text": [
        "INFO:dedupe.api:('(state: ShortString)', 0.025177018716931343)\n"
       ]
      },
      {
       "output_type": "stream",
       "stream": "stderr",
       "text": [
        "INFO:dedupe.api:('((zipcode: ShortString): Not Missing)', 0.6192004680633545)\n"
       ]
      },
      {
       "output_type": "stream",
       "stream": "stderr",
       "text": [
        "INFO:dedupe.api:('((city: ShortString): Not Missing)', 0.6192004680633545)\n"
       ]
      },
      {
       "output_type": "stream",
       "stream": "stderr",
       "text": [
        "INFO:dedupe.api:('bias', 1.2575386762619019)\n"
       ]
      },
      {
       "output_type": "stream",
       "stream": "stderr",
       "text": [
        "INFO:dedupe.training:0.666666666667\n"
       ]
      },
      {
       "output_type": "stream",
       "stream": "stdout",
       "text": [
        "city : Columbia\n",
        "facility_name : Lee Butterfield, MD\n",
        "zipcode : 29204\n",
        "state : South Carolina\n",
        "\n",
        "city : Columbia\n",
        "facility_name : S. Carolina Clinical Research Center\n",
        "zipcode : 29201\n",
        "state : South Carolina\n",
        "\n",
        "Do these records refer to the same thing?\n"
       ]
      },
      {
       "name": "stdout",
       "output_type": "stream",
       "stream": "stdout",
       "text": [
        "(y)es / (n)o / (u)nsure / (f)inished\n",
        "n\n"
       ]
      },
      {
       "output_type": "stream",
       "stream": "stderr",
       "text": [
        "INFO:dedupe.api:Learned Weights\n"
       ]
      },
      {
       "output_type": "stream",
       "stream": "stderr",
       "text": [
        "INFO:dedupe.api:('(city: ShortString)', -0.29083937406539917)\n"
       ]
      },
      {
       "output_type": "stream",
       "stream": "stderr",
       "text": [
        "INFO:dedupe.api:('(facility_name: String)', -0.9705556035041809)\n"
       ]
      },
      {
       "output_type": "stream",
       "stream": "stderr",
       "text": [
        "INFO:dedupe.api:('(zipcode: ShortString)', -0.05567343905568123)\n"
       ]
      },
      {
       "output_type": "stream",
       "stream": "stderr",
       "text": [
        "INFO:dedupe.api:('(state: ShortString)', 0.0726349800825119)\n"
       ]
      },
      {
       "output_type": "stream",
       "stream": "stderr",
       "text": [
        "INFO:dedupe.api:('((zipcode: ShortString): Not Missing)', 0.5330178141593933)\n"
       ]
      },
      {
       "output_type": "stream",
       "stream": "stderr",
       "text": [
        "INFO:dedupe.api:('((city: ShortString): Not Missing)', 0.5330178141593933)\n"
       ]
      },
      {
       "output_type": "stream",
       "stream": "stderr",
       "text": [
        "INFO:dedupe.api:('bias', 1.2072550058364868)\n"
       ]
      },
      {
       "output_type": "stream",
       "stream": "stderr",
       "text": [
        "INFO:dedupe.training:0.75\n"
       ]
      },
      {
       "output_type": "stream",
       "stream": "stdout",
       "text": [
        "city : Wichita\n",
        "facility_name : University of Kansas\n",
        "zipcode : 67211\n",
        "state : Kansas\n",
        "\n",
        "city : Prairie Village\n",
        "facility_name : University of Kansas Medical Center\n",
        "zipcode : 66208\n",
        "state : Kansas\n",
        "\n",
        "Do these records refer to the same thing?\n"
       ]
      },
      {
       "name": "stdout",
       "output_type": "stream",
       "stream": "stdout",
       "text": [
        "(y)es / (n)o / (u)nsure / (f)inished\n",
        "y\n"
       ]
      },
      {
       "output_type": "stream",
       "stream": "stderr",
       "text": [
        "INFO:dedupe.api:Learned Weights\n"
       ]
      },
      {
       "output_type": "stream",
       "stream": "stderr",
       "text": [
        "INFO:dedupe.api:('(city: ShortString)', -0.07608988881111145)\n"
       ]
      },
      {
       "output_type": "stream",
       "stream": "stderr",
       "text": [
        "INFO:dedupe.api:('(facility_name: String)', -1.1341122388839722)\n"
       ]
      },
      {
       "output_type": "stream",
       "stream": "stderr",
       "text": [
        "INFO:dedupe.api:('(zipcode: ShortString)', 0.18054765462875366)\n"
       ]
      },
      {
       "output_type": "stream",
       "stream": "stderr",
       "text": [
        "INFO:dedupe.api:('(state: ShortString)', -0.09868623316287994)\n"
       ]
      },
      {
       "output_type": "stream",
       "stream": "stderr",
       "text": [
        "INFO:dedupe.api:('((zipcode: ShortString): Not Missing)', 0.5012407302856445)\n"
       ]
      },
      {
       "output_type": "stream",
       "stream": "stderr",
       "text": [
        "INFO:dedupe.api:('((city: ShortString): Not Missing)', 0.5012407302856445)\n"
       ]
      },
      {
       "output_type": "stream",
       "stream": "stderr",
       "text": [
        "INFO:dedupe.api:('bias', 1.284653663635254)\n"
       ]
      },
      {
       "output_type": "stream",
       "stream": "stderr",
       "text": [
        "INFO:dedupe.training:0.5\n"
       ]
      },
      {
       "output_type": "stream",
       "stream": "stdout",
       "text": [
        "city : Boynton Beach\n",
        "facility_name : Consultants for Clinical Research of South Florida\n",
        "zipcode : 33426\n",
        "state : Florida\n",
        "\n",
        "city : Linden\n",
        "facility_name : NJ Heart\n",
        "zipcode : 07036\n",
        "state : New Jersey\n",
        "\n",
        "Do these records refer to the same thing?\n"
       ]
      },
      {
       "name": "stdout",
       "output_type": "stream",
       "stream": "stdout",
       "text": [
        "(y)es / (n)o / (u)nsure / (f)inished\n",
        "n\n"
       ]
      },
      {
       "output_type": "stream",
       "stream": "stderr",
       "text": [
        "INFO:dedupe.api:Learned Weights\n"
       ]
      },
      {
       "output_type": "stream",
       "stream": "stderr",
       "text": [
        "INFO:dedupe.api:('(city: ShortString)', -0.05782230198383331)\n"
       ]
      },
      {
       "output_type": "stream",
       "stream": "stderr",
       "text": [
        "INFO:dedupe.api:('(facility_name: String)', -1.0351841449737549)\n"
       ]
      },
      {
       "output_type": "stream",
       "stream": "stderr",
       "text": [
        "INFO:dedupe.api:('(zipcode: ShortString)', 0.05359961837530136)\n"
       ]
      },
      {
       "output_type": "stream",
       "stream": "stderr",
       "text": [
        "INFO:dedupe.api:('(state: ShortString)', -0.46648526191711426)\n"
       ]
      },
      {
       "output_type": "stream",
       "stream": "stderr",
       "text": [
        "INFO:dedupe.api:('((zipcode: ShortString): Not Missing)', 0.4878253936767578)\n"
       ]
      },
      {
       "output_type": "stream",
       "stream": "stderr",
       "text": [
        "INFO:dedupe.api:('((city: ShortString): Not Missing)', 0.4878253936767578)\n"
       ]
      },
      {
       "output_type": "stream",
       "stream": "stderr",
       "text": [
        "INFO:dedupe.api:('bias', 1.373679518699646)\n"
       ]
      },
      {
       "output_type": "stream",
       "stream": "stderr",
       "text": [
        "INFO:dedupe.training:0.6\n"
       ]
      },
      {
       "output_type": "stream",
       "stream": "stdout",
       "text": [
        "city : Los Angeles\n",
        "facility_name : Kaiser Permanente Los Angeles Medical Center,4867 Sunset Blvd\n",
        "zipcode : 90027\n",
        "state : California\n",
        "\n",
        "city : San Diego\n",
        "facility_name : Kaiser Permanente\n",
        "zipcode : \n",
        "state : California\n",
        "\n",
        "Do these records refer to the same thing?\n"
       ]
      },
      {
       "name": "stdout",
       "output_type": "stream",
       "stream": "stdout",
       "text": [
        "(y)es / (n)o / (u)nsure / (f)inished\n",
        "f\n"
       ]
      },
      {
       "output_type": "stream",
       "stream": "stdout",
       "text": [
        "Finished labeling\n"
       ]
      }
     ],
     "prompt_number": 9
    },
    {
     "cell_type": "code",
     "collapsed": false,
     "input": [
      "deduper.train(ppc=0.01, uncovered_dupes=5)"
     ],
     "language": "python",
     "metadata": {},
     "outputs": [
      {
       "output_type": "stream",
       "stream": "stderr",
       "text": [
        "INFO:dedupe.api:20 folds\n"
       ]
      },
      {
       "output_type": "stream",
       "stream": "stderr",
       "text": [
        "INFO:dedupe.crossvalidation:using cross validation to find optimum alpha...\n"
       ]
      },
      {
       "output_type": "stream",
       "stream": "stderr",
       "text": [
        "INFO:dedupe.crossvalidation:optimum alpha: 0.010000\n"
       ]
      },
      {
       "output_type": "stream",
       "stream": "stderr",
       "text": [
        "INFO:dedupe.api:Learned Weights\n"
       ]
      },
      {
       "output_type": "stream",
       "stream": "stderr",
       "text": [
        "INFO:dedupe.api:('(city: ShortString)', -0.4464088976383209)\n"
       ]
      },
      {
       "output_type": "stream",
       "stream": "stderr",
       "text": [
        "INFO:dedupe.api:('(facility_name: String)', -1.2190216779708862)\n"
       ]
      },
      {
       "output_type": "stream",
       "stream": "stderr",
       "text": [
        "INFO:dedupe.api:('(zipcode: ShortString)', -0.49488386511802673)\n"
       ]
      },
      {
       "output_type": "stream",
       "stream": "stderr",
       "text": [
        "INFO:dedupe.api:('(state: ShortString)', -0.48534145951271057)\n"
       ]
      },
      {
       "output_type": "stream",
       "stream": "stderr",
       "text": [
        "INFO:dedupe.api:('((zipcode: ShortString): Not Missing)', 0.14800745248794556)\n"
       ]
      },
      {
       "output_type": "stream",
       "stream": "stderr",
       "text": [
        "INFO:dedupe.api:('((city: ShortString): Not Missing)', 1.1579594612121582)\n"
       ]
      },
      {
       "output_type": "stream",
       "stream": "stderr",
       "text": [
        "INFO:dedupe.api:('bias', 2.345712661743164)\n"
       ]
      },
      {
       "output_type": "stream",
       "stream": "stderr",
       "text": [
        "INFO:dedupe.blocking:Tue Nov 25 09:45:13 2014\n"
       ]
      },
      {
       "output_type": "stream",
       "stream": "stderr",
       "text": [
        "INFO:dedupe.blocking:Canopy: TfidfPredicate: (0.4, facility_name)\n"
       ]
      },
      {
       "output_type": "stream",
       "stream": "stderr",
       "text": [
        "INFO:dedupe.blocking:Canopy: TfidfPredicate: (0.6, facility_name)\n"
       ]
      },
      {
       "output_type": "stream",
       "stream": "stderr",
       "text": [
        "INFO:dedupe.blocking:Canopy: TfidfPredicate: (0.8, facility_name)\n"
       ]
      },
      {
       "output_type": "stream",
       "stream": "stderr",
       "text": [
        "INFO:dedupe.blocking:Canopy: TfidfPredicate: (0.2, facility_name)\n"
       ]
      },
      {
       "output_type": "stream",
       "stream": "stderr",
       "text": [
        "INFO:dedupe.blocking:Tue Nov 25 09:45:41 2014\n"
       ]
      },
      {
       "output_type": "stream",
       "stream": "stderr",
       "text": [
        "INFO:dedupe.training:coverage threshold: 322.64\n"
       ]
      },
      {
       "output_type": "stream",
       "stream": "stderr",
       "text": [
        "INFO:dedupe.training:Final predicate set:\n"
       ]
      },
      {
       "output_type": "stream",
       "stream": "stderr",
       "text": [
        "INFO:dedupe.training:CompoundPredicate: (SimplePredicate: (nearIntegersPredicate, zipcode), SimplePredicate: (sameSevenCharStartPredicate, facility_name))\n"
       ]
      },
      {
       "output_type": "stream",
       "stream": "stderr",
       "text": [
        "INFO:dedupe.training:CompoundPredicate: (SimplePredicate: (wholeFieldPredicate, zipcode), TfidfPredicate: (0.8, facility_name))\n"
       ]
      },
      {
       "output_type": "stream",
       "stream": "stderr",
       "text": [
        "INFO:dedupe.training:CompoundPredicate: (SimplePredicate: (sameThreeCharStartPredicate, zipcode), SimplePredicate: (sameSevenCharStartPredicate, facility_name))\n"
       ]
      },
      {
       "output_type": "stream",
       "stream": "stderr",
       "text": [
        "INFO:dedupe.training:CompoundPredicate: (SimplePredicate: (wholeFieldPredicate, facility_name), SimplePredicate: (tokenFieldPredicate, city))\n"
       ]
      },
      {
       "output_type": "stream",
       "stream": "stderr",
       "text": [
        "INFO:dedupe.training:CompoundPredicate: (SimplePredicate: (tokenFieldPredicate, zipcode), TfidfPredicate: (0.2, facility_name))\n"
       ]
      },
      {
       "output_type": "stream",
       "stream": "stderr",
       "text": [
        "INFO:dedupe.training:CompoundPredicate: (SimplePredicate: (wholeFieldPredicate, zipcode), TfidfPredicate: (0.6, facility_name))\n"
       ]
      },
      {
       "output_type": "stream",
       "stream": "stderr",
       "text": [
        "INFO:dedupe.training:CompoundPredicate: (SimplePredicate: (sameSevenCharStartPredicate, city), SimplePredicate: (firstTokenPredicate, facility_name))\n"
       ]
      },
      {
       "output_type": "stream",
       "stream": "stderr",
       "text": [
        "INFO:dedupe.training:CompoundPredicate: (SimplePredicate: (sameSevenCharStartPredicate, city), TfidfPredicate: (0.2, facility_name))\n"
       ]
      },
      {
       "output_type": "stream",
       "stream": "stderr",
       "text": [
        "INFO:dedupe.training:CompoundPredicate: (SimplePredicate: (firstIntegerPredicate, zipcode), SimplePredicate: (sameThreeCharStartPredicate, facility_name))\n"
       ]
      },
      {
       "output_type": "stream",
       "stream": "stderr",
       "text": [
        "INFO:dedupe.training:CompoundPredicate: (TfidfPredicate: (0.8, facility_name), SimplePredicate: (sameSevenCharStartPredicate, facility_name))\n"
       ]
      },
      {
       "output_type": "stream",
       "stream": "stderr",
       "text": [
        "INFO:dedupe.training:CompoundPredicate: (TfidfPredicate: (0.4, facility_name), SimplePredicate: (wholeFieldPredicate, city))\n"
       ]
      },
      {
       "output_type": "stream",
       "stream": "stderr",
       "text": [
        "INFO:dedupe.training:CompoundPredicate: (TfidfPredicate: (0.6, facility_name), SimplePredicate: (sameSevenCharStartPredicate, facility_name))\n"
       ]
      },
      {
       "output_type": "stream",
       "stream": "stderr",
       "text": [
        "INFO:dedupe.training:CompoundPredicate: (SimplePredicate: (firstIntegerPredicate, zipcode), SimplePredicate: (commonSixGram, facility_name))\n"
       ]
      },
      {
       "output_type": "stream",
       "stream": "stderr",
       "text": [
        "INFO:dedupe.training:CompoundPredicate: (TfidfPredicate: (0.2, facility_name), SimplePredicate: (commonFourGram, zipcode))\n"
       ]
      },
      {
       "output_type": "stream",
       "stream": "stderr",
       "text": [
        "INFO:dedupe.training:CompoundPredicate: (SimplePredicate: (sameSevenCharStartPredicate, city), SimplePredicate: (sameThreeCharStartPredicate, facility_name))\n"
       ]
      },
      {
       "output_type": "stream",
       "stream": "stderr",
       "text": [
        "INFO:dedupe.training:CompoundPredicate: (TfidfPredicate: (0.4, facility_name), SimplePredicate: (sameSevenCharStartPredicate, facility_name))\n"
       ]
      },
      {
       "output_type": "stream",
       "stream": "stderr",
       "text": [
        "INFO:dedupe.training:CompoundPredicate: (SimplePredicate: (tokenFieldPredicate, zipcode), SimplePredicate: (sameSevenCharStartPredicate, state))\n"
       ]
      },
      {
       "output_type": "stream",
       "stream": "stderr",
       "text": [
        "INFO:dedupe.training:CompoundPredicate: (SimplePredicate: (tokenFieldPredicate, facility_name), SimplePredicate: (sameSevenCharStartPredicate, city))\n"
       ]
      },
      {
       "output_type": "stream",
       "stream": "stderr",
       "text": [
        "INFO:dedupe.training:CompoundPredicate: (SimplePredicate: (tokenFieldPredicate, facility_name), SimplePredicate: (nearIntegersPredicate, zipcode))\n"
       ]
      }
     ],
     "prompt_number": 10
    },
    {
     "cell_type": "code",
     "collapsed": false,
     "input": [
      "settings_file = '../data/dedupe_settings2'\n",
      "training_file = '../data/dedupe_training2.json'\n",
      "deduper.writeTraining(open(training_file,'w'))\n",
      "deduper.writeSettings(open(settings_file,'w'))"
     ],
     "language": "python",
     "metadata": {},
     "outputs": [],
     "prompt_number": 11
    },
    {
     "cell_type": "code",
     "collapsed": false,
     "input": [],
     "language": "python",
     "metadata": {},
     "outputs": []
    }
   ],
   "metadata": {}
  }
 ]
}