{
 "metadata": {
  "name": "",
  "signature": "sha256:6b3c333138bfded1b23caede42680d804c54175d9ca3c37ad474fac0c8e53100"
 },
 "nbformat": 3,
 "nbformat_minor": 0,
 "worksheets": [
  {
   "cells": [
    {
     "cell_type": "code",
     "collapsed": false,
     "input": [
      "import codecs, requests, nltk, json, string, cPickle as pickle, Levenshtein as L, random, collections\n",
      "import pandas as pd\n",
      "from string import punctuation\n",
      "from connect import gkey"
     ],
     "language": "python",
     "metadata": {},
     "outputs": [],
     "prompt_number": 1
    },
    {
     "cell_type": "markdown",
     "metadata": {},
     "source": [
      "### Loading data"
     ]
    },
    {
     "cell_type": "markdown",
     "metadata": {},
     "source": [
      "Facilities"
     ]
    },
    {
     "cell_type": "code",
     "collapsed": false,
     "input": [
      "column_names = [\"facility_id\",\n",
      "                \"nct_id\",\n",
      "                \"status\",\n",
      "                \"facility_name\",\n",
      "                \"city\",\n",
      "                \"state\",\n",
      "                \"zipcode\",\n",
      "                \"country\"]\n",
      "\n",
      "facilities = pd.read_csv('../data/facilities.txt', names=column_names, sep=\"|\", encoding='utf-8', quoting=3)"
     ],
     "language": "python",
     "metadata": {},
     "outputs": [],
     "prompt_number": 2
    },
    {
     "cell_type": "markdown",
     "metadata": {},
     "source": [
      "Sponsors"
     ]
    },
    {
     "cell_type": "code",
     "collapsed": false,
     "input": [
      "column_names = [\"sponsor_id\",\n",
      "                \"nct_id\",\n",
      "                \"sponsor_type\",\n",
      "                \"agency\",\n",
      "                \"agency_class\"]\n",
      "\n",
      "sponsors = pd.read_csv('../data/sponsors.txt', names=column_names, sep=\"|\", encoding='utf-8', quoting=3)"
     ],
     "language": "python",
     "metadata": {},
     "outputs": [],
     "prompt_number": 3
    },
    {
     "cell_type": "markdown",
     "metadata": {},
     "source": [
      "### Freebase lookups"
     ]
    },
    {
     "cell_type": "code",
     "collapsed": false,
     "input": [
      "# procedure get data\n",
      "def query_url(url, retries=5):\n",
      "    '''\n",
      "    url: full URL from which to request data\n",
      "    retries: maximum number of retries before moving on\n",
      "    '''\n",
      "    while retries > 0:\n",
      "        try:\n",
      "            r = requests.get(url)\n",
      "        except:\n",
      "            print '  Got error querying %s. Retrying.' % url\n",
      "            pass\n",
      "        if r.status_code == 200:\n",
      "            return json.loads(r.text)\n",
      "        else:\n",
      "            retries -= 1\n",
      "    \n",
      "    # if we've tried enough times, print problem and return nothing\n",
      "    print '  Unable to query %s. Status code %d.' % (url, r.status_code)"
     ],
     "language": "python",
     "metadata": {},
     "outputs": [],
     "prompt_number": 43
    },
    {
     "cell_type": "code",
     "collapsed": false,
     "input": [
      "# procedure to get Freebase data for sponsors\n",
      "def query_freebase(org):\n",
      "    '''\n",
      "    org: string representing name of sponsor in CTTI database\n",
      "    '''\n",
      "    # remove any trailing abbrevation\n",
      "    word_list = org.split()\n",
      "    if word_list[-1][0] == '(' and word_list[-1][-1] == ')':\n",
      "        org_noabbr = ' '.join(word_list[:-1])\n",
      "    else:\n",
      "        org_noabbr = org\n",
      "    \n",
      "    # construct url and query\n",
      "    url = 'https://www.googleapis.com/freebase/v1/search?query=%s&key=%s' % (org_noabbr,gkey)\n",
      "    return query_url(url)"
     ],
     "language": "python",
     "metadata": {},
     "outputs": [],
     "prompt_number": 69
    },
    {
     "cell_type": "code",
     "collapsed": false,
     "input": [
      "# getting list of sponsors and initializing results dictionary\n",
      "sponsor_list = sorted(dict(sponsors.agency.value_counts()).items(), key=lambda x: x[1], reverse=True)\n",
      "sponsor_possibilities = {}"
     ],
     "language": "python",
     "metadata": {},
     "outputs": [],
     "prompt_number": 46
    },
    {
     "cell_type": "code",
     "collapsed": false,
     "input": [
      "# procedure to get Freebase entries for commonly appearing sponsors\n",
      "for org, cnt in sponsor_list:\n",
      "    if cnt >= 1 and org not in sponsor_possibilities:\n",
      "        r = query_freebase(org)\n",
      "        '''\n",
      "        if r['result']:\n",
      "            if 'notable' in r['result'][0]:\n",
      "                print '%s: %s (%s)' % (org.decode('utf-8'), r['result'][0]['name'], r['result'][0]['notable']['name'])\n",
      "            else:\n",
      "                print '%s: %s (%s)' % (org.decode('utf-8'), r['result'][0]['name'], 'NO NOTABLE RESULT')\n",
      "        else:\n",
      "            print 'NO RESULTS: %s' % org\n",
      "        '''\n",
      "        sponsor_possibilities[org] = r['result']"
     ],
     "language": "python",
     "metadata": {},
     "outputs": [],
     "prompt_number": 140
    },
    {
     "cell_type": "code",
     "collapsed": false,
     "input": [
      "len(sponsor_possibilities)"
     ],
     "language": "python",
     "metadata": {},
     "outputs": [
      {
       "metadata": {},
       "output_type": "pyout",
       "prompt_number": 170,
       "text": [
        "29989"
       ]
      }
     ],
     "prompt_number": 170
    },
    {
     "cell_type": "code",
     "collapsed": false,
     "input": [
      "pickle.dump(sponsor_possibilities,open('../data/sponsor_guess.pickle','wb'))"
     ],
     "language": "python",
     "metadata": {},
     "outputs": [],
     "prompt_number": 145
    },
    {
     "cell_type": "code",
     "collapsed": false,
     "input": [],
     "language": "python",
     "metadata": {},
     "outputs": []
    }
   ],
   "metadata": {}
  }
 ]
}