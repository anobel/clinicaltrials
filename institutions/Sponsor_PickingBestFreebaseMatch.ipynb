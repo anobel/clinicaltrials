{
 "metadata": {
  "name": "",
  "signature": "sha256:43ccb3864ed962b5ad52dbe6d8b4e8e930f105a46da47e3598dea78738bc12bb"
 },
 "nbformat": 3,
 "nbformat_minor": 0,
 "worksheets": [
  {
   "cells": [
    {
     "cell_type": "code",
     "collapsed": false,
     "input": [
      "import codecs, requests, nltk, json, string, cPickle as pickle, Levenshtein as L, random, collections\n",
      "import pandas as pd\n",
      "from string import punctuation\n",
      "from connect import gkey"
     ],
     "language": "python",
     "metadata": {},
     "outputs": [],
     "prompt_number": 41
    },
    {
     "cell_type": "markdown",
     "metadata": {},
     "source": [
      "### Loading data"
     ]
    },
    {
     "cell_type": "markdown",
     "metadata": {},
     "source": [
      "Facilities"
     ]
    },
    {
     "cell_type": "code",
     "collapsed": false,
     "input": [
      "column_names = [\"facility_id\",\n",
      "                \"nct_id\",\n",
      "                \"status\",\n",
      "                \"facility_name\",\n",
      "                \"city\",\n",
      "                \"state\",\n",
      "                \"zipcode\",\n",
      "                \"country\"]\n",
      "\n",
      "facilities = pd.read_csv('../data/facilities.txt', names=column_names, sep=\"|\", encoding='utf-8', quoting=3)\n",
      "facilities_nct = facilities.set_index('nct_id')"
     ],
     "language": "python",
     "metadata": {},
     "outputs": [],
     "prompt_number": 162
    },
    {
     "cell_type": "markdown",
     "metadata": {},
     "source": [
      "Sponsors"
     ]
    },
    {
     "cell_type": "code",
     "collapsed": false,
     "input": [
      "column_names = [\"sponsor_id\",\n",
      "                \"nct_id\",\n",
      "                \"sponsor_type\",\n",
      "                \"agency\",\n",
      "                \"agency_class\"]\n",
      "\n",
      "sponsors = pd.read_csv('../data/sponsors.txt', names=column_names, sep=\"|\", encoding='utf-8', quoting=3)\n",
      "sponsors_nct = sponsors.set_index('nct_id')\n",
      "sponsor_count = sponsors.groupby('agency').count()['nct_id']"
     ],
     "language": "python",
     "metadata": {},
     "outputs": [],
     "prompt_number": 151
    },
    {
     "cell_type": "markdown",
     "metadata": {},
     "source": [
      "Freebase lookups"
     ]
    },
    {
     "cell_type": "code",
     "collapsed": false,
     "input": [
      "sponsor_poss = pickle.load(open('../data/sponsor_guess.pickle','rb'))"
     ],
     "language": "python",
     "metadata": {},
     "outputs": [],
     "prompt_number": 5
    },
    {
     "cell_type": "markdown",
     "metadata": {},
     "source": [
      "List of acceptable Freebase categories"
     ]
    },
    {
     "cell_type": "code",
     "collapsed": false,
     "input": [
      "cat_ok = {\"College/University\",\n",
      "            \"Business Operation\",\n",
      "            \"Hospital\",\n",
      "            \"Organization\",\n",
      "            \"Nonprofit organization\",\n",
      "            \"Pharmaceutical Preparations Business\",\n",
      "            \"Government Agency\",\n",
      "            \"Pharmaceutical industry Business\",\n",
      "            \"Biotechnology Business\",\n",
      "            \"Health care Business\",\n",
      "            \"Biological Product (except Diagnostic) Manufacturing Business\",\n",
      "            \"Employer\",\n",
      "            \"Biomedical research Organization\",\n",
      "            \"Venture Funded Company\",\n",
      "            \"Biomedical research\",\n",
      "            \"Clinical and Research Cancer Center\",\n",
      "            \"Surgical and Medical Instruments and Apparatus Business\",\n",
      "            \"Drug manufacturer\",\n",
      "            \"Educational Institution\",\n",
      "            \"Private university\",\n",
      "            \"Physician\",\n",
      "            \"Disease or medical condition\",\n",
      "            \"Internal medicine Hospital\",\n",
      "            \"Academic\",\n",
      "            \"Electromedical and Electrotherapeutic Apparatus Business\",\n",
      "            \"Government Office or Title\",\n",
      "            \"In Vitro and In Vivo Diagnostic Substances Business\",\n",
      "            \"Medical Equipment and Supplies Manufacturing Business\",\n",
      "            \"Drug\",\n",
      "            \"Medical specialty\",\n",
      "            \"Commercial Physical and Biological Research Business\",\n",
      "            \"Orthopedic, Prosthetic, and Surgical Appliances and Supplies Business\",\n",
      "            \"Anatomical structure\",\n",
      "            \"Medical school\",\n",
      "            \"Chemical industry Business\",\n",
      "            \"Public school\",\n",
      "            \"Hospital and Medical Service Plans Business\",\n",
      "            \"Analytical Laboratory Instrument Manufacturing Business\",\n",
      "            \"Medical Laboratories Business\",\n",
      "            \"Consumer product\",\n",
      "            \"Surgeon\",\n",
      "            \"Non-profit organization\",\n",
      "            \"Educational Institution Campus\",\n",
      "            \"Scientist\",\n",
      "            \"School district\",\n",
      "            \"Food Manufacturing Business\",\n",
      "            \"Manufacturing Business\",\n",
      "            \"Veterans' benefits Organization\",\n",
      "            \"Autism Organization\",\n",
      "            \"Diabetes mellitus Organization\",\n",
      "            \"School\",\n",
      "            \"Think tank\",\n",
      "            \"Venture Investor\",\n",
      "            \"Crude Petroleum and Natural Gas Extraction Business\",\n",
      "            \"Cancer Center Constituent\",\n",
      "            \"US State\",\n",
      "            \"Dentistry\",\n",
      "            \"Military post\",\n",
      "            \"General Medical and Surgical Hospitals Business\",\n",
      "            \"Drug brand\",\n",
      "            \"Financial Services Business\",\n",
      "            \"Consumer electronics Business\",\n",
      "            \"Household Audio and Video Equipment Business\",\n",
      "            \"Bottled and Canned Soft Drinks and Carbonated Waters Business\",\n",
      "            \"Alternative medicine Organization\",\n",
      "            \"Philanthropy Organization\",\n",
      "            \"Petroleum industry Business\",\n",
      "            \"Alzheimer's disease Organization\",\n",
      "            \"Conglomerate Business\",\n",
      "            \"Surgery Organization\",\n",
      "            \"Public health Organization\",\n",
      "            \"Drug policy Organization\",\n",
      "            \"Pharmacies and Drug Stores Business\",\n",
      "            \"Agricultural science Organization\",\n",
      "            \"Photographic Equipment and Supplies Business\",\n",
      "            \"National university\",\n",
      "            \"Conservation Organization\",\n",
      "            \"Medical trial sponsor\",\n",
      "            \"University system\",\n",
      "            \"Research Business\",\n",
      "            \"Information technology Business\",\n",
      "            \"Inventor\",\n",
      "            \"Stem Cell Research Business\",\n",
      "            \"Perfumes, Cosmetics, and Other Toilet Preparations Business\",\n",
      "            \"Defunct Organization\",\n",
      "            \"Computer hardware Business\",\n",
      "            \"Chemist\",\n",
      "            \"Physicist\",\n",
      "            \"International development Organization\",\n",
      "            \"Department\",\n",
      "            \"Foundation\",\n",
      "            \"Medicinal and Botanical Manufacturing Business\",\n",
      "            \"Psychologist\",\n",
      "            \"Cancer Center\",\n",
      "            \"Telecom Equipment Vendor Business\",\n",
      "            \"Land-grant university\",\n",
      "            \"Cooperative\",\n",
      "            \"Sports equipment Business\",\n",
      "            \"Neurologist\",\n",
      "            \"Drugs and Druggists' Sundries Merchant Wholesalers Business\",\n",
      "            \"Engineering and Construction Services Business\",\n",
      "            \"Aerospace Business\",\n",
      "            \"Mining Business\",\n",
      "            \"Pediatrics Hospital\",\n",
      "            \"Internet Publishing and Broadcasting and Web Search Portals Business\",\n",
      "            \"Medical Treatment\",\n",
      "            \"Blood donation Organization\",\n",
      "            \"Instruments for Measuring and Testing of Electricity and Electrical Signals Business\",\n",
      "            \"Cause Of Death\",\n",
      "            \"Women's rights Organization\",\n",
      "            \"Consumer company\",\n",
      "            \"Private equity Business\",\n",
      "            \"Plastics Material and Resin Manufacturing Business\",\n",
      "            \"Agricultural marketing Organization\",\n",
      "            \"Natural history Museum\",\n",
      "            \"Institute of technology\",\n",
      "            \"Toy Business\",\n",
      "            \"Anti-epileptic Agent Drug\",\n",
      "            \"Macrolide Antibiotic Drug\",\n",
      "            \"Vaccination Organization\",\n",
      "            \"Life Insurance Business\",\n",
      "            \"Physical medicine and rehabilitation Hospital\",\n",
      "            \"Palliative care Organization\",\n",
      "            \"Mental health Organization\",\n",
      "            \"Biotechnology Organization\"\n",
      "            }"
     ],
     "language": "python",
     "metadata": {},
     "outputs": [],
     "prompt_number": 6
    },
    {
     "cell_type": "markdown",
     "metadata": {},
     "source": [
      "### Picking best match based on Freebase category"
     ]
    },
    {
     "cell_type": "code",
     "collapsed": false,
     "input": [
      "best_match = {}\n",
      "not_found = []"
     ],
     "language": "python",
     "metadata": {},
     "outputs": [],
     "prompt_number": 7
    },
    {
     "cell_type": "code",
     "collapsed": false,
     "input": [
      "for a in sponsors['agency'].value_counts().index:\n",
      "    if a not in best_match and a not in not_found:\n",
      "        aa = a.encode('utf-8')\n",
      "        if len(sponsor_poss[aa]) > 0:\n",
      "            if 'notable' in sponsor_poss[aa][0] and sponsor_poss[aa][0]['notable']['name'] in cat_ok:\n",
      "                best_match[a] = sponsor_poss[aa][0]\n",
      "            else:\n",
      "                print u'Sponsor: %s' % a\n",
      "                for i, s in enumerate(sponsor_poss[aa][:5]):\n",
      "                    print '%d.  %s' % (i, str(s))\n",
      "                same = raw_input('Go with one of these? (enter number) ')\n",
      "                if same in ['0','1','2','3','4']:\n",
      "                    best_match[a] = sponsor_poss[aa][int(same)]\n",
      "                else:\n",
      "                    not_found.append(a)\n",
      "                print\n",
      "                print\n",
      "        else:\n",
      "            not_found.append(a)"
     ],
     "language": "python",
     "metadata": {},
     "outputs": []
    },
    {
     "cell_type": "code",
     "collapsed": true,
     "input": [
      "pickle.dump(best_match,open('../data/facility_match_good.pkl','wb'))\n",
      "pickle.dump(not_found,open('../data/facility_match_bad.pkl','wb'))"
     ],
     "language": "python",
     "metadata": {},
     "outputs": [],
     "prompt_number": 104
    },
    {
     "cell_type": "markdown",
     "metadata": {},
     "source": [
      "### Getting data for good matches"
     ]
    },
    {
     "cell_type": "code",
     "collapsed": false,
     "input": [
      "# procedure get data\n",
      "def query_url(url, param_data=None, retries=5):\n",
      "    '''\n",
      "    url: full URL from which to request data\n",
      "    retries: maximum number of retries before moving on\n",
      "    '''\n",
      "    while retries > 0:\n",
      "        try:\n",
      "            if param_data:\n",
      "                r = requests.get(url, params=param_data)\n",
      "            else:\n",
      "                r = requests.get(url)\n",
      "        except:\n",
      "            print '  Got error querying %s. Retrying.' % url\n",
      "            pass\n",
      "        if r.status_code == 200:\n",
      "            return json.loads(r.text)\n",
      "        else:\n",
      "            retries -= 1\n",
      "    \n",
      "    # if we've tried enough times, print problem and return nothing\n",
      "    print '  Unable to query %s. Status code %d.' % (url, r.status_code)\n",
      "    return None"
     ],
     "language": "python",
     "metadata": {},
     "outputs": [],
     "prompt_number": 43
    },
    {
     "cell_type": "code",
     "collapsed": false,
     "input": [
      "# procedure to get type and location data\n",
      "def query_freebase(mid, name):\n",
      "    '''\n",
      "    mid: string representing unique Freebase ID\n",
      "    name: string of entity name, e.g. 'University of California, Berkeley'\n",
      "    '''\n",
      "    # initialize variables\n",
      "    type_data = None\n",
      "    loc_data = None\n",
      "    \n",
      "    # type information\n",
      "    url = 'https://www.googleapis.com/freebase/v1/topic/m/%s?filter=/type/object/type&key=%s' % (mid, gkey)\n",
      "    type_info = query_url(url)\n",
      "    if type_info and 'property' in type_info and '/type/object/type' in type_info['property']:\n",
      "        type_data = [d['text'] for d in type_info['property']['/type/object/type']['values']\n",
      "                     if d['id'][:5] not in ('/base','/user','/comm')]\n",
      "    \n",
      "    # location information\n",
      "    url = 'https://www.googleapis.com/freebase/v1/topic/m/%s?filter=/location/location/geolocation&key=%s' % (mid, gkey)\n",
      "    loc_info = query_url(url)\n",
      "    if loc_info and 'property' in loc_info and '/location/location/geolocation' in loc_info['property']:\n",
      "        for v in loc_info['property']['/location/location/geolocation']['values']:\n",
      "            if '/type/object/type' in v['property'] and v['property']['/type/object/type']['values'][0]['text'] == 'Geocode':\n",
      "                loc_data = {'lat': v['property']['/location/geocode/latitude']['values'][0]['value'],\n",
      "                            'lng': v['property']['/location/geocode/longitude']['values'][0]['value'],\n",
      "                            'source': 'Freebase'\n",
      "                            }\n",
      "    \n",
      "    # backfilling with gmaps\n",
      "    if not loc_data:\n",
      "        param_data = {'address': name, 'key': gkey}\n",
      "        url = 'https://maps.googleapis.com/maps/api/geocode/json'\n",
      "        loc_info = query_url(url, param_data=param_data)\n",
      "        if loc_info and len(loc_info['results']) > 0:\n",
      "            loc_data = loc_info['results'][0]['geometry']['location']\n",
      "            loc_data['address'] = loc_info['results'][0]['formatted_address']\n",
      "            loc_data['source'] = 'Google Maps'\n",
      "    \n",
      "    return (type_data, loc_data)"
     ],
     "language": "python",
     "metadata": {},
     "outputs": [],
     "prompt_number": 143
    },
    {
     "cell_type": "code",
     "collapsed": false,
     "input": [
      "to_remove = []"
     ],
     "language": "python",
     "metadata": {},
     "outputs": [],
     "prompt_number": 64
    },
    {
     "cell_type": "code",
     "collapsed": false,
     "input": [
      "for b in sponsors['agency'].value_counts().index:\n",
      "    if b in best_match and b not in to_remove and 'types' not in best_match[b]:\n",
      "        # print the basics\n",
      "        print 'Sponsor name: %s' % b\n",
      "        print 'Freebase name: %s' % best_match[b]['name']\n",
      "        print 'Freebase id: %s' % best_match[b]['mid'][3:]\n",
      "        if 'notable' in best_match[b]:\n",
      "            print 'Notable for: %s' % best_match[b]['notable']['name']\n",
      "        else:\n",
      "            print 'No notable listing'\n",
      "        print\n",
      "        \n",
      "        # print top facilities\n",
      "        cur_trials = sponsors[sponsors.agency == b]['nct_id']\n",
      "        facs = facilities_nct.loc[cur_trials]['facility_name'].value_counts()[:3].index\n",
      "        print 'Top facilities: %s' % str(list(facs))\n",
      "        print\n",
      "        \n",
      "        # get type and location information\n",
      "        type_data, loc_data = query_freebase(best_match[b]['mid'][3:], best_match[b]['name'])\n",
      "        print 'Freebase types: ' + ', '.join(type_data)\n",
      "        print\n",
      "        print 'Location info: %s' % str(loc_data)\n",
      "        \n",
      "        # check if this is acceptable\n",
      "        ok = raw_input('Enter to accept, \"m\" to see other possibilities, \"d\" to drop geocode, any other key to reject both\\n')\n",
      "        if not ok or ok.strip() == '':\n",
      "            best_match[b]['types'] = type_data\n",
      "            if loc_data:\n",
      "                best_match[b]['geo'] = loc_data\n",
      "        elif ok.lower()[0] == 'd':\n",
      "            best_match[b]['types'] = type_data\n",
      "        elif ok.lower()[0] == 'm':\n",
      "            for i, p in enumerate(sponsor_poss[b.encode('utf-8')]):\n",
      "                if len(p['name']) > 0:\n",
      "                    print '%d. %s (%s) %s' % (i, p['name'], p['notable']['name'] if 'notable' in p else 'no notable', p['mid'])\n",
      "            ok2 = raw_input('Any of these? ')\n",
      "            try:\n",
      "                new_s = int(ok2)\n",
      "                type_data, loc_data = query_freebase(sponsor_poss[b][new_s]['mid'][3:], sponsor_poss[b][new_s]['name'])\n",
      "                print 'Freebase types: ' + ', '.join(type_data)\n",
      "                print\n",
      "                print 'Location info: %s' % str(loc_data)\n",
      "                ok3 = raw_input('Enter to accept, any other key to reject ')\n",
      "                if not ok3 or ok3.strip() == '':\n",
      "                    best_match[b] = sponsor_poss[b][new_s]\n",
      "                    best_match[b]['types'] = type_data\n",
      "                    if loc_data:\n",
      "                        best_match[b]['geo'] = loc_data\n",
      "                else:\n",
      "                    to_remove.append(b)\n",
      "            except:\n",
      "                to_remove.append(b)\n",
      "        else:\n",
      "            to_remove.append(b)\n",
      "        print\n",
      "        print"
     ],
     "language": "python",
     "metadata": {},
     "outputs": []
    },
    {
     "cell_type": "code",
     "collapsed": false,
     "input": [
      "len([b for b in best_match if 'types' in best_match[b]])"
     ],
     "language": "python",
     "metadata": {},
     "outputs": [
      {
       "metadata": {},
       "output_type": "pyout",
       "prompt_number": 177,
       "text": [
        "998"
       ]
      }
     ],
     "prompt_number": 177
    },
    {
     "cell_type": "code",
     "collapsed": false,
     "input": [
      "to_remove"
     ],
     "language": "python",
     "metadata": {},
     "outputs": [
      {
       "metadata": {},
       "output_type": "pyout",
       "prompt_number": 108,
       "text": [
        "[u'Lundbeck Foundation',\n",
        " u'Hospital for Special Surgery, New York',\n",
        " u'The Royal Norwegian Ministry of Health',\n",
        " u'Aesculap AG',\n",
        " u'Hvidovre University Hospital',\n",
        " u'Universit\\xe0 degli Studi di Ferrara',\n",
        " u'Christiana Care Health Services',\n",
        " u'ORA, Inc.',\n",
        " u'Fresenius Medical Care North America',\n",
        " u'Dong-A Pharmaceutical Co., Ltd.',\n",
        " u'Seattle Institute for Biomedical and Clinical Research',\n",
        " u'Ministry of Health, France',\n",
        " u'Huashan Hospital',\n",
        " u'Baylor Research Institute',\n",
        " u'Alberta Heritage Foundation for Medical Research',\n",
        " u'Southeast University, China',\n",
        " u'Biotronik, Inc.',\n",
        " u'Healthpoint',\n",
        " u'Cardiovascular Institute & Fuwai Hospital',\n",
        " u'Mount Sinai Hospital, Canada',\n",
        " u'Sahlgrenska University Hospital, Sweden',\n",
        " u'ConvaTec Inc.',\n",
        " u'Academisch Medisch Centrum - Universiteit van Amsterdam (AMC-UvA)',\n",
        " u'Institute of Tropical Medicine, Belgium']"
       ]
      }
     ],
     "prompt_number": 108
    },
    {
     "cell_type": "code",
     "collapsed": false,
     "input": [
      "not_found = list(set(not_found + to_remove))\n",
      "for r in to_remove:\n",
      "    if r in best_match: del best_match[r]\n",
      "\n",
      "for b in best_match.keys():\n",
      "    best_match[b]['trials'] = sponsor_count[b]\n",
      "pickle.dump(best_match,open('../data/facility_match_good.pkl','wb'))\n",
      "pickle.dump(not_found,open('../data/facility_match_bad.pkl','wb'))"
     ],
     "language": "python",
     "metadata": {},
     "outputs": [],
     "prompt_number": 179
    },
    {
     "cell_type": "code",
     "collapsed": false,
     "input": [],
     "language": "python",
     "metadata": {},
     "outputs": []
    }
   ],
   "metadata": {}
  }
 ]
}