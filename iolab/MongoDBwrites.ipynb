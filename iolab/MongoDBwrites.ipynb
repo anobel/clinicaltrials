{
 "metadata": {
  "name": "",
  "signature": "sha256:9749fd36fdd5d9da151591c69eff08f2f30122b2885abf0fc31721ee08feda89"
 },
 "nbformat": 3,
 "nbformat_minor": 0,
 "worksheets": [
  {
   "cells": [
    {
     "cell_type": "code",
     "collapsed": false,
     "input": [
      "import pymongo, cPickle as pickle, codecs, requests, json\n",
      "from bs4 import BeautifulSoup\n",
      "from collections import Counter\n",
      "from scipy import stats\n",
      "from connect import mongoip, gkey"
     ],
     "language": "python",
     "metadata": {},
     "outputs": [],
     "prompt_number": 1
    },
    {
     "cell_type": "markdown",
     "metadata": {},
     "source": [
      "### Read data"
     ]
    },
    {
     "cell_type": "markdown",
     "metadata": {},
     "source": [
      "Condition data"
     ]
    },
    {
     "cell_type": "code",
     "collapsed": false,
     "input": [
      "corrections = {\"Sarcoma, Ewing's\": 'Sarcoma, Ewing',\n",
      "               'Beta-Thalassemia': 'beta-Thalassemia',\n",
      "               'Von Willebrand Disease, Type 3': 'von Willebrand Disease, Type 3',\n",
      "               'Von Willebrand Disease, Type 2': 'von Willebrand Disease, Type 2',\n",
      "               'Von Willebrand Disease, Type 1': 'von Willebrand Disease, Type 1',\n",
      "               'Felty''s Syndrome': 'Felty Syndrome',\n",
      "               'Von Hippel-Lindau Disease': 'von Hippel-Lindau Disease',\n",
      "               'Retrognathism': 'Retrognathia',\n",
      "               'Regurgitation, Gastric': 'Laryngopharyngeal Reflux',\n",
      "               'Persistent Hyperinsulinemia Hypoglycemia of Infancy': 'Congenital Hyperinsulinism',\n",
      "               'Von Willebrand Diseases': 'von Willebrand Diseases',\n",
      "               'Pontine Glioma': 'Brain Stem Neoplasms',\n",
      "               'Mental Retardation': 'Intellectual Disability',\n",
      "               'Overdose': 'Drug Overdose',\n",
      "               'Beta-Mannosidosis': 'beta-Mannosidosis',\n",
      "               'Alpha 1-Antitrypsin Deficiency': 'alpha 1-Antitrypsin Deficiency',\n",
      "               'Intervertebral Disk Displacement': 'Intervertebral Disc Displacement',\n",
      "               'Alpha-Thalassemia': 'alpha-Thalassemia',\n",
      "               'Mycobacterium Infections, Atypical': 'Mycobacterium Infections, Nontuberculous',\n",
      "               'Legg-Perthes Disease': 'Legg-Calve-Perthes Disease',\n",
      "               'Intervertebral Disk Degeneration': 'Intervertebral Disc Degeneration',\n",
      "               'Alpha-Mannosidosis': 'alpha-Mannosidosis',\n",
      "               'Gestational Trophoblastic Disease': 'Gestational Trophoblastic Neoplasms'\n",
      "               }\n",
      "\n",
      "cond = {}\n",
      "cond_trials = {}\n",
      "for row in codecs.open('../data/condition_browse.txt','r','utf-8').readlines():\n",
      "    row_id, trial_id, mesh_term = row.strip().split('|')\n",
      "    \n",
      "    # fix mesh term if necessary\n",
      "    if mesh_term in corrections: mesh_term = corrections[mesh_term]\n",
      "    \n",
      "    # add condition to trial dictionary\n",
      "    if trial_id not in cond: cond[trial_id] = []\n",
      "    cond[trial_id].append(mesh_term)\n",
      "    \n",
      "    # add trial to condition dictionary\n",
      "    if mesh_term not in cond_trials: cond_trials[mesh_term] = []\n",
      "    cond_trials[mesh_term].append(trial_id)"
     ],
     "language": "python",
     "metadata": {},
     "outputs": [],
     "prompt_number": 2
    },
    {
     "cell_type": "markdown",
     "metadata": {},
     "source": [
      "Intervention data"
     ]
    },
    {
     "cell_type": "code",
     "collapsed": false,
     "input": [
      "# first load MeSH thesaurus to exclude invalid interventions\n",
      "mesh_ok = {row.split(\"|\")[2] for row in codecs.open('../data/mesh_thesaurus.txt','r','utf-8').readlines()}"
     ],
     "language": "python",
     "metadata": {},
     "outputs": [],
     "prompt_number": 3
    },
    {
     "cell_type": "code",
     "collapsed": false,
     "input": [
      "inv = {}\n",
      "for row in codecs.open('../data/intervention_browse.txt','r','utf-8').readlines():\n",
      "    row_id, trial_id, mesh_term = row.strip().split('|')\n",
      "    \n",
      "    # add intervention to trial dictionary\n",
      "    if mesh_term in mesh_ok:\n",
      "        if trial_id not in inv: cond[trial_id] = []\n",
      "        inv[trial_id].append(mesh_term)"
     ],
     "language": "python",
     "metadata": {},
     "outputs": [],
     "prompt_number": 4
    },
    {
     "cell_type": "markdown",
     "metadata": {},
     "source": [
      "Medline topics data (also a thesaurus)"
     ]
    },
    {
     "cell_type": "code",
     "collapsed": false,
     "input": [
      "soup = BeautifulSoup(codecs.open('../data/mplus_topics_2014-11-04.xml','r','utf-8').read())"
     ],
     "language": "python",
     "metadata": {},
     "outputs": [],
     "prompt_number": 5
    },
    {
     "cell_type": "code",
     "collapsed": false,
     "input": [
      "# synonyms for MeSH terms (and reverse), and topic descriptions\n",
      "mesh_syn = {}\n",
      "topic_desc = {}\n",
      "for t in soup.find_all(\"health-topic\",language=\"English\"):\n",
      "    # topic summary\n",
      "    topic_desc[t.attrs[\"title\"]] = t.find(\"full-summary\").text.replace('\\n','').replace('\\t','')\n",
      "    \n",
      "    # MeSH synonyms\n",
      "    cur_mesh = t.find(\"mesh-heading\").descriptor.text\n",
      "    if cur_mesh in cond_trials:\n",
      "        if cur_mesh not in mesh_syn: mesh_syn[cur_mesh] = set()\n",
      "        mesh_syn[cur_mesh] |=  set([t.attrs[\"title\"]] + [a.text for a in t.find_all(\"also-called\")])\n",
      "\n",
      "# cleanup synonyms lookup dictionary\n",
      "for m in mesh_syn.keys():\n",
      "    cur_set = mesh_syn[m].copy()\n",
      "    for s in mesh_syn[m]:\n",
      "        if m.lower() == s.lower() or len(s) == 1: cur_set -= set([s])\n",
      "    if len(cur_set) == 0:\n",
      "        del(mesh_syn[m])\n",
      "    else:\n",
      "        mesh_syn[m] = cur_set"
     ],
     "language": "python",
     "metadata": {},
     "outputs": [],
     "prompt_number": 6
    },
    {
     "cell_type": "code",
     "collapsed": false,
     "input": [
      "# get list of common terms\n",
      "common_terms = {t for m in mesh_syn for t in mesh_syn[m]}\n",
      "\n",
      "# create reverse lookup dictionary of common to MeSH term\n",
      "mesh_syn_r = {}\n",
      "for c in common_terms:\n",
      "    mesh_syn_r[c] = [m for m in mesh_syn if c in mesh_syn[m]]"
     ],
     "language": "python",
     "metadata": {},
     "outputs": [],
     "prompt_number": 7
    },
    {
     "cell_type": "code",
     "collapsed": false,
     "input": [
      "# expand synonym dictionary to lookup for all terms, not just MeSH terms\n",
      "all_syn = mesh_syn.copy()\n",
      "for m in mesh_syn.keys():\n",
      "    for t in mesh_syn[m]:\n",
      "        if t not in all_syn: all_syn[t] = set()\n",
      "        all_syn[t] |= (set([m]) | mesh_syn[m]) - set([t])"
     ],
     "language": "python",
     "metadata": {},
     "outputs": [],
     "prompt_number": 8
    },
    {
     "cell_type": "markdown",
     "metadata": {},
     "source": [
      "Sponsors"
     ]
    },
    {
     "cell_type": "code",
     "collapsed": false,
     "input": [
      "sponsors = {}\n",
      "sponsor_ids = {}\n",
      "sponsors_trials = {}\n",
      "id_cnt = 101\n",
      "for row in codecs.open('../data/sponsors.txt','r','utf-8').readlines():\n",
      "    row_id, nct_id, sponsor_type, sponsor_name, funding_type = row.split('|')\n",
      "    \n",
      "    # add trial to sponsor dictionary\n",
      "    if sponsor_name not in sponsors: \n",
      "        sponsors[sponsor_name] = {'id': str(id_cnt),\n",
      "                                  'trials': []\n",
      "                                  }\n",
      "        sponsor_ids[str(id_cnt)] = sponsor_name\n",
      "        id_cnt += 1\n",
      "    sponsors[sponsor_name]['trials'].append(nct_id)\n",
      "    \n",
      "    # add sponsor to trial dictionary\n",
      "    if nct_id not in sponsors_trials: sponsors_trials[nct_id] = {}\n",
      "    if sponsor_type == 'Collaborator':\n",
      "        if 'coll' not in sponsors_trials[nct_id]: sponsors_trials[nct_id]['coll'] = []\n",
      "        sponsors_trials[nct_id]['coll'].append(sponsor_name)\n",
      "    else:\n",
      "        sponsors_trials[nct_id]['pri'] = sponsor_name"
     ],
     "language": "python",
     "metadata": {},
     "outputs": [],
     "prompt_number": 9
    },
    {
     "cell_type": "code",
     "collapsed": false,
     "input": [
      "sponsors_good = pickle.load(open('../data/facility_match_good.pkl','rb'))"
     ],
     "language": "python",
     "metadata": {},
     "outputs": [],
     "prompt_number": 10
    },
    {
     "cell_type": "code",
     "collapsed": false,
     "input": [
      "sponsors_cond = {}\n",
      "for c in cond_trials:\n",
      "    sponsors_cond[c] = Counter([sponsors[sponsors_trials[t]['pri']]['id'] for t in cond_trials[c] if sponsors_trials[t]['pri'] in sponsors_good.keys()])"
     ],
     "language": "python",
     "metadata": {},
     "outputs": [],
     "prompt_number": 12
    },
    {
     "cell_type": "markdown",
     "metadata": {},
     "source": [
      "Trial data (status, title, sponsor, conditions, interventions)"
     ]
    },
    {
     "cell_type": "code",
     "collapsed": false,
     "input": [
      "active_trials = {}\n",
      "for row in codecs.open('../data/clinical_study.txt','r','utf-8').readlines():\n",
      "    data = row.split('|')\n",
      "    if data[11] in ('Enrolling by invitation','Active, not recruiting','Recruiting'):\n",
      "        nct_id = data[0]\n",
      "        active_trials[nct_id] = {'status': data[11],\n",
      "                                  'title': data[4],\n",
      "                                  'sponsor_pri': sponsors_trials[nct_id]['pri'],\n",
      "                                  'sponsor_coll': sponsors_trials[nct_id]['coll'] if 'coll' in sponsors_trials[nct_id] else None,\n",
      "                                  'conds': cond[nct_id] if nct_id in cond else None,\n",
      "                                  'invs': inv[nct_id] if nct_id in inv else None}"
     ],
     "language": "python",
     "metadata": {},
     "outputs": [],
     "prompt_number": 13
    },
    {
     "cell_type": "markdown",
     "metadata": {},
     "source": [
      "Facilities"
     ]
    },
    {
     "cell_type": "code",
     "collapsed": false,
     "input": [
      "all_facs = {}\n",
      "trial_facs = {}\n",
      "for row in codecs.open('../data/facilities.txt','r','utf-8').readlines():\n",
      "    data = row.split(\"|\")\n",
      "    all_facs[data[0]] = data[1]\n",
      "    if data[1] not in trial_facs: trial_facs[data[1]] = []\n",
      "    trial_facs[data[1]].append(data[0])"
     ],
     "language": "python",
     "metadata": {},
     "outputs": [],
     "prompt_number": 14
    },
    {
     "cell_type": "code",
     "collapsed": false,
     "input": [
      "# get deduplicated facilities\n",
      "facs = pickle.load(open('../data/facility_clusters.pkl','rb'))\n",
      "\n",
      "# get most frequent facility name for deduped facility clusters\n",
      "facs_mode = facs.groupby(['cluster','facility_name']).facility_id.count().reset_index()\n",
      "facs_mode['len_fac'] = facs_mode.facility_name.apply(lambda x: len(x))\n",
      "clus_name = facs_mode.sort(['cluster', 0, 'len_fac'], ascending=[1,0,1]).drop_duplicates(['cluster'])[['cluster','facility_name']].set_index('cluster')\n",
      "\n",
      "# set index on facilities for quick lookup\n",
      "facs = facs[['facility_id','cluster']].set_index('facility_id')"
     ],
     "language": "python",
     "metadata": {},
     "outputs": [],
     "prompt_number": 15
    },
    {
     "cell_type": "markdown",
     "metadata": {},
     "source": [
      "### Summarize condition data"
     ]
    },
    {
     "cell_type": "code",
     "collapsed": false,
     "input": [
      "# getting counts of trials for each condition (and synonym)\n",
      "cond_cnt = {}\n",
      "\n",
      "def add_to_dict(word, subtotal):\n",
      "    if word not in cond_cnt: cond_cnt[word] = 0\n",
      "    cond_cnt[word] += subtotal\n",
      "\n",
      "for c, trials in cond_trials.items():\n",
      "    add_to_dict(c, len(trials))\n",
      "    if c in mesh_syn:\n",
      "        for t in mesh_syn[c]:\n",
      "            add_to_dict(t, len(trials))"
     ],
     "language": "python",
     "metadata": {},
     "outputs": [],
     "prompt_number": 16
    },
    {
     "cell_type": "code",
     "collapsed": false,
     "input": [
      "cond_final = []\n",
      "i_cnt = 101\n",
      "for c in cond_cnt.keys():\n",
      "    # flag for is a MeSH term, also to be used later\n",
      "    is_mesh = c in cond_trials\n",
      "    if not is_mesh:\n",
      "        cur_mesh = mesh_syn_r[c][0]\n",
      "    else:\n",
      "        cur_mesh = c\n",
      "    \n",
      "    cond_dict = {'cond_name': c,\n",
      "                 'cond_id': str(i_cnt),\n",
      "                 'num_trials': cond_cnt[c],\n",
      "                 'cond_name_mesh': cur_mesh,\n",
      "                 'cond_summary': None,\n",
      "                 'cond_synonyms': None,\n",
      "                 'cond_trials_active': [],\n",
      "                 'cond_inst_top': []\n",
      "                 }\n",
      "    \n",
      "    # filling in summary if it exists for this term or any synonym\n",
      "    if c in topic_desc:\n",
      "        cond_dict['cond_summary'] = topic_desc[c]\n",
      "    elif c in all_syn:\n",
      "        for s in all_syn[c]:\n",
      "            if s in topic_desc:\n",
      "                cond_dict['cond_summary'] = topic_desc[s]\n",
      "    \n",
      "    # filling in synonyms if they exist\n",
      "    if c in all_syn:\n",
      "        cond_dict['cond_synonyms'] = list(all_syn[c])\n",
      "    \n",
      "    # filling in active trials\n",
      "    for t in cond_trials[cur_mesh]:\n",
      "        if t in active_trials:\n",
      "            trial_dict = {'trial_id': t,\n",
      "                          'trial_title': active_trials[t]['title'],\n",
      "                          'trial_sponsor': active_trials[t]['sponsor_pri'],\n",
      "                          'trial_cond': active_trials[t]['conds'],\n",
      "                          'trial_iv': active_trials[t]['invs']\n",
      "                          }\n",
      "            cond_dict['cond_trials_active'].append(trial_dict)\n",
      "    \n",
      "    # filling in top institutions\n",
      "    for sid, cnt in sorted(sponsors_cond[cur_mesh].items(), key=lambda x: x[1], reverse=True)[:5]:\n",
      "        inst_dict = {'inst_name': sponsors_good[sponsor_ids[sid]]['name'],\n",
      "                     'inst_id': sid,\n",
      "                     'inst_img': sponsors_good[sponsor_ids[sid]]['image'],\n",
      "                     'inst_loc': sponsors_good[sponsor_ids[sid]]['geo']['loc']\n",
      "                     }\n",
      "        cond_dict['cond_inst_top'].append(inst_dict)\n",
      "    \n",
      "    \n",
      "    cond_final.append(cond_dict)\n",
      "    \n",
      "    i_cnt += 1"
     ],
     "language": "python",
     "metadata": {},
     "outputs": [],
     "prompt_number": 33
    },
    {
     "cell_type": "markdown",
     "metadata": {},
     "source": [
      "### Connect to MongoDB instance"
     ]
    },
    {
     "cell_type": "code",
     "collapsed": false,
     "input": [
      "c = pymongo.MongoClient(host=mongoip)\n",
      "db = c.ctdb"
     ],
     "language": "python",
     "metadata": {},
     "outputs": [],
     "prompt_number": 20
    },
    {
     "cell_type": "code",
     "collapsed": false,
     "input": [
      "cond_coll = db.conditions\n",
      "oids = cond_coll.insert(cond_final)"
     ],
     "language": "python",
     "metadata": {},
     "outputs": [],
     "prompt_number": 36
    },
    {
     "cell_type": "code",
     "collapsed": false,
     "input": [
      "pickle.dump(dict(zip(oids,cond_final)),open('../data/condition_json.pkl','wb'))"
     ],
     "language": "python",
     "metadata": {},
     "outputs": [],
     "prompt_number": 37
    },
    {
     "cell_type": "code",
     "collapsed": false,
     "input": [],
     "language": "python",
     "metadata": {},
     "outputs": []
    }
   ],
   "metadata": {}
  }
 ]
}