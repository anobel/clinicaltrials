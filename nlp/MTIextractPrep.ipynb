{
 "metadata": {
  "name": "",
  "signature": "sha256:f150b3bf6ab58e8c2ff76126d6fe2860e164b58f5a45f7f4dd0858b437dd926a"
 },
 "nbformat": 3,
 "nbformat_minor": 0,
 "worksheets": [
  {
   "cells": [
    {
     "cell_type": "code",
     "collapsed": false,
     "input": [
      "import codecs, string, random, math, cPickle as pickle, re"
     ],
     "language": "python",
     "metadata": {},
     "outputs": [],
     "prompt_number": 1
    },
    {
     "cell_type": "code",
     "collapsed": false,
     "input": [
      "# load trial descriptions\n",
      "trial_desc = pickle.load(open('../data/trial_desc.pkl','rb'))"
     ],
     "language": "python",
     "metadata": {},
     "outputs": [],
     "prompt_number": 2
    },
    {
     "cell_type": "code",
     "collapsed": false,
     "input": [
      "trial_desc.items()[:2]"
     ],
     "language": "python",
     "metadata": {},
     "outputs": [
      {
       "metadata": {},
       "output_type": "pyout",
       "prompt_number": 3,
       "text": [
        "[(u'NCT01025063',\n",
        "  (u'This study will investigate the safety and efficacy of treatment of choroidal neovascularization (CNV) due to age-related macular degeneration (AMD) with a combination of ranibizumab (Lucentis) and verteporfin PDT (Visudyne), as compared with ranibizumab monotherapy.',\n",
        "   '')),\n",
        " (u'NCT00499928',\n",
        "  (u'This study will examine the biological fate of radioactive SB-751689 administered to healthy males and healthy postmenopausal women. Subjects will receive a single oral dose of radioactive SB-751689. Excreta and blood samples will be taken over the course of 7 days. This study will help determine the major route of elimination of SB-751689 in humans. It will also provide samples (blood, plasma, urine, and stools) for analysis of metabolites, if any.',\n",
        "   ''))]"
       ]
      }
     ],
     "prompt_number": 3
    },
    {
     "cell_type": "code",
     "collapsed": false,
     "input": [
      "f = codecs.open('../data/MTIdescriptions.txt','w', encoding=\"ascii\", errors=\"replace\")\n",
      "for nctid in trial_desc.keys():\n",
      "    f.write('%s|%s\\n' % (nctid,' '.join(trial_desc[nctid])))\n",
      "f.close()"
     ],
     "language": "python",
     "metadata": {},
     "outputs": [],
     "prompt_number": 4
    },
    {
     "cell_type": "code",
     "collapsed": false,
     "input": [],
     "language": "python",
     "metadata": {},
     "outputs": []
    }
   ],
   "metadata": {}
  }
 ]
}