{
 "metadata": {
  "name": "",
  "signature": "sha256:f26de141b631ee846a49f5b3e26b79b60a719af7fcca75ba4bb5ec9b9b2737a2"
 },
 "nbformat": 3,
 "nbformat_minor": 0,
 "worksheets": [
  {
   "cells": [
    {
     "cell_type": "code",
     "collapsed": false,
     "input": [
      "import codecs, pandas as pd, cPickle as pickle, nltk\n",
      "from collections import Counter\n",
      "%matplotlib inline"
     ],
     "language": "python",
     "metadata": {},
     "outputs": [],
     "prompt_number": 1
    },
    {
     "cell_type": "markdown",
     "metadata": {},
     "source": [
      "### Read in MeSH terms for conditions and interventions, and thesaurus"
     ]
    },
    {
     "cell_type": "code",
     "collapsed": false,
     "input": [
      "corrections = {\"Sarcoma, Ewing's\": 'Sarcoma, Ewing',\n",
      "               'Beta-Thalassemia': 'beta-Thalassemia',\n",
      "               'Von Willebrand Disease, Type 3': 'von Willebrand Disease, Type 3',\n",
      "               'Von Willebrand Disease, Type 2': 'von Willebrand Disease, Type 2',\n",
      "               'Von Willebrand Disease, Type 1': 'von Willebrand Disease, Type 1',\n",
      "               'Felty''s Syndrome': 'Felty Syndrome',\n",
      "               'Von Hippel-Lindau Disease': 'von Hippel-Lindau Disease',\n",
      "               'Retrognathism': 'Retrognathia',\n",
      "               'Regurgitation, Gastric': 'Laryngopharyngeal Reflux',\n",
      "               'Persistent Hyperinsulinemia Hypoglycemia of Infancy': 'Congenital Hyperinsulinism',\n",
      "               'Von Willebrand Diseases': 'von Willebrand Diseases',\n",
      "               'Pontine Glioma': 'Brain Stem Neoplasms',\n",
      "               'Mental Retardation': 'Intellectual Disability',\n",
      "               'Overdose': 'Drug Overdose',\n",
      "               'Beta-Mannosidosis': 'beta-Mannosidosis',\n",
      "               'Alpha 1-Antitrypsin Deficiency': 'alpha 1-Antitrypsin Deficiency',\n",
      "               'Intervertebral Disk Displacement': 'Intervertebral Disc Displacement',\n",
      "               'Alpha-Thalassemia': 'alpha-Thalassemia',\n",
      "               'Mycobacterium Infections, Atypical': 'Mycobacterium Infections, Nontuberculous',\n",
      "               'Legg-Perthes Disease': 'Legg-Calve-Perthes Disease',\n",
      "               'Intervertebral Disk Degeneration': 'Intervertebral Disc Degeneration',\n",
      "               'Alpha-Mannosidosis': 'alpha-Mannosidosis',\n",
      "               'Gestational Trophoblastic Disease': 'Gestational Trophoblastic Neoplasms'\n",
      "               }"
     ],
     "language": "python",
     "metadata": {},
     "outputs": [],
     "prompt_number": 2
    },
    {
     "cell_type": "code",
     "collapsed": false,
     "input": [
      "cond = {}\n",
      "for row in codecs.open('../data/condition_browse.txt','r','utf-8').readlines():\n",
      "    row_id, trial_id, mesh_term = row.strip().split('|')\n",
      "    if trial_id not in cond: cond[trial_id] = []\n",
      "    if mesh_term in corrections:\n",
      "        cond[trial_id].append(corrections[mesh_term])\n",
      "    else:\n",
      "        cond[trial_id].append(mesh_term)\n",
      "    \n",
      "interv = {}\n",
      "for row in codecs.open('../data/intervention_browse.txt','r','utf-8').readlines():\n",
      "    row_id, trial_id, mesh_term = row.strip().split('|')\n",
      "    if trial_id not in interv: interv[trial_id] = []\n",
      "    interv[trial_id].append(mesh_term)\n",
      "\n",
      "mesh_terms = {}\n",
      "mesh_lookup = {}\n",
      "for row in codecs.open('../data/mesh_thesaurus.txt','r','utf-8').readlines():\n",
      "    row_id, mesh_id, mesh_term = row.strip().split('|')\n",
      "    mesh_lookup[mesh_id] = mesh_term\n",
      "    if mesh_term not in mesh_terms: mesh_terms[mesh_term] = []\n",
      "    mesh_terms[mesh_term].append(mesh_id)"
     ],
     "language": "python",
     "metadata": {},
     "outputs": [],
     "prompt_number": 3
    },
    {
     "cell_type": "markdown",
     "metadata": {},
     "source": [
      "### Summarize some characteristics of the MeSH terms (and tree identifiers of each)"
     ]
    },
    {
     "cell_type": "code",
     "collapsed": false,
     "input": [
      "c = nltk.FreqDist([len(t) for t in cond.values()])"
     ],
     "language": "python",
     "metadata": {},
     "outputs": [],
     "prompt_number": 4
    },
    {
     "cell_type": "code",
     "collapsed": false,
     "input": [
      "c.plot()"
     ],
     "language": "python",
     "metadata": {},
     "outputs": [
      {
       "metadata": {},
       "output_type": "display_data",
       "png": "[encoded data removed]",
       "text": [
        "<matplotlib.figure.Figure at 0x1088f1550>"
       ]
      }
     ],
     "prompt_number": 5
    },
    {
     "cell_type": "code",
     "collapsed": false,
     "input": [
      "d = nltk.FreqDist([min([len(m) for m in mesh_terms[t[0]] if t[0] in mesh_terms]) for t in cond.values() \n",
      "                   if len(t) == 1 and t[0] in mesh_terms])"
     ],
     "language": "python",
     "metadata": {},
     "outputs": [],
     "prompt_number": 6
    },
    {
     "cell_type": "code",
     "collapsed": false,
     "input": [
      "d.plot()"
     ],
     "language": "python",
     "metadata": {},
     "outputs": [
      {
       "metadata": {},
       "output_type": "display_data",
       "png": "[encoded data removed]",
       "text": [
        "<matplotlib.figure.Figure at 0x10d8783d0>"
       ]
      }
     ],
     "prompt_number": 7
    },
    {
     "cell_type": "code",
     "collapsed": false,
     "input": [
      "f = nltk.FreqDist([t[i] for t in cond.values()\n",
      "                   for i in range(len(t))\n",
      "                   if t[i] in mesh_terms and Counter([m[:3] for m in mesh_terms[t[i]]]).items() == [(u'C17', 1), (u'C04', 1)]])"
     ],
     "language": "python",
     "metadata": {},
     "outputs": [],
     "prompt_number": 9
    },
    {
     "cell_type": "code",
     "collapsed": false,
     "input": [
      "f.items()"
     ],
     "language": "python",
     "metadata": {},
     "outputs": [
      {
       "metadata": {},
       "output_type": "pyout",
       "prompt_number": 10,
       "text": [
        "[(u'Breast Neoplasms', 5033),\n",
        " (u'Skin Neoplasms', 223),\n",
        " (u'Myofibroma', 170),\n",
        " (u'Keratosis, Actinic', 149),\n",
        " (u'Breast Neoplasms, Male', 111),\n",
        " (u'Inflammatory Breast Neoplasms', 47),\n",
        " (u'Mastocytosis', 35),\n",
        " (u'Ganglion Cysts', 26),\n",
        " (u'Mastocytoma', 4),\n",
        " (u'Breast Cyst', 3),\n",
        " (u'Mastocytosis, Cutaneous', 2),\n",
        " (u'Neoplasms, Connective Tissue', 2)]"
       ]
      }
     ],
     "prompt_number": 10
    },
    {
     "cell_type": "code",
     "collapsed": false,
     "input": [
      "g = nltk.FreqDist([tuple(Counter([m[:3] for i in range(len(t)) if t[i] in mesh_terms\n",
      "                   for m in mesh_terms[t[i]]]).items()) \n",
      "                   for t in cond.values()])"
     ],
     "language": "python",
     "metadata": {},
     "outputs": [],
     "prompt_number": 17
    },
    {
     "cell_type": "code",
     "collapsed": false,
     "input": [
      "g.items()[:50]"
     ],
     "language": "python",
     "metadata": {},
     "outputs": [
      {
       "metadata": {},
       "output_type": "pyout",
       "prompt_number": 43,
       "text": [
        "[(((u'C14', 1),), 3327),\n",
        " (((u'C17', 1), (u'C04', 1)), 3092),\n",
        " (((u'C19', 2), (u'C18', 2)), 2550),\n",
        " (((u'C04', 1),), 2299),\n",
        " (((u'C23', 1),), 2283),\n",
        " (((u'C04', 3),), 2257),\n",
        " (((u'F03', 1),), 2239),\n",
        " (((u'C02', 5), (u'C20', 2)), 2106),\n",
        " (((u'C08', 4), (u'C04', 2)), 1732),\n",
        " (((u'C08', 3), (u'C20', 1)), 1562),\n",
        " (((u'C12', 3), (u'C04', 1)), 1525),\n",
        " (((u'C11', 1),), 1307),\n",
        " (((u'F03', 2),), 1273),\n",
        " (((u'F03', 1), (u'C25', 1)), 1229),\n",
        " (((u'C23', 2),), 1151),\n",
        " (((u'F01', 1), (u'F03', 2)), 1148),\n",
        " (((u'C18', 1),), 1117),\n",
        " (((u'C23', 1), (u'C18', 1), (u'G07', 1), (u'E01', 1)), 1115),\n",
        " (((u'C20', 1), (u'C17', 1), (u'C05', 3)), 1105),\n",
        " (((u'C06', 1),), 1054),\n",
        " (((u'C08', 1), (u'C02', 1)), 1005),\n",
        " (((u'C14', 7),), 934),\n",
        " (((u'C23', 1), (u'C14', 1)), 898),\n",
        " (((u'C13', 1), (u'C12', 1)), 895),\n",
        " (((u'C04', 1), (u'C06', 5)), 877),\n",
        " (((u'C17', 1),), 859),\n",
        " (((u'C01', 1),), 847),\n",
        " (((u'C05', 1),), 847),\n",
        " (((u'C10', 3),), 815),\n",
        " (((u'C20', 2), (u'C04', 2), (u'C15', 2), (u'C14', 1)), 800),\n",
        " (((u'C19', 2), (u'C18', 2), (u'C20', 1)), 787),\n",
        " (((u'C20', 2), (u'C04', 2), (u'C15', 2)), 772),\n",
        " (((u'C06', 2),), 729),\n",
        " (((u'C10', 2), (u'F03', 1)), 715),\n",
        " (((u'C05', 2),), 710),\n",
        " (((u'C26', 1),), 705),\n",
        " (((u'C02', 6), (u'C06', 6)), 701),\n",
        " (((u'F01', 1), (u'F03', 1)), 698),\n",
        " (((u'C05', 4),), 697),\n",
        " (((u'C14', 2),), 666),\n",
        " (((u'C19', 1), (u'C18', 1)), 644),\n",
        " (((u'C10', 1),), 643),\n",
        " (((u'C08', 4),), 634),\n",
        " (((u'C10', 3), (u'C14', 3)), 617),\n",
        " (((u'C20', 2), (u'C04', 3), (u'C15', 2)), 603),\n",
        " (((u'C23', 2), (u'C14', 2)), 600),\n",
        " (((u'C20', 3), (u'C04', 3), (u'C15', 3)), 587),\n",
        " (((u'F01', 2),), 566),\n",
        " (((u'C17', 1), (u'C04', 2)), 537),\n",
        " (((u'C13', 2), (u'C12', 2)), 529)]"
       ]
      }
     ],
     "prompt_number": 43
    },
    {
     "cell_type": "code",
     "collapsed": false,
     "input": [
      "h = nltk.FreqDist([tuple(a.items()) \n",
      "                   for a in [Counter([m[:3] for c in v if c in mesh_terms for m in mesh_terms[c]]) \n",
      "                             for k, v in cond.items()]])"
     ],
     "language": "python",
     "metadata": {},
     "outputs": [],
     "prompt_number": 32
    },
    {
     "cell_type": "code",
     "collapsed": false,
     "input": [
      "h.items()[:50]"
     ],
     "language": "python",
     "metadata": {},
     "outputs": [
      {
       "metadata": {},
       "output_type": "pyout",
       "prompt_number": 44,
       "text": [
        "[(((u'C14', 1),), 3327),\n",
        " (((u'C17', 1), (u'C04', 1)), 3092),\n",
        " (((u'C19', 2), (u'C18', 2)), 2550),\n",
        " (((u'C04', 1),), 2299),\n",
        " (((u'C23', 1),), 2283),\n",
        " (((u'C04', 3),), 2257),\n",
        " (((u'F03', 1),), 2239),\n",
        " (((u'C02', 5), (u'C20', 2)), 2106),\n",
        " (((u'C08', 4), (u'C04', 2)), 1732),\n",
        " (((u'C08', 3), (u'C20', 1)), 1562),\n",
        " (((u'C12', 3), (u'C04', 1)), 1525),\n",
        " (((u'C11', 1),), 1307),\n",
        " (((u'F03', 2),), 1273),\n",
        " (((u'F03', 1), (u'C25', 1)), 1229),\n",
        " (((u'C23', 2),), 1151),\n",
        " (((u'F01', 1), (u'F03', 2)), 1148),\n",
        " (((u'C18', 1),), 1117),\n",
        " (((u'C23', 1), (u'C18', 1), (u'G07', 1), (u'E01', 1)), 1115),\n",
        " (((u'C20', 1), (u'C17', 1), (u'C05', 3)), 1105),\n",
        " (((u'C06', 1),), 1054),\n",
        " (((u'C08', 1), (u'C02', 1)), 1005),\n",
        " (((u'C14', 7),), 934),\n",
        " (((u'C23', 1), (u'C14', 1)), 898),\n",
        " (((u'C13', 1), (u'C12', 1)), 895),\n",
        " (((u'C04', 1), (u'C06', 5)), 877),\n",
        " (((u'C17', 1),), 859),\n",
        " (((u'C01', 1),), 847),\n",
        " (((u'C05', 1),), 847),\n",
        " (((u'C10', 3),), 815),\n",
        " (((u'C20', 2), (u'C04', 2), (u'C15', 2), (u'C14', 1)), 800),\n",
        " (((u'C19', 2), (u'C18', 2), (u'C20', 1)), 787),\n",
        " (((u'C20', 2), (u'C04', 2), (u'C15', 2)), 772),\n",
        " (((u'C06', 2),), 729),\n",
        " (((u'C10', 2), (u'F03', 1)), 715),\n",
        " (((u'C05', 2),), 710),\n",
        " (((u'C26', 1),), 705),\n",
        " (((u'C02', 6), (u'C06', 6)), 701),\n",
        " (((u'F01', 1), (u'F03', 1)), 698),\n",
        " (((u'C05', 4),), 697),\n",
        " (((u'C14', 2),), 666),\n",
        " (((u'C19', 1), (u'C18', 1)), 644),\n",
        " (((u'C10', 1),), 643),\n",
        " (((u'C08', 4),), 634),\n",
        " (((u'C10', 3), (u'C14', 3)), 617),\n",
        " (((u'C20', 2), (u'C04', 3), (u'C15', 2)), 603),\n",
        " (((u'C23', 2), (u'C14', 2)), 600),\n",
        " (((u'C20', 3), (u'C04', 3), (u'C15', 3)), 587),\n",
        " (((u'F01', 2),), 566),\n",
        " (((u'C17', 1), (u'C04', 2)), 537),\n",
        " (((u'C13', 2), (u'C12', 2)), 529)]"
       ]
      }
     ],
     "prompt_number": 44
    },
    {
     "cell_type": "code",
     "collapsed": false,
     "input": [
      "m = nltk.FreqDist([b for a in [Counter([m[:3] for c in v if c in mesh_terms for m in mesh_terms[c]]) \n",
      "                             for k, v in cond.items()] for b in a.keys()])"
     ],
     "language": "python",
     "metadata": {},
     "outputs": [],
     "prompt_number": 37
    },
    {
     "cell_type": "code",
     "collapsed": false,
     "input": [
      "sorted(m.items())"
     ],
     "language": "python",
     "metadata": {},
     "outputs": [
      {
       "metadata": {},
       "output_type": "pyout",
       "prompt_number": 38,
       "text": [
        "[(u'A10', 225),\n",
        " (u'A11', 184),\n",
        " (u'A12', 6),\n",
        " (u'A14', 1),\n",
        " (u'C01', 5591),\n",
        " (u'C02', 9251),\n",
        " (u'C03', 1109),\n",
        " (u'C04', 36805),\n",
        " (u'C05', 7794),\n",
        " (u'C06', 15268),\n",
        " (u'C07', 2047),\n",
        " (u'C08', 15496),\n",
        " (u'C09', 2231),\n",
        " (u'C10', 19431),\n",
        " (u'C11', 5037),\n",
        " (u'C12', 10237),\n",
        " (u'C13', 11387),\n",
        " (u'C14', 21057),\n",
        " (u'C15', 10411),\n",
        " (u'C16', 6775),\n",
        " (u'C17', 12047),\n",
        " (u'C18', 15182),\n",
        " (u'C19', 12080),\n",
        " (u'C20', 18640),\n",
        " (u'C21', 7),\n",
        " (u'C22', 96),\n",
        " (u'C23', 36392),\n",
        " (u'C24', 79),\n",
        " (u'C25', 3096),\n",
        " (u'C26', 4366),\n",
        " (u'E01', 3908),\n",
        " (u'E02', 24),\n",
        " (u'E05', 359),\n",
        " (u'F01', 5717),\n",
        " (u'F02', 439),\n",
        " (u'F03', 13868),\n",
        " (u'G04', 150),\n",
        " (u'G05', 262),\n",
        " (u'G07', 4738),\n",
        " (u'G08', 93),\n",
        " (u'G09', 83),\n",
        " (u'G10', 4),\n",
        " (u'G11', 255),\n",
        " (u'G12', 60),\n",
        " (u'G16', 196),\n",
        " (u'I01', 153),\n",
        " (u'N02', 1),\n",
        " (u'N06', 574)]"
       ]
      }
     ],
     "prompt_number": 38
    },
    {
     "cell_type": "code",
     "collapsed": false,
     "input": [
      "n = nltk.FreqDist([b for a in [Counter([m[:3] for c in v if c in mesh_terms for m in mesh_terms[c]]) \n",
      "                             for k, v in cond.items()] for b in a.keys() if len(a) == 1])"
     ],
     "language": "python",
     "metadata": {},
     "outputs": [],
     "prompt_number": 39
    },
    {
     "cell_type": "code",
     "collapsed": false,
     "input": [
      "sorted(n.items())"
     ],
     "language": "python",
     "metadata": {},
     "outputs": [
      {
       "metadata": {},
       "output_type": "pyout",
       "prompt_number": 40,
       "text": [
        "[(u'C01', 1062),\n",
        " (u'C02', 450),\n",
        " (u'C03', 615),\n",
        " (u'C04', 5749),\n",
        " (u'C05', 2450),\n",
        " (u'C06', 2055),\n",
        " (u'C07', 534),\n",
        " (u'C08', 1574),\n",
        " (u'C09', 133),\n",
        " (u'C10', 1702),\n",
        " (u'C11', 2263),\n",
        " (u'C12', 21),\n",
        " (u'C13', 560),\n",
        " (u'C14', 6475),\n",
        " (u'C15', 650),\n",
        " (u'C16', 95),\n",
        " (u'C17', 1234),\n",
        " (u'C18', 1495),\n",
        " (u'C19', 332),\n",
        " (u'C20', 527),\n",
        " (u'C23', 3746),\n",
        " (u'C24', 10),\n",
        " (u'C25', 37),\n",
        " (u'C26', 1450),\n",
        " (u'F01', 723),\n",
        " (u'F03', 3831)]"
       ]
      }
     ],
     "prompt_number": 40
    },
    {
     "cell_type": "code",
     "collapsed": false,
     "input": [
      "len(set([c for k, v in cond.items() for c in v]))"
     ],
     "language": "python",
     "metadata": {},
     "outputs": [
      {
       "metadata": {},
       "output_type": "pyout",
       "prompt_number": 41,
       "text": [
        "3365"
       ]
      }
     ],
     "prompt_number": 41
    },
    {
     "cell_type": "code",
     "collapsed": false,
     "input": [],
     "language": "python",
     "metadata": {},
     "outputs": []
    }
   ],
   "metadata": {}
  }
 ]
}