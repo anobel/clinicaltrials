{
 "metadata": {
  "name": "",
  "signature": "sha256:6c072c77ece305b1ff7601aacd87dae1ca92ba2c2740edffdd3962703ee76fb6"
 },
 "nbformat": 3,
 "nbformat_minor": 0,
 "worksheets": [
  {
   "cells": [
    {
     "cell_type": "code",
     "collapsed": false,
     "input": [
      "import codecs, string, random, math, cPickle as pickle, re\n",
      "from collections import Counter\n",
      "from IPython.display import HTML, Javascript, display\n",
      "\n",
      "from __future__ import division"
     ],
     "language": "python",
     "metadata": {},
     "outputs": [],
     "prompt_number": 34
    },
    {
     "cell_type": "markdown",
     "metadata": {},
     "source": [
      "## Load data"
     ]
    },
    {
     "cell_type": "code",
     "collapsed": false,
     "input": [
      "corrections = {\"Sarcoma, Ewing's\": 'Sarcoma, Ewing',\n",
      "               'Beta-Thalassemia': 'beta-Thalassemia',\n",
      "               'Von Willebrand Disease, Type 3': 'von Willebrand Disease, Type 3',\n",
      "               'Von Willebrand Disease, Type 2': 'von Willebrand Disease, Type 2',\n",
      "               'Von Willebrand Disease, Type 1': 'von Willebrand Disease, Type 1',\n",
      "               'Felty''s Syndrome': 'Felty Syndrome',\n",
      "               'Von Hippel-Lindau Disease': 'von Hippel-Lindau Disease',\n",
      "               'Retrognathism': 'Retrognathia',\n",
      "               'Regurgitation, Gastric': 'Laryngopharyngeal Reflux',\n",
      "               'Persistent Hyperinsulinemia Hypoglycemia of Infancy': 'Congenital Hyperinsulinism',\n",
      "               'Von Willebrand Diseases': 'von Willebrand Diseases',\n",
      "               'Pontine Glioma': 'Brain Stem Neoplasms',\n",
      "               'Mental Retardation': 'Intellectual Disability',\n",
      "               'Overdose': 'Drug Overdose',\n",
      "               'Beta-Mannosidosis': 'beta-Mannosidosis',\n",
      "               'Alpha 1-Antitrypsin Deficiency': 'alpha 1-Antitrypsin Deficiency',\n",
      "               'Intervertebral Disk Displacement': 'Intervertebral Disc Displacement',\n",
      "               'Alpha-Thalassemia': 'alpha-Thalassemia',\n",
      "               'Mycobacterium Infections, Atypical': 'Mycobacterium Infections, Nontuberculous',\n",
      "               'Legg-Perthes Disease': 'Legg-Calve-Perthes Disease',\n",
      "               'Intervertebral Disk Degeneration': 'Intervertebral Disc Degeneration',\n",
      "               'Alpha-Mannosidosis': 'alpha-Mannosidosis',\n",
      "               'Gestational Trophoblastic Disease': 'Gestational Trophoblastic Neoplasms'\n",
      "               }\n",
      "cond = {}\n",
      "cond_r = {}\n",
      "for row in codecs.open('../data/condition_browse.txt','r','utf-8').readlines():\n",
      "    row_id, trial_id, mesh_term = row.strip().split('|')\n",
      "    if mesh_term in corrections: mesh_term = corrections[mesh_term]\n",
      "    if mesh_term not in cond: cond[mesh_term] = []\n",
      "    cond[mesh_term].append(trial_id)\n",
      "    if trial_id not in cond_r: cond_r[trial_id] = []\n",
      "    cond_r[trial_id].append(mesh_term)\n",
      "\n",
      "mesh_codes = {}\n",
      "mesh_codes_r = {}\n",
      "for row in codecs.open('../data/mesh_thesaurus.txt','r','utf-8').readlines():\n",
      "    row_id, mesh_id, mesh_term = row.strip().split('|')\n",
      "    mesh_codes[mesh_id] = mesh_term\n",
      "    if mesh_term not in mesh_codes_r: mesh_codes_r[mesh_term] = []\n",
      "    mesh_codes_r[mesh_term].append(mesh_id)\n",
      "\n",
      "# limiting to conditions that appear in ten or more trials\n",
      "top_cond = {c for c in cond if len(cond[c]) >= 10}\n",
      "trials = {t for c in top_cond for t in cond[c]}\n",
      "\n",
      "# trial descriptions\n",
      "trial_desc = pickle.load(open('../data/trial_desc.pkl','rb'))"
     ],
     "language": "python",
     "metadata": {},
     "outputs": [],
     "prompt_number": 2
    },
    {
     "cell_type": "markdown",
     "metadata": {},
     "source": [
      "## Load model predictions"
     ]
    },
    {
     "cell_type": "code",
     "collapsed": false,
     "input": [
      "multi_preds = pickle.load(open('../data/mesh_guesses.pkl','rb'))\n",
      "single_preds = pickle.load(open('../data/mesh_guesses_maxent.pkl','rb'))\n",
      "knn_preds = pickle.load(open('../data/mesh_guesses_knn.pkl','rb'))"
     ],
     "language": "python",
     "metadata": {},
     "outputs": []
    },
    {
     "cell_type": "markdown",
     "metadata": {},
     "source": [
      "## Testing random instances"
     ]
    },
    {
     "cell_type": "code",
     "collapsed": false,
     "input": [
      "trial_id = random.choice([k for k in knn_preds.keys() if k in cond_r])\n",
      "\n",
      "print 'Trial ID: %s' % trial_id\n",
      "print \n",
      "print 'BRIEF DESCRIPTION:'\n",
      "print trial_desc[trial_id][0]\n",
      "print\n",
      "print 'DETAILED DESCRIPTION:'\n",
      "print trial_desc[trial_id][1] or 'None'\n",
      "print\n",
      "\n",
      "print 'CURRENT MeSH ASSIGNMENT, IF ANY:'\n",
      "if trial_id in cond_r:\n",
      "    cur_codes = [m for t in cond_r[trial_id] for m in mesh_codes_r[t]]\n",
      "    cur_codes.sort()\n",
      "    for code in cur_codes:\n",
      "        print '  %s %s' % (code, mesh_codes[code])\n",
      "else:\n",
      "    print 'None'\n",
      "print \n",
      "\n",
      "print 'TOP ONE-WAY PREDICTION:'\n",
      "cur_single_preds = list({m for m in mesh_codes_r[single_preds[trial_id]]})\n",
      "cur_single_preds.sort()\n",
      "for cur_pred in cur_single_preds:\n",
      "    print '  %s %s' % (cur_pred, mesh_codes[cur_pred])\n",
      "print\n",
      "\n",
      "print 'TOP 20 LEVEL-2 MULTI-WAY PREDICTIONS:'\n",
      "for tup in [(t,mesh_codes[t],(a-0.5)*10000) \n",
      "            for t, a in sorted(multi_preds[trial_id].items(), \n",
      "                               key=lambda x: x[1], \n",
      "                               reverse=True)\n",
      "            if 'C22' not in t][:20]:\n",
      "    print '  %s %s (%g)' % tup\n",
      "print\n",
      "\n",
      "print 'KNN PREDICTIONS:'\n",
      "for tup in sorted([(mc, k, sum([1 / (10 ** d) for d in v])) \n",
      "                   for k, v in knn_preds[trial_id].items()\n",
      "                   if k in mesh_codes_r\n",
      "                   for mc in mesh_codes_r[k]\n",
      "                   ], key=lambda x: x[2], reverse=True):\n",
      "    print '  %s %s (%g)' % tup\n",
      "print"
     ],
     "language": "python",
     "metadata": {},
     "outputs": [
      {
       "output_type": "stream",
       "stream": "stdout",
       "text": [
        "Trial ID: NCT00974025\n",
        "\n",
        "BRIEF DESCRIPTION:\n",
        "In this study, investigators will evaluate the effect of vitamin C on endothelial function, exercise tolerance and quality of life in patients with a single ventricle who have been palliated to Fontan physiology. The hypothesis is that vitamin C will result in improved exercise tolerance and endothelial function in patients who have undergone the Fontan operation, compared to placebo.\n",
        "\n",
        "DETAILED DESCRIPTION:\n",
        "Recent evidence suggests that after Fontan operation, single ventricle patients have impaired function of the vascular endothelium due in part to abnormalities in nitric oxide signaling. Endothelial dysfunction may contribute to the development of congestive heart failure and exercise intolerance that have been well-documented in Fontan patients. Therapeutic interventions to improve endothelial function in adults with heart failure have mainly focused on increasing the synthesis or decreasing the degradation of nitric oxide. We propose a randomized, prospective, placebo-controlled trial of vitamin C, an antioxidant that protects NO deactivation, in subjects with single ventricular anatomy after Fontan palliation. The specific aims of this study are to compare NO signaling, endothelial function and exercise capacity in Fontan subjects to that of a control group that is frequency-matched to case subjects by age and sex, and to assess NO signaling, endothelial function and exercise capacity in Fontan subjects after 4 weeks of oral vitamin C (or placebo) therapy. These results have particular importance because improving the endothelial response in Fontan patients has the potential to reduce the risk of developing congestive heart failure and improve exercise capacity. Furthermore, assessing endothelial function and the effects of therapies aimed at improving vascular health may be generalizable to many other chronic pediatric conditions associated with increased cardiovascular risk such as obesity, diabetes mellitus, and hypertension.\n",
        "\n",
        "CURRENT MeSH ASSIGNMENT, IF ANY:\n",
        "  C14.240.400.920 Tricuspid Atresia\n",
        "  C14.280.400.920 Tricuspid Atresia\n",
        "  C14.280.484.845 Tricuspid Atresia\n",
        "  C16.131.240.400.920 Tricuspid Atresia\n",
        "\n",
        "TOP ONE-WAY PREDICTION:\n",
        "  C14.240.400.625 Hypoplastic Left Heart Syndrome\n",
        "  C14.280.400.625 Hypoplastic Left Heart Syndrome\n",
        "  C16.131.240.400.625 Hypoplastic Left Heart Syndrome\n",
        "\n",
        "TOP 20 LEVEL-2 MULTI-WAY PREDICTIONS:\n",
        "  G09.330 Cardiovascular Physiological Phenomena (0.669379)\n",
        "  C14.280 Heart Diseases (0.408974)\n",
        "  C14.240 Cardiovascular Abnormalities (0.314979)\n",
        "  C26.733 Radiation Injuries (0.226846)\n",
        "  C12.777 Urologic Diseases (0.211827)\n",
        "  C19.246 Diabetes Mellitus (0.164659)\n",
        "  C18.452 Metabolic Diseases (0.153464)\n",
        "  C14.907 Vascular Diseases (0.14451)\n",
        "  C08.618 Respiration Disorders (0.128006)\n",
        "  C10.720 Neurotoxicity Syndromes (0.114746)\n",
        "  F03.800 Sexual and Gender Disorders (0.114036)\n",
        "  C19.642 Parathyroid Diseases (0.104412)\n",
        "  C20.111 Autoimmune Diseases (0.0855894)\n",
        "  C19.700 Pituitary Diseases (0.0813192)\n",
        "  C08.381 Lung Diseases (0.0809239)\n",
        "  C17.300 Connective Tissue Diseases (0.0719847)\n",
        "  C05.799 Rheumatic Diseases (0.0594032)\n",
        "  C03.684 Opportunistic Infections (0.0559323)\n",
        "  C02.597 Opportunistic Infections (0.0559323)\n",
        "  C10.314 Demyelinating Diseases (0.0513744)\n",
        "\n",
        "KNN PREDICTIONS:\n",
        "  C14.280.400 Heart Defects, Congenital (0.541975)\n",
        "  C14.240.400 Heart Defects, Congenital (0.541975)\n",
        "  C16.131.240.400 Heart Defects, Congenital (0.541975)\n",
        "  C14.280 Heart Diseases (0.347973)\n",
        "  C16.131 Congenital Abnormalities (0.171998)\n",
        "  C08.618.749 Respiratory Aspiration (0.093392)\n",
        "  C23.550.773 Respiratory Aspiration (0.093392)\n",
        "  C14.280.067 Arrhythmias, Cardiac (0.0933592)\n",
        "  C23.550.073 Arrhythmias, Cardiac (0.0933592)\n",
        "  C14.280.400.625 Hypoplastic Left Heart Syndrome (0.0808516)\n",
        "  C14.240.400.625 Hypoplastic Left Heart Syndrome (0.0808516)\n",
        "  C16.131.240.400.625 Hypoplastic Left Heart Syndrome (0.0808516)\n",
        "  C14.280.400.920 Tricuspid Atresia (0.0808516)\n",
        "  C14.280.484.845 Tricuspid Atresia (0.0808516)\n",
        "  C14.240.400.920 Tricuspid Atresia (0.0808516)\n",
        "  C16.131.240.400.920 Tricuspid Atresia (0.0808516)\n",
        "  C14.280.647 Myocardial Ischemia (0.0721459)\n",
        "  C14.907.585 Myocardial Ischemia (0.0721459)\n",
        "  C14.280.647.250 Coronary Disease (0.0721459)\n",
        "  C14.907.585.250 Coronary Disease (0.0721459)\n",
        "  C14.280.647.250.260 Coronary Artery Disease (0.0721459)\n",
        "  C14.907.137.126.339 Coronary Artery Disease (0.0721459)\n",
        "  C14.907.585.250.260 Coronary Artery Disease (0.0721459)\n",
        "  C06.405.469.818 Protein-Losing Enteropathies (0.0713581)\n",
        "  C08.381.495.146 Bronchitis (0.0713581)\n",
        "  C08.127.446 Bronchitis (0.0713581)\n",
        "  C08.730.099 Bronchitis (0.0713581)\n",
        "  C06.405.469 Intestinal Diseases (0.0713581)\n",
        "\n"
       ]
      }
     ],
     "prompt_number": 33
    },
    {
     "cell_type": "code",
     "collapsed": false,
     "input": [
      "js = \"\"\"window.audiencePopup = window.open();\"\"\"\n",
      "display(Javascript(js))"
     ],
     "language": "python",
     "metadata": {},
     "outputs": [
      {
       "javascript": [
        "window.audiencePopup = window.open();"
       ],
       "metadata": {},
       "output_type": "display_data",
       "text": [
        "<IPython.core.display.Javascript at 0x1377fc4d0>"
       ]
      }
     ],
     "prompt_number": 36
    },
    {
     "cell_type": "code",
     "collapsed": false,
     "input": [
      "\n",
      "js = \"\"\"\n",
      "    window.audiencePopup.document.open();\n",
      "    window.audiencePopup.document.write(\"<h1>This is a title</h1><p>And this is text</p>\");\n",
      "    \"\"\" \n",
      "display(Javascript(js))"
     ],
     "language": "python",
     "metadata": {},
     "outputs": [
      {
       "javascript": [
        "\n",
        "    window.audiencePopup.document.open();\n",
        "    window.audiencePopup.document.write(\"<h1>This is a title</h1><p>And this is text</p>\");\n",
        "    "
       ],
       "metadata": {},
       "output_type": "display_data",
       "text": [
        "<IPython.core.display.Javascript at 0x1377e8cd0>"
       ]
      }
     ],
     "prompt_number": 48
    },
    {
     "cell_type": "code",
     "collapsed": false,
     "input": [],
     "language": "python",
     "metadata": {},
     "outputs": []
    }
   ],
   "metadata": {}
  }
 ]
}