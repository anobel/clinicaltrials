{
 "metadata": {
  "name": "",
  "signature": "sha256:f4b0228aa0d8c58575470278046583c41b7c52a3bdf2e597434a7efe57451b81"
 },
 "nbformat": 3,
 "nbformat_minor": 0,
 "worksheets": [
  {
   "cells": [
    {
     "cell_type": "code",
     "collapsed": false,
     "input": [
      "import codecs, string, random, math, cPickle as pickle, re\n",
      "from collections import Counter\n",
      "\n",
      "from __future__ import division"
     ],
     "language": "python",
     "metadata": {},
     "outputs": [],
     "prompt_number": 1
    },
    {
     "cell_type": "markdown",
     "metadata": {},
     "source": [
      "## Load data"
     ]
    },
    {
     "cell_type": "code",
     "collapsed": false,
     "input": [
      "corrections = {\"Sarcoma, Ewing's\": 'Sarcoma, Ewing',\n",
      "               'Beta-Thalassemia': 'beta-Thalassemia',\n",
      "               'Von Willebrand Disease, Type 3': 'von Willebrand Disease, Type 3',\n",
      "               'Von Willebrand Disease, Type 2': 'von Willebrand Disease, Type 2',\n",
      "               'Von Willebrand Disease, Type 1': 'von Willebrand Disease, Type 1',\n",
      "               'Felty''s Syndrome': 'Felty Syndrome',\n",
      "               'Von Hippel-Lindau Disease': 'von Hippel-Lindau Disease',\n",
      "               'Retrognathism': 'Retrognathia',\n",
      "               'Regurgitation, Gastric': 'Laryngopharyngeal Reflux',\n",
      "               'Persistent Hyperinsulinemia Hypoglycemia of Infancy': 'Congenital Hyperinsulinism',\n",
      "               'Von Willebrand Diseases': 'von Willebrand Diseases',\n",
      "               'Pontine Glioma': 'Brain Stem Neoplasms',\n",
      "               'Mental Retardation': 'Intellectual Disability',\n",
      "               'Overdose': 'Drug Overdose',\n",
      "               'Beta-Mannosidosis': 'beta-Mannosidosis',\n",
      "               'Alpha 1-Antitrypsin Deficiency': 'alpha 1-Antitrypsin Deficiency',\n",
      "               'Intervertebral Disk Displacement': 'Intervertebral Disc Displacement',\n",
      "               'Alpha-Thalassemia': 'alpha-Thalassemia',\n",
      "               'Mycobacterium Infections, Atypical': 'Mycobacterium Infections, Nontuberculous',\n",
      "               'Legg-Perthes Disease': 'Legg-Calve-Perthes Disease',\n",
      "               'Intervertebral Disk Degeneration': 'Intervertebral Disc Degeneration',\n",
      "               'Alpha-Mannosidosis': 'alpha-Mannosidosis',\n",
      "               'Gestational Trophoblastic Disease': 'Gestational Trophoblastic Neoplasms'\n",
      "               }\n",
      "cond = {}\n",
      "cond_r = {}\n",
      "for row in codecs.open('../data/condition_browse.txt','r','utf-8').readlines():\n",
      "    row_id, trial_id, mesh_term = row.strip().split('|')\n",
      "    if mesh_term in corrections: mesh_term = corrections[mesh_term]\n",
      "    if mesh_term not in cond: cond[mesh_term] = []\n",
      "    cond[mesh_term].append(trial_id)\n",
      "    if trial_id not in cond_r: cond_r[trial_id] = []\n",
      "    cond_r[trial_id].append(mesh_term)\n",
      "\n",
      "mesh_codes = {}\n",
      "mesh_codes_r = {}\n",
      "for row in codecs.open('../data/mesh_thesaurus.txt','r','utf-8').readlines():\n",
      "    row_id, mesh_id, mesh_term = row.strip().split('|')\n",
      "    mesh_codes[mesh_id] = mesh_term\n",
      "    if mesh_term not in mesh_codes_r: mesh_codes_r[mesh_term] = []\n",
      "    mesh_codes_r[mesh_term].append(mesh_id)\n",
      "\n",
      "# limiting to conditions that appear in ten or more trials\n",
      "top_cond = {c for c in cond if len(cond[c]) >= 10}\n",
      "trials = {t for c in top_cond for t in cond[c]}"
     ],
     "language": "python",
     "metadata": {},
     "outputs": [],
     "prompt_number": 2
    },
    {
     "cell_type": "code",
     "collapsed": false,
     "input": [
      "trial_desc = pickle.load(open('../data/trial_desc.pkl','rb'))\n",
      "multi_preds = pickle.load(open('../data/mesh_guesses.pkl','rb'))\n",
      "single_preds = pickle.load(open('../data/mesh_guesses_maxent.pkl','rb'))\n",
      "# knn_preds = pickle.load(open('..data/mesh_guesses_knn.pkl','rb'))"
     ],
     "language": "python",
     "metadata": {},
     "outputs": [],
     "prompt_number": 3
    },
    {
     "cell_type": "markdown",
     "metadata": {},
     "source": [
      "## Testing random instances"
     ]
    },
    {
     "cell_type": "code",
     "collapsed": false,
     "input": [
      "trial_id = random.choice([k for k in multi_preds.keys() if k in cond_r])\n",
      "\n",
      "print 'Trial ID: %s' % trial_id\n",
      "print \n",
      "print 'BRIEF DESCRIPTION:'\n",
      "print trial_desc[trial_id][0]\n",
      "print\n",
      "print 'DETAILED DESCRIPTION:'\n",
      "print trial_desc[trial_id][1] or 'None'\n",
      "print\n",
      "\n",
      "print 'CURRENT MeSH ASSIGNMENT, IF ANY:'\n",
      "if trial_id in cond_r:\n",
      "    cur_codes = [m for t in cond_r[trial_id] for m in mesh_codes_r[t]]\n",
      "    cur_codes.sort()\n",
      "    for code in cur_codes:\n",
      "        print '  %s %s' % (code, mesh_codes[code])\n",
      "else:\n",
      "    print 'None'\n",
      "print \n",
      "\n",
      "print 'TOP ONE-WAY PREDICTION:'\n",
      "cur_single_preds = list({m for m in mesh_codes_r[single_preds[trial_id]]})\n",
      "cur_single_preds.sort()\n",
      "for cur_pred in cur_single_preds:\n",
      "    print '  %s %s' % (cur_pred, mesh_codes[cur_pred])\n",
      "print\n",
      "\n",
      "print 'TOP 20 LEVEL-2 MULTI-WAY PREDICTIONS:'\n",
      "for tup in [(t,mesh_codes[t],(a-0.5)*10000) \n",
      "            for t, a in sorted(multi_preds[trial_id].items(), \n",
      "                               key=lambda x: x[1], \n",
      "                               reverse=True)\n",
      "            if 'C22' not in t][:20]:\n",
      "    print '  %s %s (%g)' % tup\n",
      "print"
     ],
     "language": "python",
     "metadata": {},
     "outputs": [
      {
       "output_type": "stream",
       "stream": "stdout",
       "text": [
        "Trial ID: NCT00442182\n",
        "\n",
        "BRIEF DESCRIPTION:\n",
        "Autoinflammatory syndromes (AIS) are a group of disorders characterized by recurrent episodes of inflammation.Although for the hereditary autoinflammatory diseases the genetic mutations are known it remains largely unclear how these mutations lead to recurrent inflammatory attacks. Treatment of the inflammatory symptoms remains a challenge. With beneficial responses reported during treatment with simvastatin, etanercept or anakinra in some but not all patients. ITF2357 is an orally active histon deacetylase inhibitor with a potent anti-inflammatory effect due to inhibition of pro-inflammatory cytokines (IL-1\u03b2, TNF\u03b1, IFNg, IL-6). We expect that ITF2357 is able to modify the clinical symptoms of AIS patients and induce clinical complete remission or a reduction in attack duration.\n",
        "\n",
        "DETAILED DESCRIPTION:\n",
        "Rationale: Autoinflammatory syndromes (AIS) are a group of disorders characterized by recurrent episodes of inflammation. This occurs in the absence of autoantibodies and antigen specific T cells. To date 6 genetically distinct hereditary autoinflammatory syndromes are known and more recently other sporadic syndromes, such as the Schnitzler\u2019s syndrome (urticaria, periodic fever and paraproteinemia) and Periodic Fever Aphtous stomatitis, Pharyngitis and Adenitis (PFAPA) are being recognized as AIS. Amyloidosis is a serious complication of chronic or recurrent inflammation seen in some of these syndromes. Although for the hereditary autoinflammatory diseases the genetic mutations are known it remains largely unclear how these mutations lead to recurrent inflammatory attacks. Symptomatic episodes are associated with increased serum concentrations of both pro-inflammatory mediators (TNF\u03b1, IL-6, IL1\u03b2 and IFN-g) as well as of the anti-inflammatory compounds (IL-1ra, sTNFR p55 and sTNFR p75). In vitro and ex vivo experiments suggest a central role in the pathogenesis for IL-1\u03b2. The observation that rIL-1ra (anakinra) is highly effective in refractory TRAPS, CAPS, HIDS, refractory FMF and SS support this idea. Despite its effectiveness daily painful subcutaneous injections and injection site reactions remain a problem. ITF2357 is an orally active histon deacetylase inhibitor with a potent anti-inflammatory effect due to inhibition of pro-inflammatory cytokines (IL-1\u03b2, TNF\u03b1, IFNg, IL-6). We expect that ITF2357 is able to modify the clinical symptoms of AIS patients and induce clinical complete remission or a reduction in attack duration.  Objective: The primary objective is to asses whether ITF2357 is able to induce clinical complete remission in patients with continuous symptoms or reduce attack duration with > 33% in periodically symptomatic patients. Secondary objectives are the emergence of adverse events and toxicity as well as the influence of ITF2357 on cytokine production and laboratory parameters for infection and metabolism.  Study design: Open Label Pilot Study Study population: AIS patients 18 years or older with severe disease  Intervention: Patients with continuous symptoms will receive 2-3 times a day 50mg (capsule) ITF2357 for a total period of 90 days. Patients with periodic symptoms will take ITF2357 (2-3 times a day 50mg) on 7-14 consecutive days during 6-12 attacks.  Main study parameters: A clinical complete remission will be regarded as a clinical score (CS) < 10 scored on the symptom score list in the absence of a temperature > 38.0\u00b0C and normalisation of CRP and WBC levels. The end of an attack will be defined as a CS < 20 in the absence of a temperature > 38.0\u00b0C.  Nature and extent of the burden and risks associated with participation, benefit and group relatedness: All patients will be admitted once at the beginning of the study for 3 days in this period there will be performed a daily venipuncture, a history and physical examination twice and an ECG once. They will visit the outpatient clinic four times for physical examination, history, venipuncture and an ECG. Patients are asked to complete a symptom score list on which they can note down the date, number of ITF2357 capsules taken and if present co-medication, symptoms, temperature and adverse events. Patients are asked to collect a portion of morning urine once a week. ITF2357 showed the following adverse reactions asymptomatic trombocytopenia and perhaps increased incidence of mild infections mainly of the upper respiratory tract. There were gastrointestinal complaints in the sense of nausea, vomiting, abdominal pain and diarrhea.\n",
        "\n",
        "CURRENT MeSH ASSIGNMENT, IF ANY:\n",
        "  C20.683.780.640.700 Schnitzler Syndrome\n",
        "\n",
        "TOP ONE-WAY PREDICTION:\n",
        "  C16.320.382 Hereditary Autoinflammatory Diseases\n",
        "  C17.800.827.368 Hereditary Autoinflammatory Diseases\n",
        "\n",
        "TOP 20 LEVEL-2 MULTI-WAY PREDICTIONS:\n",
        "  C04.730 Paraneoplastic Syndromes (0.299777)\n",
        "  C04.850 Pregnancy Complications, Neoplastic (0.277487)\n",
        "  C03.684 Opportunistic Infections (0.275306)\n",
        "  C02.597 Opportunistic Infections (0.275306)\n",
        "  C01.703 Mycoses (0.233931)\n",
        "  C20.683 Immunoproliferative Disorders (0.210721)\n",
        "  C15.604 Lymphatic Diseases (0.208384)\n",
        "  C04.557 Neoplasms by Histologic Type (0.202579)\n",
        "  G05.360 Genetic Structures (0.201935)\n",
        "  A11.284 Cellular Structures (0.19646)\n",
        "  C04.834 Precancerous Conditions (0.192224)\n",
        "  C03.701 Parasitic Diseases, Animal (0.191627)\n",
        "  C10.551 Nervous System Neoplasms (0.146799)\n",
        "  C15.378 Hematologic Diseases (0.144381)\n",
        "  C06.844 Peritoneal Diseases (0.128875)\n",
        "  C26.733 Radiation Injuries (0.118856)\n",
        "  C17.300 Connective Tissue Diseases (0.113076)\n",
        "  C06.405 Gastrointestinal Diseases (0.11233)\n",
        "  G05.365 Genetic Variation (0.105149)\n",
        "  C04.692 Neoplasms, Second Primary (0.094405)\n",
        "\n"
       ]
      }
     ],
     "prompt_number": 7
    },
    {
     "cell_type": "code",
     "collapsed": false,
     "input": [],
     "language": "python",
     "metadata": {},
     "outputs": []
    }
   ],
   "metadata": {}
  }
 ]
}