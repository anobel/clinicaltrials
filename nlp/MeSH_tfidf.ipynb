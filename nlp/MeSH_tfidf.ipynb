{
 "metadata": {
  "name": "",
  "signature": "sha256:d6b299e96190fae0684595fe003e0da6e08099665ac5fea343bb2a4f298e38b6"
 },
 "nbformat": 3,
 "nbformat_minor": 0,
 "worksheets": [
  {
   "cells": [
    {
     "cell_type": "code",
     "collapsed": false,
     "input": [
      "import codecs\n",
      "from collections import Counter"
     ],
     "language": "python",
     "metadata": {},
     "outputs": [],
     "prompt_number": 11
    },
    {
     "cell_type": "code",
     "collapsed": false,
     "input": [
      "corrections = {\"Sarcoma, Ewing's\": 'Sarcoma, Ewing',\n",
      "               'Beta-Thalassemia': 'beta-Thalassemia',\n",
      "               'Von Willebrand Disease, Type 3': 'von Willebrand Disease, Type 3',\n",
      "               'Von Willebrand Disease, Type 2': 'von Willebrand Disease, Type 2',\n",
      "               'Von Willebrand Disease, Type 1': 'von Willebrand Disease, Type 1',\n",
      "               'Felty''s Syndrome': 'Felty Syndrome',\n",
      "               'Von Hippel-Lindau Disease': 'von Hippel-Lindau Disease',\n",
      "               'Retrognathism': 'Retrognathia',\n",
      "               'Regurgitation, Gastric': 'Laryngopharyngeal Reflux',\n",
      "               'Persistent Hyperinsulinemia Hypoglycemia of Infancy': 'Congenital Hyperinsulinism',\n",
      "               'Von Willebrand Diseases': 'von Willebrand Diseases',\n",
      "               'Pontine Glioma': 'Brain Stem Neoplasms',\n",
      "               'Mental Retardation': 'Intellectual Disability',\n",
      "               'Overdose': 'Drug Overdose',\n",
      "               'Beta-Mannosidosis': 'beta-Mannosidosis',\n",
      "               'Alpha 1-Antitrypsin Deficiency': 'alpha 1-Antitrypsin Deficiency',\n",
      "               'Intervertebral Disk Displacement': 'Intervertebral Disc Displacement',\n",
      "               'Alpha-Thalassemia': 'alpha-Thalassemia',\n",
      "               'Mycobacterium Infections, Atypical': 'Mycobacterium Infections, Nontuberculous',\n",
      "               'Legg-Perthes Disease': 'Legg-Calve-Perthes Disease',\n",
      "               'Intervertebral Disk Degeneration': 'Intervertebral Disc Degeneration',\n",
      "               'Alpha-Mannosidosis': 'alpha-Mannosidosis',\n",
      "               'Gestational Trophoblastic Disease': 'Gestational Trophoblastic Neoplasms'\n",
      "               }\n",
      "cond = {}\n",
      "for row in codecs.open('../data/condition_browse.txt','r','utf-8').readlines():\n",
      "    row_id, trial_id, mesh_term = row.strip().split('|')\n",
      "    if mesh_term in corrections: mesh_term = corrections[mesh_term]\n",
      "    if mesh_term not in cond: cond[mesh_term] = []\n",
      "    cond[mesh_term].append(trial_id)"
     ],
     "language": "python",
     "metadata": {},
     "outputs": [],
     "prompt_number": 2
    },
    {
     "cell_type": "code",
     "collapsed": false,
     "input": [
      "top_cond = {c for c in cond if len(cond[c]) >= 10}\n",
      "trials = {t for c in cond for t in cond[c] if len(cond[c]) >= 10}"
     ],
     "language": "python",
     "metadata": {},
     "outputs": [],
     "prompt_number": 3
    },
    {
     "cell_type": "code",
     "collapsed": false,
     "input": [
      "trial_desc = {}\n",
      "for row in codecs.open('../data/clinical_study.txt','r','utf-8').readlines():\n",
      "    data = row.split('|')\n",
      "    if data[0] in trials: trial_desc[data[0]] = (data[9],data[10])"
     ],
     "language": "python",
     "metadata": {},
     "outputs": [],
     "prompt_number": 4
    },
    {
     "cell_type": "code",
     "collapsed": false,
     "input": [
      "short = Counter([v[1] for v in trial_desc.values() if len(v[1]) < 20])"
     ],
     "language": "python",
     "metadata": {},
     "outputs": [],
     "prompt_number": 18
    },
    {
     "cell_type": "code",
     "collapsed": false,
     "input": [
      "short"
     ],
     "language": "python",
     "metadata": {},
     "outputs": [
      {
       "metadata": {},
       "output_type": "pyout",
       "prompt_number": 19,
       "text": [
        "Counter({u'': 54075, u'see above': 23, u'See brief summary': 22, u'See above': 19, u'See Brief Summary': 14, u'Same as above.': 13, u'Study Design:': 12, u'See above.': 11, u'As above': 9, u'Not desired': 9, u'as above': 7, u'MC MD': 7, u'Purpose:': 6, u'As above.': 5, u'not desired': 4, u'see brief summary': 4, u'Not required': 3, u'---': 3, u'Please see above': 3, u'see above.': 2, u'Uncontrolled study': 2, u'Randomized': 2, u'/': 2, u'see summary': 2, u'See brief summary.': 2, u'Non applicable': 2, u'no sampling': 2, u'Not Required': 2, u'Data pending': 2, u'same as above': 2, u'MSD': 2, u'SF-12 Test': 2, u'not necessary': 2, u'Same as above': 2, u'Not available': 1, u'Tree nut': 1, u'Back Pain': 1, u'Not provided': 1, u'54 weeks +/-11 days': 1, u'look above': 1, u'NAP': 1, u'more to follow': 1, u'Not desired.': 1, u'See Above': 1, u'See summary': 1, u'Probability Sample': 1, u'0': 1, u'as written above': 1, u'(Not desired)': 1, u'Completed study.': 1, u'...': 1, u'Phase III': 1, u'nothing to add': 1, u'None provided': 1, u'Safety measurements': 1, u'See Brief Summary.': 1, u'SC=Subcutaneous': 1, u'See Synopsis below': 1, u'See below': 1, u'None desired': 1, u'No sampling': 1, u't': 1, u'x': 1, u'See study protocol!': 1, u'(see brief summary)': 1, u'As charted below.': 1, u'AS ABOVE': 1, u'See Brief summary': 1, u'No applicable.': 1, u'6 months': 1, u'nil.': 1, u'HEALTH-DB ACS': 1, u'See protocol': 1, u'Not addressed': 1, u'14.5 to 22 months': 1, u'(none provided)': 1, u'As in Brief Summary': 1, u'See above comments.': 1, u'See protocol.': 1, u'Efferent': 1, u'asd': 1, u'Not needed.': 1, u'Please See Summary.': 1, u'(N/A)': 1, u'ibid.': 1, u'As described': 1, u'Purely descriptive': 1, u'(see above)': 1, u'no more description': 1, u'TBA': 1, u'4 groups': 1, u'see below': 1, u'See brief Summary': 1, u'Phase 2 study': 1, u'See Summary': 1, u'not relevant': 1, u'See Protocol': 1, u'please see above': 1, u'see summary above': 1, u'no desired': 1, u'n/a NA': 1, u'None required': 1, u'please see summary': 1, u'WITHDRAWN': 1, u'Methodology study': 1, u'Sarcoma Database': 1, u'none needed': 1, u'Idem': 1, u'Please see above.': 1, u'anxiety': 1, u'No more details': 1, u'Open label': 1, u'RECONNECT-S BETA': 1, u'no available': 1, u'Not relevant': 1, u'as brief summary': 1, u'in progress': 1, u'to follow': 1, u'Study Design:  n/a': 1, u'Not available.': 1, u'Not needed': 1, u'12 weeks random': 1, u'non applicable': 1, u'None needed': 1, u'Phase 3': 1, u'. . . . .': 1, u'Proof of Mechanism': 1, u'Objectives:': 1, u'Samples text.': 1, u'66 days': 1, u'n/a n/a': 1, u'See Publications': 1, u'Pilot Study': 1})"
       ]
      }
     ],
     "prompt_number": 19
    },
    {
     "cell_type": "code",
     "collapsed": false,
     "input": [],
     "language": "python",
     "metadata": {},
     "outputs": []
    }
   ],
   "metadata": {}
  }
 ]
}