{
 "metadata": {
  "name": "",
  "signature": "sha256:f8298c6b0e7ca34e92940202a5afa01443ca7c3fe1ace956ef113f8066900585"
 },
 "nbformat": 3,
 "nbformat_minor": 0,
 "worksheets": [
  {
   "cells": [
    {
     "cell_type": "markdown",
     "metadata": {},
     "source": [
      "## Load modules"
     ]
    },
    {
     "cell_type": "code",
     "collapsed": false,
     "input": [
      "# basic NLP\n",
      "import nltk, codecs, string, random, HTMLParser, math\n",
      "from collections import Counter\n",
      "from nltk.corpus import brown, wordnet as wn\n",
      "\n",
      "# scikit-learn\n",
      "from sklearn.feature_extraction.text import TfidfVectorizer, CountVectorizer, TfidfTransformer\n",
      "from sklearn.linear_model import SGDClassifier\n",
      "from sklearn.svm import SVC\n",
      "from sklearn.pipeline import Pipeline\n",
      "from sklearn.feature_selection import RFE\n",
      "import scipy.sparse as sps\n",
      "import numpy as np\n",
      "from sklearn.metrics.pairwise import linear_kernel\n",
      "\n",
      "from __future__ import division\n",
      "\n",
      "# creating functions\n",
      "h= HTMLParser.HTMLParser()\n",
      "sent_tokenizer=nltk.data.load('tokenizers/punkt/english.pickle')\n",
      "stopset = set(nltk.corpus.stopwords.words('english'))"
     ],
     "language": "python",
     "metadata": {},
     "outputs": [],
     "prompt_number": 1
    },
    {
     "cell_type": "markdown",
     "metadata": {},
     "source": [
      "## Load data"
     ]
    },
    {
     "cell_type": "code",
     "collapsed": false,
     "input": [
      "corrections = {\"Sarcoma, Ewing's\": 'Sarcoma, Ewing',\n",
      "               'Beta-Thalassemia': 'beta-Thalassemia',\n",
      "               'Von Willebrand Disease, Type 3': 'von Willebrand Disease, Type 3',\n",
      "               'Von Willebrand Disease, Type 2': 'von Willebrand Disease, Type 2',\n",
      "               'Von Willebrand Disease, Type 1': 'von Willebrand Disease, Type 1',\n",
      "               'Felty''s Syndrome': 'Felty Syndrome',\n",
      "               'Von Hippel-Lindau Disease': 'von Hippel-Lindau Disease',\n",
      "               'Retrognathism': 'Retrognathia',\n",
      "               'Regurgitation, Gastric': 'Laryngopharyngeal Reflux',\n",
      "               'Persistent Hyperinsulinemia Hypoglycemia of Infancy': 'Congenital Hyperinsulinism',\n",
      "               'Von Willebrand Diseases': 'von Willebrand Diseases',\n",
      "               'Pontine Glioma': 'Brain Stem Neoplasms',\n",
      "               'Mental Retardation': 'Intellectual Disability',\n",
      "               'Overdose': 'Drug Overdose',\n",
      "               'Beta-Mannosidosis': 'beta-Mannosidosis',\n",
      "               'Alpha 1-Antitrypsin Deficiency': 'alpha 1-Antitrypsin Deficiency',\n",
      "               'Intervertebral Disk Displacement': 'Intervertebral Disc Displacement',\n",
      "               'Alpha-Thalassemia': 'alpha-Thalassemia',\n",
      "               'Mycobacterium Infections, Atypical': 'Mycobacterium Infections, Nontuberculous',\n",
      "               'Legg-Perthes Disease': 'Legg-Calve-Perthes Disease',\n",
      "               'Intervertebral Disk Degeneration': 'Intervertebral Disc Degeneration',\n",
      "               'Alpha-Mannosidosis': 'alpha-Mannosidosis',\n",
      "               'Gestational Trophoblastic Disease': 'Gestational Trophoblastic Neoplasms'\n",
      "               }\n",
      "cond = {}\n",
      "for row in codecs.open('../data/condition_browse.txt','r','utf-8').readlines():\n",
      "    row_id, trial_id, mesh_term = row.strip().split('|')\n",
      "    if mesh_term in corrections: mesh_term = corrections[mesh_term]\n",
      "    if mesh_term not in cond: cond[mesh_term] = []\n",
      "    cond[mesh_term].append(trial_id)\n",
      "\n",
      "# limiting to conditions that appear in ten or more trials\n",
      "top_cond = {c for c in cond if len(cond[c]) >= 10}\n",
      "trials = {t for c in top_cond for t in cond[c]}"
     ],
     "language": "python",
     "metadata": {},
     "outputs": [],
     "prompt_number": 2
    },
    {
     "cell_type": "code",
     "collapsed": false,
     "input": [
      "trial_desc = {}\n",
      "for row in codecs.open('../data/clinical_study.txt','r','utf-8').readlines():\n",
      "    data = row.split('|')\n",
      "    trial_desc[data[0]] = (data[9],data[10])\n",
      "\n",
      "to_classify = [t for t in trial_desc if t not in trials]"
     ],
     "language": "python",
     "metadata": {},
     "outputs": [],
     "prompt_number": 3
    },
    {
     "cell_type": "markdown",
     "metadata": {},
     "source": [
      "## Process text"
     ]
    },
    {
     "cell_type": "code",
     "collapsed": false,
     "input": [
      "cond_text = {c: ' '.join(' '.join(trial_desc[t]) for t in cond[c]) \n",
      "             for c in top_cond}"
     ],
     "language": "python",
     "metadata": {},
     "outputs": [],
     "prompt_number": 4
    },
    {
     "cell_type": "markdown",
     "metadata": {},
     "source": [
      "## Building tf-idf matrix"
     ]
    },
    {
     "cell_type": "code",
     "collapsed": false,
     "input": [
      "tfidf = TfidfVectorizer(stop_words=stopset)\n",
      "train_mat = tfidf.fit_transform(cond_text.values())\n",
      "apply_mat = tfidf.transform(' '.join(trial_desc[t]) for t in to_classify)"
     ],
     "language": "python",
     "metadata": {},
     "outputs": [],
     "prompt_number": 5
    },
    {
     "cell_type": "code",
     "collapsed": false,
     "input": [
      "n = 109\n",
      "\n",
      "print to_classify[n]\n",
      "print trial_desc[to_classify[n]]\n",
      "print\n",
      "\n",
      "cosine_similarities = linear_kernel(apply_mat[n], train_mat).flatten()\n",
      "\n",
      "for i, v in sorted(list(enumerate(cosine_similarities)),key=lambda x: x[1], reverse=True)[:10]:\n",
      "    print '%s :: %g' % (cond_text.keys()[i], v)"
     ],
     "language": "python",
     "metadata": {},
     "outputs": [
      {
       "output_type": "stream",
       "stream": "stdout",
       "text": [
        "NCT01221012\n",
        "(u\"Current protective clothing of any kind, especially the nuclear-biological-chemical (NBC) protective garments, amplify thermal stress because of the inherent properties of the clothing material. High insulation coefficient and low water vapor permeability of the protective cloth limit the ability of sweat to readily evaporate, which consequently result with a significant elevation of body temperature and with excessive body fluid loss (because of inefficient sweating) that might result with significant dehydration.  Combat soldiers require to perform intense physical activities under hostile environmental conditions, including in contaminated areas that need the use of protective garments. The ability to fulfill a mission derives from the soldier's professionalism and from his physiological limits. It is well established that wearing protective garments affect tolerance time (TT) and performance.  To operate in contaminated areas suitable protective garments should be worn. The inherent characteristics of the current protective garments limit, however, the effective working periods with such an ensemble, which is further aggravated in hot climate. Thus, in an attempt to increase TT and enhance work effectiveness, improved protective garments, which result with a lessened heat-stress, are under different stages of development.  The relative influence of air permeability properties, garment weight and garment construction on heat stress and physiological strain will be investigated.  The results will be quantified in terms of body temperatures, heart rate, fluid balance, subjective sensation and the maximum wear time (if necessary extrapolated).\", u'')\n",
        "\n",
        "Stress, Psychological :: 0.0752396"
       ]
      },
      {
       "output_type": "stream",
       "stream": "stdout",
       "text": [
        "\n",
        "Dehydration :: 0.0740921\n",
        "Body Weight :: 0.0628225\n",
        "Kyphosis :: 0.0619349\n",
        "Hyperhidrosis :: 0.0577191\n",
        "Weight Loss :: 0.055042\n",
        "Obesity :: 0.0516736\n",
        "Hot Flashes :: 0.0511953\n",
        "Hypothermia :: 0.0510834\n",
        "Overweight :: 0.0483266\n"
       ]
      }
     ],
     "prompt_number": 38
    },
    {
     "cell_type": "code",
     "collapsed": false,
     "input": [
      "cond_text.keys()[553]"
     ],
     "language": "python",
     "metadata": {},
     "outputs": [
      {
       "metadata": {},
       "output_type": "pyout",
       "prompt_number": 28,
       "text": [
        "u'Postoperative Complications'"
       ]
      }
     ],
     "prompt_number": 28
    },
    {
     "cell_type": "code",
     "collapsed": false,
     "input": [
      "trial_desc[to_classify[90]]"
     ],
     "language": "python",
     "metadata": {},
     "outputs": [
      {
       "metadata": {},
       "output_type": "pyout",
       "prompt_number": 24,
       "text": [
        "(u'The purpose of this single centre study is to evaluate whether the use of Harmonic Synergy Dissecting Hook (Harmonic Scalpel) in breast reconstruction surgery is superior to conventional diathermy in terms of improving ease and speed of perforator dissection, reducing postoperative pain, days of hospital stay and time taken to return to daily activities.',\n",
        " u'')"
       ]
      }
     ],
     "prompt_number": 24
    },
    {
     "cell_type": "code",
     "collapsed": false,
     "input": [],
     "language": "python",
     "metadata": {},
     "outputs": []
    }
   ],
   "metadata": {}
  }
 ]
}