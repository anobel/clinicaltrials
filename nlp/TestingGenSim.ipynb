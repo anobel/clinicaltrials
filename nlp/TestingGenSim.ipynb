{
 "metadata": {
  "name": "",
  "signature": "sha256:4c1c295c5ffc6cebb5d59a29a49fbe9a02ab62cf983b097e77c1b0d962becfd2"
 },
 "nbformat": 3,
 "nbformat_minor": 0,
 "worksheets": [
  {
   "cells": [
    {
     "cell_type": "code",
     "collapsed": false,
     "input": [
      "from gensim import corpora, models, similarities, utils\n",
      "import gensim, simserver\n",
      "# import nltk, codecs, string, random, math, cPickle as pickle, re, datetime, pandas as pd, os\n",
      "# from collections import Counter, defaultdict\n",
      "# from bs4 import BeautifulSoup\n",
      "\n",
      "# sent_tokenizer=nltk.data.load('tokenizers/punkt/english.pickle')\n",
      "# stopset = set(nltk.corpus.stopwords.words('english'))"
     ],
     "language": "python",
     "metadata": {},
     "outputs": [],
     "prompt_number": 1
    },
    {
     "cell_type": "code",
     "collapsed": false,
     "input": [
      "import logging\n",
      "logging.basicConfig(format='%(asctime)s : %(levelname)s : %(message)s', level=logging.INFO)"
     ],
     "language": "python",
     "metadata": {},
     "outputs": [],
     "prompt_number": 2
    },
    {
     "cell_type": "markdown",
     "metadata": {},
     "source": [
      "#### Load existing trial descriptions"
     ]
    },
    {
     "cell_type": "code",
     "collapsed": false,
     "input": [
      "trial_desc = {}\n",
      "for row in codecs.open('../data/clinical_study.txt','r','utf-8').readlines():\n",
      "    data = row.split('|')\n",
      "    brief_desc, detail_desc = (data[9].replace('<br />',' '),\n",
      "                               data[10].replace('<br />',' ') if len(data[10]) > 50 else '')\n",
      "    trial_desc[data[0]] = brief_desc, detail_desc"
     ],
     "language": "python",
     "metadata": {},
     "outputs": [],
     "prompt_number": 3
    },
    {
     "cell_type": "code",
     "collapsed": false,
     "input": [
      "corpus = [{'id': nct_id, 'tokens': utils.simple_preprocess(' '.join(text_tup))}\n",
      "          for nct_id, text_tup in trial_desc.items()]"
     ],
     "language": "python",
     "metadata": {},
     "outputs": [],
     "prompt_number": 4
    },
    {
     "cell_type": "markdown",
     "metadata": {},
     "source": [
      "#### Set up server (or reload server)"
     ]
    },
    {
     "cell_type": "code",
     "collapsed": false,
     "input": [
      "server = simserver.SessionServer('../data/docsim_server')"
     ],
     "language": "python",
     "metadata": {},
     "outputs": [],
     "prompt_number": 2
    },
    {
     "cell_type": "markdown",
     "metadata": {},
     "source": [
      "#### Upload data, train model, and index documents"
     ]
    },
    {
     "cell_type": "code",
     "collapsed": false,
     "input": [
      "utils.upload_chunked(server, corpus, chunksize=100)"
     ],
     "language": "python",
     "metadata": {},
     "outputs": []
    },
    {
     "cell_type": "code",
     "collapsed": false,
     "input": [
      "server.train(corpus, method='lsi')"
     ],
     "language": "python",
     "metadata": {},
     "outputs": []
    },
    {
     "cell_type": "code",
     "collapsed": false,
     "input": [
      "server.index(corpus)"
     ],
     "language": "python",
     "metadata": {},
     "outputs": []
    },
    {
     "cell_type": "markdown",
     "metadata": {},
     "source": [
      "#### Test model"
     ]
    },
    {
     "cell_type": "code",
     "collapsed": false,
     "input": [
      "corrections = {\"Sarcoma, Ewing's\": 'Sarcoma, Ewing',\n",
      "               'Beta-Thalassemia': 'beta-Thalassemia',\n",
      "               'Von Willebrand Disease, Type 3': 'von Willebrand Disease, Type 3',\n",
      "               'Von Willebrand Disease, Type 2': 'von Willebrand Disease, Type 2',\n",
      "               'Von Willebrand Disease, Type 1': 'von Willebrand Disease, Type 1',\n",
      "               'Felty''s Syndrome': 'Felty Syndrome',\n",
      "               'Von Hippel-Lindau Disease': 'von Hippel-Lindau Disease',\n",
      "               'Retrognathism': 'Retrognathia',\n",
      "               'Regurgitation, Gastric': 'Laryngopharyngeal Reflux',\n",
      "               'Persistent Hyperinsulinemia Hypoglycemia of Infancy': 'Congenital Hyperinsulinism',\n",
      "               'Von Willebrand Diseases': 'von Willebrand Diseases',\n",
      "               'Pontine Glioma': 'Brain Stem Neoplasms',\n",
      "               'Mental Retardation': 'Intellectual Disability',\n",
      "               'Overdose': 'Drug Overdose',\n",
      "               'Beta-Mannosidosis': 'beta-Mannosidosis',\n",
      "               'Alpha 1-Antitrypsin Deficiency': 'alpha 1-Antitrypsin Deficiency',\n",
      "               'Intervertebral Disk Displacement': 'Intervertebral Disc Displacement',\n",
      "               'Alpha-Thalassemia': 'alpha-Thalassemia',\n",
      "               'Mycobacterium Infections, Atypical': 'Mycobacterium Infections, Nontuberculous',\n",
      "               'Legg-Perthes Disease': 'Legg-Calve-Perthes Disease',\n",
      "               'Intervertebral Disk Degeneration': 'Intervertebral Disc Degeneration',\n",
      "               'Alpha-Mannosidosis': 'alpha-Mannosidosis',\n",
      "               'Gestational Trophoblastic Disease': 'Gestational Trophoblastic Neoplasms'\n",
      "               }\n",
      "\n",
      "cond = defaultdict(set)\n",
      "cond_r = defaultdict(set)\n",
      "for row in codecs.open('../data/condition_browse.txt','r','utf-8').readlines():\n",
      "    row_id, trial_id, mesh_term = row.strip().split('|')\n",
      "    if mesh_term in corrections: mesh_term = corrections[mesh_term]\n",
      "    cond[mesh_term].add(trial_id)\n",
      "    cond_r[trial_id].add(mesh_term)\n",
      "\n",
      "mesh_codes = {}\n",
      "mesh_codes_r = defaultdict(set)\n",
      "for row in codecs.open('../data/mesh_thesaurus.txt','r','utf-8').readlines():\n",
      "    row_id, mesh_id, mesh_term = row.strip().split('|')\n",
      "    mesh_codes[mesh_id] = mesh_term\n",
      "    mesh_codes_r[mesh_term].add(mesh_id)\n",
      "\n",
      "# limiting to conditions that appear in ten or more trials\n",
      "top_cond = {c for c in cond if len(cond[c]) >= 10}\n",
      "trials = {t for c in top_cond for t in cond[c]}"
     ],
     "language": "python",
     "metadata": {},
     "outputs": [],
     "prompt_number": 5
    },
    {
     "cell_type": "code",
     "collapsed": false,
     "input": [
      "new_trials = os.listdir('../data/new_trial_xml/')"
     ],
     "language": "python",
     "metadata": {},
     "outputs": [],
     "prompt_number": 6
    },
    {
     "cell_type": "code",
     "collapsed": false,
     "input": [
      "new_corpus = {}\n",
      "new_conds = defaultdict(set)"
     ],
     "language": "python",
     "metadata": {},
     "outputs": [],
     "prompt_number": 9
    },
    {
     "cell_type": "code",
     "collapsed": false,
     "input": [
      "for fname in random.sample(new_trials,1000):\n",
      "    soup = BeautifulSoup(codecs.open('../data/new_trial_xml/' + fname, 'r', 'utf-8').read())\n",
      "    nct_id = soup.clinical_study.id_info.nct_id.contents[0].replace('\\r\\n','')\n",
      "    text_desc = ''\n",
      "    if soup.clinical_study.brief_summary:\n",
      "        text_desc += soup.clinical_study.brief_summary.textblock.contents[0].replace('\\r\\n',' ')\n",
      "    if soup.clinical_study.detailed_description:\n",
      "        text_desc += soup.clinical_study.detailed_description.textblock.contents[0].replace('\\r\\n',' ')\n",
      "    if soup.clinical_study.condition_browse:\n",
      "        for m in soup.clinical_study.condition_browse.findAll('mesh_term'):\n",
      "            new_conds[nct_id].add(m.contents[0])\n",
      "    if text_desc:\n",
      "        new_corpus[nct_id] = utils.simple_preprocess(text_desc)\n"
     ],
     "language": "python",
     "metadata": {},
     "outputs": [],
     "prompt_number": 10
    },
    {
     "cell_type": "code",
     "collapsed": false,
     "input": [
      "print len(new_corpus)\n",
      "print len(new_conds)"
     ],
     "language": "python",
     "metadata": {},
     "outputs": [
      {
       "output_type": "stream",
       "stream": "stdout",
       "text": [
        "997\n",
        "549\n"
       ]
      }
     ],
     "prompt_number": 11
    },
    {
     "cell_type": "code",
     "collapsed": false,
     "input": [
      "knn_preds = {}"
     ],
     "language": "python",
     "metadata": {},
     "outputs": [],
     "prompt_number": 13
    },
    {
     "cell_type": "code",
     "collapsed": false,
     "input": [
      "cnt = 0\n",
      "for nct_id, tokens in new_corpus.items():\n",
      "    cnt += 1\n",
      "    if nct_id not in knn_preds:\n",
      "        this_guess = defaultdict(float)\n",
      "        for sim_id, dist, _ in server.find_similar({'tokens': tokens}, min_score=0.4, max_results=10):\n",
      "            for m in cond_r[sim_id]:\n",
      "                this_guess[m] += dist\n",
      "                \n",
      "        knn_preds[nct_id] = this_guess\n",
      "    \n",
      "    if cnt % 10 == 0: print cnt, datetime.datetime.now().time()"
     ],
     "language": "python",
     "metadata": {},
     "outputs": []
    },
    {
     "cell_type": "code",
     "collapsed": false,
     "input": [
      "%matplotlib inline\n",
      "knn_accuracy = {}\n",
      "for trial_id in new_conds.keys():\n",
      "    # initialize variables for this prediction\n",
      "    accuracy = {'exact': 10000,\n",
      "                'hypernym': {}}\n",
      "    this_pred = knn_preds[trial_id]\n",
      "    val_order = {j[1]: i for i, j in enumerate(sorted(this_pred.items(), key=lambda x: x[1], reverse=True))}\n",
      "\n",
      "    # loop through known MeSH terms to look for greatest overlap\n",
      "    for m in new_conds[trial_id]:\n",
      "        if m in this_pred:\n",
      "            this_rank = val_order[this_pred[m]]\n",
      "            if this_rank < accuracy['exact']:\n",
      "                accuracy['exact'] = this_rank\n",
      "\n",
      "    if accuracy['exact'] == 10000: accuracy['exact'] = None\n",
      "    \n",
      "    knn_accuracy[trial_id] = accuracy\n",
      "\n",
      "c = Counter([knn_accuracy[t]['exact']+1 \n",
      "             if knn_accuracy[t]['exact'] is not None\n",
      "             else 'No match'\n",
      "             for t in knn_accuracy.keys()])\n",
      "print sum(c.values()), len(knn_accuracy)\n",
      "\n",
      "ax = pd.DataFrame(c.values(), index=c.keys()).plot(kind='bar',\n",
      "                                                   figsize=(8,8),\n",
      "                                                   legend=False)\n",
      "\n",
      "ax.set_xlabel(\"Highest rank of nearest neighbor prediction exact match\")\n",
      "ax.set_ylabel(\"Number of trials\")\n",
      "ax.set_title(\"Evaluating KNN predictions using manually assigned MeSH terms:\\nHighest ranking match of a known term\")"
     ],
     "language": "python",
     "metadata": {},
     "outputs": [
      {
       "output_type": "stream",
       "stream": "stdout",
       "text": [
        "549 549\n"
       ]
      },
      {
       "metadata": {},
       "output_type": "pyout",
       "prompt_number": 17,
       "text": [
        "<matplotlib.text.Text at 0x127bf5ed0>"
       ]
      },
      {
       "metadata": {},
       "output_type": "display_data",
       "png": "[encoded data removed]",
       "text": [
        "<matplotlib.figure.Figure at 0x127bdb290>"
       ]
      }
     ],
     "prompt_number": 17
    },
    {
     "cell_type": "code",
     "collapsed": false,
     "input": [
      "no_match = [(k,len([m for m, c in d.items() if c >= 1])) \n",
      "            for k, d in knn_preds.items() \n",
      "            if len(set(d.keys()) & new_conds[k]) == 0]"
     ],
     "language": "python",
     "metadata": {},
     "outputs": [],
     "prompt_number": 30
    },
    {
     "cell_type": "code",
     "collapsed": false,
     "input": [
      "sorted(no_match, key=lambda x: x[1], reverse=True)[:10]"
     ],
     "language": "python",
     "metadata": {},
     "outputs": [
      {
       "metadata": {},
       "output_type": "pyout",
       "prompt_number": 31,
       "text": [
        "[(u'NCT02277639', 25),\n",
        " (u'NCT02312284', 17),\n",
        " (u'NCT02376387', 14),\n",
        " (u'NCT02350777', 12),\n",
        " (u'NCT02317406', 11),\n",
        " (u'NCT02360345', 10),\n",
        " (u'NCT02315612', 10),\n",
        " (u'NCT02307630', 10),\n",
        " (u'NCT02276911', 9),\n",
        " (u'NCT02274584', 9)]"
       ]
      }
     ],
     "prompt_number": 31
    },
    {
     "cell_type": "code",
     "collapsed": false,
     "input": [
      "nct_id = 'NCT02307630'\n",
      "for m, p in sorted(knn_preds[nct_id].items(), key=lambda x: x[1], reverse=True):\n",
      "    if p >= 1:\n",
      "        print m, p"
     ],
     "language": "python",
     "metadata": {},
     "outputs": [
      {
       "output_type": "stream",
       "stream": "stdout",
       "text": [
        "Central Nervous System Neoplasms 2.13993692398\n",
        "Neuroblastoma 2.13993692398\n",
        "Sarcoma 2.13993692398\n",
        "Neoplasms 1.3122420311\n",
        "Neuroectodermal Tumors, Primitive, Peripheral 1.3062120676\n",
        "Nervous System Neoplasms 1.3062120676\n",
        "Meningeal Neoplasms 1.3062120676\n",
        "Desmoplastic Small Round Cell Tumor 1.29230755568\n",
        "Melanoma 1.2418192625\n",
        "Prostatic Neoplasms 1.19214987755\n"
       ]
      }
     ],
     "prompt_number": 35
    },
    {
     "cell_type": "code",
     "collapsed": false,
     "input": [
      "%matplotlib inline\n",
      "knn_accuracy = {}\n",
      "for trial_id in new_conds.keys():\n",
      "    # initialize variables for this prediction\n",
      "    accuracy = {'exact': 10000,\n",
      "                'hypernym': {}}\n",
      "    this_pred = knn_preds[trial_id]\n",
      "    val_order = {j[1]: i for i, j in enumerate(sorted(this_pred.items(), key=lambda x: x[1], reverse=True))}\n",
      "\n",
      "    # loop through known MeSH terms to look for greatest overlap\n",
      "    for m in new_conds[trial_id]:\n",
      "        if m in this_pred:\n",
      "            this_rank = val_order[this_pred[m]]\n",
      "            if this_rank < accuracy['exact']:\n",
      "                accuracy['exact'] = this_rank\n",
      "\n",
      "    if accuracy['exact'] == 10000: accuracy['exact'] = None\n",
      "    \n",
      "    knn_accuracy[trial_id] = accuracy\n",
      "\n",
      "c = Counter([knn_accuracy[t]['exact']+1 \n",
      "             if knn_accuracy[t]['exact'] is not None\n",
      "             else 'No match'\n",
      "             for t in knn_accuracy.keys()])\n",
      "print sum(c.values()), len(knn_accuracy)\n",
      "\n",
      "ax = pd.DataFrame(c.values(), index=c.keys()).plot(kind='bar',\n",
      "                                                   figsize=(8,8),\n",
      "                                                   legend=False)\n",
      "\n",
      "ax.set_xlabel(\"Highest rank of nearest neighbor prediction exact match\")\n",
      "ax.set_ylabel(\"Number of trials\")\n",
      "ax.set_title(\"Evaluating KNN predictions using manually assigned MeSH terms:\\nHighest ranking match of a known term\")"
     ],
     "language": "python",
     "metadata": {},
     "outputs": [
      {
       "output_type": "stream",
       "stream": "stdout",
       "text": [
        "5915 5915\n"
       ]
      },
      {
       "metadata": {},
       "output_type": "pyout",
       "prompt_number": 12,
       "text": [
        "<matplotlib.text.Text at 0x1b3593050>"
       ]
      },
      {
       "metadata": {},
       "output_type": "display_data",
       "png": "[encoded data removed]",
       "text": [
        "<matplotlib.figure.Figure at 0x1b41edcd0>"
       ]
      }
     ],
     "prompt_number": 12
    },
    {
     "cell_type": "code",
     "collapsed": false,
     "input": [],
     "language": "python",
     "metadata": {},
     "outputs": []
    },
    {
     "cell_type": "code",
     "collapsed": false,
     "input": [],
     "language": "python",
     "metadata": {},
     "outputs": []
    },
    {
     "cell_type": "code",
     "collapsed": false,
     "input": [],
     "language": "python",
     "metadata": {},
     "outputs": []
    }
   ],
   "metadata": {}
  }
 ]
}