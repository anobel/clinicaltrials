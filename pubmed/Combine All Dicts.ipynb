{
 "metadata": {
  "name": "",
  "signature": "sha256:49920dbc5e977e1a9b4d4095cf8673e2ab67fc1e8e22afef5da4b0f9ae9d4217"
 },
 "nbformat": 3,
 "nbformat_minor": 0,
 "worksheets": [
  {
   "cells": [
    {
     "cell_type": "code",
     "collapsed": false,
     "input": [
      "import os\n",
      "import cPickle as pickle\n",
      "\n",
      "#load in data files to run\n",
      "#one set of files has the trial and investigator matches to publication\n",
      "#and the second has a lookup dict for the trail information\n",
      "data_list_trial_match = []\n",
      "data_list_trials = []\n",
      "data_files = os.listdir('data/matched_trial_article/')\n",
      "for f in data_files:\n",
      "    if 'trial_match_' in f:\n",
      "        data_list_trial_match.append(f)\n",
      "    if 'trials_' in f:\n",
      "        data_list_trials.append(f)\n",
      "\n",
      "#dictionaries for joining all the individual dictionaries into\n",
      "trial_invest_pub_match_dict = {}\n",
      "pub_lookup_dict = {}\n",
      "        \n",
      "#load in trial match data\n",
      "for f in data_list_trial_match:\n",
      "    print f\n",
      "    #load data to process\n",
      "    data = pickle.load(open('data/matched_trial_article/' + f, 'rb'))\n",
      "    #add data to trial match dict\n",
      "    trial_invest_pub_match_dict.update(data)\n",
      "    del data\n",
      "\n",
      "#save dict\n",
      "pickle.dump(trial_invest_pub_match_dict, open('data/trial_invest_pub_match_dict.pkl', 'wb'))\n",
      "del trial_invest_pub_match_dict\n",
      "\n",
      "#load in trial lookup data\n",
      "for f in data_list_trials:\n",
      "    print f\n",
      "    #load data to process\n",
      "    data = pickle.load(open('data/matched_trial_article/' + f, 'rb'))\n",
      "    #add data to trial match dict\n",
      "    pub_lookup_dict.update(data)\n",
      "    del data\n",
      "\n",
      "#save dict\n",
      "pickle.dump(pub_lookup_dict, open('data/pub_lookup_dict.pkl', 'wb'))\n",
      "del pub_lookup_dict"
     ],
     "language": "python",
     "metadata": {},
     "outputs": []
    }
   ],
   "metadata": {}
  }
 ]
}