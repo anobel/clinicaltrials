{
 "metadata": {
  "name": "",
  "signature": "sha256:875d1fa352173c662b7335e5b34f76d2d7cd9f330b31ac7f8f02ec28df624388"
 },
 "nbformat": 3,
 "nbformat_minor": 0,
 "worksheets": [
  {
   "cells": [
    {
     "cell_type": "code",
     "collapsed": false,
     "input": [
      "import os\n",
      "import cPickle as pickle\n",
      "\n",
      "#load in data files to run\n",
      "#one set of files has the trial and investigator matches to publication\n",
      "#and the second has a lookup dict for the trail information\n",
      "data_list_trial_match = []\n",
      "data_list_trials = []\n",
      "data_files = os.listdir('data/matched_trial_article/')\n",
      "for f in data_files:\n",
      "    if 'trial_match_' in f:\n",
      "        data_list_trial_match.append(f)\n",
      "    if 'trials_' in f:\n",
      "        data_list_trials.append(f)\n",
      "\n",
      "#dictionaries for joining all the individual dictionaries into\n",
      "trial_invest_pub_match_dict = {}\n",
      "pub_lookup_dict = {}\n",
      "        \n",
      "#load in trial match data\n",
      "for f in data_list_trial_match:\n",
      "    print f\n",
      "    #load data to process\n",
      "    data = pickle.load(open('data/matched_trial_article/' + f, 'rb'))\n",
      "    #add data to trial match dict\n",
      "    trial_invest_pub_match_dict.update(data)\n",
      "    del data\n",
      "\n",
      "#save dict\n",
      "pickle.dump(trial_invest_pub_match_dict, open('data/trial_invest_pub_match_dict.pkl', 'wb'))\n",
      "del trial_invest_pub_match_dict\n",
      "\n",
      "#load in trial lookup data\n",
      "for f in data_list_trials:\n",
      "    print f\n",
      "    #load data to process\n",
      "    data = pickle.load(open('data/matched_trial_article/' + f, 'rb'))\n",
      "    #add data to trial match dict\n",
      "    pub_lookup_dict.update(data)\n",
      "    del data\n",
      "\n",
      "#save dict\n",
      "pickle.dump(pub_lookup_dict, open('data/pub_lookup_dict.pkl', 'wb'))\n",
      "del pub_lookup_dict"
     ],
     "language": "python",
     "metadata": {},
     "outputs": []
    },
    {
     "cell_type": "heading",
     "level": 3,
     "metadata": {},
     "source": [
      "Create Id Investigator Lookup Dict"
     ]
    },
    {
     "cell_type": "code",
     "collapsed": false,
     "input": [
      "import cPickle as pickle"
     ],
     "language": "python",
     "metadata": {},
     "outputs": [],
     "prompt_number": 1
    },
    {
     "cell_type": "code",
     "collapsed": false,
     "input": [
      "investiagtor_dict = pickle.load(open('data/investigator_dict.pkl', 'rb'))"
     ],
     "language": "python",
     "metadata": {},
     "outputs": [],
     "prompt_number": 3
    },
    {
     "cell_type": "code",
     "collapsed": false,
     "input": [
      "#create investigator id lookup dict\n",
      "id_investigator_lookup = {}\n",
      "\n",
      "for invest in investiagtor_dict:\n",
      "    for ids in investiagtor_dict[invest]['id']:\n",
      "        id_investigator_lookup[ids] = invest"
     ],
     "language": "python",
     "metadata": {},
     "outputs": [],
     "prompt_number": 9
    },
    {
     "cell_type": "code",
     "collapsed": false,
     "input": [
      "#save dict\n",
      "pickle.dump(id_investigator_lookup, open('data/id_investigator_lookup.pkl', 'wb'))"
     ],
     "language": "python",
     "metadata": {},
     "outputs": [],
     "prompt_number": 18
    },
    {
     "cell_type": "code",
     "collapsed": false,
     "input": [
      "id_investigator_lookup.items()[:10]"
     ],
     "language": "python",
     "metadata": {},
     "outputs": [
      {
       "metadata": {},
       "output_type": "pyout",
       "prompt_number": 15,
       "text": [
        "[(1, u'Emad K. Salman'),\n",
        " (2, u'William B. Slayton'),\n",
        " (3, u'Iftikhar Hanif'),\n",
        " (4, u'Eric S. Sandler'),\n",
        " (5, u'Enrique A. Escalon'),\n",
        " (6, u'Doured Daghistani'),\n",
        " (7, u'Clifford A. Selsky'),\n",
        " (8, u'Ramamoorthy Nagasubramanian'),\n",
        " (9, u'Vincent F. Giusti'),\n",
        " (10, u'Jeffrey H. Schwartz')]"
       ]
      }
     ],
     "prompt_number": 15
    },
    {
     "cell_type": "code",
     "collapsed": false,
     "input": [],
     "language": "python",
     "metadata": {},
     "outputs": []
    }
   ],
   "metadata": {}
  }
 ]
}