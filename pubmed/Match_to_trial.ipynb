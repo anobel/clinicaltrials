{
 "metadata": {
  "name": "",
  "signature": "sha256:9a22b0e4f0f74d6e36e643ba3c0918ca20f9581f45f885a77531cecc28a88e05"
 },
 "nbformat": 3,
 "nbformat_minor": 0,
 "worksheets": [
  {
   "cells": [
    {
     "cell_type": "markdown",
     "metadata": {},
     "source": [
      "This notebook is for matching publications to trials in the database."
     ]
    },
    {
     "cell_type": "code",
     "collapsed": false,
     "input": [
      "#imports\n",
      "from bs4 import BeautifulSoup\n",
      "import cPickle as pickle\n",
      "import pandas as pd\n",
      "import os"
     ],
     "language": "python",
     "metadata": {},
     "outputs": [],
     "prompt_number": 1
    },
    {
     "cell_type": "code",
     "collapsed": false,
     "input": [
      "#load investigator dict\n",
      "investigator_dict = pickle.load(open('data/investigator_dict.pkl', 'rb'))"
     ],
     "language": "python",
     "metadata": {},
     "outputs": [],
     "prompt_number": 2
    },
    {
     "cell_type": "code",
     "collapsed": false,
     "input": [
      "#load trial dates data\n",
      "trial_dates_df = pd.read_csv('data/trial_dates.csv', header=None, names=['Trial', 'Start_Date', 'Submission_Date'])"
     ],
     "language": "python",
     "metadata": {},
     "outputs": [],
     "prompt_number": 50
    },
    {
     "cell_type": "code",
     "collapsed": false,
     "input": [
      "#convert date values to datetime\n",
      "trial_dates_df.Start_Date = trial_dates_df.Start_Date.apply(pd.to_datetime)\n",
      "trial_dates_df.Submission_Date = trial_dates_df.Submission_Date.apply(pd.to_datetime)"
     ],
     "language": "python",
     "metadata": {},
     "outputs": [],
     "prompt_number": 55
    },
    {
     "cell_type": "code",
     "collapsed": false,
     "input": [
      "trial_dates_df.set_index('Trial', inplace=True)"
     ],
     "language": "python",
     "metadata": {},
     "outputs": [],
     "prompt_number": 57
    },
    {
     "cell_type": "code",
     "collapsed": false,
     "input": [
      "trial_dates_df.loc['NCT01940913'].Start_Date"
     ],
     "language": "python",
     "metadata": {},
     "outputs": [
      {
       "metadata": {},
       "output_type": "pyout",
       "prompt_number": 65,
       "text": [
        "Timestamp('2013-10-06 00:00:00')"
       ]
      }
     ],
     "prompt_number": 65
    },
    {
     "cell_type": "code",
     "collapsed": false,
     "input": [
      "column_names = ['Idx', 'Trial_Id', 'Mesh_Term']\n",
      "\n",
      "trial_mesh_df = pd.read_csv('data/condition_browse.txt', names=column_names, sep=\"|\",\n",
      "                            encoding='utf-8', quoting=3)\n",
      "trial_mesh_df = trial_mesh_df.set_index('Idx')"
     ],
     "language": "python",
     "metadata": {},
     "outputs": [],
     "prompt_number": 3
    },
    {
     "cell_type": "code",
     "collapsed": false,
     "input": [
      "#create a dict of trials with a list of their mesh terms\n",
      "trial_mesh_dict = {}\n",
      "sub_date_counter = 0\n",
      "for trial, mesh in zip(trial_mesh_df.Trial_Id, trial_mesh_df.Mesh_Term):\n",
      "    if trial not in trial_mesh_dict:\n",
      "        trial_mesh_dict[trial] = {'Mesh':[]}\n",
      "        #add trial date\n",
      "        if not pd.isnull(trial_dates_df.loc[trial].Start_Date):\n",
      "            trial_mesh_dict[trial]['Date'] = trial_dates_df.loc[trial].Start_Date\n",
      "        else:\n",
      "            trial_mesh_dict[trial]['Date'] = trial_dates_df.loc[trial].Submission_Date\n",
      "            sub_date_counter += 0\n",
      "    trial_mesh_dict[trial]['Mesh'].append(mesh)"
     ],
     "language": "python",
     "metadata": {},
     "outputs": [],
     "prompt_number": 68
    },
    {
     "cell_type": "code",
     "collapsed": false,
     "input": [
      "#save the new trial mesh dict\n",
      "pickle.dump(trial_mesh_dict, open('data/trial_mesh_dict.pkl', 'wb'))"
     ],
     "language": "python",
     "metadata": {},
     "outputs": [],
     "prompt_number": 70
    },
    {
     "cell_type": "code",
     "collapsed": false,
     "input": [
      "#load in data for processing\n",
      "data = pickle.load(open('data/processed_investigator_dict_10.pkl', 'rb'))\n",
      "\n",
      "#trial_mesh_dict = pickle.load(open('data/trial_mesh_dict.pkl', 'rb'))"
     ],
     "language": "python",
     "metadata": {},
     "outputs": [],
     "prompt_number": 6
    },
    {
     "cell_type": "code",
     "collapsed": false,
     "input": [
      "def match_trial_article(data, trial_mesh_dict, investigator_dict):\n",
      "    invest_trial_article_dict = {}\n",
      "    trial_associated_articles_dict = {}\n",
      "\n",
      "    for invest in data:\n",
      "        #skip investigators that have no articles\n",
      "        if len(data[invest]) == 0:\n",
      "            continue\n",
      "        for trial in investigator_dict[invest]['Trials']:\n",
      "            #if the trial does not have associated mesh terms skip it.\n",
      "            if trial not in trial_mesh_dict.keys():\n",
      "                continue\n",
      "            for article in data[invest]:\n",
      "                #check dates of trial and article, skip articles that were published \n",
      "                #before the trial started\n",
      "                trial_date = int(trial_mesh_dict[trial]['Date'].year)\n",
      "                article_date = int(data[invest][article]['year'])\n",
      "                if trial_date > article_date:\n",
      "                    continue\n",
      "\n",
      "                #score variable\n",
      "                score = 0\n",
      "\n",
      "                #get the intersection of mesh terms between the article and trial\n",
      "                article_mesh = data[invest][article]['mesh']\n",
      "                intersection = set([term[0].lower() for term in article_mesh]).intersection(map(lambda x: x.lower(),\n",
      "                                                                                                trial_mesh_dict[trial]['Mesh']))\n",
      "                #create score for article\n",
      "\n",
      "                #add a point for the article being within 10 years of the trial\n",
      "                #an addtional point for being within 5 years\n",
      "                #if the year difference is greater than 10 a point is subtracted\n",
      "                if (article_date - trial_date) <= 5:\n",
      "                    score += 2\n",
      "                elif (article_date - trial_date) <= 10:\n",
      "                    score += 1\n",
      "                else:\n",
      "                    score += -1\n",
      "\n",
      "                #add 1 point for every matching mesh term, add an aditional point if a primary\n",
      "                #mesh term matched\n",
      "                for mesh in set(article_mesh):\n",
      "                    if mesh[0].lower() in intersection:\n",
      "                        if mesh[1] == 'Y':\n",
      "                            score += 2\n",
      "                        else:\n",
      "                            score += 1\n",
      "\n",
      "                #if the score is greater that 3 it is assumed that the article and\n",
      "                #trial are related\n",
      "                if score > 3:\n",
      "                    if invest not in invest_trial_article_dict:\n",
      "                        invest_trial_article_dict[invest] = {}\n",
      "                    if trial not in invest_trial_article_dict[invest]:\n",
      "                        invest_trial_article_dict[invest][trial] = []\n",
      "                    invest_trial_article_dict[invest][trial].append(article) \n",
      "                    trial_associated_articles_dict[article] = data[invest][article]\n",
      "    return invest_trial_article_dict, trial_associated_articles_dict\n"
     ],
     "language": "python",
     "metadata": {},
     "outputs": [],
     "prompt_number": 91
    },
    {
     "cell_type": "code",
     "collapsed": false,
     "input": [
      "#load trial mesh dict\n",
      "trial_mesh_dict = pickle.load(open('data/trial_mesh_dict.pkl', 'rb'))\n",
      "#load investigator dict\n",
      "investigator_dict = pickle.load(open('data/investigator_dict.pkl', 'rb'))\n",
      "\n",
      "#load in data files to run\n",
      "data_list = []\n",
      "data_files = os.listdir('data/investigator_process/')\n",
      "for f in data_files:\n",
      "    if 'processed_' in f:\n",
      "        data_list.append(f)\n",
      "\n",
      "#list to keep track of which files have been run\n",
      "run_files_list = []\n",
      "\n",
      "#load pervious run files list\n",
      "try:\n",
      "    run_files_list = pickle.load(open('data/matching_run_file_list.pkl', 'wb'))\n",
      "except:\n",
      "    pass\n",
      "\n",
      "\n",
      "for f in data_list:\n",
      "    print f\n",
      "    if f not in run_files_list:\n",
      "        #load data to process\n",
      "        data = pickle.load(open( f, 'rb'))\n",
      "\n",
      "        #process data\n",
      "        invest_trial_article_dict, trial_associated_articles_dict = match_trial_article(data, trial_mesh_dict, investigator_dict)\n",
      "\n",
      "    if len(invest_trial_article_dict) > 0:\n",
      "            #trial_match_ has all the investigators and trials with article ids matched to trials\n",
      "            #trails_ has a dictionary of all the trials what were matched for lookup\n",
      "            pickle.dump(invest_trial_article_dict, open('data/matched_trial_article/trial_match_' + f,'wb'))\n",
      "            pickle.dump(trial_associated_articles_dict, open('data/matched_trial_article/trials_' + f,'wb'))\n",
      "\n",
      "    pickle.dump(run_files_list, open('data/matching_run_file_list.pkl', 'wb'))\n",
      "\n",
      "        del invest_trial_article_dict\n",
      "        del trial_associated_articles_dict\n",
      "        del data\n",
      "        run_files_list.append(f)"
     ],
     "language": "python",
     "metadata": {},
     "outputs": []
    },
    {
     "cell_type": "code",
     "collapsed": false,
     "input": [],
     "language": "python",
     "metadata": {},
     "outputs": []
    }
   ],
   "metadata": {}
  }
 ]
}