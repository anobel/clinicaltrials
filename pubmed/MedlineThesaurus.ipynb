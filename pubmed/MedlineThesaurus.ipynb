{
 "metadata": {
  "name": "",
  "signature": "sha256:c27e210e6adfe7623ac7098898bc92b963515a7b32cb5d4171d36785c8d6fc8a"
 },
 "nbformat": 3,
 "nbformat_minor": 0,
 "worksheets": [
  {
   "cells": [
    {
     "cell_type": "code",
     "collapsed": false,
     "input": [
      "from bs4 import BeautifulSoup\n",
      "import codecs, pandas as pd, cPickle as pickle, csv"
     ],
     "language": "python",
     "metadata": {},
     "outputs": [],
     "prompt_number": 1
    },
    {
     "cell_type": "markdown",
     "metadata": {},
     "source": [
      "Read in MedlinePlus health topic data"
     ]
    },
    {
     "cell_type": "code",
     "collapsed": false,
     "input": [
      "soup = BeautifulSoup(codecs.open('../data/mplus_topics_2014-11-04.xml','r','utf-8').read())"
     ],
     "language": "python",
     "metadata": {},
     "outputs": [],
     "prompt_number": 2
    },
    {
     "cell_type": "markdown",
     "metadata": {},
     "source": [
      "Read in MeSH thesaurus and condition data from CTTI"
     ]
    },
    {
     "cell_type": "code",
     "collapsed": false,
     "input": [
      "mesh_terms = {}\n",
      "for row in codecs.open('../data/mesh_thesaurus.txt','r','utf-8').readlines():\n",
      "    row_id, mesh_id, mesh_term = row.strip().split('|')\n",
      "    if mesh_term not in mesh_terms: mesh_terms[mesh_term] = []\n",
      "    mesh_terms[mesh_term].append(mesh_id)\n",
      "\n",
      "conditions = set([row.strip().split('|')[2] for row in codecs.open('../data/condition_browse.txt','r','utf-8').readlines()])\n",
      "interventions = set([row.strip().split('|')[2] for row in codecs.open('../data/intervention_browse.txt','r','utf-8').readlines()])"
     ],
     "language": "python",
     "metadata": {},
     "outputs": [],
     "prompt_number": 3
    },
    {
     "cell_type": "markdown",
     "metadata": {},
     "source": [
      "Create lookup of lay term to MeSH term where they exist"
     ]
    },
    {
     "cell_type": "code",
     "collapsed": false,
     "input": [
      "mesh_lookup = {}\n",
      "others = []\n",
      "for t in soup.find_all(\"health-topic\",language=\"English\"):\n",
      "    cur_mesh = t.find(\"mesh-heading\").descriptor.text\n",
      "    if cur_mesh in conditions:\n",
      "        if cur_mesh not in mesh_lookup: mesh_lookup[cur_mesh] = set()\n",
      "        mesh_lookup[cur_mesh] |=  set([t.attrs[\"title\"]] + [a.text for a in t.find_all(\"also-called\")]) # can take out \"also-called\" tags for a tigher match\n",
      "    else:\n",
      "        others.append(cur_mesh)"
     ],
     "language": "python",
     "metadata": {},
     "outputs": [],
     "prompt_number": 4
    },
    {
     "cell_type": "markdown",
     "metadata": {},
     "source": [
      "Clean up lookup dictionary"
     ]
    },
    {
     "cell_type": "code",
     "collapsed": false,
     "input": [
      "for m in mesh_lookup.keys():\n",
      "    cur_set = mesh_lookup[m].copy()\n",
      "    for s in mesh_lookup[m]:\n",
      "        if m.lower() == s.lower(): cur_set -= set([s])\n",
      "    if len(cur_set) == 0:\n",
      "        del(mesh_lookup[m])\n",
      "    else:\n",
      "        mesh_lookup[m] = cur_set"
     ],
     "language": "python",
     "metadata": {},
     "outputs": [],
     "prompt_number": 7
    },
    {
     "cell_type": "code",
     "collapsed": false,
     "input": [
      "pickle.dump(mesh_lookup,open('../data/mesh_synonyms.pickle','wb'))"
     ],
     "language": "python",
     "metadata": {},
     "outputs": [],
     "prompt_number": 9
    },
    {
     "cell_type": "code",
     "collapsed": false,
     "input": [],
     "language": "python",
     "metadata": {},
     "outputs": []
    }
   ],
   "metadata": {}
  }
 ]
}