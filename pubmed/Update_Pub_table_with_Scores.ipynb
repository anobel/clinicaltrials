{
 "metadata": {
  "name": "",
  "signature": "sha256:f6add97a1e905888780267e7a9864e680d96c65855c73eda32cc5cbbe87cf653"
 },
 "nbformat": 3,
 "nbformat_minor": 0,
 "worksheets": [
  {
   "cells": [
    {
     "cell_type": "code",
     "collapsed": false,
     "input": [
      "import cPickle as pickle\n",
      "import pandas as pd\n",
      "from sqlalchemy import create_engine\n",
      "import db_connect\n",
      "from collections import defaultdict, Counter\n",
      "\n",
      "from sqlalchemy.sql import func, select, and_, or_, not_, desc\n",
      "from db_tables import metadata, TrialPublications"
     ],
     "language": "python",
     "metadata": {},
     "outputs": [],
     "prompt_number": 3
    },
    {
     "cell_type": "heading",
     "level": 3,
     "metadata": {},
     "source": [
      "Trial scores"
     ]
    },
    {
     "cell_type": "code",
     "collapsed": false,
     "input": [
      "trial_scores = pickle.load(open('trial_scores.pkl', 'rb'))"
     ],
     "language": "python",
     "metadata": {},
     "outputs": [],
     "prompt_number": 34
    },
    {
     "cell_type": "code",
     "collapsed": false,
     "input": [
      "Counter(trial_scores.values())"
     ],
     "language": "python",
     "metadata": {},
     "outputs": [
      {
       "metadata": {},
       "output_type": "pyout",
       "prompt_number": 35,
       "text": [
        "Counter({4: 15604, 5: 831, 6: 227, 7: 20, 8: 7, 9: 1})"
       ]
      }
     ],
     "prompt_number": 35
    },
    {
     "cell_type": "code",
     "collapsed": false,
     "input": [
      "trial_links = pickle.load(open('pubmed_trial_links.pkl', 'rb'))\n",
      "trial_links = [(x[0], x[1]) for x in trial_links.items() if x[1] != '']\n",
      "trial_links = dict(trial_links)"
     ],
     "language": "python",
     "metadata": {},
     "outputs": [],
     "prompt_number": 11
    },
    {
     "cell_type": "heading",
     "level": 4,
     "metadata": {},
     "source": [
      "Give confidence scores to all matched publications where linked trials have a confidence of 1. \n",
      "\n",
      "Likely - 0.9 \n",
      "\n",
      "Probable - 0.6 \n",
      "\n",
      "Possible - 0.3 "
     ]
    },
    {
     "cell_type": "code",
     "collapsed": false,
     "input": [
      "#initialize the connection to the db\n",
      "engine = create_engine('mysql+pymysql://' + db_connect.conn)\n",
      "metadata.create_all(engine)"
     ],
     "language": "python",
     "metadata": {},
     "outputs": [],
     "prompt_number": 41
    },
    {
     "cell_type": "code",
     "collapsed": false,
     "input": [
      "#pull down the publication table to update it\n",
      "trial_pubs_table = [(x[0],x[1],x[2],x[3],x[4],x[5]) for x in engine.execute(select([TrialPublications]))]"
     ],
     "language": "python",
     "metadata": {},
     "outputs": [],
     "prompt_number": 42
    },
    {
     "cell_type": "code",
     "collapsed": false,
     "input": [
      "trial_link_lookup = zip(trial_links.values(), trial_links.keys())\n",
      "new_pub_table = []\n",
      "for trial in trial_pubs_table:\n",
      "    if (trial[0], trial[1]) in trial_link_lookup:\n",
      "        new_pub_table.append(trial[:5] + (1.0,))\n",
      "    elif (trial[0], trial[1]) in trial_scores:\n",
      "        score = trial_scores[(trial[0], trial[1])]\n",
      "        if score == 4:\n",
      "            new_score = 0.3\n",
      "        elif score == 5:\n",
      "            new_score = 0.6\n",
      "        else:\n",
      "            new_score = 0.9\n",
      "        new_pub_table.append(trial[:5] + (new_score,))\n",
      "    elif trial[5] == 0.0:\n",
      "        new_pub_table.append(trial[:5] + (0.3,))\n",
      "    else:\n",
      "        new_pub_table.append(trial)"
     ],
     "language": "python",
     "metadata": {},
     "outputs": [],
     "prompt_number": 63
    },
    {
     "cell_type": "code",
     "collapsed": false,
     "input": [
      "import csv\n",
      "with open('data/new_pub_table.txt', 'w') as file:\n",
      "    w = csv.writer(file, dialect='excel-tab')\n",
      "    w.writerows(new_pub_table)"
     ],
     "language": "python",
     "metadata": {},
     "outputs": [],
     "prompt_number": 64
    },
    {
     "cell_type": "code",
     "collapsed": false,
     "input": [],
     "language": "python",
     "metadata": {},
     "outputs": []
    }
   ],
   "metadata": {}
  }
 ]
}