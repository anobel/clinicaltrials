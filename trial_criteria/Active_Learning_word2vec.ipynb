{
 "metadata": {
  "name": "",
  "signature": "sha256:720c0f0a80fa1efa03f46bcac90d0412647341186082f65b3c8455916de97638"
 },
 "nbformat": 3,
 "nbformat_minor": 0,
 "worksheets": [
  {
   "cells": [
    {
     "cell_type": "code",
     "collapsed": false,
     "input": [
      "import nltk\n",
      "import cPickle as pickle\n",
      "from collections import Counter\n",
      "from random import shuffle\n",
      "import word2vec\n",
      "import sqlalchemy\n",
      "from sqlalchemy import create_engine\n",
      "from sqlalchemy.sql import select\n",
      "from string import punctuation\n",
      "import db_connect\n",
      "import uuid\n",
      "import random\n",
      "from datetime import datetime\n",
      "from db_tables import metadata, CriteriaConceptStaging, ConceptPredictors\n",
      "from db_tables import ConceptPredictorsReject, ConceptTerms, ConceptTermsReject, CriteriaTagged"
     ],
     "language": "python",
     "metadata": {},
     "outputs": [],
     "prompt_number": 1
    },
    {
     "cell_type": "heading",
     "level": 3,
     "metadata": {},
     "source": [
      "Initial Concept/Term Selection"
     ]
    },
    {
     "cell_type": "code",
     "collapsed": false,
     "input": [
      "\n",
      "def get_syn(word, model, num):\n",
      "    #if the initial term has a space replace it with an underscore\n",
      "    word = '_'.join(word.split(' '))\n",
      "    try:\n",
      "        indexes, metrics = model.cosine(word, n=num)\n",
      "        return model.generate_response(indexes, metrics).tolist()\n",
      "    except Exception as e:\n",
      "        print e\n",
      "        return [word]\n",
      "    \n",
      "\n",
      "def human_checker_initial(term, syns, term_list, term_exc):\n",
      "    '''This function loops through the possible similar words and\n",
      "    lets human input decide if they actually are or not'''\n",
      "    print 'Are the following terms similar to your term: %r?' % (term)\n",
      "    if len(syns) > 1:\n",
      "        for syn in syns:\n",
      "            if syn in term_list or syn in term_exc:\n",
      "                continue\n",
      "            print 'Term: \\x1b[35m %s \\x1b[0m  Likelihood: \\x1b[36m %f \\x1b[0m' % (syn[0], syn[1])\n",
      "            answer_switch = True\n",
      "            while answer_switch:\n",
      "                add_term = raw_input('Is this a similar term to %s? (Y, N, exit): ' % (term))\n",
      "                if add_term.lower() == 'y':\n",
      "                    term_list.update([syn[0]])\n",
      "                    answer_switch = False\n",
      "                elif add_term.lower() == 'exit':\n",
      "                    #pass switch to exit program\n",
      "                    exit_switch = True\n",
      "                    return term_list, term_exc, exit_switch\n",
      "                elif add_term.lower() == 'n':\n",
      "                    term_exc.update([syn[0]])\n",
      "                    answer_switch = False\n",
      "                else:\n",
      "                    pass\n",
      "\n",
      "    exit_switch = False\n",
      "    return term_list, term_exc, exit_switch\n",
      "\n",
      "\n",
      "def choose_more_terms(model, initial_term, term_list, term_exc, num):\n",
      "    #get list of syns\n",
      "    syns = get_syn(initial_term, model, num)\n",
      "    #if there was no record of the initial term in the model just the initial term will be returned\n",
      "    #in that case just return the existing term\n",
      "    if len(syns) == 1:\n",
      "        return term_list, term_exc\n",
      "    #replace underscores in phrases with spaces\n",
      "    syns = [(' '.join(term[0].split('_')), term[1]) for term in syns]\n",
      "    term_list, term_exc, exit_switch = human_checker_initial(initial_term, syns, term_list, term_exc)\n",
      "    return term_list, term_exc"
     ],
     "language": "python",
     "metadata": {},
     "outputs": [],
     "prompt_number": 27
    },
    {
     "cell_type": "heading",
     "level": 4,
     "metadata": {},
     "source": [
      "Pull in past predictor lists for weighting from db"
     ]
    },
    {
     "cell_type": "code",
     "collapsed": false,
     "input": [
      "#do this here, should be a list of lists\n",
      "def get_past_predictors(engine):\n",
      "    '''pulls all the past predictors from other concepts into a list of lists'''\n",
      "    result = engine.execute(select([ConceptPredictors.c.concept_id,\n",
      "                                   ConceptPredictors.c.predictor]))"
     ],
     "language": "python",
     "metadata": {},
     "outputs": [],
     "prompt_number": 3
    },
    {
     "cell_type": "heading",
     "level": 3,
     "metadata": {},
     "source": [
      "Find New Preds"
     ]
    },
    {
     "cell_type": "code",
     "collapsed": false,
     "input": [
      "def active_learn_predictors(data, term_list, pred_list, pred_exc):\n",
      "    #look for more predictors for each concept by finding sentnces that have \n",
      "    #concept terms in them and looking for predictors in those sentences \n",
      "\n",
      "    def get_pred(text, term_list, pred_exc, pred_list):\n",
      "        pred_options_dict = Counter()\n",
      "        for sent in text:\n",
      "            #if the sentance has less than 2 words skip it\n",
      "            if len(sent) <= 1:\n",
      "                continue\n",
      "            #crate a sentence rank for judging weight of terms found\n",
      "            sent_rank = 0\n",
      "            for term in term_list:\n",
      "                if term.lower() in ' '.join(zip(*sent)[0]).lower():\n",
      "                    sent_rank += 1\n",
      "            result = chunker(sent)\n",
      "            preds = [' '.join(x) for x in [[x[0] for x in term] for term in result]]\n",
      "            preds.append(' '.join([sent[0][0], sent[1][0]]))\n",
      "            #lower case all preds\n",
      "            preds = [x.lower() for x in preds]\n",
      "            preds = preds * sent_rank\n",
      "            pred_options_dict.update(preds)\n",
      "\n",
      "        #get top 20 predictors that have not been seen before\n",
      "        sorted_preds = sorted(pred_options_dict.items(), key=lambda x: x[1], reverse=True)\n",
      "        counter = 0\n",
      "        top_preds = []\n",
      "        for pred in sorted_preds:\n",
      "            if pred[0] not in pred_list and pred[0] not in pred_exc:\n",
      "                top_preds.append(pred)\n",
      "                counter += 1\n",
      "                if counter == 15 or counter == len(sorted_preds):\n",
      "                    return top_preds\n",
      "        #if there are no preds return empty list\n",
      "        return top_preds\n",
      "\n",
      "    #get chunks for preds\n",
      "    def chunker(sent):\n",
      "\n",
      "        chunk_reg1 = r\"\"\"\n",
      "                          CHUNK: {<NN.*><IN>}\n",
      "                     \"\"\"\n",
      "        chunk_reg2 = r\"\"\"\n",
      "                          CHUNK: {<VB.*><DT>}\n",
      "                     \"\"\"\n",
      "        chunk_reg3 = r\"\"\"\n",
      "                          CHUNK: {<NN.*><VB.*>}\n",
      "                     \"\"\"\n",
      "        results = []\n",
      "\n",
      "        for chunk_reg in [chunk_reg1, chunk_reg2, chunk_reg3]:\n",
      "            cp = nltk.RegexpParser(chunk_reg)\n",
      "\n",
      "            try:\n",
      "                tree = cp.parse(sent)\n",
      "            except Exception as e:\n",
      "                print e\n",
      "                print sent\n",
      "                asdfa\n",
      "            \n",
      "            for subtree in tree.subtrees():\n",
      "                if subtree.label() == 'CHUNK':\n",
      "                    results.append(subtree[:])\n",
      "        return results\n",
      "\n",
      "    def human_checker(term, pred_list, top_preds, pred_exc):\n",
      "        '''This function loops through the possible predictors and\n",
      "        lets human input decide if they actually are or not'''\n",
      "        print 'Are the following predictors of this concept %r?' % (initial_term)\n",
      "        if len(top_preds) > 1:\n",
      "            for pred in top_preds:\n",
      "                print 'Predictor: \\x1b[35m %s \\x1b[0m  Score: \\x1b[36m %d \\x1b[0m' % (pred[0], pred[1])\n",
      "                answer_switch = True\n",
      "                while answer_switch:\n",
      "                    add_pred = raw_input('Is this a predictor of %s? (Y, N, exit): ' % (initial_term))\n",
      "                    if add_pred.lower() == 'y':\n",
      "                        pred_list.update([pred[0]])\n",
      "                        answer_switch = False\n",
      "                    elif add_pred.lower() == 'exit':\n",
      "                        #pass switch to exit program\n",
      "                        exit_switch = True\n",
      "                        return pred_list, pred_exc, exit_switch\n",
      "                    elif add_pred.lower() == 'n':\n",
      "                        pred_exc.update([pred[0]])\n",
      "                        answer_switch = False\n",
      "                    else:\n",
      "                        pass\n",
      "                    \n",
      "        exit_switch = False\n",
      "        return pred_list, pred_exc, exit_switch\n",
      "\n",
      "\n",
      "    top_preds = get_pred(data, term_list, pred_exc, pred_list)\n",
      "\n",
      "    pred_list, pred_exc, exit_switch = human_checker(term_list, pred_list, top_preds, pred_exc)\n",
      " \n",
      "    print 'Predictive Term Learning Round Complete'\n",
      "    return pred_list, pred_exc, exit_switch"
     ],
     "language": "python",
     "metadata": {},
     "outputs": [],
     "prompt_number": 24
    },
    {
     "cell_type": "heading",
     "level": 3,
     "metadata": {},
     "source": [
      "Find New Terms"
     ]
    },
    {
     "cell_type": "code",
     "collapsed": false,
     "input": [
      "def active_learn_terms(data, term_list, pred_list, term_exc, past_predictors, model):\n",
      "    #look for more terms for each concept by finding sentnces that have \n",
      "    #predictors in them and looking for terms in those sentences \n",
      "\n",
      "    def get_term(text, term_list, term_exc, pred_list):\n",
      "        term_options_dict = Counter()\n",
      "        for sent in text:\n",
      "            #skip sentence if it contains less than one word\n",
      "            if len(sent) <= 1:\n",
      "                    continue\n",
      "            #crate a sentence rank for judging weight of terms found\n",
      "            sent_rank = 0\n",
      "            for pred in pred_list:\n",
      "                if pred[0].lower() in ' '.join(zip(*sent)[0]).lower():\n",
      "                    sent_rank += pred[1]\n",
      "            result = chunker(sent)\n",
      "            terms = [' '.join(x) for x in [[x[0] for x in term] for term in result]]\n",
      "            terms.append(' '.join([sent[0][0], sent[1][0]]))\n",
      "            #lower case all preds\n",
      "            terms = [x.lower() for x in terms]\n",
      "            #add weights to terms by multiplying by sent_rank\n",
      "            terms = terms * sent_rank\n",
      "            term_options_dict.update(terms)\n",
      "\n",
      "        #get top 20 predictors that have not been seen before\n",
      "        sorted_terms = sorted(term_options_dict.items(), key=lambda x: x[1], reverse=True)\n",
      "        counter = 0\n",
      "        top_terms = []\n",
      "        for term in sorted_terms:\n",
      "            if term[0] not in term_list and term[0] not in term_exc:\n",
      "                top_terms.append(term)\n",
      "                counter += 1\n",
      "                if counter == 15 or counter == len(sorted_terms):\n",
      "                    return top_terms\n",
      "        #if there are no preds return empty list\n",
      "        return top_terms\n",
      "\n",
      "    #get chunks for preds\n",
      "    def chunker(sent):\n",
      "\n",
      "        chunk_reg1 = r\"\"\"\n",
      "                          CHUNK: {(<NN.*><POS>)?<RB>?<JJ.*>*<NN.*>+}\n",
      "                     \"\"\"\n",
      "        #was causing too many bad results\n",
      "#         chunk_reg2 = r\"\"\"\n",
      "#                           CHUNK: {(<JJ.*>|<VB.*>)<XX>}\n",
      "#                        \"\"\"\n",
      "        results = []\n",
      "\n",
      "        for chunk_reg in [chunk_reg1]:\n",
      "            cp = nltk.RegexpParser(chunk_reg)\n",
      "\n",
      "            tree = cp.parse(sent)\n",
      "            for subtree in tree.subtrees():\n",
      "                if subtree.label() == 'CHUNK':\n",
      "                    results.append(subtree[:])\n",
      "        return results\n",
      "\n",
      "    def human_checker(term_list, top_terms, term_exc):\n",
      "        '''This function loops through the possible terms and\n",
      "        lets human input decide if they actually are or not'''\n",
      "        print 'Are the following terms part of this concept: %r?' % (initial_term)\n",
      "        if len(top_terms) > 1:\n",
      "            for term in top_terms:\n",
      "                print 'Term: \\x1b[35m %s \\x1b[0m  Score: \\x1b[36m %d \\x1b[0m' % (term[0], (term[1]))\n",
      "                answer_switch = True\n",
      "                while answer_switch:\n",
      "                    add_term = raw_input('Is this similar to %s? (Y, N, exit): ' % (initial_term))\n",
      "                    if add_term.lower() == 'y':\n",
      "                        term_list.update([term[0]])\n",
      "                        term_list, term_exc = choose_more_terms(model, initial_term, term_list, term_exc, 20)\n",
      "                        answer_switch = False\n",
      "                    elif add_term.lower() == 'exit':\n",
      "                        #pass switch to exit program\n",
      "                        exit_switch = True\n",
      "                        return term_list, term_exc, exit_switch\n",
      "                    elif add_term.lower() == 'n':\n",
      "                        term_exc.update([term[0]])\n",
      "                        answer_switch = False\n",
      "                    else:\n",
      "                        pass\n",
      "                    \n",
      "        exit_switch = False\n",
      "        return term_list, term_exc, exit_switch\n",
      "\n",
      "    def weight_preds(past_predictors, pred_list):\n",
      "        pred_weight_list = []\n",
      "\n",
      "        #create a combined list of all preds, create Counter dict\n",
      "        tot_pred_list = []\n",
      "        for p in past_predictors:\n",
      "            tot_pred_list += p\n",
      "        count_pred = Counter(tot_pred_list)\n",
      "\n",
      "        #add weights to pred terms and create new pred weight lists\n",
      "        list_preds = list(pred_list)\n",
      "        for idx in range(len(list_preds)):\n",
      "            weight  = len(past_predictors) - (count_pred[list_preds[idx]]-1)\n",
      "            pred_weight_list.append((list_preds[idx], weight))\n",
      "            \n",
      "        return pred_weight_list\n",
      "\n",
      "\n",
      "    pred_weight_list = weight_preds(past_predictors, pred_list)\n",
      "\n",
      "    top_terms = get_term(data, term_list, term_exc, pred_weight_list)\n",
      "\n",
      "    term_list, term_exc, exit_switch = human_checker(term_list, top_terms, term_exc)\n",
      "    \n",
      "    print 'Concept Term Learning Round Complete'\n",
      "    return term_list, term_exc, exit_switch"
     ],
     "language": "python",
     "metadata": {},
     "outputs": [],
     "prompt_number": 23
    },
    {
     "cell_type": "code",
     "collapsed": false,
     "input": [
      "def run_active_learning(term_list, term_exc, pred_list, pred_exc, engine, concept_id, user_id, model):\n",
      "    \n",
      "    # get initial terms with word2vec model\n",
      "    term_list, term_exc = choose_more_terms(model, initial_term, term_list, term_exc, 20)\n",
      "    \n",
      "    if concept_id:\n",
      "        new_concept = 0\n",
      "    else:\n",
      "        new_concept = 1\n",
      "        concept_id = str(uuid.uuid4())\n",
      "        \n",
      "    past_predictors = get_past_predictors(engine)\n",
      "    \n",
      "    #check if there are any past predictiors and if not create and empty list\n",
      "    if not past_predictors:\n",
      "        past_predictors = []\n",
      "    \n",
      "    counter = 0\n",
      "    exit_switch = False\n",
      "    criteria_tracking = []\n",
      "    while not exit_switch and counter < 10:\n",
      "        \n",
      "        # load in a random chunk of 10,000 trials\n",
      "        #select a random number between 0-249\n",
      "        while True:\n",
      "            rand_select = random.choice(xrange(250))\n",
      "            if rand_select not in criteria_tracking:\n",
      "                criteria_tracking.append(rand_select)\n",
      "                break\n",
      "        \n",
      "        #need to figure out a way to get random sentences from this, rand() is way to slow\n",
      "        result = engine.execute(select([CriteriaTagged.c.tagged_text]).where(CriteriaTagged.c.random_select\n",
      "                                                                            == rand_select))\n",
      "        \n",
      "        #convert into list of lists\n",
      "        data = [eval(r.tagged_text)[0] for r in result]\n",
      "\n",
      "        #mark punctuation with XX tag and convert inner list to tuples for processing\n",
      "        data = [[(w[0], w[1]) if w[0] not in punctuation else (w[0], 'XX') for w in s] for s in data]\n",
      "\n",
      "        pred_list_new, pred_exc_new, exit_switch = active_learn_predictors(data, term_list, pred_list, pred_exc)\n",
      "        term_list_new, term_exc_new, exit_switch = active_learn_terms(data, term_list, pred_list, term_exc, past_predictors, model)\n",
      "        \n",
      "        #write the concept name row to db after first pass\n",
      "        if counter == 0:\n",
      "            engine.execute(CriteriaConceptStaging.insert(), [{'user_id': user_id,\n",
      "                                              'update_time': datetime.now(),\n",
      "                                              'concept_id': concept_id,\n",
      "                                              'new_concept': new_concept,\n",
      "                                              'update_type': 'concept-name',\n",
      "                                              'value':initial_term}])\n",
      "        \n",
      "        #update the difference in the 4 sets to the database\n",
      "        old = [pred_list, pred_exc, term_list, term_exc]\n",
      "        new = [pred_list_new, pred_exc_new, term_list_new, term_exc_new]\n",
      "        update_type = ['predictor', 'predictor-reject', 'term', 'term-reject']\n",
      "        for ix, s in enumerate(new):\n",
      "            new_values = s.difference(old[ix])\n",
      "            old[ix] = s\n",
      "            cur_time = datetime.now()\n",
      "            update = update_type[ix]\n",
      "            \n",
      "            #instert data into db\n",
      "            engine.execute(CriteriaConceptStaging.insert(), [{'user_id': user_id,\n",
      "                                              'update_time': cur_time,\n",
      "                                              'concept_id': concept_id,\n",
      "                                              'new_concept': new_concept,\n",
      "                                              'update_type': update,\n",
      "                                              'value':value}\n",
      "                                             for value in new_values])\n",
      "            \n",
      "            \n",
      "        counter += 1\n",
      "        \n",
      "    return term_list, pred_list"
     ],
     "language": "python",
     "metadata": {},
     "outputs": [],
     "prompt_number": 20
    },
    {
     "cell_type": "code",
     "collapsed": false,
     "input": [
      "def main(initial_term, user_id, concept_id=False):\n",
      "    #initialize the connection to the db\n",
      "    engine = create_engine('mysql+pymysql://' + db_connect.conn)\n",
      "    metadata.create_all(engine)\n",
      "    \n",
      "    #user will select a term and then the term will be run through the word2vec model to come up with similar terms\n",
      "    #if it is an existing concept pull the existing data from db else start from scratch\n",
      "    if concept_id:\n",
      "        term_list = engine.execute(select([ConceptTerms.c.term]).where(ConceptTerms.c.concept_id\n",
      "                                                            == concept_id))\n",
      "        term_exc = engine.execute(select([ConceptTerms_reject.c.term]).where(ConceptTerms_reject.c.concept_id\n",
      "                                                            == concept_id))\n",
      "        pred_list = engine.execute(select([ConceptPredictors.c.predictor]).where(ConceptPredictors.c.concept_id\n",
      "                                                            == concept_id))\n",
      "        pred_exc = engine.execute(select([ConceptPredictorsReject.c.predictor]).where(ConceptPredictorsReject.c.concept_id\n",
      "                                                            == concept_id))\n",
      "        term_list = set([r[0] for r in term_list])\n",
      "        term_exc = set([r[0] for r in term_exc])\n",
      "        pred_list = set([r[0] for r in pred_list])\n",
      "        pred_exc = set([r[0] for r in pred_exc])\n",
      "    else:\n",
      "        term_list = set([initial_term])\n",
      "        term_exc = set()\n",
      "        pred_list = set()\n",
      "        pred_exc = set()\n",
      "\n",
      "\n",
      "    #load in model\n",
      "    model = word2vec.load('data/criteria.bin')\n",
      "    clusters = word2vec.load_clusters('data/criteria-clusters.txt')\n",
      "\n",
      "    # add clusters to model\n",
      "    model.clusters = clusters\n",
      "    \n",
      "    #add skip terms to term_exc and pred_exc\n",
      "    skip_term, skip_pred = skip_terms()\n",
      "    term_exc.update(skip_term)\n",
      "    pred_exc.update(skip_pred)\n",
      "\n",
      "    term_list, pred_list = run_active_learning(term_list, term_exc, pred_list, pred_exc, engine, concept_id, user_id, model)"
     ],
     "language": "python",
     "metadata": {},
     "outputs": [],
     "prompt_number": 7
    },
    {
     "cell_type": "code",
     "collapsed": false,
     "input": [
      "def skip_terms():\n",
      "    term_list = ['month', 'months', 'patient', 'patients', 'history', 'day', 'days',\n",
      "                         'year', 'years', 'week', 'weeks', 'subject', 'subjects', 'study', 'inclusion criteria', 'exclusion criteria',\n",
      "                         'history of', 'patients with', 'age', 'investigator', 'use', 'evidence', 'women', 'men', 'woman', 'man',\n",
      "                         'female', 'male', 'enrollment', 'time']\n",
      "    predictor_list = ['inclusion criteria', 'exclusion criteria']\n",
      "    return term_list, predictor_list"
     ],
     "language": "python",
     "metadata": {},
     "outputs": [],
     "prompt_number": 8
    },
    {
     "cell_type": "code",
     "collapsed": false,
     "input": [
      "initial_term = 'allergy'\n",
      "main(initial_term, 1)"
     ],
     "language": "python",
     "metadata": {},
     "outputs": [
      {
       "output_type": "stream",
       "stream": "stdout",
       "text": [
        "Are the following terms similar to your term: 'allergy'?\n",
        "Term: \u001b[35m allergic reaction \u001b[0m  Likelihood: \u001b[36m 0.821349 \u001b[0m\n"
       ]
      },
      {
       "name": "stdout",
       "output_type": "stream",
       "stream": "stdout",
       "text": [
        "Is this a similar term to allergy? (Y, N, exit): y\n"
       ]
      },
      {
       "output_type": "stream",
       "stream": "stdout",
       "text": [
        "Term: \u001b[35m hypersensitivity \u001b[0m  Likelihood: \u001b[36m 0.814558 \u001b[0m\n"
       ]
      },
      {
       "name": "stdout",
       "output_type": "stream",
       "stream": "stdout",
       "text": [
        "Is this a similar term to allergy? (Y, N, exit): y\n"
       ]
      },
      {
       "output_type": "stream",
       "stream": "stdout",
       "text": [
        "Term: \u001b[35m allergies \u001b[0m  Likelihood: \u001b[36m 0.807392 \u001b[0m\n"
       ]
      },
      {
       "name": "stdout",
       "output_type": "stream",
       "stream": "stdout",
       "text": [
        "Is this a similar term to allergy? (Y, N, exit): y\n"
       ]
      },
      {
       "output_type": "stream",
       "stream": "stdout",
       "text": [
        "Term: \u001b[35m adverse reactions \u001b[0m  Likelihood: \u001b[36m 0.797498 \u001b[0m\n"
       ]
      },
      {
       "name": "stdout",
       "output_type": "stream",
       "stream": "stdout",
       "text": [
        "Is this a similar term to allergy? (Y, N, exit): y\n"
       ]
      },
      {
       "output_type": "stream",
       "stream": "stdout",
       "text": [
        "Term: \u001b[35m adverse reaction \u001b[0m  Likelihood: \u001b[36m 0.793860 \u001b[0m\n"
       ]
      },
      {
       "name": "stdout",
       "output_type": "stream",
       "stream": "stdout",
       "text": [
        "Is this a similar term to allergy? (Y, N, exit): y\n"
       ]
      },
      {
       "output_type": "stream",
       "stream": "stdout",
       "text": [
        "Term: \u001b[35m known allergy \u001b[0m  Likelihood: \u001b[36m 0.786794 \u001b[0m\n"
       ]
      },
      {
       "name": "stdout",
       "output_type": "stream",
       "stream": "stdout",
       "text": [
        "Is this a similar term to allergy? (Y, N, exit): y\n"
       ]
      },
      {
       "output_type": "stream",
       "stream": "stdout",
       "text": [
        "Term: \u001b[35m hypersensitivity reaction \u001b[0m  Likelihood: \u001b[36m 0.747655 \u001b[0m\n"
       ]
      },
      {
       "name": "stdout",
       "output_type": "stream",
       "stream": "stdout",
       "text": [
        "Is this a similar term to allergy? (Y, N, exit): y\n"
       ]
      },
      {
       "output_type": "stream",
       "stream": "stdout",
       "text": [
        "Term: \u001b[35m allergic reactions \u001b[0m  Likelihood: \u001b[36m 0.740226 \u001b[0m\n"
       ]
      },
      {
       "name": "stdout",
       "output_type": "stream",
       "stream": "stdout",
       "text": [
        "Is this a similar term to allergy? (Y, N, exit): y\n"
       ]
      },
      {
       "output_type": "stream",
       "stream": "stdout",
       "text": [
        "Term: \u001b[35m anaphylactic reaction \u001b[0m  Likelihood: \u001b[36m 0.726237 \u001b[0m\n"
       ]
      },
      {
       "name": "stdout",
       "output_type": "stream",
       "stream": "stdout",
       "text": [
        "Is this a similar term to allergy? (Y, N, exit): y\n"
       ]
      },
      {
       "output_type": "stream",
       "stream": "stdout",
       "text": [
        "Term: \u001b[35m hypersensitivities \u001b[0m  Likelihood: \u001b[36m 0.719058 \u001b[0m\n"
       ]
      },
      {
       "name": "stdout",
       "output_type": "stream",
       "stream": "stdout",
       "text": [
        "Is this a similar term to allergy? (Y, N, exit): y\n"
       ]
      },
      {
       "output_type": "stream",
       "stream": "stdout",
       "text": [
        "Term: \u001b[35m hypersensibility \u001b[0m  Likelihood: \u001b[36m 0.714221 \u001b[0m\n"
       ]
      },
      {
       "name": "stdout",
       "output_type": "stream",
       "stream": "stdout",
       "text": [
        "Is this a similar term to allergy? (Y, N, exit): y\n"
       ]
      },
      {
       "output_type": "stream",
       "stream": "stdout",
       "text": [
        "Term: \u001b[35m idiosyncratic reaction \u001b[0m  Likelihood: \u001b[36m 0.708812 \u001b[0m\n"
       ]
      },
      {
       "name": "stdout",
       "output_type": "stream",
       "stream": "stdout",
       "text": [
        "Is this a similar term to allergy? (Y, N, exit): y\n"
       ]
      },
      {
       "output_type": "stream",
       "stream": "stdout",
       "text": [
        "Term: \u001b[35m amide type \u001b[0m  Likelihood: \u001b[36m 0.708615 \u001b[0m\n"
       ]
      },
      {
       "name": "stdout",
       "output_type": "stream",
       "stream": "stdout",
       "text": [
        "Is this a similar term to allergy? (Y, N, exit): n\n"
       ]
      },
      {
       "output_type": "stream",
       "stream": "stdout",
       "text": [
        "Term: \u001b[35m allergic \u001b[0m  Likelihood: \u001b[36m 0.708561 \u001b[0m\n"
       ]
      },
      {
       "name": "stdout",
       "output_type": "stream",
       "stream": "stdout",
       "text": [
        "Is this a similar term to allergy? (Y, N, exit): y\n"
       ]
      },
      {
       "output_type": "stream",
       "stream": "stdout",
       "text": [
        "Term: \u001b[35m reaction \u001b[0m  Likelihood: \u001b[36m 0.703077 \u001b[0m\n"
       ]
      },
      {
       "name": "stdout",
       "output_type": "stream",
       "stream": "stdout",
       "text": [
        "Is this a similar term to allergy? (Y, N, exit): n\n"
       ]
      },
      {
       "output_type": "stream",
       "stream": "stdout",
       "text": [
        "Term: \u001b[35m hypersensitivity reactions \u001b[0m  Likelihood: \u001b[36m 0.701888 \u001b[0m\n"
       ]
      },
      {
       "name": "stdout",
       "output_type": "stream",
       "stream": "stdout",
       "text": [
        "Is this a similar term to allergy? (Y, N, exit): y\n"
       ]
      },
      {
       "output_type": "stream",
       "stream": "stdout",
       "text": [
        "Term: \u001b[35m sensitivities \u001b[0m  Likelihood: \u001b[36m 0.699749 \u001b[0m\n"
       ]
      },
      {
       "name": "stdout",
       "output_type": "stream",
       "stream": "stdout",
       "text": [
        "Is this a similar term to allergy? (Y, N, exit): n\n"
       ]
      },
      {
       "output_type": "stream",
       "stream": "stdout",
       "text": [
        "Term: \u001b[35m hypersensitive reaction \u001b[0m  Likelihood: \u001b[36m 0.699157 \u001b[0m\n"
       ]
      },
      {
       "name": "stdout",
       "output_type": "stream",
       "stream": "stdout",
       "text": [
        "Is this a similar term to allergy? (Y, N, exit): y\n"
       ]
      },
      {
       "output_type": "stream",
       "stream": "stdout",
       "text": [
        "Term: \u001b[35m allergy against \u001b[0m  Likelihood: \u001b[36m 0.695337 \u001b[0m\n"
       ]
      },
      {
       "name": "stdout",
       "output_type": "stream",
       "stream": "stdout",
       "text": [
        "Is this a similar term to allergy? (Y, N, exit): y\n"
       ]
      },
      {
       "output_type": "stream",
       "stream": "stdout",
       "text": [
        "Term: \u001b[35m anaphylactoid reaction \u001b[0m  Likelihood: \u001b[36m 0.681574 \u001b[0m\n"
       ]
      },
      {
       "name": "stdout",
       "output_type": "stream",
       "stream": "stdout",
       "text": [
        "Is this a similar term to allergy? (Y, N, exit): y\n"
       ]
      },
      {
       "output_type": "stream",
       "stream": "stdout",
       "text": [
        "Are the following predictors of this concept 'allergy'?\n",
        "Predictor: \u001b[35m history of \u001b[0m  Score: \u001b[36m 183 \u001b[0m\n"
       ]
      },
      {
       "name": "stdout",
       "output_type": "stream",
       "stream": "stdout",
       "text": [
        "Is this a predictor of allergy? (Y, N, exit): y\n"
       ]
      },
      {
       "output_type": "stream",
       "stream": "stdout",
       "text": [
        "Predictor: \u001b[35m patients with \u001b[0m  Score: \u001b[36m 27 \u001b[0m\n"
       ]
      },
      {
       "name": "stdout",
       "output_type": "stream",
       "stream": "stdout",
       "text": [
        "Is this a predictor of allergy? (Y, N, exit): y\n"
       ]
      },
      {
       "output_type": "stream",
       "stream": "stdout",
       "text": [
        "Predictor: \u001b[35m known allergy \u001b[0m  Score: \u001b[36m 20 \u001b[0m\n"
       ]
      },
      {
       "name": "stdout",
       "output_type": "stream",
       "stream": "stdout",
       "text": [
        "Is this a predictor of allergy? (Y, N, exit): y\n"
       ]
      },
      {
       "output_type": "stream",
       "stream": "stdout",
       "text": [
        "Predictor: \u001b[35m have a \u001b[0m  Score: \u001b[36m 16 \u001b[0m\n"
       ]
      },
      {
       "name": "stdout",
       "output_type": "stream",
       "stream": "stdout",
       "text": [
        "Is this a predictor of allergy? (Y, N, exit): n\n"
       ]
      },
      {
       "output_type": "stream",
       "stream": "stdout",
       "text": [
        "Predictor: \u001b[35m known hypersensitivity \u001b[0m  Score: \u001b[36m 14 \u001b[0m\n"
       ]
      },
      {
       "name": "stdout",
       "output_type": "stream",
       "stream": "stdout",
       "text": [
        "Is this a predictor of allergy? (Y, N, exit): y\n"
       ]
      },
      {
       "output_type": "stream",
       "stream": "stdout",
       "text": [
        "Predictor: \u001b[35m components of \u001b[0m  Score: \u001b[36m 14 \u001b[0m\n"
       ]
      },
      {
       "name": "stdout",
       "output_type": "stream",
       "stream": "stdout",
       "text": [
        "Is this a predictor of allergy? (Y, N, exit): n\n"
       ]
      },
      {
       "output_type": "stream",
       "stream": "stdout",
       "text": [
        "Predictor: \u001b[35m allergy to \u001b[0m  Score: \u001b[36m 12 \u001b[0m\n"
       ]
      },
      {
       "name": "stdout",
       "output_type": "stream",
       "stream": "stdout",
       "text": [
        "Is this a predictor of allergy? (Y, N, exit): y\n"
       ]
      },
      {
       "output_type": "stream",
       "stream": "stdout",
       "text": [
        "Predictor: \u001b[35m component of \u001b[0m  Score: \u001b[36m 11 \u001b[0m\n"
       ]
      },
      {
       "name": "stdout",
       "output_type": "stream",
       "stream": "stdout",
       "text": [
        "Is this a predictor of allergy? (Y, N, exit): n\n"
       ]
      },
      {
       "output_type": "stream",
       "stream": "stdout",
       "text": [
        "Predictor: \u001b[35m hypersensitivity to \u001b[0m  Score: \u001b[36m 11 \u001b[0m\n"
       ]
      },
      {
       "name": "stdout",
       "output_type": "stream",
       "stream": "stdout",
       "text": [
        "Is this a predictor of allergy? (Y, N, exit): y\n"
       ]
      },
      {
       "output_type": "stream",
       "stream": "stdout",
       "text": [
        "Predictor: \u001b[35m compounds of \u001b[0m  Score: \u001b[36m 9 \u001b[0m\n"
       ]
      },
      {
       "name": "stdout",
       "output_type": "stream",
       "stream": "stdout",
       "text": [
        "Is this a predictor of allergy? (Y, N, exit): n\n"
       ]
      },
      {
       "output_type": "stream",
       "stream": "stdout",
       "text": [
        "Predictor: \u001b[35m participants with \u001b[0m  Score: \u001b[36m 8 \u001b[0m\n"
       ]
      },
      {
       "name": "stdout",
       "output_type": "stream",
       "stream": "stdout",
       "text": [
        "Is this a predictor of allergy? (Y, N, exit): y\n"
       ]
      },
      {
       "output_type": "stream",
       "stream": "stdout",
       "text": [
        "Predictor: \u001b[35m no known \u001b[0m  Score: \u001b[36m 8 \u001b[0m\n"
       ]
      },
      {
       "name": "stdout",
       "output_type": "stream",
       "stream": "stdout",
       "text": [
        "Is this a predictor of allergy? (Y, N, exit): n\n"
       ]
      },
      {
       "output_type": "stream",
       "stream": "stdout",
       "text": [
        "Predictor: \u001b[35m has a \u001b[0m  Score: \u001b[36m 8 \u001b[0m\n"
       ]
      },
      {
       "name": "stdout",
       "output_type": "stream",
       "stream": "stdout",
       "text": [
        "Is this a predictor of allergy? (Y, N, exit): n\n"
       ]
      },
      {
       "output_type": "stream",
       "stream": "stdout",
       "text": [
        "Predictor: \u001b[35m allergy or \u001b[0m  Score: \u001b[36m 7 \u001b[0m\n"
       ]
      },
      {
       "name": "stdout",
       "output_type": "stream",
       "stream": "stdout",
       "text": [
        "Is this a predictor of allergy? (Y, N, exit): y\n"
       ]
      },
      {
       "output_type": "stream",
       "stream": "stdout",
       "text": [
        "Predictor: \u001b[35m drugs formulated \u001b[0m  Score: \u001b[36m 6 \u001b[0m\n"
       ]
      },
      {
       "name": "stdout",
       "output_type": "stream",
       "stream": "stdout",
       "text": [
        "Is this a predictor of allergy? (Y, N, exit): n\n"
       ]
      },
      {
       "output_type": "stream",
       "stream": "stdout",
       "text": [
        "Predictive Term Learning Round Complete\n",
        "Are the following terms part of this concept: 'allergy'?"
       ]
      },
      {
       "output_type": "stream",
       "stream": "stdout",
       "text": [
        "\n",
        "Term: \u001b[35m known hypersensitivity \u001b[0m  Score: \u001b[36m 25 \u001b[0m\n"
       ]
      },
      {
       "name": "stdout",
       "output_type": "stream",
       "stream": "stdout",
       "text": [
        "Is this similar to allergy? (Y, N, exit): y\n"
       ]
      },
      {
       "output_type": "stream",
       "stream": "stdout",
       "text": [
        "Are the following terms similar to your term: 'allergy'?\n",
        "Term: \u001b[35m allergic reaction \u001b[0m  Likelihood: \u001b[36m 0.821349 \u001b[0m\n"
       ]
      },
      {
       "name": "stdout",
       "output_type": "stream",
       "stream": "stdout",
       "text": [
        "Is this a similar term to allergy? (Y, N, exit): y\n"
       ]
      },
      {
       "output_type": "stream",
       "stream": "stdout",
       "text": [
        "Term: \u001b[35m hypersensitivity \u001b[0m  Likelihood: \u001b[36m 0.814558 \u001b[0m\n"
       ]
      },
      {
       "name": "stdout",
       "output_type": "stream",
       "stream": "stdout",
       "text": [
        "Is this a similar term to allergy? (Y, N, exit): y\n"
       ]
      },
      {
       "output_type": "stream",
       "stream": "stdout",
       "text": [
        "Term: \u001b[35m allergies \u001b[0m  Likelihood: \u001b[36m 0.807392 \u001b[0m\n"
       ]
      },
      {
       "name": "stdout",
       "output_type": "stream",
       "stream": "stdout",
       "text": [
        "Is this a similar term to allergy? (Y, N, exit): y\n"
       ]
      },
      {
       "output_type": "stream",
       "stream": "stdout",
       "text": [
        "Term: \u001b[35m known history \u001b[0m  Score: \u001b[36m 25 \u001b[0m\n"
       ]
      },
      {
       "name": "stdout",
       "output_type": "stream",
       "stream": "stdout",
       "text": [
        "Is this similar to allergy? (Y, N, exit): n\n"
       ]
      },
      {
       "output_type": "stream",
       "stream": "stdout",
       "text": [
        "Term: \u001b[35m screening \u001b[0m  Score: \u001b[36m 24 \u001b[0m\n"
       ]
      },
      {
       "name": "stdout",
       "output_type": "stream",
       "stream": "stdout",
       "text": [
        "Is this similar to allergy? (Y, N, exit): n\n"
       ]
      },
      {
       "output_type": "stream",
       "stream": "stdout",
       "text": [
        "Term: \u001b[35m drug \u001b[0m  Score: \u001b[36m 22 \u001b[0m\n"
       ]
      },
      {
       "name": "stdout",
       "output_type": "stream",
       "stream": "stdout",
       "text": [
        "Is this similar to allergy? (Y, N, exit): n\n"
       ]
      },
      {
       "output_type": "stream",
       "stream": "stdout",
       "text": [
        "Term: \u001b[35m family history \u001b[0m  Score: \u001b[36m 21 \u001b[0m\n"
       ]
      },
      {
       "name": "stdout",
       "output_type": "stream",
       "stream": "stdout",
       "text": [
        "Is this similar to allergy? (Y, N, exit): n\n"
       ]
      },
      {
       "output_type": "stream",
       "stream": "stdout",
       "text": [
        "Term: \u001b[35m treatment \u001b[0m  Score: \u001b[36m 20 \u001b[0m\n"
       ]
      },
      {
       "name": "stdout",
       "output_type": "stream",
       "stream": "stdout",
       "text": [
        "Is this similar to allergy? (Y, N, exit): n\n"
       ]
      },
      {
       "output_type": "stream",
       "stream": "stdout",
       "text": [
        "Term: \u001b[35m malignancy \u001b[0m  Score: \u001b[36m 19 \u001b[0m\n"
       ]
      },
      {
       "name": "stdout",
       "output_type": "stream",
       "stream": "stdout",
       "text": [
        "Is this similar to allergy? (Y, N, exit): n\n"
       ]
      },
      {
       "output_type": "stream",
       "stream": "stdout",
       "text": [
        "Term: \u001b[35m participants \u001b[0m  Score: \u001b[36m 19 \u001b[0m\n"
       ]
      },
      {
       "name": "stdout",
       "output_type": "stream",
       "stream": "stdout",
       "text": [
        "Is this similar to allergy? (Y, N, exit): n\n"
       ]
      },
      {
       "output_type": "stream",
       "stream": "stdout",
       "text": [
        "Term: \u001b[35m no history \u001b[0m  Score: \u001b[36m 18 \u001b[0m\n"
       ]
      },
      {
       "name": "stdout",
       "output_type": "stream",
       "stream": "stdout",
       "text": [
        "Is this similar to allergy? (Y, N, exit): n\n"
       ]
      },
      {
       "output_type": "stream",
       "stream": "stdout",
       "text": [
        "Term: \u001b[35m participants with \u001b[0m  Score: \u001b[36m 17 \u001b[0m\n"
       ]
      },
      {
       "name": "stdout",
       "output_type": "stream",
       "stream": "stdout",
       "text": [
        "Is this similar to allergy? (Y, N, exit): n\n"
       ]
      },
      {
       "output_type": "stream",
       "stream": "stdout",
       "text": [
        "Term: \u001b[35m diabetes \u001b[0m  Score: \u001b[36m 16 \u001b[0m\n"
       ]
      },
      {
       "name": "stdout",
       "output_type": "stream",
       "stream": "stdout",
       "text": [
        "Is this similar to allergy? (Y, N, exit): n\n"
       ]
      },
      {
       "output_type": "stream",
       "stream": "stdout",
       "text": [
        "Term: \u001b[35m sensitivity \u001b[0m  Score: \u001b[36m 15 \u001b[0m\n"
       ]
      },
      {
       "name": "stdout",
       "output_type": "stream",
       "stream": "stdout",
       "text": [
        "Is this similar to allergy? (Y, N, exit): y\n"
       ]
      },
      {
       "output_type": "stream",
       "stream": "stdout",
       "text": [
        "Are the following terms similar to your term: 'allergy'?\n",
        "Term: \u001b[35m allergic reaction \u001b[0m  Likelihood: \u001b[36m 0.821349 \u001b[0m\n"
       ]
      },
      {
       "name": "stdout",
       "output_type": "stream",
       "stream": "stdout",
       "text": [
        "Is this a similar term to allergy? (Y, N, exit): y\n"
       ]
      },
      {
       "output_type": "stream",
       "stream": "stdout",
       "text": [
        "Term: \u001b[35m hypersensitivity \u001b[0m  Likelihood: \u001b[36m 0.814558 \u001b[0m\n"
       ]
      },
      {
       "name": "stdout",
       "output_type": "stream",
       "stream": "stdout",
       "text": [
        "Is this a similar term to allergy? (Y, N, exit): y\n"
       ]
      },
      {
       "output_type": "stream",
       "stream": "stdout",
       "text": [
        "Term: \u001b[35m allergies \u001b[0m  Likelihood: \u001b[36m 0.807392 \u001b[0m\n"
       ]
      },
      {
       "name": "stdout",
       "output_type": "stream",
       "stream": "stdout",
       "text": [
        "Is this a similar term to allergy? (Y, N, exit): y\n"
       ]
      },
      {
       "output_type": "stream",
       "stream": "stdout",
       "text": [
        "Term: \u001b[35m drugs \u001b[0m  Score: \u001b[36m 15 \u001b[0m\n"
       ]
      },
      {
       "name": "stdout",
       "output_type": "stream",
       "stream": "stdout",
       "text": [
        "Is this similar to allergy? (Y, N, exit): n\n"
       ]
      },
      {
       "output_type": "stream",
       "stream": "stdout",
       "text": [
        "Term: \u001b[35m prior history \u001b[0m  Score: \u001b[36m 15 \u001b[0m\n"
       ]
      },
      {
       "name": "stdout",
       "output_type": "stream",
       "stream": "stdout",
       "text": [
        "Is this similar to allergy? (Y, N, exit): n\n"
       ]
      },
      {
       "output_type": "stream",
       "stream": "stdout",
       "text": [
        "Term: \u001b[35m intolerance \u001b[0m  Score: \u001b[36m 15 \u001b[0m\n"
       ]
      },
      {
       "name": "stdout",
       "output_type": "stream",
       "stream": "stdout",
       "text": [
        "Is this similar to allergy? (Y, N, exit): n\n"
       ]
      },
      {
       "output_type": "stream",
       "stream": "stdout",
       "text": [
        "Concept Term Learning Round Complete\n",
        "Are the following predictors of this concept 'allergy'?"
       ]
      },
      {
       "output_type": "stream",
       "stream": "stdout",
       "text": [
        "\n",
        "Predictor: \u001b[35m reactions attributed \u001b[0m  Score: \u001b[36m 28 \u001b[0m\n"
       ]
      },
      {
       "name": "stdout",
       "output_type": "stream",
       "stream": "stdout",
       "text": [
        "Is this a predictor of allergy? (Y, N, exit): exit\n"
       ]
      },
      {
       "output_type": "stream",
       "stream": "stdout",
       "text": [
        "Predictive Term Learning Round Complete\n",
        "Are the following terms part of this concept: 'allergy'?"
       ]
      },
      {
       "output_type": "stream",
       "stream": "stdout",
       "text": [
        "\n",
        "Term: \u001b[35m previous history \u001b[0m  Score: \u001b[36m 23 \u001b[0m\n"
       ]
      },
      {
       "name": "stdout",
       "output_type": "stream",
       "stream": "stdout",
       "text": [
        "Is this similar to allergy? (Y, N, exit): exit\n"
       ]
      },
      {
       "output_type": "stream",
       "stream": "stdout",
       "text": [
        "Concept Term Learning Round Complete\n"
       ]
      }
     ],
     "prompt_number": 25
    },
    {
     "cell_type": "code",
     "collapsed": false,
     "input": [],
     "language": "python",
     "metadata": {},
     "outputs": []
    }
   ],
   "metadata": {}
  }
 ]
}