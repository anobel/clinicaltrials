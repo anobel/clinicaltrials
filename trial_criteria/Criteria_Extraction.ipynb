{
 "metadata": {
  "name": "",
  "signature": "sha256:e7740160a5f276ee98b23ebd3729c3c03dfe700638fa366d1bdcdd18c89a99a3"
 },
 "nbformat": 3,
 "nbformat_minor": 0,
 "worksheets": [
  {
   "cells": [
    {
     "cell_type": "code",
     "collapsed": false,
     "input": [
      "import nltk\n",
      "import cPickle as pickle\n",
      "from collections import Counter\n",
      "from random import shuffle"
     ],
     "language": "python",
     "metadata": {},
     "outputs": [],
     "prompt_number": 302
    },
    {
     "cell_type": "heading",
     "level": 3,
     "metadata": {},
     "source": [
      "Load Data"
     ]
    },
    {
     "cell_type": "code",
     "collapsed": false,
     "input": [
      "#test data\n",
      "test_data = pickle.load(open('data/test_tagged_data.pkl', 'rb'))"
     ],
     "language": "python",
     "metadata": {},
     "outputs": [],
     "prompt_number": 2
    },
    {
     "cell_type": "code",
     "collapsed": false,
     "input": [
      "data = pickle.load(open('data/criteria_text_chunk_3.pkl', 'rb'))"
     ],
     "language": "python",
     "metadata": {},
     "outputs": [],
     "prompt_number": 231
    },
    {
     "cell_type": "heading",
     "level": 3,
     "metadata": {},
     "source": [
      "Initial Concept Term Lists"
     ]
    },
    {
     "cell_type": "code",
     "collapsed": false,
     "input": [
      "smoker_list = ['Non-smoker', 'smoker', 'Current smoker', 'smoking', 'tobacco', 'nicotine',\n",
      "               'cigarettes']\n",
      "pregnancy_list = ['Pregnancy']\n",
      "birth_control_list = ['Birth control', 'contraception']\n",
      "drug_list = ['Illicit drugs', 'Alcohol abuse', 'illegal', 'illicit', 'drug abuse']\n",
      "heart_failure_list = ['Congestive Heart Failure', 'heart failure']\n",
      "hiv_list = ['HIV', 'aids', 'human immunodeficiency virus']\n",
      "allergy_list = ['Allergies', 'allergy', 'hypersensitivity']"
     ],
     "language": "python",
     "metadata": {},
     "outputs": [],
     "prompt_number": 219
    },
    {
     "cell_type": "heading",
     "level": 3,
     "metadata": {},
     "source": [
      "Inital Predictive Terms"
     ]
    },
    {
     "cell_type": "code",
     "collapsed": false,
     "input": [
      "smoker_pred_list = ['current']\n",
      "pregnancy_pred_list = ['potential', 'negative']\n",
      "birth_control_pred_list = ['effective', 'Fertile patients', 'must use effective',\n",
      "                           'must use', 'use effective', 'Fertile patients must use',\n",
      "                           'fertile']\n",
      "drug_pred_list = ['use', 'abuse']\n",
      "heart_failure_pred_list = []\n",
      "hiv_pred_list = []\n",
      "allergy_pred_list = ['known', 'history', 'suspected', 'known suspected',\n",
      "                     'clinically significant']"
     ],
     "language": "python",
     "metadata": {},
     "outputs": [],
     "prompt_number": 220
    },
    {
     "cell_type": "heading",
     "level": 3,
     "metadata": {},
     "source": [
      "Discount Dictionaries"
     ]
    },
    {
     "cell_type": "code",
     "collapsed": false,
     "input": [
      "#dictionaries keeping track of predictors said no to\n",
      "smoker_pred_dict = {}\n",
      "pregnancy_pred_dict = {}\n",
      "birth_control_pred_dict = {}\n",
      "drug_pred_dict = {}\n",
      "heart_failure_pred_dict = {}\n",
      "hiv_pred_dict = {}\n",
      "allergy_pred_dict = {}\n",
      "\n",
      "#dictionaries to keep track of terms said no to\n",
      "smoker_term_dict = {}\n",
      "pregnancy_term_dict = {}\n",
      "birth_control_term_dict = {}\n",
      "drug_term_dict = {}\n",
      "heart_failure_term_dict = {}\n",
      "hiv_term_dict = {}\n",
      "allergy_term_dict = {}"
     ],
     "language": "python",
     "metadata": {},
     "outputs": [],
     "prompt_number": 221
    },
    {
     "cell_type": "code",
     "collapsed": false,
     "input": [
      "pred_list = [smoker_pred_list, pregnancy_pred_list, birth_control_pred_list, drug_pred_list,\n",
      "                   heart_failure_pred_list, hiv_pred_list, allergy_pred_list]\n",
      "term_list = [smoker_list, pregnancy_list, birth_control_list, drug_list, heart_failure_list,\n",
      "             hiv_list, allergy_list]\n",
      "pred_dicts = [smoker_pred_dict, pregnancy_pred_dict, birth_control_pred_dict, drug_pred_dict,\n",
      "              heart_failure_pred_dict, hiv_pred_dict, allergy_pred_dict]\n",
      "term_dicts = [smoker_term_dict, pregnancy_term_dict, birth_control_term_dict, drug_term_dict,\n",
      "              heart_failure_term_dict, hiv_term_dict, allergy_term_dict]"
     ],
     "language": "python",
     "metadata": {},
     "outputs": [],
     "prompt_number": 222
    },
    {
     "cell_type": "heading",
     "level": 3,
     "metadata": {},
     "source": [
      "Find new predictors"
     ]
    },
    {
     "cell_type": "code",
     "collapsed": false,
     "input": [
      "def active_learn_predictors(data, term_list, pred_list, pred_dicts):\n",
      "    #look for more predictors for each concept by finding sentnces that have \n",
      "    #concept terms in them and looking for predictors in those sentences \n",
      "\n",
      "    def get_pred(text_dict, term_list, pred_dicts, pred_list):\n",
      "        pred_options_dict = Counter()\n",
      "        for doc in text_dict.values():\n",
      "            for subdoc in doc:\n",
      "                for sent in subdoc:\n",
      "                    #if the sentance has less than 2 words skip it\n",
      "                    if len(sent) <= 1:\n",
      "                        continue\n",
      "                    #crate a sentence rank for judging weight of terms found\n",
      "                    sent_rank = 0\n",
      "                    for term in term_list:\n",
      "                        if term.lower() in ' '.join(zip(*sent)[0]).lower():\n",
      "                            sent_rank += 1\n",
      "                    result = chunker(sent)\n",
      "                    preds = [' '.join(x) for x in [[x[0] for x in term] for term in result]]\n",
      "                    preds.append(' '.join([sent[0][0], sent[1][0]]))\n",
      "                    #lower case all preds\n",
      "                    preds = [x.lower() for x in preds]\n",
      "                    preds = preds * sent_rank\n",
      "                    pred_options_dict.update(preds)\n",
      "\n",
      "        #get top 20 predictors that have not been seen before\n",
      "        sorted_preds = sorted(pred_options_dict.items(), key=lambda x: x[1], reverse=True)\n",
      "        counter = 0\n",
      "        top_preds = []\n",
      "        for pred in sorted_preds:\n",
      "            if pred[0] not in pred_list and pred[0] not in pred_dicts:\n",
      "                top_preds.append(pred)\n",
      "                counter += 1\n",
      "                if counter == 15 or counter == len(sorted_preds):\n",
      "                    return top_preds\n",
      "        #if there are no preds return empty list\n",
      "        return top_preds\n",
      "\n",
      "    #get chunks for preds\n",
      "    def chunker(sent):\n",
      "\n",
      "        chunk_reg1 = r\"\"\"\n",
      "                          CHUNK: {<NN.*><IN>}\n",
      "                     \"\"\"\n",
      "        chunk_reg2 = r\"\"\"\n",
      "                          CHUNK: {<VB.*><DT>}\n",
      "                     \"\"\"\n",
      "        chunk_reg3 = r\"\"\"\n",
      "                          CHUNK: {<NN.*><VB.*>}\n",
      "                     \"\"\"\n",
      "        results = []\n",
      "\n",
      "        for chunk_reg in [chunk_reg1, chunk_reg2, chunk_reg3]:\n",
      "            cp = nltk.RegexpParser(chunk_reg)\n",
      "\n",
      "            tree = cp.parse(sent)\n",
      "            for subtree in tree.subtrees():\n",
      "                if subtree.label() == 'CHUNK':\n",
      "                    results.append(subtree[:])\n",
      "        return results\n",
      "\n",
      "    def human_checker(term, pred_list, top_preds, pred_dict):\n",
      "        '''This function loops through the possible predictors and\n",
      "        lets human input decide if they actually are or not'''\n",
      "        print 'Are the following predictors of these %r?' % (term)\n",
      "        if len(top_preds) > 1:\n",
      "            for pred in top_preds:\n",
      "                print 'Predictor: \\x1b[35m %s \\x1b[0m  Count: \\x1b[36m %d \\x1b[0m' % (pred[0], pred[1])\n",
      "                answer_switch = True\n",
      "                while answer_switch:\n",
      "                    add_pred = raw_input('Is this a predictor of %s? (Y, N, exit): ' % (term[0]))\n",
      "                    if add_pred.lower() == 'y':\n",
      "                        pred_list.append(pred[0])\n",
      "                        answer_switch = False\n",
      "                    elif add_pred.lower() == 'exit':\n",
      "                        #pass switch to exit program\n",
      "                        exit_switch = True\n",
      "                        return pred_list, pred_dict, exit_switch\n",
      "                    elif add_pred.lower() == 'n':\n",
      "                        pred_dict[pred[0]] = ''\n",
      "                        answer_switch = False\n",
      "                    else:\n",
      "                        pass\n",
      "                    \n",
      "        exit_switch = False\n",
      "        return pred_list, pred_dict, exit_switch\n",
      "\n",
      "\n",
      "    for idx, term in enumerate(term_list):\n",
      "        top_preds = get_pred(data, term, pred_dicts[idx], pred_list[idx])\n",
      "        print '\\n**NEW Concept**\\n'\n",
      "        pred_list[idx], pred_dicts[idx], exit_switch = human_checker(term, pred_list[idx], top_preds, pred_dicts[idx])\n",
      "        #save list and dict\n",
      "        #make sure it is not null before saving\n",
      "        if pred_list[idx]:\n",
      "            pickle.dump(pred_list, open('data/predictor_list.pkl', 'wb'))\n",
      "            pickle.dump(pred_dicts, open('data/not_predictor_dict.pkl', 'wb'))\n",
      "        else:\n",
      "            print 'pred list Null'\n",
      "        #if exit, exit program\n",
      "        if exit_switch:\n",
      "            break\n",
      "    print 'Active Learning Complete'\n",
      "    return pred_list, pred_dicts\n"
     ],
     "language": "python",
     "metadata": {},
     "outputs": [],
     "prompt_number": 223
    },
    {
     "cell_type": "heading",
     "level": 3,
     "metadata": {},
     "source": [
      "Find new terms"
     ]
    },
    {
     "cell_type": "code",
     "collapsed": false,
     "input": [
      "def active_learn_terms(data, term_list, pred_list, term_dicts):\n",
      "    #look for more terms for each concept by finding sentnces that have \n",
      "    #predictors in them and looking for terms in those sentences \n",
      "\n",
      "    def get_pred(text_dict, term_list, term_dicts, pred_list):\n",
      "        term_options_dict = Counter()\n",
      "        for doc in text_dict.values():\n",
      "            for subdoc in doc:\n",
      "                for sent in subdoc:\n",
      "                    #skip sentence if it contains less than one word\n",
      "                    if len(sent) <= 1:\n",
      "                            continue\n",
      "                    #crate a sentence rank for judging weight of terms found\n",
      "                    sent_rank = 0\n",
      "                    for pred in pred_list:\n",
      "                        if pred[0].lower() in ' '.join(zip(*sent)[0]).lower():\n",
      "                            sent_rank += pred[1]\n",
      "                    result = chunker(sent)\n",
      "                    terms = [' '.join(x) for x in [[x[0] for x in term] for term in result]]\n",
      "                    terms.append(' '.join([sent[0][0], sent[1][0]]))\n",
      "                    #lower case all preds\n",
      "                    terms = [x.lower() for x in terms]\n",
      "                    #add weights to terms by multiplying by sent_rank\n",
      "                    terms = terms * sent_rank\n",
      "                    term_options_dict.update(terms)\n",
      "\n",
      "        #get top 20 predictors that have not been seen before\n",
      "        sorted_terms = sorted(term_options_dict.items(), key=lambda x: x[1], reverse=True)\n",
      "        counter = 0\n",
      "        top_terms = []\n",
      "        for term in sorted_terms:\n",
      "            if term[0] not in term_list and term[0] not in term_dicts:\n",
      "                top_terms.append(term)\n",
      "                counter += 1\n",
      "                if counter == 15 or counter == len(sorted_terms):\n",
      "                    return top_terms\n",
      "        #if there are no preds return empty list\n",
      "        return top_terms\n",
      "\n",
      "    #get chunks for preds\n",
      "    def chunker(sent):\n",
      "\n",
      "        chunk_reg1 = r\"\"\"\n",
      "                          CHUNK: {(<NN.*><POS>)?<RB>?<JJ.*>*<NN.*>+}\n",
      "                     \"\"\"\n",
      "    #     chunk_reg2 = r\"\"\"\n",
      "    #                       CHUNK: {<VB.*><DT>}\n",
      "    #                  \"\"\"\n",
      "    #     chunk_reg3 = r\"\"\"\n",
      "    #                       CHUNK: {<NN.*><VB.*>}\n",
      "    #                  \"\"\"\n",
      "        results = []\n",
      "\n",
      "        for chunk_reg in [chunk_reg1]:\n",
      "            cp = nltk.RegexpParser(chunk_reg)\n",
      "\n",
      "            tree = cp.parse(sent)\n",
      "            for subtree in tree.subtrees():\n",
      "                if subtree.label() == 'CHUNK':\n",
      "                    results.append(subtree[:])\n",
      "        return results\n",
      "\n",
      "    def human_checker(term_list, top_terms, term_dict):\n",
      "        '''This function loops through the possible terms and\n",
      "        lets human input decide if they actually are or not'''\n",
      "        print 'Are the following terms part of this list: %r?' % (term_list)\n",
      "        if len(top_terms) > 1:\n",
      "            for term in top_terms:\n",
      "                print 'Term: \\x1b[35m %s \\x1b[0m  Count: \\x1b[36m %d \\x1b[0m' % (term[0], (term[1]/7.))\n",
      "                answer_switch = True\n",
      "                while answer_switch:\n",
      "                    add_term = raw_input('Is this similar to %s? (Y, N, exit): ' % (term_list[0]))\n",
      "                    if add_term.lower() == 'y':\n",
      "                        term_list.append(term[0])\n",
      "                        answer_switch = False\n",
      "                    elif add_term.lower() == 'exit':\n",
      "                        #pass switch to exit program\n",
      "                        exit_switch = True\n",
      "                        return term_list, term_dict, exit_switch\n",
      "                    elif add_term.lower() == 'n':\n",
      "                        term_dict[term[0]] = ''\n",
      "                        answer_switch = False\n",
      "                    else:\n",
      "                        pass\n",
      "                    \n",
      "        exit_switch = False\n",
      "        return term_list, term_dict, exit_switch\n",
      "\n",
      "    #making a pred weight list because of scoping problems in iPyhton notebooks\n",
      "    smoker_pred_weight_list = []\n",
      "    pregnancy_pred_weight_list = []\n",
      "    birth_control_pred_weight_list = []\n",
      "    drug_pred_weight_list = []\n",
      "    heart_failure_pred_weight_list = []\n",
      "    hiv_pred_weight_list = []\n",
      "    allergy_pred_weight_list = []\n",
      "    \n",
      "    pred_weight_list = [smoker_pred_weight_list, pregnancy_pred_weight_list,\n",
      "                 birth_control_pred_weight_list, drug_pred_weight_list,\n",
      "                 heart_failure_pred_weight_list, hiv_pred_weight_list, allergy_pred_weight_list]\n",
      "    \n",
      "    #create a combined list of all preds, create Counter dict\n",
      "    tot_pred_list = []\n",
      "    for p in pred_list:\n",
      "        tot_pred_list += p\n",
      "    count_pred = Counter(tot_pred_list)\n",
      "\n",
      "    #add weights to pred terms and create new pred weight lists\n",
      "    for n in xrange(len(pred_list)):\n",
      "        for idx in range(len(pred_list[n])):\n",
      "            weight  = 7 - (count_pred[pred_list[n][idx]]-1)\n",
      "            pred_weight_list[n].append((pred_list[n][idx], weight))\n",
      "\n",
      "\n",
      "\n",
      "\n",
      "    for idx, term in enumerate(term_list):\n",
      "        top_terms = get_pred(data, term, term_dicts[idx], pred_weight_list[idx])\n",
      "        print '\\n**NEW Concept**\\n'\n",
      "        term_list[idx], term_dicts[idx], exit_switch = human_checker(term, top_terms, term_dicts[idx])\n",
      "        #save list and dict\n",
      "        #make sure it is not null before saving\n",
      "        if pred_list[idx]:\n",
      "            pickle.dump(term_list, open('data/term_list.pkl', 'wb'))\n",
      "            pickle.dump(term_dicts, open('data/not_term_dict.pkl', 'wb'))\n",
      "        else:\n",
      "            print 'Term list Null'\n",
      "        #if exit, exit program\n",
      "        if exit_switch:\n",
      "            break\n",
      "    print 'Active Learning Complete'\n",
      "    return term_list, term_dicts"
     ],
     "language": "python",
     "metadata": {},
     "outputs": [],
     "prompt_number": 224
    },
    {
     "cell_type": "code",
     "collapsed": false,
     "input": [
      "#load in past predictor terms\n",
      "pred_list = pickle.dump(open('data/predictor_list.pkl', 'rb'))\n",
      "pred_dicts = pickle.dump(open('data/not_predictor_dict.pkl', 'rb'))\n",
      "#load in past concept terms\n",
      "term_list = pickle.dump(open('data/term_list.pkl', 'rb'))\n",
      "term_dicts = pickle.dump(open('data/not_term_dict.pkl', 'rb'))"
     ],
     "language": "python",
     "metadata": {},
     "outputs": [
      {
       "ename": "TypeError",
       "evalue": "Required argument 'file' (pos 2) not found",
       "output_type": "pyerr",
       "traceback": [
        "\u001b[0;31m---------------------------------------------------------------------------\u001b[0m\n\u001b[0;31mTypeError\u001b[0m                                 Traceback (most recent call last)",
        "\u001b[0;32m<ipython-input-217-11845c0fec6e>\u001b[0m in \u001b[0;36m<module>\u001b[0;34m()\u001b[0m\n\u001b[1;32m      1\u001b[0m \u001b[0;31m#load in past predictor terms\u001b[0m\u001b[0;34m\u001b[0m\u001b[0;34m\u001b[0m\u001b[0m\n\u001b[0;32m----> 2\u001b[0;31m \u001b[0mpred_list\u001b[0m \u001b[0;34m=\u001b[0m \u001b[0mpickle\u001b[0m\u001b[0;34m.\u001b[0m\u001b[0mdump\u001b[0m\u001b[0;34m(\u001b[0m\u001b[0mopen\u001b[0m\u001b[0;34m(\u001b[0m\u001b[0;34m'data/predictor_list.pkl'\u001b[0m\u001b[0;34m,\u001b[0m \u001b[0;34m'wb'\u001b[0m\u001b[0;34m)\u001b[0m\u001b[0;34m)\u001b[0m\u001b[0;34m\u001b[0m\u001b[0m\n\u001b[0m\u001b[1;32m      3\u001b[0m \u001b[0mpred_dicts\u001b[0m \u001b[0;34m=\u001b[0m \u001b[0mpickle\u001b[0m\u001b[0;34m.\u001b[0m\u001b[0mdump\u001b[0m\u001b[0;34m(\u001b[0m\u001b[0mopen\u001b[0m\u001b[0;34m(\u001b[0m\u001b[0;34m'data/not_predictor_dict.pkl'\u001b[0m\u001b[0;34m,\u001b[0m \u001b[0;34m'wb'\u001b[0m\u001b[0;34m)\u001b[0m\u001b[0;34m)\u001b[0m\u001b[0;34m\u001b[0m\u001b[0m\n\u001b[1;32m      4\u001b[0m \u001b[0;31m#load in past concept terms\u001b[0m\u001b[0;34m\u001b[0m\u001b[0;34m\u001b[0m\u001b[0m\n",
        "\u001b[0;31mTypeError\u001b[0m: Required argument 'file' (pos 2) not found"
       ]
      }
     ],
     "prompt_number": 217
    },
    {
     "cell_type": "heading",
     "level": 3,
     "metadata": {},
     "source": [
      "Active Learn Predictor Terms"
     ]
    },
    {
     "cell_type": "code",
     "collapsed": false,
     "input": [
      "pred_list, pred_dicts = active_learn_predictors(data, term_list, pred_list, pred_dicts)"
     ],
     "language": "python",
     "metadata": {},
     "outputs": [
      {
       "output_type": "stream",
       "stream": "stdout",
       "text": [
        "\n",
        "**NEW Concept**\n",
        "\n",
        "Are the following predictors of these ['Non-smoker', 'smoker', 'Current smoker', 'smoking', 'tobacco', 'nicotine', 'cigarettes']?\n",
        "Predictor: \u001b[35m smokers with \u001b[0m  Count: \u001b[36m 8 \u001b[0m\n"
       ]
      },
      {
       "name": "stdout",
       "output_type": "stream",
       "stream": "stdout",
       "text": [
        "Is this a predictor of Non-smoker? (Y, N, exit): y\n"
       ]
      },
      {
       "output_type": "stream",
       "stream": "stdout",
       "text": [
        "Predictor: \u001b[35m current smokers \u001b[0m  Count: \u001b[36m 8 \u001b[0m\n"
       ]
      },
      {
       "name": "stdout",
       "output_type": "stream",
       "stream": "stdout",
       "text": [
        "Is this a predictor of Non-smoker? (Y, N, exit): n\n"
       ]
      },
      {
       "output_type": "stream",
       "stream": "stdout",
       "text": [
        "Predictor: \u001b[35m current use \u001b[0m  Count: \u001b[36m 8 \u001b[0m\n"
       ]
      },
      {
       "name": "stdout",
       "output_type": "stream",
       "stream": "stdout",
       "text": [
        "Is this a predictor of Non-smoker? (Y, N, exit): n\n"
       ]
      },
      {
       "output_type": "stream",
       "stream": "stdout",
       "text": [
        "Predictor: \u001b[35m be a \u001b[0m  Count: \u001b[36m 7 \u001b[0m\n"
       ]
      },
      {
       "name": "stdout",
       "output_type": "stream",
       "stream": "stdout",
       "text": [
        "Is this a predictor of Non-smoker? (Y, N, exit): n\n"
       ]
      },
      {
       "output_type": "stream",
       "stream": "stdout",
       "text": [
        "Predictor: \u001b[35m number of \u001b[0m  Count: \u001b[36m 6 \u001b[0m\n"
       ]
      },
      {
       "name": "stdout",
       "output_type": "stream",
       "stream": "stdout",
       "text": [
        "Is this a predictor of Non-smoker? (Y, N, exit): n\n"
       ]
      },
      {
       "output_type": "stream",
       "stream": "stdout",
       "text": [
        "Predictor: \u001b[35m subjects who \u001b[0m  Count: \u001b[36m 6 \u001b[0m\n"
       ]
      },
      {
       "name": "stdout",
       "output_type": "stream",
       "stream": "stdout",
       "text": [
        "Is this a predictor of Non-smoker? (Y, N, exit): y\n"
       ]
      },
      {
       "output_type": "stream",
       "stream": "stdout",
       "text": [
        "Predictor: \u001b[35m current or \u001b[0m  Count: \u001b[36m 6 \u001b[0m\n"
       ]
      },
      {
       "name": "stdout",
       "output_type": "stream",
       "stream": "stdout",
       "text": [
        "Is this a predictor of Non-smoker? (Y, N, exit): n\n"
       ]
      },
      {
       "output_type": "stream",
       "stream": "stdout",
       "text": [
        "Predictor: \u001b[35m duration of \u001b[0m  Count: \u001b[36m 5 \u001b[0m\n"
       ]
      },
      {
       "name": "stdout",
       "output_type": "stream",
       "stream": "stdout",
       "text": [
        "Is this a predictor of Non-smoker? (Y, N, exit): n\n"
       ]
      },
      {
       "output_type": "stream",
       "stream": "stdout",
       "text": [
        "Predictor: \u001b[35m have a \u001b[0m  Count: \u001b[36m 5 \u001b[0m\n"
       ]
      },
      {
       "name": "stdout",
       "output_type": "stream",
       "stream": "stdout",
       "text": [
        "Is this a predictor of Non-smoker? (Y, N, exit): n\n"
       ]
      },
      {
       "output_type": "stream",
       "stream": "stdout",
       "text": [
        "Predictor: \u001b[35m products with \u001b[0m  Count: \u001b[36m 4 \u001b[0m\n"
       ]
      },
      {
       "name": "stdout",
       "output_type": "stream",
       "stream": "stdout",
       "text": [
        "Is this a predictor of Non-smoker? (Y, N, exit): y\n"
       ]
      },
      {
       "output_type": "stream",
       "stream": "stdout",
       "text": [
        "Predictor: \u001b[35m nicotine containing \u001b[0m  Count: \u001b[36m 4 \u001b[0m\n"
       ]
      },
      {
       "name": "stdout",
       "output_type": "stream",
       "stream": "stdout",
       "text": [
        "Is this a predictor of Non-smoker? (Y, N, exit): y\n"
       ]
      },
      {
       "output_type": "stream",
       "stream": "stdout",
       "text": [
        "Predictor: \u001b[35m non-smokers from \u001b[0m  Count: \u001b[36m 4 \u001b[0m\n"
       ]
      },
      {
       "name": "stdout",
       "output_type": "stream",
       "stream": "stdout",
       "text": [
        "Is this a predictor of Non-smoker? (Y, N, exit): n\n"
       ]
      },
      {
       "output_type": "stream",
       "stream": "stdout",
       "text": [
        "Predictor: \u001b[35m regular smoker \u001b[0m  Count: \u001b[36m 4 \u001b[0m\n"
       ]
      },
      {
       "name": "stdout",
       "output_type": "stream",
       "stream": "stdout",
       "text": [
        "Is this a predictor of Non-smoker? (Y, N, exit): n\n"
       ]
      },
      {
       "output_type": "stream",
       "stream": "stdout",
       "text": [
        "Predictor: \u001b[35m smoker of \u001b[0m  Count: \u001b[36m 4 \u001b[0m\n"
       ]
      },
      {
       "name": "stdout",
       "output_type": "stream",
       "stream": "stdout",
       "text": [
        "Is this a predictor of Non-smoker? (Y, N, exit): y\n"
       ]
      },
      {
       "output_type": "stream",
       "stream": "stdout",
       "text": [
        "Predictor: \u001b[35m forms of \u001b[0m  Count: \u001b[36m 4 \u001b[0m\n"
       ]
      },
      {
       "name": "stdout",
       "output_type": "stream",
       "stream": "stdout",
       "text": [
        "Is this a predictor of Non-smoker? (Y, N, exit): y\n"
       ]
      },
      {
       "output_type": "stream",
       "stream": "stdout",
       "text": [
        "\n",
        "**NEW Concept**\n",
        "\n",
        "Are the following predictors of these ['Pregnancy', u'negative pregnancy test', u'pregnancy', u'child-bearing potential', u'urine pregnancy test', u'negative serum pregnancy test', u'negative serum']?\n",
        "Predictor: \u001b[35m female subjects \u001b[0m  Count: \u001b[36m 25 \u001b[0m\n"
       ]
      },
      {
       "name": "stdout",
       "output_type": "stream",
       "stream": "stdout",
       "text": [
        "Is this a predictor of Pregnancy? (Y, N, exit): y\n"
       ]
      },
      {
       "output_type": "stream",
       "stream": "stdout",
       "text": [
        "Predictor: \u001b[35m had a \u001b[0m  Count: \u001b[36m 21 \u001b[0m\n"
       ]
      },
      {
       "name": "stdout",
       "output_type": "stream",
       "stream": "stdout",
       "text": [
        "Is this a predictor of Pregnancy? (Y, N, exit): n\n"
       ]
      },
      {
       "output_type": "stream",
       "stream": "stdout",
       "text": [
        "Predictor: \u001b[35m methods of \u001b[0m  Count: \u001b[36m 21 \u001b[0m\n"
       ]
      },
      {
       "name": "stdout",
       "output_type": "stream",
       "stream": "stdout",
       "text": [
        "Is this a predictor of Pregnancy? (Y, N, exit): n\n"
       ]
      },
      {
       "output_type": "stream",
       "stream": "stdout",
       "text": [
        "Predictor: \u001b[35m child bearing \u001b[0m  Count: \u001b[36m 20 \u001b[0m\n"
       ]
      },
      {
       "name": "stdout",
       "output_type": "stream",
       "stream": "stdout",
       "text": [
        "Is this a predictor of Pregnancy? (Y, N, exit): y\n"
       ]
      },
      {
       "output_type": "stream",
       "stream": "stdout",
       "text": [
        "Predictor: \u001b[35m must have \u001b[0m  Count: \u001b[36m 17 \u001b[0m\n"
       ]
      },
      {
       "name": "stdout",
       "output_type": "stream",
       "stream": "stdout",
       "text": [
        "Is this a predictor of Pregnancy? (Y, N, exit): n\n"
       ]
      },
      {
       "output_type": "stream",
       "stream": "stdout",
       "text": [
        "Predictor: \u001b[35m subjects of \u001b[0m  Count: \u001b[36m 17 \u001b[0m\n"
       ]
      },
      {
       "name": "stdout",
       "output_type": "stream",
       "stream": "stdout",
       "text": [
        "Is this a predictor of Pregnancy? (Y, N, exit): n\n"
       ]
      },
      {
       "output_type": "stream",
       "stream": "stdout",
       "text": [
        "Predictor: \u001b[35m days of \u001b[0m  Count: \u001b[36m 16 \u001b[0m\n"
       ]
      },
      {
       "name": "stdout",
       "output_type": "stream",
       "stream": "stdout",
       "text": [
        "Is this a predictor of Pregnancy? (Y, N, exit): n\n"
       ]
      },
      {
       "output_type": "stream",
       "stream": "stdout",
       "text": [
        "Predictor: \u001b[35m pregnancy . \u001b[0m  Count: \u001b[36m 16 \u001b[0m\n"
       ]
      },
      {
       "name": "stdout",
       "output_type": "stream",
       "stream": "stdout",
       "text": [
        "Is this a predictor of Pregnancy? (Y, N, exit): n\n"
       ]
      },
      {
       "output_type": "stream",
       "stream": "stdout",
       "text": [
        "Predictor: \u001b[35m woman of \u001b[0m  Count: \u001b[36m 16 \u001b[0m\n"
       ]
      },
      {
       "name": "stdout",
       "output_type": "stream",
       "stream": "stdout",
       "text": [
        "Is this a predictor of Pregnancy? (Y, N, exit): y\n"
       ]
      },
      {
       "output_type": "stream",
       "stream": "stdout",
       "text": [
        "Predictor: \u001b[35m is a \u001b[0m  Count: \u001b[36m 16 \u001b[0m\n"
       ]
      },
      {
       "name": "stdout",
       "output_type": "stream",
       "stream": "stdout",
       "text": [
        "Is this a predictor of Pregnancy? (Y, N, exit): n\n"
       ]
      },
      {
       "output_type": "stream",
       "stream": "stdout",
       "text": [
        "Predictor: \u001b[35m forms of \u001b[0m  Count: \u001b[36m 16 \u001b[0m\n"
       ]
      },
      {
       "name": "stdout",
       "output_type": "stream",
       "stream": "stdout",
       "text": [
        "Is this a predictor of Pregnancy? (Y, N, exit): n\n"
       ]
      },
      {
       "output_type": "stream",
       "stream": "stdout",
       "text": [
        "Predictor: \u001b[35m contraception throughout \u001b[0m  Count: \u001b[36m 15 \u001b[0m\n"
       ]
      },
      {
       "name": "stdout",
       "output_type": "stream",
       "stream": "stdout",
       "text": [
        "Is this a predictor of Pregnancy? (Y, N, exit): n\n"
       ]
      },
      {
       "output_type": "stream",
       "stream": "stdout",
       "text": [
        "Predictor: \u001b[35m years of \u001b[0m  Count: \u001b[36m 14 \u001b[0m\n"
       ]
      },
      {
       "name": "stdout",
       "output_type": "stream",
       "stream": "stdout",
       "text": [
        "Is this a predictor of Pregnancy? (Y, N, exit): n\n"
       ]
      },
      {
       "output_type": "stream",
       "stream": "stdout",
       "text": [
        "Predictor: \u001b[35m patient is \u001b[0m  Count: \u001b[36m 13 \u001b[0m\n"
       ]
      },
      {
       "name": "stdout",
       "output_type": "stream",
       "stream": "stdout",
       "text": [
        "Is this a predictor of Pregnancy? (Y, N, exit): n\n"
       ]
      },
      {
       "output_type": "stream",
       "stream": "stdout",
       "text": [
        "Predictor: \u001b[35m test performed \u001b[0m  Count: \u001b[36m 13 \u001b[0m\n"
       ]
      },
      {
       "name": "stdout",
       "output_type": "stream",
       "stream": "stdout",
       "text": [
        "Is this a predictor of Pregnancy? (Y, N, exit): n\n"
       ]
      },
      {
       "output_type": "stream",
       "stream": "stdout",
       "text": [
        "\n",
        "**NEW Concept**\n",
        "\n",
        "Are the following predictors of these ['Birth control', 'contraception', u'birth control', u'fertile patients', u'effective contraception', u'child-bearing potential', u'abstinence', u'adequate contraception']?\n",
        "Predictor: \u001b[35m fertile patients \u001b[0m  Count: \u001b[36m 18 \u001b[0m\n"
       ]
      },
      {
       "name": "stdout",
       "output_type": "stream",
       "stream": "stdout",
       "text": [
        "Is this a predictor of Birth control? (Y, N, exit): y\n"
       ]
      },
      {
       "output_type": "stream",
       "stream": "stdout",
       "text": [
        "Predictor: \u001b[35m using an \u001b[0m  Count: \u001b[36m 18 \u001b[0m\n"
       ]
      },
      {
       "name": "stdout",
       "output_type": "stream",
       "stream": "stdout",
       "text": [
        "Is this a predictor of Birth control? (Y, N, exit): y\n"
       ]
      },
      {
       "output_type": "stream",
       "stream": "stdout",
       "text": [
        "Predictor: \u001b[35m test at \u001b[0m  Count: \u001b[36m 17 \u001b[0m\n"
       ]
      },
      {
       "name": "stdout",
       "output_type": "stream",
       "stream": "stdout",
       "text": [
        "Is this a predictor of Birth control? (Y, N, exit): n\n"
       ]
      },
      {
       "output_type": "stream",
       "stream": "stdout",
       "text": [
        "Predictor: \u001b[35m subjects of \u001b[0m  Count: \u001b[36m 16 \u001b[0m\n"
       ]
      },
      {
       "name": "stdout",
       "output_type": "stream",
       "stream": "stdout",
       "text": [
        "Is this a predictor of Birth control? (Y, N, exit): n\n"
       ]
      },
      {
       "output_type": "stream",
       "stream": "stdout",
       "text": [
        "Predictor: \u001b[35m control for \u001b[0m  Count: \u001b[36m 16 \u001b[0m\n"
       ]
      },
      {
       "name": "stdout",
       "output_type": "stream",
       "stream": "stdout",
       "text": [
        "Is this a predictor of Birth control? (Y, N, exit): n\n"
       ]
      },
      {
       "output_type": "stream",
       "stream": "stdout",
       "text": [
        "Predictor: \u001b[35m contraception throughout \u001b[0m  Count: \u001b[36m 15 \u001b[0m\n"
       ]
      },
      {
       "name": "stdout",
       "output_type": "stream",
       "stream": "stdout",
       "text": [
        "Is this a predictor of Birth control? (Y, N, exit): n\n"
       ]
      },
      {
       "output_type": "stream",
       "stream": "stdout",
       "text": [
        "Predictor: \u001b[35m had a \u001b[0m  Count: \u001b[36m 14 \u001b[0m\n"
       ]
      },
      {
       "name": "stdout",
       "output_type": "stream",
       "stream": "stdout",
       "text": [
        "Is this a predictor of Birth control? (Y, N, exit): n\n"
       ]
      },
      {
       "output_type": "stream",
       "stream": "stdout",
       "text": [
        "Predictor: \u001b[35m completion of \u001b[0m  Count: \u001b[36m 14 \u001b[0m\n"
       ]
      },
      {
       "name": "stdout",
       "output_type": "stream",
       "stream": "stdout",
       "text": [
        "Is this a predictor of Birth control? (Y, N, exit): n\n"
       ]
      },
      {
       "output_type": "stream",
       "stream": "stdout",
       "text": [
        "Predictor: \u001b[35m control during \u001b[0m  Count: \u001b[36m 13 \u001b[0m\n"
       ]
      },
      {
       "name": "stdout",
       "output_type": "stream",
       "stream": "stdout",
       "text": [
        "Is this a predictor of Birth control? (Y, N, exit): n\n"
       ]
      },
      {
       "output_type": "stream",
       "stream": "stdout",
       "text": [
        "Predictor: \u001b[35m abstinence from \u001b[0m  Count: \u001b[36m 12 \u001b[0m\n"
       ]
      },
      {
       "name": "stdout",
       "output_type": "stream",
       "stream": "stdout",
       "text": [
        "Is this a predictor of Birth control? (Y, N, exit): n\n"
       ]
      },
      {
       "output_type": "stream",
       "stream": "stdout",
       "text": [
        "Predictor: \u001b[35m combination with \u001b[0m  Count: \u001b[36m 12 \u001b[0m\n"
       ]
      },
      {
       "name": "stdout",
       "output_type": "stream",
       "stream": "stdout",
       "text": [
        "Is this a predictor of Birth control? (Y, N, exit): n\n"
       ]
      },
      {
       "output_type": "stream",
       "stream": "stdout",
       "text": [
        "Predictor: \u001b[35m course of \u001b[0m  Count: \u001b[36m 12 \u001b[0m\n"
       ]
      },
      {
       "name": "stdout",
       "output_type": "stream",
       "stream": "stdout",
       "text": [
        "Is this a predictor of Birth control? (Y, N, exit): n\n"
       ]
      },
      {
       "output_type": "stream",
       "stream": "stdout",
       "text": [
        "Predictor: \u001b[35m administration of \u001b[0m  Count: \u001b[36m 11 \u001b[0m\n"
       ]
      },
      {
       "name": "stdout",
       "output_type": "stream",
       "stream": "stdout",
       "text": [
        "Is this a predictor of Birth control? (Y, N, exit): y\n"
       ]
      },
      {
       "output_type": "stream",
       "stream": "stdout",
       "text": [
        "Predictor: \u001b[35m using a \u001b[0m  Count: \u001b[36m 11 \u001b[0m\n"
       ]
      },
      {
       "name": "stdout",
       "output_type": "stream",
       "stream": "stdout",
       "text": [
        "Is this a predictor of Birth control? (Y, N, exit): n\n"
       ]
      },
      {
       "output_type": "stream",
       "stream": "stdout",
       "text": [
        "Predictor: \u001b[35m conjunction with \u001b[0m  Count: \u001b[36m 11 \u001b[0m\n"
       ]
      },
      {
       "name": "stdout",
       "output_type": "stream",
       "stream": "stdout",
       "text": [
        "Is this a predictor of Birth control? (Y, N, exit): n\n"
       ]
      },
      {
       "output_type": "stream",
       "stream": "stdout",
       "text": [
        "\n",
        "**NEW Concept**\n",
        "\n",
        "Are the following predictors of these ['Illicit drugs', 'Alcohol abuse', 'illegal', 'illicit', 'drug abuse', u'alcohol', u'drug', u'substance abuse', u'alcohol abuse', u'drugs']?\n",
        "Predictor: \u001b[35m abuse of \u001b[0m  Count: \u001b[36m 33 \u001b[0m\n"
       ]
      },
      {
       "name": "stdout",
       "output_type": "stream",
       "stream": "stdout",
       "text": [
        "Is this a predictor of Illicit drugs? (Y, N, exit): y\n"
       ]
      },
      {
       "output_type": "stream",
       "stream": "stdout",
       "text": [
        "Predictor: \u001b[35m subjects who \u001b[0m  Count: \u001b[36m 32 \u001b[0m\n"
       ]
      },
      {
       "name": "stdout",
       "output_type": "stream",
       "stream": "stdout",
       "text": [
        "Is this a predictor of Illicit drugs? (Y, N, exit): y\n"
       ]
      },
      {
       "output_type": "stream",
       "stream": "stdout",
       "text": [
        "Predictor: \u001b[35m days of \u001b[0m  Count: \u001b[36m 25 \u001b[0m\n"
       ]
      },
      {
       "name": "stdout",
       "output_type": "stream",
       "stream": "stdout",
       "text": [
        "Is this a predictor of Illicit drugs? (Y, N, exit): n\n"
       ]
      },
      {
       "output_type": "stream",
       "stream": "stdout",
       "text": [
        "Predictor: \u001b[35m drugs known \u001b[0m  Count: \u001b[36m 24 \u001b[0m\n"
       ]
      },
      {
       "name": "stdout",
       "output_type": "stream",
       "stream": "stdout",
       "text": [
        "Is this a predictor of Illicit drugs? (Y, N, exit): y\n"
       ]
      },
      {
       "output_type": "stream",
       "stream": "stdout",
       "text": [
        "Predictor: \u001b[35m receipt of \u001b[0m  Count: \u001b[36m 23 \u001b[0m\n"
       ]
      },
      {
       "name": "stdout",
       "output_type": "stream",
       "stream": "stdout",
       "text": [
        "Is this a predictor of Illicit drugs? (Y, N, exit): n\n"
       ]
      },
      {
       "output_type": "stream",
       "stream": "stdout",
       "text": [
        "Predictor: \u001b[35m presence of \u001b[0m  Count: \u001b[36m 22 \u001b[0m\n"
       ]
      },
      {
       "name": "stdout",
       "output_type": "stream",
       "stream": "stdout",
       "text": [
        "Is this a predictor of Illicit drugs? (Y, N, exit): y\n"
       ]
      },
      {
       "output_type": "stream",
       "stream": "stdout",
       "text": [
        "Predictor: \u001b[35m drinks per \u001b[0m  Count: \u001b[36m 21 \u001b[0m\n"
       ]
      },
      {
       "name": "stdout",
       "output_type": "stream",
       "stream": "stdout",
       "text": [
        "Is this a predictor of Illicit drugs? (Y, N, exit): y\n"
       ]
      },
      {
       "output_type": "stream",
       "stream": "stdout",
       "text": [
        "Predictor: \u001b[35m patients who \u001b[0m  Count: \u001b[36m 19 \u001b[0m\n"
       ]
      },
      {
       "name": "stdout",
       "output_type": "stream",
       "stream": "stdout",
       "text": [
        "Is this a predictor of Illicit drugs? (Y, N, exit): n\n"
       ]
      },
      {
       "output_type": "stream",
       "stream": "stdout",
       "text": [
        "Predictor: \u001b[35m dependence on \u001b[0m  Count: \u001b[36m 19 \u001b[0m\n"
       ]
      },
      {
       "name": "stdout",
       "output_type": "stream",
       "stream": "stdout",
       "text": [
        "Is this a predictor of Illicit drugs? (Y, N, exit): y\n"
       ]
      },
      {
       "output_type": "stream",
       "stream": "stdout",
       "text": [
        "Predictor: \u001b[35m test for \u001b[0m  Count: \u001b[36m 19 \u001b[0m\n"
       ]
      },
      {
       "name": "stdout",
       "output_type": "stream",
       "stream": "stdout",
       "text": [
        "Is this a predictor of Illicit drugs? (Y, N, exit): y\n"
       ]
      },
      {
       "output_type": "stream",
       "stream": "stdout",
       "text": [
        "Predictor: \u001b[35m diagnosis of \u001b[0m  Count: \u001b[36m 19 \u001b[0m\n"
       ]
      },
      {
       "name": "stdout",
       "output_type": "stream",
       "stream": "stdout",
       "text": [
        "Is this a predictor of Illicit drugs? (Y, N, exit): n\n"
       ]
      },
      {
       "output_type": "stream",
       "stream": "stdout",
       "text": [
        "Predictor: \u001b[35m drugs with \u001b[0m  Count: \u001b[36m 18 \u001b[0m\n"
       ]
      },
      {
       "name": "stdout",
       "output_type": "stream",
       "stream": "stdout",
       "text": [
        "Is this a predictor of Illicit drugs? (Y, N, exit): y\n"
       ]
      },
      {
       "output_type": "stream",
       "stream": "stdout",
       "text": [
        "Predictor: \u001b[35m drugs that \u001b[0m  Count: \u001b[36m 16 \u001b[0m\n"
       ]
      },
      {
       "name": "stdout",
       "output_type": "stream",
       "stream": "stdout",
       "text": [
        "Is this a predictor of Illicit drugs? (Y, N, exit): y\n"
       ]
      },
      {
       "output_type": "stream",
       "stream": "stdout",
       "text": [
        "Predictor: \u001b[35m screen for \u001b[0m  Count: \u001b[36m 15 \u001b[0m\n"
       ]
      },
      {
       "name": "stdout",
       "output_type": "stream",
       "stream": "stdout",
       "text": [
        "Is this a predictor of Illicit drugs? (Y, N, exit): n\n"
       ]
      },
      {
       "output_type": "stream",
       "stream": "stdout",
       "text": [
        "Predictor: \u001b[35m current or \u001b[0m  Count: \u001b[36m 15 \u001b[0m\n"
       ]
      },
      {
       "name": "stdout",
       "output_type": "stream",
       "stream": "stdout",
       "text": [
        "Is this a predictor of Illicit drugs? (Y, N, exit): y\n"
       ]
      },
      {
       "output_type": "stream",
       "stream": "stdout",
       "text": [
        "\n",
        "**NEW Concept**\n",
        "\n",
        "Are the following predictors of these ['Congestive Heart Failure', 'heart failure', u'myocardial infarction', u'congestive heart failure', u'symptomatic congestive heart failure', u'cardiovascular disease']?\n",
        "Predictor: \u001b[35m any of \u001b[0m  Count: \u001b[36m 9 \u001b[0m\n"
       ]
      },
      {
       "name": "stdout",
       "output_type": "stream",
       "stream": "stdout",
       "text": [
        "Is this a predictor of Congestive Heart Failure? (Y, N, exit): n\n"
       ]
      },
      {
       "output_type": "stream",
       "stream": "stdout",
       "text": [
        "Predictor: \u001b[35m arrhythmias requiring \u001b[0m  Count: \u001b[36m 8 \u001b[0m\n"
       ]
      },
      {
       "name": "stdout",
       "output_type": "stream",
       "stream": "stdout",
       "text": [
        "Is this a predictor of Congestive Heart Failure? (Y, N, exit): n\n"
       ]
      },
      {
       "output_type": "stream",
       "stream": "stdout",
       "text": [
        "Predictor: \u001b[35m diagnosis of \u001b[0m  Count: \u001b[36m 8 \u001b[0m\n"
       ]
      },
      {
       "name": "stdout",
       "output_type": "stream",
       "stream": "stdout",
       "text": [
        "Is this a predictor of Congestive Heart Failure? (Y, N, exit): y\n"
       ]
      },
      {
       "output_type": "stream",
       "stream": "stdout",
       "text": [
        "Predictor: \u001b[35m failure of \u001b[0m  Count: \u001b[36m 8 \u001b[0m\n"
       ]
      },
      {
       "name": "stdout",
       "output_type": "stream",
       "stream": "stdout",
       "text": [
        "Is this a predictor of Congestive Heart Failure? (Y, N, exit): n\n"
       ]
      },
      {
       "output_type": "stream",
       "stream": "stdout",
       "text": [
        "Predictor: \u001b[35m subject has \u001b[0m  Count: \u001b[36m 7 \u001b[0m\n"
       ]
      },
      {
       "name": "stdout",
       "output_type": "stream",
       "stream": "stdout",
       "text": [
        "Is this a predictor of Congestive Heart Failure? (Y, N, exit): \n"
       ]
      },
      {
       "name": "stdout",
       "output_type": "stream",
       "stream": "stdout",
       "text": [
        "Is this a predictor of Congestive Heart Failure? (Y, N, exit): y\n"
       ]
      },
      {
       "output_type": "stream",
       "stream": "stdout",
       "text": [
        "Predictor: \u001b[35m symptoms of \u001b[0m  Count: \u001b[36m 7 \u001b[0m\n"
       ]
      },
      {
       "name": "stdout",
       "output_type": "stream",
       "stream": "stdout",
       "text": [
        "Is this a predictor of Congestive Heart Failure? (Y, N, exit): y\n"
       ]
      },
      {
       "output_type": "stream",
       "stream": "stdout",
       "text": [
        "Predictor: \u001b[35m cardiac disease \u001b[0m  Count: \u001b[36m 6 \u001b[0m\n"
       ]
      },
      {
       "name": "stdout",
       "output_type": "stream",
       "stream": "stdout",
       "text": [
        "Is this a predictor of Congestive Heart Failure? (Y, N, exit): y\n"
       ]
      },
      {
       "output_type": "stream",
       "stream": "stdout",
       "text": [
        "Predictor: \u001b[35m time of \u001b[0m  Count: \u001b[36m 6 \u001b[0m\n"
       ]
      },
      {
       "name": "stdout",
       "output_type": "stream",
       "stream": "stdout",
       "text": [
        "Is this a predictor of Congestive Heart Failure? (Y, N, exit): n\n"
       ]
      },
      {
       "output_type": "stream",
       "stream": "stdout",
       "text": [
        "Predictor: \u001b[35m uncontrolled congestive \u001b[0m  Count: \u001b[36m 6 \u001b[0m\n"
       ]
      },
      {
       "name": "stdout",
       "output_type": "stream",
       "stream": "stdout",
       "text": [
        "Is this a predictor of Congestive Heart Failure? (Y, N, exit): y\n"
       ]
      },
      {
       "output_type": "stream",
       "stream": "stdout",
       "text": [
        "Predictor: \u001b[35m has symptomatic \u001b[0m  Count: \u001b[36m 5 \u001b[0m\n"
       ]
      },
      {
       "name": "stdout",
       "output_type": "stream",
       "stream": "stdout",
       "text": [
        "Is this a predictor of Congestive Heart Failure? (Y, N, exit): y\n"
       ]
      },
      {
       "output_type": "stream",
       "stream": "stdout",
       "text": [
        "Predictor: \u001b[35m dysrhythmias of \u001b[0m  Count: \u001b[36m 5 \u001b[0m\n"
       ]
      },
      {
       "name": "stdout",
       "output_type": "stream",
       "stream": "stdout",
       "text": [
        "Is this a predictor of Congestive Heart Failure? (Y, N, exit): n\n"
       ]
      },
      {
       "output_type": "stream",
       "stream": "stdout",
       "text": [
        "Predictor: \u001b[35m heart disease \u001b[0m  Count: \u001b[36m 5 \u001b[0m\n"
       ]
      },
      {
       "name": "stdout",
       "output_type": "stream",
       "stream": "stdout",
       "text": [
        "Is this a predictor of Congestive Heart Failure? (Y, N, exit): y\n"
       ]
      },
      {
       "output_type": "stream",
       "stream": "stdout",
       "text": [
        "Predictor: \u001b[35m use of \u001b[0m  Count: \u001b[36m 5 \u001b[0m\n"
       ]
      },
      {
       "name": "stdout",
       "output_type": "stream",
       "stream": "stdout",
       "text": [
        "Is this a predictor of Congestive Heart Failure? (Y, N, exit): n\n"
       ]
      },
      {
       "output_type": "stream",
       "stream": "stdout",
       "text": [
        "Predictor: \u001b[35m severe cardiovascular \u001b[0m  Count: \u001b[36m 5 \u001b[0m\n"
       ]
      },
      {
       "name": "stdout",
       "output_type": "stream",
       "stream": "stdout",
       "text": [
        "Is this a predictor of Congestive Heart Failure? (Y, N, exit): y\n"
       ]
      },
      {
       "output_type": "stream",
       "stream": "stdout",
       "text": [
        "Predictor: \u001b[35m arrhythmia uncontrolled \u001b[0m  Count: \u001b[36m 5 \u001b[0m\n"
       ]
      },
      {
       "name": "stdout",
       "output_type": "stream",
       "stream": "stdout",
       "text": [
        "Is this a predictor of Congestive Heart Failure? (Y, N, exit): n\n"
       ]
      },
      {
       "output_type": "stream",
       "stream": "stdout",
       "text": [
        "\n",
        "**NEW Concept**\n",
        "\n",
        "Are the following predictors of these ['HIV', 'aids', 'human immunodeficiency virus', u'hiv', u'human immunodeficiency', u'known hiv']?\n",
        "Predictor: \u001b[35m hiv infection \u001b[0m  Count: \u001b[36m 22 \u001b[0m\n"
       ]
      },
      {
       "name": "stdout",
       "output_type": "stream",
       "stream": "stdout",
       "text": [
        "Is this a predictor of HIV? (Y, N, exit): n\n"
       ]
      },
      {
       "output_type": "stream",
       "stream": "stdout",
       "text": [
        "Predictor: \u001b[35m serology for \u001b[0m  Count: \u001b[36m 14 \u001b[0m\n"
       ]
      },
      {
       "name": "stdout",
       "output_type": "stream",
       "stream": "stdout",
       "text": [
        "Is this a predictor of HIV? (Y, N, exit): n\n"
       ]
      },
      {
       "output_type": "stream",
       "stream": "stdout",
       "text": [
        "Predictor: \u001b[35m known infection \u001b[0m  Count: \u001b[36m 10 \u001b[0m\n"
       ]
      },
      {
       "name": "stdout",
       "output_type": "stream",
       "stream": "stdout",
       "text": [
        "Is this a predictor of HIV? (Y, N, exit): y\n"
       ]
      },
      {
       "output_type": "stream",
       "stream": "stdout",
       "text": [
        "Predictor: \u001b[35m positive for \u001b[0m  Count: \u001b[36m 10 \u001b[0m\n"
       ]
      },
      {
       "name": "stdout",
       "output_type": "stream",
       "stream": "stdout",
       "text": [
        "Is this a predictor of HIV? (Y, N, exit): y\n"
       ]
      },
      {
       "output_type": "stream",
       "stream": "stdout",
       "text": [
        "Predictor: \u001b[35m known diagnosis \u001b[0m  Count: \u001b[36m 8 \u001b[0m\n"
       ]
      },
      {
       "name": "stdout",
       "output_type": "stream",
       "stream": "stdout",
       "text": [
        "Is this a predictor of HIV? (Y, N, exit): y\n"
       ]
      },
      {
       "output_type": "stream",
       "stream": "stdout",
       "text": [
        "Predictor: \u001b[35m known positive \u001b[0m  Count: \u001b[36m 8 \u001b[0m\n"
       ]
      },
      {
       "name": "stdout",
       "output_type": "stream",
       "stream": "stdout",
       "text": [
        "Is this a predictor of HIV? (Y, N, exit): y\n"
       ]
      },
      {
       "output_type": "stream",
       "stream": "stdout",
       "text": [
        "Predictor: \u001b[35m known history \u001b[0m  Count: \u001b[36m 8 \u001b[0m\n"
       ]
      },
      {
       "name": "stdout",
       "output_type": "stream",
       "stream": "stdout",
       "text": [
        "Is this a predictor of HIV? (Y, N, exit): y\n"
       ]
      },
      {
       "output_type": "stream",
       "stream": "stdout",
       "text": [
        "Predictor: \u001b[35m subjects who \u001b[0m  Count: \u001b[36m 8 \u001b[0m\n"
       ]
      },
      {
       "name": "stdout",
       "output_type": "stream",
       "stream": "stdout",
       "text": [
        "Is this a predictor of HIV? (Y, N, exit): y\n"
       ]
      },
      {
       "output_type": "stream",
       "stream": "stdout",
       "text": [
        "Predictor: \u001b[35m testing is \u001b[0m  Count: \u001b[36m 8 \u001b[0m\n"
       ]
      },
      {
       "name": "stdout",
       "output_type": "stream",
       "stream": "stdout",
       "text": [
        "Is this a predictor of HIV? (Y, N, exit): n\n"
       ]
      },
      {
       "output_type": "stream",
       "stream": "stdout",
       "text": [
        "Predictor: \u001b[35m positive serology \u001b[0m  Count: \u001b[36m 8 \u001b[0m\n"
       ]
      },
      {
       "name": "stdout",
       "output_type": "stream",
       "stream": "stdout",
       "text": [
        "Is this a predictor of HIV? (Y, N, exit): n\n"
       ]
      },
      {
       "output_type": "stream",
       "stream": "stdout",
       "text": [
        "Predictor: \u001b[35m seropositivity for \u001b[0m  Count: \u001b[36m 8 \u001b[0m\n"
       ]
      },
      {
       "name": "stdout",
       "output_type": "stream",
       "stream": "stdout",
       "text": [
        "Is this a predictor of HIV? (Y, N, exit): n\n"
       ]
      },
      {
       "output_type": "stream",
       "stream": "stdout",
       "text": [
        "Predictor: \u001b[35m screen for \u001b[0m  Count: \u001b[36m 6 \u001b[0m\n"
       ]
      },
      {
       "name": "stdout",
       "output_type": "stream",
       "stream": "stdout",
       "text": [
        "Is this a predictor of HIV? (Y, N, exit): n\n"
       ]
      },
      {
       "output_type": "stream",
       "stream": "stdout",
       "text": [
        "Predictor: \u001b[35m the subject \u001b[0m  Count: \u001b[36m 6 \u001b[0m\n"
       ]
      },
      {
       "name": "stdout",
       "output_type": "stream",
       "stream": "stdout",
       "text": [
        "Is this a predictor of HIV? (Y, N, exit): n\n"
       ]
      },
      {
       "output_type": "stream",
       "stream": "stdout",
       "text": [
        "Predictor: \u001b[35m report having \u001b[0m  Count: \u001b[36m 6 \u001b[0m\n"
       ]
      },
      {
       "name": "stdout",
       "output_type": "stream",
       "stream": "stdout",
       "text": [
        "Is this a predictor of HIV? (Y, N, exit): y\n"
       ]
      },
      {
       "output_type": "stream",
       "stream": "stdout",
       "text": [
        "Predictor: \u001b[35m known active \u001b[0m  Count: \u001b[36m 6 \u001b[0m\n"
       ]
      },
      {
       "name": "stdout",
       "output_type": "stream",
       "stream": "stdout",
       "text": [
        "Is this a predictor of HIV? (Y, N, exit): n\n"
       ]
      },
      {
       "output_type": "stream",
       "stream": "stdout",
       "text": [
        "\n",
        "**NEW Concept**\n",
        "\n",
        "Are the following predictors of these ['Allergies', 'allergy', 'hypersensitivity', u'known hypersensitivity', u'known allergy']?\n",
        "Predictor: \u001b[35m intolerance of \u001b[0m  Count: \u001b[36m 8 \u001b[0m\n"
       ]
      },
      {
       "name": "stdout",
       "output_type": "stream",
       "stream": "stdout",
       "text": [
        "Is this a predictor of Allergies? (Y, N, exit): y\n"
       ]
      },
      {
       "output_type": "stream",
       "stream": "stdout",
       "text": [
        "Predictor: \u001b[35m excipients of \u001b[0m  Count: \u001b[36m 8 \u001b[0m\n"
       ]
      },
      {
       "name": "stdout",
       "output_type": "stream",
       "stream": "stdout",
       "text": [
        "Is this a predictor of Allergies? (Y, N, exit): n\n"
       ]
      },
      {
       "output_type": "stream",
       "stream": "stdout",
       "text": [
        "Predictor: \u001b[35m meeting any \u001b[0m  Count: \u001b[36m 6 \u001b[0m\n"
       ]
      },
      {
       "name": "stdout",
       "output_type": "stream",
       "stream": "stdout",
       "text": [
        "Is this a predictor of Allergies? (Y, N, exit): n\n"
       ]
      },
      {
       "output_type": "stream",
       "stream": "stdout",
       "text": [
        "Predictor: \u001b[35m have an \u001b[0m  Count: \u001b[36m 6 \u001b[0m\n"
       ]
      },
      {
       "name": "stdout",
       "output_type": "stream",
       "stream": "stdout",
       "text": [
        "Is this a predictor of Allergies? (Y, N, exit): n\n"
       ]
      },
      {
       "output_type": "stream",
       "stream": "stdout",
       "text": [
        "Predictor: \u001b[35m children with \u001b[0m  Count: \u001b[36m 6 \u001b[0m\n"
       ]
      },
      {
       "name": "stdout",
       "output_type": "stream",
       "stream": "stdout",
       "text": [
        "Is this a predictor of Allergies? (Y, N, exit): y\n"
       ]
      },
      {
       "output_type": "stream",
       "stream": "stdout",
       "text": [
        "Predictor: \u001b[35m requirement for \u001b[0m  Count: \u001b[36m 6 \u001b[0m\n"
       ]
      },
      {
       "name": "stdout",
       "output_type": "stream",
       "stream": "stdout",
       "text": [
        "Is this a predictor of Allergies? (Y, N, exit): n\n"
       ]
      },
      {
       "output_type": "stream",
       "stream": "stdout",
       "text": [
        "Predictor: \u001b[35m known severe \u001b[0m  Count: \u001b[36m 6 \u001b[0m\n"
       ]
      },
      {
       "name": "stdout",
       "output_type": "stream",
       "stream": "stdout",
       "text": [
        "Is this a predictor of Allergies? (Y, N, exit): y\n"
       ]
      },
      {
       "output_type": "stream",
       "stream": "stdout",
       "text": [
        "Predictor: \u001b[35m ingredients of \u001b[0m  Count: \u001b[36m 6 \u001b[0m\n"
       ]
      },
      {
       "name": "stdout",
       "output_type": "stream",
       "stream": "stdout",
       "text": [
        "Is this a predictor of Allergies? (Y, N, exit): n\n"
       ]
      },
      {
       "output_type": "stream",
       "stream": "stdout",
       "text": [
        "Predictor: \u001b[35m patients meeting \u001b[0m  Count: \u001b[36m 6 \u001b[0m\n"
       ]
      },
      {
       "name": "stdout",
       "output_type": "stream",
       "stream": "stdout",
       "text": [
        "Is this a predictor of Allergies? (Y, N, exit): n\n"
       ]
      },
      {
       "output_type": "stream",
       "stream": "stdout",
       "text": [
        "Predictor: \u001b[35m contraindications for \u001b[0m  Count: \u001b[36m 5 \u001b[0m\n"
       ]
      },
      {
       "name": "stdout",
       "output_type": "stream",
       "stream": "stdout",
       "text": [
        "Is this a predictor of Allergies? (Y, N, exit): n\n"
       ]
      },
      {
       "output_type": "stream",
       "stream": "stdout",
       "text": [
        "Predictor: \u001b[35m evidence of \u001b[0m  Count: \u001b[36m 5 \u001b[0m\n"
       ]
      },
      {
       "name": "stdout",
       "output_type": "stream",
       "stream": "stdout",
       "text": [
        "Is this a predictor of Allergies? (Y, N, exit): y\n"
       ]
      },
      {
       "output_type": "stream",
       "stream": "stdout",
       "text": [
        "Predictor: \u001b[35m class of \u001b[0m  Count: \u001b[36m 5 \u001b[0m\n"
       ]
      },
      {
       "name": "stdout",
       "output_type": "stream",
       "stream": "stdout",
       "text": [
        "Is this a predictor of Allergies? (Y, N, exit): n\n"
       ]
      },
      {
       "output_type": "stream",
       "stream": "stdout",
       "text": [
        "Predictor: \u001b[35m ingredients in \u001b[0m  Count: \u001b[36m 4 \u001b[0m\n"
       ]
      },
      {
       "name": "stdout",
       "output_type": "stream",
       "stream": "stdout",
       "text": [
        "Is this a predictor of Allergies? (Y, N, exit): n\n"
       ]
      },
      {
       "output_type": "stream",
       "stream": "stdout",
       "text": [
        "Predictor: \u001b[35m disease expected \u001b[0m  Count: \u001b[36m 4 \u001b[0m\n"
       ]
      },
      {
       "name": "stdout",
       "output_type": "stream",
       "stream": "stdout",
       "text": [
        "Is this a predictor of Allergies? (Y, N, exit): n\n"
       ]
      },
      {
       "output_type": "stream",
       "stream": "stdout",
       "text": [
        "Predictor: \u001b[35m impact on \u001b[0m  Count: \u001b[36m 4 \u001b[0m\n"
       ]
      },
      {
       "name": "stdout",
       "output_type": "stream",
       "stream": "stdout",
       "text": [
        "Is this a predictor of Allergies? (Y, N, exit): n\n"
       ]
      },
      {
       "output_type": "stream",
       "stream": "stdout",
       "text": [
        "Active Learning Complete\n"
       ]
      }
     ],
     "prompt_number": 232
    },
    {
     "cell_type": "heading",
     "level": 3,
     "metadata": {},
     "source": [
      "Active Learn Concept Terms"
     ]
    },
    {
     "cell_type": "code",
     "collapsed": false,
     "input": [
      "term_list, term_dicts = active_learn_terms(data, term_list, pred_list, term_dicts)"
     ],
     "language": "python",
     "metadata": {},
     "outputs": [
      {
       "output_type": "stream",
       "stream": "stdout",
       "text": [
        "\n",
        "**NEW Concept**\n",
        "\n",
        "Are the following terms part of this list: ['Non-smoker', 'smoker', 'Current smoker', 'smoking', 'tobacco', 'nicotine', 'cigarettes']?\n",
        "Term: \u001b[35m subjects who \u001b[0m  Count: \u001b[36m 104 \u001b[0m\n"
       ]
      },
      {
       "name": "stdout",
       "output_type": "stream",
       "stream": "stdout",
       "text": [
        "Is this similar to Non-smoker? (Y, N, exit): n\n"
       ]
      },
      {
       "output_type": "stream",
       "stream": "stdout",
       "text": [
        "Term: \u001b[35m current diagnosis \u001b[0m  Count: \u001b[36m 26 \u001b[0m\n"
       ]
      },
      {
       "name": "stdout",
       "output_type": "stream",
       "stream": "stdout",
       "text": [
        "Is this similar to Non-smoker? (Y, N, exit): n\n"
       ]
      },
      {
       "output_type": "stream",
       "stream": "stdout",
       "text": [
        "Term: \u001b[35m current treatment \u001b[0m  Count: \u001b[36m 24 \u001b[0m\n"
       ]
      },
      {
       "name": "stdout",
       "output_type": "stream",
       "stream": "stdout",
       "text": [
        "Is this similar to Non-smoker? (Y, N, exit): n\n"
       ]
      },
      {
       "output_type": "stream",
       "stream": "stdout",
       "text": [
        "Term: \u001b[35m tobacco products \u001b[0m  Count: \u001b[36m 22 \u001b[0m\n"
       ]
      },
      {
       "name": "stdout",
       "output_type": "stream",
       "stream": "stdout",
       "text": [
        "Is this similar to Non-smoker? (Y, N, exit): y\n"
       ]
      },
      {
       "output_type": "stream",
       "stream": "stdout",
       "text": [
        "Term: \u001b[35m asthma \u001b[0m  Count: \u001b[36m 22 \u001b[0m\n"
       ]
      },
      {
       "name": "stdout",
       "output_type": "stream",
       "stream": "stdout",
       "text": [
        "Is this similar to Non-smoker? (Y, N, exit): n\n"
       ]
      },
      {
       "output_type": "stream",
       "stream": "stdout",
       "text": [
        "Term: \u001b[35m drug \u001b[0m  Count: \u001b[36m 21 \u001b[0m\n"
       ]
      },
      {
       "name": "stdout",
       "output_type": "stream",
       "stream": "stdout",
       "text": [
        "Is this similar to Non-smoker? (Y, N, exit): n\n"
       ]
      },
      {
       "output_type": "stream",
       "stream": "stdout",
       "text": [
        "Term: \u001b[35m medication \u001b[0m  Count: \u001b[36m 19 \u001b[0m\n"
       ]
      },
      {
       "name": "stdout",
       "output_type": "stream",
       "stream": "stdout",
       "text": [
        "Is this similar to Non-smoker? (Y, N, exit): n\n"
       ]
      },
      {
       "output_type": "stream",
       "stream": "stdout",
       "text": [
        "Term: \u001b[35m inclusion criteria \u001b[0m  Count: \u001b[36m 19 \u001b[0m\n"
       ]
      },
      {
       "name": "stdout",
       "output_type": "stream",
       "stream": "stdout",
       "text": [
        "Is this similar to Non-smoker? (Y, N, exit): n\n"
       ]
      },
      {
       "output_type": "stream",
       "stream": "stdout",
       "text": [
        "Term: \u001b[35m hours \u001b[0m  Count: \u001b[36m 18 \u001b[0m\n"
       ]
      },
      {
       "name": "stdout",
       "output_type": "stream",
       "stream": "stdout",
       "text": [
        "Is this similar to Non-smoker? (Y, N, exit): n\n"
       ]
      },
      {
       "output_type": "stream",
       "stream": "stdout",
       "text": [
        "Term: \u001b[35m chemotherapy \u001b[0m  Count: \u001b[36m 17 \u001b[0m\n"
       ]
      },
      {
       "name": "stdout",
       "output_type": "stream",
       "stream": "stdout",
       "text": [
        "Is this similar to Non-smoker? (Y, N, exit): n\n"
       ]
      },
      {
       "output_type": "stream",
       "stream": "stdout",
       "text": [
        "Term: \u001b[35m skin \u001b[0m  Count: \u001b[36m 17 \u001b[0m\n"
       ]
      },
      {
       "name": "stdout",
       "output_type": "stream",
       "stream": "stdout",
       "text": [
        "Is this similar to Non-smoker? (Y, N, exit): n\n"
       ]
      },
      {
       "output_type": "stream",
       "stream": "stdout",
       "text": [
        "Term: \u001b[35m protocol \u001b[0m  Count: \u001b[36m 16 \u001b[0m\n"
       ]
      },
      {
       "name": "stdout",
       "output_type": "stream",
       "stream": "stdout",
       "text": [
        "Is this similar to Non-smoker? (Y, N, exit): n\n"
       ]
      },
      {
       "output_type": "stream",
       "stream": "stdout",
       "text": [
        "Term: \u001b[35m current evidence \u001b[0m  Count: \u001b[36m 16 \u001b[0m\n"
       ]
      },
      {
       "name": "stdout",
       "output_type": "stream",
       "stream": "stdout",
       "text": [
        "Is this similar to Non-smoker? (Y, N, exit): n\n"
       ]
      },
      {
       "output_type": "stream",
       "stream": "stdout",
       "text": [
        "Term: \u001b[35m hypertension \u001b[0m  Count: \u001b[36m 16 \u001b[0m\n"
       ]
      },
      {
       "name": "stdout",
       "output_type": "stream",
       "stream": "stdout",
       "text": [
        "Is this similar to Non-smoker? (Y, N, exit): n\n"
       ]
      },
      {
       "output_type": "stream",
       "stream": "stdout",
       "text": [
        "Term: \u001b[35m have \u001b[0m  Count: \u001b[36m 16 \u001b[0m\n"
       ]
      },
      {
       "name": "stdout",
       "output_type": "stream",
       "stream": "stdout",
       "text": [
        "Is this similar to Non-smoker? (Y, N, exit): n\n"
       ]
      },
      {
       "output_type": "stream",
       "stream": "stdout",
       "text": [
        "\n",
        "**NEW Concept**\n",
        "\n",
        "Are the following terms part of this list: ['Pregnancy', u'negative pregnancy test', u'pregnancy', u'child-bearing potential', u'urine pregnancy test', u'negative serum pregnancy test', u'negative serum']?\n",
        "Term: \u001b[35m female subjects \u001b[0m  Count: \u001b[36m 124 \u001b[0m\n"
       ]
      },
      {
       "name": "stdout",
       "output_type": "stream",
       "stream": "stdout",
       "text": [
        "Is this similar to Pregnancy? (Y, N, exit): n\n"
       ]
      },
      {
       "output_type": "stream",
       "stream": "stdout",
       "text": [
        "Term: \u001b[35m duration \u001b[0m  Count: \u001b[36m 40 \u001b[0m\n"
       ]
      },
      {
       "name": "stdout",
       "output_type": "stream",
       "stream": "stdout",
       "text": [
        "Is this similar to Pregnancy? (Y, N, exit): n\n"
       ]
      },
      {
       "output_type": "stream",
       "stream": "stdout",
       "text": [
        "Term: \u001b[35m negative urine pregnancy test \u001b[0m  Count: \u001b[36m 35 \u001b[0m\n"
       ]
      },
      {
       "name": "stdout",
       "output_type": "stream",
       "stream": "stdout",
       "text": [
        "Is this similar to Pregnancy? (Y, N, exit): y\n"
       ]
      },
      {
       "output_type": "stream",
       "stream": "stdout",
       "text": [
        "Term: \u001b[35m woman \u001b[0m  Count: \u001b[36m 34 \u001b[0m\n"
       ]
      },
      {
       "name": "stdout",
       "output_type": "stream",
       "stream": "stdout",
       "text": [
        "Is this similar to Pregnancy? (Y, N, exit): n\n"
       ]
      },
      {
       "output_type": "stream",
       "stream": "stdout",
       "text": [
        "Term: \u001b[35m barrier method \u001b[0m  Count: \u001b[36m 31 \u001b[0m\n"
       ]
      },
      {
       "name": "stdout",
       "output_type": "stream",
       "stream": "stdout",
       "text": [
        "Is this similar to Pregnancy? (Y, N, exit): n\n"
       ]
      },
      {
       "output_type": "stream",
       "stream": "stdout",
       "text": [
        "Term: \u001b[35m year \u001b[0m  Count: \u001b[36m 30 \u001b[0m\n"
       ]
      },
      {
       "name": "stdout",
       "output_type": "stream",
       "stream": "stdout",
       "text": [
        "Is this similar to Pregnancy? (Y, N, exit): n\n"
       ]
      },
      {
       "output_type": "stream",
       "stream": "stdout",
       "text": [
        "Term: \u001b[35m pregnant women \u001b[0m  Count: \u001b[36m 29 \u001b[0m\n"
       ]
      },
      {
       "name": "stdout",
       "output_type": "stream",
       "stream": "stdout",
       "text": [
        "Is this similar to Pregnancy? (Y, N, exit): y\n"
       ]
      },
      {
       "output_type": "stream",
       "stream": "stdout",
       "text": [
        "Term: \u001b[35m must \u001b[0m  Count: \u001b[36m 29 \u001b[0m\n"
       ]
      },
      {
       "name": "stdout",
       "output_type": "stream",
       "stream": "stdout",
       "text": [
        "Is this similar to Pregnancy? (Y, N, exit): n\n"
       ]
      },
      {
       "output_type": "stream",
       "stream": "stdout",
       "text": [
        "Term: \u001b[35m patients with \u001b[0m  Count: \u001b[36m 26 \u001b[0m\n"
       ]
      },
      {
       "name": "stdout",
       "output_type": "stream",
       "stream": "stdout",
       "text": [
        "Is this similar to Pregnancy? (Y, N, exit): n\n"
       ]
      },
      {
       "output_type": "stream",
       "stream": "stdout",
       "text": [
        "Term: \u001b[35m patients who \u001b[0m  Count: \u001b[36m 26 \u001b[0m\n"
       ]
      },
      {
       "name": "stdout",
       "output_type": "stream",
       "stream": "stdout",
       "text": [
        "Is this similar to Pregnancy? (Y, N, exit): n\n"
       ]
      },
      {
       "output_type": "stream",
       "stream": "stdout",
       "text": [
        "Term: \u001b[35m iud \u001b[0m  Count: \u001b[36m 24 \u001b[0m\n"
       ]
      },
      {
       "name": "stdout",
       "output_type": "stream",
       "stream": "stdout",
       "text": [
        "Is this similar to Pregnancy? (Y, N, exit): n\n"
       ]
      },
      {
       "output_type": "stream",
       "stream": "stdout",
       "text": [
        "Term: \u001b[35m day \u001b[0m  Count: \u001b[36m 24 \u001b[0m\n"
       ]
      },
      {
       "name": "stdout",
       "output_type": "stream",
       "stream": "stdout",
       "text": [
        "Is this similar to Pregnancy? (Y, N, exit): n\n"
       ]
      },
      {
       "output_type": "stream",
       "stream": "stdout",
       "text": [
        "Term: \u001b[35m intrauterine device \u001b[0m  Count: \u001b[36m 24 \u001b[0m\n"
       ]
      },
      {
       "name": "stdout",
       "output_type": "stream",
       "stream": "stdout",
       "text": [
        "Is this similar to Pregnancy? (Y, N, exit): n\n"
       ]
      },
      {
       "output_type": "stream",
       "stream": "stdout",
       "text": [
        "Term: \u001b[35m use \u001b[0m  Count: \u001b[36m 23 \u001b[0m\n"
       ]
      },
      {
       "name": "stdout",
       "output_type": "stream",
       "stream": "stdout",
       "text": [
        "Is this similar to Pregnancy? (Y, N, exit): n\n"
       ]
      },
      {
       "output_type": "stream",
       "stream": "stdout",
       "text": [
        "Term: \u001b[35m week \u001b[0m  Count: \u001b[36m 21 \u001b[0m\n"
       ]
      },
      {
       "name": "stdout",
       "output_type": "stream",
       "stream": "stdout",
       "text": [
        "Is this similar to Pregnancy? (Y, N, exit): n\n"
       ]
      },
      {
       "output_type": "stream",
       "stream": "stdout",
       "text": [
        "\n",
        "**NEW Concept**\n",
        "\n",
        "Are the following terms part of this list: ['Birth control', 'contraception', u'birth control', u'fertile patients', u'effective contraception', u'child-bearing potential', u'abstinence', u'adequate contraception']?\n",
        "Term: \u001b[35m administration \u001b[0m  Count: \u001b[36m 44 \u001b[0m\n"
       ]
      },
      {
       "name": "stdout",
       "output_type": "stream",
       "stream": "stdout",
       "text": [
        "Is this similar to Birth control? (Y, N, exit): n\n"
       ]
      },
      {
       "output_type": "stream",
       "stream": "stdout",
       "text": [
        "Term: \u001b[35m condom \u001b[0m  Count: \u001b[36m 39 \u001b[0m\n"
       ]
      },
      {
       "name": "stdout",
       "output_type": "stream",
       "stream": "stdout",
       "text": [
        "Is this similar to Birth control? (Y, N, exit): y\n"
       ]
      },
      {
       "output_type": "stream",
       "stream": "stdout",
       "text": [
        "Term: \u001b[35m iud \u001b[0m  Count: \u001b[36m 37 \u001b[0m\n"
       ]
      },
      {
       "name": "stdout",
       "output_type": "stream",
       "stream": "stdout",
       "text": [
        "Is this similar to Birth control? (Y, N, exit): y\n"
       ]
      },
      {
       "output_type": "stream",
       "stream": "stdout",
       "text": [
        "Term: \u001b[35m intrauterine device \u001b[0m  Count: \u001b[36m 33 \u001b[0m\n"
       ]
      },
      {
       "name": "stdout",
       "output_type": "stream",
       "stream": "stdout",
       "text": [
        "Is this similar to Birth control? (Y, N, exit): y\n"
       ]
      },
      {
       "output_type": "stream",
       "stream": "stdout",
       "text": [
        "Term: \u001b[35m patient \u001b[0m  Count: \u001b[36m 31 \u001b[0m\n"
       ]
      },
      {
       "name": "stdout",
       "output_type": "stream",
       "stream": "stdout",
       "text": [
        "Is this similar to Birth control? (Y, N, exit): n\n"
       ]
      },
      {
       "output_type": "stream",
       "stream": "stdout",
       "text": [
        "Term: \u001b[35m diaphragm \u001b[0m  Count: \u001b[36m 30 \u001b[0m\n"
       ]
      },
      {
       "name": "stdout",
       "output_type": "stream",
       "stream": "stdout",
       "text": [
        "Is this similar to Birth control? (Y, N, exit): y\n"
       ]
      },
      {
       "output_type": "stream",
       "stream": "stdout",
       "text": [
        "Term: \u001b[35m females of \u001b[0m  Count: \u001b[36m 29 \u001b[0m\n"
       ]
      },
      {
       "name": "stdout",
       "output_type": "stream",
       "stream": "stdout",
       "text": [
        "Is this similar to Birth control? (Y, N, exit): n\n"
       ]
      },
      {
       "output_type": "stream",
       "stream": "stdout",
       "text": [
        "Term: \u001b[35m effective form \u001b[0m  Count: \u001b[36m 28 \u001b[0m\n"
       ]
      },
      {
       "name": "stdout",
       "output_type": "stream",
       "stream": "stdout",
       "text": [
        "Is this similar to Birth control? (Y, N, exit): n\n"
       ]
      },
      {
       "output_type": "stream",
       "stream": "stdout",
       "text": [
        "Term: \u001b[35m hours \u001b[0m  Count: \u001b[36m 28 \u001b[0m\n"
       ]
      },
      {
       "name": "stdout",
       "output_type": "stream",
       "stream": "stdout",
       "text": [
        "Is this similar to Birth control? (Y, N, exit): n\n"
       ]
      },
      {
       "output_type": "stream",
       "stream": "stdout",
       "text": [
        "Term: \u001b[35m week \u001b[0m  Count: \u001b[36m 27 \u001b[0m\n"
       ]
      },
      {
       "name": "stdout",
       "output_type": "stream",
       "stream": "stdout",
       "text": [
        "Is this similar to Birth control? (Y, N, exit): n\n"
       ]
      },
      {
       "output_type": "stream",
       "stream": "stdout",
       "text": [
        "Term: \u001b[35m male patients \u001b[0m  Count: \u001b[36m 27 \u001b[0m\n"
       ]
      },
      {
       "name": "stdout",
       "output_type": "stream",
       "stream": "stdout",
       "text": [
        "Is this similar to Birth control? (Y, N, exit): n\n"
       ]
      },
      {
       "output_type": "stream",
       "stream": "stdout",
       "text": [
        "Term: \u001b[35m oral contraceptives \u001b[0m  Count: \u001b[36m 25 \u001b[0m\n"
       ]
      },
      {
       "name": "stdout",
       "output_type": "stream",
       "stream": "stdout",
       "text": [
        "Is this similar to Birth control? (Y, N, exit): y\n"
       ]
      },
      {
       "output_type": "stream",
       "stream": "stdout",
       "text": [
        "Term: \u001b[35m negative serum pregnancy test \u001b[0m  Count: \u001b[36m 25 \u001b[0m\n"
       ]
      },
      {
       "name": "stdout",
       "output_type": "stream",
       "stream": "stdout",
       "text": [
        "Is this similar to Birth control? (Y, N, exit): n\n"
       ]
      },
      {
       "output_type": "stream",
       "stream": "stdout",
       "text": [
        "Term: \u001b[35m study treatment \u001b[0m  Count: \u001b[36m 25 \u001b[0m\n"
       ]
      },
      {
       "name": "stdout",
       "output_type": "stream",
       "stream": "stdout",
       "text": [
        "Is this similar to Birth control? (Y, N, exit): n\n"
       ]
      },
      {
       "output_type": "stream",
       "stream": "stdout",
       "text": [
        "Term: \u001b[35m dose \u001b[0m  Count: \u001b[36m 23 \u001b[0m\n"
       ]
      },
      {
       "name": "stdout",
       "output_type": "stream",
       "stream": "stdout",
       "text": [
        "Is this similar to Birth control? (Y, N, exit): n\n"
       ]
      },
      {
       "output_type": "stream",
       "stream": "stdout",
       "text": [
        "\n",
        "**NEW Concept**\n",
        "\n",
        "Are the following terms part of this list: ['Illicit drugs', 'Alcohol abuse', 'illegal', 'illicit', 'drug abuse', u'alcohol', u'drug', u'substance abuse', u'alcohol abuse', u'drugs']?\n",
        "Term: \u001b[35m subjects who \u001b[0m  Count: \u001b[36m 130 \u001b[0m\n"
       ]
      },
      {
       "name": "stdout",
       "output_type": "stream",
       "stream": "stdout",
       "text": [
        "Is this similar to Illicit drugs? (Y, N, exit): n\n"
       ]
      },
      {
       "output_type": "stream",
       "stream": "stdout",
       "text": [
        "Term: \u001b[35m presence \u001b[0m  Count: \u001b[36m 127 \u001b[0m\n"
       ]
      },
      {
       "name": "stdout",
       "output_type": "stream",
       "stream": "stdout",
       "text": [
        "Is this similar to Illicit drugs? (Y, N, exit): n\n"
       ]
      },
      {
       "output_type": "stream",
       "stream": "stdout",
       "text": [
        "Term: \u001b[35m dependence \u001b[0m  Count: \u001b[36m 68 \u001b[0m\n"
       ]
      },
      {
       "name": "stdout",
       "output_type": "stream",
       "stream": "stdout",
       "text": [
        "Is this similar to Illicit drugs? (Y, N, exit): n\n"
       ]
      },
      {
       "output_type": "stream",
       "stream": "stdout",
       "text": [
        "Term: \u001b[35m presence of \u001b[0m  Count: \u001b[36m 63 \u001b[0m\n"
       ]
      },
      {
       "name": "stdout",
       "output_type": "stream",
       "stream": "stdout",
       "text": [
        "Is this similar to Illicit drugs? (Y, N, exit): n\n"
       ]
      },
      {
       "output_type": "stream",
       "stream": "stdout",
       "text": [
        "Term: \u001b[35m opinion \u001b[0m  Count: \u001b[36m 47 \u001b[0m\n"
       ]
      },
      {
       "name": "stdout",
       "output_type": "stream",
       "stream": "stdout",
       "text": [
        "Is this similar to Illicit drugs? (Y, N, exit): n\n"
       ]
      },
      {
       "output_type": "stream",
       "stream": "stdout",
       "text": [
        "Term: \u001b[35m current or \u001b[0m  Count: \u001b[36m 39 \u001b[0m\n"
       ]
      },
      {
       "name": "stdout",
       "output_type": "stream",
       "stream": "stdout",
       "text": [
        "Is this similar to Illicit drugs? (Y, N, exit): n\n"
       ]
      },
      {
       "output_type": "stream",
       "stream": "stdout",
       "text": [
        "Term: \u001b[35m medication \u001b[0m  Count: \u001b[36m 38 \u001b[0m\n"
       ]
      },
      {
       "name": "stdout",
       "output_type": "stream",
       "stream": "stdout",
       "text": [
        "Is this similar to Illicit drugs? (Y, N, exit): n\n"
       ]
      },
      {
       "output_type": "stream",
       "stream": "stdout",
       "text": [
        "Term: \u001b[35m females \u001b[0m  Count: \u001b[36m 32 \u001b[0m\n"
       ]
      },
      {
       "name": "stdout",
       "output_type": "stream",
       "stream": "stdout",
       "text": [
        "Is this similar to Illicit drugs? (Y, N, exit): n\n"
       ]
      },
      {
       "output_type": "stream",
       "stream": "stdout",
       "text": [
        "Term: \u001b[35m current evidence \u001b[0m  Count: \u001b[36m 31 \u001b[0m\n"
       ]
      },
      {
       "name": "stdout",
       "output_type": "stream",
       "stream": "stdout",
       "text": [
        "Is this similar to Illicit drugs? (Y, N, exit): n\n"
       ]
      },
      {
       "output_type": "stream",
       "stream": "stdout",
       "text": [
        "Term: \u001b[35m duration \u001b[0m  Count: \u001b[36m 31 \u001b[0m\n"
       ]
      },
      {
       "name": "stdout",
       "output_type": "stream",
       "stream": "stdout",
       "text": [
        "Is this similar to Illicit drugs? (Y, N, exit): n\n"
       ]
      },
      {
       "output_type": "stream",
       "stream": "stdout",
       "text": [
        "Term: \u001b[35m have \u001b[0m  Count: \u001b[36m 31 \u001b[0m\n"
       ]
      },
      {
       "name": "stdout",
       "output_type": "stream",
       "stream": "stdout",
       "text": [
        "Is this similar to Illicit drugs? (Y, N, exit): n\n"
       ]
      },
      {
       "output_type": "stream",
       "stream": "stdout",
       "text": [
        "Term: \u001b[35m month \u001b[0m  Count: \u001b[36m 31 \u001b[0m\n"
       ]
      },
      {
       "name": "stdout",
       "output_type": "stream",
       "stream": "stdout",
       "text": [
        "Is this similar to Illicit drugs? (Y, N, exit): n\n"
       ]
      },
      {
       "output_type": "stream",
       "stream": "stdout",
       "text": [
        "Term: \u001b[35m trial \u001b[0m  Count: \u001b[36m 30 \u001b[0m\n"
       ]
      },
      {
       "name": "stdout",
       "output_type": "stream",
       "stream": "stdout",
       "text": [
        "Is this similar to Illicit drugs? (Y, N, exit): n\n"
       ]
      },
      {
       "output_type": "stream",
       "stream": "stdout",
       "text": [
        "Term: \u001b[35m consent \u001b[0m  Count: \u001b[36m 29 \u001b[0m\n"
       ]
      },
      {
       "name": "stdout",
       "output_type": "stream",
       "stream": "stdout",
       "text": [
        "Is this similar to Illicit drugs? (Y, N, exit): n\n"
       ]
      },
      {
       "output_type": "stream",
       "stream": "stdout",
       "text": [
        "Term: \u001b[35m men \u001b[0m  Count: \u001b[36m 28 \u001b[0m\n"
       ]
      },
      {
       "name": "stdout",
       "output_type": "stream",
       "stream": "stdout",
       "text": [
        "Is this similar to Illicit drugs? (Y, N, exit): n\n"
       ]
      },
      {
       "output_type": "stream",
       "stream": "stdout",
       "text": [
        "\n",
        "**NEW Concept**\n",
        "\n",
        "Are the following terms part of this list: ['Congestive Heart Failure', 'heart failure', u'myocardial infarction', u'congestive heart failure', u'symptomatic congestive heart failure', u'cardiovascular disease']?\n",
        "Term: \u001b[35m diagnosis \u001b[0m  Count: \u001b[36m 170 \u001b[0m\n"
       ]
      },
      {
       "name": "stdout",
       "output_type": "stream",
       "stream": "stdout",
       "text": [
        "Is this similar to Congestive Heart Failure? (Y, N, exit): n\n"
       ]
      },
      {
       "output_type": "stream",
       "stream": "stdout",
       "text": [
        "Term: \u001b[35m subject has \u001b[0m  Count: \u001b[36m 99 \u001b[0m\n"
       ]
      },
      {
       "name": "stdout",
       "output_type": "stream",
       "stream": "stdout",
       "text": [
        "Is this similar to Congestive Heart Failure? (Y, N, exit): n\n"
       ]
      },
      {
       "output_type": "stream",
       "stream": "stdout",
       "text": [
        "Term: \u001b[35m diagnosis of \u001b[0m  Count: \u001b[36m 61 \u001b[0m\n"
       ]
      },
      {
       "name": "stdout",
       "output_type": "stream",
       "stream": "stdout",
       "text": [
        "Is this similar to Congestive Heart Failure? (Y, N, exit): n\n"
       ]
      },
      {
       "output_type": "stream",
       "stream": "stdout",
       "text": [
        "Term: \u001b[35m the subject \u001b[0m  Count: \u001b[36m 51 \u001b[0m\n"
       ]
      },
      {
       "name": "stdout",
       "output_type": "stream",
       "stream": "stdout",
       "text": [
        "Is this similar to Congestive Heart Failure? (Y, N, exit): n\n"
       ]
      },
      {
       "output_type": "stream",
       "stream": "stdout",
       "text": [
        "Term: \u001b[35m symptoms \u001b[0m  Count: \u001b[36m 35 \u001b[0m\n"
       ]
      },
      {
       "name": "stdout",
       "output_type": "stream",
       "stream": "stdout",
       "text": [
        "Is this similar to Congestive Heart Failure? (Y, N, exit): n\n"
       ]
      },
      {
       "output_type": "stream",
       "stream": "stdout",
       "text": [
        "Term: \u001b[35m cancer \u001b[0m  Count: \u001b[36m 27 \u001b[0m\n"
       ]
      },
      {
       "name": "stdout",
       "output_type": "stream",
       "stream": "stdout",
       "text": [
        "Is this similar to Congestive Heart Failure? (Y, N, exit): n\n"
       ]
      },
      {
       "output_type": "stream",
       "stream": "stdout",
       "text": [
        "Term: \u001b[35m clinical diagnosis \u001b[0m  Count: \u001b[36m 27 \u001b[0m\n"
       ]
      },
      {
       "name": "stdout",
       "output_type": "stream",
       "stream": "stdout",
       "text": [
        "Is this similar to Congestive Heart Failure? (Y, N, exit): n\n"
       ]
      },
      {
       "output_type": "stream",
       "stream": "stdout",
       "text": [
        "Term: \u001b[35m study requirements \u001b[0m  Count: \u001b[36m 25 \u001b[0m\n"
       ]
      },
      {
       "name": "stdout",
       "output_type": "stream",
       "stream": "stdout",
       "text": [
        "Is this similar to Congestive Heart Failure? (Y, N, exit): n\n"
       ]
      },
      {
       "output_type": "stream",
       "stream": "stdout",
       "text": [
        "Term: \u001b[35m current diagnosis \u001b[0m  Count: \u001b[36m 24 \u001b[0m\n"
       ]
      },
      {
       "name": "stdout",
       "output_type": "stream",
       "stream": "stdout",
       "text": [
        "Is this similar to Congestive Heart Failure? (Y, N, exit): n\n"
       ]
      },
      {
       "output_type": "stream",
       "stream": "stdout",
       "text": [
        "Term: \u001b[35m have \u001b[0m  Count: \u001b[36m 21 \u001b[0m\n"
       ]
      },
      {
       "name": "stdout",
       "output_type": "stream",
       "stream": "stdout",
       "text": [
        "Is this similar to Congestive Heart Failure? (Y, N, exit): n\n"
       ]
      },
      {
       "output_type": "stream",
       "stream": "stdout",
       "text": [
        "Term: \u001b[35m social situations \u001b[0m  Count: \u001b[36m 21 \u001b[0m\n"
       ]
      },
      {
       "name": "stdout",
       "output_type": "stream",
       "stream": "stdout",
       "text": [
        "Is this similar to Congestive Heart Failure? (Y, N, exit): n\n"
       ]
      },
      {
       "output_type": "stream",
       "stream": "stdout",
       "text": [
        "Term: \u001b[35m heart disease \u001b[0m  Count: \u001b[36m 21 \u001b[0m\n"
       ]
      },
      {
       "name": "stdout",
       "output_type": "stream",
       "stream": "stdout",
       "text": [
        "Is this similar to Congestive Heart Failure? (Y, N, exit): y\n"
       ]
      },
      {
       "output_type": "stream",
       "stream": "stdout",
       "text": [
        "Term: \u001b[35m a diagnosis \u001b[0m  Count: \u001b[36m 20 \u001b[0m\n"
       ]
      },
      {
       "name": "stdout",
       "output_type": "stream",
       "stream": "stdout",
       "text": [
        "Is this similar to Congestive Heart Failure? (Y, N, exit): n\n"
       ]
      },
      {
       "output_type": "stream",
       "stream": "stdout",
       "text": [
        "Term: \u001b[35m cardiac disease \u001b[0m  Count: \u001b[36m 20 \u001b[0m\n"
       ]
      },
      {
       "name": "stdout",
       "output_type": "stream",
       "stream": "stdout",
       "text": [
        "Is this similar to Congestive Heart Failure? (Y, N, exit): y\n"
       ]
      },
      {
       "output_type": "stream",
       "stream": "stdout",
       "text": [
        "Term: \u001b[35m asthma \u001b[0m  Count: \u001b[36m 20 \u001b[0m\n"
       ]
      },
      {
       "name": "stdout",
       "output_type": "stream",
       "stream": "stdout",
       "text": [
        "Is this similar to Congestive Heart Failure? (Y, N, exit): n\n"
       ]
      },
      {
       "output_type": "stream",
       "stream": "stdout",
       "text": [
        "\n",
        "**NEW Concept**\n",
        "\n",
        "Are the following terms part of this list: ['HIV', 'aids', 'human immunodeficiency virus', u'hiv', u'human immunodeficiency', u'known hiv']?\n",
        "Term: \u001b[35m subjects who \u001b[0m  Count: \u001b[36m 95 \u001b[0m\n"
       ]
      },
      {
       "name": "stdout",
       "output_type": "stream",
       "stream": "stdout",
       "text": [
        "Is this similar to HIV? (Y, N, exit): n\n"
       ]
      },
      {
       "output_type": "stream",
       "stream": "stdout",
       "text": [
        "Term: \u001b[35m known history \u001b[0m  Count: \u001b[36m 27 \u001b[0m\n"
       ]
      },
      {
       "name": "stdout",
       "output_type": "stream",
       "stream": "stdout",
       "text": [
        "Is this similar to HIV? (Y, N, exit): n\n"
       ]
      },
      {
       "output_type": "stream",
       "stream": "stdout",
       "text": [
        "Term: \u001b[35m c \u001b[0m  Count: \u001b[36m 26 \u001b[0m\n"
       ]
      },
      {
       "name": "stdout",
       "output_type": "stream",
       "stream": "stdout",
       "text": [
        "Is this similar to HIV? (Y, N, exit): n\n"
       ]
      },
      {
       "output_type": "stream",
       "stream": "stdout",
       "text": [
        "Term: \u001b[35m current diagnosis \u001b[0m  Count: \u001b[36m 23 \u001b[0m\n"
       ]
      },
      {
       "name": "stdout",
       "output_type": "stream",
       "stream": "stdout",
       "text": [
        "Is this similar to HIV? (Y, N, exit): n\n"
       ]
      },
      {
       "output_type": "stream",
       "stream": "stdout",
       "text": [
        "Term: \u001b[35m age \u001b[0m  Count: \u001b[36m 22 \u001b[0m\n"
       ]
      },
      {
       "name": "stdout",
       "output_type": "stream",
       "stream": "stdout",
       "text": [
        "Is this similar to HIV? (Y, N, exit): n\n"
       ]
      },
      {
       "output_type": "stream",
       "stream": "stdout",
       "text": [
        "Term: \u001b[35m cancer \u001b[0m  Count: \u001b[36m 21 \u001b[0m\n"
       ]
      },
      {
       "name": "stdout",
       "output_type": "stream",
       "stream": "stdout",
       "text": [
        "Is this similar to HIV? (Y, N, exit): n\n"
       ]
      },
      {
       "output_type": "stream",
       "stream": "stdout",
       "text": [
        "Term: \u001b[35m a diagnosis \u001b[0m  Count: \u001b[36m 19 \u001b[0m\n"
       ]
      },
      {
       "name": "stdout",
       "output_type": "stream",
       "stream": "stdout",
       "text": [
        "Is this similar to HIV? (Y, N, exit): n\n"
       ]
      },
      {
       "output_type": "stream",
       "stream": "stdout",
       "text": [
        "Term: \u001b[35m known diagnosis \u001b[0m  Count: \u001b[36m 19 \u001b[0m\n"
       ]
      },
      {
       "name": "stdout",
       "output_type": "stream",
       "stream": "stdout",
       "text": [
        "Is this similar to HIV? (Y, N, exit): n\n"
       ]
      },
      {
       "output_type": "stream",
       "stream": "stdout",
       "text": [
        "Term: \u001b[35m subject \u001b[0m  Count: \u001b[36m 19 \u001b[0m\n"
       ]
      },
      {
       "name": "stdout",
       "output_type": "stream",
       "stream": "stdout",
       "text": [
        "Is this similar to HIV? (Y, N, exit): n\n"
       ]
      },
      {
       "output_type": "stream",
       "stream": "stdout",
       "text": [
        "Term: \u001b[35m asthma \u001b[0m  Count: \u001b[36m 18 \u001b[0m\n"
       ]
      },
      {
       "name": "stdout",
       "output_type": "stream",
       "stream": "stdout",
       "text": [
        "Is this similar to HIV? (Y, N, exit): n\n"
       ]
      },
      {
       "output_type": "stream",
       "stream": "stdout",
       "text": [
        "Term: \u001b[35m drug \u001b[0m  Count: \u001b[36m 17 \u001b[0m\n"
       ]
      },
      {
       "name": "stdout",
       "output_type": "stream",
       "stream": "stdout",
       "text": [
        "Is this similar to HIV? (Y, N, exit): n\n"
       ]
      },
      {
       "output_type": "stream",
       "stream": "stdout",
       "text": [
        "Term: \u001b[35m known infection \u001b[0m  Count: \u001b[36m 16 \u001b[0m\n"
       ]
      },
      {
       "name": "stdout",
       "output_type": "stream",
       "stream": "stdout",
       "text": [
        "Is this similar to HIV? (Y, N, exit): n\n"
       ]
      },
      {
       "output_type": "stream",
       "stream": "stdout",
       "text": [
        "Term: \u001b[35m have \u001b[0m  Count: \u001b[36m 15 \u001b[0m\n"
       ]
      },
      {
       "name": "stdout",
       "output_type": "stream",
       "stream": "stdout",
       "text": [
        "Is this similar to HIV? (Y, N, exit): n\n"
       ]
      },
      {
       "output_type": "stream",
       "stream": "stdout",
       "text": [
        "Term: \u001b[35m confirmed diagnosis \u001b[0m  Count: \u001b[36m 14 \u001b[0m\n"
       ]
      },
      {
       "name": "stdout",
       "output_type": "stream",
       "stream": "stdout",
       "text": [
        "Is this similar to HIV? (Y, N, exit): n\n"
       ]
      },
      {
       "output_type": "stream",
       "stream": "stdout",
       "text": [
        "Term: \u001b[35m skin \u001b[0m  Count: \u001b[36m 14 \u001b[0m\n"
       ]
      },
      {
       "name": "stdout",
       "output_type": "stream",
       "stream": "stdout",
       "text": [
        "Is this similar to HIV? (Y, N, exit): n\n"
       ]
      },
      {
       "output_type": "stream",
       "stream": "stdout",
       "text": [
        "\n",
        "**NEW Concept**\n",
        "\n",
        "Are the following terms part of this list: ['Allergies', 'allergy', 'hypersensitivity', u'known hypersensitivity', u'known allergy']?\n",
        "Term: \u001b[35m excipients \u001b[0m  Count: \u001b[36m 51 \u001b[0m\n"
       ]
      },
      {
       "name": "stdout",
       "output_type": "stream",
       "stream": "stdout",
       "text": [
        "Is this similar to Allergies? (Y, N, exit): n\n"
       ]
      },
      {
       "output_type": "stream",
       "stream": "stdout",
       "text": [
        "Term: \u001b[35m cancer \u001b[0m  Count: \u001b[36m 43 \u001b[0m\n"
       ]
      },
      {
       "name": "stdout",
       "output_type": "stream",
       "stream": "stdout",
       "text": [
        "Is this similar to Allergies? (Y, N, exit): n\n"
       ]
      },
      {
       "output_type": "stream",
       "stream": "stdout",
       "text": [
        "Term: \u001b[35m a history \u001b[0m  Count: \u001b[36m 42 \u001b[0m\n"
       ]
      },
      {
       "name": "stdout",
       "output_type": "stream",
       "stream": "stdout",
       "text": [
        "Is this similar to Allergies? (Y, N, exit): n\n"
       ]
      },
      {
       "output_type": "stream",
       "stream": "stdout",
       "text": [
        "Term: \u001b[35m family history \u001b[0m  Count: \u001b[36m 41 \u001b[0m\n"
       ]
      },
      {
       "name": "stdout",
       "output_type": "stream",
       "stream": "stdout",
       "text": [
        "Is this similar to Allergies? (Y, N, exit): n\n"
       ]
      },
      {
       "output_type": "stream",
       "stream": "stdout",
       "text": [
        "Term: \u001b[35m evidence of \u001b[0m  Count: \u001b[36m 41 \u001b[0m\n"
       ]
      },
      {
       "name": "stdout",
       "output_type": "stream",
       "stream": "stdout",
       "text": [
        "Is this similar to Allergies? (Y, N, exit): n\n"
       ]
      },
      {
       "output_type": "stream",
       "stream": "stdout",
       "text": [
        "Term: \u001b[35m has a \u001b[0m  Count: \u001b[36m 39 \u001b[0m\n"
       ]
      },
      {
       "name": "stdout",
       "output_type": "stream",
       "stream": "stdout",
       "text": [
        "Is this similar to Allergies? (Y, N, exit): n\n"
       ]
      },
      {
       "output_type": "stream",
       "stream": "stdout",
       "text": [
        "Term: \u001b[35m history or \u001b[0m  Count: \u001b[36m 38 \u001b[0m\n"
       ]
      },
      {
       "name": "stdout",
       "output_type": "stream",
       "stream": "stdout",
       "text": [
        "Is this similar to Allergies? (Y, N, exit): n\n"
       ]
      },
      {
       "output_type": "stream",
       "stream": "stdout",
       "text": [
        "Term: \u001b[35m physical examination \u001b[0m  Count: \u001b[36m 38 \u001b[0m\n"
       ]
      },
      {
       "name": "stdout",
       "output_type": "stream",
       "stream": "stdout",
       "text": [
        "Is this similar to Allergies? (Y, N, exit): n\n"
       ]
      },
      {
       "output_type": "stream",
       "stream": "stdout",
       "text": [
        "Term: \u001b[35m drug abuse \u001b[0m  Count: \u001b[36m 37 \u001b[0m\n"
       ]
      },
      {
       "name": "stdout",
       "output_type": "stream",
       "stream": "stdout",
       "text": [
        "Is this similar to Allergies? (Y, N, exit): n\n"
       ]
      },
      {
       "output_type": "stream",
       "stream": "stdout",
       "text": [
        "Term: \u001b[35m asthma \u001b[0m  Count: \u001b[36m 37 \u001b[0m\n"
       ]
      },
      {
       "name": "stdout",
       "output_type": "stream",
       "stream": "stdout",
       "text": [
        "Is this similar to Allergies? (Y, N, exit): n\n"
       ]
      },
      {
       "output_type": "stream",
       "stream": "stdout",
       "text": [
        "Term: \u001b[35m diagnosis \u001b[0m  Count: \u001b[36m 36 \u001b[0m\n"
       ]
      },
      {
       "name": "stdout",
       "output_type": "stream",
       "stream": "stdout",
       "text": [
        "Is this similar to Allergies? (Y, N, exit): n\n"
       ]
      },
      {
       "output_type": "stream",
       "stream": "stdout",
       "text": [
        "Term: \u001b[35m component \u001b[0m  Count: \u001b[36m 34 \u001b[0m\n"
       ]
      },
      {
       "name": "stdout",
       "output_type": "stream",
       "stream": "stdout",
       "text": [
        "Is this similar to Allergies? (Y, N, exit): n\n"
       ]
      },
      {
       "output_type": "stream",
       "stream": "stdout",
       "text": [
        "Term: \u001b[35m past history \u001b[0m  Count: \u001b[36m 34 \u001b[0m\n"
       ]
      },
      {
       "name": "stdout",
       "output_type": "stream",
       "stream": "stdout",
       "text": [
        "Is this similar to Allergies? (Y, N, exit): n\n"
       ]
      },
      {
       "output_type": "stream",
       "stream": "stdout",
       "text": [
        "Term: \u001b[35m infection \u001b[0m  Count: \u001b[36m 33 \u001b[0m\n"
       ]
      },
      {
       "name": "stdout",
       "output_type": "stream",
       "stream": "stdout",
       "text": [
        "Is this similar to Allergies? (Y, N, exit): n\n"
       ]
      },
      {
       "output_type": "stream",
       "stream": "stdout",
       "text": [
        "Term: \u001b[35m intolerance \u001b[0m  Count: \u001b[36m 33 \u001b[0m\n"
       ]
      },
      {
       "name": "stdout",
       "output_type": "stream",
       "stream": "stdout",
       "text": [
        "Is this similar to Allergies? (Y, N, exit): n\n"
       ]
      },
      {
       "output_type": "stream",
       "stream": "stdout",
       "text": [
        "Active Learning Complete\n"
       ]
      }
     ],
     "prompt_number": 233
    },
    {
     "cell_type": "code",
     "collapsed": false,
     "input": [
      "term_list"
     ],
     "language": "python",
     "metadata": {},
     "outputs": [
      {
       "metadata": {},
       "output_type": "pyout",
       "prompt_number": 234,
       "text": [
        "[['Non-smoker',\n",
        "  'smoker',\n",
        "  'Current smoker',\n",
        "  'smoking',\n",
        "  'tobacco',\n",
        "  'nicotine',\n",
        "  'cigarettes',\n",
        "  u'tobacco products'],\n",
        " ['Pregnancy',\n",
        "  u'negative pregnancy test',\n",
        "  u'pregnancy',\n",
        "  u'child-bearing potential',\n",
        "  u'urine pregnancy test',\n",
        "  u'negative serum pregnancy test',\n",
        "  u'negative serum',\n",
        "  u'negative urine pregnancy test',\n",
        "  u'pregnant women'],\n",
        " ['Birth control',\n",
        "  'contraception',\n",
        "  u'birth control',\n",
        "  u'fertile patients',\n",
        "  u'effective contraception',\n",
        "  u'child-bearing potential',\n",
        "  u'abstinence',\n",
        "  u'adequate contraception',\n",
        "  u'condom',\n",
        "  u'iud',\n",
        "  u'intrauterine device',\n",
        "  u'diaphragm',\n",
        "  u'oral contraceptives'],\n",
        " ['Illicit drugs',\n",
        "  'Alcohol abuse',\n",
        "  'illegal',\n",
        "  'illicit',\n",
        "  'drug abuse',\n",
        "  u'alcohol',\n",
        "  u'drug',\n",
        "  u'substance abuse',\n",
        "  u'alcohol abuse',\n",
        "  u'drugs'],\n",
        " ['Congestive Heart Failure',\n",
        "  'heart failure',\n",
        "  u'myocardial infarction',\n",
        "  u'congestive heart failure',\n",
        "  u'symptomatic congestive heart failure',\n",
        "  u'cardiovascular disease',\n",
        "  u'heart disease',\n",
        "  u'cardiac disease'],\n",
        " ['HIV',\n",
        "  'aids',\n",
        "  'human immunodeficiency virus',\n",
        "  u'hiv',\n",
        "  u'human immunodeficiency',\n",
        "  u'known hiv'],\n",
        " ['Allergies',\n",
        "  'allergy',\n",
        "  'hypersensitivity',\n",
        "  u'known hypersensitivity',\n",
        "  u'known allergy']]"
       ]
      }
     ],
     "prompt_number": 234
    },
    {
     "cell_type": "heading",
     "level": 1,
     "metadata": {},
     "source": [
      "Change save names for presentation examples"
     ]
    },
    {
     "cell_type": "heading",
     "level": 3,
     "metadata": {},
     "source": [
      "Display Highlighted Criteria"
     ]
    },
    {
     "cell_type": "markdown",
     "metadata": {},
     "source": [
      "Display criteria split by Inclusion and Exclusion\n",
      "\n",
      "Sentences highlighted based with different colors depending on the concept they contain\n",
      "\n",
      "Tag the trials which two set of tags, Inclusion and Exclusion"
     ]
    },
    {
     "cell_type": "code",
     "collapsed": false,
     "input": [
      "#load trail concept lookup dict\n",
      "trial_concept_lookup = pickle.load(open('data/trial_concept_lookup.pkl', 'rb'))"
     ],
     "language": "python",
     "metadata": {},
     "outputs": []
    },
    {
     "cell_type": "code",
     "collapsed": false,
     "input": [
      "def criteria_highlight(data, term_list, term_color_lookup, trial_concept_lookup,\n",
      "                       concept_lookup):\n",
      "    for key, value in data.items():\n",
      "        #print a color key\n",
      "        print 'Color Legend'\n",
      "        for c in xrange(len(term_color_lookup)):\n",
      "            print (term_color_lookup[c] + concept_lookup[c] + '\\x1b[0m \\x1b[0m')\n",
      "        print\n",
      "        print key\n",
      "        if key not in trial_concept_lookup:\n",
      "            trial_concept_lookup[key] = {'inclusion':set(),\n",
      "                                         'exclusion':set()}\n",
      "        for group in value:\n",
      "            doc = [' '.join(word) for word in [[word[0] for word in sent] for sent in group]]\n",
      "            #check each sentence for concept terms\n",
      "            for sent_idx in xrange(len(doc)):\n",
      "                for concept_idx in xrange(len(term_list)):\n",
      "                    for term in term_list[concept_idx]:\n",
      "                        if term.lower() in doc[sent_idx].lower():\n",
      "                            #tag trial with this concept\n",
      "                            #split into inclusion and exclusion sections\n",
      "                            if 'inclusion criteria' in doc[0].lower():\n",
      "                                trial_concept_lookup[key]['inclusion'].add(concept_lookup[concept_idx])\n",
      "                            elif 'exclusion criteria' in doc[0].lower():\n",
      "                                trial_concept_lookup[key]['exclusion'].add(concept_lookup[concept_idx])\n",
      "                            #if the background is being set to black you have to escape twice\n",
      "                            if concept_idx == 6:\n",
      "                                doc[sent_idx] = (term_color_lookup[concept_idx] + doc[sent_idx]\n",
      "                                             + '\\x1b[0m \\x1b[0m')\n",
      "                            else:\n",
      "                                doc[sent_idx] = (term_color_lookup[concept_idx] + doc[sent_idx]\n",
      "                                                 + '\\x1b[0m')\n",
      "                                \n",
      "            #check to print inclusion or exclusion tags\n",
      "            if 'inclusion criteria' in doc[0].lower():\n",
      "                if len(trial_concept_lookup[key]['inclusion']) >= 1:\n",
      "                    print 'Tags: ', list(trial_concept_lookup[key]['inclusion'])\n",
      "                else:\n",
      "                    print 'Tags: None'\n",
      "                print\n",
      "\n",
      "            elif 'exclusion criteria' in doc[0].lower():\n",
      "                if len(trial_concept_lookup[key]['exclusion']) >= 1:\n",
      "                    print 'Tags: ', list(trial_concept_lookup[key]['exclusion'])\n",
      "                else:\n",
      "                    print 'Tags: None'\n",
      "                print\n",
      "\n",
      "            for sent in doc:\n",
      "                print sent\n",
      "            print\n",
      "        #save lookup dict\n",
      "        pickle.dump(trial_concept_lookup, open('data/trial_concept_lookup.pkl', 'wb'))\n",
      "        return trial_concept_lookup"
     ],
     "language": "python",
     "metadata": {},
     "outputs": [],
     "prompt_number": 380
    },
    {
     "cell_type": "code",
     "collapsed": false,
     "input": [
      "term_color_lookup = ['\\x1b[41m', '\\x1b[42m', '\\x1b[43m', '\\x1b[44m', '\\x1b[45m', '\\x1b[46m',\n",
      "                     '\\x1b[40m \\x1b[37m']\n",
      "concept_lookup = ['Smoking', 'Pregnancy', 'Birth Control', 'Illicit drugs',\n",
      "                  'Congestive heart failure', 'HIV', 'Allergies']\n",
      "\n",
      "shuffled_trials = data.items()\n",
      "shuffle(shuffled_trials)\n",
      "\n",
      "for trial in shuffled_trials:\n",
      "    if trial[0] not in trial_concept_lookup:\n",
      "        trial_concept_lookup = criteria_highlight({trial[0]:trial[1]}, term_list,\n",
      "                                          term_color_lookup,\n",
      "                                          trial_concept_lookup, concept_lookup)\n",
      "    break"
     ],
     "language": "python",
     "metadata": {},
     "outputs": [
      {
       "output_type": "stream",
       "stream": "stdout",
       "text": [
        "Color Legend\n",
        "\u001b[41mSmoking\u001b[0m \u001b[0m\n",
        "\u001b[42mPregnancy\u001b[0m \u001b[0m\n",
        "\u001b[43mBirth Control\u001b[0m \u001b[0m\n",
        "\u001b[44mIllicit drugs\u001b[0m \u001b[0m\n",
        "\u001b[45mCongestive heart failure\u001b[0m \u001b[0m\n",
        "\u001b[46mHIV\u001b[0m \u001b[0m\n",
        "\u001b[40m \u001b[37mAllergies\u001b[0m \u001b[0m\n",
        "\n",
        "NCT00351247\n",
        "Tags: None\n",
        "\n",
        "Inclusion Criteria :\n",
        "Patient is 21 years of age and provides informed consent .\n",
        "Evidence of AMI as indicated by signs and symptoms .\n",
        "Diagnosis of ST-segment elevation AMI will be based on chest pain for 30 minutes and ST-segment elevation of 1mV in 2 limb lead or 2mV in 2 anterior leads contiguous leads on the 12-lead ECG .\n",
        "Eligible to undergo primary PCI .\n",
        "Symptom duration is 6 hours prior to primary PCI .\n",
        "Angiographic : The target lesion in the infarct related artery ( IRA ) should be occluded ( TIMI ).\n",
        "Angiographic : The target lesion in the proximal or middle segment of a native major coronary artery ( LAD , RCA or dominant CX ).\n",
        "Angiographic : The target lesion should be suitable for PTCA or stenting .\n",
        "Angiographic : The IRA occlusion will be successfully opened by stenting with TIMI 2-3\n",
        "\n",
        "Tags:  ['Pregnancy', 'Allergies']\n",
        "\n",
        "Exclusion Criteria :\n",
        "Unwillingness to participate .\n",
        "Prior Acute MI\n",
        "Cardiac arrest or Killip score III-IV\n",
        "\u001b[42m\u001b[42mWomen with known pregnancy .\u001b[0m\u001b[0m\n",
        "Active significant bleeding .\n",
        "\u001b[40m \u001b[37m\u001b[40m \u001b[37mKnown allergy for aspirin , ticlopidine and clopidogrel , or heparin .\u001b[0m \u001b[0m\u001b[0m \u001b[0m\n",
        "Chronic renal failure with creatinine 2 mg dl\n",
        "Other medical illness associated with limited life expectancy or that may cause the patient to be non-compliant with the protocol .\n",
        "Current participation in other trials using investigational drugs or devices .\n",
        "Contraindications to MRI including : arrythmias , cardiac pacer , brain aneurysm clips , cochlear implants , nerve stimulator .\n",
        "\n"
       ]
      }
     ],
     "prompt_number": 386
    },
    {
     "cell_type": "code",
     "collapsed": false,
     "input": [
      "pickle.dump(term_list, open('data/term_list.pkl', 'wb'))"
     ],
     "language": "python",
     "metadata": {},
     "outputs": [],
     "prompt_number": 328
    },
    {
     "cell_type": "markdown",
     "metadata": {},
     "source": [
      "Notes: If a sentence had two concepts in then the first concept in the list will be the one that accounts for the highlight color. Both will be added to the tags however.\n",
      "\n",
      "Example: Tags - Birth Control and Pregnacy:\n",
      "\n",
      "Positive pregnancy test in women of child bearing potential or who are unwilling to use an acceptable method of contraception . "
     ]
    },
    {
     "cell_type": "code",
     "collapsed": false,
     "input": [],
     "language": "python",
     "metadata": {},
     "outputs": []
    }
   ],
   "metadata": {}
  }
 ]
}