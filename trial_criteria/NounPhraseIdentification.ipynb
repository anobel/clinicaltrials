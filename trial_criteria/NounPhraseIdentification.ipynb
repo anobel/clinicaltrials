{
 "metadata": {
  "name": "",
  "signature": "sha256:6ed3e9b2b06658b0eaea27c378e49f5463940be9002491fcb27732f2bd432505"
 },
 "nbformat": 3,
 "nbformat_minor": 0,
 "worksheets": [
  {
   "cells": [
    {
     "cell_type": "code",
     "collapsed": false,
     "input": [
      "# basic NLP\n",
      "import nltk, codecs, string, random, math, cPickle as pickle, re, datetime\n",
      "from collections import Counter\n",
      "from string import punctuation\n",
      "\n",
      "# scikit-learn\n",
      "from sklearn.feature_extraction.text import TfidfVectorizer\n",
      "from sklearn.linear_model import LogisticRegression\n",
      "import numpy as np\n",
      "from sklearn.metrics.pairwise import linear_kernel\n",
      "\n",
      "# plotting\n",
      "%matplotlib inline\n",
      "from matplotlib import pyplot as plt\n",
      "\n",
      "from __future__ import division\n",
      "\n",
      "sent_tokenizer=nltk.data.load('tokenizers/punkt/english.pickle')\n",
      "stopset = set(nltk.corpus.stopwords.words('english'))"
     ],
     "language": "python",
     "metadata": {},
     "outputs": [],
     "prompt_number": 1
    },
    {
     "cell_type": "code",
     "collapsed": false,
     "input": [
      "%load_ext sql\n",
      "%sql mysql://\n",
      "%config SqlMagic.feedback = False"
     ],
     "language": "python",
     "metadata": {},
     "outputs": [],
     "prompt_number": 3
    },
    {
     "cell_type": "code",
     "collapsed": false,
     "input": [
      "def chunk_phrases(tagged_text, grammar):\n",
      "    '''\n",
      "    tagged_text: list of list of 3-tuples, returned by our Stanford tagger procedure\n",
      "    grammar: raw text representing regular expression chunks\n",
      "    '''\n",
      "    # set up noun phrase grammar\n",
      "    cp = nltk.RegexpParser(grammar)\n",
      "    \n",
      "    # initialize new list of sentences\n",
      "    new_sents = []\n",
      "    for sent in tagged_text:\n",
      "        # tag punctuation to remove it from chunker patterns\n",
      "        clean_sent = [(w, t if w[0] not in punctuation else 'XX') for w, t, l in sent]\n",
      "        new_sents.append([t if type(t) is tuple else (\" \".join([a for (a,b) in t.leaves()]), t.node) for t in cp.parse(clean_sent)])\n",
      "    \n",
      "    return new_sents"
     ],
     "language": "python",
     "metadata": {},
     "outputs": [],
     "prompt_number": 4
    },
    {
     "cell_type": "code",
     "collapsed": false,
     "input": [
      "def print_sent(chunked):\n",
      "    for sent in chunked:\n",
      "        new_sent = ''\n",
      "        for w, t in sent:\n",
      "            if t[:2] == 'NP':\n",
      "                new_sent += '<<%s>> ' % w.upper()\n",
      "            else:\n",
      "                new_sent += w + ' '\n",
      "        print new_sent\n",
      "        print"
     ],
     "language": "python",
     "metadata": {},
     "outputs": [],
     "prompt_number": 5
    },
    {
     "cell_type": "code",
     "collapsed": false,
     "input": [
      "grammar = r\"\"\"\n",
      "              NP1: {(<NN.*><POS>)?<RB>?(<JJ.*>|<VBN>)*<NN.*>+}\n",
      "              NP2: {(<JJ.*>|<VB.*>)<XX>}\n",
      "           \"\"\""
     ],
     "language": "python",
     "metadata": {},
     "outputs": [],
     "prompt_number": 17
    },
    {
     "cell_type": "code",
     "collapsed": false,
     "input": [
      "condition = 'Sclerosis'\n",
      "tagcrit = %sql select tagged_text from criteria_tagged join criteria_text using (criteria_text_id) join condition_browse using (nct_id) where mesh_term = :condition"
     ],
     "language": "python",
     "metadata": {},
     "outputs": [],
     "prompt_number": 14
    },
    {
     "cell_type": "code",
     "collapsed": false,
     "input": [
      "print_sent(chunk_phrases(eval(tagcrit[4000][0]), grammar))"
     ],
     "language": "python",
     "metadata": {},
     "outputs": [
      {
       "output_type": "stream",
       "stream": "stdout",
       "text": [
        "<<KARNOFSKY PERFORMANCE STATUS>> -LRB- <<PS>> -RRB- 60-100 % -LRB- for <<PATIENTS>> > 16 <<YEARS>> of <<AGE>> -RRB- <<OR LANKSY PS>> 60-100 % -LRB- for <<PATIENTS>> = < 16 <<YEARS>> of <<AGE>> -RRB- \n",
        "\n"
       ]
      }
     ],
     "prompt_number": 18
    },
    {
     "cell_type": "code",
     "collapsed": false,
     "input": [],
     "language": "python",
     "metadata": {},
     "outputs": []
    },
    {
     "cell_type": "code",
     "collapsed": false,
     "input": [],
     "language": "python",
     "metadata": {},
     "outputs": []
    }
   ],
   "metadata": {}
  }
 ]
}