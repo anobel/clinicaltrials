{
 "metadata": {
  "name": "",
  "signature": "sha256:17acf0bb89970e5633b1600220ac137de10e0b358124a829337dc9da511f9f9e"
 },
 "nbformat": 3,
 "nbformat_minor": 0,
 "worksheets": [
  {
   "cells": [
    {
     "cell_type": "code",
     "collapsed": false,
     "input": [
      "from bs4 import BeautifulSoup\n",
      "import httplib, codecs"
     ],
     "language": "python",
     "metadata": {},
     "outputs": [],
     "prompt_number": 1
    },
    {
     "cell_type": "code",
     "collapsed": false,
     "input": [
      "# java -mx300m -cp stanford-postagger-3.5.1.jar edu.stanford.nlp.tagger.maxent.MaxentTaggerServer -model models/english-left3words-distsim.tagger -outputFormat xml -outputFormatOptions lemmatize -port 2020"
     ],
     "language": "python",
     "metadata": {},
     "outputs": [],
     "prompt_number": 2
    },
    {
     "cell_type": "code",
     "collapsed": false,
     "input": [
      "server = httplib.HTTPConnection('127.0.0.1:2020')"
     ],
     "language": "python",
     "metadata": {},
     "outputs": [],
     "prompt_number": 3
    },
    {
     "cell_type": "code",
     "collapsed": false,
     "input": [
      "criteria = codecs.open('../data/stanford_sentence_list.csv','r').readlines()"
     ],
     "language": "python",
     "metadata": {},
     "outputs": [],
     "prompt_number": 4
    },
    {
     "cell_type": "code",
     "collapsed": false,
     "input": [
      "tagged = []"
     ],
     "language": "python",
     "metadata": {},
     "outputs": [],
     "prompt_number": 9
    },
    {
     "cell_type": "code",
     "collapsed": false,
     "input": [
      "for c in criteria[100000:101000]:\n",
      "    # initialize list of sentences\n",
      "    sents = []\n",
      "    \n",
      "    # send text to server\n",
      "    server.request('', c)\n",
      "    res = BeautifulSoup(server.getresponse().read())\n",
      "    \n",
      "    # loop through sentences to generate lists of tagged/lemmatized tuples\n",
      "    for sentence in res.findAll('sentence'):\n",
      "        sent_tag = []\n",
      "        for word in sentence.findAll('word'):\n",
      "            sent_tag.append((word.get_text(), word['pos'], word['lemma']))\n",
      "        sents.append(sent_tag)\n",
      "\n",
      "    # add sentence to tagged list\n",
      "    tagged.append(sents)"
     ],
     "language": "python",
     "metadata": {},
     "outputs": [],
     "prompt_number": 10
    },
    {
     "cell_type": "code",
     "collapsed": false,
     "input": [
      "criteria[100106]"
     ],
     "language": "python",
     "metadata": {},
     "outputs": [
      {
       "metadata": {},
       "output_type": "pyout",
       "prompt_number": 13,
       "text": [
        "'Must be willing to use dual method of contraception (i.e., barrier and spermicide; birth control pills and barrier) during the study.\\n'"
       ]
      }
     ],
     "prompt_number": 13
    },
    {
     "cell_type": "code",
     "collapsed": false,
     "input": [
      "tagged[106]"
     ],
     "language": "python",
     "metadata": {},
     "outputs": [
      {
       "metadata": {},
       "output_type": "pyout",
       "prompt_number": 12,
       "text": [
        "[[(u'Must', u'MD', u'must'),\n",
        "  (u'be', u'VB', u'be'),\n",
        "  (u'willing', u'JJ', u'willing'),\n",
        "  (u'to', u'TO', u'to'),\n",
        "  (u'use', u'VB', u'use'),\n",
        "  (u'dual', u'JJ', u'dual'),\n",
        "  (u'method', u'NN', u'method'),\n",
        "  (u'of', u'IN', u'of'),\n",
        "  (u'contraception', u'NN', u'contraception'),\n",
        "  (u'-LRB-', u'-LRB-', u'-lrb-'),\n",
        "  (u'i.e.', u'FW', u'i.e.'),\n",
        "  (u',', u',', u','),\n",
        "  (u'barrier', u'NN', u'barrier'),\n",
        "  (u'and', u'CC', u'and'),\n",
        "  (u'spermicide', u'NN', u'spermicide'),\n",
        "  (u';', u':', u';'),\n",
        "  (u'birth', u'NN', u'birth'),\n",
        "  (u'control', u'NN', u'control'),\n",
        "  (u'pills', u'NNS', u'pill'),\n",
        "  (u'and', u'CC', u'and'),\n",
        "  (u'barrier', u'NN', u'barrier'),\n",
        "  (u'-RRB-', u'-RRB-', u'-rrb-'),\n",
        "  (u'during', u'IN', u'during'),\n",
        "  (u'the', u'DT', u'the'),\n",
        "  (u'study', u'NN', u'study'),\n",
        "  (u'.', u'.', u'.')]]"
       ]
      }
     ],
     "prompt_number": 12
    },
    {
     "cell_type": "code",
     "collapsed": false,
     "input": [],
     "language": "python",
     "metadata": {},
     "outputs": []
    }
   ],
   "metadata": {}
  }
 ]
}