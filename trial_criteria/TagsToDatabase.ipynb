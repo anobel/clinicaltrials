{
 "metadata": {
  "name": "",
  "signature": "sha256:c6fe601b836f865b9caa69a4c31ccf8ed1a21a9399b4efce9e1f5e6afd14335c"
 },
 "nbformat": 3,
 "nbformat_minor": 0,
 "worksheets": [
  {
   "cells": [
    {
     "cell_type": "code",
     "collapsed": false,
     "input": [
      "import os, codecs, cPickle as pickle, json\n",
      "from collections import Counter"
     ],
     "language": "python",
     "metadata": {},
     "outputs": [],
     "prompt_number": 1
    },
    {
     "cell_type": "markdown",
     "metadata": {},
     "source": [
      "### Load lookup data"
     ]
    },
    {
     "cell_type": "code",
     "collapsed": false,
     "input": [
      "# sentence-to-NCTID lookup\n",
      "sent_lookup = pickle.load(open('../data/sentence_lookup_dict.pkl','rb'))"
     ],
     "language": "python",
     "metadata": {},
     "outputs": [],
     "prompt_number": 2
    },
    {
     "cell_type": "code",
     "collapsed": false,
     "input": [
      "# sentence text\n",
      "trial_criteria = {}\n",
      "for row in codecs.open('../data/clinical_study.txt','r','utf-8').readlines():\n",
      "    data = row.strip().split('|')\n",
      "    trial_criteria[data[0]] = data[26].split('<br />')\n",
      "\n",
      "sent_raw = [s for t in trial_criteria.keys() for s in trial_criteria[t]]\n",
      "del trial_criteria"
     ],
     "language": "python",
     "metadata": {},
     "outputs": [],
     "prompt_number": 3
    },
    {
     "cell_type": "markdown",
     "metadata": {},
     "source": [
      "### Process text and write output"
     ]
    },
    {
     "cell_type": "code",
     "collapsed": false,
     "input": [
      "# output files\n",
      "crit_text = codecs.open('../data/criteria_text.txt','w','utf-8')\n",
      "tag_text = codecs.open('../data/criteria_tagged.txt','w','utf-8')\n",
      "\n",
      "# initialize trial-level variables\n",
      "cur_trial = ''\n",
      "inc_exc = 'U'\n",
      "disp_order = 1\n",
      "total_order = 0\n",
      "\n",
      "for i in range(55):\n",
      "    if i != 46:\n",
      "        all_tagged = pickle.load(open('../data/stanford_tagged/stanford_tagged_criteria_%d.pkl' % (i+1), 'rb'))\n",
      "        \n",
      "        for j in range(len(all_tagged)):\n",
      "            \n",
      "            # reset variables for line-specific info\n",
      "            header = 0\n",
      "\n",
      "            # if new trial ID, reset variables\n",
      "            nct_id = sent_lookup[total_order]\n",
      "            if nct_id != cur_trial:\n",
      "                cur_trial = nct_id\n",
      "                inc_exc = 'U'\n",
      "                disp_order = 1\n",
      "\n",
      "            # determine header information\n",
      "            cur_sent = sent_raw[total_order]\n",
      "            if 'inclusion criteria' in cur_sent.lower():\n",
      "                inc_exc = 'I'\n",
      "                header = 1\n",
      "            elif 'exclusion criteria' in cur_sent.lower():\n",
      "                inc_exc = 'E'\n",
      "                header = 1\n",
      "            if 'may apply' in cur_sent.lower() or len(cur_sent) > 50:\n",
      "                header = 0\n",
      "\n",
      "            crit_text.write('%d\\t%s\\t%s\\t%s\\t%d\\n' % (total_order,\n",
      "                                                      cur_trial,\n",
      "                                                      cur_sent.replace('\\t',' '),\n",
      "                                                      'H' if header else inc_exc,\n",
      "                                                      disp_order))\n",
      "            tag_text.write('%d\\t%s\\n' % (total_order, json.dumps(all_tagged[j], separators=(',',':'))))\n",
      "\n",
      "            # increment\n",
      "            disp_order += 1\n",
      "            total_order += 1\n",
      "\n",
      "crit_text.close()\n",
      "tag_text.close()"
     ],
     "language": "python",
     "metadata": {},
     "outputs": [],
     "prompt_number": 6
    },
    {
     "cell_type": "code",
     "collapsed": false,
     "input": [],
     "language": "python",
     "metadata": {},
     "outputs": []
    }
   ],
   "metadata": {}
  }
 ]
}