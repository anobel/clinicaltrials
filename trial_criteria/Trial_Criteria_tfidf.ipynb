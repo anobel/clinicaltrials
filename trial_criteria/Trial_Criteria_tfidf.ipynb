{
 "metadata": {
  "name": "",
  "signature": "sha256:8b6b51e46d21af202e1152200314ebb5cc4fe5fdb2465f5e19dd9e39e4e26a2b"
 },
 "nbformat": 3,
 "nbformat_minor": 0,
 "worksheets": [
  {
   "cells": [
    {
     "cell_type": "code",
     "collapsed": false,
     "input": [
      "# basic NLP\n",
      "import nltk, codecs, string, random, HTMLParser, math\n",
      "from collections import Counter\n",
      "from nltk.corpus import brown, wordnet as wn\n",
      "import cPickle as pickle\n",
      "\n",
      "# scikit-learn\n",
      "from sklearn.feature_extraction.text import TfidfVectorizer, CountVectorizer, TfidfTransformer\n",
      "from sklearn.linear_model import SGDClassifier\n",
      "from sklearn.svm import SVC\n",
      "from sklearn.pipeline import Pipeline\n",
      "from sklearn.feature_selection import RFE\n",
      "import scipy.sparse as sps\n",
      "import numpy as np\n",
      "from sklearn.metrics.pairwise import linear_kernel\n",
      "\n",
      "from __future__ import division\n",
      "\n",
      "# creating functions\n",
      "h= HTMLParser.HTMLParser()\n",
      "sent_tokenizer=nltk.data.load('tokenizers/punkt/english.pickle')\n",
      "stopset = set(nltk.corpus.stopwords.words('english'))"
     ],
     "language": "python",
     "metadata": {},
     "outputs": [],
     "prompt_number": 1
    },
    {
     "cell_type": "heading",
     "level": 3,
     "metadata": {},
     "source": [
      "Load Data"
     ]
    },
    {
     "cell_type": "code",
     "collapsed": false,
     "input": [
      "trial_criteria = {}\n",
      "predefined_criteria = {}\n",
      "for row in codecs.open('data/clinical_study.txt','r','utf-8').readlines():\n",
      "    data = row.split('|')\n",
      "    trial_criteria[data[0]] = data[26]\n",
      "    # 27 = gender, 28 = min age, 29 = max age, 30 = Health volunteers\n",
      "    predefined_criteria[data[0]] = (data[27], data[28], data[29], data[30])"
     ],
     "language": "python",
     "metadata": {},
     "outputs": [],
     "prompt_number": 5
    },
    {
     "cell_type": "code",
     "collapsed": false,
     "input": [
      "def split_doc_on_exclusion(doc):\n",
      "    '''This function splits the criteria documents into the Inclusion \n",
      "    and Exclusion sections'''\n",
      "    for idx, word in enumerate(doc.split()):\n",
      "        if word == u'Exclusion' and doc.split()[idx + 1] == u'Criteria:':\n",
      "            print ' '.join(doc.split()[:idx])\n",
      "            print\n",
      "            print ' '.join(doc.split()[idx:])\n",
      "            \n",
      "test_criteria = trial_criteria.items()[0][1]\n",
      "split_doc_on_exclusion(test_criteria)"
     ],
     "language": "python",
     "metadata": {},
     "outputs": [
      {
       "output_type": "stream",
       "stream": "stdout",
       "text": [
        "Inclusion Criteria: - Healthy adult males of age 35 to 65 years, inclusive, or healthy ambulatory postmenopausal women defined as being amenorrheic for at least 2 years and 40 to 65 years of age, inclusive, at screening with FSH levels consistent with menopause. Healthy postmenopausal women, who are between ages 40 to 50 years, inclusive, must also have a documented history of bilateral oophorectomy (with or without hysterectomy) and be at least 6 weeks post-surgery.) - Non-smokers - Body weight > or = 50 kg and BMI within the range 19 - 32 kg/m2 - A history of regular bowel movements - Capable of giving written informed consent\n",
        "\n",
        "Exclusion Criteria: - Any clinically relevant biological or physical abnormality found or reported at screening which, in the opinion of the investigator, is clinically significant and would preclude safe participation in this study - QTc interval of > 450 msec at screening - Positive urine drug screen at screening - Positive urine test for alcohol at pre-dose - Positive for HIV at screening - Chronic hepatitis B and C, as evidenced by positive Hepatitis B surface antigen or Hepatitis C antibody - Urinary cotinine levels indicative of smoking at screening - History of smoking or use of nicotine containing products within one year of the study or >10 pack-year history of smoking overall - History of regular alcohol consumption exceeding 7 units/week for women and 14 units/week for men within 6 months of screening - History of drug abuse within 6 months of the study - Participation in a clinical study and received a drug or a new chemical entity with 30 days or 5 half-lives, or twice the duration of the biological effect of any drug prior to the first dose of the current study medication - Exposure to more than four new chemical entities within 12 months prior to the first dosing day - Subjects who have received a total body radiation dose of greater than 5.0 mSv or exposure to significant radiation in the 12 months prior to this study - Radiation exposure from the previous 3 year period is over 10 mSv for subjects who have been exposed to ionizing radiation above background as a result of their work with radiation as category A workers or as a result of research studies they may have been involved in. Clinical exposure will not be included - Condition that could interfere with the accurate assessment and recovery of radiocarbon [14C] - Use of prescription or nonprescription drugs including antacids, including vitamins, herbal and dietary supplements within 7 days prior to the first dose of study medication. - Consumption of red wine, grapefruit, grapefruit juice or grapefruit-containing products within 14 days prior to the first dose of study medication - Donation of blood in excess of 500 mL within 56 days prior to dosing. - Evidence of renal, hepatic or biliary impairment - History of serious gastrointestinal disease or history of a gastrointestinal surgical procedure that might affect the absorption of SB-751689 - History of sensitivity to any of the study medications, or components thereof or a history of drug or other allergy that, in the opinion of the physician responsible, contraindicates their participation - History of clinically significant cardiovascular disease - History of pernicious anemia, pancreatitis, osteosarcoma or kidney stones. - Conditions that might alter bone metabolism, including hyperparathyroidism, hypoparathyroidism, hyperthyroidism, hypothyroidism, Paget's disease, myeloma, malabsorption, or Cushing's syndrome, and hypogonadism (for male subjects), hypocalcemia, hypercalcemia, hypophosphatemia, hypomagnesemia, hypermagnesemia, osteopetrosis, osteomalacia, and recent history of fracture or prolonged bed rest - Liver function tests, PTH, or CPK outside the reference range at screening - Males unwilling to refrain from fathering a child during the study and for 14 days after\n"
       ]
      }
     ],
     "prompt_number": 20
    },
    {
     "cell_type": "code",
     "collapsed": false,
     "input": [
      "#save to pickle\n",
      "pickle.dump(predefined_criteria, open('data/predefined_criteria.pkl', 'wb'))\n",
      "pickle.dump(trial_criteria, open('data/trial_criteria.pkl', 'wb'))"
     ],
     "language": "python",
     "metadata": {},
     "outputs": [],
     "prompt_number": 11
    },
    {
     "cell_type": "heading",
     "level": 3,
     "metadata": {},
     "source": [
      "Load Data From Pickle"
     ]
    },
    {
     "cell_type": "code",
     "collapsed": false,
     "input": [
      "trial_criteria = pickle.load(open('data/trial_criteria.pkl', 'rb'))"
     ],
     "language": "python",
     "metadata": {},
     "outputs": [],
     "prompt_number": 2
    },
    {
     "cell_type": "markdown",
     "metadata": {},
     "source": [
      "Create interactive information extraction system\n",
      "\n",
      "list of sysnonyms, predictors, and throw out as options\n",
      "\n",
      "pull unigram, bigrams, trigams (exclude those that only have stop words and punctuation)\n",
      "\n",
      "need to get sentences, tokens, pos tag\n",
      "\n",
      "keep inclusion vs exclusion distinction"
     ]
    },
    {
     "cell_type": "heading",
     "level": 3,
     "metadata": {},
     "source": [
      "Initial Concept Term Lists"
     ]
    },
    {
     "cell_type": "code",
     "collapsed": false,
     "input": [
      "smoker_list = ['Non-smoker', 'smoker', 'Current smoker', 'smoking', 'tobacco', 'nicotine',\n",
      "               'cigarettes']\n",
      "pregnancy_list = ['Pregnancy']\n",
      "birth_control_list = ['Birth control', 'contraception']\n",
      "drug_list = ['Illicit drugs', 'Alcohol abuse', 'illegal', 'illicit', 'drug abuse']\n",
      "heart_failure_list = ['Congestive Heart Failure', 'heart failure']\n",
      "hiv_list = ['HIV', 'aids', 'human immunodeficiency virus']\n",
      "allergy_list = ['Allergies', 'allergy', 'hypersensitivity']"
     ],
     "language": "python",
     "metadata": {},
     "outputs": [],
     "prompt_number": 3
    },
    {
     "cell_type": "heading",
     "level": 3,
     "metadata": {},
     "source": [
      "Inital Predictive Terms"
     ]
    },
    {
     "cell_type": "code",
     "collapsed": false,
     "input": [
      "smoker_pred_list = ['current']\n",
      "pregnancy_pred_list = ['potential', 'negative']\n",
      "birth_control_pred_list = ['effective', 'Fertile patients', 'must use effective',\n",
      "                           'must use', 'use effective', 'Fertile patients must use',\n",
      "                           'fertile']\n",
      "drug_pred_list = ['use', 'abuse']\n",
      "heart_failure_pred_list = []\n",
      "hiv_pred_list = []\n",
      "allergy_pred_list = ['known', 'history', 'suspected', 'known suspected',\n",
      "                     'clinically significant']"
     ],
     "language": "python",
     "metadata": {},
     "outputs": []
    }
   ],
   "metadata": {}
  }
 ]
}