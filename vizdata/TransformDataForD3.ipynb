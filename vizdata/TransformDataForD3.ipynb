{
 "metadata": {
  "name": "",
  "signature": "sha256:de925f7c3fbd38c3ff9cd10b1769d331d0f330f9592ea092794b50a90e760ba0"
 },
 "nbformat": 3,
 "nbformat_minor": 0,
 "worksheets": [
  {
   "cells": [
    {
     "cell_type": "markdown",
     "metadata": {},
     "source": [
      "#### Load necessary packages and extensions"
     ]
    },
    {
     "cell_type": "code",
     "collapsed": false,
     "input": [
      "%load_ext sql\n",
      "import pandas as pd\n",
      "import json\n",
      "from __future__ import division"
     ],
     "language": "python",
     "metadata": {},
     "outputs": [],
     "prompt_number": 1
    },
    {
     "cell_type": "markdown",
     "metadata": {},
     "source": [
      "#### Get data from database"
     ]
    },
    {
     "cell_type": "code",
     "collapsed": false,
     "input": [
      "# sql connection parameters come from connect.py\n",
      "have_connect = !ls connect.py 2>/dev/null\n",
      "if len(have_connect) == 0:\n",
      "    !mv ../connect.py .\n",
      "from connect import *\n",
      "\n",
      "get_ipython().magic('sql mysql://' + mysqlusername + ':' + mysqlpassword + '@' + mysqlserver + ':3306/' + mysqldbname)\n",
      "mesh_thesaurus = %sql select mesh_seqid, mesh_id, mesh_term from mesh_thesaurus\n",
      "condition_browse = %sql select nct_id, mesh_term from condition_browse \n",
      "interventions = %sql select distinct nct_id, intervention_type from interventions\n",
      "sponsors = %sql select nct_id, agency_class, any_industry from sponsors_mod\n",
      "locations = %sql select distinct nct_id, continent from location_countries join country_continent using (country)\n",
      "clinical_study = %sql select nct_id, overall_status, left(phase, 7) phase, enrollment, \\\n",
      "                        case when start_date != '' then year(start_date_dt) \\\n",
      "                             when completion_date != '' then year(completion_date_dt) \\\n",
      "                             else year(verification_date_dt) end study_year \\\n",
      "                      from clinical_study \\\n",
      "                      where study_type = 'Interventional'"
     ],
     "language": "python",
     "metadata": {},
     "outputs": [
      {
       "output_type": "stream",
       "stream": "stdout",
       "text": [
        "54935 rows affected.\n",
        "309589 rows affected."
       ]
      },
      {
       "output_type": "stream",
       "stream": "stdout",
       "text": [
        "\n",
        "153419 rows affected."
       ]
      },
      {
       "output_type": "stream",
       "stream": "stdout",
       "text": [
        "\n",
        "152611 rows affected."
       ]
      },
      {
       "output_type": "stream",
       "stream": "stdout",
       "text": [
        "\n",
        "158525 rows affected."
       ]
      },
      {
       "output_type": "stream",
       "stream": "stdout",
       "text": [
        "\n",
        "123600 rows affected."
       ]
      },
      {
       "output_type": "stream",
       "stream": "stdout",
       "text": [
        "\n"
       ]
      }
     ],
     "prompt_number": 2
    },
    {
     "cell_type": "markdown",
     "metadata": {},
     "source": [
      "#### Transform data into JSON objects for use by JavaScript code"
     ]
    },
    {
     "cell_type": "code",
     "collapsed": false,
     "input": [
      "mesh_lookup = {}\n",
      "mesh_ids = {}\n",
      "for mesh_seqid, mesh_id, mesh_term in mesh_thesaurus:\n",
      "    mesh_lookup[mesh_seqid] = {'id': mesh_id, 'term': mesh_term}\n",
      "    if mesh_term not in mesh_ids: mesh_ids[mesh_term] = set()\n",
      "    mesh_ids[mesh_term].add(mesh_seqid)"
     ],
     "language": "python",
     "metadata": {},
     "outputs": [],
     "prompt_number": 3
    },
    {
     "cell_type": "code",
     "collapsed": false,
     "input": [
      "study_conditions = {}\n",
      "distinct_conditions = set()\n",
      "for nct_id, mesh_term in condition_browse:\n",
      "    if nct_id not in study_conditions: study_conditions[nct_id] = set()\n",
      "    for t in mesh_ids[mesh_term]:\n",
      "        study_conditions[nct_id].add(t)\n",
      "        if t not in distinct_conditions: distinct_conditions.add(t)"
     ],
     "language": "python",
     "metadata": {},
     "outputs": [],
     "prompt_number": 4
    },
    {
     "cell_type": "code",
     "collapsed": false,
     "input": [
      "study_interventions = {}\n",
      "distinct_interventions = set()\n",
      "for nct_id, intervention_type in interventions:\n",
      "    if nct_id not in study_interventions: study_interventions[nct_id] = set()\n",
      "    if intervention_type not in distinct_interventions: distinct_interventions.add(intervention_type)\n",
      "    study_interventions[nct_id].add(intervention_type)\n",
      "\n",
      "intervention_lookup = {n+1: i for n, i in enumerate(list(distinct_interventions) + ['Unknown'])}\n",
      "intervention_lookup_r = dict([(v, k) for k, v in intervention_lookup.items()])"
     ],
     "language": "python",
     "metadata": {},
     "outputs": [],
     "prompt_number": 5
    },
    {
     "cell_type": "code",
     "collapsed": false,
     "input": [
      "study_sponsors = {nct_id: {'class': agency_class, 'ind': any_industry} for nct_id, agency_class, any_industry in sponsors}\n",
      "distinct_sponsors = {agency_class for nct_id, agency_class, any_industry in sponsors}\n",
      "sponsor_lookup = {n+1: i for n, i in enumerate(list(distinct_sponsors))}\n",
      "sponsor_lookup_r = dict([(v, k) for k, v in sponsor_lookup.items()])"
     ],
     "language": "python",
     "metadata": {},
     "outputs": [],
     "prompt_number": 6
    },
    {
     "cell_type": "code",
     "collapsed": false,
     "input": [
      "study_locations = {}\n",
      "distinct_locations = set()\n",
      "for nct_id, continent in locations:\n",
      "    if nct_id not in study_locations: study_locations[nct_id] = set()\n",
      "    if continent not in distinct_locations: distinct_locations.add(continent)\n",
      "    study_locations[nct_id].add(continent)\n",
      "\n",
      "location_lookup = {n+1: i for n, i in enumerate(list(distinct_locations) + ['Unknown'])}\n",
      "location_lookup_r = dict([(v, k) for k, v in location_lookup.items()])"
     ],
     "language": "python",
     "metadata": {},
     "outputs": [],
     "prompt_number": 7
    },
    {
     "cell_type": "code",
     "collapsed": false,
     "input": [
      "distinct_status = {overall_status for nct_id, overall_status, phase, enrollment, study_year in clinical_study}\n",
      "distinct_phase = {phase for nct_id, overall_status, phase, enrollment, study_year in clinical_study}\n",
      "\n",
      "status_lookup = {n+1: i for n, i in enumerate(list(distinct_status))}\n",
      "status_lookup_r = dict([(v, k) for k, v in status_lookup.items()])\n",
      "phase_lookup = {n+1: i for n, i in enumerate(list(distinct_phase))}\n",
      "phase_lookup_r = dict([(v, k) for k, v in phase_lookup.items()])"
     ],
     "language": "python",
     "metadata": {},
     "outputs": [],
     "prompt_number": 8
    },
    {
     "cell_type": "code",
     "collapsed": false,
     "input": [
      "study_data = []\n",
      "for nct_id, overall_status, phase, enrollment, study_year in clinical_study:\n",
      "    curdata = {\n",
      "        'yr': study_year,\n",
      "        'ph': phase_lookup_r[phase],\n",
      "        'st': status_lookup_r[overall_status],\n",
      "        'sp': sponsor_lookup_r[study_sponsors[nct_id]['class']],\n",
      "        'in': 1 if study_sponsors[nct_id]['ind'] == 'Y' else 0\n",
      "        }\n",
      "    curdata['en'] = enrollment\n",
      "    if nct_id in study_conditions:\n",
      "        curdata['co'] = list(study_conditions[nct_id])\n",
      "    else:\n",
      "        curdata['co'] = [99999]\n",
      "    if nct_id in study_interventions: \n",
      "        curdata['iv'] = [intervention_lookup_r[i] for i in study_interventions[nct_id]]\n",
      "    else:\n",
      "        curdata['iv'] = [intervention_lookup_r['Unknown']]\n",
      "    if nct_id in study_locations:\n",
      "        curdata['lo'] = [location_lookup_r[l] for l in study_locations[nct_id]]\n",
      "    else:\n",
      "        curdata['lo'] = [location_lookup_r['Unknown']]\n",
      "    study_data.append(curdata)"
     ],
     "language": "python",
     "metadata": {},
     "outputs": [],
     "prompt_number": 9
    },
    {
     "cell_type": "markdown",
     "metadata": {},
     "source": [
      "Create MeSH dictionary only for relevant conditions (and those above them in the hierarchy)"
     ]
    },
    {
     "cell_type": "code",
     "collapsed": false,
     "input": [
      "mesh_adds = {\n",
      "    'A': 'Anatomy',\n",
      "    'B': 'Organisms',\n",
      "    'C': 'Diseases',\n",
      "    'D': 'Chemicals and Drugs',\n",
      "    'E': 'Analytical, Diagnostic and Therapeutic Techniques and Equipment',\n",
      "    'F': 'Psychiatry and Psychology',\n",
      "    'G': 'Phenomena and Processes',\n",
      "    'H': 'Disciplines and Occupations',\n",
      "    'I': 'Anthropology, Education, Sociology and Social Phenomena',\n",
      "    'J': 'Technology, Industry, Agriculture',\n",
      "    'K': 'Humanities',\n",
      "    'L': 'Information Science',\n",
      "    'M': 'Named Groups',\n",
      "    'N': 'Health Care',\n",
      "    'V': 'Publication Characteristics',\n",
      "    'Z': 'Geographicals'\n",
      "}\n",
      "maxkey = max(mesh_lookup.keys())\n",
      "for i, v in enumerate(mesh_adds.items()):\n",
      "    mesh_lookup[maxkey + i + 1] = {'id': v[0], 'term': v[1]}\n",
      "\n",
      "mesh_lookup[99999] = {'id': 'U00', 'term': 'Unassigned condition'}\n",
      "\n",
      "mesh_lookup_r = {mesh_lookup[m]['id']: m for m in mesh_lookup.keys()}\n",
      "\n",
      "cond_ids = {mesh_lookup[c]['id'] for c in distinct_conditions}\n",
      "for c in cond_ids:\n",
      "    for i in [1,3,7,11,15,19,23,27,31,35,39,43,47]:\n",
      "        if len(c) >= i and mesh_lookup_r[c[:i]] not in distinct_conditions:\n",
      "            distinct_conditions.add(mesh_lookup_r[c[:i]])\n",
      "\n",
      "distinct_conditions.add(99999)\n",
      "\n",
      "mesh_lookup_succinct = {m: mesh_lookup[m] for m in mesh_lookup if m in distinct_conditions}"
     ],
     "language": "python",
     "metadata": {},
     "outputs": [],
     "prompt_number": 10
    },
    {
     "cell_type": "code",
     "collapsed": false,
     "input": [
      "all_data = {\n",
      "    'studies': study_data,\n",
      "    'mesh': mesh_lookup_succinct,\n",
      "    'interventions': intervention_lookup,\n",
      "    'locations': location_lookup,\n",
      "    'phase': phase_lookup,\n",
      "    'sponsors': sponsor_lookup,\n",
      "    'status': status_lookup\n",
      "}\n",
      "\n",
      "fout = open('all_data.json', 'w')\n",
      "json.dump(all_data, fout, separators=(',',':'))\n",
      "fout.close()"
     ],
     "language": "python",
     "metadata": {},
     "outputs": [],
     "prompt_number": 11
    },
    {
     "cell_type": "code",
     "collapsed": false,
     "input": [],
     "language": "python",
     "metadata": {},
     "outputs": []
    }
   ],
   "metadata": {}
  }
 ]
}