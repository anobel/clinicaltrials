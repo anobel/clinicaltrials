{
 "metadata": {
  "name": "",
  "signature": "sha256:e43fb7a4a707f6e70ac6d86cec642db5685c4e368ec3a48cd7656bff1132c839"
 },
 "nbformat": 3,
 "nbformat_minor": 0,
 "worksheets": [
  {
   "cells": [
    {
     "cell_type": "markdown",
     "metadata": {},
     "source": [
      "#### Load necessary packages and extensions"
     ]
    },
    {
     "cell_type": "code",
     "collapsed": false,
     "input": [
      "%load_ext sql\n",
      "import pandas as pd\n",
      "import json\n",
      "from __future__ import division"
     ],
     "language": "python",
     "metadata": {},
     "outputs": [],
     "prompt_number": 1
    },
    {
     "cell_type": "markdown",
     "metadata": {},
     "source": [
      "#### Get data from database"
     ]
    },
    {
     "cell_type": "code",
     "collapsed": false,
     "input": [
      "# sql connection parameters come from connect.py\n",
      "have_connect = !ls connect.py 2>/dev/null\n",
      "if len(have_connect) == 0:\n",
      "    !mv ../connect.py .\n",
      "from connect import *\n",
      "\n",
      "get_ipython().magic('sql mysql://' + mysqlusername + ':' + mysqlpassword + '@' + mysqlserver + ':3306/' + mysqldbname)\n",
      "conditions = %sql select nct_id, mesh_term from condition_browse \n",
      "interventions = %sql select nct_id, intervention_type from interventions_complex_mod\n",
      "intervention_full = %sql select nct_id, mesh_term from intervention_browse\n",
      "mesh_lookup = %sql select mesh_id, mesh_term from mesh_thesaurus\n",
      "studies = %sql select nct_id, enrollment, case when start_date != '' then year(start_date_dt) end start_year from clinical_study"
     ],
     "language": "python",
     "metadata": {},
     "outputs": [
      {
       "output_type": "stream",
       "stream": "stdout",
       "text": [
        "309589 rows affected.\n",
        "132906 rows affected."
       ]
      },
      {
       "output_type": "stream",
       "stream": "stdout",
       "text": [
        "\n",
        "168030 rows affected."
       ]
      },
      {
       "output_type": "stream",
       "stream": "stdout",
       "text": [
        "\n",
        "54935 rows affected."
       ]
      },
      {
       "output_type": "stream",
       "stream": "stdout",
       "text": [
        "\n",
        "152611 rows affected."
       ]
      },
      {
       "output_type": "stream",
       "stream": "stdout",
       "text": [
        "\n"
       ]
      }
     ],
     "prompt_number": 2
    },
    {
     "cell_type": "markdown",
     "metadata": {},
     "source": [
      "#### Transform data into JSON objects for use by JavaScript code"
     ]
    },
    {
     "cell_type": "code",
     "collapsed": false,
     "input": [
      "mesh_ids = {}\n",
      "for mesh_id, mesh_term in mesh_lookup:\n",
      "    if mesh_term not in mesh_ids: mesh_ids[mesh_term] = set()\n",
      "    mesh_ids[mesh_term].add(mesh_id)"
     ],
     "language": "python",
     "metadata": {},
     "outputs": [],
     "prompt_number": 4
    },
    {
     "cell_type": "code",
     "collapsed": false,
     "input": [
      "study_conditions = {}\n",
      "for nct_id, mesh_term in conditions:\n",
      "    if nct_id not in study_conditions: study_conditions[nct_id] = set()\n",
      "    for t in mesh_ids[mesh_term]:\n",
      "        study_conditions[nct_id].add(t)"
     ],
     "language": "python",
     "metadata": {},
     "outputs": [],
     "prompt_number": 20
    },
    {
     "cell_type": "code",
     "collapsed": false,
     "input": [
      "study_interventions = {}\n",
      "for nct_id, mesh_term in intervention_full:\n",
      "    if nct_id not in study_interventions: study_interventions[nct_id] = set()\n",
      "    if mesh_term in mesh_ids:\n",
      "        for t in mesh_ids[mesh_term]:\n",
      "            study_interventions[nct_id].add(t)\n",
      "        else:\n",
      "            study_interventions[nct_id].add('U')"
     ],
     "language": "python",
     "metadata": {},
     "outputs": [],
     "prompt_number": 17
    },
    {
     "cell_type": "code",
     "collapsed": false,
     "input": [
      "study_intervention_summary = {nct_id: intervention_type for nct_id, intervention_type in interventions}"
     ],
     "language": "python",
     "metadata": {},
     "outputs": [],
     "prompt_number": 11
    },
    {
     "cell_type": "code",
     "collapsed": false,
     "input": [
      "study_data = {}\n",
      "for nct_id, enrollment, year in studies:\n",
      "    short_id = int(nct_id[3:])\n",
      "    study_data[short_id] = {}\n",
      "    if enrollment > 0: study_data[short_id]['enr'] = enrollment\n",
      "    if year: study_data[short_id]['yr'] = year\n",
      "    if nct_id in study_intervention_summary: study_data[short_id]['iv'] = study_intervention_summary[nct_id]\n",
      "    if nct_id in study_conditions: study_data[short_id]['cond'] = list(study_conditions[nct_id])\n",
      "\n",
      "fout = open('studies.json', 'w')\n",
      "json.dump(study_data, fout, separators=(',',':'))\n",
      "fout.close()"
     ],
     "language": "python",
     "metadata": {},
     "outputs": [],
     "prompt_number": 25
    },
    {
     "cell_type": "code",
     "collapsed": false,
     "input": [
      "mesh_dict = {\n",
      "    'A': 'Anatomy',\n",
      "    'B': 'Organisms',\n",
      "    'C': 'Diseases',\n",
      "    'D': 'Chemicals and Drugs',\n",
      "    'E': 'Analytical, Diagnostic and Therapeutic Techniques and Equipment',\n",
      "    'F': 'Psychiatry and Psychology',\n",
      "    'G': 'Phenomena and Processes',\n",
      "    'H': 'Disciplines and Occupations',\n",
      "    'I': 'Anthropology, Education, Sociology and Social Phenomena',\n",
      "    'J': 'Technology, Industry, Agriculture',\n",
      "    'K': 'Humanities',\n",
      "    'L': 'Information Science',\n",
      "    'M': 'Named Groups',\n",
      "    'N': 'Health Care',\n",
      "    'U': 'Unknown Intervention',\n",
      "    'V': 'Publication Characteristics',\n",
      "    'Z': 'Geographicals'\n",
      "}\n",
      "mesh_exist = {c for s in study_data.keys() if 'cond' in study_data[s] for c in study_data[s]['cond']}\n",
      "for mesh_id, mesh_term in mesh_lookup:\n",
      "    if mesh_id in mesh_exist: mesh_dict[mesh_id] = mesh_term\n",
      "\n",
      "fout = open('mesh.json', 'w')\n",
      "json.dump(mesh_dict, fout)\n",
      "fout.close()"
     ],
     "language": "python",
     "metadata": {},
     "outputs": [],
     "prompt_number": 63
    },
    {
     "cell_type": "code",
     "collapsed": false,
     "input": [
      "study_data.values()[:5]"
     ],
     "language": "python",
     "metadata": {},
     "outputs": [
      {
       "metadata": {},
       "output_type": "pyout",
       "prompt_number": 67,
       "text": [
        "[{'cond': ['C18.452.394.750',\n",
        "   'C19.246',\n",
        "   'E01.370.600.115.100.160.120.699',\n",
        "   'C23.888.144.699',\n",
        "   'G07.100.100.160.120.699'],\n",
        "  'enr': 20L,\n",
        "  'iv': 'Drug',\n",
        "  'yr': 2005L},\n",
        " {'cond': ['C01.252.400.560.022'], 'enr': 100L, 'yr': 2009L},\n",
        " {'cond': ['C10.228.854.770', 'C26.819', 'C10.900.850'],\n",
        "  'enr': 70L,\n",
        "  'yr': 2007L},\n",
        " {'cond': ['C06.405.249.411.307.180',\n",
        "   'C06.301.371.411.307.180',\n",
        "   'C06.405.469.158.356.180',\n",
        "   'C04.588.274.476.411.307.180',\n",
        "   'C06.405.469.491.307.180'],\n",
        "  'enr': 10L,\n",
        "  'iv': 'Drug',\n",
        "  'yr': 2009L},\n",
        " {'cond': ['C23.888.646.215.500', 'C14.907.585.187', 'C14.280.647.187'],\n",
        "  'enr': 108L,\n",
        "  'iv': 'Procedure',\n",
        "  'yr': 2004L}]"
       ]
      }
     ],
     "prompt_number": 67
    },
    {
     "cell_type": "code",
     "collapsed": false,
     "input": [
      "[set([v[0] for v in f['cond']]) for f in study_data.values() if 'cond' in f][:10]"
     ],
     "language": "python",
     "metadata": {},
     "outputs": [
      {
       "metadata": {},
       "output_type": "pyout",
       "prompt_number": 69,
       "text": [
        "[{'C', 'E', 'G'},\n",
        " {'C'},\n",
        " {'C'},\n",
        " {'C'},\n",
        " {'C'},\n",
        " {'C'},\n",
        " {'C'},\n",
        " {'F'},\n",
        " {'C'},\n",
        " {'C'}]"
       ]
      }
     ],
     "prompt_number": 69
    },
    {
     "cell_type": "code",
     "collapsed": false,
     "input": [],
     "language": "python",
     "metadata": {},
     "outputs": []
    }
   ],
   "metadata": {}
  }
 ]
}